{
 "cells": [
  {
   "cell_type": "code",
   "execution_count": 4,
   "metadata": {},
   "outputs": [],
   "source": [
    "#Jaderná elektrárna Dukovany(두코바니 원자력 발전소)\n",
    "\n",
    "#https://search.seznam.cz/clanky/?q=Jadern%C3%A1%20elektr%C3%A1rna%20Dukovany\n",
    "#리눅스 환경에서 코드 실행 중"
   ]
  },
  {
   "cell_type": "code",
   "execution_count": null,
   "metadata": {},
   "outputs": [
    {
     "name": "stdout",
     "output_type": "stream",
     "text": [
      "🔍 검색 중: 두코바니 원전 (2022.01.01 ~ 2022.03.31)\n",
      "✅ 198개의 뉴스 기사 링크 및 날짜를 수집 완료! (2022.01.01 ~ 2022.03.31)\n"
     ]
    },
    {
     "name": "stderr",
     "output_type": "stream",
     "text": [
      "📰 뉴스 본문 크롤링 진행:   0%|          | 0/198 [00:00<?, ?it/s]"
     ]
    },
    {
     "name": "stdout",
     "output_type": "stream",
     "text": [
      "⚠ 본문을 가져오지 못해 Selenium으로 재시도: http://www.edaily.co.kr/news/newspath.asp?newsid=02273046632268896\n",
      "✅ 크롤링 완료: 산업부, 체코와의 공동 원자력 연구사업에 12억원 지원...\n"
     ]
    },
    {
     "name": "stderr",
     "output_type": "stream",
     "text": [
      "📰 뉴스 본문 크롤링 진행:   1%|          | 1/198 [00:06<20:15,  6.17s/it]"
     ]
    },
    {
     "name": "stdout",
     "output_type": "stream",
     "text": [
      "⚠ 본문을 가져오지 못해 Selenium으로 재시도: http://www.edaily.co.kr/news/newspath.asp?newsid=03863846632268896\n",
      "✅ 크롤링 완료: 체코 원전사업 수주 ‘드림팀’ 띄우나…인수위, 윤석열 당선인에 보고...\n"
     ]
    },
    {
     "name": "stderr",
     "output_type": "stream",
     "text": [
      "📰 뉴스 본문 크롤링 진행:   1%|          | 2/198 [00:11<18:21,  5.62s/it]"
     ]
    },
    {
     "name": "stdout",
     "output_type": "stream",
     "text": [
      "✅ 크롤링 완료: 탈원전 폐기 본격화…산업부, 인수위에 원전정책 재정립 보고...\n"
     ]
    },
    {
     "name": "stderr",
     "output_type": "stream",
     "text": [
      "📰 뉴스 본문 크롤링 진행:   2%|▏         | 3/198 [00:12<12:08,  3.73s/it]"
     ]
    },
    {
     "name": "stdout",
     "output_type": "stream",
     "text": [
      "⚠ 본문을 가져오지 못해 Selenium으로 재시도: http://www.fnnews.com/news/202203231435028488\n",
      "✅ 크롤링 완료: 8조 체코원전 본입찰...양국 핵심인사 교차방문 '원전 2호 수출 가속페......\n"
     ]
    },
    {
     "name": "stderr",
     "output_type": "stream",
     "text": [
      "📰 뉴스 본문 크롤링 진행:   2%|▏         | 4/198 [00:20<17:11,  5.32s/it]"
     ]
    },
    {
     "name": "stdout",
     "output_type": "stream",
     "text": [
      "⚠ 본문을 가져오지 못해 Selenium으로 재시도: http://www.mbn.co.kr/pages/news/newsView.php?news_seq_no=4724094\n",
      "✅ 크롤링 완료: '원전 부흥' 약속이 수출로 이어질까?…8조 체코 원전 수주전...\n"
     ]
    },
    {
     "name": "stderr",
     "output_type": "stream",
     "text": [
      "📰 뉴스 본문 크롤링 진행:   3%|▎         | 5/198 [00:27<19:13,  5.98s/it]"
     ]
    },
    {
     "name": "stdout",
     "output_type": "stream",
     "text": [
      "⚠ 본문을 가져오지 못해 Selenium으로 재시도: http://www.munhwa.com/news/view.html?no=2022032801032603017003\n",
      "✅ 크롤링 완료: ‘원전강국 재도약’… 8조원대 체코사업 수주 총력전...\n"
     ]
    },
    {
     "name": "stderr",
     "output_type": "stream",
     "text": [
      "📰 뉴스 본문 크롤링 진행:   3%|▎         | 6/198 [00:33<18:48,  5.88s/it]"
     ]
    },
    {
     "name": "stdout",
     "output_type": "stream",
     "text": [
      "⚠ 본문을 가져오지 못해 Selenium으로 재시도: https://www.dailian.co.kr/news/view/1096677/?sc=Naver\n",
      "✅ 크롤링 완료: 탈원전에 칼 댔다…산업부, 인수위에 '원전 활용방안' 보고...\n"
     ]
    },
    {
     "name": "stderr",
     "output_type": "stream",
     "text": [
      "📰 뉴스 본문 크롤링 진행:   4%|▎         | 7/198 [00:39<18:29,  5.81s/it]"
     ]
    },
    {
     "name": "stdout",
     "output_type": "stream",
     "text": [
      "✅ 크롤링 완료: 원전 수출 재개하나…한수원, 체코 신규원전 입찰 참여...\n"
     ]
    },
    {
     "name": "stderr",
     "output_type": "stream",
     "text": [
      "📰 뉴스 본문 크롤링 진행:   4%|▍         | 8/198 [00:40<13:37,  4.30s/it]"
     ]
    },
    {
     "name": "stdout",
     "output_type": "stream",
     "text": [
      "✅ 크롤링 완료: 원전 품은 K택소노미…힘 받는 尹 '탄소중립'...\n"
     ]
    },
    {
     "name": "stderr",
     "output_type": "stream",
     "text": [
      "📰 뉴스 본문 크롤링 진행:   5%|▍         | 9/198 [00:41<10:41,  3.39s/it]"
     ]
    },
    {
     "name": "stdout",
     "output_type": "stream",
     "text": [
      "⚠ 본문을 가져오지 못해 Selenium으로 재시도: https://zdnet.co.kr/view/?no=20220321011429\n"
     ]
    },
    {
     "name": "stderr",
     "output_type": "stream",
     "text": [
      "📰 뉴스 본문 크롤링 진행:   5%|▌         | 10/198 [02:41<2:03:34, 39.44s/it]"
     ]
    },
    {
     "name": "stdout",
     "output_type": "stream",
     "text": [
      "⚠ 오류 발생 (뉴스 크롤링 실패): https://zdnet.co.kr/view/?no=20220321011429, 오류: HTTPConnectionPool(host='localhost', port=36527): Read timed out. (read timeout=120)\n",
      "⚠ 본문을 가져오지 못해 Selenium으로 재시도: http://news.mk.co.kr/newsRead.php?no=265615&year=2022\n",
      "✅ 크롤링 완료: [단독] 산업부, 尹에 원전 수명연장 보고…'원전 회귀' 신호탄...\n"
     ]
    },
    {
     "name": "stderr",
     "output_type": "stream",
     "text": [
      "📰 뉴스 본문 크롤링 진행:   6%|▌         | 11/198 [03:04<1:46:39, 34.22s/it]"
     ]
    },
    {
     "name": "stdout",
     "output_type": "stream",
     "text": [
      "⚠ 본문을 가져오지 못해 Selenium으로 재시도: https://www.wowtv.co.kr/NewsCenter/News/Read?articleId=A202203160112&t=NNv\n"
     ]
    },
    {
     "name": "stderr",
     "output_type": "stream",
     "text": [
      "📰 뉴스 본문 크롤링 진행:   6%|▌         | 12/198 [05:05<3:08:12, 60.71s/it]"
     ]
    },
    {
     "name": "stdout",
     "output_type": "stream",
     "text": [
      "⚠ 오류 발생 (뉴스 크롤링 실패): https://www.wowtv.co.kr/NewsCenter/News/Read?articleId=A202203160112&t=NNv, 오류: HTTPConnectionPool(host='localhost', port=36527): Read timed out. (read timeout=120)\n",
      "✅ 크롤링 완료: 숨죽였던 탈원전 5년, 부활 기지개 켜는 원전업계[뒷북경제]...\n"
     ]
    },
    {
     "name": "stderr",
     "output_type": "stream",
     "text": [
      "📰 뉴스 본문 크롤링 진행:   7%|▋         | 13/198 [05:06<2:11:44, 42.73s/it]"
     ]
    },
    {
     "name": "stdout",
     "output_type": "stream",
     "text": [
      "⚠ 본문을 가져오지 못해 Selenium으로 재시도: http://www.munhwa.com/news/view.html?no=2022032501073711000002\n",
      "✅ 크롤링 완료: <문화논단>원전 일류國 복귀와 ‘연구기금’ 창설...\n"
     ]
    },
    {
     "name": "stderr",
     "output_type": "stream",
     "text": [
      "📰 뉴스 본문 크롤링 진행:   7%|▋         | 14/198 [05:25<1:48:38, 35.43s/it]"
     ]
    },
    {
     "name": "stdout",
     "output_type": "stream",
     "text": [
      "✅ 크롤링 완료: 정재훈 한수원 사장, 7번 체코行…'8조원 잭팟' 원전수주 총력...\n"
     ]
    },
    {
     "name": "stderr",
     "output_type": "stream",
     "text": [
      "📰 뉴스 본문 크롤링 진행:   8%|▊         | 15/198 [05:26<1:16:46, 25.17s/it]"
     ]
    },
    {
     "name": "stdout",
     "output_type": "stream",
     "text": [
      "⚠ 본문을 가져오지 못해 Selenium으로 재시도: https://www.chosun.com/economy/industry-company/2022/03/14/KYGE7QAMBZHKDLX7UYHD4F6YZ4/?utm_source=naver&utm_medium=referral&utm_campaign=naver-news\n",
      "✅ 크롤링 완료: 10년 넘게 원전 수출 ‘제로’… 尹 “2030년까지 10기 팔겠다”...\n"
     ]
    },
    {
     "name": "stderr",
     "output_type": "stream",
     "text": [
      "📰 뉴스 본문 크롤링 진행:   8%|▊         | 16/198 [05:34<1:00:07, 19.82s/it]"
     ]
    },
    {
     "name": "stdout",
     "output_type": "stream",
     "text": [
      "⚠ 본문을 가져오지 못해 Selenium으로 재시도: https://www.businesspost.co.kr/BP?command=article_view&num=275196\n",
      "✅ 크롤링 완료: [오늘Who] 대우건설 원전 호재, 백정완 체코원전과 소형모듈원전 기대...\n"
     ]
    },
    {
     "name": "stderr",
     "output_type": "stream",
     "text": [
      "📰 뉴스 본문 크롤링 진행:   9%|▊         | 17/198 [05:39<46:35, 15.45s/it]  "
     ]
    },
    {
     "name": "stdout",
     "output_type": "stream",
     "text": [
      "⚠ 본문을 가져오지 못해 Selenium으로 재시도: http://www.g-enews.com/ko-kr/news/article/news_all/2022032517333656825df15c1126_1/article.html\n",
      "✅ 크롤링 완료: 한수원, 체코 두코바니 원전 건설 65억 유로 제안 수용...\n"
     ]
    },
    {
     "name": "stderr",
     "output_type": "stream",
     "text": [
      "📰 뉴스 본문 크롤링 진행:   9%|▉         | 18/198 [05:44<37:22, 12.46s/it]"
     ]
    },
    {
     "name": "stdout",
     "output_type": "stream",
     "text": [
      "✅ 크롤링 완료: 한수원, '8조원 규모' 체코 원전사업 수주 총력...\n"
     ]
    },
    {
     "name": "stderr",
     "output_type": "stream",
     "text": [
      "📰 뉴스 본문 크롤링 진행:  10%|▉         | 19/198 [05:46<27:16,  9.14s/it]"
     ]
    },
    {
     "name": "stdout",
     "output_type": "stream",
     "text": [
      "✅ 크롤링 완료: 에너지 독립 외치는 유럽…'원전 유턴' 속도낸다...\n"
     ]
    },
    {
     "name": "stderr",
     "output_type": "stream",
     "text": [
      "📰 뉴스 본문 크롤링 진행:  10%|█         | 20/198 [05:50<22:55,  7.73s/it]"
     ]
    },
    {
     "name": "stdout",
     "output_type": "stream",
     "text": [
      "✅ 크롤링 완료: 한수원, 8조원 규모 체코 신규원전 수주 총력… 미·프랑스와 경쟁...\n"
     ]
    },
    {
     "name": "stderr",
     "output_type": "stream",
     "text": [
      "📰 뉴스 본문 크롤링 진행:  11%|█         | 21/198 [05:52<17:06,  5.80s/it]"
     ]
    },
    {
     "name": "stdout",
     "output_type": "stream",
     "text": [
      "⚠ 본문을 가져오지 못해 Selenium으로 재시도: http://www.breaknews.com/881326\n",
      "✅ 크롤링 완료: 한수원, 체코 신규 원전사업 수주에 총력전 펼쳐...\n"
     ]
    },
    {
     "name": "stderr",
     "output_type": "stream",
     "text": [
      "📰 뉴스 본문 크롤링 진행:  11%|█         | 22/198 [06:00<18:57,  6.46s/it]"
     ]
    },
    {
     "name": "stdout",
     "output_type": "stream",
     "text": [
      "⚠ 본문을 가져오지 못해 Selenium으로 재시도: http://www.edaily.co.kr/news/newspath.asp?newsid=01357926632263648\n",
      "✅ 크롤링 완료: “원전 투자, 중장기 모멘텀 현실화 시점까지 중장기 접근”...\n"
     ]
    },
    {
     "name": "stderr",
     "output_type": "stream",
     "text": [
      "📰 뉴스 본문 크롤링 진행:  12%|█▏        | 23/198 [06:06<18:26,  6.32s/it]"
     ]
    },
    {
     "name": "stdout",
     "output_type": "stream",
     "text": [
      "✅ 크롤링 완료: '한·미·프 3국에만 러브콜'···尹 브레인이 꼽은 8조 원전대전 '개막......\n"
     ]
    },
    {
     "name": "stderr",
     "output_type": "stream",
     "text": [
      "📰 뉴스 본문 크롤링 진행:  12%|█▏        | 24/198 [06:07<14:10,  4.89s/it]"
     ]
    },
    {
     "name": "stdout",
     "output_type": "stream",
     "text": [
      "⚠ 본문을 가져오지 못해 Selenium으로 재시도: http://www.breaknews.com/879851\n",
      "✅ 크롤링 완료: 한수원, 체코 신규원전사업 수주에 총력...\n"
     ]
    },
    {
     "name": "stderr",
     "output_type": "stream",
     "text": [
      "📰 뉴스 본문 크롤링 진행:  13%|█▎        | 25/198 [06:14<15:49,  5.49s/it]"
     ]
    },
    {
     "name": "stdout",
     "output_type": "stream",
     "text": [
      "✅ 크롤링 완료: [특징주] 한신기계, 콤프레샤 원천기술 보유…한수원 체코 원전 본입찰......\n"
     ]
    },
    {
     "name": "stderr",
     "output_type": "stream",
     "text": [
      "📰 뉴스 본문 크롤링 진행:  13%|█▎        | 26/198 [06:15<12:04,  4.21s/it]"
     ]
    },
    {
     "name": "stdout",
     "output_type": "stream",
     "text": [
      "✅ 크롤링 완료: 한수원, '체코 신규원전 입찰 개시' 수주 총력...\n"
     ]
    },
    {
     "name": "stderr",
     "output_type": "stream",
     "text": [
      "📰 뉴스 본문 크롤링 진행:  14%|█▎        | 27/198 [06:17<09:28,  3.32s/it]"
     ]
    },
    {
     "name": "stdout",
     "output_type": "stream",
     "text": [
      "⚠ 본문을 가져오지 못해 Selenium으로 재시도: http://www.ksmnews.co.kr/default/index_view_page.php?idx=371864&part_idx=295\n",
      "✅ 크롤링 완료: 체코 신규 원전사업 입찰 개시…한수원 ‘사업수주’ 총력...\n"
     ]
    },
    {
     "name": "stderr",
     "output_type": "stream",
     "text": [
      "📰 뉴스 본문 크롤링 진행:  14%|█▍        | 28/198 [06:22<11:20,  4.01s/it]"
     ]
    },
    {
     "name": "stdout",
     "output_type": "stream",
     "text": [
      "✅ 크롤링 완료: 외교부, 신규원전 입찰 개시한 체코에 국내 기업 참여 관심 당부...\n"
     ]
    },
    {
     "name": "stderr",
     "output_type": "stream",
     "text": [
      "📰 뉴스 본문 크롤링 진행:  15%|█▍        | 29/198 [06:24<09:15,  3.29s/it]"
     ]
    },
    {
     "name": "stdout",
     "output_type": "stream",
     "text": [
      "⚠ 본문을 가져오지 못해 Selenium으로 재시도: https://www.theguru.co.kr/news/article.html?no=32540\n",
      "✅ 크롤링 완료: [여의옥] 체코, '8조' 두코바니 원전 입찰 막 오른다…윤석열 당선인 기......\n"
     ]
    },
    {
     "name": "stderr",
     "output_type": "stream",
     "text": [
      "📰 뉴스 본문 크롤링 진행:  15%|█▌        | 30/198 [06:29<10:55,  3.90s/it]"
     ]
    },
    {
     "name": "stdout",
     "output_type": "stream",
     "text": [
      "⚠ 본문을 가져오지 못해 Selenium으로 재시도: http://www.mediapen.com/news/view/709515\n",
      "✅ 크롤링 완료: 한수원, 원전·수소 앞세워 한전 '하드캐리' 강화...\n"
     ]
    },
    {
     "name": "stderr",
     "output_type": "stream",
     "text": [
      "📰 뉴스 본문 크롤링 진행:  16%|█▌        | 31/198 [06:34<12:07,  4.36s/it]"
     ]
    },
    {
     "name": "stdout",
     "output_type": "stream",
     "text": [
      "⚠ 본문을 가져오지 못해 Selenium으로 재시도: https://www.radiokorea.com/news/article.php?uid=384204\n",
      "✅ 크롤링 완료: 유럽, 에너지 위기속에 원전 활용으로 회귀 현상...\n"
     ]
    },
    {
     "name": "stderr",
     "output_type": "stream",
     "text": [
      "📰 뉴스 본문 크롤링 진행:  16%|█▌        | 32/198 [07:07<35:22, 12.78s/it]"
     ]
    },
    {
     "name": "stdout",
     "output_type": "stream",
     "text": [
      "⚠ 본문을 가져오지 못해 Selenium으로 재시도: https://www.theguru.co.kr/news/article.html?no=32155\n",
      "✅ 크롤링 완료: \"경제성 분석 생략\" 체코 환경단체 반발…두코바니 원전 발목...\n"
     ]
    },
    {
     "name": "stderr",
     "output_type": "stream",
     "text": [
      "📰 뉴스 본문 크롤링 진행:  17%|█▋        | 33/198 [07:11<28:14, 10.27s/it]"
     ]
    },
    {
     "name": "stdout",
     "output_type": "stream",
     "text": [
      "⚠ 본문을 가져오지 못해 Selenium으로 재시도: https://www.theguru.co.kr/news/article.html?no=31857\n",
      "✅ 크롤링 완료: 체코, 두코바니 원전 입찰 준비 순항…2024년 후보 평가 완료...\n"
     ]
    },
    {
     "name": "stderr",
     "output_type": "stream",
     "text": [
      "📰 뉴스 본문 크롤링 진행:  17%|█▋        | 34/198 [07:15<23:02,  8.43s/it]"
     ]
    },
    {
     "name": "stdout",
     "output_type": "stream",
     "text": [
      "⚠ 본문을 가져오지 못해 Selenium으로 재시도: https://www.theguru.co.kr/news/article.html?no=31193\n",
      "✅ 크롤링 완료: 체코 총리 \"두코바니 원전 입찰 곧 개시\"...\n"
     ]
    },
    {
     "name": "stderr",
     "output_type": "stream",
     "text": [
      "📰 뉴스 본문 크롤링 진행:  18%|█▊        | 35/198 [07:20<19:21,  7.13s/it]"
     ]
    },
    {
     "name": "stdout",
     "output_type": "stream",
     "text": [
      "✅ 크롤링 완료: 체코, 원자력·신재생E 확대...\n"
     ]
    },
    {
     "name": "stderr",
     "output_type": "stream",
     "text": [
      "📰 뉴스 본문 크롤링 진행:  18%|█▊        | 36/198 [07:21<14:45,  5.46s/it]"
     ]
    },
    {
     "name": "stdout",
     "output_type": "stream",
     "text": [
      "⚠ 본문을 가져오지 못해 Selenium으로 재시도: https://biz.chosun.com/stock/stock_general/2022/02/28/CAIMHUHEUZBEXBZXE5WHWUIZAA/?utm_source=naver&utm_medium=original&utm_campaign=biz\n",
      "✅ 크롤링 완료: 文대통령 “원전이 주력” 한마디에 시간 외 시총 1조 오른 원전주…증......\n"
     ]
    },
    {
     "name": "stderr",
     "output_type": "stream",
     "text": [
      "📰 뉴스 본문 크롤링 진행:  19%|█▊        | 37/198 [07:28<15:36,  5.82s/it]"
     ]
    },
    {
     "name": "stdout",
     "output_type": "stream",
     "text": [
      "⚠ 본문을 가져오지 못해 Selenium으로 재시도: https://www.theguru.co.kr/news/article.html?no=31482\n",
      "✅ 크롤링 완료: 佛 \"원전 수주하면…체코, 프랑스 발전시장 진출 보장\"…한수원 예의주......\n"
     ]
    },
    {
     "name": "stderr",
     "output_type": "stream",
     "text": [
      "📰 뉴스 본문 크롤링 진행:  19%|█▉        | 38/198 [07:32<14:17,  5.36s/it]"
     ]
    },
    {
     "name": "stdout",
     "output_type": "stream",
     "text": [
      "✅ 크롤링 완료: [에너지공기업의 무한변신ㅣ한국수력원자력]원전·신재생 해외 진출…한......\n"
     ]
    },
    {
     "name": "stderr",
     "output_type": "stream",
     "text": [
      "📰 뉴스 본문 크롤링 진행:  20%|█▉        | 39/198 [07:33<11:03,  4.17s/it]"
     ]
    },
    {
     "name": "stdout",
     "output_type": "stream",
     "text": [
      "⚠ 본문을 가져오지 못해 Selenium으로 재시도: http://www.mediapen.com/news/view/700125\n",
      "✅ 크롤링 완료: [원전 르네상스②]탈원전 딛고 동유럽·중동서 수출 축포 쏠까...\n"
     ]
    },
    {
     "name": "stderr",
     "output_type": "stream",
     "text": [
      "📰 뉴스 본문 크롤링 진행:  20%|██        | 40/198 [07:38<11:32,  4.38s/it]"
     ]
    },
    {
     "name": "stdout",
     "output_type": "stream",
     "text": [
      "⚠ 본문을 가져오지 못해 Selenium으로 재시도: https://www.theguru.co.kr/news/article.html?no=30386\n",
      "✅ 크롤링 완료: 웨스팅하우스, 체코 원전 수주전 보폭 확대…현지 기업 7곳 양해각서...\n"
     ]
    },
    {
     "name": "stderr",
     "output_type": "stream",
     "text": [
      "📰 뉴스 본문 크롤링 진행:  21%|██        | 41/198 [07:43<11:18,  4.32s/it]"
     ]
    },
    {
     "name": "stdout",
     "output_type": "stream",
     "text": [
      "⚠ 본문을 가져오지 못해 Selenium으로 재시도: http://www.fnnews.com/news/202202041048500986\n",
      "✅ 크롤링 완료: '수출1호' UAE원전 전체 준공 눈앞...'원전 건설에서 운영' 중심 이동...\n"
     ]
    },
    {
     "name": "stderr",
     "output_type": "stream",
     "text": [
      "📰 뉴스 본문 크롤링 진행:  21%|██        | 42/198 [07:50<13:18,  5.12s/it]"
     ]
    },
    {
     "name": "stdout",
     "output_type": "stream",
     "text": [
      "✅ 크롤링 완료: 탈원전 5년간, 해외 수주 ‘0′…이집트 원전이 구세주 될까?...\n"
     ]
    },
    {
     "name": "stderr",
     "output_type": "stream",
     "text": [
      "📰 뉴스 본문 크롤링 진행:  22%|██▏       | 43/198 [07:51<10:20,  4.00s/it]"
     ]
    },
    {
     "name": "stdout",
     "output_type": "stream",
     "text": [
      "✅ 크롤링 완료: 전세계 원전 432기 건설 추진, ‘팀코리아’ 수주 총력전...\n"
     ]
    },
    {
     "name": "stderr",
     "output_type": "stream",
     "text": [
      "📰 뉴스 본문 크롤링 진행:  22%|██▏       | 44/198 [07:52<08:08,  3.17s/it]"
     ]
    },
    {
     "name": "stdout",
     "output_type": "stream",
     "text": [
      "✅ 크롤링 완료: 산업장관 \"사우디 원전 수주 재개 대비…체코·폴란드도 진행\"...\n"
     ]
    },
    {
     "name": "stderr",
     "output_type": "stream",
     "text": [
      "📰 뉴스 본문 크롤링 진행:  23%|██▎       | 45/198 [07:54<06:52,  2.70s/it]"
     ]
    },
    {
     "name": "stdout",
     "output_type": "stream",
     "text": [
      "✅ 크롤링 완료: (원전수출 진단①) 한미 해외원전 진출 선언 이후…시장은 ‘각자도생’...\n"
     ]
    },
    {
     "name": "stderr",
     "output_type": "stream",
     "text": [
      "📰 뉴스 본문 크롤링 진행:  23%|██▎       | 46/198 [07:55<05:56,  2.35s/it]"
     ]
    },
    {
     "name": "stdout",
     "output_type": "stream",
     "text": [
      "⚠ 본문을 가져오지 못해 Selenium으로 재시도: https://www.theguru.co.kr/news/article.html?no=31153\n",
      "✅ 크롤링 완료: 한수원·웨스팅하우스 체코서 세 불린다…프랑스 EDF도 사무소 신설...\n"
     ]
    },
    {
     "name": "stderr",
     "output_type": "stream",
     "text": [
      "📰 뉴스 본문 크롤링 진행:  24%|██▎       | 47/198 [07:59<07:17,  2.90s/it]"
     ]
    },
    {
     "name": "stdout",
     "output_type": "stream",
     "text": [
      "⚠ 본문을 가져오지 못해 Selenium으로 재시도: http://dream.kotra.or.kr/kotranews/cms/news/actionKotraBoardDetail.do?SITE_NO=3&MENU_ID=410&CONTENTS_NO=1&bbsGbn=242&bbsSn=242&pNttSn=193341\n",
      "✅ 크롤링 완료: 체코 신임 정부 정책방향 및 전망...\n"
     ]
    },
    {
     "name": "stderr",
     "output_type": "stream",
     "text": [
      "📰 뉴스 본문 크롤링 진행:  24%|██▍       | 48/198 [08:04<08:28,  3.39s/it]"
     ]
    },
    {
     "name": "stdout",
     "output_type": "stream",
     "text": [
      "⚠ 본문을 가져오지 못해 Selenium으로 재시도: https://premium.mk.co.kr/view.php?no=31676\n",
      "✅ 크롤링 완료: 매경이 전하는 세상의 지식 (매-세-지, 3월 24일)...\n"
     ]
    },
    {
     "name": "stderr",
     "output_type": "stream",
     "text": [
      "📰 뉴스 본문 크롤링 진행:  25%|██▍       | 49/198 [08:08<08:57,  3.60s/it]"
     ]
    },
    {
     "name": "stdout",
     "output_type": "stream",
     "text": [
      "✅ 크롤링 완료: ‘EU 택소노미’에 원전업계 기회 될까…눈여겨 볼 기업 어디...\n"
     ]
    },
    {
     "name": "stderr",
     "output_type": "stream",
     "text": [
      "📰 뉴스 본문 크롤링 진행:  25%|██▌       | 50/198 [08:09<07:14,  2.93s/it]"
     ]
    },
    {
     "name": "stdout",
     "output_type": "stream",
     "text": [
      "✅ 크롤링 완료: 체코 원전 수주전 미국쪽으로 기우나...\n"
     ]
    },
    {
     "name": "stderr",
     "output_type": "stream",
     "text": [
      "📰 뉴스 본문 크롤링 진행:  26%|██▌       | 51/198 [08:11<06:11,  2.53s/it]"
     ]
    },
    {
     "name": "stdout",
     "output_type": "stream",
     "text": [
      "✅ 크롤링 완료: [공기업, 미래 대전환]\"원전 활로, 수출로 뚫는다\"…한수원, 올해 '조 단......\n"
     ]
    },
    {
     "name": "stderr",
     "output_type": "stream",
     "text": [
      "📰 뉴스 본문 크롤링 진행:  26%|██▋       | 52/198 [08:12<05:20,  2.19s/it]"
     ]
    },
    {
     "name": "stdout",
     "output_type": "stream",
     "text": [
      "⚠ 본문을 가져오지 못해 Selenium으로 재시도: https://www.businesspost.co.kr/BP?command=article_view&num=273174\n",
      "✅ 크롤링 완료: [Who Is ?] 박병석 국회의장...\n"
     ]
    },
    {
     "name": "stderr",
     "output_type": "stream",
     "text": [
      "📰 뉴스 본문 크롤링 진행:  27%|██▋       | 53/198 [08:17<06:41,  2.77s/it]"
     ]
    },
    {
     "name": "stdout",
     "output_type": "stream",
     "text": [
      "⚠ 본문을 가져오지 못해 Selenium으로 재시도: https://www.businesspost.co.kr/BP?command=article_view&num=271044\n",
      "✅ 크롤링 완료: [데스크리포트] 2월 기업 동향과 전망 - 공기업...\n"
     ]
    },
    {
     "name": "stderr",
     "output_type": "stream",
     "text": [
      "📰 뉴스 본문 크롤링 진행:  27%|██▋       | 54/198 [08:21<07:57,  3.31s/it]"
     ]
    },
    {
     "name": "stdout",
     "output_type": "stream",
     "text": [
      "✅ 크롤링 완료: 러시아發 에너지에 덴 유럽… 탈원전 ‘탈출 러시’...\n"
     ]
    },
    {
     "name": "stderr",
     "output_type": "stream",
     "text": [
      "📰 뉴스 본문 크롤링 진행:  28%|██▊       | 55/198 [08:23<06:38,  2.79s/it]"
     ]
    },
    {
     "name": "stdout",
     "output_type": "stream",
     "text": [
      "✅ 크롤링 완료: [경제 톡톡톡]공동주택 공시가격 17% 올라…역대 3번째 상승...\n"
     ]
    },
    {
     "name": "stderr",
     "output_type": "stream",
     "text": [
      "📰 뉴스 본문 크롤링 진행:  28%|██▊       | 56/198 [08:25<05:58,  2.52s/it]"
     ]
    },
    {
     "name": "stdout",
     "output_type": "stream",
     "text": [
      "⚠ 본문을 가져오지 못해 Selenium으로 재시도: http://www.fnnews.com/news/202201251752288852\n",
      "✅ 크롤링 완료: ‘신한울 3·4호기 재개’ 대선 공약에… 문승욱 \"재건설 없다\"...\n"
     ]
    },
    {
     "name": "stderr",
     "output_type": "stream",
     "text": [
      "📰 뉴스 본문 크롤링 진행:  29%|██▉       | 57/198 [08:30<08:16,  3.52s/it]"
     ]
    },
    {
     "name": "stdout",
     "output_type": "stream",
     "text": [
      "⚠ 본문을 가져오지 못해 Selenium으로 재시도: http://www.fnnews.com/news/202201251503242837\n",
      "✅ 크롤링 완료: 문승욱 \"신한울 3, 4호기 건설 없다...사용후핵연료 해결안돼\"...\n"
     ]
    },
    {
     "name": "stderr",
     "output_type": "stream",
     "text": [
      "📰 뉴스 본문 크롤링 진행:  29%|██▉       | 58/198 [08:36<09:39,  4.14s/it]"
     ]
    },
    {
     "name": "stdout",
     "output_type": "stream",
     "text": [
      "⚠ 본문을 가져오지 못해 Selenium으로 재시도: http://www.smartfn.co.kr/view.php?ud=2022032415121921954409b2f14f_46\n",
      "✅ 크롤링 완료: 국내 건설사, 코로나 위기 딛고 해외시장 박차...\n"
     ]
    },
    {
     "name": "stderr",
     "output_type": "stream",
     "text": [
      "📰 뉴스 본문 크롤링 진행:  30%|██▉       | 59/198 [08:39<09:03,  3.91s/it]"
     ]
    },
    {
     "name": "stdout",
     "output_type": "stream",
     "text": [
      "✅ 크롤링 완료: [여의도 주식왕 2부] '아진엑스텍 vs 일진전기 vs LS' 여의도를 달굴 종......\n"
     ]
    },
    {
     "name": "stderr",
     "output_type": "stream",
     "text": [
      "📰 뉴스 본문 크롤링 진행:  30%|███       | 60/198 [08:41<07:08,  3.10s/it]"
     ]
    },
    {
     "name": "stdout",
     "output_type": "stream",
     "text": [
      "✅ 크롤링 완료: [공기업, 미래 대전환]\"원전 활로, 수출로 뚫는다\"…한수원, 올해 '조 단......\n"
     ]
    },
    {
     "name": "stderr",
     "output_type": "stream",
     "text": [
      "📰 뉴스 본문 크롤링 진행:  31%|███       | 61/198 [08:43<06:24,  2.80s/it]"
     ]
    },
    {
     "name": "stdout",
     "output_type": "stream",
     "text": [
      "✅ 크롤링 완료: 한수원, 올해 원전시장 '조 단위' 성과 기대..4월경 이집트 원전 계약 마......\n"
     ]
    },
    {
     "name": "stderr",
     "output_type": "stream",
     "text": [
      "📰 뉴스 본문 크롤링 진행:  31%|███▏      | 62/198 [08:46<06:22,  2.81s/it]"
     ]
    },
    {
     "name": "stdout",
     "output_type": "stream",
     "text": [
      "⚠ 본문을 가져오지 못해 Selenium으로 재시도: https://www.businesspost.co.kr/BP?command=article_view&num=273174\n",
      "✅ 크롤링 완료: [Who Is ?] 박병석 국회의장...\n"
     ]
    },
    {
     "name": "stderr",
     "output_type": "stream",
     "text": [
      "📰 뉴스 본문 크롤링 진행:  32%|███▏      | 63/198 [08:49<06:56,  3.09s/it]"
     ]
    },
    {
     "name": "stdout",
     "output_type": "stream",
     "text": [
      "⚠ 본문을 가져오지 못해 Selenium으로 재시도: https://www.businesspost.co.kr/BP?command=article_view&num=271044\n",
      "✅ 크롤링 완료: [데스크리포트] 2월 기업 동향과 전망 - 공기업...\n"
     ]
    },
    {
     "name": "stderr",
     "output_type": "stream",
     "text": [
      "📰 뉴스 본문 크롤링 진행:  32%|███▏      | 64/198 [08:54<07:47,  3.49s/it]"
     ]
    },
    {
     "name": "stdout",
     "output_type": "stream",
     "text": [
      "✅ 크롤링 완료: 러시아發 에너지에 덴 유럽… 탈원전 ‘탈출 러시’...\n"
     ]
    },
    {
     "name": "stderr",
     "output_type": "stream",
     "text": [
      "📰 뉴스 본문 크롤링 진행:  33%|███▎      | 65/198 [08:55<06:21,  2.86s/it]"
     ]
    },
    {
     "name": "stdout",
     "output_type": "stream",
     "text": [
      "✅ 크롤링 완료: [경제 톡톡톡]공동주택 공시가격 17% 올라…역대 3번째 상승...\n"
     ]
    },
    {
     "name": "stderr",
     "output_type": "stream",
     "text": [
      "📰 뉴스 본문 크롤링 진행:  33%|███▎      | 66/198 [08:57<05:33,  2.52s/it]"
     ]
    },
    {
     "name": "stdout",
     "output_type": "stream",
     "text": [
      "⚠ 본문을 가져오지 못해 Selenium으로 재시도: http://www.fnnews.com/news/202201251752288852\n",
      "✅ 크롤링 완료: ‘신한울 3·4호기 재개’ 대선 공약에… 문승욱 \"재건설 없다\"...\n"
     ]
    },
    {
     "name": "stderr",
     "output_type": "stream",
     "text": [
      "📰 뉴스 본문 크롤링 진행:  34%|███▍      | 67/198 [09:02<07:27,  3.41s/it]"
     ]
    },
    {
     "name": "stdout",
     "output_type": "stream",
     "text": [
      "⚠ 본문을 가져오지 못해 Selenium으로 재시도: http://www.fnnews.com/news/202201251503242837\n",
      "✅ 크롤링 완료: 문승욱 \"신한울 3, 4호기 건설 없다...사용후핵연료 해결안돼\"...\n"
     ]
    },
    {
     "name": "stderr",
     "output_type": "stream",
     "text": [
      "📰 뉴스 본문 크롤링 진행:  34%|███▍      | 68/198 [09:09<09:48,  4.52s/it]"
     ]
    },
    {
     "name": "stdout",
     "output_type": "stream",
     "text": [
      "⚠ 본문을 가져오지 못해 Selenium으로 재시도: http://www.smartfn.co.kr/view.php?ud=2022032415121921954409b2f14f_46\n",
      "✅ 크롤링 완료: 국내 건설사, 코로나 위기 딛고 해외시장 박차...\n"
     ]
    },
    {
     "name": "stderr",
     "output_type": "stream",
     "text": [
      "📰 뉴스 본문 크롤링 진행:  35%|███▍      | 69/198 [09:13<08:51,  4.12s/it]"
     ]
    },
    {
     "name": "stdout",
     "output_type": "stream",
     "text": [
      "✅ 크롤링 완료: [여의도 주식왕 2부] '아진엑스텍 vs 일진전기 vs LS' 여의도를 달굴 종......\n"
     ]
    },
    {
     "name": "stderr",
     "output_type": "stream",
     "text": [
      "📰 뉴스 본문 크롤링 진행:  35%|███▌      | 70/198 [09:14<06:52,  3.23s/it]"
     ]
    },
    {
     "name": "stdout",
     "output_type": "stream",
     "text": [
      "✅ 크롤링 완료: [공기업, 미래 대전환]\"원전 활로, 수출로 뚫는다\"…한수원, 올해 '조 단......\n"
     ]
    },
    {
     "name": "stderr",
     "output_type": "stream",
     "text": [
      "📰 뉴스 본문 크롤링 진행:  36%|███▌      | 71/198 [09:15<05:40,  2.68s/it]"
     ]
    },
    {
     "name": "stdout",
     "output_type": "stream",
     "text": [
      "✅ 크롤링 완료: 한수원, 올해 원전시장 '조 단위' 성과 기대..4월경 이집트 원전 계약 마......\n"
     ]
    },
    {
     "name": "stderr",
     "output_type": "stream",
     "text": [
      "📰 뉴스 본문 크롤링 진행:  36%|███▋      | 72/198 [09:16<04:43,  2.25s/it]"
     ]
    },
    {
     "name": "stdout",
     "output_type": "stream",
     "text": [
      "⚠ 본문을 가져오지 못해 Selenium으로 재시도: https://www.businesspost.co.kr/BP?command=article_view&num=273174\n",
      "✅ 크롤링 완료: [Who Is ?] 박병석 국회의장...\n"
     ]
    },
    {
     "name": "stderr",
     "output_type": "stream",
     "text": [
      "📰 뉴스 본문 크롤링 진행:  37%|███▋      | 73/198 [09:20<05:39,  2.72s/it]"
     ]
    },
    {
     "name": "stdout",
     "output_type": "stream",
     "text": [
      "⚠ 본문을 가져오지 못해 Selenium으로 재시도: https://www.businesspost.co.kr/BP?command=article_view&num=271044\n",
      "✅ 크롤링 완료: [데스크리포트] 2월 기업 동향과 전망 - 공기업...\n"
     ]
    },
    {
     "name": "stderr",
     "output_type": "stream",
     "text": [
      "📰 뉴스 본문 크롤링 진행:  37%|███▋      | 74/198 [09:25<06:44,  3.26s/it]"
     ]
    },
    {
     "name": "stdout",
     "output_type": "stream",
     "text": [
      "✅ 크롤링 완료: 러시아發 에너지에 덴 유럽… 탈원전 ‘탈출 러시’...\n"
     ]
    },
    {
     "name": "stderr",
     "output_type": "stream",
     "text": [
      "📰 뉴스 본문 크롤링 진행:  38%|███▊      | 75/198 [09:26<05:35,  2.72s/it]"
     ]
    },
    {
     "name": "stdout",
     "output_type": "stream",
     "text": [
      "✅ 크롤링 완료: [경제 톡톡톡]공동주택 공시가격 17% 올라…역대 3번째 상승...\n"
     ]
    },
    {
     "name": "stderr",
     "output_type": "stream",
     "text": [
      "📰 뉴스 본문 크롤링 진행:  38%|███▊      | 76/198 [09:28<04:59,  2.46s/it]"
     ]
    },
    {
     "name": "stdout",
     "output_type": "stream",
     "text": [
      "⚠ 본문을 가져오지 못해 Selenium으로 재시도: http://www.fnnews.com/news/202201251752288852\n",
      "✅ 크롤링 완료: ‘신한울 3·4호기 재개’ 대선 공약에… 문승욱 \"재건설 없다\"...\n"
     ]
    },
    {
     "name": "stderr",
     "output_type": "stream",
     "text": [
      "📰 뉴스 본문 크롤링 진행:  39%|███▉      | 77/198 [09:34<06:48,  3.38s/it]"
     ]
    },
    {
     "name": "stdout",
     "output_type": "stream",
     "text": [
      "⚠ 본문을 가져오지 못해 Selenium으로 재시도: http://www.fnnews.com/news/202201251503242837\n",
      "✅ 크롤링 완료: 문승욱 \"신한울 3, 4호기 건설 없다...사용후핵연료 해결안돼\"...\n"
     ]
    },
    {
     "name": "stderr",
     "output_type": "stream",
     "text": [
      "📰 뉴스 본문 크롤링 진행:  39%|███▉      | 78/198 [09:38<07:33,  3.78s/it]"
     ]
    },
    {
     "name": "stdout",
     "output_type": "stream",
     "text": [
      "⚠ 본문을 가져오지 못해 Selenium으로 재시도: http://www.smartfn.co.kr/view.php?ud=2022032415121921954409b2f14f_46\n",
      "✅ 크롤링 완료: 국내 건설사, 코로나 위기 딛고 해외시장 박차...\n"
     ]
    },
    {
     "name": "stderr",
     "output_type": "stream",
     "text": [
      "📰 뉴스 본문 크롤링 진행:  40%|███▉      | 79/198 [09:42<07:17,  3.68s/it]"
     ]
    },
    {
     "name": "stdout",
     "output_type": "stream",
     "text": [
      "✅ 크롤링 완료: [여의도 주식왕 2부] '아진엑스텍 vs 일진전기 vs LS' 여의도를 달굴 종......\n"
     ]
    },
    {
     "name": "stderr",
     "output_type": "stream",
     "text": [
      "📰 뉴스 본문 크롤링 진행:  40%|████      | 80/198 [09:43<05:44,  2.92s/it]"
     ]
    },
    {
     "name": "stdout",
     "output_type": "stream",
     "text": [
      "✅ 크롤링 완료: [공기업, 미래 대전환]\"원전 활로, 수출로 뚫는다\"…한수원, 올해 '조 단......\n"
     ]
    },
    {
     "name": "stderr",
     "output_type": "stream",
     "text": [
      "📰 뉴스 본문 크롤링 진행:  41%|████      | 81/198 [09:44<04:49,  2.47s/it]"
     ]
    },
    {
     "name": "stdout",
     "output_type": "stream",
     "text": [
      "✅ 크롤링 완료: 한수원, 올해 원전시장 '조 단위' 성과 기대..4월경 이집트 원전 계약 마......\n"
     ]
    },
    {
     "name": "stderr",
     "output_type": "stream",
     "text": [
      "📰 뉴스 본문 크롤링 진행:  41%|████▏     | 82/198 [09:46<04:04,  2.10s/it]"
     ]
    },
    {
     "name": "stdout",
     "output_type": "stream",
     "text": [
      "⚠ 본문을 가져오지 못해 Selenium으로 재시도: https://www.businesspost.co.kr/BP?command=article_view&num=273174\n",
      "✅ 크롤링 완료: [Who Is ?] 박병석 국회의장...\n"
     ]
    },
    {
     "name": "stderr",
     "output_type": "stream",
     "text": [
      "📰 뉴스 본문 크롤링 진행:  42%|████▏     | 83/198 [09:49<04:59,  2.60s/it]"
     ]
    },
    {
     "name": "stdout",
     "output_type": "stream",
     "text": [
      "⚠ 본문을 가져오지 못해 Selenium으로 재시도: https://www.businesspost.co.kr/BP?command=article_view&num=271044\n",
      "✅ 크롤링 완료: [데스크리포트] 2월 기업 동향과 전망 - 공기업...\n"
     ]
    },
    {
     "name": "stderr",
     "output_type": "stream",
     "text": [
      "📰 뉴스 본문 크롤링 진행:  42%|████▏     | 84/198 [09:54<05:57,  3.13s/it]"
     ]
    },
    {
     "name": "stdout",
     "output_type": "stream",
     "text": [
      "✅ 크롤링 완료: 러시아發 에너지에 덴 유럽… 탈원전 ‘탈출 러시’...\n"
     ]
    },
    {
     "name": "stderr",
     "output_type": "stream",
     "text": [
      "📰 뉴스 본문 크롤링 진행:  43%|████▎     | 85/198 [09:55<04:57,  2.63s/it]"
     ]
    },
    {
     "name": "stdout",
     "output_type": "stream",
     "text": [
      "✅ 크롤링 완료: [경제 톡톡톡]공동주택 공시가격 17% 올라…역대 3번째 상승...\n"
     ]
    },
    {
     "name": "stderr",
     "output_type": "stream",
     "text": [
      "📰 뉴스 본문 크롤링 진행:  43%|████▎     | 86/198 [09:57<04:19,  2.31s/it]"
     ]
    },
    {
     "name": "stdout",
     "output_type": "stream",
     "text": [
      "⚠ 본문을 가져오지 못해 Selenium으로 재시도: http://www.fnnews.com/news/202201251752288852\n",
      "✅ 크롤링 완료: ‘신한울 3·4호기 재개’ 대선 공약에… 문승욱 \"재건설 없다\"...\n"
     ]
    },
    {
     "name": "stderr",
     "output_type": "stream",
     "text": [
      "📰 뉴스 본문 크롤링 진행:  44%|████▍     | 87/198 [10:02<05:58,  3.23s/it]"
     ]
    },
    {
     "name": "stdout",
     "output_type": "stream",
     "text": [
      "⚠ 본문을 가져오지 못해 Selenium으로 재시도: http://www.fnnews.com/news/202201251503242837\n",
      "✅ 크롤링 완료: 문승욱 \"신한울 3, 4호기 건설 없다...사용후핵연료 해결안돼\"...\n"
     ]
    },
    {
     "name": "stderr",
     "output_type": "stream",
     "text": [
      "📰 뉴스 본문 크롤링 진행:  44%|████▍     | 88/198 [10:07<07:01,  3.83s/it]"
     ]
    },
    {
     "name": "stdout",
     "output_type": "stream",
     "text": [
      "⚠ 본문을 가져오지 못해 Selenium으로 재시도: http://www.smartfn.co.kr/view.php?ud=2022032415121921954409b2f14f_46\n",
      "✅ 크롤링 완료: 국내 건설사, 코로나 위기 딛고 해외시장 박차...\n"
     ]
    },
    {
     "name": "stderr",
     "output_type": "stream",
     "text": [
      "📰 뉴스 본문 크롤링 진행:  45%|████▍     | 89/198 [10:11<06:37,  3.65s/it]"
     ]
    },
    {
     "name": "stdout",
     "output_type": "stream",
     "text": [
      "✅ 크롤링 완료: [여의도 주식왕 2부] '아진엑스텍 vs 일진전기 vs LS' 여의도를 달굴 종......\n"
     ]
    },
    {
     "name": "stderr",
     "output_type": "stream",
     "text": [
      "📰 뉴스 본문 크롤링 진행:  45%|████▌     | 90/198 [10:12<05:13,  2.90s/it]"
     ]
    },
    {
     "name": "stdout",
     "output_type": "stream",
     "text": [
      "✅ 크롤링 완료: [공기업, 미래 대전환]\"원전 활로, 수출로 뚫는다\"…한수원, 올해 '조 단......\n"
     ]
    },
    {
     "name": "stderr",
     "output_type": "stream",
     "text": [
      "📰 뉴스 본문 크롤링 진행:  46%|████▌     | 91/198 [10:13<04:21,  2.45s/it]"
     ]
    },
    {
     "name": "stdout",
     "output_type": "stream",
     "text": [
      "✅ 크롤링 완료: 한수원, 올해 원전시장 '조 단위' 성과 기대..4월경 이집트 원전 계약 마......\n"
     ]
    },
    {
     "name": "stderr",
     "output_type": "stream",
     "text": [
      "📰 뉴스 본문 크롤링 진행:  46%|████▋     | 92/198 [10:14<03:43,  2.11s/it]"
     ]
    },
    {
     "name": "stdout",
     "output_type": "stream",
     "text": [
      "⚠ 본문을 가져오지 못해 Selenium으로 재시도: https://www.businesspost.co.kr/BP?command=article_view&num=273174\n",
      "✅ 크롤링 완료: [Who Is ?] 박병석 국회의장...\n"
     ]
    },
    {
     "name": "stderr",
     "output_type": "stream",
     "text": [
      "📰 뉴스 본문 크롤링 진행:  47%|████▋     | 93/198 [10:18<04:30,  2.58s/it]"
     ]
    },
    {
     "name": "stdout",
     "output_type": "stream",
     "text": [
      "⚠ 본문을 가져오지 못해 Selenium으로 재시도: https://www.businesspost.co.kr/BP?command=article_view&num=271044\n",
      "✅ 크롤링 완료: [데스크리포트] 2월 기업 동향과 전망 - 공기업...\n"
     ]
    },
    {
     "name": "stderr",
     "output_type": "stream",
     "text": [
      "📰 뉴스 본문 크롤링 진행:  47%|████▋     | 94/198 [10:22<05:07,  2.96s/it]"
     ]
    },
    {
     "name": "stdout",
     "output_type": "stream",
     "text": [
      "✅ 크롤링 완료: 러시아發 에너지에 덴 유럽… 탈원전 ‘탈출 러시’...\n"
     ]
    },
    {
     "name": "stderr",
     "output_type": "stream",
     "text": [
      "📰 뉴스 본문 크롤링 진행:  48%|████▊     | 95/198 [10:23<04:17,  2.50s/it]"
     ]
    },
    {
     "name": "stdout",
     "output_type": "stream",
     "text": [
      "✅ 크롤링 완료: [경제 톡톡톡]공동주택 공시가격 17% 올라…역대 3번째 상승...\n"
     ]
    },
    {
     "name": "stderr",
     "output_type": "stream",
     "text": [
      "📰 뉴스 본문 크롤링 진행:  48%|████▊     | 96/198 [10:25<03:45,  2.21s/it]"
     ]
    },
    {
     "name": "stdout",
     "output_type": "stream",
     "text": [
      "⚠ 본문을 가져오지 못해 Selenium으로 재시도: http://www.fnnews.com/news/202201251752288852\n",
      "✅ 크롤링 완료: ‘신한울 3·4호기 재개’ 대선 공약에… 문승욱 \"재건설 없다\"...\n"
     ]
    },
    {
     "name": "stderr",
     "output_type": "stream",
     "text": [
      "📰 뉴스 본문 크롤링 진행:  49%|████▉     | 97/198 [10:30<05:20,  3.17s/it]"
     ]
    },
    {
     "name": "stdout",
     "output_type": "stream",
     "text": [
      "⚠ 본문을 가져오지 못해 Selenium으로 재시도: http://www.fnnews.com/news/202201251503242837\n",
      "✅ 크롤링 완료: 문승욱 \"신한울 3, 4호기 건설 없다...사용후핵연료 해결안돼\"...\n"
     ]
    },
    {
     "name": "stderr",
     "output_type": "stream",
     "text": [
      "📰 뉴스 본문 크롤링 진행:  49%|████▉     | 98/198 [10:35<06:14,  3.74s/it]"
     ]
    },
    {
     "name": "stdout",
     "output_type": "stream",
     "text": [
      "⚠ 본문을 가져오지 못해 Selenium으로 재시도: http://www.smartfn.co.kr/view.php?ud=2022032415121921954409b2f14f_46\n",
      "✅ 크롤링 완료: 국내 건설사, 코로나 위기 딛고 해외시장 박차...\n"
     ]
    },
    {
     "name": "stderr",
     "output_type": "stream",
     "text": [
      "📰 뉴스 본문 크롤링 진행:  50%|█████     | 99/198 [10:39<05:56,  3.60s/it]"
     ]
    },
    {
     "name": "stdout",
     "output_type": "stream",
     "text": [
      "✅ 크롤링 완료: [여의도 주식왕 2부] '아진엑스텍 vs 일진전기 vs LS' 여의도를 달굴 종......\n"
     ]
    },
    {
     "name": "stderr",
     "output_type": "stream",
     "text": [
      "📰 뉴스 본문 크롤링 진행:  51%|█████     | 100/198 [10:40<04:42,  2.88s/it]"
     ]
    },
    {
     "name": "stdout",
     "output_type": "stream",
     "text": [
      "⚠ 본문을 가져오지 못해 Selenium으로 재시도: http://www.g-enews.com/ko-kr/news/article/news_all/2022032517333656825df15c1126_1/article.html\n",
      "✅ 크롤링 완료: 한수원, 체코 두코바니 원전 건설 65억 유로 제안 수용...\n"
     ]
    },
    {
     "name": "stderr",
     "output_type": "stream",
     "text": [
      "📰 뉴스 본문 크롤링 진행:  51%|█████     | 101/198 [10:45<05:34,  3.45s/it]"
     ]
    },
    {
     "name": "stdout",
     "output_type": "stream",
     "text": [
      "⚠ 본문을 가져오지 못해 Selenium으로 재시도: http://www.ksmnews.co.kr/default/index_view_page.php?idx=372537&part_idx=295\n",
      "✅ 크롤링 완료: 한수원, 체코서 신규원전 수주 ‘총력전’...\n"
     ]
    },
    {
     "name": "stderr",
     "output_type": "stream",
     "text": [
      "📰 뉴스 본문 크롤링 진행:  52%|█████▏    | 102/198 [10:49<05:57,  3.72s/it]"
     ]
    },
    {
     "name": "stdout",
     "output_type": "stream",
     "text": [
      "⚠ 본문을 가져오지 못해 Selenium으로 재시도: https://www.dnews.co.kr/uhtml/view.jsp?idxno=202203181414072950986\n",
      "✅ 크롤링 완료: 한수원, 체코 신규원전사업 본입찰 참여...\n"
     ]
    },
    {
     "name": "stderr",
     "output_type": "stream",
     "text": [
      "📰 뉴스 본문 크롤링 진행:  52%|█████▏    | 103/198 [10:54<06:31,  4.12s/it]"
     ]
    },
    {
     "name": "stdout",
     "output_type": "stream",
     "text": [
      "✅ 크롤링 완료: 한수원, 체코 현지서 신규 원전사업 수주 총력전…정재훈 사장 7번째 현......\n"
     ]
    },
    {
     "name": "stderr",
     "output_type": "stream",
     "text": [
      "📰 뉴스 본문 크롤링 진행:  53%|█████▎    | 104/198 [10:55<05:10,  3.30s/it]"
     ]
    },
    {
     "name": "stdout",
     "output_type": "stream",
     "text": [
      "✅ 크롤링 완료: 한수원, '8조원 규모' 체코 원전사업 수주 총력...\n"
     ]
    },
    {
     "name": "stderr",
     "output_type": "stream",
     "text": [
      "📰 뉴스 본문 크롤링 진행:  53%|█████▎    | 105/198 [10:57<04:09,  2.68s/it]"
     ]
    },
    {
     "name": "stdout",
     "output_type": "stream",
     "text": [
      "✅ 크롤링 완료: 한수원, '체코 신규원전사업 입찰' 개시…사업수주 '총력'...\n"
     ]
    },
    {
     "name": "stderr",
     "output_type": "stream",
     "text": [
      "📰 뉴스 본문 크롤링 진행:  54%|█████▎    | 106/198 [10:58<03:29,  2.28s/it]"
     ]
    },
    {
     "name": "stdout",
     "output_type": "stream",
     "text": [
      "✅ 크롤링 완료: 에너지 독립 외치는 유럽…'원전 유턴' 속도낸다...\n"
     ]
    },
    {
     "name": "stderr",
     "output_type": "stream",
     "text": [
      "📰 뉴스 본문 크롤링 진행:  54%|█████▍    | 107/198 [10:59<03:03,  2.01s/it]"
     ]
    },
    {
     "name": "stdout",
     "output_type": "stream",
     "text": [
      "⚠ 본문을 가져오지 못해 Selenium으로 재시도: https://www.wowtv.co.kr/NewsCenter/News/Read?articleId=A202203160031&t=NNv\n",
      "✅ 크롤링 완료: Again 2010…원전株, 부활 시동...\n"
     ]
    },
    {
     "name": "stderr",
     "output_type": "stream",
     "text": [
      "📰 뉴스 본문 크롤링 진행:  55%|█████▍    | 108/198 [11:14<08:45,  5.84s/it]"
     ]
    },
    {
     "name": "stdout",
     "output_type": "stream",
     "text": [
      "✅ 크롤링 완료: 한수원, 8조원 규모 체코 신규원전 수주 총력… 미·프랑스와 경쟁...\n"
     ]
    },
    {
     "name": "stderr",
     "output_type": "stream",
     "text": [
      "📰 뉴스 본문 크롤링 진행:  55%|█████▌    | 109/198 [11:15<06:36,  4.45s/it]"
     ]
    },
    {
     "name": "stdout",
     "output_type": "stream",
     "text": [
      "⚠ 본문을 가져오지 못해 Selenium으로 재시도: https://www.viva100.com/main/view.php?key=20220322010005558\n",
      "✅ 크롤링 완료: 국내외 원전 재개… 원전주 더 오를까...\n"
     ]
    },
    {
     "name": "stderr",
     "output_type": "stream",
     "text": [
      "📰 뉴스 본문 크롤링 진행:  56%|█████▌    | 110/198 [11:20<06:47,  4.63s/it]"
     ]
    },
    {
     "name": "stdout",
     "output_type": "stream",
     "text": [
      "⚠ 본문을 가져오지 못해 Selenium으로 재시도: https://www.cnbnews.com/news/article.html?no=537518\n",
      "✅ 크롤링 완료: 한수원, ‘체코 신규 원전사업’ 본입찰 참여… 미국·프랑스와 경쟁...\n"
     ]
    },
    {
     "name": "stderr",
     "output_type": "stream",
     "text": [
      "📰 뉴스 본문 크롤링 진행:  56%|█████▌    | 111/198 [11:25<06:44,  4.65s/it]"
     ]
    },
    {
     "name": "stdout",
     "output_type": "stream",
     "text": [
      "✅ 크롤링 완료: 한수원, '체코 신규원전사업 입찰' 개시…사업수주 '총력'...\n"
     ]
    },
    {
     "name": "stderr",
     "output_type": "stream",
     "text": [
      "📰 뉴스 본문 크롤링 진행:  57%|█████▋    | 112/198 [11:26<05:12,  3.63s/it]"
     ]
    },
    {
     "name": "stdout",
     "output_type": "stream",
     "text": [
      "✅ 크롤링 완료: 에너지 독립 외치는 유럽…'원전 유턴' 속도낸다...\n"
     ]
    },
    {
     "name": "stderr",
     "output_type": "stream",
     "text": [
      "📰 뉴스 본문 크롤링 진행:  57%|█████▋    | 113/198 [11:28<04:09,  2.94s/it]"
     ]
    },
    {
     "name": "stdout",
     "output_type": "stream",
     "text": [
      "⚠ 본문을 가져오지 못해 Selenium으로 재시도: https://www.wowtv.co.kr/NewsCenter/News/Read?articleId=A202203160031&t=NNv\n",
      "✅ 크롤링 완료: Again 2010…원전株, 부활 시동...\n"
     ]
    },
    {
     "name": "stderr",
     "output_type": "stream",
     "text": [
      "📰 뉴스 본문 크롤링 진행:  58%|█████▊    | 114/198 [11:40<08:10,  5.84s/it]"
     ]
    },
    {
     "name": "stdout",
     "output_type": "stream",
     "text": [
      "✅ 크롤링 완료: 한수원, 8조 규모 체코원전 입찰 개시 美·佛 회사와 '3파전'...\n"
     ]
    },
    {
     "name": "stderr",
     "output_type": "stream",
     "text": [
      "📰 뉴스 본문 크롤링 진행:  58%|█████▊    | 115/198 [11:42<06:19,  4.57s/it]"
     ]
    },
    {
     "name": "stdout",
     "output_type": "stream",
     "text": [
      "✅ 크롤링 완료: 한수원, 8조원 규모 체코 신규원전 수주 총력… 미·프랑스와 경쟁...\n"
     ]
    },
    {
     "name": "stderr",
     "output_type": "stream",
     "text": [
      "📰 뉴스 본문 크롤링 진행:  59%|█████▊    | 116/198 [11:43<04:52,  3.57s/it]"
     ]
    },
    {
     "name": "stdout",
     "output_type": "stream",
     "text": [
      "✅ 크롤링 완료: 한수원, 체코서 원전 사업 수주 총력 … '한국형 원전' 소개...\n"
     ]
    },
    {
     "name": "stderr",
     "output_type": "stream",
     "text": [
      "📰 뉴스 본문 크롤링 진행:  59%|█████▉    | 117/198 [11:45<03:54,  2.90s/it]"
     ]
    },
    {
     "name": "stdout",
     "output_type": "stream",
     "text": [
      "✅ 크롤링 완료: [SR산업] 한수원 '8조원' 규모 체코 신규원전사업 수주 총력…美·佛과 ......\n"
     ]
    },
    {
     "name": "stderr",
     "output_type": "stream",
     "text": [
      "📰 뉴스 본문 크롤링 진행:  60%|█████▉    | 118/198 [11:46<03:14,  2.43s/it]"
     ]
    },
    {
     "name": "stdout",
     "output_type": "stream",
     "text": [
      "⚠ 본문을 가져오지 못해 Selenium으로 재시도: https://www.viva100.com/main/view.php?key=20220322010005558\n",
      "✅ 크롤링 완료: 국내외 원전 재개… 원전주 더 오를까...\n"
     ]
    },
    {
     "name": "stderr",
     "output_type": "stream",
     "text": [
      "📰 뉴스 본문 크롤링 진행:  60%|██████    | 119/198 [11:50<04:03,  3.08s/it]"
     ]
    },
    {
     "name": "stdout",
     "output_type": "stream",
     "text": [
      "⚠ 본문을 가져오지 못해 Selenium으로 재시도: http://www.breaknews.com/881326\n",
      "✅ 크롤링 완료: 한수원, 체코 신규 원전사업 수주에 총력전 펼쳐...\n"
     ]
    },
    {
     "name": "stderr",
     "output_type": "stream",
     "text": [
      "📰 뉴스 본문 크롤링 진행:  61%|██████    | 120/198 [11:58<05:48,  4.47s/it]"
     ]
    },
    {
     "name": "stdout",
     "output_type": "stream",
     "text": [
      "✅ 크롤링 완료: [SR산업] 한수원 '8조원' 규모 체코 신규원전사업 수주 총력…美·佛과 ......\n"
     ]
    },
    {
     "name": "stderr",
     "output_type": "stream",
     "text": [
      "📰 뉴스 본문 크롤링 진행:  61%|██████    | 121/198 [11:59<04:26,  3.47s/it]"
     ]
    },
    {
     "name": "stdout",
     "output_type": "stream",
     "text": [
      "⚠ 본문을 가져오지 못해 Selenium으로 재시도: https://www.viva100.com/main/view.php?key=20220322010005558\n",
      "✅ 크롤링 완료: 국내외 원전 재개… 원전주 더 오를까...\n"
     ]
    },
    {
     "name": "stderr",
     "output_type": "stream",
     "text": [
      "📰 뉴스 본문 크롤링 진행:  62%|██████▏   | 122/198 [12:08<06:29,  5.12s/it]"
     ]
    },
    {
     "name": "stdout",
     "output_type": "stream",
     "text": [
      "✅ 크롤링 완료: 한국수력원자력, 체코 현지서 신규 원전 사업 수주전 나서...\n"
     ]
    },
    {
     "name": "stderr",
     "output_type": "stream",
     "text": [
      "📰 뉴스 본문 크롤링 진행:  62%|██████▏   | 123/198 [12:09<04:55,  3.94s/it]"
     ]
    },
    {
     "name": "stdout",
     "output_type": "stream",
     "text": [
      "⚠ 본문을 가져오지 못해 Selenium으로 재시도: http://www.breaknews.com/881326\n",
      "✅ 크롤링 완료: 한수원, 체코 신규 원전사업 수주에 총력전 펼쳐...\n"
     ]
    },
    {
     "name": "stderr",
     "output_type": "stream",
     "text": [
      "📰 뉴스 본문 크롤링 진행:  63%|██████▎   | 124/198 [12:16<05:52,  4.76s/it]"
     ]
    },
    {
     "name": "stdout",
     "output_type": "stream",
     "text": [
      "✅ 크롤링 완료: 한수원, \"체코 신규원전사업 반드시 따낸다\"…공식 입찰절차 개시...\n"
     ]
    },
    {
     "name": "stderr",
     "output_type": "stream",
     "text": [
      "📰 뉴스 본문 크롤링 진행:  63%|██████▎   | 125/198 [12:17<04:31,  3.72s/it]"
     ]
    },
    {
     "name": "stdout",
     "output_type": "stream",
     "text": [
      "✅ 크롤링 완료: [SR산업] 한수원 \"체코 신규원전사업 수주 총력\"...\n"
     ]
    },
    {
     "name": "stderr",
     "output_type": "stream",
     "text": [
      "📰 뉴스 본문 크롤링 진행:  64%|██████▎   | 126/198 [12:19<03:47,  3.16s/it]"
     ]
    },
    {
     "name": "stdout",
     "output_type": "stream",
     "text": [
      "✅ 크롤링 완료: 원전업계, 새정부 힘 받아 해외수출 '총력'...\n"
     ]
    },
    {
     "name": "stderr",
     "output_type": "stream",
     "text": [
      "📰 뉴스 본문 크롤링 진행:  64%|██████▍   | 127/198 [12:21<03:14,  2.74s/it]"
     ]
    },
    {
     "name": "stdout",
     "output_type": "stream",
     "text": [
      "✅ 크롤링 완료: 체코 신규원전사업 입찰 개시, 한수원 사업수주에 총력...\n"
     ]
    },
    {
     "name": "stderr",
     "output_type": "stream",
     "text": [
      "📰 뉴스 본문 크롤링 진행:  65%|██████▍   | 128/198 [12:22<02:43,  2.34s/it]"
     ]
    },
    {
     "name": "stdout",
     "output_type": "stream",
     "text": [
      "⚠ 본문을 가져오지 못해 Selenium으로 재시도: http://www.edaily.co.kr/news/newspath.asp?newsid=01357926632263648\n",
      "✅ 크롤링 완료: “원전 투자, 중장기 모멘텀 현실화 시점까지 중장기 접근”...\n"
     ]
    },
    {
     "name": "stderr",
     "output_type": "stream",
     "text": [
      "📰 뉴스 본문 크롤링 진행:  65%|██████▌   | 129/198 [12:28<03:53,  3.38s/it]"
     ]
    },
    {
     "name": "stdout",
     "output_type": "stream",
     "text": [
      "✅ 크롤링 완료: '한·미·프 3국에만 러브콜'···尹 브레인이 꼽은 8조 원전대전 '개막......\n"
     ]
    },
    {
     "name": "stderr",
     "output_type": "stream",
     "text": [
      "📰 뉴스 본문 크롤링 진행:  66%|██████▌   | 130/198 [12:30<03:14,  2.86s/it]"
     ]
    },
    {
     "name": "stdout",
     "output_type": "stream",
     "text": [
      "✅ 크롤링 완료: [SR산업] 한수원 \"체코 신규원전사업 수주 총력\"...\n"
     ]
    },
    {
     "name": "stderr",
     "output_type": "stream",
     "text": [
      "📰 뉴스 본문 크롤링 진행:  66%|██████▌   | 131/198 [12:31<02:38,  2.37s/it]"
     ]
    },
    {
     "name": "stdout",
     "output_type": "stream",
     "text": [
      "✅ 크롤링 완료: 원전업계, 새정부 힘 받아 해외수출 '총력'...\n"
     ]
    },
    {
     "name": "stderr",
     "output_type": "stream",
     "text": [
      "📰 뉴스 본문 크롤링 진행:  67%|██████▋   | 132/198 [12:32<02:12,  2.00s/it]"
     ]
    },
    {
     "name": "stdout",
     "output_type": "stream",
     "text": [
      "✅ 크롤링 완료: 한수원 \"체코 신규 원전 본입찰 참여\"…러·중 탈락...\n"
     ]
    },
    {
     "name": "stderr",
     "output_type": "stream",
     "text": [
      "📰 뉴스 본문 크롤링 진행:  67%|██████▋   | 133/198 [12:34<01:57,  1.81s/it]"
     ]
    },
    {
     "name": "stdout",
     "output_type": "stream",
     "text": [
      "✅ 크롤링 완료: 정재훈 한수원 사장, 체코 현지서 신규원전 수주 '진두지휘'...\n"
     ]
    },
    {
     "name": "stderr",
     "output_type": "stream",
     "text": [
      "📰 뉴스 본문 크롤링 진행:  68%|██████▊   | 134/198 [12:35<01:46,  1.66s/it]"
     ]
    },
    {
     "name": "stdout",
     "output_type": "stream",
     "text": [
      "✅ 크롤링 완료: 체코 신규원전사업 입찰 개시, 한수원 사업수주에 총력...\n"
     ]
    },
    {
     "name": "stderr",
     "output_type": "stream",
     "text": [
      "📰 뉴스 본문 크롤링 진행:  68%|██████▊   | 135/198 [12:36<01:36,  1.53s/it]"
     ]
    },
    {
     "name": "stdout",
     "output_type": "stream",
     "text": [
      "⚠ 본문을 가져오지 못해 Selenium으로 재시도: http://www.edaily.co.kr/news/newspath.asp?newsid=01357926632263648\n",
      "✅ 크롤링 완료: “원전 투자, 중장기 모멘텀 현실화 시점까지 중장기 접근”...\n"
     ]
    },
    {
     "name": "stderr",
     "output_type": "stream",
     "text": [
      "📰 뉴스 본문 크롤링 진행:  69%|██████▊   | 136/198 [12:42<02:51,  2.77s/it]"
     ]
    },
    {
     "name": "stdout",
     "output_type": "stream",
     "text": [
      "✅ 크롤링 완료: '한·미·프 3국에만 러브콜'···尹 브레인이 꼽은 8조 원전대전 '개막......\n"
     ]
    },
    {
     "name": "stderr",
     "output_type": "stream",
     "text": [
      "📰 뉴스 본문 크롤링 진행:  69%|██████▉   | 137/198 [12:43<02:27,  2.41s/it]"
     ]
    },
    {
     "name": "stdout",
     "output_type": "stream",
     "text": [
      "⚠ 본문을 가져오지 못해 Selenium으로 재시도: http://www.breaknews.com/879851\n",
      "✅ 크롤링 완료: 한수원, 체코 신규원전사업 수주에 총력...\n"
     ]
    },
    {
     "name": "stderr",
     "output_type": "stream",
     "text": [
      "📰 뉴스 본문 크롤링 진행:  70%|██████▉   | 138/198 [12:51<03:51,  3.86s/it]"
     ]
    },
    {
     "name": "stdout",
     "output_type": "stream",
     "text": [
      "✅ 크롤링 완료: [특징주] 한신기계, 콤프레샤 원천기술 보유…한수원 체코 원전 본입찰......\n"
     ]
    },
    {
     "name": "stderr",
     "output_type": "stream",
     "text": [
      "📰 뉴스 본문 크롤링 진행:  70%|███████   | 139/198 [12:52<02:59,  3.05s/it]"
     ]
    },
    {
     "name": "stdout",
     "output_type": "stream",
     "text": [
      "✅ 크롤링 완료: 한수원, '체코 신규원전 입찰 개시' 수주 총력...\n"
     ]
    },
    {
     "name": "stderr",
     "output_type": "stream",
     "text": [
      "📰 뉴스 본문 크롤링 진행:  71%|███████   | 140/198 [12:53<02:23,  2.48s/it]"
     ]
    },
    {
     "name": "stdout",
     "output_type": "stream",
     "text": [
      "✅ 크롤링 완료: 한수원, '체코 신규원전 입찰 개시' 수주 총력...\n"
     ]
    },
    {
     "name": "stderr",
     "output_type": "stream",
     "text": [
      "📰 뉴스 본문 크롤링 진행:  71%|███████   | 141/198 [12:54<01:58,  2.07s/it]"
     ]
    },
    {
     "name": "stdout",
     "output_type": "stream",
     "text": [
      "✅ 크롤링 완료: '8조 규모' 체코 원전 입찰 시작…한수원, 안보평가 통과하고 본입찰 참......\n"
     ]
    },
    {
     "name": "stderr",
     "output_type": "stream",
     "text": [
      "📰 뉴스 본문 크롤링 진행:  72%|███████▏  | 142/198 [12:55<01:42,  1.83s/it]"
     ]
    },
    {
     "name": "stdout",
     "output_type": "stream",
     "text": [
      "✅ 크롤링 완료: 신한울 3·4호기 외 추가 기대는 아직…원전 투자 긴호흡 필요 - 메리츠......\n"
     ]
    },
    {
     "name": "stderr",
     "output_type": "stream",
     "text": [
      "📰 뉴스 본문 크롤링 진행:  72%|███████▏  | 143/198 [12:57<01:31,  1.67s/it]"
     ]
    },
    {
     "name": "stdout",
     "output_type": "stream",
     "text": [
      "✅ 크롤링 완료: 8조원 규모 체코 원전사업 입찰 개시…한수원, 美·佛과 경쟁...\n"
     ]
    },
    {
     "name": "stderr",
     "output_type": "stream",
     "text": [
      "📰 뉴스 본문 크롤링 진행:  73%|███████▎  | 144/198 [12:58<01:25,  1.59s/it]"
     ]
    },
    {
     "name": "stdout",
     "output_type": "stream",
     "text": [
      "⚠ 본문을 가져오지 못해 Selenium으로 재시도: http://www.ksmnews.co.kr/default/index_view_page.php?idx=371864&part_idx=295\n",
      "✅ 크롤링 완료: 체코 신규 원전사업 입찰 개시…한수원 ‘사업수주’ 총력...\n"
     ]
    },
    {
     "name": "stderr",
     "output_type": "stream",
     "text": [
      "📰 뉴스 본문 크롤링 진행:  73%|███████▎  | 145/198 [13:02<02:05,  2.37s/it]"
     ]
    },
    {
     "name": "stdout",
     "output_type": "stream",
     "text": [
      "✅ 크롤링 완료: 외교부, 신규원전 입찰 개시한 체코에 국내 기업 참여 관심 당부...\n"
     ]
    },
    {
     "name": "stderr",
     "output_type": "stream",
     "text": [
      "📰 뉴스 본문 크롤링 진행:  74%|███████▎  | 146/198 [13:04<01:47,  2.07s/it]"
     ]
    },
    {
     "name": "stdout",
     "output_type": "stream",
     "text": [
      "⚠ 본문을 가져오지 못해 Selenium으로 재시도: https://www.theguru.co.kr/news/article.html?no=32540\n",
      "✅ 크롤링 완료: [여의옥] 체코, '8조' 두코바니 원전 입찰 막 오른다…윤석열 당선인 기......\n"
     ]
    },
    {
     "name": "stderr",
     "output_type": "stream",
     "text": [
      "📰 뉴스 본문 크롤링 진행:  74%|███████▍  | 147/198 [13:08<02:23,  2.82s/it]"
     ]
    },
    {
     "name": "stdout",
     "output_type": "stream",
     "text": [
      "⚠ 본문을 가져오지 못해 Selenium으로 재시도: https://www.theguru.co.kr/news/article.html?no=32458\n",
      "✅ 크롤링 완료: 체코, '8조' 두코바니 원전 입찰 막 오른다…윤석열 당선인 기대감↑...\n"
     ]
    },
    {
     "name": "stderr",
     "output_type": "stream",
     "text": [
      "📰 뉴스 본문 크롤링 진행:  75%|███████▍  | 148/198 [13:12<02:39,  3.19s/it]"
     ]
    },
    {
     "name": "stdout",
     "output_type": "stream",
     "text": [
      "⚠ 본문을 가져오지 못해 Selenium으로 재시도: http://www.weeklytrade.co.kr/news/view.html?section=1&category=3&item=&no=79605\n",
      "✅ 크롤링 완료: 한·체코, 에너지 시장 대응 논의… 원전 수출 협조 당부...\n"
     ]
    },
    {
     "name": "stderr",
     "output_type": "stream",
     "text": [
      "📰 뉴스 본문 크롤링 진행:  75%|███████▌  | 149/198 [13:18<03:18,  4.06s/it]"
     ]
    },
    {
     "name": "stdout",
     "output_type": "stream",
     "text": [
      "⚠ 본문을 가져오지 못해 Selenium으로 재시도: http://www.mediapen.com/news/view/709515\n",
      "✅ 크롤링 완료: 한수원, 원전·수소 앞세워 한전 '하드캐리' 강화...\n"
     ]
    },
    {
     "name": "stderr",
     "output_type": "stream",
     "text": [
      "📰 뉴스 본문 크롤링 진행:  76%|███████▌  | 150/198 [13:23<03:29,  4.36s/it]"
     ]
    },
    {
     "name": "stdout",
     "output_type": "stream",
     "text": [
      "⚠ 본문을 가져오지 못해 Selenium으로 재시도: https://www.theguru.co.kr/news/article.html?no=32458\n",
      "✅ 크롤링 완료: 체코, '8조' 두코바니 원전 입찰 막 오른다…윤석열 당선인 기대감↑...\n"
     ]
    },
    {
     "name": "stderr",
     "output_type": "stream",
     "text": [
      "📰 뉴스 본문 크롤링 진행:  76%|███████▋  | 151/198 [13:28<03:23,  4.32s/it]"
     ]
    },
    {
     "name": "stdout",
     "output_type": "stream",
     "text": [
      "⚠ 본문을 가져오지 못해 Selenium으로 재시도: https://www.viva100.com/main/view.php?key=20220315010003591\n",
      "✅ 크롤링 완료: 메리츠증권 “한국전력, 새 정부의 원전 이용률 개선에도 대규모 적자 ......\n"
     ]
    },
    {
     "name": "stderr",
     "output_type": "stream",
     "text": [
      "📰 뉴스 본문 크롤링 진행:  77%|███████▋  | 152/198 [13:32<03:26,  4.49s/it]"
     ]
    },
    {
     "name": "stdout",
     "output_type": "stream",
     "text": [
      "⚠ 본문을 가져오지 못해 Selenium으로 재시도: http://www.weeklytrade.co.kr/news/view.html?section=1&category=3&item=&no=79605\n",
      "✅ 크롤링 완료: 한·체코, 에너지 시장 대응 논의… 원전 수출 협조 당부...\n"
     ]
    },
    {
     "name": "stderr",
     "output_type": "stream",
     "text": [
      "📰 뉴스 본문 크롤링 진행:  77%|███████▋  | 153/198 [13:36<03:15,  4.34s/it]"
     ]
    },
    {
     "name": "stdout",
     "output_type": "stream",
     "text": [
      "⚠ 본문을 가져오지 못해 Selenium으로 재시도: http://www.mediapen.com/news/view/709515\n",
      "✅ 크롤링 완료: 한수원, 원전·수소 앞세워 한전 '하드캐리' 강화...\n"
     ]
    },
    {
     "name": "stderr",
     "output_type": "stream",
     "text": [
      "📰 뉴스 본문 크롤링 진행:  78%|███████▊  | 154/198 [13:41<03:10,  4.34s/it]"
     ]
    },
    {
     "name": "stdout",
     "output_type": "stream",
     "text": [
      "⚠ 본문을 가져오지 못해 Selenium으로 재시도: https://www.radiokorea.com/news/article.php?uid=384204\n",
      "✅ 크롤링 완료: 유럽, 에너지 위기속에 원전 활용으로 회귀 현상...\n"
     ]
    },
    {
     "name": "stderr",
     "output_type": "stream",
     "text": [
      "📰 뉴스 본문 크롤링 진행:  78%|███████▊  | 155/198 [13:49<04:01,  5.62s/it]"
     ]
    },
    {
     "name": "stdout",
     "output_type": "stream",
     "text": [
      "⚠ 본문을 가져오지 못해 Selenium으로 재시도: https://www.theguru.co.kr/news/article.html?no=32155\n",
      "✅ 크롤링 완료: \"경제성 분석 생략\" 체코 환경단체 반발…두코바니 원전 발목...\n"
     ]
    },
    {
     "name": "stderr",
     "output_type": "stream",
     "text": [
      "📰 뉴스 본문 크롤링 진행:  79%|███████▉  | 156/198 [13:54<03:38,  5.21s/it]"
     ]
    },
    {
     "name": "stdout",
     "output_type": "stream",
     "text": [
      "✅ 크롤링 완료: 중·러 탈락한 체코 원전사업에 당당히 입성한 '한국수력원자력' 경쟁자......\n"
     ]
    },
    {
     "name": "stderr",
     "output_type": "stream",
     "text": [
      "📰 뉴스 본문 크롤링 진행:  79%|███████▉  | 157/198 [13:55<02:44,  4.01s/it]"
     ]
    },
    {
     "name": "stdout",
     "output_type": "stream",
     "text": [
      "✅ 크롤링 완료: 정부, 스페인·노르웨이·체코와 에너지 공동연구에 48억원 지원...\n"
     ]
    },
    {
     "name": "stderr",
     "output_type": "stream",
     "text": [
      "📰 뉴스 본문 크롤링 진행:  80%|███████▉  | 158/198 [13:56<02:08,  3.20s/it]"
     ]
    },
    {
     "name": "stdout",
     "output_type": "stream",
     "text": [
      "⚠ 본문을 가져오지 못해 Selenium으로 재시도: http://www.fnnews.com/news/202203231814535308\n",
      "✅ 크롤링 완료: \"8조 원전 수주 올인\"… 체코로 간 한수원 사장...\n"
     ]
    },
    {
     "name": "stderr",
     "output_type": "stream",
     "text": [
      "📰 뉴스 본문 크롤링 진행:  80%|████████  | 159/198 [14:03<02:48,  4.32s/it]"
     ]
    },
    {
     "name": "stdout",
     "output_type": "stream",
     "text": [
      "⚠ 본문을 가져오지 못해 Selenium으로 재시도: https://www.theguru.co.kr/news/article.html?no=31857\n",
      "✅ 크롤링 완료: 체코, 두코바니 원전 입찰 준비 순항…2024년 후보 평가 완료...\n"
     ]
    },
    {
     "name": "stderr",
     "output_type": "stream",
     "text": [
      "📰 뉴스 본문 크롤링 진행:  81%|████████  | 160/198 [14:07<02:42,  4.28s/it]"
     ]
    },
    {
     "name": "stdout",
     "output_type": "stream",
     "text": [
      "⚠ 본문을 가져오지 못해 Selenium으로 재시도: https://www.theguru.co.kr/news/article.html?no=31193\n",
      "✅ 크롤링 완료: 체코 총리 \"두코바니 원전 입찰 곧 개시\"...\n"
     ]
    },
    {
     "name": "stderr",
     "output_type": "stream",
     "text": [
      "📰 뉴스 본문 크롤링 진행:  81%|████████▏ | 161/198 [14:11<02:35,  4.19s/it]"
     ]
    },
    {
     "name": "stdout",
     "output_type": "stream",
     "text": [
      "✅ 크롤링 완료: 산업부, 스페인·노르웨이·체코 공동 연구과제에 48억원 지원...\n"
     ]
    },
    {
     "name": "stderr",
     "output_type": "stream",
     "text": [
      "📰 뉴스 본문 크롤링 진행:  82%|████████▏ | 162/198 [14:12<01:57,  3.28s/it]"
     ]
    },
    {
     "name": "stdout",
     "output_type": "stream",
     "text": [
      "✅ 크롤링 완료: 체코, 원자력·신재생E 확대...\n"
     ]
    },
    {
     "name": "stderr",
     "output_type": "stream",
     "text": [
      "📰 뉴스 본문 크롤링 진행:  82%|████████▏ | 163/198 [14:14<01:32,  2.65s/it]"
     ]
    },
    {
     "name": "stdout",
     "output_type": "stream",
     "text": [
      "⚠ 본문을 가져오지 못해 Selenium으로 재시도: https://biz.chosun.com/stock/stock_general/2022/02/28/CAIMHUHEUZBEXBZXE5WHWUIZAA/?utm_source=naver&utm_medium=original&utm_campaign=biz\n",
      "✅ 크롤링 완료: 文대통령 “원전이 주력” 한마디에 시간 외 시총 1조 오른 원전주…증......\n"
     ]
    },
    {
     "name": "stderr",
     "output_type": "stream",
     "text": [
      "📰 뉴스 본문 크롤링 진행:  83%|████████▎ | 164/198 [14:19<01:54,  3.37s/it]"
     ]
    },
    {
     "name": "stdout",
     "output_type": "stream",
     "text": [
      "⚠ 본문을 가져오지 못해 Selenium으로 재시도: https://www.theguru.co.kr/news/article.html?no=31482\n",
      "✅ 크롤링 완료: 佛 \"원전 수주하면…체코, 프랑스 발전시장 진출 보장\"…한수원 예의주......\n"
     ]
    },
    {
     "name": "stderr",
     "output_type": "stream",
     "text": [
      "📰 뉴스 본문 크롤링 진행:  83%|████████▎ | 165/198 [14:23<01:59,  3.62s/it]"
     ]
    },
    {
     "name": "stdout",
     "output_type": "stream",
     "text": [
      "✅ 크롤링 완료: [에너지공기업의 무한변신ㅣ한국수력원자력]원전·신재생 해외 진출…한......\n"
     ]
    },
    {
     "name": "stderr",
     "output_type": "stream",
     "text": [
      "📰 뉴스 본문 크롤링 진행:  84%|████████▍ | 166/198 [14:24<01:34,  2.94s/it]"
     ]
    },
    {
     "name": "stdout",
     "output_type": "stream",
     "text": [
      "⚠ 본문을 가져오지 못해 Selenium으로 재시도: http://www.mediapen.com/news/view/700125\n",
      "✅ 크롤링 완료: [원전 르네상스②]탈원전 딛고 동유럽·중동서 수출 축포 쏠까...\n"
     ]
    },
    {
     "name": "stderr",
     "output_type": "stream",
     "text": [
      "📰 뉴스 본문 크롤링 진행:  84%|████████▍ | 167/198 [14:29<01:45,  3.40s/it]"
     ]
    },
    {
     "name": "stdout",
     "output_type": "stream",
     "text": [
      "⚠ 본문을 가져오지 못해 Selenium으로 재시도: https://www.theguru.co.kr/news/article.html?no=30386\n",
      "✅ 크롤링 완료: 웨스팅하우스, 체코 원전 수주전 보폭 확대…현지 기업 7곳 양해각서...\n"
     ]
    },
    {
     "name": "stderr",
     "output_type": "stream",
     "text": [
      "📰 뉴스 본문 크롤링 진행:  85%|████████▍ | 168/198 [14:33<01:49,  3.64s/it]"
     ]
    },
    {
     "name": "stdout",
     "output_type": "stream",
     "text": [
      "⚠ 본문을 가져오지 못해 Selenium으로 재시도: http://www.fnnews.com/news/202202041048500986\n",
      "✅ 크롤링 완료: '수출1호' UAE원전 전체 준공 눈앞...'원전 건설에서 운영' 중심 이동...\n"
     ]
    },
    {
     "name": "stderr",
     "output_type": "stream",
     "text": [
      "📰 뉴스 본문 크롤링 진행:  85%|████████▌ | 169/198 [14:38<02:01,  4.21s/it]"
     ]
    },
    {
     "name": "stdout",
     "output_type": "stream",
     "text": [
      "⚠ 본문을 가져오지 못해 Selenium으로 재시도: https://www.nocutnews.co.kr/news/5728893\n",
      "✅ 크롤링 완료: 탈원전 폐기…인수위 \"신한울 3·4호기 건설 재개\" 요구...\n"
     ]
    },
    {
     "name": "stderr",
     "output_type": "stream",
     "text": [
      "📰 뉴스 본문 크롤링 진행:  86%|████████▌ | 170/198 [14:44<02:12,  4.75s/it]"
     ]
    },
    {
     "name": "stdout",
     "output_type": "stream",
     "text": [
      "⚠ 본문을 가져오지 못해 Selenium으로 재시도: https://biz.chosun.com/stock/stock_general/2022/02/28/CAIMHUHEUZBEXBZXE5WHWUIZAA/?utm_source=naver&utm_medium=original&utm_campaign=biz\n",
      "✅ 크롤링 완료: 文대통령 “원전이 주력” 한마디에 시간 외 시총 1조 오른 원전주…증......\n"
     ]
    },
    {
     "name": "stderr",
     "output_type": "stream",
     "text": [
      "📰 뉴스 본문 크롤링 진행:  86%|████████▋ | 171/198 [14:49<02:07,  4.73s/it]"
     ]
    },
    {
     "name": "stdout",
     "output_type": "stream",
     "text": [
      "⚠ 본문을 가져오지 못해 Selenium으로 재시도: https://www.theguru.co.kr/news/article.html?no=31482\n",
      "✅ 크롤링 완료: 佛 \"원전 수주하면…체코, 프랑스 발전시장 진출 보장\"…한수원 예의주......\n"
     ]
    },
    {
     "name": "stderr",
     "output_type": "stream",
     "text": [
      "📰 뉴스 본문 크롤링 진행:  87%|████████▋ | 172/198 [14:53<01:58,  4.54s/it]"
     ]
    },
    {
     "name": "stdout",
     "output_type": "stream",
     "text": [
      "✅ 크롤링 완료: 올해 '에너지국제공동연구 과제' 3개국에 48억 지원...\n"
     ]
    },
    {
     "name": "stderr",
     "output_type": "stream",
     "text": [
      "📰 뉴스 본문 크롤링 진행:  87%|████████▋ | 173/198 [14:55<01:31,  3.64s/it]"
     ]
    },
    {
     "name": "stdout",
     "output_type": "stream",
     "text": [
      "✅ 크롤링 완료: [에너지공기업의 무한변신ㅣ한국수력원자력]원전·신재생 해외 진출…한......\n"
     ]
    },
    {
     "name": "stderr",
     "output_type": "stream",
     "text": [
      "📰 뉴스 본문 크롤링 진행:  88%|████████▊ | 174/198 [14:56<01:11,  2.98s/it]"
     ]
    },
    {
     "name": "stdout",
     "output_type": "stream",
     "text": [
      "⚠ 본문을 가져오지 못해 Selenium으로 재시도: http://www.mediapen.com/news/view/700125\n",
      "✅ 크롤링 완료: [원전 르네상스②]탈원전 딛고 동유럽·중동서 수출 축포 쏠까...\n"
     ]
    },
    {
     "name": "stderr",
     "output_type": "stream",
     "text": [
      "📰 뉴스 본문 크롤링 진행:  88%|████████▊ | 175/198 [15:00<01:17,  3.35s/it]"
     ]
    },
    {
     "name": "stdout",
     "output_type": "stream",
     "text": [
      "⚠ 본문을 가져오지 못해 Selenium으로 재시도: https://www.theguru.co.kr/news/article.html?no=30386\n",
      "✅ 크롤링 완료: 웨스팅하우스, 체코 원전 수주전 보폭 확대…현지 기업 7곳 양해각서...\n"
     ]
    },
    {
     "name": "stderr",
     "output_type": "stream",
     "text": [
      "📰 뉴스 본문 크롤링 진행:  89%|████████▉ | 176/198 [15:05<01:18,  3.57s/it]"
     ]
    },
    {
     "name": "stdout",
     "output_type": "stream",
     "text": [
      "⚠ 본문을 가져오지 못해 Selenium으로 재시도: http://www.fnnews.com/news/202202041048500986\n",
      "✅ 크롤링 완료: '수출1호' UAE원전 전체 준공 눈앞...'원전 건설에서 운영' 중심 이동...\n"
     ]
    },
    {
     "name": "stderr",
     "output_type": "stream",
     "text": [
      "📰 뉴스 본문 크롤링 진행:  89%|████████▉ | 177/198 [15:10<01:29,  4.27s/it]"
     ]
    },
    {
     "name": "stdout",
     "output_type": "stream",
     "text": [
      "⚠ 본문을 가져오지 못해 Selenium으로 재시도: https://www.nocutnews.co.kr/news/5728893\n",
      "✅ 크롤링 완료: 탈원전 폐기…인수위 \"신한울 3·4호기 건설 재개\" 요구...\n"
     ]
    },
    {
     "name": "stderr",
     "output_type": "stream",
     "text": [
      "📰 뉴스 본문 크롤링 진행:  90%|████████▉ | 178/198 [15:15<01:28,  4.43s/it]"
     ]
    },
    {
     "name": "stdout",
     "output_type": "stream",
     "text": [
      "✅ 크롤링 완료: 탈원전 5년간, 해외 수주 ‘0′…이집트 원전이 구세주 될까?...\n"
     ]
    },
    {
     "name": "stderr",
     "output_type": "stream",
     "text": [
      "📰 뉴스 본문 크롤링 진행:  90%|█████████ | 179/198 [15:17<01:06,  3.49s/it]"
     ]
    },
    {
     "name": "stdout",
     "output_type": "stream",
     "text": [
      "✅ 크롤링 완료: 전세계 원전 432기 건설 추진, ‘팀코리아’ 수주 총력전...\n"
     ]
    },
    {
     "name": "stderr",
     "output_type": "stream",
     "text": [
      "📰 뉴스 본문 크롤링 진행:  91%|█████████ | 180/198 [15:18<00:50,  2.81s/it]"
     ]
    },
    {
     "name": "stdout",
     "output_type": "stream",
     "text": [
      "✅ 크롤링 완료: 산업장관 \"사우디 원전 수주 재개 대비…체코·폴란드도 진행\"...\n"
     ]
    },
    {
     "name": "stderr",
     "output_type": "stream",
     "text": [
      "📰 뉴스 본문 크롤링 진행:  91%|█████████▏| 181/198 [15:19<00:41,  2.44s/it]"
     ]
    },
    {
     "name": "stdout",
     "output_type": "stream",
     "text": [
      "✅ 크롤링 완료: (원전수출 진단①) 한미 해외원전 진출 선언 이후…시장은 ‘각자도생’...\n"
     ]
    },
    {
     "name": "stderr",
     "output_type": "stream",
     "text": [
      "📰 뉴스 본문 크롤링 진행:  92%|█████████▏| 182/198 [15:21<00:33,  2.12s/it]"
     ]
    },
    {
     "name": "stdout",
     "output_type": "stream",
     "text": [
      "⚠ 본문을 가져오지 못해 Selenium으로 재시도: https://www.theguru.co.kr/news/article.html?no=31153\n",
      "✅ 크롤링 완료: 한수원·웨스팅하우스 체코서 세 불린다…프랑스 EDF도 사무소 신설...\n"
     ]
    },
    {
     "name": "stderr",
     "output_type": "stream",
     "text": [
      "📰 뉴스 본문 크롤링 진행:  92%|█████████▏| 183/198 [15:25<00:40,  2.73s/it]"
     ]
    },
    {
     "name": "stdout",
     "output_type": "stream",
     "text": [
      "⚠ 본문을 가져오지 못해 Selenium으로 재시도: http://dream.kotra.or.kr/kotranews/cms/news/actionKotraBoardDetail.do?SITE_NO=3&MENU_ID=410&CONTENTS_NO=1&bbsGbn=242&bbsSn=242&pNttSn=193341\n",
      "✅ 크롤링 완료: 체코 신임 정부 정책방향 및 전망...\n"
     ]
    },
    {
     "name": "stderr",
     "output_type": "stream",
     "text": [
      "📰 뉴스 본문 크롤링 진행:  93%|█████████▎| 184/198 [15:29<00:45,  3.24s/it]"
     ]
    },
    {
     "name": "stdout",
     "output_type": "stream",
     "text": [
      "✅ 크롤링 완료: 신한울 3·4호기 건설재개 가속도...\n"
     ]
    },
    {
     "name": "stderr",
     "output_type": "stream",
     "text": [
      "📰 뉴스 본문 크롤링 진행:  93%|█████████▎| 185/198 [15:30<00:34,  2.63s/it]"
     ]
    },
    {
     "name": "stdout",
     "output_type": "stream",
     "text": [
      "⚠ 본문을 가져오지 못해 Selenium으로 재시도: https://premium.mk.co.kr/view.php?no=31676\n",
      "✅ 크롤링 완료: 매경이 전하는 세상의 지식 (매-세-지, 3월 24일)...\n"
     ]
    },
    {
     "name": "stderr",
     "output_type": "stream",
     "text": [
      "📰 뉴스 본문 크롤링 진행:  94%|█████████▍| 186/198 [15:34<00:34,  2.91s/it]"
     ]
    },
    {
     "name": "stdout",
     "output_type": "stream",
     "text": [
      "✅ 크롤링 완료: ‘EU 택소노미’에 원전업계 기회 될까…눈여겨 볼 기업 어디...\n"
     ]
    },
    {
     "name": "stderr",
     "output_type": "stream",
     "text": [
      "📰 뉴스 본문 크롤링 진행:  94%|█████████▍| 187/198 [15:35<00:27,  2.47s/it]"
     ]
    },
    {
     "name": "stdout",
     "output_type": "stream",
     "text": [
      "✅ 크롤링 완료: 체코 원전 수주전 미국쪽으로 기우나...\n"
     ]
    },
    {
     "name": "stderr",
     "output_type": "stream",
     "text": [
      "📰 뉴스 본문 크롤링 진행:  95%|█████████▍| 188/198 [15:37<00:21,  2.12s/it]"
     ]
    },
    {
     "name": "stdout",
     "output_type": "stream",
     "text": [
      "✅ 크롤링 완료: [공기업, 미래 대전환]\"원전 활로, 수출로 뚫는다\"…한수원, 올해 '조 단......\n"
     ]
    },
    {
     "name": "stderr",
     "output_type": "stream",
     "text": [
      "📰 뉴스 본문 크롤링 진행:  95%|█████████▌| 189/198 [15:38<00:17,  1.90s/it]"
     ]
    },
    {
     "name": "stdout",
     "output_type": "stream",
     "text": [
      "⚠ 본문을 가져오지 못해 Selenium으로 재시도: https://www.businesspost.co.kr/BP?command=article_view&num=273174\n",
      "✅ 크롤링 완료: [Who Is ?] 박병석 국회의장...\n"
     ]
    },
    {
     "name": "stderr",
     "output_type": "stream",
     "text": [
      "📰 뉴스 본문 크롤링 진행:  96%|█████████▌| 190/198 [15:42<00:19,  2.47s/it]"
     ]
    },
    {
     "name": "stdout",
     "output_type": "stream",
     "text": [
      "⚠ 본문을 가져오지 못해 Selenium으로 재시도: https://www.businesspost.co.kr/BP?command=article_view&num=273174\n",
      "✅ 크롤링 완료: [Who Is ?] 박병석 국회의장...\n"
     ]
    },
    {
     "name": "stderr",
     "output_type": "stream",
     "text": [
      "📰 뉴스 본문 크롤링 진행:  96%|█████████▋| 191/198 [15:46<00:20,  2.90s/it]"
     ]
    },
    {
     "name": "stdout",
     "output_type": "stream",
     "text": [
      "⚠ 본문을 가져오지 못해 Selenium으로 재시도: https://www.businesspost.co.kr/BP?command=article_view&num=271044\n",
      "✅ 크롤링 완료: [데스크리포트] 2월 기업 동향과 전망 - 공기업...\n"
     ]
    },
    {
     "name": "stderr",
     "output_type": "stream",
     "text": [
      "📰 뉴스 본문 크롤링 진행:  97%|█████████▋| 192/198 [15:50<00:20,  3.37s/it]"
     ]
    },
    {
     "name": "stdout",
     "output_type": "stream",
     "text": [
      "✅ 크롤링 완료: 러시아發 에너지에 덴 유럽… 탈원전 ‘탈출 러시’...\n"
     ]
    },
    {
     "name": "stderr",
     "output_type": "stream",
     "text": [
      "📰 뉴스 본문 크롤링 진행:  97%|█████████▋| 193/198 [15:52<00:13,  2.80s/it]"
     ]
    },
    {
     "name": "stdout",
     "output_type": "stream",
     "text": [
      "✅ 크롤링 완료: [경제 톡톡톡]공동주택 공시가격 17% 올라…역대 3번째 상승...\n"
     ]
    },
    {
     "name": "stderr",
     "output_type": "stream",
     "text": [
      "📰 뉴스 본문 크롤링 진행:  98%|█████████▊| 194/198 [15:53<00:09,  2.39s/it]"
     ]
    },
    {
     "name": "stdout",
     "output_type": "stream",
     "text": [
      "⚠ 본문을 가져오지 못해 Selenium으로 재시도: http://www.fnnews.com/news/202201251752288852\n",
      "✅ 크롤링 완료: ‘신한울 3·4호기 재개’ 대선 공약에… 문승욱 \"재건설 없다\"...\n"
     ]
    },
    {
     "name": "stderr",
     "output_type": "stream",
     "text": [
      "📰 뉴스 본문 크롤링 진행:  98%|█████████▊| 195/198 [15:59<00:10,  3.34s/it]"
     ]
    },
    {
     "name": "stdout",
     "output_type": "stream",
     "text": [
      "⚠ 본문을 가져오지 못해 Selenium으로 재시도: http://www.fnnews.com/news/202201251503242837\n",
      "✅ 크롤링 완료: 문승욱 \"신한울 3, 4호기 건설 없다...사용후핵연료 해결안돼\"...\n"
     ]
    },
    {
     "name": "stderr",
     "output_type": "stream",
     "text": [
      "📰 뉴스 본문 크롤링 진행:  99%|█████████▉| 196/198 [16:04<00:07,  3.86s/it]"
     ]
    },
    {
     "name": "stdout",
     "output_type": "stream",
     "text": [
      "⚠ 본문을 가져오지 못해 Selenium으로 재시도: http://www.smartfn.co.kr/view.php?ud=2022032415121921954409b2f14f_46\n",
      "✅ 크롤링 완료: 국내 건설사, 코로나 위기 딛고 해외시장 박차...\n"
     ]
    },
    {
     "name": "stderr",
     "output_type": "stream",
     "text": [
      "📰 뉴스 본문 크롤링 진행:  99%|█████████▉| 197/198 [16:07<00:03,  3.67s/it]"
     ]
    },
    {
     "name": "stdout",
     "output_type": "stream",
     "text": [
      "✅ 크롤링 완료: [여의도 주식왕 2부] '아진엑스텍 vs 일진전기 vs LS' 여의도를 달굴 종......\n"
     ]
    },
    {
     "name": "stderr",
     "output_type": "stream",
     "text": [
      "📰 뉴스 본문 크롤링 진행: 100%|██████████| 198/198 [16:08<00:00,  4.89s/it]\n"
     ]
    },
    {
     "name": "stdout",
     "output_type": "stream",
     "text": [
      "🔍 검색 중: 두코바니 원전 (2022.04.01 ~ 2022.06.30)\n",
      "✅ 300개의 뉴스 기사 링크 및 날짜를 수집 완료! (2022.04.01 ~ 2022.06.30)\n"
     ]
    },
    {
     "name": "stderr",
     "output_type": "stream",
     "text": [
      "📰 뉴스 본문 크롤링 진행:   0%|          | 0/300 [00:00<?, ?it/s]"
     ]
    },
    {
     "name": "stdout",
     "output_type": "stream",
     "text": [
      "✅ 크롤링 완료: 윤 대통령, 한-체코 정상회담서 \"두코바니 원전에 한국기업 참여 요청\"...\n"
     ]
    },
    {
     "name": "stderr",
     "output_type": "stream",
     "text": [
      "📰 뉴스 본문 크롤링 진행:   0%|          | 1/300 [00:02<14:22,  2.89s/it]"
     ]
    },
    {
     "name": "stdout",
     "output_type": "stream",
     "text": [
      "⚠ 본문을 가져오지 못해 Selenium으로 재시도: http://www.munhwa.com/news/view.html?no=2022062901030303017001\n",
      "✅ 크롤링 완료: 체코와 原電협력 시동… 세계시장 공동진출 MOU...\n"
     ]
    },
    {
     "name": "stderr",
     "output_type": "stream",
     "text": [
      "📰 뉴스 본문 크롤링 진행:   1%|          | 2/300 [00:07<18:50,  3.79s/it]"
     ]
    },
    {
     "name": "stdout",
     "output_type": "stream",
     "text": [
      "✅ 크롤링 완료: 尹 정부, '원전 세일즈' 본격 나서… 체코서 수주활동...\n"
     ]
    },
    {
     "name": "stderr",
     "output_type": "stream",
     "text": [
      "📰 뉴스 본문 크롤링 진행:   1%|          | 3/300 [00:08<13:28,  2.72s/it]"
     ]
    },
    {
     "name": "stdout",
     "output_type": "stream",
     "text": [
      "✅ 크롤링 완료: 尹대통령, 정상들에게 홍보책자 직접 주며 '원전 세일즈'...\n"
     ]
    },
    {
     "name": "stderr",
     "output_type": "stream",
     "text": [
      "📰 뉴스 본문 크롤링 진행:   1%|▏         | 4/300 [00:09<10:12,  2.07s/it]"
     ]
    },
    {
     "name": "stdout",
     "output_type": "stream",
     "text": [
      "✅ 크롤링 완료: 원전·방산·전기차까지…尹, NATO 정상들과 숨가쁜 '세일즈 외교'...\n"
     ]
    },
    {
     "name": "stderr",
     "output_type": "stream",
     "text": [
      "📰 뉴스 본문 크롤링 진행:   2%|▏         | 5/300 [00:11<09:03,  1.84s/it]"
     ]
    },
    {
     "name": "stdout",
     "output_type": "stream",
     "text": [
      "⚠ 본문을 가져오지 못해 Selenium으로 재시도: http://www.edaily.co.kr/news/newspath.asp?newsid=04070486632366968\n",
      "✅ 크롤링 완료: 한수원, 체코 신규 원전 건설 예정지 찾아 ‘원전 세일즈’...\n"
     ]
    },
    {
     "name": "stderr",
     "output_type": "stream",
     "text": [
      "📰 뉴스 본문 크롤링 진행:   2%|▏         | 6/300 [00:17<16:02,  3.27s/it]"
     ]
    },
    {
     "name": "stdout",
     "output_type": "stream",
     "text": [
      "⚠ 본문을 가져오지 못해 Selenium으로 재시도: http://www.fnnews.com/news/202206291831484802\n",
      "✅ 크롤링 완료: 네덜란드 원전 세일즈, 폴란드 신공항 협력… 유럽시장 뚫는다 [尹대통......\n"
     ]
    },
    {
     "name": "stderr",
     "output_type": "stream",
     "text": [
      "📰 뉴스 본문 크롤링 진행:   2%|▏         | 7/300 [00:24<21:45,  4.46s/it]"
     ]
    },
    {
     "name": "stdout",
     "output_type": "stream",
     "text": [
      "✅ 크롤링 완료: 체코 간 이창양 산업장관, 배터리 지렛대 삼아 원전 잡는다...\n"
     ]
    },
    {
     "name": "stderr",
     "output_type": "stream",
     "text": [
      "📰 뉴스 본문 크롤링 진행:   3%|▎         | 8/300 [00:25<17:17,  3.55s/it]"
     ]
    },
    {
     "name": "stdout",
     "output_type": "stream",
     "text": [
      "✅ 크롤링 완료: 한전기술, 체코 TES사와 신규원전사업 MOU 체결...\n"
     ]
    },
    {
     "name": "stderr",
     "output_type": "stream",
     "text": [
      "📰 뉴스 본문 크롤링 진행:   3%|▎         | 9/300 [00:27<13:40,  2.82s/it]"
     ]
    },
    {
     "name": "stdout",
     "output_type": "stream",
     "text": [
      "⚠ 본문을 가져오지 못해 Selenium으로 재시도: http://www.breaknews.com/905726\n",
      "✅ 크롤링 완료: 윤석열 대통령, 체코에 '원전 수주·부산엑스포 유치지지' 요청...\n"
     ]
    },
    {
     "name": "stderr",
     "output_type": "stream",
     "text": [
      "📰 뉴스 본문 크롤링 진행:   3%|▎         | 10/300 [00:34<20:41,  4.28s/it]"
     ]
    },
    {
     "name": "stdout",
     "output_type": "stream",
     "text": [
      "⚠ 본문을 가져오지 못해 Selenium으로 재시도: https://www.dailian.co.kr/news/view/1127952/?sc=Naver\n",
      "✅ 크롤링 완료: 한전기술, 체코 TES사와 신규원전사업 협력 MOU 체결...\n"
     ]
    },
    {
     "name": "stderr",
     "output_type": "stream",
     "text": [
      "📰 뉴스 본문 크롤링 진행:   4%|▎         | 11/300 [00:39<21:17,  4.42s/it]"
     ]
    },
    {
     "name": "stdout",
     "output_type": "stream",
     "text": [
      "✅ 크롤링 완료: [특징주] 에이프로젠 MED, 백신특허·원전 테마 강세에 거래량 급증...주......\n"
     ]
    },
    {
     "name": "stderr",
     "output_type": "stream",
     "text": [
      "📰 뉴스 본문 크롤링 진행:   4%|▍         | 12/300 [00:40<16:38,  3.47s/it]"
     ]
    },
    {
     "name": "stdout",
     "output_type": "stream",
     "text": [
      "✅ 크롤링 완료: “유럽과 원전-방산-반도체 협력”… 中의존 줄여 경제안보 새판짜기...\n"
     ]
    },
    {
     "name": "stderr",
     "output_type": "stream",
     "text": [
      "📰 뉴스 본문 크롤링 진행:   4%|▍         | 13/300 [00:41<13:33,  2.83s/it]"
     ]
    },
    {
     "name": "stdout",
     "output_type": "stream",
     "text": [
      "⚠ 본문을 가져오지 못해 Selenium으로 재시도: http://www.fnnews.com/news/202206241928014955\n",
      "✅ 크롤링 완료: 이창양 첫 출장 체코·폴란드 방문 '원전 세일즈'...\n"
     ]
    },
    {
     "name": "stderr",
     "output_type": "stream",
     "text": [
      "📰 뉴스 본문 크롤링 진행:   5%|▍         | 14/300 [00:47<17:44,  3.72s/it]"
     ]
    },
    {
     "name": "stdout",
     "output_type": "stream",
     "text": [
      "⚠ 본문을 가져오지 못해 Selenium으로 재시도: http://www.breaknews.com/905726\n",
      "✅ 크롤링 완료: 윤석열 대통령, 체코에 '원전 수주·부산엑스포 유치지지' 요청...\n"
     ]
    },
    {
     "name": "stderr",
     "output_type": "stream",
     "text": [
      "📰 뉴스 본문 크롤링 진행:   5%|▌         | 15/300 [00:54<21:44,  4.58s/it]"
     ]
    },
    {
     "name": "stdout",
     "output_type": "stream",
     "text": [
      "✅ 크롤링 완료: [특징주] 우리기술, 원전 수출 본격화 기대에 주가 급등...\n"
     ]
    },
    {
     "name": "stderr",
     "output_type": "stream",
     "text": [
      "📰 뉴스 본문 크롤링 진행:   5%|▌         | 16/300 [00:55<16:50,  3.56s/it]"
     ]
    },
    {
     "name": "stdout",
     "output_type": "stream",
     "text": [
      "✅ 크롤링 완료: [EE칼럼] 원전 최강국 도전과 에너지 수출국의 꿈...\n"
     ]
    },
    {
     "name": "stderr",
     "output_type": "stream",
     "text": [
      "📰 뉴스 본문 크롤링 진행:   6%|▌         | 17/300 [00:56<13:22,  2.84s/it]"
     ]
    },
    {
     "name": "stdout",
     "output_type": "stream",
     "text": [
      "✅ 크롤링 완료: [특징주] '재료 많은' 현대건설, 원전·풍력 기대에 주가↑...4만원대 진......\n"
     ]
    },
    {
     "name": "stderr",
     "output_type": "stream",
     "text": [
      "📰 뉴스 본문 크롤링 진행:   6%|▌         | 18/300 [00:57<11:00,  2.34s/it]"
     ]
    },
    {
     "name": "stdout",
     "output_type": "stream",
     "text": [
      "✅ 크롤링 완료: 원전사업 부활 신호탄에 건설업계 ‘화색’...\n"
     ]
    },
    {
     "name": "stderr",
     "output_type": "stream",
     "text": [
      "📰 뉴스 본문 크롤링 진행:   6%|▋         | 19/300 [00:59<09:17,  1.99s/it]"
     ]
    },
    {
     "name": "stdout",
     "output_type": "stream",
     "text": [
      "⚠ 본문을 가져오지 못해 Selenium으로 재시도: https://www.news1.kr/articles/?4719133\n",
      "✅ 크롤링 완료: 원전부품사 40% 수주 제로…신한울 3·4호기 조기발주 '일감' 확보...\n"
     ]
    },
    {
     "name": "stderr",
     "output_type": "stream",
     "text": [
      "📰 뉴스 본문 크롤링 진행:   7%|▋         | 21/300 [01:09<14:37,  3.14s/it]"
     ]
    },
    {
     "name": "stdout",
     "output_type": "stream",
     "text": [
      "⚠ 오류 발생 (뉴스 크롤링 실패): http://www.sentv.co.kr/news/view/623229, 오류: HTTPSConnectionPool(host='www.sentv.co.kr', port=443): Max retries exceeded with url: /news/view/623229 (Caused by SSLError(SSLCertVerificationError(1, '[SSL: CERTIFICATE_VERIFY_FAILED] certificate verify failed: unable to get local issuer certificate (_ssl.c:1000)')))\n",
      "✅ 크롤링 완료: 산업부, ‘尹 정부 국정과제’ 원전수출전략추진단 설치...\n"
     ]
    },
    {
     "name": "stderr",
     "output_type": "stream",
     "text": [
      "📰 뉴스 본문 크롤링 진행:   7%|▋         | 22/300 [01:10<12:17,  2.65s/it]"
     ]
    },
    {
     "name": "stdout",
     "output_type": "stream",
     "text": [
      "⚠ 본문을 가져오지 못해 Selenium으로 재시도: https://www.asiatoday.co.kr/view.php?key=20220628010016078\n",
      "✅ 크롤링 완료: 윤대통령, 세일즈 외교 통할까…체코 원전·폴란드 방산에 주목...\n"
     ]
    },
    {
     "name": "stderr",
     "output_type": "stream",
     "text": [
      "📰 뉴스 본문 크롤링 진행:   8%|▊         | 23/300 [01:16<17:01,  3.69s/it]"
     ]
    },
    {
     "name": "stdout",
     "output_type": "stream",
     "text": [
      "✅ 크롤링 완료: '復원전 첫 승부처' 체코도 인정한 韓원전…승부는 尹이 쥐고 있다?...\n"
     ]
    },
    {
     "name": "stderr",
     "output_type": "stream",
     "text": [
      "📰 뉴스 본문 크롤링 진행:   8%|▊         | 24/300 [01:19<15:31,  3.37s/it]"
     ]
    },
    {
     "name": "stdout",
     "output_type": "stream",
     "text": [
      "⚠ 본문을 가져오지 못해 Selenium으로 재시도: https://biz.chosun.com/policy/policy_sub/2022/06/17/K34O2P5DG5FPVDQP6TVWY7SZ7A/?utm_source=naver&utm_medium=original&utm_campaign=biz\n",
      "✅ 크롤링 완료: 40兆 먹거리 공략…이창양 산업장관, 폴란드 원전 세일즈 간다...\n"
     ]
    },
    {
     "name": "stderr",
     "output_type": "stream",
     "text": [
      "📰 뉴스 본문 크롤링 진행:   8%|▊         | 25/300 [01:26<20:09,  4.40s/it]"
     ]
    },
    {
     "name": "stdout",
     "output_type": "stream",
     "text": [
      "✅ 크롤링 완료: 원전 업계 찾아 1조 일감 약속한 尹 \"탈원전은 바보같은 짓\"...\n"
     ]
    },
    {
     "name": "stderr",
     "output_type": "stream",
     "text": [
      "📰 뉴스 본문 크롤링 진행:   9%|▊         | 26/300 [01:27<15:54,  3.48s/it]"
     ]
    },
    {
     "name": "stdout",
     "output_type": "stream",
     "text": [
      "✅ 크롤링 완료: \"탈원전 시즌2?\" \"노 모어!\"…韓원전 전문가의 특별한 강연...\n"
     ]
    },
    {
     "name": "stderr",
     "output_type": "stream",
     "text": [
      "📰 뉴스 본문 크롤링 진행:   9%|▉         | 27/300 [01:29<13:14,  2.91s/it]"
     ]
    },
    {
     "name": "stdout",
     "output_type": "stream",
     "text": [
      "✅ 크롤링 완료: [尹대통령, 다자 외교무대 데뷔] 산업계, 원전·방산·반도체 수출 성과......\n"
     ]
    },
    {
     "name": "stderr",
     "output_type": "stream",
     "text": [
      "📰 뉴스 본문 크롤링 진행:   9%|▉         | 28/300 [01:30<10:53,  2.40s/it]"
     ]
    },
    {
     "name": "stdout",
     "output_type": "stream",
     "text": [
      "✅ 크롤링 완료: 대우건설, 차세대원전 SMR 참여 등 미래 원자력 경쟁력 강화...\n"
     ]
    },
    {
     "name": "stderr",
     "output_type": "stream",
     "text": [
      "📰 뉴스 본문 크롤링 진행:  10%|▉         | 29/300 [01:31<09:32,  2.11s/it]"
     ]
    },
    {
     "name": "stdout",
     "output_type": "stream",
     "text": [
      "✅ 크롤링 완료: [급등주]우진 상승, 정부 유럽국가와 원전 수출 논의 예정...\n"
     ]
    },
    {
     "name": "stderr",
     "output_type": "stream",
     "text": [
      "📰 뉴스 본문 크롤링 진행:  10%|█         | 30/300 [01:33<08:19,  1.85s/it]"
     ]
    },
    {
     "name": "stdout",
     "output_type": "stream",
     "text": [
      "⚠ 본문을 가져오지 못해 Selenium으로 재시도: http://www.munhwa.com/news/view.html?no=2022062301033403017001\n",
      "✅ 크롤링 완료: <뉴스와 시각>체코도 환영한 탈원전 폐기...\n"
     ]
    },
    {
     "name": "stderr",
     "output_type": "stream",
     "text": [
      "📰 뉴스 본문 크롤링 진행:  10%|█         | 31/300 [01:38<12:34,  2.80s/it]"
     ]
    },
    {
     "name": "stdout",
     "output_type": "stream",
     "text": [
      "✅ 크롤링 완료: \"원전 수출, 대통령이 나서야\"...첫 승부처 체코 \"韓기술 인정\"...\n"
     ]
    },
    {
     "name": "stderr",
     "output_type": "stream",
     "text": [
      "📰 뉴스 본문 크롤링 진행:  11%|█         | 32/300 [01:39<10:58,  2.46s/it]"
     ]
    },
    {
     "name": "stdout",
     "output_type": "stream",
     "text": [
      "✅ 크롤링 완료: [단독]尹정부 원전세일즈 시동…이창양 산업부 장관 8兆 원전 체코 간다...\n"
     ]
    },
    {
     "name": "stderr",
     "output_type": "stream",
     "text": [
      "📰 뉴스 본문 크롤링 진행:  11%|█         | 33/300 [01:41<09:44,  2.19s/it]"
     ]
    },
    {
     "name": "stdout",
     "output_type": "stream",
     "text": [
      "⚠ 본문을 가져오지 못해 Selenium으로 재시도: https://www.ktv.go.kr/content/view?content_id=650695\n",
      "✅ 크롤링 완료: 이창양 장관, 체코·폴란드 방문···'원전 세일즈' 시동...\n"
     ]
    },
    {
     "name": "stderr",
     "output_type": "stream",
     "text": [
      "📰 뉴스 본문 크롤링 진행:  11%|█▏        | 34/300 [01:46<13:37,  3.07s/it]"
     ]
    },
    {
     "name": "stdout",
     "output_type": "stream",
     "text": [
      "✅ 크롤링 완료: 윤석열 대통령, 나토 참석 키워드 '안보'와 '원전'...\n"
     ]
    },
    {
     "name": "stderr",
     "output_type": "stream",
     "text": [
      "📰 뉴스 본문 크롤링 진행:  12%|█▏        | 35/300 [01:47<11:25,  2.59s/it]"
     ]
    },
    {
     "name": "stdout",
     "output_type": "stream",
     "text": [
      "⚠ 본문을 가져오지 못해 Selenium으로 재시도: http://www.edaily.co.kr/news/newspath.asp?newsid=02735526632362704\n",
      "✅ 크롤링 완료: 대우건설, 차세대원전 SMR 참여로 경쟁력 강화한다...\n"
     ]
    },
    {
     "name": "stderr",
     "output_type": "stream",
     "text": [
      "📰 뉴스 본문 크롤링 진행:  12%|█▏        | 36/300 [01:53<15:27,  3.51s/it]"
     ]
    },
    {
     "name": "stdout",
     "output_type": "stream",
     "text": [
      "⚠ 본문을 가져오지 못해 Selenium으로 재시도: http://www.mediapen.com/news/view/731541\n",
      "✅ 크롤링 완료: 원전산업 강화에 범정부 지원 돌인...\n"
     ]
    },
    {
     "name": "stderr",
     "output_type": "stream",
     "text": [
      "📰 뉴스 본문 크롤링 진행:  12%|█▏        | 37/300 [01:58<16:53,  3.85s/it]"
     ]
    },
    {
     "name": "stdout",
     "output_type": "stream",
     "text": [
      "✅ 크롤링 완료: 정부 원전 협력업체 지원대책은?...\n"
     ]
    },
    {
     "name": "stderr",
     "output_type": "stream",
     "text": [
      "📰 뉴스 본문 크롤링 진행:  13%|█▎        | 38/300 [01:59<13:20,  3.06s/it]"
     ]
    },
    {
     "name": "stdout",
     "output_type": "stream",
     "text": [
      "✅ 크롤링 완료: '원전 세일즈' 시동 건 산업장관…48조 동유럽 시장 찾는다...\n"
     ]
    },
    {
     "name": "stderr",
     "output_type": "stream",
     "text": [
      "📰 뉴스 본문 크롤링 진행:  13%|█▎        | 39/300 [02:00<10:59,  2.53s/it]"
     ]
    },
    {
     "name": "stdout",
     "output_type": "stream",
     "text": [
      "⚠ 본문을 가져오지 못해 Selenium으로 재시도: http://news.mk.co.kr/newsRead.php?no=499861&year=2022\n",
      "✅ 크롤링 완료: [단독] 웨스팅하우스 사장단 극비 방한…탄력받는 '한미 원전동맹'...\n"
     ]
    },
    {
     "name": "stderr",
     "output_type": "stream",
     "text": [
      "📰 뉴스 본문 크롤링 진행:  13%|█▎        | 40/300 [02:06<15:27,  3.57s/it]"
     ]
    },
    {
     "name": "stdout",
     "output_type": "stream",
     "text": [
      "✅ 크롤링 완료: \"940조 원전시장 잡자\" 한미 원전동맹 첫발…주도권 누가?...\n"
     ]
    },
    {
     "name": "stderr",
     "output_type": "stream",
     "text": [
      "📰 뉴스 본문 크롤링 진행:  14%|█▎        | 41/300 [02:08<12:50,  2.98s/it]"
     ]
    },
    {
     "name": "stdout",
     "output_type": "stream",
     "text": [
      "⚠ 본문을 가져오지 못해 Selenium으로 재시도: https://hankookilbo.com/News/Read/A2022063016360003458?did=NA\n",
      "✅ 크롤링 완료: 한-영 정상, 협력 프레임워크 채택... 윤 대통령 나토 순방 마무리...\n"
     ]
    },
    {
     "name": "stderr",
     "output_type": "stream",
     "text": [
      "📰 뉴스 본문 크롤링 진행:  14%|█▍        | 42/300 [02:18<21:29,  5.00s/it]"
     ]
    },
    {
     "name": "stdout",
     "output_type": "stream",
     "text": [
      "✅ 크롤링 완료: [특징주] 원전 관련주 피코그램 주가 강세...'체코·폴란드 방문한다'...\n"
     ]
    },
    {
     "name": "stderr",
     "output_type": "stream",
     "text": [
      "📰 뉴스 본문 크롤링 진행:  14%|█▍        | 43/300 [02:19<16:37,  3.88s/it]"
     ]
    },
    {
     "name": "stdout",
     "output_type": "stream",
     "text": [
      "✅ 크롤링 완료: 美원전기업 웨스팅하우스 오늘 방한, 한전과 원전 수출 협의...\n"
     ]
    },
    {
     "name": "stderr",
     "output_type": "stream",
     "text": [
      "📰 뉴스 본문 크롤링 진행:  15%|█▍        | 44/300 [02:20<13:10,  3.09s/it]"
     ]
    },
    {
     "name": "stdout",
     "output_type": "stream",
     "text": [
      "⚠ 본문을 가져오지 못해 Selenium으로 재시도: http://www.yonhapnewstv.co.kr/MYH20220623016600641/?input=1825m\n",
      "✅ 크롤링 완료: 48조 규모 '원전 세일즈'…체코·폴란드 시장 공략...\n"
     ]
    },
    {
     "name": "stderr",
     "output_type": "stream",
     "text": [
      "📰 뉴스 본문 크롤링 진행:  15%|█▌        | 45/300 [02:26<17:19,  4.08s/it]"
     ]
    },
    {
     "name": "stdout",
     "output_type": "stream",
     "text": [
      "✅ 크롤링 완료: 원전 설계부터 해체까지 토털솔루션…대우건설 글로벌 원전시공강자 급......\n"
     ]
    },
    {
     "name": "stderr",
     "output_type": "stream",
     "text": [
      "📰 뉴스 본문 크롤링 진행:  15%|█▌        | 46/300 [02:28<13:50,  3.27s/it]"
     ]
    },
    {
     "name": "stdout",
     "output_type": "stream",
     "text": [
      "⚠ 본문을 가져오지 못해 Selenium으로 재시도: http://www.mediapen.com/news/view/729664\n",
      "✅ 크롤링 완료: 산업부, 범정부 지원으로 원전수주 추진...\n"
     ]
    },
    {
     "name": "stderr",
     "output_type": "stream",
     "text": [
      "📰 뉴스 본문 크롤링 진행:  16%|█▌        | 47/300 [02:32<14:57,  3.55s/it]"
     ]
    },
    {
     "name": "stdout",
     "output_type": "stream",
     "text": [
      "⚠ 본문을 가져오지 못해 Selenium으로 재시도: https://www.theguru.co.kr/news/article.html?no=37272\n",
      "✅ 크롤링 완료: \"체코 원전 현지화 70%만 정해졌을 뿐…韓·美·佛 승자 안개\"...\n"
     ]
    },
    {
     "name": "stderr",
     "output_type": "stream",
     "text": [
      "📰 뉴스 본문 크롤링 진행:  16%|█▌        | 48/300 [02:37<16:09,  3.85s/it]"
     ]
    },
    {
     "name": "stdout",
     "output_type": "stream",
     "text": [
      "✅ 크롤링 완료: 닻 올리는 한미 ‘원전 어벤저스’…‘실익 챙기기’는 관건...\n"
     ]
    },
    {
     "name": "stderr",
     "output_type": "stream",
     "text": [
      "📰 뉴스 본문 크롤링 진행:  16%|█▋        | 49/300 [02:38<12:59,  3.10s/it]"
     ]
    },
    {
     "name": "stdout",
     "output_type": "stream",
     "text": [
      "✅ 크롤링 완료: 삼성물산·현대건설, 나란히 '원전‧중동' 해외 수주 시장 정조준...\n"
     ]
    },
    {
     "name": "stderr",
     "output_type": "stream",
     "text": [
      "📰 뉴스 본문 크롤링 진행:  17%|█▋        | 50/300 [02:39<10:55,  2.62s/it]"
     ]
    },
    {
     "name": "stdout",
     "output_type": "stream",
     "text": [
      "⚠ 본문을 가져오지 못해 Selenium으로 재시도: https://www.theguru.co.kr/news/article.html?no=37314\n",
      "✅ 크롤링 완료: 정재훈 한수원 사장 \"체코 원전 1순위…SMR도 협력\"...\n"
     ]
    },
    {
     "name": "stderr",
     "output_type": "stream",
     "text": [
      "📰 뉴스 본문 크롤링 진행:  17%|█▋        | 51/300 [02:44<12:37,  3.04s/it]"
     ]
    },
    {
     "name": "stdout",
     "output_type": "stream",
     "text": [
      "✅ 크롤링 완료: [탈탈원전 한달] 원전 수출 속도 붙었다…한·미 협력 강화...\n"
     ]
    },
    {
     "name": "stderr",
     "output_type": "stream",
     "text": [
      "📰 뉴스 본문 크롤링 진행:  17%|█▋        | 52/300 [02:45<10:27,  2.53s/it]"
     ]
    },
    {
     "name": "stdout",
     "output_type": "stream",
     "text": [
      "⚠ 본문을 가져오지 못해 Selenium으로 재시도: http://www.munhwa.com/news/view.html?no=2022053101071903017001\n",
      "✅ 크롤링 완료: 한수원 사장 김준동·박기영 등 거론 “親원전 정책 전환·조직 재정비......\n"
     ]
    },
    {
     "name": "stderr",
     "output_type": "stream",
     "text": [
      "📰 뉴스 본문 크롤링 진행:  18%|█▊        | 53/300 [02:49<12:42,  3.09s/it]"
     ]
    },
    {
     "name": "stdout",
     "output_type": "stream",
     "text": [
      "✅ 크롤링 완료: 대한전선, 주가 상승…원전으로 수출과 탄소중립 잡는다...\n"
     ]
    },
    {
     "name": "stderr",
     "output_type": "stream",
     "text": [
      "📰 뉴스 본문 크롤링 진행:  18%|█▊        | 54/300 [02:51<10:25,  2.54s/it]"
     ]
    },
    {
     "name": "stdout",
     "output_type": "stream",
     "text": [
      "✅ 크롤링 완료: 유럽·동남아까지 원전 '훈풍'…韓 기업, 영토확장 총력전...\n"
     ]
    },
    {
     "name": "stderr",
     "output_type": "stream",
     "text": [
      "📰 뉴스 본문 크롤링 진행:  18%|█▊        | 55/300 [02:52<08:43,  2.14s/it]"
     ]
    },
    {
     "name": "stdout",
     "output_type": "stream",
     "text": [
      "✅ 크롤링 완료: [특징주] 서전기전, 체코·폴란드 '50조 규모' … 해외 원전 수주 가능성......\n"
     ]
    },
    {
     "name": "stderr",
     "output_type": "stream",
     "text": [
      "📰 뉴스 본문 크롤링 진행:  19%|█▊        | 56/300 [02:53<07:43,  1.90s/it]"
     ]
    },
    {
     "name": "stdout",
     "output_type": "stream",
     "text": [
      "✅ 크롤링 완료: 尹정부 '탈원전 지우기'...공기업 수장 물갈이에 원전 진흥 속도...\n"
     ]
    },
    {
     "name": "stderr",
     "output_type": "stream",
     "text": [
      "📰 뉴스 본문 크롤링 진행:  19%|█▉        | 57/300 [02:55<07:13,  1.78s/it]"
     ]
    },
    {
     "name": "stdout",
     "output_type": "stream",
     "text": [
      "⚠ 본문을 가져오지 못해 Selenium으로 재시도: https://www.theguru.co.kr/news/article.html?no=36455\n",
      "✅ 크롤링 완료: 체코 총리, 마크롱 대통령과 '원전 미팅'…한수원 예의주시...\n"
     ]
    },
    {
     "name": "stderr",
     "output_type": "stream",
     "text": [
      "📰 뉴스 본문 크롤링 진행:  19%|█▉        | 58/300 [02:59<10:03,  2.49s/it]"
     ]
    },
    {
     "name": "stdout",
     "output_type": "stream",
     "text": [
      "✅ 크롤링 완료: [특징주] 보성파워텍, 체코까지 원전 수주 뻗어갈까…주가 살펴보니...\n"
     ]
    },
    {
     "name": "stderr",
     "output_type": "stream",
     "text": [
      "📰 뉴스 본문 크롤링 진행:  20%|█▉        | 59/300 [03:00<08:28,  2.11s/it]"
     ]
    },
    {
     "name": "stdout",
     "output_type": "stream",
     "text": [
      "⚠ 본문을 가져오지 못해 Selenium으로 재시도: http://www.munhwa.com/news/view.html?no=2022053001031903017001\n",
      "✅ 크롤링 완료: 세계 최고수준 원전건설 기술… 체코 두코바니서 재현한다...\n"
     ]
    },
    {
     "name": "stderr",
     "output_type": "stream",
     "text": [
      "📰 뉴스 본문 크롤링 진행:  20%|██        | 60/300 [03:04<10:42,  2.68s/it]"
     ]
    },
    {
     "name": "stdout",
     "output_type": "stream",
     "text": [
      "✅ 크롤링 완료: 尹, 마지막까지 '세일즈 외교'…3박5일, 16건 외교일정 소화...\n"
     ]
    },
    {
     "name": "stderr",
     "output_type": "stream",
     "text": [
      "📰 뉴스 본문 크롤링 진행:  20%|██        | 61/300 [03:05<08:55,  2.24s/it]"
     ]
    },
    {
     "name": "stdout",
     "output_type": "stream",
     "text": [
      "⚠ 본문을 가져오지 못해 Selenium으로 재시도: https://www.theguru.co.kr/news/article.html?no=35720\n",
      "✅ 크롤링 완료: '한수원 눈독' 체코 두코바니·테멜린 원전 내진성능 평가 착수...\n"
     ]
    },
    {
     "name": "stderr",
     "output_type": "stream",
     "text": [
      "📰 뉴스 본문 크롤링 진행:  21%|██        | 62/300 [03:09<11:08,  2.81s/it]"
     ]
    },
    {
     "name": "stdout",
     "output_type": "stream",
     "text": [
      "✅ 크롤링 완료: (인터뷰)김창수 대한전기협회 KEPIC 본부장...\n"
     ]
    },
    {
     "name": "stderr",
     "output_type": "stream",
     "text": [
      "📰 뉴스 본문 크롤링 진행:  21%|██        | 63/300 [03:11<09:40,  2.45s/it]"
     ]
    },
    {
     "name": "stdout",
     "output_type": "stream",
     "text": [
      "✅ 크롤링 완료: [포토타임] 尹, 나토 일정 마치고 귀국길…3박 5일 세일즈 외교 펼쳐...\n"
     ]
    },
    {
     "name": "stderr",
     "output_type": "stream",
     "text": [
      "📰 뉴스 본문 크롤링 진행:  21%|██▏       | 64/300 [03:12<08:18,  2.11s/it]"
     ]
    },
    {
     "name": "stdout",
     "output_type": "stream",
     "text": [
      "✅ 크롤링 완료: 원전 체코 진출 전략 논의한 한수원…두코바니 원전 '수주전'...\n"
     ]
    },
    {
     "name": "stderr",
     "output_type": "stream",
     "text": [
      "📰 뉴스 본문 크롤링 진행:  22%|██▏       | 65/300 [03:13<07:11,  1.84s/it]"
     ]
    },
    {
     "name": "stdout",
     "output_type": "stream",
     "text": [
      "⚠ 본문을 가져오지 못해 Selenium으로 재시도: https://www.voakorea.com/a/6639444.html\n",
      "✅ 크롤링 완료: 윤석열 한국 대통령, 캐나다∙체코에 '북핵 협력' 당부...중국, 아태 4개......\n"
     ]
    },
    {
     "name": "stderr",
     "output_type": "stream",
     "text": [
      "📰 뉴스 본문 크롤링 진행:  22%|██▏       | 66/300 [03:18<10:43,  2.75s/it]"
     ]
    },
    {
     "name": "stdout",
     "output_type": "stream",
     "text": [
      "⚠ 본문을 가져오지 못해 Selenium으로 재시도: https://www.ktv.go.kr/content/view?content_id=650973\n",
      "✅ 크롤링 완료: 윤 대통령, 영국·체코와 정상회담···나토 총장 면담...\n"
     ]
    },
    {
     "name": "stderr",
     "output_type": "stream",
     "text": [
      "📰 뉴스 본문 크롤링 진행:  22%|██▏       | 67/300 [03:22<12:10,  3.14s/it]"
     ]
    },
    {
     "name": "stdout",
     "output_type": "stream",
     "text": [
      "✅ 크롤링 완료: 원전 수출 가능성 커진다… 13년 만에 낭보 울릴까...\n"
     ]
    },
    {
     "name": "stderr",
     "output_type": "stream",
     "text": [
      "📰 뉴스 본문 크롤링 진행:  23%|██▎       | 68/300 [03:24<10:06,  2.62s/it]"
     ]
    },
    {
     "name": "stdout",
     "output_type": "stream",
     "text": [
      "⚠ 본문을 가져오지 못해 Selenium으로 재시도: https://www.dnews.co.kr/uhtml/view.jsp?idxno=202206081211470490064\n",
      "✅ 크롤링 완료: [기획] 글로벌 원전시장 두드리는 한국…수주 역량 강화 방안은...\n"
     ]
    },
    {
     "name": "stderr",
     "output_type": "stream",
     "text": [
      "📰 뉴스 본문 크롤링 진행:  23%|██▎       | 69/300 [03:29<12:36,  3.27s/it]"
     ]
    },
    {
     "name": "stdout",
     "output_type": "stream",
     "text": [
      "✅ 크롤링 완료: [에너지 뉴스] 광해광업공단, 니켈·코발트 등 핵심광물 재자원화 산업......\n"
     ]
    },
    {
     "name": "stderr",
     "output_type": "stream",
     "text": [
      "📰 뉴스 본문 크롤링 진행:  23%|██▎       | 70/300 [03:30<10:12,  2.66s/it]"
     ]
    },
    {
     "name": "stdout",
     "output_type": "stream",
     "text": [
      "⚠ 본문을 가져오지 못해 Selenium으로 재시도: http://www.fnnews.com/news/202205291823389333\n",
      "✅ 크롤링 완료: 체코 8조·폴란드 40조 수주 정조준… ‘K원전 수출’ 붐 살린다 [한미 ......\n"
     ]
    },
    {
     "name": "stderr",
     "output_type": "stream",
     "text": [
      "📰 뉴스 본문 크롤링 진행:  24%|██▎       | 71/300 [03:37<15:08,  3.97s/it]"
     ]
    },
    {
     "name": "stdout",
     "output_type": "stream",
     "text": [
      "⚠ 본문을 가져오지 못해 Selenium으로 재시도: http://www.munhwa.com/news/view.html?no=2022053001031905000001\n",
      "✅ 크롤링 완료: 한수원, 이집트 원전 최종계약 체결 임박...\n"
     ]
    },
    {
     "name": "stderr",
     "output_type": "stream",
     "text": [
      "📰 뉴스 본문 크롤링 진행:  24%|██▍       | 72/300 [03:42<16:16,  4.28s/it]"
     ]
    },
    {
     "name": "stdout",
     "output_type": "stream",
     "text": [
      "✅ 크롤링 완료: 한미 원전동맹 강화…폴란드·체코 원전 수주 기대...\n"
     ]
    },
    {
     "name": "stderr",
     "output_type": "stream",
     "text": [
      "📰 뉴스 본문 크롤링 진행:  24%|██▍       | 73/300 [03:43<13:03,  3.45s/it]"
     ]
    },
    {
     "name": "stdout",
     "output_type": "stream",
     "text": [
      "⚠ 본문을 가져오지 못해 Selenium으로 재시도: http://www.munhwa.com/news/view.html?no=2022052301071403017001\n",
      "✅ 크롤링 완료: ‘原電’ 손잡은 韓·美… 차세대 SMR 시장 선도할 발판 마련...\n"
     ]
    },
    {
     "name": "stderr",
     "output_type": "stream",
     "text": [
      "📰 뉴스 본문 크롤링 진행:  25%|██▍       | 74/300 [03:48<13:50,  3.68s/it]"
     ]
    },
    {
     "name": "stdout",
     "output_type": "stream",
     "text": [
      "⚠ 본문을 가져오지 못해 Selenium으로 재시도: http://news.mk.co.kr/newsRead.php?no=451832&year=2022\n",
      "✅ 크롤링 완료: [단독] 한미 원전 협력, 유럽부터 공략한다…방산 원전주 쓸어담아야 하......\n"
     ]
    },
    {
     "name": "stderr",
     "output_type": "stream",
     "text": [
      "📰 뉴스 본문 크롤링 진행:  25%|██▌       | 75/300 [03:52<14:35,  3.89s/it]"
     ]
    },
    {
     "name": "stdout",
     "output_type": "stream",
     "text": [
      "⚠ 본문을 가져오지 못해 Selenium으로 재시도: http://www.mediapen.com/news/view/723766\n",
      "✅ 크롤링 완료: 5년간 막혔던 원전 수주 길 뚫릴까...\n"
     ]
    },
    {
     "name": "stderr",
     "output_type": "stream",
     "text": [
      "📰 뉴스 본문 크롤링 진행:  25%|██▌       | 76/300 [03:57<15:21,  4.11s/it]"
     ]
    },
    {
     "name": "stdout",
     "output_type": "stream",
     "text": [
      "⚠ 본문을 가져오지 못해 Selenium으로 재시도: http://www.fnnews.com/news/202206281755381772\n",
      "✅ 크롤링 완료: 대우건설, 국내 유일 원자력 종합솔루션 건설사 거듭...\n"
     ]
    },
    {
     "name": "stderr",
     "output_type": "stream",
     "text": [
      "📰 뉴스 본문 크롤링 진행:  26%|██▌       | 77/300 [04:02<17:02,  4.58s/it]"
     ]
    },
    {
     "name": "stdout",
     "output_type": "stream",
     "text": [
      "✅ 크롤링 완료: \"원전 2년에 1개씩 짓는다\"...유럽이 다시 원전에 꽂힌 이유...\n"
     ]
    },
    {
     "name": "stderr",
     "output_type": "stream",
     "text": [
      "📰 뉴스 본문 크롤링 진행:  26%|██▌       | 78/300 [04:04<13:44,  3.72s/it]"
     ]
    },
    {
     "name": "stdout",
     "output_type": "stream",
     "text": [
      "✅ 크롤링 완료: (2022 한국원자력연차대회) \"대형원전과 SMR 함께 가야…전력공급·도매......\n"
     ]
    },
    {
     "name": "stderr",
     "output_type": "stream",
     "text": [
      "📰 뉴스 본문 크롤링 진행:  26%|██▋       | 79/300 [04:05<11:14,  3.05s/it]"
     ]
    },
    {
     "name": "stdout",
     "output_type": "stream",
     "text": [
      "⚠ 본문을 가져오지 못해 Selenium으로 재시도: http://www.mediapen.com/news/view/719595\n",
      "✅ 크롤링 완료: \"원전, 에너지전환 게임체인저…탄소중립 기본 축\"...\n"
     ]
    },
    {
     "name": "stderr",
     "output_type": "stream",
     "text": [
      "📰 뉴스 본문 크롤링 진행:  27%|██▋       | 80/300 [04:10<12:37,  3.44s/it]"
     ]
    },
    {
     "name": "stdout",
     "output_type": "stream",
     "text": [
      "✅ 크롤링 완료: 한수원, \"체코이어 폴란드 신규원전사업 수주한다\"...\n"
     ]
    },
    {
     "name": "stderr",
     "output_type": "stream",
     "text": [
      "📰 뉴스 본문 크롤링 진행:  27%|██▋       | 81/300 [04:11<10:06,  2.77s/it]"
     ]
    },
    {
     "name": "stdout",
     "output_type": "stream",
     "text": [
      "✅ 크롤링 완료: 우리기술, 1분기 원전 수주 증가…혁신형 소형모듈원전 개발 참여 예정...\n"
     ]
    },
    {
     "name": "stderr",
     "output_type": "stream",
     "text": [
      "📰 뉴스 본문 크롤링 진행:  27%|██▋       | 82/300 [04:12<08:18,  2.29s/it]"
     ]
    },
    {
     "name": "stdout",
     "output_type": "stream",
     "text": [
      "⚠ 본문을 가져오지 못해 Selenium으로 재시도: http://www.edaily.co.kr/news/newspath.asp?newsid=02863446632298416\n",
      "✅ 크롤링 완료: K-원전 수출 수요 부활…조광ILI, 실적 개선 기대감...\n"
     ]
    },
    {
     "name": "stderr",
     "output_type": "stream",
     "text": [
      "📰 뉴스 본문 크롤링 진행:  28%|██▊       | 83/300 [04:18<12:13,  3.38s/it]"
     ]
    },
    {
     "name": "stdout",
     "output_type": "stream",
     "text": [
      "⚠ 본문을 가져오지 못해 Selenium으로 재시도: https://www.theguru.co.kr/news/article.html?no=33576\n",
      "✅ 크롤링 완료: [단독] 체코 CEZ \"테멜린 원전 부지 내 SMR 건설\"…두산중공업·현대건설......\n"
     ]
    },
    {
     "name": "stderr",
     "output_type": "stream",
     "text": [
      "📰 뉴스 본문 크롤링 진행:  28%|██▊       | 84/300 [04:22<13:10,  3.66s/it]"
     ]
    },
    {
     "name": "stdout",
     "output_type": "stream",
     "text": [
      "✅ 크롤링 완료: 러 침략에 원전 확대 기조…불 붙는 원전株·우라늄ETF...\n"
     ]
    },
    {
     "name": "stderr",
     "output_type": "stream",
     "text": [
      "📰 뉴스 본문 크롤링 진행:  28%|██▊       | 85/300 [04:24<10:24,  2.91s/it]"
     ]
    },
    {
     "name": "stdout",
     "output_type": "stream",
     "text": [
      "✅ 크롤링 완료: [특징주] '한전기술' 체코 원전 수주 회의로 장마감 강세보여...\n"
     ]
    },
    {
     "name": "stderr",
     "output_type": "stream",
     "text": [
      "📰 뉴스 본문 크롤링 진행:  29%|██▊       | 86/300 [04:25<08:32,  2.40s/it]"
     ]
    },
    {
     "name": "stdout",
     "output_type": "stream",
     "text": [
      "✅ 크롤링 완료: 비츠로테크, 원전사업으로 제2도약 꿈꾼다...\n"
     ]
    },
    {
     "name": "stderr",
     "output_type": "stream",
     "text": [
      "📰 뉴스 본문 크롤링 진행:  29%|██▉       | 87/300 [04:26<07:43,  2.18s/it]"
     ]
    },
    {
     "name": "stdout",
     "output_type": "stream",
     "text": [
      "⚠ 본문을 가져오지 못해 Selenium으로 재시도: https://www.businesspost.co.kr/BP?command=article_view&num=278863\n",
      "✅ 크롤링 완료: 한수원 해외수주 도전 이어져, 수주활동 이끌 사장 인선은 기약 없어...\n"
     ]
    },
    {
     "name": "stderr",
     "output_type": "stream",
     "text": [
      "📰 뉴스 본문 크롤링 진행:  29%|██▉       | 88/300 [04:31<10:19,  2.92s/it]"
     ]
    },
    {
     "name": "stdout",
     "output_type": "stream",
     "text": [
      "⚠ 본문을 가져오지 못해 Selenium으로 재시도: https://www.theguru.co.kr/news/article.html?no=36807\n",
      "✅ 크롤링 완료: 한수원, 체코 공대 SMR 컨퍼런스 참가...\n"
     ]
    },
    {
     "name": "stderr",
     "output_type": "stream",
     "text": [
      "📰 뉴스 본문 크롤링 진행:  30%|██▉       | 89/300 [04:35<11:34,  3.29s/it]"
     ]
    },
    {
     "name": "stdout",
     "output_type": "stream",
     "text": [
      "✅ 크롤링 완료: (2022년 원자력학회 춘계학술발표회) \"신한울 3·4호기, 원전수출 통한 ......\n"
     ]
    },
    {
     "name": "stderr",
     "output_type": "stream",
     "text": [
      "📰 뉴스 본문 크롤링 진행:  30%|███       | 90/300 [04:37<09:34,  2.73s/it]"
     ]
    },
    {
     "name": "stdout",
     "output_type": "stream",
     "text": [
      "⚠ 본문을 가져오지 못해 Selenium으로 재시도: http://www.naeil.com/news_view/?id_art=423512\n",
      "✅ 크롤링 완료: [탄소중립과 원자력 | ④ 수출 · SMR] 2030년까지 원전 10기 수출 … 원......\n"
     ]
    },
    {
     "name": "stderr",
     "output_type": "stream",
     "text": [
      "📰 뉴스 본문 크롤링 진행:  30%|███       | 91/300 [04:43<13:06,  3.76s/it]"
     ]
    },
    {
     "name": "stdout",
     "output_type": "stream",
     "text": [
      "✅ 크롤링 완료: 삼성물산·현대건설·대우건설, 원전사업 통해 세계로...\n"
     ]
    },
    {
     "name": "stderr",
     "output_type": "stream",
     "text": [
      "📰 뉴스 본문 크롤링 진행:  31%|███       | 92/300 [04:46<12:31,  3.61s/it]"
     ]
    },
    {
     "name": "stdout",
     "output_type": "stream",
     "text": [
      "✅ 크롤링 완료: 尹 ‘원전 최강국’ 본격 시동…힘 받는 원전업계...\n"
     ]
    },
    {
     "name": "stderr",
     "output_type": "stream",
     "text": [
      "📰 뉴스 본문 크롤링 진행:  31%|███       | 93/300 [04:48<10:18,  2.99s/it]"
     ]
    },
    {
     "name": "stdout",
     "output_type": "stream",
     "text": [
      "✅ 크롤링 완료: 尹 ‘원전 최강국’ 본격 시동…탈원전에 숨죽였던 기업들 환호 [비즈3......\n"
     ]
    },
    {
     "name": "stderr",
     "output_type": "stream",
     "text": [
      "📰 뉴스 본문 크롤링 진행:  31%|███▏      | 94/300 [04:49<08:43,  2.54s/it]"
     ]
    },
    {
     "name": "stdout",
     "output_type": "stream",
     "text": [
      "✅ 크롤링 완료: 국정과제에 포함된 '탈원전 폐기'…원전 시장은 어떻게...\n"
     ]
    },
    {
     "name": "stderr",
     "output_type": "stream",
     "text": [
      "📰 뉴스 본문 크롤링 진행:  32%|███▏      | 95/300 [04:51<07:31,  2.20s/it]"
     ]
    },
    {
     "name": "stdout",
     "output_type": "stream",
     "text": [
      "✅ 크롤링 완료: 한국, 원전강국으로 거듭난다…\"시장 확대 속도\"...\n"
     ]
    },
    {
     "name": "stderr",
     "output_type": "stream",
     "text": [
      "📰 뉴스 본문 크롤링 진행:  32%|███▏      | 96/300 [04:52<06:28,  1.90s/it]"
     ]
    },
    {
     "name": "stdout",
     "output_type": "stream",
     "text": [
      "✅ 크롤링 완료: [급등주] 서전기전 18% 상승 '한수원, 원전 수출 박차'...\n"
     ]
    },
    {
     "name": "stderr",
     "output_type": "stream",
     "text": [
      "📰 뉴스 본문 크롤링 진행:  32%|███▏      | 97/300 [04:53<05:44,  1.70s/it]"
     ]
    },
    {
     "name": "stdout",
     "output_type": "stream",
     "text": [
      "⚠ 본문을 가져오지 못해 Selenium으로 재시도: http://www.naeil.com/news_view/?id_art=421111\n",
      "✅ 크롤링 완료: 체코 폴란드로 한국형원전 수출 박차...\n"
     ]
    },
    {
     "name": "stderr",
     "output_type": "stream",
     "text": [
      "📰 뉴스 본문 크롤링 진행:  33%|███▎      | 98/300 [04:57<08:36,  2.55s/it]"
     ]
    },
    {
     "name": "stdout",
     "output_type": "stream",
     "text": [
      "⚠ 본문을 가져오지 못해 Selenium으로 재시도: https://hankookilbo.com/News/Read/A2022042114440005709?did=NA\n",
      "✅ 크롤링 완료: 원전수출 최강국 시험대? 한수원, 폴란드에 신규 원전사업 제안서 제출...\n"
     ]
    },
    {
     "name": "stderr",
     "output_type": "stream",
     "text": [
      "📰 뉴스 본문 크롤링 진행:  33%|███▎      | 99/300 [05:03<11:52,  3.54s/it]"
     ]
    },
    {
     "name": "stdout",
     "output_type": "stream",
     "text": [
      "✅ 크롤링 완료: 한신기계, 3거래일 연속 하락세 반전 성공…원전 수출 가능할까?...\n"
     ]
    },
    {
     "name": "stderr",
     "output_type": "stream",
     "text": [
      "📰 뉴스 본문 크롤링 진행:  33%|███▎      | 100/300 [05:05<09:45,  2.93s/it]"
     ]
    },
    {
     "name": "stdout",
     "output_type": "stream",
     "text": [
      "⚠ 본문을 가져오지 못해 Selenium으로 재시도: http://www.munhwa.com/news/view.html?no=2022062201070503017001\n",
      "✅ 크롤링 완료: ‘原電수출추진단’ 설치·운영안 행정예고...\n"
     ]
    },
    {
     "name": "stderr",
     "output_type": "stream",
     "text": [
      "📰 뉴스 본문 크롤링 진행:  34%|███▎      | 101/300 [05:10<12:01,  3.63s/it]"
     ]
    },
    {
     "name": "stdout",
     "output_type": "stream",
     "text": [
      "⚠ 본문을 가져오지 못해 Selenium으로 재시도: https://biz.chosun.com/policy/policy_sub/2022/06/17/K34O2P5DG5FPVDQP6TVWY7SZ7A/?utm_source=naver&utm_medium=original&utm_campaign=biz\n",
      "✅ 크롤링 완료: 40兆 먹거리 공략…이창양 산업장관, 폴란드 원전 세일즈 간다...\n"
     ]
    },
    {
     "name": "stderr",
     "output_type": "stream",
     "text": [
      "📰 뉴스 본문 크롤링 진행:  34%|███▍      | 102/300 [05:15<13:20,  4.04s/it]"
     ]
    },
    {
     "name": "stdout",
     "output_type": "stream",
     "text": [
      "✅ 크롤링 완료: 원전 업계 찾아 1조 일감 약속한 尹 \"탈원전은 바보같은 짓\"...\n"
     ]
    },
    {
     "name": "stderr",
     "output_type": "stream",
     "text": [
      "📰 뉴스 본문 크롤링 진행:  34%|███▍      | 103/300 [05:16<10:31,  3.21s/it]"
     ]
    },
    {
     "name": "stdout",
     "output_type": "stream",
     "text": [
      "✅ 크롤링 완료: \"탈원전 시즌2?\" \"노 모어!\"…韓원전 전문가의 특별한 강연...\n"
     ]
    },
    {
     "name": "stderr",
     "output_type": "stream",
     "text": [
      "📰 뉴스 본문 크롤링 진행:  35%|███▍      | 104/300 [05:18<09:19,  2.85s/it]"
     ]
    },
    {
     "name": "stdout",
     "output_type": "stream",
     "text": [
      "✅ 크롤링 완료: 이창양 산업장관, 취임 첫 해외 출장…체코·폴란드서 원전 세일즈...\n"
     ]
    },
    {
     "name": "stderr",
     "output_type": "stream",
     "text": [
      "📰 뉴스 본문 크롤링 진행:  35%|███▌      | 105/300 [05:20<07:37,  2.35s/it]"
     ]
    },
    {
     "name": "stdout",
     "output_type": "stream",
     "text": [
      "✅ 크롤링 완료: [尹대통령, 다자 외교무대 데뷔] 산업계, 원전·방산·반도체 수출 성과......\n"
     ]
    },
    {
     "name": "stderr",
     "output_type": "stream",
     "text": [
      "📰 뉴스 본문 크롤링 진행:  35%|███▌      | 106/300 [05:21<06:27,  2.00s/it]"
     ]
    },
    {
     "name": "stdout",
     "output_type": "stream",
     "text": [
      "✅ 크롤링 완료: 대우건설, 차세대원전 SMR 참여 등 미래 원자력 경쟁력 강화...\n"
     ]
    },
    {
     "name": "stderr",
     "output_type": "stream",
     "text": [
      "📰 뉴스 본문 크롤링 진행:  36%|███▌      | 107/300 [05:22<06:09,  1.91s/it]"
     ]
    },
    {
     "name": "stdout",
     "output_type": "stream",
     "text": [
      "✅ 크롤링 완료: 나토, 尹대통령 ‘눈 감은’→‘눈 뜬’ 사진으로 교체...\n"
     ]
    },
    {
     "name": "stderr",
     "output_type": "stream",
     "text": [
      "📰 뉴스 본문 크롤링 진행:  36%|███▌      | 108/300 [05:24<05:45,  1.80s/it]"
     ]
    },
    {
     "name": "stdout",
     "output_type": "stream",
     "text": [
      "✅ 크롤링 완료: [급등주]우진 상승, 정부 유럽국가와 원전 수출 논의 예정...\n"
     ]
    },
    {
     "name": "stderr",
     "output_type": "stream",
     "text": [
      "📰 뉴스 본문 크롤링 진행:  36%|███▋      | 109/300 [05:25<05:14,  1.65s/it]"
     ]
    },
    {
     "name": "stdout",
     "output_type": "stream",
     "text": [
      "⚠ 본문을 가져오지 못해 Selenium으로 재시도: http://www.munhwa.com/news/view.html?no=2022062301033403017001\n",
      "✅ 크롤링 완료: <뉴스와 시각>체코도 환영한 탈원전 폐기...\n"
     ]
    },
    {
     "name": "stderr",
     "output_type": "stream",
     "text": [
      "📰 뉴스 본문 크롤링 진행:  37%|███▋      | 110/300 [05:30<08:03,  2.55s/it]"
     ]
    },
    {
     "name": "stdout",
     "output_type": "stream",
     "text": [
      "✅ 크롤링 완료: 이창양 산업장관, 폴란드·체코 출장…'韓원전 세일즈' 속도낼 듯...\n"
     ]
    },
    {
     "name": "stderr",
     "output_type": "stream",
     "text": [
      "📰 뉴스 본문 크롤링 진행:  37%|███▋      | 111/300 [05:31<07:01,  2.23s/it]"
     ]
    },
    {
     "name": "stdout",
     "output_type": "stream",
     "text": [
      "⚠ 본문을 가져오지 못해 Selenium으로 재시도: http://www.munhwa.com/news/view.html?no=2022062301033403017001\n",
      "✅ 크롤링 완료: <뉴스와 시각>체코도 환영한 탈원전 폐기...\n"
     ]
    },
    {
     "name": "stderr",
     "output_type": "stream",
     "text": [
      "📰 뉴스 본문 크롤링 진행:  37%|███▋      | 112/300 [05:36<08:47,  2.81s/it]"
     ]
    },
    {
     "name": "stdout",
     "output_type": "stream",
     "text": [
      "✅ 크롤링 완료: \"원전 수출, 대통령이 나서야\"...첫 승부처 체코 \"韓기술 인정\"...\n"
     ]
    },
    {
     "name": "stderr",
     "output_type": "stream",
     "text": [
      "📰 뉴스 본문 크롤링 진행:  38%|███▊      | 113/300 [05:37<07:36,  2.44s/it]"
     ]
    },
    {
     "name": "stdout",
     "output_type": "stream",
     "text": [
      "✅ 크롤링 완료: [단독]尹정부 원전세일즈 시동…이창양 산업부 장관 8兆 원전 체코 간다...\n"
     ]
    },
    {
     "name": "stderr",
     "output_type": "stream",
     "text": [
      "📰 뉴스 본문 크롤링 진행:  38%|███▊      | 114/300 [05:39<06:38,  2.14s/it]"
     ]
    },
    {
     "name": "stdout",
     "output_type": "stream",
     "text": [
      "⚠ 본문을 가져오지 못해 Selenium으로 재시도: https://www.ktv.go.kr/content/view?content_id=650695\n",
      "✅ 크롤링 완료: 이창양 장관, 체코·폴란드 방문···'원전 세일즈' 시동...\n"
     ]
    },
    {
     "name": "stderr",
     "output_type": "stream",
     "text": [
      "📰 뉴스 본문 크롤링 진행:  38%|███▊      | 115/300 [05:43<08:33,  2.78s/it]"
     ]
    },
    {
     "name": "stdout",
     "output_type": "stream",
     "text": [
      "✅ 크롤링 완료: 윤석열 대통령, 나토 참석 키워드 '안보'와 '원전'...\n"
     ]
    },
    {
     "name": "stderr",
     "output_type": "stream",
     "text": [
      "📰 뉴스 본문 크롤링 진행:  39%|███▊      | 116/300 [05:44<07:00,  2.28s/it]"
     ]
    },
    {
     "name": "stdout",
     "output_type": "stream",
     "text": [
      "⚠ 본문을 가져오지 못해 Selenium으로 재시도: http://www.edaily.co.kr/news/newspath.asp?newsid=02735526632362704\n",
      "✅ 크롤링 완료: 대우건설, 차세대원전 SMR 참여로 경쟁력 강화한다...\n"
     ]
    },
    {
     "name": "stderr",
     "output_type": "stream",
     "text": [
      "📰 뉴스 본문 크롤링 진행:  39%|███▉      | 117/300 [05:50<10:05,  3.31s/it]"
     ]
    },
    {
     "name": "stdout",
     "output_type": "stream",
     "text": [
      "⚠ 본문을 가져오지 못해 Selenium으로 재시도: http://www.mediapen.com/news/view/732926\n",
      "✅ 크롤링 완료: 민관, 국내외서 원전 생태계 강화…수출 솔루션 만들까...\n"
     ]
    },
    {
     "name": "stderr",
     "output_type": "stream",
     "text": [
      "📰 뉴스 본문 크롤링 진행:  39%|███▉      | 118/300 [05:54<11:05,  3.66s/it]"
     ]
    },
    {
     "name": "stdout",
     "output_type": "stream",
     "text": [
      "⚠ 본문을 가져오지 못해 Selenium으로 재시도: http://www.mediapen.com/news/view/731541\n",
      "✅ 크롤링 완료: 원전산업 강화에 범정부 지원 돌인...\n"
     ]
    },
    {
     "name": "stderr",
     "output_type": "stream",
     "text": [
      "📰 뉴스 본문 크롤링 진행:  40%|███▉      | 119/300 [05:59<11:47,  3.91s/it]"
     ]
    },
    {
     "name": "stdout",
     "output_type": "stream",
     "text": [
      "✅ 크롤링 완료: 정부 원전 협력업체 지원대책은?...\n"
     ]
    },
    {
     "name": "stderr",
     "output_type": "stream",
     "text": [
      "📰 뉴스 본문 크롤링 진행:  40%|████      | 120/300 [06:00<09:16,  3.09s/it]"
     ]
    },
    {
     "name": "stdout",
     "output_type": "stream",
     "text": [
      "✅ 크롤링 완료: 이창양 산업장관 첫 해외출장지는 체코·폴란드…원전세일즈 스타트...\n"
     ]
    },
    {
     "name": "stderr",
     "output_type": "stream",
     "text": [
      "📰 뉴스 본문 크롤링 진행:  40%|████      | 121/300 [06:02<08:50,  2.97s/it]"
     ]
    },
    {
     "name": "stdout",
     "output_type": "stream",
     "text": [
      "⚠ 본문을 가져오지 못해 Selenium으로 재시도: http://www.mediapen.com/news/view/732926\n",
      "✅ 크롤링 완료: 민관, 국내외서 원전 생태계 강화…수출 솔루션 만들까...\n"
     ]
    },
    {
     "name": "stderr",
     "output_type": "stream",
     "text": [
      "📰 뉴스 본문 크롤링 진행:  41%|████      | 122/300 [06:07<10:00,  3.37s/it]"
     ]
    },
    {
     "name": "stdout",
     "output_type": "stream",
     "text": [
      "⚠ 본문을 가져오지 못해 Selenium으로 재시도: http://www.mediapen.com/news/view/731541\n",
      "✅ 크롤링 완료: 원전산업 강화에 범정부 지원 돌인...\n"
     ]
    },
    {
     "name": "stderr",
     "output_type": "stream",
     "text": [
      "📰 뉴스 본문 크롤링 진행:  41%|████      | 123/300 [06:11<10:35,  3.59s/it]"
     ]
    },
    {
     "name": "stdout",
     "output_type": "stream",
     "text": [
      "✅ 크롤링 완료: 대우건설, 차세대원전 SMR 참여로 경쟁력 강화한다...\n"
     ]
    },
    {
     "name": "stderr",
     "output_type": "stream",
     "text": [
      "📰 뉴스 본문 크롤링 진행:  41%|████▏     | 124/300 [06:12<08:23,  2.86s/it]"
     ]
    },
    {
     "name": "stdout",
     "output_type": "stream",
     "text": [
      "✅ 크롤링 완료: 정부 원전 협력업체 지원대책은?...\n"
     ]
    },
    {
     "name": "stderr",
     "output_type": "stream",
     "text": [
      "📰 뉴스 본문 크롤링 진행:  42%|████▏     | 125/300 [06:13<06:54,  2.37s/it]"
     ]
    },
    {
     "name": "stdout",
     "output_type": "stream",
     "text": [
      "✅ 크롤링 완료: '원전 세일즈' 시동 건 산업장관…48조 동유럽 시장 찾는다...\n"
     ]
    },
    {
     "name": "stderr",
     "output_type": "stream",
     "text": [
      "📰 뉴스 본문 크롤링 진행:  42%|████▏     | 126/300 [06:15<05:53,  2.03s/it]"
     ]
    },
    {
     "name": "stdout",
     "output_type": "stream",
     "text": [
      "⚠ 본문을 가져오지 못해 Selenium으로 재시도: http://news.mk.co.kr/newsRead.php?no=499861&year=2022\n",
      "✅ 크롤링 완료: [단독] 웨스팅하우스 사장단 극비 방한…탄력받는 '한미 원전동맹'...\n"
     ]
    },
    {
     "name": "stderr",
     "output_type": "stream",
     "text": [
      "📰 뉴스 본문 크롤링 진행:  42%|████▏     | 127/300 [06:19<07:57,  2.76s/it]"
     ]
    },
    {
     "name": "stdout",
     "output_type": "stream",
     "text": [
      "✅ 크롤링 완료: \"940조 원전시장 잡자\" 한미 원전동맹 첫발…주도권 누가?...\n"
     ]
    },
    {
     "name": "stderr",
     "output_type": "stream",
     "text": [
      "📰 뉴스 본문 크롤링 진행:  43%|████▎     | 128/300 [06:21<06:58,  2.43s/it]"
     ]
    },
    {
     "name": "stdout",
     "output_type": "stream",
     "text": [
      "⚠ 본문을 가져오지 못해 Selenium으로 재시도: https://hankookilbo.com/News/Read/A2022063016360003458?did=NA\n",
      "✅ 크롤링 완료: 한-영 정상, 협력 프레임워크 채택... 윤 대통령 나토 순방 마무리...\n"
     ]
    },
    {
     "name": "stderr",
     "output_type": "stream",
     "text": [
      "📰 뉴스 본문 크롤링 진행:  43%|████▎     | 129/300 [06:30<13:12,  4.63s/it]"
     ]
    },
    {
     "name": "stdout",
     "output_type": "stream",
     "text": [
      "✅ 크롤링 완료: [특징주] 원전 관련주 피코그램 주가 강세...'체코·폴란드 방문한다'...\n"
     ]
    },
    {
     "name": "stderr",
     "output_type": "stream",
     "text": [
      "📰 뉴스 본문 크롤링 진행:  43%|████▎     | 130/300 [06:32<10:11,  3.60s/it]"
     ]
    },
    {
     "name": "stdout",
     "output_type": "stream",
     "text": [
      "✅ 크롤링 완료: [특징주] 원전 관련주 피코그램 주가 강세...'체코·폴란드 방문한다'...\n"
     ]
    },
    {
     "name": "stderr",
     "output_type": "stream",
     "text": [
      "📰 뉴스 본문 크롤링 진행:  44%|████▎     | 131/300 [06:33<08:03,  2.86s/it]"
     ]
    },
    {
     "name": "stdout",
     "output_type": "stream",
     "text": [
      "✅ 크롤링 완료: 美원전기업 웨스팅하우스 오늘 방한, 한전과 원전 수출 협의...\n"
     ]
    },
    {
     "name": "stderr",
     "output_type": "stream",
     "text": [
      "📰 뉴스 본문 크롤링 진행:  44%|████▍     | 132/300 [06:34<06:39,  2.38s/it]"
     ]
    },
    {
     "name": "stdout",
     "output_type": "stream",
     "text": [
      "✅ 크롤링 완료: 이창양 산업장관, 체코·폴란드 방문…'원전 세일즈' 첫 해외출장...\n"
     ]
    },
    {
     "name": "stderr",
     "output_type": "stream",
     "text": [
      "📰 뉴스 본문 크롤링 진행:  44%|████▍     | 133/300 [06:35<05:40,  2.04s/it]"
     ]
    },
    {
     "name": "stdout",
     "output_type": "stream",
     "text": [
      "⚠ 본문을 가져오지 못해 Selenium으로 재시도: http://www.yonhapnewstv.co.kr/MYH20220623016600641/?input=1825m\n",
      "✅ 크롤링 완료: 48조 규모 '원전 세일즈'…체코·폴란드 시장 공략...\n"
     ]
    },
    {
     "name": "stderr",
     "output_type": "stream",
     "text": [
      "📰 뉴스 본문 크롤링 진행:  45%|████▍     | 134/300 [06:41<08:44,  3.16s/it]"
     ]
    },
    {
     "name": "stdout",
     "output_type": "stream",
     "text": [
      "✅ 크롤링 완료: 이창양 산업장관, '원전 세일즈' 시동···26일 체코·폴란드 출장...\n"
     ]
    },
    {
     "name": "stderr",
     "output_type": "stream",
     "text": [
      "📰 뉴스 본문 크롤링 진행:  45%|████▌     | 135/300 [06:42<07:00,  2.55s/it]"
     ]
    },
    {
     "name": "stdout",
     "output_type": "stream",
     "text": [
      "⚠ 본문을 가져오지 못해 Selenium으로 재시도: http://www.edaily.co.kr/news/newspath.asp?newsid=03476806632360080\n",
      "✅ 크롤링 완료: `경쟁자가 동반자로` 손잡은 한미 원전기업들…주도권 놓곤 샅바싸움...\n"
     ]
    },
    {
     "name": "stderr",
     "output_type": "stream",
     "text": [
      "📰 뉴스 본문 크롤링 진행:  45%|████▌     | 136/300 [06:48<09:33,  3.49s/it]"
     ]
    },
    {
     "name": "stdout",
     "output_type": "stream",
     "text": [
      "⚠ 본문을 가져오지 못해 Selenium으로 재시도: http://news.mk.co.kr/newsRead.php?no=499809&year=2022\n",
      "✅ 크롤링 완료: '원전 수출의 봄' 돌아올까…美 설계·韓 건설기술 협력 속도...\n"
     ]
    },
    {
     "name": "stderr",
     "output_type": "stream",
     "text": [
      "📰 뉴스 본문 크롤링 진행:  46%|████▌     | 137/300 [06:53<10:38,  3.92s/it]"
     ]
    },
    {
     "name": "stdout",
     "output_type": "stream",
     "text": [
      "✅ 크롤링 완료: 한-체코 정상회담 \"미래 산업 분야 협력 확대\"...\n"
     ]
    },
    {
     "name": "stderr",
     "output_type": "stream",
     "text": [
      "📰 뉴스 본문 크롤링 진행:  46%|████▌     | 138/300 [06:54<08:23,  3.11s/it]"
     ]
    },
    {
     "name": "stdout",
     "output_type": "stream",
     "text": [
      "✅ 크롤링 완료: 원전 설계부터 해체까지 토털솔루션…대우건설 글로벌 원전시공강자 급......\n"
     ]
    },
    {
     "name": "stderr",
     "output_type": "stream",
     "text": [
      "📰 뉴스 본문 크롤링 진행:  46%|████▋     | 139/300 [06:56<07:04,  2.64s/it]"
     ]
    },
    {
     "name": "stdout",
     "output_type": "stream",
     "text": [
      "⚠ 본문을 가져오지 못해 Selenium으로 재시도: http://www.mediapen.com/news/view/729664\n",
      "✅ 크롤링 완료: 산업부, 범정부 지원으로 원전수주 추진...\n"
     ]
    },
    {
     "name": "stderr",
     "output_type": "stream",
     "text": [
      "📰 뉴스 본문 크롤링 진행:  47%|████▋     | 140/300 [07:00<08:35,  3.22s/it]"
     ]
    },
    {
     "name": "stdout",
     "output_type": "stream",
     "text": [
      "⚠ 본문을 가져오지 못해 Selenium으로 재시도: http://www.mediapen.com/news/view/729664\n",
      "✅ 크롤링 완료: 산업부, 범정부 지원으로 원전수주 추진...\n"
     ]
    },
    {
     "name": "stderr",
     "output_type": "stream",
     "text": [
      "📰 뉴스 본문 크롤링 진행:  47%|████▋     | 141/300 [07:04<09:26,  3.56s/it]"
     ]
    },
    {
     "name": "stdout",
     "output_type": "stream",
     "text": [
      "⚠ 본문을 가져오지 못해 Selenium으로 재시도: https://www.theguru.co.kr/news/article.html?no=37272\n",
      "✅ 크롤링 완료: \"체코 원전 현지화 70%만 정해졌을 뿐…韓·美·佛 승자 안개\"...\n"
     ]
    },
    {
     "name": "stderr",
     "output_type": "stream",
     "text": [
      "📰 뉴스 본문 크롤링 진행:  47%|████▋     | 142/300 [07:09<10:04,  3.82s/it]"
     ]
    },
    {
     "name": "stdout",
     "output_type": "stream",
     "text": [
      "✅ 크롤링 완료: 닻 올리는 한미 ‘원전 어벤저스’…‘실익 챙기기’는 관건...\n"
     ]
    },
    {
     "name": "stderr",
     "output_type": "stream",
     "text": [
      "📰 뉴스 본문 크롤링 진행:  48%|████▊     | 143/300 [07:10<07:56,  3.04s/it]"
     ]
    },
    {
     "name": "stdout",
     "output_type": "stream",
     "text": [
      "✅ 크롤링 완료: ‘푸르지오만 있는 게 아니었네’…글로벌 원전 시장 강자로 부상하는......\n"
     ]
    },
    {
     "name": "stderr",
     "output_type": "stream",
     "text": [
      "📰 뉴스 본문 크롤링 진행:  48%|████▊     | 144/300 [07:12<06:52,  2.64s/it]"
     ]
    },
    {
     "name": "stdout",
     "output_type": "stream",
     "text": [
      "✅ 크롤링 완료: 삼성물산·현대건설, 나란히 '원전‧중동' 해외 수주 시장 정조준...\n"
     ]
    },
    {
     "name": "stderr",
     "output_type": "stream",
     "text": [
      "📰 뉴스 본문 크롤링 진행:  48%|████▊     | 145/300 [07:13<05:57,  2.31s/it]"
     ]
    },
    {
     "name": "stdout",
     "output_type": "stream",
     "text": [
      "✅ 크롤링 완료: 한전-웨스팅하우스, 원전 협력 '공동선언문' 보류···주도권 다툼?...\n"
     ]
    },
    {
     "name": "stderr",
     "output_type": "stream",
     "text": [
      "📰 뉴스 본문 크롤링 진행:  49%|████▊     | 146/300 [07:15<05:13,  2.03s/it]"
     ]
    },
    {
     "name": "stdout",
     "output_type": "stream",
     "text": [
      "✅ 크롤링 완료: 힘 실리는 원전 사업…건설사, 수주 실적 증가로 이어지나...\n"
     ]
    },
    {
     "name": "stderr",
     "output_type": "stream",
     "text": [
      "📰 뉴스 본문 크롤링 진행:  49%|████▉     | 147/300 [07:16<04:31,  1.77s/it]"
     ]
    },
    {
     "name": "stdout",
     "output_type": "stream",
     "text": [
      "✅ 크롤링 완료: 대우건설, 차세대원전 SMR 참여로 경쟁력 강화...\n"
     ]
    },
    {
     "name": "stderr",
     "output_type": "stream",
     "text": [
      "📰 뉴스 본문 크롤링 진행:  49%|████▉     | 148/300 [07:17<04:04,  1.61s/it]"
     ]
    },
    {
     "name": "stdout",
     "output_type": "stream",
     "text": [
      "⚠ 본문을 가져오지 못해 Selenium으로 재시도: https://www.theguru.co.kr/news/article.html?no=37314\n",
      "✅ 크롤링 완료: 정재훈 한수원 사장 \"체코 원전 1순위…SMR도 협력\"...\n"
     ]
    },
    {
     "name": "stderr",
     "output_type": "stream",
     "text": [
      "📰 뉴스 본문 크롤링 진행:  50%|████▉     | 149/300 [07:21<05:53,  2.34s/it]"
     ]
    },
    {
     "name": "stdout",
     "output_type": "stream",
     "text": [
      "✅ 크롤링 완료: [탈탈원전 한달] 원전 수출 속도 붙었다…한·미 협력 강화...\n"
     ]
    },
    {
     "name": "stderr",
     "output_type": "stream",
     "text": [
      "📰 뉴스 본문 크롤링 진행:  50%|█████     | 150/300 [07:23<05:05,  2.04s/it]"
     ]
    },
    {
     "name": "stdout",
     "output_type": "stream",
     "text": [
      "⚠ 본문을 가져오지 못해 Selenium으로 재시도: http://www.edaily.co.kr/news/newspath.asp?newsid=03781846632334496\n",
      "✅ 크롤링 완료: 체코·폴란드에 영국·사우디까지…한미 원전동맹 ‘시험대’...\n"
     ]
    },
    {
     "name": "stderr",
     "output_type": "stream",
     "text": [
      "📰 뉴스 본문 크롤링 진행:  50%|█████     | 151/300 [07:28<07:34,  3.05s/it]"
     ]
    },
    {
     "name": "stdout",
     "output_type": "stream",
     "text": [
      "✅ 크롤링 완료: 대우건설, 차세대원전 SMR 참여로 경쟁력 강화...\n"
     ]
    },
    {
     "name": "stderr",
     "output_type": "stream",
     "text": [
      "📰 뉴스 본문 크롤링 진행:  51%|█████     | 152/300 [07:29<06:11,  2.51s/it]"
     ]
    },
    {
     "name": "stdout",
     "output_type": "stream",
     "text": [
      "⚠ 본문을 가져오지 못해 Selenium으로 재시도: https://www.theguru.co.kr/news/article.html?no=37314\n",
      "✅ 크롤링 완료: 정재훈 한수원 사장 \"체코 원전 1순위…SMR도 협력\"...\n"
     ]
    },
    {
     "name": "stderr",
     "output_type": "stream",
     "text": [
      "📰 뉴스 본문 크롤링 진행:  51%|█████     | 153/300 [07:33<07:21,  3.00s/it]"
     ]
    },
    {
     "name": "stdout",
     "output_type": "stream",
     "text": [
      "✅ 크롤링 완료: 체코 8조원·폴란드 40조원…정부, `K-원전` 수출지원 나선다...\n"
     ]
    },
    {
     "name": "stderr",
     "output_type": "stream",
     "text": [
      "📰 뉴스 본문 크롤링 진행:  51%|█████▏    | 154/300 [07:34<05:56,  2.44s/it]"
     ]
    },
    {
     "name": "stdout",
     "output_type": "stream",
     "text": [
      "✅ 크롤링 완료: [탈탈원전 한달] 원전 수출 속도 붙었다…한·미 협력 강화...\n"
     ]
    },
    {
     "name": "stderr",
     "output_type": "stream",
     "text": [
      "📰 뉴스 본문 크롤링 진행:  52%|█████▏    | 155/300 [07:36<05:05,  2.11s/it]"
     ]
    },
    {
     "name": "stdout",
     "output_type": "stream",
     "text": [
      "✅ 크롤링 완료: [특징주] 보성파워텍, 워렌버핏 SMR 투자 박차에 주가 6연속 상승세...\n"
     ]
    },
    {
     "name": "stderr",
     "output_type": "stream",
     "text": [
      "📰 뉴스 본문 크롤링 진행:  52%|█████▏    | 156/300 [07:37<04:38,  1.93s/it]"
     ]
    },
    {
     "name": "stdout",
     "output_type": "stream",
     "text": [
      "⚠ 본문을 가져오지 못해 Selenium으로 재시도: http://www.munhwa.com/news/view.html?no=2022053101071903017001\n",
      "✅ 크롤링 완료: 한수원 사장 김준동·박기영 등 거론 “親원전 정책 전환·조직 재정비......\n"
     ]
    },
    {
     "name": "stderr",
     "output_type": "stream",
     "text": [
      "📰 뉴스 본문 크롤링 진행:  52%|█████▏    | 157/300 [07:41<06:12,  2.60s/it]"
     ]
    },
    {
     "name": "stdout",
     "output_type": "stream",
     "text": [
      "✅ 크롤링 완료: 대한전선, 주가 상승…원전으로 수출과 탄소중립 잡는다...\n"
     ]
    },
    {
     "name": "stderr",
     "output_type": "stream",
     "text": [
      "📰 뉴스 본문 크롤링 진행:  53%|█████▎    | 158/300 [07:43<05:09,  2.18s/it]"
     ]
    },
    {
     "name": "stdout",
     "output_type": "stream",
     "text": [
      "⚠ 본문을 가져오지 못해 Selenium으로 재시도: https://www.tfmedia.co.kr/news/article.html?no=127215\n",
      "✅ 크롤링 완료: 이창양 산업장관, 체코·폴란드 방문…'원전 세일즈' 첫 해외출장...\n"
     ]
    },
    {
     "name": "stderr",
     "output_type": "stream",
     "text": [
      "📰 뉴스 본문 크롤링 진행:  53%|█████▎    | 159/300 [07:48<07:24,  3.16s/it]"
     ]
    },
    {
     "name": "stdout",
     "output_type": "stream",
     "text": [
      "✅ 크롤링 완료: 유럽·동남아까지 원전 '훈풍'…韓 기업, 영토확장 총력전...\n"
     ]
    },
    {
     "name": "stderr",
     "output_type": "stream",
     "text": [
      "📰 뉴스 본문 크롤링 진행:  53%|█████▎    | 160/300 [07:49<05:57,  2.55s/it]"
     ]
    },
    {
     "name": "stdout",
     "output_type": "stream",
     "text": [
      "✅ 크롤링 완료: 이창양 산업부 장관, 폴란드·체코 출장…'한국 원전 세일즈' 속도...\n"
     ]
    },
    {
     "name": "stderr",
     "output_type": "stream",
     "text": [
      "📰 뉴스 본문 크롤링 진행:  54%|█████▎    | 161/300 [07:50<04:56,  2.14s/it]"
     ]
    },
    {
     "name": "stdout",
     "output_type": "stream",
     "text": [
      "⚠ 본문을 가져오지 못해 Selenium으로 재시도: http://www.mediapen.com/news/view/733701\n",
      "✅ 크롤링 완료: 이창양 산업부 장관, 동유럽서 산업·에너지 파트너십 강화...\n"
     ]
    },
    {
     "name": "stderr",
     "output_type": "stream",
     "text": [
      "📰 뉴스 본문 크롤링 진행:  54%|█████▍    | 162/300 [07:55<06:31,  2.84s/it]"
     ]
    },
    {
     "name": "stdout",
     "output_type": "stream",
     "text": [
      "✅ 크롤링 완료: [특징주] 서전기전, 체코·폴란드 '50조 규모' … 해외 원전 수주 가능성......\n"
     ]
    },
    {
     "name": "stderr",
     "output_type": "stream",
     "text": [
      "📰 뉴스 본문 크롤링 진행:  54%|█████▍    | 163/300 [07:56<05:29,  2.41s/it]"
     ]
    },
    {
     "name": "stdout",
     "output_type": "stream",
     "text": [
      "✅ 크롤링 완료: [원전 수주 총력전] 산업부 체코·폴란드 수주전 사활…민간 협력도 강......\n"
     ]
    },
    {
     "name": "stderr",
     "output_type": "stream",
     "text": [
      "📰 뉴스 본문 크롤링 진행:  55%|█████▍    | 164/300 [07:58<04:45,  2.10s/it]"
     ]
    },
    {
     "name": "stdout",
     "output_type": "stream",
     "text": [
      "✅ 크롤링 완료: 尹정부 '탈원전 지우기'...공기업 수장 물갈이에 원전 진흥 속도...\n"
     ]
    },
    {
     "name": "stderr",
     "output_type": "stream",
     "text": [
      "📰 뉴스 본문 크롤링 진행:  55%|█████▌    | 165/300 [07:59<04:28,  1.99s/it]"
     ]
    },
    {
     "name": "stdout",
     "output_type": "stream",
     "text": [
      "✅ 크롤링 완료: 윤 대통령, ‘8조 원전 수요’ 체코 정상에 “우리 기업 참여토록”...\n"
     ]
    },
    {
     "name": "stderr",
     "output_type": "stream",
     "text": [
      "📰 뉴스 본문 크롤링 진행:  55%|█████▌    | 166/300 [08:01<03:55,  1.76s/it]"
     ]
    },
    {
     "name": "stdout",
     "output_type": "stream",
     "text": [
      "⚠ 본문을 가져오지 못해 Selenium으로 재시도: https://www.theguru.co.kr/news/article.html?no=36455\n",
      "✅ 크롤링 완료: 체코 총리, 마크롱 대통령과 '원전 미팅'…한수원 예의주시...\n"
     ]
    },
    {
     "name": "stderr",
     "output_type": "stream",
     "text": [
      "📰 뉴스 본문 크롤링 진행:  56%|█████▌    | 167/300 [08:05<05:36,  2.53s/it]"
     ]
    },
    {
     "name": "stdout",
     "output_type": "stream",
     "text": [
      "✅ 크롤링 완료: [특징주] 보성파워텍, 체코까지 원전 수주 뻗어갈까…주가 살펴보니...\n"
     ]
    },
    {
     "name": "stderr",
     "output_type": "stream",
     "text": [
      "📰 뉴스 본문 크롤링 진행:  56%|█████▌    | 168/300 [08:06<04:39,  2.12s/it]"
     ]
    },
    {
     "name": "stdout",
     "output_type": "stream",
     "text": [
      "⚠ 본문을 가져오지 못해 Selenium으로 재시도: http://www.munhwa.com/news/view.html?no=2022053001031903017001\n",
      "✅ 크롤링 완료: 세계 최고수준 원전건설 기술… 체코 두코바니서 재현한다...\n"
     ]
    },
    {
     "name": "stderr",
     "output_type": "stream",
     "text": [
      "📰 뉴스 본문 크롤링 진행:  56%|█████▋    | 169/300 [08:10<06:01,  2.76s/it]"
     ]
    },
    {
     "name": "stdout",
     "output_type": "stream",
     "text": [
      "✅ 크롤링 완료: 尹, 마지막까지 '세일즈 외교'…3박5일, 16건 외교일정 소화...\n"
     ]
    },
    {
     "name": "stderr",
     "output_type": "stream",
     "text": [
      "📰 뉴스 본문 크롤링 진행:  57%|█████▋    | 170/300 [08:12<05:01,  2.32s/it]"
     ]
    },
    {
     "name": "stdout",
     "output_type": "stream",
     "text": [
      "✅ 크롤링 완료: 尹, 마지막까지 '세일즈 외교'…3박5일, 16건 외교일정 소화...\n"
     ]
    },
    {
     "name": "stderr",
     "output_type": "stream",
     "text": [
      "📰 뉴스 본문 크롤링 진행:  57%|█████▋    | 171/300 [08:13<04:17,  1.99s/it]"
     ]
    },
    {
     "name": "stdout",
     "output_type": "stream",
     "text": [
      "⚠ 본문을 가져오지 못해 Selenium으로 재시도: https://www.theguru.co.kr/news/article.html?no=35720\n",
      "✅ 크롤링 완료: '한수원 눈독' 체코 두코바니·테멜린 원전 내진성능 평가 착수...\n"
     ]
    },
    {
     "name": "stderr",
     "output_type": "stream",
     "text": [
      "📰 뉴스 본문 크롤링 진행:  57%|█████▋    | 172/300 [08:17<05:36,  2.63s/it]"
     ]
    },
    {
     "name": "stdout",
     "output_type": "stream",
     "text": [
      "✅ 크롤링 완료: 한국-체코 산업부장관, 소형모듈원자로 시장 공동진출 합의...\n"
     ]
    },
    {
     "name": "stderr",
     "output_type": "stream",
     "text": [
      "📰 뉴스 본문 크롤링 진행:  58%|█████▊    | 173/300 [08:18<04:43,  2.23s/it]"
     ]
    },
    {
     "name": "stdout",
     "output_type": "stream",
     "text": [
      "✅ 크롤링 완료: (인터뷰)김창수 대한전기협회 KEPIC 본부장...\n"
     ]
    },
    {
     "name": "stderr",
     "output_type": "stream",
     "text": [
      "📰 뉴스 본문 크롤링 진행:  58%|█████▊    | 174/300 [08:19<04:00,  1.91s/it]"
     ]
    },
    {
     "name": "stdout",
     "output_type": "stream",
     "text": [
      "✅ 크롤링 완료: [포토타임] 尹, 나토 일정 마치고 귀국길…3박 5일 세일즈 외교 펼쳐...\n"
     ]
    },
    {
     "name": "stderr",
     "output_type": "stream",
     "text": [
      "📰 뉴스 본문 크롤링 진행:  58%|█████▊    | 175/300 [08:21<03:39,  1.75s/it]"
     ]
    },
    {
     "name": "stdout",
     "output_type": "stream",
     "text": [
      "✅ 크롤링 완료: 원전 체코 진출 전략 논의한 한수원…두코바니 원전 '수주전'...\n"
     ]
    },
    {
     "name": "stderr",
     "output_type": "stream",
     "text": [
      "📰 뉴스 본문 크롤링 진행:  59%|█████▊    | 176/300 [08:22<03:15,  1.57s/it]"
     ]
    },
    {
     "name": "stdout",
     "output_type": "stream",
     "text": [
      "⚠ 본문을 가져오지 못해 Selenium으로 재시도: https://www.voakorea.com/a/6639444.html\n",
      "✅ 크롤링 완료: 윤석열 한국 대통령, 캐나다∙체코에 '북핵 협력' 당부...중국, 아태 4개......\n"
     ]
    },
    {
     "name": "stderr",
     "output_type": "stream",
     "text": [
      "📰 뉴스 본문 크롤링 진행:  59%|█████▉    | 177/300 [08:27<05:10,  2.52s/it]"
     ]
    },
    {
     "name": "stdout",
     "output_type": "stream",
     "text": [
      "⚠ 본문을 가져오지 못해 Selenium으로 재시도: https://www.ktv.go.kr/content/view?content_id=650973\n",
      "✅ 크롤링 완료: 윤 대통령, 영국·체코와 정상회담···나토 총장 면담...\n"
     ]
    },
    {
     "name": "stderr",
     "output_type": "stream",
     "text": [
      "📰 뉴스 본문 크롤링 진행:  59%|█████▉    | 178/300 [08:31<06:01,  2.96s/it]"
     ]
    },
    {
     "name": "stdout",
     "output_type": "stream",
     "text": [
      "✅ 크롤링 완료: 원전 수출 가능성 커진다… 13년 만에 낭보 울릴까...\n"
     ]
    },
    {
     "name": "stderr",
     "output_type": "stream",
     "text": [
      "📰 뉴스 본문 크롤링 진행:  60%|█████▉    | 179/300 [08:32<04:52,  2.41s/it]"
     ]
    },
    {
     "name": "stdout",
     "output_type": "stream",
     "text": [
      "✅ 크롤링 완료: [르포]“尹 ‘친원전’ 정책, K-원전 신뢰 높여”…체코 ‘8조 수주 잭팟......\n"
     ]
    },
    {
     "name": "stderr",
     "output_type": "stream",
     "text": [
      "📰 뉴스 본문 크롤링 진행:  60%|██████    | 180/300 [08:33<04:08,  2.07s/it]"
     ]
    },
    {
     "name": "stdout",
     "output_type": "stream",
     "text": [
      "✅ 크롤링 완료: [르포]\"방사능이 시내보다 적어요\"...꽃밭속 체코 원전 가보니...\n"
     ]
    },
    {
     "name": "stderr",
     "output_type": "stream",
     "text": [
      "📰 뉴스 본문 크롤링 진행:  60%|██████    | 181/300 [08:35<03:51,  1.95s/it]"
     ]
    },
    {
     "name": "stdout",
     "output_type": "stream",
     "text": [
      "⚠ 본문을 가져오지 못해 Selenium으로 재시도: https://www.dnews.co.kr/uhtml/view.jsp?idxno=202206081211470490064\n",
      "✅ 크롤링 완료: [기획] 글로벌 원전시장 두드리는 한국…수주 역량 강화 방안은...\n"
     ]
    },
    {
     "name": "stderr",
     "output_type": "stream",
     "text": [
      "📰 뉴스 본문 크롤링 진행:  61%|██████    | 182/300 [08:39<05:21,  2.72s/it]"
     ]
    },
    {
     "name": "stdout",
     "output_type": "stream",
     "text": [
      "✅ 크롤링 완료: [에너지 뉴스] 광해광업공단, 니켈·코발트 등 핵심광물 재자원화 산업......\n"
     ]
    },
    {
     "name": "stderr",
     "output_type": "stream",
     "text": [
      "📰 뉴스 본문 크롤링 진행:  61%|██████    | 183/300 [08:41<04:28,  2.29s/it]"
     ]
    },
    {
     "name": "stdout",
     "output_type": "stream",
     "text": [
      "⚠ 본문을 가져오지 못해 Selenium으로 재시도: http://www.fnnews.com/news/202205291823389333\n",
      "✅ 크롤링 완료: 체코 8조·폴란드 40조 수주 정조준… ‘K원전 수출’ 붐 살린다 [한미 ......\n"
     ]
    },
    {
     "name": "stderr",
     "output_type": "stream",
     "text": [
      "📰 뉴스 본문 크롤링 진행:  61%|██████▏   | 184/300 [08:47<06:31,  3.38s/it]"
     ]
    },
    {
     "name": "stdout",
     "output_type": "stream",
     "text": [
      "⚠ 본문을 가져오지 못해 Selenium으로 재시도: http://www.munhwa.com/news/view.html?no=2022053001031905000001\n",
      "✅ 크롤링 완료: 한수원, 이집트 원전 최종계약 체결 임박...\n"
     ]
    },
    {
     "name": "stderr",
     "output_type": "stream",
     "text": [
      "📰 뉴스 본문 크롤링 진행:  62%|██████▏   | 185/300 [08:51<06:59,  3.65s/it]"
     ]
    },
    {
     "name": "stdout",
     "output_type": "stream",
     "text": [
      "✅ 크롤링 완료: 한미 원전동맹 강화…폴란드·체코 원전 수주 기대...\n"
     ]
    },
    {
     "name": "stderr",
     "output_type": "stream",
     "text": [
      "📰 뉴스 본문 크롤링 진행:  62%|██████▏   | 186/300 [08:52<05:43,  3.02s/it]"
     ]
    },
    {
     "name": "stdout",
     "output_type": "stream",
     "text": [
      "⚠ 본문을 가져오지 못해 Selenium으로 재시도: http://www.munhwa.com/news/view.html?no=2022052301071403017001\n",
      "✅ 크롤링 완료: ‘原電’ 손잡은 韓·美… 차세대 SMR 시장 선도할 발판 마련...\n"
     ]
    },
    {
     "name": "stderr",
     "output_type": "stream",
     "text": [
      "📰 뉴스 본문 크롤링 진행:  62%|██████▏   | 187/300 [08:57<06:31,  3.47s/it]"
     ]
    },
    {
     "name": "stdout",
     "output_type": "stream",
     "text": [
      "⚠ 본문을 가져오지 못해 Selenium으로 재시도: http://news.mk.co.kr/newsRead.php?no=451832&year=2022\n",
      "✅ 크롤링 완료: [단독] 한미 원전 협력, 유럽부터 공략한다…방산 원전주 쓸어담아야 하......\n"
     ]
    },
    {
     "name": "stderr",
     "output_type": "stream",
     "text": [
      "📰 뉴스 본문 크롤링 진행:  63%|██████▎   | 188/300 [09:02<07:22,  3.95s/it]"
     ]
    },
    {
     "name": "stdout",
     "output_type": "stream",
     "text": [
      "⚠ 본문을 가져오지 못해 Selenium으로 재시도: http://www.mediapen.com/news/view/723766\n",
      "✅ 크롤링 완료: 5년간 막혔던 원전 수주 길 뚫릴까...\n"
     ]
    },
    {
     "name": "stderr",
     "output_type": "stream",
     "text": [
      "📰 뉴스 본문 크롤링 진행:  63%|██████▎   | 189/300 [09:07<08:03,  4.35s/it]"
     ]
    },
    {
     "name": "stdout",
     "output_type": "stream",
     "text": [
      "⚠ 본문을 가져오지 못해 Selenium으로 재시도: http://www.fnnews.com/news/202206281755381772\n",
      "✅ 크롤링 완료: 대우건설, 국내 유일 원자력 종합솔루션 건설사 거듭...\n"
     ]
    },
    {
     "name": "stderr",
     "output_type": "stream",
     "text": [
      "📰 뉴스 본문 크롤링 진행:  63%|██████▎   | 190/300 [09:13<08:40,  4.73s/it]"
     ]
    },
    {
     "name": "stdout",
     "output_type": "stream",
     "text": [
      "⚠ 본문을 가져오지 못해 Selenium으로 재시도: http://www.munhwa.com/news/view.html?no=2022052301071403017001\n",
      "✅ 크롤링 완료: ‘原電’ 손잡은 韓·美… 차세대 SMR 시장 선도할 발판 마련...\n"
     ]
    },
    {
     "name": "stderr",
     "output_type": "stream",
     "text": [
      "📰 뉴스 본문 크롤링 진행:  64%|██████▎   | 191/300 [09:17<08:19,  4.58s/it]"
     ]
    },
    {
     "name": "stdout",
     "output_type": "stream",
     "text": [
      "⚠ 본문을 가져오지 못해 Selenium으로 재시도: http://news.mk.co.kr/newsRead.php?no=451832&year=2022\n",
      "✅ 크롤링 완료: [단독] 한미 원전 협력, 유럽부터 공략한다…방산 원전주 쓸어담아야 하......\n"
     ]
    },
    {
     "name": "stderr",
     "output_type": "stream",
     "text": [
      "📰 뉴스 본문 크롤링 진행:  64%|██████▍   | 192/300 [09:22<08:35,  4.78s/it]"
     ]
    },
    {
     "name": "stdout",
     "output_type": "stream",
     "text": [
      "⚠ 본문을 가져오지 못해 Selenium으로 재시도: http://www.mediapen.com/news/view/723766\n",
      "✅ 크롤링 완료: 5년간 막혔던 원전 수주 길 뚫릴까...\n"
     ]
    },
    {
     "name": "stderr",
     "output_type": "stream",
     "text": [
      "📰 뉴스 본문 크롤링 진행:  64%|██████▍   | 193/300 [09:27<08:23,  4.70s/it]"
     ]
    },
    {
     "name": "stdout",
     "output_type": "stream",
     "text": [
      "⚠ 본문을 가져오지 못해 Selenium으로 재시도: http://www.fnnews.com/news/202206281755381772\n",
      "✅ 크롤링 완료: 대우건설, 국내 유일 원자력 종합솔루션 건설사 거듭...\n"
     ]
    },
    {
     "name": "stderr",
     "output_type": "stream",
     "text": [
      "📰 뉴스 본문 크롤링 진행:  65%|██████▍   | 194/300 [09:33<09:03,  5.13s/it]"
     ]
    },
    {
     "name": "stdout",
     "output_type": "stream",
     "text": [
      "✅ 크롤링 완료: \"원전 2년에 1개씩 짓는다\"...유럽이 다시 원전에 꽂힌 이유...\n"
     ]
    },
    {
     "name": "stderr",
     "output_type": "stream",
     "text": [
      "📰 뉴스 본문 크롤링 진행:  65%|██████▌   | 195/300 [09:35<07:07,  4.07s/it]"
     ]
    },
    {
     "name": "stdout",
     "output_type": "stream",
     "text": [
      "⚠ 본문을 가져오지 못해 Selenium으로 재시도: http://www.edaily.co.kr/news/newspath.asp?newsid=03378406632293824\n",
      "✅ 크롤링 완료: 체코 원전사업 수주 위한 ‘팀코리아’ 본격 가동한다...\n"
     ]
    },
    {
     "name": "stderr",
     "output_type": "stream",
     "text": [
      "📰 뉴스 본문 크롤링 진행:  65%|██████▌   | 196/300 [09:40<07:53,  4.55s/it]"
     ]
    },
    {
     "name": "stdout",
     "output_type": "stream",
     "text": [
      "✅ 크롤링 완료: (2022 한국원자력연차대회) \"대형원전과 SMR 함께 가야…전력공급·도매......\n"
     ]
    },
    {
     "name": "stderr",
     "output_type": "stream",
     "text": [
      "📰 뉴스 본문 크롤링 진행:  66%|██████▌   | 197/300 [09:41<06:05,  3.55s/it]"
     ]
    },
    {
     "name": "stdout",
     "output_type": "stream",
     "text": [
      "⚠ 본문을 가져오지 못해 Selenium으로 재시도: http://www.mediapen.com/news/view/719595\n",
      "✅ 크롤링 완료: \"원전, 에너지전환 게임체인저…탄소중립 기본 축\"...\n"
     ]
    },
    {
     "name": "stderr",
     "output_type": "stream",
     "text": [
      "📰 뉴스 본문 크롤링 진행:  66%|██████▌   | 198/300 [09:46<06:19,  3.72s/it]"
     ]
    },
    {
     "name": "stdout",
     "output_type": "stream",
     "text": [
      "✅ 크롤링 완료: 한수원, \"체코이어 폴란드 신규원전사업 수주한다\"...\n"
     ]
    },
    {
     "name": "stderr",
     "output_type": "stream",
     "text": [
      "📰 뉴스 본문 크롤링 진행:  66%|██████▋   | 199/300 [09:47<04:59,  2.97s/it]"
     ]
    },
    {
     "name": "stdout",
     "output_type": "stream",
     "text": [
      "✅ 크롤링 완료: 우리기술, 1분기 원전 수주 증가…혁신형 소형모듈원전 개발 참여 예정...\n"
     ]
    },
    {
     "name": "stderr",
     "output_type": "stream",
     "text": [
      "📰 뉴스 본문 크롤링 진행:  67%|██████▋   | 200/300 [09:48<04:04,  2.44s/it]"
     ]
    },
    {
     "name": "stdout",
     "output_type": "stream",
     "text": [
      "⚠ 본문을 가져오지 못해 Selenium으로 재시도: http://www.edaily.co.kr/news/newspath.asp?newsid=02259926632298416\n",
      "✅ 크롤링 완료: 우리기술, 1Q 원전수주 전년비 18.2% 늘어...\n"
     ]
    },
    {
     "name": "stderr",
     "output_type": "stream",
     "text": [
      "📰 뉴스 본문 크롤링 진행:  67%|██████▋   | 201/300 [09:53<05:30,  3.34s/it]"
     ]
    },
    {
     "name": "stdout",
     "output_type": "stream",
     "text": [
      "⚠ 본문을 가져오지 못해 Selenium으로 재시도: http://www.edaily.co.kr/news/newspath.asp?newsid=02863446632298416\n",
      "✅ 크롤링 완료: K-원전 수출 수요 부활…조광ILI, 실적 개선 기대감...\n"
     ]
    },
    {
     "name": "stderr",
     "output_type": "stream",
     "text": [
      "📰 뉴스 본문 크롤링 진행:  67%|██████▋   | 202/300 [09:59<06:25,  3.93s/it]"
     ]
    },
    {
     "name": "stdout",
     "output_type": "stream",
     "text": [
      "⚠ 본문을 가져오지 못해 Selenium으로 재시도: https://www.theguru.co.kr/news/article.html?no=33576\n",
      "✅ 크롤링 완료: [단독] 체코 CEZ \"테멜린 원전 부지 내 SMR 건설\"…두산중공업·현대건설......\n"
     ]
    },
    {
     "name": "stderr",
     "output_type": "stream",
     "text": [
      "📰 뉴스 본문 크롤링 진행:  68%|██████▊   | 203/300 [10:03<06:32,  4.05s/it]"
     ]
    },
    {
     "name": "stdout",
     "output_type": "stream",
     "text": [
      "✅ 크롤링 완료: 러 침략에 원전 확대 기조…불 붙는 원전株·우라늄ETF...\n"
     ]
    },
    {
     "name": "stderr",
     "output_type": "stream",
     "text": [
      "📰 뉴스 본문 크롤링 진행:  68%|██████▊   | 204/300 [10:04<05:04,  3.18s/it]"
     ]
    },
    {
     "name": "stdout",
     "output_type": "stream",
     "text": [
      "✅ 크롤링 완료: [특징주] '한전기술' 체코 원전 수주 회의로 장마감 강세보여...\n"
     ]
    },
    {
     "name": "stderr",
     "output_type": "stream",
     "text": [
      "📰 뉴스 본문 크롤링 진행:  68%|██████▊   | 205/300 [10:05<04:04,  2.57s/it]"
     ]
    },
    {
     "name": "stdout",
     "output_type": "stream",
     "text": [
      "✅ 크롤링 완료: 비츠로테크, 원전사업으로 제2도약 꿈꾼다...\n"
     ]
    },
    {
     "name": "stderr",
     "output_type": "stream",
     "text": [
      "📰 뉴스 본문 크롤링 진행:  69%|██████▊   | 206/300 [10:07<03:21,  2.14s/it]"
     ]
    },
    {
     "name": "stdout",
     "output_type": "stream",
     "text": [
      "⚠ 본문을 가져오지 못해 Selenium으로 재시도: https://www.businesspost.co.kr/BP?command=article_view&num=278863\n",
      "✅ 크롤링 완료: 한수원 해외수주 도전 이어져, 수주활동 이끌 사장 인선은 기약 없어...\n"
     ]
    },
    {
     "name": "stderr",
     "output_type": "stream",
     "text": [
      "📰 뉴스 본문 크롤링 진행:  69%|██████▉   | 207/300 [10:11<04:27,  2.88s/it]"
     ]
    },
    {
     "name": "stdout",
     "output_type": "stream",
     "text": [
      "⚠ 본문을 가져오지 못해 Selenium으로 재시도: https://www.theguru.co.kr/news/article.html?no=36807\n",
      "✅ 크롤링 완료: 한수원, 체코 공대 SMR 컨퍼런스 참가...\n"
     ]
    },
    {
     "name": "stderr",
     "output_type": "stream",
     "text": [
      "📰 뉴스 본문 크롤링 진행:  69%|██████▉   | 208/300 [10:15<05:02,  3.29s/it]"
     ]
    },
    {
     "name": "stdout",
     "output_type": "stream",
     "text": [
      "✅ 크롤링 완료: 대우건설, 소형원자로 사업 글로벌 시장 공략 가속...\n"
     ]
    },
    {
     "name": "stderr",
     "output_type": "stream",
     "text": [
      "📰 뉴스 본문 크롤링 진행:  70%|██████▉   | 209/300 [10:17<04:02,  2.67s/it]"
     ]
    },
    {
     "name": "stdout",
     "output_type": "stream",
     "text": [
      "✅ 크롤링 완료: (2022년 원자력학회 춘계학술발표회) \"신한울 3·4호기, 원전수출 통한 ......\n"
     ]
    },
    {
     "name": "stderr",
     "output_type": "stream",
     "text": [
      "📰 뉴스 본문 크롤링 진행:  70%|███████   | 210/300 [10:18<03:19,  2.21s/it]"
     ]
    },
    {
     "name": "stdout",
     "output_type": "stream",
     "text": [
      "✅ 크롤링 완료: 대우건설, 소형원자로 사업 글로벌 시장 공략 가속...\n"
     ]
    },
    {
     "name": "stderr",
     "output_type": "stream",
     "text": [
      "📰 뉴스 본문 크롤링 진행:  70%|███████   | 211/300 [10:19<02:47,  1.88s/it]"
     ]
    },
    {
     "name": "stdout",
     "output_type": "stream",
     "text": [
      "✅ 크롤링 완료: (2022년 원자력학회 춘계학술발표회) \"신한울 3·4호기, 원전수출 통한 ......\n"
     ]
    },
    {
     "name": "stderr",
     "output_type": "stream",
     "text": [
      "📰 뉴스 본문 크롤링 진행:  71%|███████   | 212/300 [10:20<02:25,  1.66s/it]"
     ]
    },
    {
     "name": "stdout",
     "output_type": "stream",
     "text": [
      "⚠ 본문을 가져오지 못해 Selenium으로 재시도: http://www.naeil.com/news_view/?id_art=423512\n",
      "✅ 크롤링 완료: [탄소중립과 원자력 | ④ 수출 · SMR] 2030년까지 원전 10기 수출 … 원......\n"
     ]
    },
    {
     "name": "stderr",
     "output_type": "stream",
     "text": [
      "📰 뉴스 본문 크롤링 진행:  71%|███████   | 213/300 [10:26<04:06,  2.83s/it]"
     ]
    },
    {
     "name": "stdout",
     "output_type": "stream",
     "text": [
      "✅ 크롤링 완료: 삼성물산·현대건설·대우건설, 원전사업 통해 세계로...\n"
     ]
    },
    {
     "name": "stderr",
     "output_type": "stream",
     "text": [
      "📰 뉴스 본문 크롤링 진행:  71%|███████▏  | 214/300 [10:27<03:26,  2.40s/it]"
     ]
    },
    {
     "name": "stdout",
     "output_type": "stream",
     "text": [
      "✅ 크롤링 완료: 尹 ‘원전 최강국’ 본격 시동…힘 받는 원전업계...\n"
     ]
    },
    {
     "name": "stderr",
     "output_type": "stream",
     "text": [
      "📰 뉴스 본문 크롤링 진행:  72%|███████▏  | 215/300 [10:28<02:58,  2.10s/it]"
     ]
    },
    {
     "name": "stdout",
     "output_type": "stream",
     "text": [
      "✅ 크롤링 완료: 尹 ‘원전 최강국’ 본격 시동…탈원전에 숨죽였던 기업들 환호 [비즈3......\n"
     ]
    },
    {
     "name": "stderr",
     "output_type": "stream",
     "text": [
      "📰 뉴스 본문 크롤링 진행:  72%|███████▏  | 216/300 [10:30<02:40,  1.91s/it]"
     ]
    },
    {
     "name": "stdout",
     "output_type": "stream",
     "text": [
      "✅ 크롤링 완료: 국정과제에 포함된 '탈원전 폐기'…원전 시장은 어떻게...\n"
     ]
    },
    {
     "name": "stderr",
     "output_type": "stream",
     "text": [
      "📰 뉴스 본문 크롤링 진행:  72%|███████▏  | 217/300 [10:31<02:25,  1.76s/it]"
     ]
    },
    {
     "name": "stdout",
     "output_type": "stream",
     "text": [
      "⚠ 본문을 가져오지 못해 Selenium으로 재시도: http://www.munhwa.com/news/view.html?no=2022042501032503017001\n",
      "✅ 크롤링 완료: 한수원, 신규 원전 수출 ‘잰걸음’… 체코 이어 폴란드 ‘공략’...\n"
     ]
    },
    {
     "name": "stderr",
     "output_type": "stream",
     "text": [
      "📰 뉴스 본문 크롤링 진행:  73%|███████▎  | 218/300 [10:36<03:32,  2.59s/it]"
     ]
    },
    {
     "name": "stdout",
     "output_type": "stream",
     "text": [
      "✅ 크롤링 완료: 한국, 원전강국으로 거듭난다…\"시장 확대 속도\"...\n"
     ]
    },
    {
     "name": "stderr",
     "output_type": "stream",
     "text": [
      "📰 뉴스 본문 크롤링 진행:  73%|███████▎  | 219/300 [10:37<02:57,  2.19s/it]"
     ]
    },
    {
     "name": "stdout",
     "output_type": "stream",
     "text": [
      "✅ 크롤링 완료: [급등주] 서전기전 18% 상승 '한수원, 원전 수출 박차'...\n"
     ]
    },
    {
     "name": "stderr",
     "output_type": "stream",
     "text": [
      "📰 뉴스 본문 크롤링 진행:  73%|███████▎  | 220/300 [10:38<02:30,  1.88s/it]"
     ]
    },
    {
     "name": "stdout",
     "output_type": "stream",
     "text": [
      "✅ 크롤링 완료: [급등주] 서전기전 18% 상승 '한수원, 원전 수출 박차'...\n"
     ]
    },
    {
     "name": "stderr",
     "output_type": "stream",
     "text": [
      "📰 뉴스 본문 크롤링 진행:  74%|███████▎  | 221/300 [10:39<02:11,  1.66s/it]"
     ]
    },
    {
     "name": "stdout",
     "output_type": "stream",
     "text": [
      "⚠ 본문을 가져오지 못해 Selenium으로 재시도: http://www.naeil.com/news_view/?id_art=421111\n",
      "✅ 크롤링 완료: 체코 폴란드로 한국형원전 수출 박차...\n"
     ]
    },
    {
     "name": "stderr",
     "output_type": "stream",
     "text": [
      "📰 뉴스 본문 크롤링 진행:  74%|███████▍  | 222/300 [10:44<03:16,  2.52s/it]"
     ]
    },
    {
     "name": "stdout",
     "output_type": "stream",
     "text": [
      "⚠ 본문을 가져오지 못해 Selenium으로 재시도: https://hankookilbo.com/News/Read/A2022042114440005709?did=NA\n",
      "✅ 크롤링 완료: 원전수출 최강국 시험대? 한수원, 폴란드에 신규 원전사업 제안서 제출...\n"
     ]
    },
    {
     "name": "stderr",
     "output_type": "stream",
     "text": [
      "📰 뉴스 본문 크롤링 진행:  74%|███████▍  | 223/300 [10:52<05:27,  4.25s/it]"
     ]
    },
    {
     "name": "stdout",
     "output_type": "stream",
     "text": [
      "✅ 크롤링 완료: 한신기계, 3거래일 연속 하락세 반전 성공…원전 수출 가능할까?...\n"
     ]
    },
    {
     "name": "stderr",
     "output_type": "stream",
     "text": [
      "📰 뉴스 본문 크롤링 진행:  75%|███████▍  | 224/300 [10:54<04:20,  3.43s/it]"
     ]
    },
    {
     "name": "stdout",
     "output_type": "stream",
     "text": [
      "✅ 크롤링 완료: 두산중공업, 윤석열 정부 '원전 시대' 이룰까?…주가 상승세로 마쳐...\n"
     ]
    },
    {
     "name": "stderr",
     "output_type": "stream",
     "text": [
      "📰 뉴스 본문 크롤링 진행:  75%|███████▌  | 225/300 [10:55<03:37,  2.90s/it]"
     ]
    },
    {
     "name": "stdout",
     "output_type": "stream",
     "text": [
      "✅ 크롤링 완료: 두산중공업, 체코 원전 수출 파란불…주가 소폭 상승...\n"
     ]
    },
    {
     "name": "stderr",
     "output_type": "stream",
     "text": [
      "📰 뉴스 본문 크롤링 진행:  75%|███████▌  | 226/300 [10:57<03:02,  2.46s/it]"
     ]
    },
    {
     "name": "stdout",
     "output_type": "stream",
     "text": [
      "⚠ 본문을 가져오지 못해 Selenium으로 재시도: https://www.asiatime.co.kr/article/20220412500141\n",
      "✅ 크롤링 완료: 새정부 출범에 '원전 어게인'…SK·두산·삼성·등 대기업도 ’군침‘...\n"
     ]
    },
    {
     "name": "stderr",
     "output_type": "stream",
     "text": [
      "📰 뉴스 본문 크롤링 진행:  76%|███████▌  | 227/300 [11:03<04:30,  3.71s/it]"
     ]
    },
    {
     "name": "stdout",
     "output_type": "stream",
     "text": [
      "⚠ 본문을 가져오지 못해 Selenium으로 재시도: http://www.fntimes.com/html/view.php?ud=202204082204112508dd55077bc2_18\n",
      "✅ 크롤링 완료: 삼성·현대·대우건설, ‘원전’ 시장 공략 나선다...\n"
     ]
    },
    {
     "name": "stderr",
     "output_type": "stream",
     "text": [
      "📰 뉴스 본문 크롤링 진행:  76%|███████▌  | 228/300 [11:10<05:40,  4.72s/it]"
     ]
    },
    {
     "name": "stdout",
     "output_type": "stream",
     "text": [
      "✅ 크롤링 완료: 한수원, 체코신규원전사업 '팀코리아 공동협력 협의회' 개최...\n"
     ]
    },
    {
     "name": "stderr",
     "output_type": "stream",
     "text": [
      "📰 뉴스 본문 크롤링 진행:  76%|███████▋  | 229/300 [11:15<05:27,  4.62s/it]"
     ]
    },
    {
     "name": "stdout",
     "output_type": "stream",
     "text": [
      "✅ 크롤링 완료: 해외 원전사업 명맥 잇는다…체코 신규원전 수주 집중...\n"
     ]
    },
    {
     "name": "stderr",
     "output_type": "stream",
     "text": [
      "📰 뉴스 본문 크롤링 진행:  77%|███████▋  | 230/300 [11:16<04:13,  3.62s/it]"
     ]
    },
    {
     "name": "stdout",
     "output_type": "stream",
     "text": [
      "✅ 크롤링 완료: 원전 사업에 꽂힌 건설업계...현대·대우 등 시장 공략 나서...\n"
     ]
    },
    {
     "name": "stderr",
     "output_type": "stream",
     "text": [
      "📰 뉴스 본문 크롤링 진행:  77%|███████▋  | 231/300 [11:17<03:23,  2.95s/it]"
     ]
    },
    {
     "name": "stdout",
     "output_type": "stream",
     "text": [
      "✅ 크롤링 완료: 해외 원전사업 명맥 잇는다…체코 신규원전 수주 집중...\n"
     ]
    },
    {
     "name": "stderr",
     "output_type": "stream",
     "text": [
      "📰 뉴스 본문 크롤링 진행:  77%|███████▋  | 232/300 [11:19<02:44,  2.42s/it]"
     ]
    },
    {
     "name": "stdout",
     "output_type": "stream",
     "text": [
      "✅ 크롤링 완료: 두산중공업, 尹 정부에서는 원전시대 열릴까?…4월 둘째 주 주가 상승세......\n"
     ]
    },
    {
     "name": "stderr",
     "output_type": "stream",
     "text": [
      "📰 뉴스 본문 크롤링 진행:  78%|███████▊  | 233/300 [11:20<02:19,  2.08s/it]"
     ]
    },
    {
     "name": "stdout",
     "output_type": "stream",
     "text": [
      "✅ 크롤링 완료: 한수원, 체코신규원전사업 '팀코리아 공동협력 협의회' 개최...\n"
     ]
    },
    {
     "name": "stderr",
     "output_type": "stream",
     "text": [
      "📰 뉴스 본문 크롤링 진행:  78%|███████▊  | 234/300 [11:21<02:04,  1.88s/it]"
     ]
    },
    {
     "name": "stdout",
     "output_type": "stream",
     "text": [
      "✅ 크롤링 완료: 한신기계, 두산·삼성·현대 원전 사업 확대 발표…주가 상승세 마감...\n"
     ]
    },
    {
     "name": "stderr",
     "output_type": "stream",
     "text": [
      "📰 뉴스 본문 크롤링 진행:  78%|███████▊  | 235/300 [11:23<01:50,  1.70s/it]"
     ]
    },
    {
     "name": "stdout",
     "output_type": "stream",
     "text": [
      "⚠ 본문을 가져오지 못해 Selenium으로 재시도: http://www.wsobi.com/news/articleView.html?idxno=158569\n",
      "✅ 크롤링 완료: 원전업계, 새 정부 출범 앞두고 사업 확대 나서...\n"
     ]
    },
    {
     "name": "stderr",
     "output_type": "stream",
     "text": [
      "📰 뉴스 본문 크롤링 진행:  79%|███████▊  | 236/300 [11:27<02:38,  2.48s/it]"
     ]
    },
    {
     "name": "stdout",
     "output_type": "stream",
     "text": [
      "✅ 크롤링 완료: 한신기계, 尹 정부에서는 원전 수출 기지개 편다…주가 상승세...\n"
     ]
    },
    {
     "name": "stderr",
     "output_type": "stream",
     "text": [
      "📰 뉴스 본문 크롤링 진행:  79%|███████▉  | 237/300 [11:28<02:14,  2.14s/it]"
     ]
    },
    {
     "name": "stdout",
     "output_type": "stream",
     "text": [
      "✅ 크롤링 완료: \"원전 다시 뜬다\"…두산·삼성重, 尹 정책 맞춰 원자력 사업 확대...\n"
     ]
    },
    {
     "name": "stderr",
     "output_type": "stream",
     "text": [
      "📰 뉴스 본문 크롤링 진행:  79%|███████▉  | 238/300 [11:30<02:00,  1.94s/it]"
     ]
    },
    {
     "name": "stdout",
     "output_type": "stream",
     "text": [
      "✅ 크롤링 완료: 한수원, 체코 신규원전 수주 총력…'팀코리아 공동협력 협의회' 개최...\n"
     ]
    },
    {
     "name": "stderr",
     "output_type": "stream",
     "text": [
      "📰 뉴스 본문 크롤링 진행:  80%|███████▉  | 239/300 [11:31<01:47,  1.76s/it]"
     ]
    },
    {
     "name": "stdout",
     "output_type": "stream",
     "text": [
      "⚠ 본문을 가져오지 못해 Selenium으로 재시도: https://biz.sbs.co.kr/article_hub/20000066061?division=NAVER\n",
      "✅ 크롤링 완료: [김대호 박사의 오늘 기업·사람] 웨스팅하우스·BYD·LG화학·엔솔·포스......\n"
     ]
    },
    {
     "name": "stderr",
     "output_type": "stream",
     "text": [
      "📰 뉴스 본문 크롤링 진행:  80%|████████  | 240/300 [11:37<03:01,  3.02s/it]"
     ]
    },
    {
     "name": "stdout",
     "output_type": "stream",
     "text": [
      "✅ 크롤링 완료: 한수원, 체코원전 수주 경쟁력 확보 총력전...\n"
     ]
    },
    {
     "name": "stderr",
     "output_type": "stream",
     "text": [
      "📰 뉴스 본문 크롤링 진행:  80%|████████  | 241/300 [11:39<02:30,  2.56s/it]"
     ]
    },
    {
     "name": "stdout",
     "output_type": "stream",
     "text": [
      "✅ 크롤링 완료: \"원전 다시 뜬다\"…두산·삼성重, 尹 정책 맞춰 원자력 사업 확대...\n"
     ]
    },
    {
     "name": "stderr",
     "output_type": "stream",
     "text": [
      "📰 뉴스 본문 크롤링 진행:  81%|████████  | 242/300 [11:40<02:08,  2.21s/it]"
     ]
    },
    {
     "name": "stdout",
     "output_type": "stream",
     "text": [
      "✅ 크롤링 완료: 한수원, 체코 신규원전 수주 총력…'팀코리아 공동협력 협의회' 개최...\n"
     ]
    },
    {
     "name": "stderr",
     "output_type": "stream",
     "text": [
      "📰 뉴스 본문 크롤링 진행:  81%|████████  | 243/300 [11:42<02:05,  2.20s/it]"
     ]
    },
    {
     "name": "stdout",
     "output_type": "stream",
     "text": [
      "⚠ 본문을 가져오지 못해 Selenium으로 재시도: https://biz.sbs.co.kr/article_hub/20000066061?division=NAVER\n",
      "✅ 크롤링 완료: [김대호 박사의 오늘 기업·사람] 웨스팅하우스·BYD·LG화학·엔솔·포스......\n"
     ]
    },
    {
     "name": "stderr",
     "output_type": "stream",
     "text": [
      "📰 뉴스 본문 크롤링 진행:  81%|████████▏ | 244/300 [11:47<02:52,  3.08s/it]"
     ]
    },
    {
     "name": "stdout",
     "output_type": "stream",
     "text": [
      "⚠ 본문을 가져오지 못해 Selenium으로 재시도: https://www.theguru.co.kr/news/article.html?no=33299\n",
      "✅ 크롤링 완료: [단독] 뉴스케일파워·두산중공업, 체코 SMR 진출 시동…美, 원전 무역사......\n"
     ]
    },
    {
     "name": "stderr",
     "output_type": "stream",
     "text": [
      "📰 뉴스 본문 크롤링 진행:  82%|████████▏ | 245/300 [11:52<03:11,  3.48s/it]"
     ]
    },
    {
     "name": "stdout",
     "output_type": "stream",
     "text": [
      "✅ 크롤링 완료: 48조 원전 시장 공약 본격화…이창양 산업부 26일 체코·폴란드 출장...\n"
     ]
    },
    {
     "name": "stderr",
     "output_type": "stream",
     "text": [
      "📰 뉴스 본문 크롤링 진행:  82%|████████▏ | 246/300 [11:53<02:34,  2.87s/it]"
     ]
    },
    {
     "name": "stdout",
     "output_type": "stream",
     "text": [
      "⚠ 본문을 가져오지 못해 Selenium으로 재시도: https://www.theguru.co.kr/news/article.html?no=34202\n",
      "✅ 크롤링 완료: 웨스팅하우스, 체코 기업 9곳과 추가 MOU...\n"
     ]
    },
    {
     "name": "stderr",
     "output_type": "stream",
     "text": [
      "📰 뉴스 본문 크롤링 진행:  82%|████████▏ | 247/300 [11:57<02:51,  3.24s/it]"
     ]
    },
    {
     "name": "stdout",
     "output_type": "stream",
     "text": [
      "✅ 크롤링 완료: 대우건설, 수익성 높아진 해외사업 증가…이익률 증가세 이어지나...\n"
     ]
    },
    {
     "name": "stderr",
     "output_type": "stream",
     "text": [
      "📰 뉴스 본문 크롤링 진행:  83%|████████▎ | 248/300 [11:58<02:16,  2.62s/it]"
     ]
    },
    {
     "name": "stdout",
     "output_type": "stream",
     "text": [
      "✅ 크롤링 완료: 두산에너빌리티, 3일 연속 강세…이유는?...\n"
     ]
    },
    {
     "name": "stderr",
     "output_type": "stream",
     "text": [
      "📰 뉴스 본문 크롤링 진행:  83%|████████▎ | 249/300 [12:00<01:53,  2.22s/it]"
     ]
    },
    {
     "name": "stdout",
     "output_type": "stream",
     "text": [
      "⚠ 본문을 가져오지 못해 Selenium으로 재시도: http://www.mediapen.com/news/view/724433\n",
      "✅ 크롤링 완료: 한수원, 삼중수소·해외 발전사업 강화…수익성 향상 나서...\n"
     ]
    },
    {
     "name": "stderr",
     "output_type": "stream",
     "text": [
      "📰 뉴스 본문 크롤링 진행:  83%|████████▎ | 250/300 [12:04<02:25,  2.91s/it]"
     ]
    },
    {
     "name": "stdout",
     "output_type": "stream",
     "text": [
      "✅ 크롤링 완료: 한수원, 체코신규원전사업 '팀코리아 공동협력 협의회' 개최...\n"
     ]
    },
    {
     "name": "stderr",
     "output_type": "stream",
     "text": [
      "📰 뉴스 본문 크롤링 진행:  84%|████████▎ | 251/300 [12:05<01:56,  2.39s/it]"
     ]
    },
    {
     "name": "stdout",
     "output_type": "stream",
     "text": [
      "⚠ 본문을 가져오지 못해 Selenium으로 재시도: https://biz.sbs.co.kr/article_hub/20000066061?division=NAVER\n",
      "✅ 크롤링 완료: [김대호 박사의 오늘 기업·사람] 웨스팅하우스·BYD·LG화학·엔솔·포스......\n"
     ]
    },
    {
     "name": "stderr",
     "output_type": "stream",
     "text": [
      "📰 뉴스 본문 크롤링 진행:  84%|████████▍ | 252/300 [12:10<02:26,  3.06s/it]"
     ]
    },
    {
     "name": "stdout",
     "output_type": "stream",
     "text": [
      "⚠ 본문을 가져오지 못해 Selenium으로 재시도: https://www.theguru.co.kr/news/article.html?no=33299\n",
      "✅ 크롤링 완료: [단독] 뉴스케일파워·두산중공업, 체코 SMR 진출 시동…美, 원전 무역사......\n"
     ]
    },
    {
     "name": "stderr",
     "output_type": "stream",
     "text": [
      "📰 뉴스 본문 크롤링 진행:  84%|████████▍ | 253/300 [12:14<02:38,  3.38s/it]"
     ]
    },
    {
     "name": "stdout",
     "output_type": "stream",
     "text": [
      "✅ 크롤링 완료: 48조 원전 시장 공약 본격화…이창양 산업부 26일 체코·폴란드 출장...\n"
     ]
    },
    {
     "name": "stderr",
     "output_type": "stream",
     "text": [
      "📰 뉴스 본문 크롤링 진행:  85%|████████▍ | 254/300 [12:15<02:06,  2.76s/it]"
     ]
    },
    {
     "name": "stdout",
     "output_type": "stream",
     "text": [
      "⚠ 본문을 가져오지 못해 Selenium으로 재시도: https://www.theguru.co.kr/news/article.html?no=34202\n",
      "✅ 크롤링 완료: 웨스팅하우스, 체코 기업 9곳과 추가 MOU...\n"
     ]
    },
    {
     "name": "stderr",
     "output_type": "stream",
     "text": [
      "📰 뉴스 본문 크롤링 진행:  85%|████████▌ | 255/300 [12:19<02:21,  3.13s/it]"
     ]
    },
    {
     "name": "stdout",
     "output_type": "stream",
     "text": [
      "✅ 크롤링 완료: 대우건설, 수익성 높아진 해외사업 증가…이익률 증가세 이어지나...\n"
     ]
    },
    {
     "name": "stderr",
     "output_type": "stream",
     "text": [
      "📰 뉴스 본문 크롤링 진행:  85%|████████▌ | 256/300 [12:21<01:50,  2.52s/it]"
     ]
    },
    {
     "name": "stdout",
     "output_type": "stream",
     "text": [
      "✅ 크롤링 완료: 두산에너빌리티, 3일 연속 강세…이유는?...\n"
     ]
    },
    {
     "name": "stderr",
     "output_type": "stream",
     "text": [
      "📰 뉴스 본문 크롤링 진행:  86%|████████▌ | 257/300 [12:22<01:32,  2.15s/it]"
     ]
    },
    {
     "name": "stdout",
     "output_type": "stream",
     "text": [
      "⚠ 본문을 가져오지 못해 Selenium으로 재시도: http://www.mediapen.com/news/view/724433\n",
      "✅ 크롤링 완료: 한수원, 삼중수소·해외 발전사업 강화…수익성 향상 나서...\n"
     ]
    },
    {
     "name": "stderr",
     "output_type": "stream",
     "text": [
      "📰 뉴스 본문 크롤링 진행:  86%|████████▌ | 258/300 [12:26<01:57,  2.79s/it]"
     ]
    },
    {
     "name": "stdout",
     "output_type": "stream",
     "text": [
      "⚠ 본문을 가져오지 못해 Selenium으로 재시도: http://www.edaily.co.kr/news/newspath.asp?newsid=04077046632293496\n",
      "✅ 크롤링 완료: 한수원, 올해 첫 원자력 유관기관 대표 간담회 개최...\n"
     ]
    },
    {
     "name": "stderr",
     "output_type": "stream",
     "text": [
      "📰 뉴스 본문 크롤링 진행:  86%|████████▋ | 259/300 [12:32<02:34,  3.76s/it]"
     ]
    },
    {
     "name": "stdout",
     "output_type": "stream",
     "text": [
      "⚠ 본문을 가져오지 못해 Selenium으로 재시도: http://www.edaily.co.kr/news/newspath.asp?newsid=04155766632292840\n",
      "✅ 크롤링 완료: 한수원 사장 재연임 없이 임기종료…文-尹 인사권 타협?...\n"
     ]
    },
    {
     "name": "stderr",
     "output_type": "stream",
     "text": [
      "📰 뉴스 본문 크롤링 진행:  87%|████████▋ | 261/300 [12:37<01:55,  2.96s/it]"
     ]
    },
    {
     "name": "stdout",
     "output_type": "stream",
     "text": [
      "⚠ 오류 발생 (뉴스 크롤링 실패): http://www.sentv.co.kr/news/view/616382, 오류: HTTPSConnectionPool(host='www.sentv.co.kr', port=443): Max retries exceeded with url: /news/view/616382 (Caused by SSLError(SSLCertVerificationError(1, '[SSL: CERTIFICATE_VERIFY_FAILED] certificate verify failed: unable to get local issuer certificate (_ssl.c:1000)')))\n",
      "⚠ 본문을 가져오지 못해 Selenium으로 재시도: https://biz.sbs.co.kr/article_hub/20000066061?division=NAVER\n",
      "✅ 크롤링 완료: [김대호 박사의 오늘 기업·사람] 웨스팅하우스·BYD·LG화학·엔솔·포스......\n"
     ]
    },
    {
     "name": "stderr",
     "output_type": "stream",
     "text": [
      "📰 뉴스 본문 크롤링 진행:  87%|████████▋ | 262/300 [12:43<02:26,  3.85s/it]"
     ]
    },
    {
     "name": "stdout",
     "output_type": "stream",
     "text": [
      "⚠ 본문을 가져오지 못해 Selenium으로 재시도: https://www.theguru.co.kr/news/article.html?no=33299\n",
      "✅ 크롤링 완료: [단독] 뉴스케일파워·두산중공업, 체코 SMR 진출 시동…美, 원전 무역사......\n"
     ]
    },
    {
     "name": "stderr",
     "output_type": "stream",
     "text": [
      "📰 뉴스 본문 크롤링 진행:  88%|████████▊ | 263/300 [12:47<02:26,  3.95s/it]"
     ]
    },
    {
     "name": "stdout",
     "output_type": "stream",
     "text": [
      "✅ 크롤링 완료: 48조 원전 시장 공약 본격화…이창양 산업부 26일 체코·폴란드 출장...\n"
     ]
    },
    {
     "name": "stderr",
     "output_type": "stream",
     "text": [
      "📰 뉴스 본문 크롤링 진행:  88%|████████▊ | 264/300 [12:49<01:53,  3.15s/it]"
     ]
    },
    {
     "name": "stdout",
     "output_type": "stream",
     "text": [
      "⚠ 본문을 가져오지 못해 Selenium으로 재시도: https://www.theguru.co.kr/news/article.html?no=34202\n",
      "✅ 크롤링 완료: 웨스팅하우스, 체코 기업 9곳과 추가 MOU...\n"
     ]
    },
    {
     "name": "stderr",
     "output_type": "stream",
     "text": [
      "📰 뉴스 본문 크롤링 진행:  88%|████████▊ | 265/300 [12:53<01:59,  3.43s/it]"
     ]
    },
    {
     "name": "stdout",
     "output_type": "stream",
     "text": [
      "✅ 크롤링 완료: 대우건설, 수익성 높아진 해외사업 증가…이익률 증가세 이어지나...\n"
     ]
    },
    {
     "name": "stderr",
     "output_type": "stream",
     "text": [
      "📰 뉴스 본문 크롤링 진행:  89%|████████▊ | 266/300 [12:54<01:33,  2.75s/it]"
     ]
    },
    {
     "name": "stdout",
     "output_type": "stream",
     "text": [
      "✅ 크롤링 완료: 두산에너빌리티, 3일 연속 강세…이유는?...\n"
     ]
    },
    {
     "name": "stderr",
     "output_type": "stream",
     "text": [
      "📰 뉴스 본문 크롤링 진행:  89%|████████▉ | 267/300 [12:55<01:15,  2.28s/it]"
     ]
    },
    {
     "name": "stdout",
     "output_type": "stream",
     "text": [
      "⚠ 본문을 가져오지 못해 Selenium으로 재시도: http://www.mediapen.com/news/view/724433\n",
      "✅ 크롤링 완료: 한수원, 삼중수소·해외 발전사업 강화…수익성 향상 나서...\n"
     ]
    },
    {
     "name": "stderr",
     "output_type": "stream",
     "text": [
      "📰 뉴스 본문 크롤링 진행:  89%|████████▉ | 268/300 [13:00<01:33,  2.92s/it]"
     ]
    },
    {
     "name": "stdout",
     "output_type": "stream",
     "text": [
      "⚠ 본문을 가져오지 못해 Selenium으로 재시도: http://www.edaily.co.kr/news/newspath.asp?newsid=04077046632293496\n",
      "✅ 크롤링 완료: 한수원, 올해 첫 원자력 유관기관 대표 간담회 개최...\n"
     ]
    },
    {
     "name": "stderr",
     "output_type": "stream",
     "text": [
      "📰 뉴스 본문 크롤링 진행:  90%|████████▉ | 269/300 [13:05<01:55,  3.74s/it]"
     ]
    },
    {
     "name": "stdout",
     "output_type": "stream",
     "text": [
      "⚠ 본문을 가져오지 못해 Selenium으로 재시도: http://www.edaily.co.kr/news/newspath.asp?newsid=04155766632292840\n",
      "✅ 크롤링 완료: 한수원 사장 재연임 없이 임기종료…文-尹 인사권 타협?...\n"
     ]
    },
    {
     "name": "stderr",
     "output_type": "stream",
     "text": [
      "📰 뉴스 본문 크롤링 진행:  90%|█████████ | 270/300 [13:10<02:03,  4.13s/it]"
     ]
    },
    {
     "name": "stdout",
     "output_type": "stream",
     "text": [
      "✅ 크롤링 완료: 한수원, '팀코리아' 가동…체코 신규원전사업 수주 자신감...\n"
     ]
    },
    {
     "name": "stderr",
     "output_type": "stream",
     "text": [
      "📰 뉴스 본문 크롤링 진행:  90%|█████████ | 271/300 [13:12<01:35,  3.28s/it]"
     ]
    },
    {
     "name": "stdout",
     "output_type": "stream",
     "text": [
      "⚠ 본문을 가져오지 못해 Selenium으로 재시도: https://biz.sbs.co.kr/article_hub/20000066061?division=NAVER\n",
      "✅ 크롤링 완료: [김대호 박사의 오늘 기업·사람] 웨스팅하우스·BYD·LG화학·엔솔·포스......\n"
     ]
    },
    {
     "name": "stderr",
     "output_type": "stream",
     "text": [
      "📰 뉴스 본문 크롤링 진행:  91%|█████████ | 272/300 [13:17<01:45,  3.77s/it]"
     ]
    },
    {
     "name": "stdout",
     "output_type": "stream",
     "text": [
      "⚠ 본문을 가져오지 못해 Selenium으로 재시도: https://www.theguru.co.kr/news/article.html?no=33299\n",
      "✅ 크롤링 완료: [단독] 뉴스케일파워·두산중공업, 체코 SMR 진출 시동…美, 원전 무역사......\n"
     ]
    },
    {
     "name": "stderr",
     "output_type": "stream",
     "text": [
      "📰 뉴스 본문 크롤링 진행:  91%|█████████ | 273/300 [13:21<01:44,  3.89s/it]"
     ]
    },
    {
     "name": "stdout",
     "output_type": "stream",
     "text": [
      "✅ 크롤링 완료: 48조 원전 시장 공약 본격화…이창양 산업부 26일 체코·폴란드 출장...\n"
     ]
    },
    {
     "name": "stderr",
     "output_type": "stream",
     "text": [
      "📰 뉴스 본문 크롤링 진행:  91%|█████████▏| 274/300 [13:22<01:21,  3.14s/it]"
     ]
    },
    {
     "name": "stdout",
     "output_type": "stream",
     "text": [
      "⚠ 본문을 가져오지 못해 Selenium으로 재시도: https://www.theguru.co.kr/news/article.html?no=34202\n",
      "✅ 크롤링 완료: 웨스팅하우스, 체코 기업 9곳과 추가 MOU...\n"
     ]
    },
    {
     "name": "stderr",
     "output_type": "stream",
     "text": [
      "📰 뉴스 본문 크롤링 진행:  92%|█████████▏| 275/300 [13:26<01:25,  3.41s/it]"
     ]
    },
    {
     "name": "stdout",
     "output_type": "stream",
     "text": [
      "✅ 크롤링 완료: 대우건설, 수익성 높아진 해외사업 증가…이익률 증가세 이어지나...\n"
     ]
    },
    {
     "name": "stderr",
     "output_type": "stream",
     "text": [
      "📰 뉴스 본문 크롤링 진행:  92%|█████████▏| 276/300 [13:27<01:05,  2.72s/it]"
     ]
    },
    {
     "name": "stdout",
     "output_type": "stream",
     "text": [
      "✅ 크롤링 완료: 두산에너빌리티, 3일 연속 강세…이유는?...\n"
     ]
    },
    {
     "name": "stderr",
     "output_type": "stream",
     "text": [
      "📰 뉴스 본문 크롤링 진행:  92%|█████████▏| 277/300 [13:28<00:52,  2.27s/it]"
     ]
    },
    {
     "name": "stdout",
     "output_type": "stream",
     "text": [
      "⚠ 본문을 가져오지 못해 Selenium으로 재시도: http://www.mediapen.com/news/view/724433\n",
      "✅ 크롤링 완료: 한수원, 삼중수소·해외 발전사업 강화…수익성 향상 나서...\n"
     ]
    },
    {
     "name": "stderr",
     "output_type": "stream",
     "text": [
      "📰 뉴스 본문 크롤링 진행:  93%|█████████▎| 278/300 [13:33<01:03,  2.90s/it]"
     ]
    },
    {
     "name": "stdout",
     "output_type": "stream",
     "text": [
      "⚠ 본문을 가져오지 못해 Selenium으로 재시도: http://www.edaily.co.kr/news/newspath.asp?newsid=04077046632293496\n",
      "✅ 크롤링 완료: 한수원, 올해 첫 원자력 유관기관 대표 간담회 개최...\n"
     ]
    },
    {
     "name": "stderr",
     "output_type": "stream",
     "text": [
      "📰 뉴스 본문 크롤링 진행:  93%|█████████▎| 279/300 [13:38<01:15,  3.58s/it]"
     ]
    },
    {
     "name": "stdout",
     "output_type": "stream",
     "text": [
      "⚠ 본문을 가져오지 못해 Selenium으로 재시도: http://www.edaily.co.kr/news/newspath.asp?newsid=04155766632292840\n",
      "✅ 크롤링 완료: 한수원 사장 재연임 없이 임기종료…文-尹 인사권 타협?...\n"
     ]
    },
    {
     "name": "stderr",
     "output_type": "stream",
     "text": [
      "📰 뉴스 본문 크롤링 진행:  93%|█████████▎| 280/300 [13:43<01:20,  4.01s/it]"
     ]
    },
    {
     "name": "stdout",
     "output_type": "stream",
     "text": [
      "✅ 크롤링 완료: 대우건설, 수익성 높아진 해외사업 증가…이익률 증가세 이어지나...\n"
     ]
    },
    {
     "name": "stderr",
     "output_type": "stream",
     "text": [
      "📰 뉴스 본문 크롤링 진행:  94%|█████████▎| 281/300 [13:44<01:00,  3.16s/it]"
     ]
    },
    {
     "name": "stdout",
     "output_type": "stream",
     "text": [
      "✅ 크롤링 완료: 두산에너빌리티, 3일 연속 강세…이유는?...\n"
     ]
    },
    {
     "name": "stderr",
     "output_type": "stream",
     "text": [
      "📰 뉴스 본문 크롤링 진행:  94%|█████████▍| 282/300 [13:45<00:46,  2.57s/it]"
     ]
    },
    {
     "name": "stdout",
     "output_type": "stream",
     "text": [
      "⚠ 본문을 가져오지 못해 Selenium으로 재시도: http://www.mediapen.com/news/view/724433\n",
      "✅ 크롤링 완료: 한수원, 삼중수소·해외 발전사업 강화…수익성 향상 나서...\n"
     ]
    },
    {
     "name": "stderr",
     "output_type": "stream",
     "text": [
      "📰 뉴스 본문 크롤링 진행:  94%|█████████▍| 283/300 [13:50<00:53,  3.14s/it]"
     ]
    },
    {
     "name": "stdout",
     "output_type": "stream",
     "text": [
      "⚠ 본문을 가져오지 못해 Selenium으로 재시도: http://www.edaily.co.kr/news/newspath.asp?newsid=04077046632293496\n",
      "✅ 크롤링 완료: 한수원, 올해 첫 원자력 유관기관 대표 간담회 개최...\n"
     ]
    },
    {
     "name": "stderr",
     "output_type": "stream",
     "text": [
      "📰 뉴스 본문 크롤링 진행:  95%|█████████▍| 284/300 [13:55<01:00,  3.77s/it]"
     ]
    },
    {
     "name": "stdout",
     "output_type": "stream",
     "text": [
      "⚠ 본문을 가져오지 못해 Selenium으로 재시도: http://www.edaily.co.kr/news/newspath.asp?newsid=04155766632292840\n",
      "✅ 크롤링 완료: 한수원 사장 재연임 없이 임기종료…文-尹 인사권 타협?...\n"
     ]
    },
    {
     "name": "stderr",
     "output_type": "stream",
     "text": [
      "📰 뉴스 본문 크롤링 진행:  95%|█████████▌| 285/300 [14:00<01:02,  4.14s/it]"
     ]
    },
    {
     "name": "stdout",
     "output_type": "stream",
     "text": [
      "⚠ 본문을 가져오지 못해 Selenium으로 재시도: https://www.businesspost.co.kr/BP?command=article_view&num=276819\n",
      "✅ 크롤링 완료: [데스크리포트 4월] 거리두기 종료 기대에 공기업 화색, 한전은 시름...\n"
     ]
    },
    {
     "name": "stderr",
     "output_type": "stream",
     "text": [
      "📰 뉴스 본문 크롤링 진행:  95%|█████████▌| 286/300 [14:05<01:01,  4.36s/it]"
     ]
    },
    {
     "name": "stdout",
     "output_type": "stream",
     "text": [
      "✅ 크롤링 완료: 산업부, 스페인‧노르웨이‧체코와의 에너지 공동 연구에 48억원 투입...\n"
     ]
    },
    {
     "name": "stderr",
     "output_type": "stream",
     "text": [
      "📰 뉴스 본문 크롤링 진행:  96%|█████████▌| 287/300 [14:06<00:44,  3.40s/it]"
     ]
    },
    {
     "name": "stdout",
     "output_type": "stream",
     "text": [
      "✅ 크롤링 완료: 두산에너빌리티, 3일만에 주가 '상승'…무슨 이슈 있나...\n"
     ]
    },
    {
     "name": "stderr",
     "output_type": "stream",
     "text": [
      "📰 뉴스 본문 크롤링 진행:  96%|█████████▌| 288/300 [14:07<00:33,  2.76s/it]"
     ]
    },
    {
     "name": "stdout",
     "output_type": "stream",
     "text": [
      "⚠ 본문을 가져오지 못해 Selenium으로 재시도: http://www.mediapen.com/news/view/730142\n",
      "✅ 크롤링 완료: 신한울 1호기, 최초 계통연결…하계 전력 공급 지원...\n"
     ]
    },
    {
     "name": "stderr",
     "output_type": "stream",
     "text": [
      "📰 뉴스 본문 크롤링 진행:  96%|█████████▋| 289/300 [14:12<00:35,  3.23s/it]"
     ]
    },
    {
     "name": "stdout",
     "output_type": "stream",
     "text": [
      "⚠ 본문을 가져오지 못해 Selenium으로 재시도: http://www.kbsm.net/news/view.php?idx=351739\n",
      "✅ 크롤링 완료: 탈원전 버린 尹정부, 공기업 수장 물갈이 속도...\n"
     ]
    },
    {
     "name": "stderr",
     "output_type": "stream",
     "text": [
      "📰 뉴스 본문 크롤링 진행:  97%|█████████▋| 290/300 [14:17<00:38,  3.81s/it]"
     ]
    },
    {
     "name": "stdout",
     "output_type": "stream",
     "text": [
      "⚠ 본문을 가져오지 못해 Selenium으로 재시도: https://www.businesspost.co.kr/BP?command=article_view&num=279835\n",
      "✅ 크롤링 완료: [데스크리포트 5월] 전국 공항에 봄바람, 국민연금·한수원 리더십 혼란...\n"
     ]
    },
    {
     "name": "stderr",
     "output_type": "stream",
     "text": [
      "📰 뉴스 본문 크롤링 진행:  97%|█████████▋| 291/300 [14:21<00:34,  3.87s/it]"
     ]
    },
    {
     "name": "stdout",
     "output_type": "stream",
     "text": [
      "✅ 크롤링 완료: 두산중공업, 시간외 주가 약세…원전주 힘빠졌나...\n"
     ]
    },
    {
     "name": "stderr",
     "output_type": "stream",
     "text": [
      "📰 뉴스 본문 크롤링 진행:  97%|█████████▋| 292/300 [14:22<00:24,  3.09s/it]"
     ]
    },
    {
     "name": "stdout",
     "output_type": "stream",
     "text": [
      "✅ 크롤링 완료: 두산중공업, 4월 셋째 주 상승세 보여…무엇 때문에?...\n"
     ]
    },
    {
     "name": "stderr",
     "output_type": "stream",
     "text": [
      "📰 뉴스 본문 크롤링 진행:  98%|█████████▊| 293/300 [14:24<00:18,  2.57s/it]"
     ]
    },
    {
     "name": "stdout",
     "output_type": "stream",
     "text": [
      "✅ 크롤링 완료: 시동 걸린 탈원전 폐기 드라이브… 수혜 기업은 어디?...\n"
     ]
    },
    {
     "name": "stderr",
     "output_type": "stream",
     "text": [
      "📰 뉴스 본문 크롤링 진행:  98%|█████████▊| 294/300 [14:25<00:13,  2.22s/it]"
     ]
    },
    {
     "name": "stdout",
     "output_type": "stream",
     "text": [
      "✅ 크롤링 완료: 두산중공업, 주가 널뛰기 양상…어떤 이슈있나?...\n"
     ]
    },
    {
     "name": "stderr",
     "output_type": "stream",
     "text": [
      "📰 뉴스 본문 크롤링 진행:  98%|█████████▊| 295/300 [14:26<00:09,  1.98s/it]"
     ]
    },
    {
     "name": "stdout",
     "output_type": "stream",
     "text": [
      "✅ 크롤링 완료: 두산중공업, 주가 상승세 전환…무슨일?...\n"
     ]
    },
    {
     "name": "stderr",
     "output_type": "stream",
     "text": [
      "📰 뉴스 본문 크롤링 진행:  99%|█████████▊| 296/300 [14:28<00:07,  1.79s/it]"
     ]
    },
    {
     "name": "stdout",
     "output_type": "stream",
     "text": [
      "✅ 크롤링 완료: 삼성중공우, 주가 훨훨…원자력 발전사업 확대...\n"
     ]
    },
    {
     "name": "stderr",
     "output_type": "stream",
     "text": [
      "📰 뉴스 본문 크롤링 진행:  99%|█████████▉| 297/300 [14:29<00:04,  1.64s/it]"
     ]
    },
    {
     "name": "stdout",
     "output_type": "stream",
     "text": [
      "✅ 크롤링 완료: 두산중공업, 주가 반등 성공…무슨일?...\n"
     ]
    },
    {
     "name": "stderr",
     "output_type": "stream",
     "text": [
      "📰 뉴스 본문 크롤링 진행:  99%|█████████▉| 298/300 [14:30<00:03,  1.52s/it]"
     ]
    },
    {
     "name": "stdout",
     "output_type": "stream",
     "text": [
      "✅ 크롤링 완료: 한국수력원자력, 팀코리아 공동협력 협의회 개최...\n"
     ]
    },
    {
     "name": "stderr",
     "output_type": "stream",
     "text": [
      "📰 뉴스 본문 크롤링 진행: 100%|█████████▉| 299/300 [14:32<00:01,  1.45s/it]"
     ]
    },
    {
     "name": "stdout",
     "output_type": "stream",
     "text": [
      "✅ 크롤링 완료: [5대 관전 포인트] 尹 '나토행' 美 중심 글로벌 가치동맹 강화 행보···......\n"
     ]
    },
    {
     "name": "stderr",
     "output_type": "stream",
     "text": [
      "📰 뉴스 본문 크롤링 진행: 100%|██████████| 300/300 [14:33<00:00,  2.91s/it]\n"
     ]
    }
   ],
   "source": [
    "import time\n",
    "import json\n",
    "import datetime\n",
    "from bs4 import BeautifulSoup\n",
    "import requests\n",
    "from selenium import webdriver\n",
    "from selenium.webdriver.chrome.service import Service\n",
    "from selenium.webdriver.chrome.options import Options\n",
    "from selenium.webdriver.common.by import By\n",
    "from selenium.webdriver.common.keys import Keys\n",
    "from tqdm import tqdm\n",
    "from webdriver_manager.chrome import ChromeDriverManager\n",
    "\n",
    "# 🔍 검색어 리스트\n",
    "search_queries = [\"두코바니 원전\"]  \n",
    "\n",
    "# ✅ 크롤링할 기간 설정 (2022.01.01 ~ 2024.12.31)\n",
    "START_DATE = datetime.datetime(2022, 1, 1)\n",
    "END_DATE = datetime.datetime(2024, 12, 31)\n",
    "\n",
    "# ✅ User-Agent 설정\n",
    "HEADERS = {\n",
    "    \"User-Agent\": \"Mozilla/5.0 (Windows NT 10.0; Win64; x64) AppleWebKit/537.36 (KHTML, like Gecko) Chrome/98.0.4758.102 Safari/537.36\"\n",
    "}\n",
    "\n",
    "# ✅ Selenium 옵션 설정\n",
    "chrome_options = Options()\n",
    "chrome_options.add_argument(\"--headless\")  # GUI 없이 실행\n",
    "chrome_options.add_argument(\"--no-sandbox\")\n",
    "chrome_options.add_argument(\"--disable-dev-shm-usage\")\n",
    "chrome_options.add_argument(\"--disable-gpu\")\n",
    "\n",
    "# ✅ ChromeDriver 자동 설치\n",
    "service = Service(ChromeDriverManager().install())\n",
    "driver = webdriver.Chrome(service=service, options=chrome_options)\n",
    "\n",
    "# ✅ 네이버 뉴스 검색 URL 템플릿 (날짜별로 검색)\n",
    "NAVER_NEWS_URL_TEMPLATE = (\n",
    "    \"https://search.naver.com/search.naver?where=news&query={query}&sm=tab_opt&sort=0&photo=0\"\n",
    "    \"&field=0&pd=3&ds={start_date}&de={end_date}\"\n",
    ")\n",
    "\n",
    "def fetch_naver_news(query, start_date, end_date):\n",
    "    \"\"\"Selenium을 사용하여 네이버 뉴스 검색 페이지 크롤링 (무한 스크롤)\"\"\"\n",
    "    search_url = NAVER_NEWS_URL_TEMPLATE.format(query=query, start_date=start_date, end_date=end_date)\n",
    "    driver.get(search_url)\n",
    "    time.sleep(2)  # 페이지 로딩 대기\n",
    "\n",
    "    # ✅ 무한 스크롤을 통해 뉴스 목록 로드\n",
    "    print(f\"🔍 검색 중: {query} ({start_date} ~ {end_date})\")\n",
    "    last_height = driver.execute_script(\"return document.body.scrollHeight\")\n",
    "    while True:\n",
    "        driver.find_element(By.TAG_NAME, \"body\").send_keys(Keys.END)\n",
    "        time.sleep(2)\n",
    "        new_height = driver.execute_script(\"return document.body.scrollHeight\")\n",
    "        if new_height == last_height:\n",
    "            break  \n",
    "        last_height = new_height\n",
    "\n",
    "    # ✅ BeautifulSoup으로 페이지 파싱\n",
    "    soup = BeautifulSoup(driver.page_source, \"html.parser\")\n",
    "    articles = soup.select(\"div.group_news > ul.list_news > li\")\n",
    "\n",
    "    news_list = []\n",
    "    for article in articles:\n",
    "        try:\n",
    "            title_element = article.select_one(\"a.news_tit\")\n",
    "            title = title_element.text.strip() if title_element else \"N/A\"\n",
    "            link = title_element[\"href\"] if title_element else \"N/A\"\n",
    "\n",
    "            # ✅ 날짜 가져오기 (목록에서 크롤링)\n",
    "            date_element = article.select_one(\"span.info\")\n",
    "            date_text = date_element.text.strip() if date_element else \"N/A\"\n",
    "\n",
    "            news_list.append({\"title\": title, \"link\": link, \"date\": date_text})\n",
    "\n",
    "        except Exception as e:\n",
    "            print(f\"⚠ 오류 발생 (목록 크롤링 실패): {e}\")\n",
    "\n",
    "    print(f\"✅ {len(news_list)}개의 뉴스 기사 링크 및 날짜를 수집 완료! ({start_date} ~ {end_date})\")\n",
    "    return news_list\n",
    "\n",
    "def fetch_news_content(news_list):\n",
    "    \"\"\"뉴스 기사 본문 크롤링\"\"\"\n",
    "    news_data = []\n",
    "\n",
    "    for news in tqdm(news_list, desc=\"📰 뉴스 본문 크롤링 진행\"):\n",
    "        try:\n",
    "            response = requests.get(news[\"link\"], headers=HEADERS)\n",
    "            soup = BeautifulSoup(response.text, \"html.parser\")\n",
    "\n",
    "            # ✅ 본문 크롤링 (다양한 선택자 추가)\n",
    "            content_selectors = [\n",
    "                \"div#newsct_article\", \"div#articleBodyContents\", \"div.article_view\",\n",
    "                \"div.news_end\", \"div#articeBody\", \"div.content_area\",\n",
    "                \"div#newsEndContents\", \"article\"\n",
    "            ]\n",
    "            content = \"\"\n",
    "            for selector in content_selectors:\n",
    "                content_element = soup.select(selector)\n",
    "                if content_element:\n",
    "                    content = \" \".join([p.text.strip() for p in content_element])\n",
    "                    break\n",
    "\n",
    "            # ✅ Selenium을 사용한 백업 크롤링\n",
    "            if not content.strip():\n",
    "                print(f\"⚠ 본문을 가져오지 못해 Selenium으로 재시도: {news['link']}\")\n",
    "                driver.get(news[\"link\"])\n",
    "                time.sleep(2)\n",
    "                soup = BeautifulSoup(driver.page_source, \"html.parser\")\n",
    "                content_element = soup.select_one(\"div#newsct_article\") or soup.select_one(\"article\")\n",
    "                if content_element:\n",
    "                    content = \" \".join([p.text.strip() for p in content_element])\n",
    "\n",
    "            # ✅ 데이터 저장\n",
    "            news[\"content\"] = content.strip() if content else \"N/A\"\n",
    "            news_data.append(news)\n",
    "\n",
    "            print(f\"✅ 크롤링 완료: {news['title'][:50]}...\")\n",
    "\n",
    "            time.sleep(1)\n",
    "\n",
    "        except Exception as e:\n",
    "            print(f\"⚠ 오류 발생 (뉴스 크롤링 실패): {news['link']}, 오류: {e}\")\n",
    "\n",
    "    return news_data\n",
    "\n",
    "# ✅ 날짜 범위를 3개월씩 쪼개서 크롤링 (2000개 초과 방지)\n",
    "all_news = []\n",
    "date_ranges = [\n",
    "    (\"2022.01.01\", \"2022.03.31\"), (\"2022.04.01\", \"2022.06.30\"),\n",
    "    (\"2022.07.01\", \"2022.09.30\"), (\"2022.10.01\", \"2022.12.31\"),\n",
    "    (\"2023.01.01\", \"2023.03.31\"), (\"2023.04.01\", \"2023.06.30\"),\n",
    "    (\"2023.07.01\", \"2023.09.30\"), (\"2023.10.01\", \"2023.12.31\"),\n",
    "    (\"2024.01.01\", \"2024.03.31\"), (\"2024.04.01\", \"2024.06.30\"),\n",
    "    (\"2024.07.01\", \"2024.09.30\"), (\"2024.10.01\", \"2024.12.31\")\n",
    "]\n",
    "\n",
    "for query in search_queries:\n",
    "    for start_date, end_date in date_ranges:\n",
    "        news_list = fetch_naver_news(query, start_date, end_date)\n",
    "        news_data = fetch_news_content(news_list)\n",
    "        all_news.extend(news_data)\n",
    "\n",
    "# ✅ JSON 파일로 저장\n",
    "output_file = \"naver_news.json\"\n",
    "with open(output_file, \"w\", encoding=\"utf-8\") as f:\n",
    "    json.dump(all_news, f, ensure_ascii=False, indent=4)\n",
    "\n",
    "print(f\"✅ 총 {len(all_news)}개의 뉴스 기사를 저장했습니다. (파일명: {output_file})\")\n",
    "\n",
    "# ✅ Selenium 종료\n",
    "driver.quit()\n"
   ]
  }
 ],
 "metadata": {
  "colab": {
   "provenance": []
  },
  "kernelspec": {
   "display_name": "Python 3",
   "language": "python",
   "name": "python3"
  },
  "language_info": {
   "codemirror_mode": {
    "name": "ipython",
    "version": 3
   },
   "file_extension": ".py",
   "mimetype": "text/x-python",
   "name": "python",
   "nbconvert_exporter": "python",
   "pygments_lexer": "ipython3",
   "version": "3.12.3"
  }
 },
 "nbformat": 4,
 "nbformat_minor": 4
}
