{
 "cells": [
  {
   "cell_type": "code",
   "execution_count": null,
   "metadata": {},
   "outputs": [
    {
     "ename": "",
     "evalue": "",
     "output_type": "error",
     "traceback": [
      "\u001b[1;31m현재 셀 또는 이전 셀에서 코드를 실행하는 동안 Kernel이 충돌했습니다. \n",
      "\u001b[1;31m셀의 코드를 검토하여 가능한 오류 원인을 식별하세요. \n",
      "\u001b[1;31m자세한 내용을 보려면 <a href='https://aka.ms/vscodeJupyterKernelCrash'>여기</a>를 클릭하세요. \n",
      "\u001b[1;31m자세한 내용은 Jupyter <a href='command:jupyter.viewOutput'>로그</a>를 참조하세요."
     ]
    }
   ],
   "source": [
    "#Jaderná elektrárna Dukovany(두코바니 원자력 발전소)\n",
    "\n",
    "#https://search.seznam.cz/clanky/?q=Jadern%C3%A1%20elektr%C3%A1rna%20Dukovany\n",
    "#리눅스 환경에서 코드 실행 중"
   ]
  },
  {
   "cell_type": "code",
   "execution_count": null,
   "metadata": {},
   "outputs": [
    {
     "name": "stdout",
     "output_type": "stream",
     "text": [
      "🔍 검색 중: 두코바니 원전 (2022.01.01 ~ 2022.03.31)\n",
      "✅ 198개의 뉴스 기사 링크 및 날짜를 수집 완료! (2022.01.01 ~ 2022.03.31)\n"
     ]
    },
    {
     "name": "stderr",
     "output_type": "stream",
     "text": [
      "📰 뉴스 본문 크롤링 진행:   0%|          | 0/198 [00:00<?, ?it/s]"
     ]
    },
    {
     "name": "stdout",
     "output_type": "stream",
     "text": [
      "⚠ 본문을 가져오지 못해 Selenium으로 재시도: http://www.edaily.co.kr/news/newspath.asp?newsid=02273046632268896\n"
     ]
    },
    {
     "name": "stderr",
     "output_type": "stream",
     "text": [
      "📰 뉴스 본문 크롤링 진행:   1%|          | 1/198 [00:07<23:04,  7.03s/it]"
     ]
    },
    {
     "name": "stdout",
     "output_type": "stream",
     "text": [
      "⚠ 본문을 가져오지 못해 Selenium으로 재시도: http://www.edaily.co.kr/news/newspath.asp?newsid=03863846632268896\n"
     ]
    },
    {
     "name": "stderr",
     "output_type": "stream",
     "text": [
      "📰 뉴스 본문 크롤링 진행:   2%|▏         | 3/198 [00:11<10:06,  3.11s/it]"
     ]
    },
    {
     "name": "stdout",
     "output_type": "stream",
     "text": [
      "⚠ 본문을 가져오지 못해 Selenium으로 재시도: http://www.fnnews.com/news/202203231435028488\n"
     ]
    },
    {
     "name": "stderr",
     "output_type": "stream",
     "text": [
      "📰 뉴스 본문 크롤링 진행:   2%|▏         | 4/198 [00:20<16:44,  5.18s/it]"
     ]
    },
    {
     "name": "stdout",
     "output_type": "stream",
     "text": [
      "⚠ 본문을 가져오지 못해 Selenium으로 재시도: http://www.mbn.co.kr/pages/news/newsView.php?news_seq_no=4724094\n"
     ]
    },
    {
     "name": "stderr",
     "output_type": "stream",
     "text": [
      "📰 뉴스 본문 크롤링 진행:   3%|▎         | 5/198 [00:27<19:29,  6.06s/it]"
     ]
    },
    {
     "name": "stdout",
     "output_type": "stream",
     "text": [
      "⚠ 본문을 가져오지 못해 Selenium으로 재시도: http://www.munhwa.com/news/view.html?no=2022032801032603017003\n"
     ]
    },
    {
     "name": "stderr",
     "output_type": "stream",
     "text": [
      "📰 뉴스 본문 크롤링 진행:   3%|▎         | 6/198 [00:34<19:44,  6.17s/it]"
     ]
    },
    {
     "name": "stdout",
     "output_type": "stream",
     "text": [
      "⚠ 본문을 가져오지 못해 Selenium으로 재시도: https://www.dailian.co.kr/news/view/1096677/?sc=Naver\n"
     ]
    },
    {
     "name": "stderr",
     "output_type": "stream",
     "text": [
      "📰 뉴스 본문 크롤링 진행:   5%|▍         | 9/198 [00:40<10:27,  3.32s/it]"
     ]
    },
    {
     "name": "stdout",
     "output_type": "stream",
     "text": [
      "⚠ 본문을 가져오지 못해 Selenium으로 재시도: https://zdnet.co.kr/view/?no=20220321011429\n",
      "⚠ 오류 발생 (뉴스 크롤링 실패, 1/3): https://zdnet.co.kr/view/?no=20220321011429, 오류: HTTPConnectionPool(host='localhost', port=54345): Read timed out. (read timeout=120)\n",
      "⚠ 본문을 가져오지 못해 Selenium으로 재시도: https://zdnet.co.kr/view/?no=20220321011429\n"
     ]
    },
    {
     "name": "stderr",
     "output_type": "stream",
     "text": [
      "📰 뉴스 본문 크롤링 진행:   5%|▌         | 10/198 [03:00<2:00:13, 38.37s/it]"
     ]
    },
    {
     "name": "stdout",
     "output_type": "stream",
     "text": [
      "⚠ 본문을 가져오지 못해 Selenium으로 재시도: http://news.mk.co.kr/newsRead.php?no=265615&year=2022\n"
     ]
    },
    {
     "name": "stderr",
     "output_type": "stream",
     "text": [
      "📰 뉴스 본문 크롤링 진행:   6%|▌         | 11/198 [03:06<1:32:11, 29.58s/it]"
     ]
    },
    {
     "name": "stdout",
     "output_type": "stream",
     "text": [
      "⚠ 본문을 가져오지 못해 Selenium으로 재시도: https://www.wowtv.co.kr/NewsCenter/News/Read?articleId=A202203160112&t=NNv\n",
      "⚠ 오류 발생 (뉴스 크롤링 실패, 1/3): https://www.wowtv.co.kr/NewsCenter/News/Read?articleId=A202203160112&t=NNv, 오류: HTTPConnectionPool(host='localhost', port=54345): Read timed out. (read timeout=120)\n",
      "⚠ 본문을 가져오지 못해 Selenium으로 재시도: https://www.wowtv.co.kr/NewsCenter/News/Read?articleId=A202203160112&t=NNv\n"
     ]
    },
    {
     "name": "stderr",
     "output_type": "stream",
     "text": [
      "📰 뉴스 본문 크롤링 진행:   7%|▋         | 13/198 [05:35<2:18:19, 44.86s/it]"
     ]
    },
    {
     "name": "stdout",
     "output_type": "stream",
     "text": [
      "⚠ 본문을 가져오지 못해 Selenium으로 재시도: http://www.munhwa.com/news/view.html?no=2022032501073711000002\n"
     ]
    },
    {
     "name": "stderr",
     "output_type": "stream",
     "text": [
      "📰 뉴스 본문 크롤링 진행:   8%|▊         | 15/198 [05:39<1:11:51, 23.56s/it]"
     ]
    },
    {
     "name": "stdout",
     "output_type": "stream",
     "text": [
      "⚠ 본문을 가져오지 못해 Selenium으로 재시도: https://www.chosun.com/economy/industry-company/2022/03/14/KYGE7QAMBZHKDLX7UYHD4F6YZ4/?utm_source=naver&utm_medium=referral&utm_campaign=naver-news\n"
     ]
    },
    {
     "name": "stderr",
     "output_type": "stream",
     "text": [
      "📰 뉴스 본문 크롤링 진행:   8%|▊         | 16/198 [05:46<56:33, 18.64s/it]  "
     ]
    },
    {
     "name": "stdout",
     "output_type": "stream",
     "text": [
      "⚠ 본문을 가져오지 못해 Selenium으로 재시도: https://www.businesspost.co.kr/BP?command=article_view&num=275196\n"
     ]
    },
    {
     "name": "stderr",
     "output_type": "stream",
     "text": [
      "📰 뉴스 본문 크롤링 진행:   9%|▊         | 17/198 [05:51<44:09, 14.64s/it]"
     ]
    },
    {
     "name": "stdout",
     "output_type": "stream",
     "text": [
      "⚠ 본문을 가져오지 못해 Selenium으로 재시도: http://www.g-enews.com/ko-kr/news/article/news_all/2022032517333656825df15c1126_1/article.html\n"
     ]
    },
    {
     "name": "stderr",
     "output_type": "stream",
     "text": [
      "📰 뉴스 본문 크롤링 진행:  11%|█         | 21/198 [05:56<12:28,  4.23s/it]"
     ]
    },
    {
     "name": "stdout",
     "output_type": "stream",
     "text": [
      "⚠ 본문을 가져오지 못해 Selenium으로 재시도: http://www.breaknews.com/881326\n"
     ]
    },
    {
     "name": "stderr",
     "output_type": "stream",
     "text": [
      "📰 뉴스 본문 크롤링 진행:  11%|█         | 22/198 [06:02<14:03,  4.79s/it]"
     ]
    },
    {
     "name": "stdout",
     "output_type": "stream",
     "text": [
      "⚠ 본문을 가져오지 못해 Selenium으로 재시도: http://www.edaily.co.kr/news/newspath.asp?newsid=01357926632263648\n"
     ]
    },
    {
     "name": "stderr",
     "output_type": "stream",
     "text": [
      "📰 뉴스 본문 크롤링 진행:  12%|█▏        | 24/198 [06:09<11:02,  3.80s/it]"
     ]
    },
    {
     "name": "stdout",
     "output_type": "stream",
     "text": [
      "⚠ 본문을 가져오지 못해 Selenium으로 재시도: http://www.breaknews.com/879851\n"
     ]
    },
    {
     "name": "stderr",
     "output_type": "stream",
     "text": [
      "📰 뉴스 본문 크롤링 진행:  14%|█▎        | 27/198 [06:17<07:20,  2.57s/it]"
     ]
    },
    {
     "name": "stdout",
     "output_type": "stream",
     "text": [
      "⚠ 본문을 가져오지 못해 Selenium으로 재시도: http://www.ksmnews.co.kr/default/index_view_page.php?idx=371864&part_idx=295\n"
     ]
    },
    {
     "name": "stderr",
     "output_type": "stream",
     "text": [
      "📰 뉴스 본문 크롤링 진행:  15%|█▍        | 29/198 [06:23<06:52,  2.44s/it]"
     ]
    },
    {
     "name": "stdout",
     "output_type": "stream",
     "text": [
      "⚠ 본문을 가져오지 못해 Selenium으로 재시도: https://www.theguru.co.kr/news/article.html?no=32540\n"
     ]
    },
    {
     "name": "stderr",
     "output_type": "stream",
     "text": [
      "📰 뉴스 본문 크롤링 진행:  15%|█▌        | 30/198 [06:28<09:06,  3.26s/it]"
     ]
    },
    {
     "name": "stdout",
     "output_type": "stream",
     "text": [
      "⚠ 본문을 가져오지 못해 Selenium으로 재시도: http://www.mediapen.com/news/view/709515\n"
     ]
    },
    {
     "name": "stderr",
     "output_type": "stream",
     "text": [
      "📰 뉴스 본문 크롤링 진행:  16%|█▌        | 31/198 [06:34<11:23,  4.10s/it]"
     ]
    },
    {
     "name": "stdout",
     "output_type": "stream",
     "text": [
      "⚠ 본문을 가져오지 못해 Selenium으로 재시도: https://www.radiokorea.com/news/article.php?uid=384204\n"
     ]
    },
    {
     "name": "stderr",
     "output_type": "stream",
     "text": [
      "📰 뉴스 본문 크롤링 진행:  16%|█▌        | 32/198 [06:51<21:35,  7.80s/it]"
     ]
    },
    {
     "name": "stdout",
     "output_type": "stream",
     "text": [
      "⚠ 본문을 가져오지 못해 Selenium으로 재시도: https://www.theguru.co.kr/news/article.html?no=32155\n"
     ]
    },
    {
     "name": "stderr",
     "output_type": "stream",
     "text": [
      "📰 뉴스 본문 크롤링 진행:  17%|█▋        | 33/198 [06:55<18:42,  6.81s/it]"
     ]
    },
    {
     "name": "stdout",
     "output_type": "stream",
     "text": [
      "⚠ 본문을 가져오지 못해 Selenium으로 재시도: https://www.theguru.co.kr/news/article.html?no=31857\n"
     ]
    },
    {
     "name": "stderr",
     "output_type": "stream",
     "text": [
      "📰 뉴스 본문 크롤링 진행:  17%|█▋        | 34/198 [07:00<16:52,  6.18s/it]"
     ]
    },
    {
     "name": "stdout",
     "output_type": "stream",
     "text": [
      "⚠ 본문을 가져오지 못해 Selenium으로 재시도: https://www.theguru.co.kr/news/article.html?no=31193\n"
     ]
    },
    {
     "name": "stderr",
     "output_type": "stream",
     "text": [
      "📰 뉴스 본문 크롤링 진행:  18%|█▊        | 36/198 [07:03<10:12,  3.78s/it]"
     ]
    },
    {
     "name": "stdout",
     "output_type": "stream",
     "text": [
      "⚠ 본문을 가져오지 못해 Selenium으로 재시도: https://biz.chosun.com/stock/stock_general/2022/02/28/CAIMHUHEUZBEXBZXE5WHWUIZAA/?utm_source=naver&utm_medium=original&utm_campaign=biz\n"
     ]
    },
    {
     "name": "stderr",
     "output_type": "stream",
     "text": [
      "📰 뉴스 본문 크롤링 진행:  19%|█▊        | 37/198 [07:12<13:49,  5.15s/it]"
     ]
    },
    {
     "name": "stdout",
     "output_type": "stream",
     "text": [
      "⚠ 본문을 가져오지 못해 Selenium으로 재시도: https://www.theguru.co.kr/news/article.html?no=31482\n"
     ]
    },
    {
     "name": "stderr",
     "output_type": "stream",
     "text": [
      "📰 뉴스 본문 크롤링 진행:  20%|█▉        | 39/198 [07:16<09:23,  3.55s/it]"
     ]
    },
    {
     "name": "stdout",
     "output_type": "stream",
     "text": [
      "⚠ 본문을 가져오지 못해 Selenium으로 재시도: http://www.mediapen.com/news/view/700125\n"
     ]
    },
    {
     "name": "stderr",
     "output_type": "stream",
     "text": [
      "📰 뉴스 본문 크롤링 진행:  20%|██        | 40/198 [07:20<09:45,  3.70s/it]"
     ]
    },
    {
     "name": "stdout",
     "output_type": "stream",
     "text": [
      "⚠ 본문을 가져오지 못해 Selenium으로 재시도: https://www.theguru.co.kr/news/article.html?no=30386\n"
     ]
    },
    {
     "name": "stderr",
     "output_type": "stream",
     "text": [
      "📰 뉴스 본문 크롤링 진행:  21%|██        | 41/198 [07:25<10:19,  3.94s/it]"
     ]
    },
    {
     "name": "stdout",
     "output_type": "stream",
     "text": [
      "⚠ 본문을 가져오지 못해 Selenium으로 재시도: http://www.fnnews.com/news/202202041048500986\n"
     ]
    },
    {
     "name": "stderr",
     "output_type": "stream",
     "text": [
      "📰 뉴스 본문 크롤링 진행:  23%|██▎       | 46/198 [07:40<09:12,  3.64s/it]"
     ]
    },
    {
     "name": "stdout",
     "output_type": "stream",
     "text": [
      "⚠ 본문을 가져오지 못해 Selenium으로 재시도: https://www.theguru.co.kr/news/article.html?no=31153\n"
     ]
    },
    {
     "name": "stderr",
     "output_type": "stream",
     "text": [
      "📰 뉴스 본문 크롤링 진행:  24%|██▎       | 47/198 [07:44<09:33,  3.80s/it]"
     ]
    },
    {
     "name": "stdout",
     "output_type": "stream",
     "text": [
      "⚠ 본문을 가져오지 못해 Selenium으로 재시도: http://dream.kotra.or.kr/kotranews/cms/news/actionKotraBoardDetail.do?SITE_NO=3&MENU_ID=410&CONTENTS_NO=1&bbsGbn=242&bbsSn=242&pNttSn=193341\n"
     ]
    },
    {
     "name": "stderr",
     "output_type": "stream",
     "text": [
      "📰 뉴스 본문 크롤링 진행:  24%|██▍       | 48/198 [07:48<09:16,  3.71s/it]"
     ]
    },
    {
     "name": "stdout",
     "output_type": "stream",
     "text": [
      "⚠ HTTP 오류: 404\n",
      "⚠ HTTP 오류: 404\n",
      "⚠ HTTP 오류: 404\n"
     ]
    },
    {
     "name": "stderr",
     "output_type": "stream",
     "text": [
      "📰 뉴스 본문 크롤링 진행:  26%|██▋       | 52/198 [08:05<06:43,  2.77s/it]"
     ]
    },
    {
     "name": "stdout",
     "output_type": "stream",
     "text": [
      "⚠ 본문을 가져오지 못해 Selenium으로 재시도: https://www.businesspost.co.kr/BP?command=article_view&num=273174\n"
     ]
    },
    {
     "name": "stderr",
     "output_type": "stream",
     "text": [
      "📰 뉴스 본문 크롤링 진행:  27%|██▋       | 53/198 [08:08<07:04,  2.93s/it]"
     ]
    },
    {
     "name": "stdout",
     "output_type": "stream",
     "text": [
      "⚠ 본문을 가져오지 못해 Selenium으로 재시도: https://www.businesspost.co.kr/BP?command=article_view&num=271044\n"
     ]
    },
    {
     "name": "stderr",
     "output_type": "stream",
     "text": [
      "📰 뉴스 본문 크롤링 진행:  28%|██▊       | 56/198 [08:13<04:21,  1.85s/it]"
     ]
    },
    {
     "name": "stdout",
     "output_type": "stream",
     "text": [
      "⚠ 본문을 가져오지 못해 Selenium으로 재시도: http://www.fnnews.com/news/202201251752288852\n"
     ]
    },
    {
     "name": "stderr",
     "output_type": "stream",
     "text": [
      "📰 뉴스 본문 크롤링 진행:  29%|██▉       | 57/198 [08:17<05:43,  2.44s/it]"
     ]
    },
    {
     "name": "stdout",
     "output_type": "stream",
     "text": [
      "⚠ 본문을 가져오지 못해 Selenium으로 재시도: http://www.fnnews.com/news/202201251503242837\n"
     ]
    },
    {
     "name": "stderr",
     "output_type": "stream",
     "text": [
      "📰 뉴스 본문 크롤링 진행:  29%|██▉       | 58/198 [08:22<07:39,  3.28s/it]"
     ]
    },
    {
     "name": "stdout",
     "output_type": "stream",
     "text": [
      "⚠ HTTP 오류: 404\n",
      "⚠ HTTP 오류: 404\n",
      "⚠ HTTP 오류: 404\n"
     ]
    },
    {
     "name": "stderr",
     "output_type": "stream",
     "text": [
      "📰 뉴스 본문 크롤링 진행:  31%|███▏      | 62/198 [08:42<07:56,  3.51s/it]"
     ]
    },
    {
     "name": "stdout",
     "output_type": "stream",
     "text": [
      "⚠ 본문을 가져오지 못해 Selenium으로 재시도: https://www.businesspost.co.kr/BP?command=article_view&num=273174\n"
     ]
    },
    {
     "name": "stderr",
     "output_type": "stream",
     "text": [
      "📰 뉴스 본문 크롤링 진행:  32%|███▏      | 63/198 [08:46<08:13,  3.65s/it]"
     ]
    },
    {
     "name": "stdout",
     "output_type": "stream",
     "text": [
      "⚠ 본문을 가져오지 못해 Selenium으로 재시도: https://www.businesspost.co.kr/BP?command=article_view&num=271044\n"
     ]
    },
    {
     "name": "stderr",
     "output_type": "stream",
     "text": [
      "📰 뉴스 본문 크롤링 진행:  33%|███▎      | 66/198 [08:51<04:41,  2.14s/it]"
     ]
    },
    {
     "name": "stdout",
     "output_type": "stream",
     "text": [
      "⚠ 본문을 가져오지 못해 Selenium으로 재시도: http://www.fnnews.com/news/202201251752288852\n",
      "⚠ 오류 발생 (뉴스 크롤링 실패, 1/3): http://www.fnnews.com/news/202201251752288852, 오류: HTTPConnectionPool(host='localhost', port=54345): Read timed out. (read timeout=120)\n",
      "⚠ 본문을 가져오지 못해 Selenium으로 재시도: http://www.fnnews.com/news/202201251752288852\n",
      "⚠ 오류 발생 (뉴스 크롤링 실패, 2/3): http://www.fnnews.com/news/202201251752288852, 오류: HTTPConnectionPool(host='localhost', port=54345): Read timed out. (read timeout=120)\n",
      "⚠ 본문을 가져오지 못해 Selenium으로 재시도: http://www.fnnews.com/news/202201251752288852\n"
     ]
    },
    {
     "name": "stderr",
     "output_type": "stream",
     "text": [
      "📰 뉴스 본문 크롤링 진행:  34%|███▍      | 67/198 [13:31<3:06:40, 85.50s/it]"
     ]
    },
    {
     "name": "stdout",
     "output_type": "stream",
     "text": [
      "⚠ 본문을 가져오지 못해 Selenium으로 재시도: http://www.fnnews.com/news/202201251503242837\n"
     ]
    },
    {
     "name": "stderr",
     "output_type": "stream",
     "text": [
      "📰 뉴스 본문 크롤링 진행:  34%|███▍      | 68/198 [13:38<2:13:56, 61.82s/it]"
     ]
    },
    {
     "name": "stdout",
     "output_type": "stream",
     "text": [
      "⚠ HTTP 오류: 404\n",
      "⚠ HTTP 오류: 404\n",
      "⚠ HTTP 오류: 404\n"
     ]
    },
    {
     "name": "stderr",
     "output_type": "stream",
     "text": [
      "📰 뉴스 본문 크롤링 진행:  36%|███▋      | 72/198 [13:56<35:52, 17.08s/it]  "
     ]
    },
    {
     "name": "stdout",
     "output_type": "stream",
     "text": [
      "⚠ 본문을 가져오지 못해 Selenium으로 재시도: https://www.businesspost.co.kr/BP?command=article_view&num=273174\n"
     ]
    },
    {
     "name": "stderr",
     "output_type": "stream",
     "text": [
      "📰 뉴스 본문 크롤링 진행:  37%|███▋      | 73/198 [14:00<27:35, 13.24s/it]"
     ]
    },
    {
     "name": "stdout",
     "output_type": "stream",
     "text": [
      "⚠ 본문을 가져오지 못해 Selenium으로 재시도: https://www.businesspost.co.kr/BP?command=article_view&num=271044\n"
     ]
    },
    {
     "name": "stderr",
     "output_type": "stream",
     "text": [
      "📰 뉴스 본문 크롤링 진행:  38%|███▊      | 76/198 [14:04<10:48,  5.32s/it]"
     ]
    },
    {
     "name": "stdout",
     "output_type": "stream",
     "text": [
      "⚠ 본문을 가져오지 못해 Selenium으로 재시도: http://www.fnnews.com/news/202201251752288852\n"
     ]
    },
    {
     "name": "stderr",
     "output_type": "stream",
     "text": [
      "📰 뉴스 본문 크롤링 진행:  39%|███▉      | 77/198 [14:09<10:25,  5.17s/it]"
     ]
    },
    {
     "name": "stdout",
     "output_type": "stream",
     "text": [
      "⚠ 본문을 가져오지 못해 Selenium으로 재시도: http://www.fnnews.com/news/202201251503242837\n"
     ]
    },
    {
     "name": "stderr",
     "output_type": "stream",
     "text": [
      "📰 뉴스 본문 크롤링 진행:  39%|███▉      | 78/198 [14:13<09:47,  4.90s/it]"
     ]
    },
    {
     "name": "stdout",
     "output_type": "stream",
     "text": [
      "⚠ HTTP 오류: 404\n",
      "⚠ HTTP 오류: 404\n",
      "⚠ HTTP 오류: 404\n"
     ]
    },
    {
     "name": "stderr",
     "output_type": "stream",
     "text": [
      "📰 뉴스 본문 크롤링 진행:  41%|████▏     | 82/198 [14:28<05:40,  2.93s/it]"
     ]
    },
    {
     "name": "stdout",
     "output_type": "stream",
     "text": [
      "⚠ 본문을 가져오지 못해 Selenium으로 재시도: https://www.businesspost.co.kr/BP?command=article_view&num=273174\n"
     ]
    },
    {
     "name": "stderr",
     "output_type": "stream",
     "text": [
      "📰 뉴스 본문 크롤링 진행:  42%|████▏     | 83/198 [14:32<06:18,  3.29s/it]"
     ]
    },
    {
     "name": "stdout",
     "output_type": "stream",
     "text": [
      "⚠ 본문을 가져오지 못해 Selenium으로 재시도: https://www.businesspost.co.kr/BP?command=article_view&num=271044\n"
     ]
    },
    {
     "name": "stderr",
     "output_type": "stream",
     "text": [
      "📰 뉴스 본문 크롤링 진행:  43%|████▎     | 86/198 [14:37<03:40,  1.97s/it]"
     ]
    },
    {
     "name": "stdout",
     "output_type": "stream",
     "text": [
      "⚠ 본문을 가져오지 못해 Selenium으로 재시도: http://www.fnnews.com/news/202201251752288852\n"
     ]
    },
    {
     "name": "stderr",
     "output_type": "stream",
     "text": [
      "📰 뉴스 본문 크롤링 진행:  44%|████▍     | 87/198 [14:42<05:12,  2.81s/it]"
     ]
    },
    {
     "name": "stdout",
     "output_type": "stream",
     "text": [
      "⚠ 본문을 가져오지 못해 Selenium으로 재시도: http://www.fnnews.com/news/202201251503242837\n"
     ]
    },
    {
     "name": "stderr",
     "output_type": "stream",
     "text": [
      "📰 뉴스 본문 크롤링 진행:  44%|████▍     | 88/198 [14:48<06:45,  3.69s/it]"
     ]
    },
    {
     "name": "stdout",
     "output_type": "stream",
     "text": [
      "⚠ HTTP 오류: 404\n",
      "⚠ HTTP 오류: 404\n",
      "⚠ HTTP 오류: 404\n"
     ]
    },
    {
     "name": "stderr",
     "output_type": "stream",
     "text": [
      "📰 뉴스 본문 크롤링 진행:  46%|████▋     | 92/198 [15:02<04:18,  2.44s/it]"
     ]
    },
    {
     "name": "stdout",
     "output_type": "stream",
     "text": [
      "⚠ 본문을 가져오지 못해 Selenium으로 재시도: https://www.businesspost.co.kr/BP?command=article_view&num=273174\n"
     ]
    },
    {
     "name": "stderr",
     "output_type": "stream",
     "text": [
      "📰 뉴스 본문 크롤링 진행:  47%|████▋     | 93/198 [15:06<05:14,  3.00s/it]"
     ]
    },
    {
     "name": "stdout",
     "output_type": "stream",
     "text": [
      "⚠ 본문을 가져오지 못해 Selenium으로 재시도: https://www.businesspost.co.kr/BP?command=article_view&num=271044\n"
     ]
    },
    {
     "name": "stderr",
     "output_type": "stream",
     "text": [
      "📰 뉴스 본문 크롤링 진행:  48%|████▊     | 96/198 [15:15<05:34,  3.27s/it]"
     ]
    },
    {
     "name": "stdout",
     "output_type": "stream",
     "text": [
      "⚠ 본문을 가져오지 못해 Selenium으로 재시도: http://www.fnnews.com/news/202201251752288852\n"
     ]
    },
    {
     "name": "stderr",
     "output_type": "stream",
     "text": [
      "📰 뉴스 본문 크롤링 진행:  49%|████▉     | 97/198 [15:19<06:01,  3.58s/it]"
     ]
    },
    {
     "name": "stdout",
     "output_type": "stream",
     "text": [
      "⚠ 본문을 가져오지 못해 Selenium으로 재시도: http://www.fnnews.com/news/202201251503242837\n"
     ]
    },
    {
     "name": "stderr",
     "output_type": "stream",
     "text": [
      "📰 뉴스 본문 크롤링 진행:  49%|████▉     | 98/198 [15:25<07:04,  4.25s/it]"
     ]
    },
    {
     "name": "stdout",
     "output_type": "stream",
     "text": [
      "⚠ HTTP 오류: 404\n",
      "⚠ HTTP 오류: 404\n",
      "⚠ HTTP 오류: 404\n"
     ]
    },
    {
     "name": "stderr",
     "output_type": "stream",
     "text": [
      "📰 뉴스 본문 크롤링 진행:  51%|█████     | 100/198 [15:38<07:46,  4.76s/it]"
     ]
    },
    {
     "name": "stdout",
     "output_type": "stream",
     "text": [
      "⚠ 본문을 가져오지 못해 Selenium으로 재시도: http://www.g-enews.com/ko-kr/news/article/news_all/2022032517333656825df15c1126_1/article.html\n"
     ]
    },
    {
     "name": "stderr",
     "output_type": "stream",
     "text": [
      "📰 뉴스 본문 크롤링 진행:  51%|█████     | 101/198 [15:44<08:19,  5.15s/it]"
     ]
    },
    {
     "name": "stdout",
     "output_type": "stream",
     "text": [
      "⚠ 본문을 가져오지 못해 Selenium으로 재시도: http://www.ksmnews.co.kr/default/index_view_page.php?idx=372537&part_idx=295\n"
     ]
    },
    {
     "name": "stderr",
     "output_type": "stream",
     "text": [
      "📰 뉴스 본문 크롤링 진행:  52%|█████▏    | 102/198 [15:48<07:29,  4.68s/it]"
     ]
    },
    {
     "name": "stdout",
     "output_type": "stream",
     "text": [
      "⚠ 본문을 가져오지 못해 Selenium으로 재시도: https://www.dnews.co.kr/uhtml/view.jsp?idxno=202203181414072950986\n"
     ]
    },
    {
     "name": "stderr",
     "output_type": "stream",
     "text": [
      "📰 뉴스 본문 크롤링 진행:  54%|█████▍    | 107/198 [15:56<02:22,  1.56s/it]"
     ]
    },
    {
     "name": "stdout",
     "output_type": "stream",
     "text": [
      "⚠ 본문을 가져오지 못해 Selenium으로 재시도: https://www.wowtv.co.kr/NewsCenter/News/Read?articleId=A202203160031&t=NNv\n"
     ]
    },
    {
     "name": "stderr",
     "output_type": "stream",
     "text": [
      "📰 뉴스 본문 크롤링 진행:  55%|█████▌    | 109/198 [16:09<05:20,  3.60s/it]"
     ]
    },
    {
     "name": "stdout",
     "output_type": "stream",
     "text": [
      "⚠ 본문을 가져오지 못해 Selenium으로 재시도: https://www.viva100.com/main/view.php?key=20220322010005558\n"
     ]
    },
    {
     "name": "stderr",
     "output_type": "stream",
     "text": [
      "📰 뉴스 본문 크롤링 진행:  56%|█████▌    | 110/198 [16:15<06:05,  4.15s/it]"
     ]
    },
    {
     "name": "stdout",
     "output_type": "stream",
     "text": [
      "⚠ 본문을 가져오지 못해 Selenium으로 재시도: https://www.cnbnews.com/news/article.html?no=537518\n"
     ]
    },
    {
     "name": "stderr",
     "output_type": "stream",
     "text": [
      "📰 뉴스 본문 크롤링 진행:  57%|█████▋    | 113/198 [16:21<03:22,  2.38s/it]"
     ]
    },
    {
     "name": "stdout",
     "output_type": "stream",
     "text": [
      "⚠ 본문을 가져오지 못해 Selenium으로 재시도: https://www.wowtv.co.kr/NewsCenter/News/Read?articleId=A202203160031&t=NNv\n"
     ]
    },
    {
     "name": "stderr",
     "output_type": "stream",
     "text": [
      "📰 뉴스 본문 크롤링 진행:  60%|█████▉    | 118/198 [16:37<02:20,  1.76s/it]"
     ]
    },
    {
     "name": "stdout",
     "output_type": "stream",
     "text": [
      "⚠ 본문을 가져오지 못해 Selenium으로 재시도: https://www.viva100.com/main/view.php?key=20220322010005558\n"
     ]
    },
    {
     "name": "stderr",
     "output_type": "stream",
     "text": [
      "📰 뉴스 본문 크롤링 진행:  60%|██████    | 119/198 [16:41<03:22,  2.57s/it]"
     ]
    },
    {
     "name": "stdout",
     "output_type": "stream",
     "text": [
      "⚠ 본문을 가져오지 못해 Selenium으로 재시도: http://www.breaknews.com/881326\n"
     ]
    },
    {
     "name": "stderr",
     "output_type": "stream",
     "text": [
      "📰 뉴스 본문 크롤링 진행:  61%|██████    | 121/198 [16:47<03:17,  2.56s/it]"
     ]
    },
    {
     "name": "stdout",
     "output_type": "stream",
     "text": [
      "⚠ 본문을 가져오지 못해 Selenium으로 재시도: https://www.viva100.com/main/view.php?key=20220322010005558\n"
     ]
    },
    {
     "name": "stderr",
     "output_type": "stream",
     "text": [
      "📰 뉴스 본문 크롤링 진행:  62%|██████▏   | 123/198 [16:52<02:41,  2.15s/it]"
     ]
    },
    {
     "name": "stdout",
     "output_type": "stream",
     "text": [
      "⚠ 본문을 가져오지 못해 Selenium으로 재시도: http://www.breaknews.com/881326\n"
     ]
    },
    {
     "name": "stderr",
     "output_type": "stream",
     "text": [
      "📰 뉴스 본문 크롤링 진행:  65%|██████▍   | 128/198 [16:58<01:14,  1.06s/it]"
     ]
    },
    {
     "name": "stdout",
     "output_type": "stream",
     "text": [
      "⚠ 본문을 가져오지 못해 Selenium으로 재시도: http://www.edaily.co.kr/news/newspath.asp?newsid=01357926632263648\n"
     ]
    },
    {
     "name": "stderr",
     "output_type": "stream",
     "text": [
      "📰 뉴스 본문 크롤링 진행:  68%|██████▊   | 135/198 [17:08<00:43,  1.45it/s]"
     ]
    },
    {
     "name": "stdout",
     "output_type": "stream",
     "text": [
      "⚠ 본문을 가져오지 못해 Selenium으로 재시도: http://www.edaily.co.kr/news/newspath.asp?newsid=01357926632263648\n"
     ]
    },
    {
     "name": "stderr",
     "output_type": "stream",
     "text": [
      "📰 뉴스 본문 크롤링 진행:  69%|██████▉   | 137/198 [17:13<01:35,  1.57s/it]"
     ]
    },
    {
     "name": "stdout",
     "output_type": "stream",
     "text": [
      "⚠ 본문을 가져오지 못해 Selenium으로 재시도: http://www.breaknews.com/879851\n"
     ]
    },
    {
     "name": "stderr",
     "output_type": "stream",
     "text": [
      "📰 뉴스 본문 크롤링 진행:  73%|███████▎  | 144/198 [17:19<00:30,  1.80it/s]"
     ]
    },
    {
     "name": "stdout",
     "output_type": "stream",
     "text": [
      "⚠ 본문을 가져오지 못해 Selenium으로 재시도: http://www.ksmnews.co.kr/default/index_view_page.php?idx=371864&part_idx=295\n"
     ]
    },
    {
     "name": "stderr",
     "output_type": "stream",
     "text": [
      "📰 뉴스 본문 크롤링 진행:  74%|███████▎  | 146/198 [17:25<01:17,  1.50s/it]"
     ]
    },
    {
     "name": "stdout",
     "output_type": "stream",
     "text": [
      "⚠ 본문을 가져오지 못해 Selenium으로 재시도: https://www.theguru.co.kr/news/article.html?no=32540\n"
     ]
    },
    {
     "name": "stderr",
     "output_type": "stream",
     "text": [
      "📰 뉴스 본문 크롤링 진행:  74%|███████▍  | 147/198 [17:30<02:05,  2.46s/it]"
     ]
    },
    {
     "name": "stdout",
     "output_type": "stream",
     "text": [
      "⚠ 본문을 가져오지 못해 Selenium으로 재시도: https://www.theguru.co.kr/news/article.html?no=32458\n"
     ]
    },
    {
     "name": "stderr",
     "output_type": "stream",
     "text": [
      "📰 뉴스 본문 크롤링 진행:  75%|███████▍  | 148/198 [17:33<02:16,  2.73s/it]"
     ]
    },
    {
     "name": "stdout",
     "output_type": "stream",
     "text": [
      "⚠ 본문을 가져오지 못해 Selenium으로 재시도: http://www.weeklytrade.co.kr/news/view.html?section=1&category=3&item=&no=79605\n"
     ]
    },
    {
     "name": "stderr",
     "output_type": "stream",
     "text": [
      "📰 뉴스 본문 크롤링 진행:  75%|███████▌  | 149/198 [17:38<02:48,  3.44s/it]"
     ]
    },
    {
     "name": "stdout",
     "output_type": "stream",
     "text": [
      "⚠ 본문을 가져오지 못해 Selenium으로 재시도: http://www.mediapen.com/news/view/709515\n"
     ]
    },
    {
     "name": "stderr",
     "output_type": "stream",
     "text": [
      "📰 뉴스 본문 크롤링 진행:  76%|███████▌  | 150/198 [17:44<03:19,  4.15s/it]"
     ]
    },
    {
     "name": "stdout",
     "output_type": "stream",
     "text": [
      "⚠ 본문을 가져오지 못해 Selenium으로 재시도: https://www.theguru.co.kr/news/article.html?no=32458\n"
     ]
    },
    {
     "name": "stderr",
     "output_type": "stream",
     "text": [
      "📰 뉴스 본문 크롤링 진행:  76%|███████▋  | 151/198 [17:48<03:11,  4.07s/it]"
     ]
    },
    {
     "name": "stdout",
     "output_type": "stream",
     "text": [
      "⚠ 본문을 가져오지 못해 Selenium으로 재시도: https://www.viva100.com/main/view.php?key=20220315010003591\n"
     ]
    },
    {
     "name": "stderr",
     "output_type": "stream",
     "text": [
      "📰 뉴스 본문 크롤링 진행:  77%|███████▋  | 152/198 [17:51<02:56,  3.84s/it]"
     ]
    },
    {
     "name": "stdout",
     "output_type": "stream",
     "text": [
      "⚠ 본문을 가져오지 못해 Selenium으로 재시도: http://www.weeklytrade.co.kr/news/view.html?section=1&category=3&item=&no=79605\n"
     ]
    },
    {
     "name": "stderr",
     "output_type": "stream",
     "text": [
      "📰 뉴스 본문 크롤링 진행:  77%|███████▋  | 153/198 [17:56<03:07,  4.16s/it]"
     ]
    },
    {
     "name": "stdout",
     "output_type": "stream",
     "text": [
      "⚠ 본문을 가져오지 못해 Selenium으로 재시도: http://www.mediapen.com/news/view/709515\n"
     ]
    },
    {
     "name": "stderr",
     "output_type": "stream",
     "text": [
      "📰 뉴스 본문 크롤링 진행:  78%|███████▊  | 154/198 [18:00<03:03,  4.16s/it]"
     ]
    },
    {
     "name": "stdout",
     "output_type": "stream",
     "text": [
      "⚠ 본문을 가져오지 못해 Selenium으로 재시도: https://www.radiokorea.com/news/article.php?uid=384204\n"
     ]
    },
    {
     "name": "stderr",
     "output_type": "stream",
     "text": [
      "📰 뉴스 본문 크롤링 진행:  78%|███████▊  | 155/198 [18:09<03:59,  5.58s/it]"
     ]
    },
    {
     "name": "stdout",
     "output_type": "stream",
     "text": [
      "⚠ 본문을 가져오지 못해 Selenium으로 재시도: https://www.theguru.co.kr/news/article.html?no=32155\n"
     ]
    },
    {
     "name": "stderr",
     "output_type": "stream",
     "text": [
      "📰 뉴스 본문 크롤링 진행:  80%|███████▉  | 158/198 [18:15<01:53,  2.84s/it]"
     ]
    },
    {
     "name": "stdout",
     "output_type": "stream",
     "text": [
      "⚠ 본문을 가져오지 못해 Selenium으로 재시도: http://www.fnnews.com/news/202203231814535308\n"
     ]
    },
    {
     "name": "stderr",
     "output_type": "stream",
     "text": [
      "📰 뉴스 본문 크롤링 진행:  80%|████████  | 159/198 [18:20<02:16,  3.51s/it]"
     ]
    },
    {
     "name": "stdout",
     "output_type": "stream",
     "text": [
      "⚠ 본문을 가져오지 못해 Selenium으로 재시도: https://www.theguru.co.kr/news/article.html?no=31857\n"
     ]
    },
    {
     "name": "stderr",
     "output_type": "stream",
     "text": [
      "📰 뉴스 본문 크롤링 진행:  81%|████████  | 160/198 [18:25<02:32,  4.02s/it]"
     ]
    },
    {
     "name": "stdout",
     "output_type": "stream",
     "text": [
      "⚠ 본문을 가져오지 못해 Selenium으로 재시도: https://www.theguru.co.kr/news/article.html?no=31193\n"
     ]
    },
    {
     "name": "stderr",
     "output_type": "stream",
     "text": [
      "📰 뉴스 본문 크롤링 진행:  82%|████████▏ | 163/198 [18:34<01:49,  3.12s/it]"
     ]
    },
    {
     "name": "stdout",
     "output_type": "stream",
     "text": [
      "⚠ 본문을 가져오지 못해 Selenium으로 재시도: https://biz.chosun.com/stock/stock_general/2022/02/28/CAIMHUHEUZBEXBZXE5WHWUIZAA/?utm_source=naver&utm_medium=original&utm_campaign=biz\n"
     ]
    },
    {
     "name": "stderr",
     "output_type": "stream",
     "text": [
      "📰 뉴스 본문 크롤링 진행:  83%|████████▎ | 164/198 [18:41<02:23,  4.22s/it]"
     ]
    },
    {
     "name": "stdout",
     "output_type": "stream",
     "text": [
      "⚠ 본문을 가져오지 못해 Selenium으로 재시도: https://www.theguru.co.kr/news/article.html?no=31482\n"
     ]
    },
    {
     "name": "stderr",
     "output_type": "stream",
     "text": [
      "📰 뉴스 본문 크롤링 진행:  84%|████████▍ | 166/198 [18:45<01:35,  2.97s/it]"
     ]
    },
    {
     "name": "stdout",
     "output_type": "stream",
     "text": [
      "⚠ 본문을 가져오지 못해 Selenium으로 재시도: http://www.mediapen.com/news/view/700125\n"
     ]
    },
    {
     "name": "stderr",
     "output_type": "stream",
     "text": [
      "📰 뉴스 본문 크롤링 진행:  84%|████████▍ | 167/198 [18:49<01:40,  3.25s/it]"
     ]
    },
    {
     "name": "stdout",
     "output_type": "stream",
     "text": [
      "⚠ 본문을 가져오지 못해 Selenium으로 재시도: https://www.theguru.co.kr/news/article.html?no=30386\n"
     ]
    },
    {
     "name": "stderr",
     "output_type": "stream",
     "text": [
      "📰 뉴스 본문 크롤링 진행:  85%|████████▍ | 168/198 [18:53<01:42,  3.41s/it]"
     ]
    },
    {
     "name": "stdout",
     "output_type": "stream",
     "text": [
      "⚠ 본문을 가져오지 못해 Selenium으로 재시도: http://www.fnnews.com/news/202202041048500986\n"
     ]
    },
    {
     "name": "stderr",
     "output_type": "stream",
     "text": [
      "📰 뉴스 본문 크롤링 진행:  85%|████████▌ | 169/198 [18:58<01:54,  3.96s/it]"
     ]
    },
    {
     "name": "stdout",
     "output_type": "stream",
     "text": [
      "⚠ 본문을 가져오지 못해 Selenium으로 재시도: https://www.nocutnews.co.kr/news/5728893\n"
     ]
    },
    {
     "name": "stderr",
     "output_type": "stream",
     "text": [
      "📰 뉴스 본문 크롤링 진행:  86%|████████▌ | 170/198 [19:04<02:07,  4.57s/it]"
     ]
    },
    {
     "name": "stdout",
     "output_type": "stream",
     "text": [
      "⚠ 본문을 가져오지 못해 Selenium으로 재시도: https://biz.chosun.com/stock/stock_general/2022/02/28/CAIMHUHEUZBEXBZXE5WHWUIZAA/?utm_source=naver&utm_medium=original&utm_campaign=biz\n"
     ]
    },
    {
     "name": "stderr",
     "output_type": "stream",
     "text": [
      "📰 뉴스 본문 크롤링 진행:  86%|████████▋ | 171/198 [19:09<02:04,  4.60s/it]"
     ]
    },
    {
     "name": "stdout",
     "output_type": "stream",
     "text": [
      "⚠ 본문을 가져오지 못해 Selenium으로 재시도: https://www.theguru.co.kr/news/article.html?no=31482\n"
     ]
    },
    {
     "name": "stderr",
     "output_type": "stream",
     "text": [
      "📰 뉴스 본문 크롤링 진행:  88%|████████▊ | 174/198 [19:13<00:56,  2.36s/it]"
     ]
    },
    {
     "name": "stdout",
     "output_type": "stream",
     "text": [
      "⚠ 본문을 가져오지 못해 Selenium으로 재시도: http://www.mediapen.com/news/view/700125\n"
     ]
    },
    {
     "name": "stderr",
     "output_type": "stream",
     "text": [
      "📰 뉴스 본문 크롤링 진행:  88%|████████▊ | 175/198 [19:17<01:05,  2.83s/it]"
     ]
    },
    {
     "name": "stdout",
     "output_type": "stream",
     "text": [
      "⚠ 본문을 가져오지 못해 Selenium으로 재시도: https://www.theguru.co.kr/news/article.html?no=30386\n"
     ]
    },
    {
     "name": "stderr",
     "output_type": "stream",
     "text": [
      "📰 뉴스 본문 크롤링 진행:  89%|████████▉ | 176/198 [19:21<01:08,  3.13s/it]"
     ]
    },
    {
     "name": "stdout",
     "output_type": "stream",
     "text": [
      "⚠ 본문을 가져오지 못해 Selenium으로 재시도: http://www.fnnews.com/news/202202041048500986\n"
     ]
    },
    {
     "name": "stderr",
     "output_type": "stream",
     "text": [
      "📰 뉴스 본문 크롤링 진행:  89%|████████▉ | 177/198 [19:26<01:18,  3.75s/it]"
     ]
    },
    {
     "name": "stdout",
     "output_type": "stream",
     "text": [
      "⚠ 본문을 가져오지 못해 Selenium으로 재시도: https://www.nocutnews.co.kr/news/5728893\n"
     ]
    },
    {
     "name": "stderr",
     "output_type": "stream",
     "text": [
      "📰 뉴스 본문 크롤링 진행:  92%|█████████▏| 182/198 [19:32<00:19,  1.24s/it]"
     ]
    },
    {
     "name": "stdout",
     "output_type": "stream",
     "text": [
      "⚠ 본문을 가져오지 못해 Selenium으로 재시도: https://www.theguru.co.kr/news/article.html?no=31153\n"
     ]
    },
    {
     "name": "stderr",
     "output_type": "stream",
     "text": [
      "📰 뉴스 본문 크롤링 진행:  92%|█████████▏| 183/198 [19:37<00:35,  2.34s/it]"
     ]
    },
    {
     "name": "stdout",
     "output_type": "stream",
     "text": [
      "⚠ 본문을 가져오지 못해 Selenium으로 재시도: http://dream.kotra.or.kr/kotranews/cms/news/actionKotraBoardDetail.do?SITE_NO=3&MENU_ID=410&CONTENTS_NO=1&bbsGbn=242&bbsSn=242&pNttSn=193341\n"
     ]
    },
    {
     "name": "stderr",
     "output_type": "stream",
     "text": [
      "📰 뉴스 본문 크롤링 진행:  93%|█████████▎| 185/198 [19:40<00:24,  1.91s/it]"
     ]
    },
    {
     "name": "stdout",
     "output_type": "stream",
     "text": [
      "⚠ HTTP 오류: 404\n",
      "⚠ HTTP 오류: 404\n",
      "⚠ HTTP 오류: 404\n"
     ]
    },
    {
     "name": "stderr",
     "output_type": "stream",
     "text": [
      "📰 뉴스 본문 크롤링 진행:  95%|█████████▌| 189/198 [19:56<00:19,  2.21s/it]"
     ]
    },
    {
     "name": "stdout",
     "output_type": "stream",
     "text": [
      "⚠ 본문을 가져오지 못해 Selenium으로 재시도: https://www.businesspost.co.kr/BP?command=article_view&num=273174\n"
     ]
    },
    {
     "name": "stderr",
     "output_type": "stream",
     "text": [
      "📰 뉴스 본문 크롤링 진행:  96%|█████████▌| 190/198 [20:00<00:22,  2.83s/it]"
     ]
    },
    {
     "name": "stdout",
     "output_type": "stream",
     "text": [
      "⚠ 본문을 가져오지 못해 Selenium으로 재시도: https://www.businesspost.co.kr/BP?command=article_view&num=273174\n"
     ]
    },
    {
     "name": "stderr",
     "output_type": "stream",
     "text": [
      "📰 뉴스 본문 크롤링 진행:  96%|█████████▋| 191/198 [20:04<00:22,  3.15s/it]"
     ]
    },
    {
     "name": "stdout",
     "output_type": "stream",
     "text": [
      "⚠ 본문을 가져오지 못해 Selenium으로 재시도: https://www.businesspost.co.kr/BP?command=article_view&num=271044\n"
     ]
    },
    {
     "name": "stderr",
     "output_type": "stream",
     "text": [
      "📰 뉴스 본문 크롤링 진행:  98%|█████████▊| 194/198 [20:08<00:07,  1.83s/it]"
     ]
    },
    {
     "name": "stdout",
     "output_type": "stream",
     "text": [
      "⚠ 본문을 가져오지 못해 Selenium으로 재시도: http://www.fnnews.com/news/202201251752288852\n"
     ]
    },
    {
     "name": "stderr",
     "output_type": "stream",
     "text": [
      "📰 뉴스 본문 크롤링 진행:  98%|█████████▊| 195/198 [20:14<00:09,  3.14s/it]"
     ]
    },
    {
     "name": "stdout",
     "output_type": "stream",
     "text": [
      "⚠ 본문을 가져오지 못해 Selenium으로 재시도: http://www.fnnews.com/news/202201251503242837\n"
     ]
    },
    {
     "name": "stderr",
     "output_type": "stream",
     "text": [
      "📰 뉴스 본문 크롤링 진행:  99%|█████████▉| 196/198 [20:20<00:07,  3.75s/it]"
     ]
    },
    {
     "name": "stdout",
     "output_type": "stream",
     "text": [
      "⚠ HTTP 오류: 404\n",
      "⚠ HTTP 오류: 404\n",
      "⚠ HTTP 오류: 404\n"
     ]
    },
    {
     "name": "stderr",
     "output_type": "stream",
     "text": [
      "📰 뉴스 본문 크롤링 진행: 100%|██████████| 198/198 [20:36<00:00,  6.24s/it]\n"
     ]
    },
    {
     "name": "stdout",
     "output_type": "stream",
     "text": [
      "✅ 2022.01.01 ~ 2022.03.31 크롤링 완료!\n",
      "🔍 검색 중: 두코바니 원전 (2022.04.01 ~ 2022.06.30)\n",
      "✅ 300개의 뉴스 기사 링크 및 날짜를 수집 완료! (2022.04.01 ~ 2022.06.30)\n"
     ]
    },
    {
     "name": "stderr",
     "output_type": "stream",
     "text": [
      "📰 뉴스 본문 크롤링 진행:   0%|          | 1/300 [00:00<01:02,  4.80it/s]"
     ]
    },
    {
     "name": "stdout",
     "output_type": "stream",
     "text": [
      "⚠ 본문을 가져오지 못해 Selenium으로 재시도: http://www.munhwa.com/news/view.html?no=2022062901030303017001\n"
     ]
    },
    {
     "name": "stderr",
     "output_type": "stream",
     "text": [
      "📰 뉴스 본문 크롤링 진행:   2%|▏         | 5/300 [00:06<04:32,  1.08it/s]"
     ]
    },
    {
     "name": "stdout",
     "output_type": "stream",
     "text": [
      "⚠ 본문을 가져오지 못해 Selenium으로 재시도: http://www.edaily.co.kr/news/newspath.asp?newsid=04070486632366968\n"
     ]
    },
    {
     "name": "stderr",
     "output_type": "stream",
     "text": [
      "📰 뉴스 본문 크롤링 진행:   2%|▏         | 6/300 [00:12<12:55,  2.64s/it]"
     ]
    },
    {
     "name": "stdout",
     "output_type": "stream",
     "text": [
      "⚠ 본문을 가져오지 못해 Selenium으로 재시도: http://www.fnnews.com/news/202206291831484802\n",
      "⚠ 오류 발생 (뉴스 크롤링 실패, 1/3): http://www.fnnews.com/news/202206291831484802, 오류: HTTPConnectionPool(host='localhost', port=54345): Read timed out. (read timeout=120)\n",
      "⚠ 본문을 가져오지 못해 Selenium으로 재시도: http://www.fnnews.com/news/202206291831484802\n"
     ]
    },
    {
     "name": "stderr",
     "output_type": "stream",
     "text": [
      "📰 뉴스 본문 크롤링 진행:   3%|▎         | 9/300 [02:32<1:48:57, 22.47s/it]"
     ]
    },
    {
     "name": "stdout",
     "output_type": "stream",
     "text": [
      "⚠ 본문을 가져오지 못해 Selenium으로 재시도: http://www.breaknews.com/905726\n"
     ]
    },
    {
     "name": "stderr",
     "output_type": "stream",
     "text": [
      "📰 뉴스 본문 크롤링 진행:   3%|▎         | 10/300 [02:39<1:25:42, 17.73s/it]"
     ]
    },
    {
     "name": "stdout",
     "output_type": "stream",
     "text": [
      "⚠ 본문을 가져오지 못해 Selenium으로 재시도: https://www.dailian.co.kr/news/view/1127952/?sc=Naver\n"
     ]
    },
    {
     "name": "stderr",
     "output_type": "stream",
     "text": [
      "📰 뉴스 본문 크롤링 진행:   4%|▍         | 13/300 [02:45<33:09,  6.93s/it]  "
     ]
    },
    {
     "name": "stdout",
     "output_type": "stream",
     "text": [
      "⚠ 본문을 가져오지 못해 Selenium으로 재시도: http://www.fnnews.com/news/202206241928014955\n"
     ]
    },
    {
     "name": "stderr",
     "output_type": "stream",
     "text": [
      "📰 뉴스 본문 크롤링 진행:   5%|▍         | 14/300 [02:50<29:06,  6.10s/it]"
     ]
    },
    {
     "name": "stdout",
     "output_type": "stream",
     "text": [
      "⚠ 본문을 가져오지 못해 Selenium으로 재시도: http://www.breaknews.com/905726\n"
     ]
    },
    {
     "name": "stderr",
     "output_type": "stream",
     "text": [
      "📰 뉴스 본문 크롤링 진행:   6%|▋         | 19/300 [02:57<07:52,  1.68s/it]"
     ]
    },
    {
     "name": "stdout",
     "output_type": "stream",
     "text": [
      "⚠ 본문을 가져오지 못해 Selenium으로 재시도: https://www.news1.kr/articles/?4719133\n"
     ]
    },
    {
     "name": "stderr",
     "output_type": "stream",
     "text": [
      "📰 뉴스 본문 크롤링 진행:   7%|▋         | 20/300 [03:09<22:41,  4.86s/it]"
     ]
    },
    {
     "name": "stdout",
     "output_type": "stream",
     "text": [
      "⚠ 오류 발생 (뉴스 크롤링 실패, 1/3): http://www.sentv.co.kr/news/view/623229, 오류: HTTPSConnectionPool(host='www.sentv.co.kr', port=443): Max retries exceeded with url: /news/view/623229 (Caused by SSLError(SSLCertVerificationError(1, '[SSL: CERTIFICATE_VERIFY_FAILED] certificate verify failed: unable to get local issuer certificate (_ssl.c:1000)')))\n",
      "⚠ 오류 발생 (뉴스 크롤링 실패, 2/3): http://www.sentv.co.kr/news/view/623229, 오류: HTTPSConnectionPool(host='www.sentv.co.kr', port=443): Max retries exceeded with url: /news/view/623229 (Caused by SSLError(SSLCertVerificationError(1, '[SSL: CERTIFICATE_VERIFY_FAILED] certificate verify failed: unable to get local issuer certificate (_ssl.c:1000)')))\n",
      "⚠ 오류 발생 (뉴스 크롤링 실패, 3/3): http://www.sentv.co.kr/news/view/623229, 오류: HTTPSConnectionPool(host='www.sentv.co.kr', port=443): Max retries exceeded with url: /news/view/623229 (Caused by SSLError(SSLCertVerificationError(1, '[SSL: CERTIFICATE_VERIFY_FAILED] certificate verify failed: unable to get local issuer certificate (_ssl.c:1000)')))\n"
     ]
    },
    {
     "name": "stderr",
     "output_type": "stream",
     "text": [
      "📰 뉴스 본문 크롤링 진행:   7%|▋         | 22/300 [03:23<24:53,  5.37s/it]"
     ]
    },
    {
     "name": "stdout",
     "output_type": "stream",
     "text": [
      "⚠ 본문을 가져오지 못해 Selenium으로 재시도: https://www.asiatoday.co.kr/view.php?key=20220628010016078\n"
     ]
    },
    {
     "name": "stderr",
     "output_type": "stream",
     "text": [
      "📰 뉴스 본문 크롤링 진행:   8%|▊         | 24/300 [03:29<18:24,  4.00s/it]"
     ]
    },
    {
     "name": "stdout",
     "output_type": "stream",
     "text": [
      "⚠ 본문을 가져오지 못해 Selenium으로 재시도: https://biz.chosun.com/policy/policy_sub/2022/06/17/K34O2P5DG5FPVDQP6TVWY7SZ7A/?utm_source=naver&utm_medium=original&utm_campaign=biz\n"
     ]
    },
    {
     "name": "stderr",
     "output_type": "stream",
     "text": [
      "📰 뉴스 본문 크롤링 진행:  10%|█         | 30/300 [03:41<06:11,  1.38s/it]"
     ]
    },
    {
     "name": "stdout",
     "output_type": "stream",
     "text": [
      "⚠ 본문을 가져오지 못해 Selenium으로 재시도: http://www.munhwa.com/news/view.html?no=2022062301033403017001\n"
     ]
    },
    {
     "name": "stderr",
     "output_type": "stream",
     "text": [
      "📰 뉴스 본문 크롤링 진행:  11%|█         | 33/300 [03:48<07:57,  1.79s/it]"
     ]
    },
    {
     "name": "stdout",
     "output_type": "stream",
     "text": [
      "⚠ 본문을 가져오지 못해 Selenium으로 재시도: https://www.ktv.go.kr/content/view?content_id=650695\n"
     ]
    },
    {
     "name": "stderr",
     "output_type": "stream",
     "text": [
      "📰 뉴스 본문 크롤링 진행:  12%|█▏        | 35/300 [04:03<17:52,  4.05s/it]"
     ]
    },
    {
     "name": "stdout",
     "output_type": "stream",
     "text": [
      "⚠ 본문을 가져오지 못해 Selenium으로 재시도: http://www.edaily.co.kr/news/newspath.asp?newsid=02735526632362704\n"
     ]
    },
    {
     "name": "stderr",
     "output_type": "stream",
     "text": [
      "📰 뉴스 본문 크롤링 진행:  12%|█▏        | 36/300 [04:09<20:22,  4.63s/it]"
     ]
    },
    {
     "name": "stdout",
     "output_type": "stream",
     "text": [
      "⚠ 본문을 가져오지 못해 Selenium으로 재시도: http://www.mediapen.com/news/view/731541\n"
     ]
    },
    {
     "name": "stderr",
     "output_type": "stream",
     "text": [
      "📰 뉴스 본문 크롤링 진행:  13%|█▎        | 39/300 [04:15<10:49,  2.49s/it]"
     ]
    },
    {
     "name": "stdout",
     "output_type": "stream",
     "text": [
      "⚠ 본문을 가져오지 못해 Selenium으로 재시도: http://news.mk.co.kr/newsRead.php?no=499861&year=2022\n"
     ]
    },
    {
     "name": "stderr",
     "output_type": "stream",
     "text": [
      "📰 뉴스 본문 크롤링 진행:  14%|█▎        | 41/300 [04:22<11:38,  2.70s/it]"
     ]
    },
    {
     "name": "stdout",
     "output_type": "stream",
     "text": [
      "⚠ 본문을 가져오지 못해 Selenium으로 재시도: https://hankookilbo.com/News/Read/A2022063016360003458?did=NA\n"
     ]
    },
    {
     "name": "stderr",
     "output_type": "stream",
     "text": [
      "📰 뉴스 본문 크롤링 진행:  15%|█▍        | 44/300 [04:30<09:05,  2.13s/it]"
     ]
    },
    {
     "name": "stdout",
     "output_type": "stream",
     "text": [
      "⚠ 본문을 가져오지 못해 Selenium으로 재시도: http://www.yonhapnewstv.co.kr/MYH20220623016600641/?input=1825m\n"
     ]
    },
    {
     "name": "stderr",
     "output_type": "stream",
     "text": [
      "📰 뉴스 본문 크롤링 진행:  15%|█▌        | 46/300 [04:37<11:01,  2.60s/it]"
     ]
    },
    {
     "name": "stdout",
     "output_type": "stream",
     "text": [
      "⚠ 본문을 가져오지 못해 Selenium으로 재시도: http://www.mediapen.com/news/view/729664\n"
     ]
    },
    {
     "name": "stderr",
     "output_type": "stream",
     "text": [
      "📰 뉴스 본문 크롤링 진행:  16%|█▌        | 47/300 [04:41<13:29,  3.20s/it]"
     ]
    },
    {
     "name": "stdout",
     "output_type": "stream",
     "text": [
      "⚠ 본문을 가져오지 못해 Selenium으로 재시도: https://www.theguru.co.kr/news/article.html?no=37272\n"
     ]
    },
    {
     "name": "stderr",
     "output_type": "stream",
     "text": [
      "📰 뉴스 본문 크롤링 진행:  17%|█▋        | 50/300 [04:47<08:14,  1.98s/it]"
     ]
    },
    {
     "name": "stdout",
     "output_type": "stream",
     "text": [
      "⚠ 본문을 가져오지 못해 Selenium으로 재시도: https://www.theguru.co.kr/news/article.html?no=37314\n"
     ]
    },
    {
     "name": "stderr",
     "output_type": "stream",
     "text": [
      "📰 뉴스 본문 크롤링 진행:  17%|█▋        | 52/300 [04:52<08:53,  2.15s/it]"
     ]
    },
    {
     "name": "stdout",
     "output_type": "stream",
     "text": [
      "⚠ 본문을 가져오지 못해 Selenium으로 재시도: http://www.munhwa.com/news/view.html?no=2022053101071903017001\n"
     ]
    },
    {
     "name": "stderr",
     "output_type": "stream",
     "text": [
      "📰 뉴스 본문 크롤링 진행:  19%|█▉        | 57/300 [04:57<03:49,  1.06it/s]"
     ]
    },
    {
     "name": "stdout",
     "output_type": "stream",
     "text": [
      "⚠ 본문을 가져오지 못해 Selenium으로 재시도: https://www.theguru.co.kr/news/article.html?no=36455\n"
     ]
    },
    {
     "name": "stderr",
     "output_type": "stream",
     "text": [
      "📰 뉴스 본문 크롤링 진행:  20%|█▉        | 59/300 [05:01<05:20,  1.33s/it]"
     ]
    },
    {
     "name": "stdout",
     "output_type": "stream",
     "text": [
      "⚠ 본문을 가져오지 못해 Selenium으로 재시도: http://www.munhwa.com/news/view.html?no=2022053001031903017001\n"
     ]
    },
    {
     "name": "stderr",
     "output_type": "stream",
     "text": [
      "📰 뉴스 본문 크롤링 진행:  20%|██        | 61/300 [05:07<07:05,  1.78s/it]"
     ]
    },
    {
     "name": "stdout",
     "output_type": "stream",
     "text": [
      "⚠ 본문을 가져오지 못해 Selenium으로 재시도: https://www.theguru.co.kr/news/article.html?no=35720\n"
     ]
    },
    {
     "name": "stderr",
     "output_type": "stream",
     "text": [
      "📰 뉴스 본문 크롤링 진행:  22%|██▏       | 65/300 [05:11<03:59,  1.02s/it]"
     ]
    },
    {
     "name": "stdout",
     "output_type": "stream",
     "text": [
      "⚠ 본문을 가져오지 못해 Selenium으로 재시도: https://www.voakorea.com/a/6639444.html\n"
     ]
    },
    {
     "name": "stderr",
     "output_type": "stream",
     "text": [
      "📰 뉴스 본문 크롤링 진행:  22%|██▏       | 66/300 [05:16<08:20,  2.14s/it]"
     ]
    },
    {
     "name": "stdout",
     "output_type": "stream",
     "text": [
      "⚠ 본문을 가져오지 못해 Selenium으로 재시도: https://www.ktv.go.kr/content/view?content_id=650973\n"
     ]
    },
    {
     "name": "stderr",
     "output_type": "stream",
     "text": [
      "📰 뉴스 본문 크롤링 진행:  23%|██▎       | 68/300 [05:21<08:22,  2.17s/it]"
     ]
    },
    {
     "name": "stdout",
     "output_type": "stream",
     "text": [
      "⚠ 본문을 가져오지 못해 Selenium으로 재시도: https://www.dnews.co.kr/uhtml/view.jsp?idxno=202206081211470490064\n"
     ]
    },
    {
     "name": "stderr",
     "output_type": "stream",
     "text": [
      "📰 뉴스 본문 크롤링 진행:  23%|██▎       | 70/300 [05:26<08:00,  2.09s/it]"
     ]
    },
    {
     "name": "stdout",
     "output_type": "stream",
     "text": [
      "⚠ 본문을 가져오지 못해 Selenium으로 재시도: http://www.fnnews.com/news/202205291823389333\n"
     ]
    },
    {
     "name": "stderr",
     "output_type": "stream",
     "text": [
      "📰 뉴스 본문 크롤링 진행:  24%|██▎       | 71/300 [05:33<13:00,  3.41s/it]"
     ]
    },
    {
     "name": "stdout",
     "output_type": "stream",
     "text": [
      "⚠ 본문을 가져오지 못해 Selenium으로 재시도: http://www.munhwa.com/news/view.html?no=2022053001031905000001\n"
     ]
    },
    {
     "name": "stderr",
     "output_type": "stream",
     "text": [
      "📰 뉴스 본문 크롤링 진행:  24%|██▍       | 73/300 [05:37<10:03,  2.66s/it]"
     ]
    },
    {
     "name": "stdout",
     "output_type": "stream",
     "text": [
      "⚠ 본문을 가져오지 못해 Selenium으로 재시도: http://www.munhwa.com/news/view.html?no=2022052301071403017001\n"
     ]
    },
    {
     "name": "stderr",
     "output_type": "stream",
     "text": [
      "📰 뉴스 본문 크롤링 진행:  25%|██▍       | 74/300 [05:42<13:03,  3.47s/it]"
     ]
    },
    {
     "name": "stdout",
     "output_type": "stream",
     "text": [
      "⚠ 본문을 가져오지 못해 Selenium으로 재시도: http://news.mk.co.kr/newsRead.php?no=451832&year=2022\n"
     ]
    },
    {
     "name": "stderr",
     "output_type": "stream",
     "text": [
      "📰 뉴스 본문 크롤링 진행:  25%|██▌       | 75/300 [05:47<14:32,  3.88s/it]"
     ]
    },
    {
     "name": "stdout",
     "output_type": "stream",
     "text": [
      "⚠ 본문을 가져오지 못해 Selenium으로 재시도: http://www.mediapen.com/news/view/723766\n"
     ]
    },
    {
     "name": "stderr",
     "output_type": "stream",
     "text": [
      "📰 뉴스 본문 크롤링 진행:  25%|██▌       | 76/300 [05:53<16:05,  4.31s/it]"
     ]
    },
    {
     "name": "stdout",
     "output_type": "stream",
     "text": [
      "⚠ 본문을 가져오지 못해 Selenium으로 재시도: http://www.fnnews.com/news/202206281755381772\n"
     ]
    },
    {
     "name": "stderr",
     "output_type": "stream",
     "text": [
      "📰 뉴스 본문 크롤링 진행:  26%|██▋       | 79/300 [05:59<09:06,  2.47s/it]"
     ]
    },
    {
     "name": "stdout",
     "output_type": "stream",
     "text": [
      "⚠ 본문을 가져오지 못해 Selenium으로 재시도: http://www.mediapen.com/news/view/719595\n"
     ]
    },
    {
     "name": "stderr",
     "output_type": "stream",
     "text": [
      "📰 뉴스 본문 크롤링 진행:  27%|██▋       | 82/300 [06:04<06:09,  1.69s/it]"
     ]
    },
    {
     "name": "stdout",
     "output_type": "stream",
     "text": [
      "⚠ 본문을 가져오지 못해 Selenium으로 재시도: http://www.edaily.co.kr/news/newspath.asp?newsid=02863446632298416\n"
     ]
    },
    {
     "name": "stderr",
     "output_type": "stream",
     "text": [
      "📰 뉴스 본문 크롤링 진행:  28%|██▊       | 83/300 [06:09<10:15,  2.83s/it]"
     ]
    },
    {
     "name": "stdout",
     "output_type": "stream",
     "text": [
      "⚠ 본문을 가져오지 못해 Selenium으로 재시도: https://www.theguru.co.kr/news/article.html?no=33576\n"
     ]
    },
    {
     "name": "stderr",
     "output_type": "stream",
     "text": [
      "📰 뉴스 본문 크롤링 진행:  29%|██▉       | 87/300 [06:14<04:28,  1.26s/it]"
     ]
    },
    {
     "name": "stdout",
     "output_type": "stream",
     "text": [
      "⚠ 본문을 가져오지 못해 Selenium으로 재시도: https://www.businesspost.co.kr/BP?command=article_view&num=278863\n"
     ]
    },
    {
     "name": "stderr",
     "output_type": "stream",
     "text": [
      "📰 뉴스 본문 크롤링 진행:  29%|██▉       | 88/300 [06:18<07:09,  2.03s/it]"
     ]
    },
    {
     "name": "stdout",
     "output_type": "stream",
     "text": [
      "⚠ 본문을 가져오지 못해 Selenium으로 재시도: https://www.theguru.co.kr/news/article.html?no=36807\n"
     ]
    },
    {
     "name": "stderr",
     "output_type": "stream",
     "text": [
      "📰 뉴스 본문 크롤링 진행:  30%|███       | 90/300 [06:23<07:31,  2.15s/it]"
     ]
    },
    {
     "name": "stdout",
     "output_type": "stream",
     "text": [
      "⚠ 본문을 가져오지 못해 Selenium으로 재시도: http://www.naeil.com/news_view/?id_art=423512\n"
     ]
    },
    {
     "name": "stderr",
     "output_type": "stream",
     "text": [
      "📰 뉴스 본문 크롤링 진행:  32%|███▏      | 97/300 [06:34<02:47,  1.21it/s]"
     ]
    },
    {
     "name": "stdout",
     "output_type": "stream",
     "text": [
      "⚠ 본문을 가져오지 못해 Selenium으로 재시도: http://www.naeil.com/news_view/?id_art=421111\n"
     ]
    },
    {
     "name": "stderr",
     "output_type": "stream",
     "text": [
      "📰 뉴스 본문 크롤링 진행:  33%|███▎      | 98/300 [06:38<06:09,  1.83s/it]"
     ]
    },
    {
     "name": "stdout",
     "output_type": "stream",
     "text": [
      "⚠ 본문을 가져오지 못해 Selenium으로 재시도: https://hankookilbo.com/News/Read/A2022042114440005709?did=NA\n"
     ]
    },
    {
     "name": "stderr",
     "output_type": "stream",
     "text": [
      "📰 뉴스 본문 크롤링 진행:  33%|███▎      | 100/300 [06:47<09:43,  2.92s/it]"
     ]
    },
    {
     "name": "stdout",
     "output_type": "stream",
     "text": [
      "⚠ 본문을 가져오지 못해 Selenium으로 재시도: http://www.munhwa.com/news/view.html?no=2022062201070503017001\n"
     ]
    },
    {
     "name": "stderr",
     "output_type": "stream",
     "text": [
      "📰 뉴스 본문 크롤링 진행:  34%|███▎      | 101/300 [06:53<12:00,  3.62s/it]"
     ]
    },
    {
     "name": "stdout",
     "output_type": "stream",
     "text": [
      "⚠ 본문을 가져오지 못해 Selenium으로 재시도: https://biz.chosun.com/policy/policy_sub/2022/06/17/K34O2P5DG5FPVDQP6TVWY7SZ7A/?utm_source=naver&utm_medium=original&utm_campaign=biz\n"
     ]
    },
    {
     "name": "stderr",
     "output_type": "stream",
     "text": [
      "📰 뉴스 본문 크롤링 진행:  36%|███▋      | 109/300 [07:00<02:05,  1.53it/s]"
     ]
    },
    {
     "name": "stdout",
     "output_type": "stream",
     "text": [
      "⚠ 본문을 가져오지 못해 Selenium으로 재시도: http://www.munhwa.com/news/view.html?no=2022062301033403017001\n"
     ]
    },
    {
     "name": "stderr",
     "output_type": "stream",
     "text": [
      "📰 뉴스 본문 크롤링 진행:  37%|███▋      | 111/300 [07:05<04:21,  1.39s/it]"
     ]
    },
    {
     "name": "stdout",
     "output_type": "stream",
     "text": [
      "⚠ 본문을 가져오지 못해 Selenium으로 재시도: http://www.munhwa.com/news/view.html?no=2022062301033403017001\n"
     ]
    },
    {
     "name": "stderr",
     "output_type": "stream",
     "text": [
      "📰 뉴스 본문 크롤링 진행:  38%|███▊      | 114/300 [07:10<04:12,  1.36s/it]"
     ]
    },
    {
     "name": "stdout",
     "output_type": "stream",
     "text": [
      "⚠ 본문을 가져오지 못해 Selenium으로 재시도: https://www.ktv.go.kr/content/view?content_id=650695\n"
     ]
    },
    {
     "name": "stderr",
     "output_type": "stream",
     "text": [
      "📰 뉴스 본문 크롤링 진행:  39%|███▊      | 116/300 [07:15<05:29,  1.79s/it]"
     ]
    },
    {
     "name": "stdout",
     "output_type": "stream",
     "text": [
      "⚠ 본문을 가져오지 못해 Selenium으로 재시도: http://www.edaily.co.kr/news/newspath.asp?newsid=02735526632362704\n"
     ]
    },
    {
     "name": "stderr",
     "output_type": "stream",
     "text": [
      "📰 뉴스 본문 크롤링 진행:  39%|███▉      | 117/300 [07:21<08:46,  2.88s/it]"
     ]
    },
    {
     "name": "stdout",
     "output_type": "stream",
     "text": [
      "⚠ 본문을 가져오지 못해 Selenium으로 재시도: http://www.mediapen.com/news/view/732926\n"
     ]
    },
    {
     "name": "stderr",
     "output_type": "stream",
     "text": [
      "📰 뉴스 본문 크롤링 진행:  39%|███▉      | 118/300 [07:25<09:51,  3.25s/it]"
     ]
    },
    {
     "name": "stdout",
     "output_type": "stream",
     "text": [
      "⚠ 본문을 가져오지 못해 Selenium으로 재시도: http://www.mediapen.com/news/view/731541\n"
     ]
    },
    {
     "name": "stderr",
     "output_type": "stream",
     "text": [
      "📰 뉴스 본문 크롤링 진행:  40%|████      | 121/300 [07:36<11:25,  3.83s/it]"
     ]
    },
    {
     "name": "stdout",
     "output_type": "stream",
     "text": [
      "⚠ 본문을 가져오지 못해 Selenium으로 재시도: http://www.mediapen.com/news/view/732926\n"
     ]
    },
    {
     "name": "stderr",
     "output_type": "stream",
     "text": [
      "📰 뉴스 본문 크롤링 진행:  41%|████      | 122/300 [07:40<12:03,  4.06s/it]"
     ]
    },
    {
     "name": "stdout",
     "output_type": "stream",
     "text": [
      "⚠ 본문을 가져오지 못해 Selenium으로 재시도: http://www.mediapen.com/news/view/731541\n"
     ]
    },
    {
     "name": "stderr",
     "output_type": "stream",
     "text": [
      "📰 뉴스 본문 크롤링 진행:  42%|████▏     | 126/300 [07:44<04:13,  1.46s/it]"
     ]
    },
    {
     "name": "stdout",
     "output_type": "stream",
     "text": [
      "⚠ 본문을 가져오지 못해 Selenium으로 재시도: http://news.mk.co.kr/newsRead.php?no=499861&year=2022\n"
     ]
    },
    {
     "name": "stderr",
     "output_type": "stream",
     "text": [
      "📰 뉴스 본문 크롤링 진행:  43%|████▎     | 128/300 [07:50<05:57,  2.08s/it]"
     ]
    },
    {
     "name": "stdout",
     "output_type": "stream",
     "text": [
      "⚠ 본문을 가져오지 못해 Selenium으로 재시도: https://hankookilbo.com/News/Read/A2022063016360003458?did=NA\n"
     ]
    },
    {
     "name": "stderr",
     "output_type": "stream",
     "text": [
      "📰 뉴스 본문 크롤링 진행:  44%|████▍     | 133/300 [07:59<03:04,  1.10s/it]"
     ]
    },
    {
     "name": "stdout",
     "output_type": "stream",
     "text": [
      "⚠ 본문을 가져오지 못해 Selenium으로 재시도: http://www.yonhapnewstv.co.kr/MYH20220623016600641/?input=1825m\n"
     ]
    },
    {
     "name": "stderr",
     "output_type": "stream",
     "text": [
      "📰 뉴스 본문 크롤링 진행:  45%|████▌     | 135/300 [08:05<05:01,  1.83s/it]"
     ]
    },
    {
     "name": "stdout",
     "output_type": "stream",
     "text": [
      "⚠ 본문을 가져오지 못해 Selenium으로 재시도: http://www.edaily.co.kr/news/newspath.asp?newsid=03476806632360080\n"
     ]
    },
    {
     "name": "stderr",
     "output_type": "stream",
     "text": [
      "📰 뉴스 본문 크롤링 진행:  45%|████▌     | 136/300 [08:10<07:48,  2.86s/it]"
     ]
    },
    {
     "name": "stdout",
     "output_type": "stream",
     "text": [
      "⚠ 본문을 가져오지 못해 Selenium으로 재시도: http://news.mk.co.kr/newsRead.php?no=499809&year=2022\n"
     ]
    },
    {
     "name": "stderr",
     "output_type": "stream",
     "text": [
      "📰 뉴스 본문 크롤링 진행:  46%|████▋     | 139/300 [08:15<04:38,  1.73s/it]"
     ]
    },
    {
     "name": "stdout",
     "output_type": "stream",
     "text": [
      "⚠ 본문을 가져오지 못해 Selenium으로 재시도: http://www.mediapen.com/news/view/729664\n"
     ]
    },
    {
     "name": "stderr",
     "output_type": "stream",
     "text": [
      "📰 뉴스 본문 크롤링 진행:  47%|████▋     | 140/300 [08:19<06:52,  2.58s/it]"
     ]
    },
    {
     "name": "stdout",
     "output_type": "stream",
     "text": [
      "⚠ 본문을 가져오지 못해 Selenium으로 재시도: http://www.mediapen.com/news/view/729664\n"
     ]
    },
    {
     "name": "stderr",
     "output_type": "stream",
     "text": [
      "📰 뉴스 본문 크롤링 진행:  47%|████▋     | 141/300 [08:23<08:03,  3.04s/it]"
     ]
    },
    {
     "name": "stdout",
     "output_type": "stream",
     "text": [
      "⚠ 본문을 가져오지 못해 Selenium으로 재시도: https://www.theguru.co.kr/news/article.html?no=37272\n"
     ]
    },
    {
     "name": "stderr",
     "output_type": "stream",
     "text": [
      "📰 뉴스 본문 크롤링 진행:  49%|████▉     | 148/300 [08:29<01:38,  1.55it/s]"
     ]
    },
    {
     "name": "stdout",
     "output_type": "stream",
     "text": [
      "⚠ 본문을 가져오지 못해 Selenium으로 재시도: https://www.theguru.co.kr/news/article.html?no=37314\n"
     ]
    },
    {
     "name": "stderr",
     "output_type": "stream",
     "text": [
      "📰 뉴스 본문 크롤링 진행:  50%|█████     | 150/300 [08:34<03:47,  1.52s/it]"
     ]
    },
    {
     "name": "stdout",
     "output_type": "stream",
     "text": [
      "⚠ 본문을 가져오지 못해 Selenium으로 재시도: http://www.edaily.co.kr/news/newspath.asp?newsid=03781846632334496\n"
     ]
    },
    {
     "name": "stderr",
     "output_type": "stream",
     "text": [
      "📰 뉴스 본문 크롤링 진행:  51%|█████     | 152/300 [08:41<05:34,  2.26s/it]"
     ]
    },
    {
     "name": "stdout",
     "output_type": "stream",
     "text": [
      "⚠ 본문을 가져오지 못해 Selenium으로 재시도: https://www.theguru.co.kr/news/article.html?no=37314\n"
     ]
    },
    {
     "name": "stderr",
     "output_type": "stream",
     "text": [
      "📰 뉴스 본문 크롤링 진행:  52%|█████▏    | 156/300 [08:47<02:53,  1.20s/it]"
     ]
    },
    {
     "name": "stdout",
     "output_type": "stream",
     "text": [
      "⚠ 본문을 가져오지 못해 Selenium으로 재시도: http://www.munhwa.com/news/view.html?no=2022053101071903017001\n"
     ]
    },
    {
     "name": "stderr",
     "output_type": "stream",
     "text": [
      "📰 뉴스 본문 크롤링 진행:  53%|█████▎    | 158/300 [08:52<03:56,  1.66s/it]"
     ]
    },
    {
     "name": "stdout",
     "output_type": "stream",
     "text": [
      "⚠ 본문을 가져오지 못해 Selenium으로 재시도: https://www.tfmedia.co.kr/news/article.html?no=127215\n"
     ]
    },
    {
     "name": "stderr",
     "output_type": "stream",
     "text": [
      "📰 뉴스 본문 크롤링 진행:  54%|█████▎    | 161/300 [08:58<03:29,  1.50s/it]"
     ]
    },
    {
     "name": "stdout",
     "output_type": "stream",
     "text": [
      "⚠ 본문을 가져오지 못해 Selenium으로 재시도: http://www.mediapen.com/news/view/733701\n"
     ]
    },
    {
     "name": "stderr",
     "output_type": "stream",
     "text": [
      "📰 뉴스 본문 크롤링 진행:  55%|█████▌    | 166/300 [09:05<02:27,  1.10s/it]"
     ]
    },
    {
     "name": "stdout",
     "output_type": "stream",
     "text": [
      "⚠ 본문을 가져오지 못해 Selenium으로 재시도: https://www.theguru.co.kr/news/article.html?no=36455\n"
     ]
    },
    {
     "name": "stderr",
     "output_type": "stream",
     "text": [
      "📰 뉴스 본문 크롤링 진행:  56%|█████▌    | 168/300 [09:09<02:53,  1.32s/it]"
     ]
    },
    {
     "name": "stdout",
     "output_type": "stream",
     "text": [
      "⚠ 본문을 가져오지 못해 Selenium으로 재시도: http://www.munhwa.com/news/view.html?no=2022053001031903017001\n"
     ]
    },
    {
     "name": "stderr",
     "output_type": "stream",
     "text": [
      "📰 뉴스 본문 크롤링 진행:  57%|█████▋    | 171/300 [09:15<02:59,  1.39s/it]"
     ]
    },
    {
     "name": "stdout",
     "output_type": "stream",
     "text": [
      "⚠ 본문을 가져오지 못해 Selenium으로 재시도: https://www.theguru.co.kr/news/article.html?no=35720\n"
     ]
    },
    {
     "name": "stderr",
     "output_type": "stream",
     "text": [
      "📰 뉴스 본문 크롤링 진행:  59%|█████▊    | 176/300 [09:20<01:33,  1.33it/s]"
     ]
    },
    {
     "name": "stdout",
     "output_type": "stream",
     "text": [
      "⚠ 본문을 가져오지 못해 Selenium으로 재시도: https://www.voakorea.com/a/6639444.html\n"
     ]
    },
    {
     "name": "stderr",
     "output_type": "stream",
     "text": [
      "📰 뉴스 본문 크롤링 진행:  59%|█████▉    | 177/300 [09:24<03:13,  1.57s/it]"
     ]
    },
    {
     "name": "stdout",
     "output_type": "stream",
     "text": [
      "⚠ 본문을 가져오지 못해 Selenium으로 재시도: https://www.ktv.go.kr/content/view?content_id=650973\n"
     ]
    },
    {
     "name": "stderr",
     "output_type": "stream",
     "text": [
      "📰 뉴스 본문 크롤링 진행:  60%|██████    | 181/300 [09:30<02:33,  1.29s/it]"
     ]
    },
    {
     "name": "stdout",
     "output_type": "stream",
     "text": [
      "⚠ 본문을 가져오지 못해 Selenium으로 재시도: https://www.dnews.co.kr/uhtml/view.jsp?idxno=202206081211470490064\n"
     ]
    },
    {
     "name": "stderr",
     "output_type": "stream",
     "text": [
      "📰 뉴스 본문 크롤링 진행:  61%|██████    | 183/300 [09:35<02:58,  1.53s/it]"
     ]
    },
    {
     "name": "stdout",
     "output_type": "stream",
     "text": [
      "⚠ 본문을 가져오지 못해 Selenium으로 재시도: http://www.fnnews.com/news/202205291823389333\n"
     ]
    },
    {
     "name": "stderr",
     "output_type": "stream",
     "text": [
      "📰 뉴스 본문 크롤링 진행:  61%|██████▏   | 184/300 [09:41<06:02,  3.13s/it]"
     ]
    },
    {
     "name": "stdout",
     "output_type": "stream",
     "text": [
      "⚠ 본문을 가져오지 못해 Selenium으로 재시도: http://www.munhwa.com/news/view.html?no=2022053001031905000001\n"
     ]
    },
    {
     "name": "stderr",
     "output_type": "stream",
     "text": [
      "📰 뉴스 본문 크롤링 진행:  62%|██████▏   | 186/300 [09:46<04:47,  2.53s/it]"
     ]
    },
    {
     "name": "stdout",
     "output_type": "stream",
     "text": [
      "⚠ 본문을 가져오지 못해 Selenium으로 재시도: http://www.munhwa.com/news/view.html?no=2022052301071403017001\n"
     ]
    },
    {
     "name": "stderr",
     "output_type": "stream",
     "text": [
      "📰 뉴스 본문 크롤링 진행:  62%|██████▏   | 187/300 [09:51<05:58,  3.17s/it]"
     ]
    },
    {
     "name": "stdout",
     "output_type": "stream",
     "text": [
      "⚠ 본문을 가져오지 못해 Selenium으로 재시도: http://news.mk.co.kr/newsRead.php?no=451832&year=2022\n"
     ]
    },
    {
     "name": "stderr",
     "output_type": "stream",
     "text": [
      "📰 뉴스 본문 크롤링 진행:  63%|██████▎   | 188/300 [09:54<06:09,  3.30s/it]"
     ]
    },
    {
     "name": "stdout",
     "output_type": "stream",
     "text": [
      "⚠ 본문을 가져오지 못해 Selenium으로 재시도: http://www.mediapen.com/news/view/723766\n"
     ]
    },
    {
     "name": "stderr",
     "output_type": "stream",
     "text": [
      "📰 뉴스 본문 크롤링 진행:  63%|██████▎   | 189/300 [09:59<06:46,  3.66s/it]"
     ]
    },
    {
     "name": "stdout",
     "output_type": "stream",
     "text": [
      "⚠ 본문을 가져오지 못해 Selenium으로 재시도: http://www.fnnews.com/news/202206281755381772\n"
     ]
    },
    {
     "name": "stderr",
     "output_type": "stream",
     "text": [
      "📰 뉴스 본문 크롤링 진행:  63%|██████▎   | 190/300 [10:05<08:03,  4.39s/it]"
     ]
    },
    {
     "name": "stdout",
     "output_type": "stream",
     "text": [
      "⚠ 본문을 가져오지 못해 Selenium으로 재시도: http://www.munhwa.com/news/view.html?no=2022052301071403017001\n"
     ]
    },
    {
     "name": "stderr",
     "output_type": "stream",
     "text": [
      "📰 뉴스 본문 크롤링 진행:  64%|██████▎   | 191/300 [10:09<07:42,  4.24s/it]"
     ]
    },
    {
     "name": "stdout",
     "output_type": "stream",
     "text": [
      "⚠ 본문을 가져오지 못해 Selenium으로 재시도: http://news.mk.co.kr/newsRead.php?no=451832&year=2022\n"
     ]
    },
    {
     "name": "stderr",
     "output_type": "stream",
     "text": [
      "📰 뉴스 본문 크롤링 진행:  64%|██████▍   | 192/300 [10:13<07:42,  4.28s/it]"
     ]
    },
    {
     "name": "stdout",
     "output_type": "stream",
     "text": [
      "⚠ 본문을 가져오지 못해 Selenium으로 재시도: http://www.mediapen.com/news/view/723766\n"
     ]
    },
    {
     "name": "stderr",
     "output_type": "stream",
     "text": [
      "📰 뉴스 본문 크롤링 진행:  64%|██████▍   | 193/300 [10:18<07:58,  4.47s/it]"
     ]
    },
    {
     "name": "stdout",
     "output_type": "stream",
     "text": [
      "⚠ 본문을 가져오지 못해 Selenium으로 재시도: http://www.fnnews.com/news/202206281755381772\n"
     ]
    },
    {
     "name": "stderr",
     "output_type": "stream",
     "text": [
      "📰 뉴스 본문 크롤링 진행:  65%|██████▌   | 195/300 [10:22<05:35,  3.20s/it]"
     ]
    },
    {
     "name": "stdout",
     "output_type": "stream",
     "text": [
      "⚠ 본문을 가져오지 못해 Selenium으로 재시도: http://www.edaily.co.kr/news/newspath.asp?newsid=03378406632293824\n"
     ]
    },
    {
     "name": "stderr",
     "output_type": "stream",
     "text": [
      "📰 뉴스 본문 크롤링 진행:  66%|██████▌   | 197/300 [10:29<05:08,  2.99s/it]"
     ]
    },
    {
     "name": "stdout",
     "output_type": "stream",
     "text": [
      "⚠ 본문을 가져오지 못해 Selenium으로 재시도: http://www.mediapen.com/news/view/719595\n"
     ]
    },
    {
     "name": "stderr",
     "output_type": "stream",
     "text": [
      "📰 뉴스 본문 크롤링 진행:  67%|██████▋   | 200/300 [10:34<02:53,  1.74s/it]"
     ]
    },
    {
     "name": "stdout",
     "output_type": "stream",
     "text": [
      "⚠ 본문을 가져오지 못해 Selenium으로 재시도: http://www.edaily.co.kr/news/newspath.asp?newsid=02259926632298416\n"
     ]
    },
    {
     "name": "stderr",
     "output_type": "stream",
     "text": [
      "📰 뉴스 본문 크롤링 진행:  67%|██████▋   | 201/300 [10:39<04:37,  2.80s/it]"
     ]
    },
    {
     "name": "stdout",
     "output_type": "stream",
     "text": [
      "⚠ 본문을 가져오지 못해 Selenium으로 재시도: http://www.edaily.co.kr/news/newspath.asp?newsid=02863446632298416\n"
     ]
    },
    {
     "name": "stderr",
     "output_type": "stream",
     "text": [
      "📰 뉴스 본문 크롤링 진행:  67%|██████▋   | 202/300 [10:44<05:52,  3.60s/it]"
     ]
    },
    {
     "name": "stdout",
     "output_type": "stream",
     "text": [
      "⚠ 본문을 가져오지 못해 Selenium으로 재시도: https://www.theguru.co.kr/news/article.html?no=33576\n"
     ]
    },
    {
     "name": "stderr",
     "output_type": "stream",
     "text": [
      "📰 뉴스 본문 크롤링 진행:  69%|██████▊   | 206/300 [10:50<02:19,  1.48s/it]"
     ]
    },
    {
     "name": "stdout",
     "output_type": "stream",
     "text": [
      "⚠ 본문을 가져오지 못해 Selenium으로 재시도: https://www.businesspost.co.kr/BP?command=article_view&num=278863\n"
     ]
    },
    {
     "name": "stderr",
     "output_type": "stream",
     "text": [
      "📰 뉴스 본문 크롤링 진행:  69%|██████▉   | 207/300 [10:54<03:38,  2.35s/it]"
     ]
    },
    {
     "name": "stdout",
     "output_type": "stream",
     "text": [
      "⚠ 본문을 가져오지 못해 Selenium으로 재시도: https://www.theguru.co.kr/news/article.html?no=36807\n"
     ]
    },
    {
     "name": "stderr",
     "output_type": "stream",
     "text": [
      "📰 뉴스 본문 크롤링 진행:  71%|███████   | 212/300 [10:59<01:10,  1.24it/s]"
     ]
    },
    {
     "name": "stdout",
     "output_type": "stream",
     "text": [
      "⚠ 본문을 가져오지 못해 Selenium으로 재시도: http://www.naeil.com/news_view/?id_art=423512\n"
     ]
    },
    {
     "name": "stderr",
     "output_type": "stream",
     "text": [
      "📰 뉴스 본문 크롤링 진행:  72%|███████▏  | 217/300 [11:06<01:14,  1.11it/s]"
     ]
    },
    {
     "name": "stdout",
     "output_type": "stream",
     "text": [
      "⚠ 본문을 가져오지 못해 Selenium으로 재시도: http://www.munhwa.com/news/view.html?no=2022042501032503017001\n"
     ]
    },
    {
     "name": "stderr",
     "output_type": "stream",
     "text": [
      "📰 뉴스 본문 크롤링 진행:  74%|███████▎  | 221/300 [11:10<00:59,  1.32it/s]"
     ]
    },
    {
     "name": "stdout",
     "output_type": "stream",
     "text": [
      "⚠ 본문을 가져오지 못해 Selenium으로 재시도: http://www.naeil.com/news_view/?id_art=421111\n"
     ]
    },
    {
     "name": "stderr",
     "output_type": "stream",
     "text": [
      "📰 뉴스 본문 크롤링 진행:  74%|███████▍  | 222/300 [11:15<02:34,  1.98s/it]"
     ]
    },
    {
     "name": "stdout",
     "output_type": "stream",
     "text": [
      "⚠ 본문을 가져오지 못해 Selenium으로 재시도: https://hankookilbo.com/News/Read/A2022042114440005709?did=NA\n"
     ]
    },
    {
     "name": "stderr",
     "output_type": "stream",
     "text": [
      "📰 뉴스 본문 크롤링 진행:  75%|███████▌  | 226/300 [11:27<02:25,  1.97s/it]"
     ]
    },
    {
     "name": "stdout",
     "output_type": "stream",
     "text": [
      "⚠ 본문을 가져오지 못해 Selenium으로 재시도: https://www.asiatime.co.kr/article/20220412500141\n"
     ]
    },
    {
     "name": "stderr",
     "output_type": "stream",
     "text": [
      "📰 뉴스 본문 크롤링 진행:  76%|███████▌  | 227/300 [11:38<06:01,  4.95s/it]"
     ]
    },
    {
     "name": "stdout",
     "output_type": "stream",
     "text": [
      "⚠ 본문을 가져오지 못해 Selenium으로 재시도: http://www.fntimes.com/html/view.php?ud=202204082204112508dd55077bc2_18\n"
     ]
    },
    {
     "name": "stderr",
     "output_type": "stream",
     "text": [
      "📰 뉴스 본문 크롤링 진행:  78%|███████▊  | 235/300 [11:50<00:59,  1.09it/s]"
     ]
    },
    {
     "name": "stdout",
     "output_type": "stream",
     "text": [
      "⚠ 본문을 가져오지 못해 Selenium으로 재시도: http://www.wsobi.com/news/articleView.html?idxno=158569\n"
     ]
    },
    {
     "name": "stderr",
     "output_type": "stream",
     "text": [
      "📰 뉴스 본문 크롤링 진행:  80%|███████▉  | 239/300 [11:56<01:05,  1.07s/it]"
     ]
    },
    {
     "name": "stdout",
     "output_type": "stream",
     "text": [
      "⚠ 본문을 가져오지 못해 Selenium으로 재시도: https://biz.sbs.co.kr/article_hub/20000066061?division=NAVER\n"
     ]
    },
    {
     "name": "stderr",
     "output_type": "stream",
     "text": [
      "📰 뉴스 본문 크롤링 진행:  81%|████████  | 243/300 [12:05<01:11,  1.25s/it]"
     ]
    },
    {
     "name": "stdout",
     "output_type": "stream",
     "text": [
      "⚠ 본문을 가져오지 못해 Selenium으로 재시도: https://biz.sbs.co.kr/article_hub/20000066061?division=NAVER\n"
     ]
    },
    {
     "name": "stderr",
     "output_type": "stream",
     "text": [
      "📰 뉴스 본문 크롤링 진행:  81%|████████▏ | 244/300 [12:08<01:53,  2.02s/it]"
     ]
    },
    {
     "name": "stdout",
     "output_type": "stream",
     "text": [
      "⚠ 본문을 가져오지 못해 Selenium으로 재시도: https://www.theguru.co.kr/news/article.html?no=33299\n"
     ]
    },
    {
     "name": "stderr",
     "output_type": "stream",
     "text": [
      "📰 뉴스 본문 크롤링 진행:  82%|████████▏ | 246/300 [12:14<02:00,  2.23s/it]"
     ]
    },
    {
     "name": "stdout",
     "output_type": "stream",
     "text": [
      "⚠ 본문을 가져오지 못해 Selenium으로 재시도: https://www.theguru.co.kr/news/article.html?no=34202\n"
     ]
    },
    {
     "name": "stderr",
     "output_type": "stream",
     "text": [
      "📰 뉴스 본문 크롤링 진행:  83%|████████▎ | 249/300 [12:18<01:10,  1.38s/it]"
     ]
    },
    {
     "name": "stdout",
     "output_type": "stream",
     "text": [
      "⚠ 본문을 가져오지 못해 Selenium으로 재시도: http://www.mediapen.com/news/view/724433\n"
     ]
    },
    {
     "name": "stderr",
     "output_type": "stream",
     "text": [
      "📰 뉴스 본문 크롤링 진행:  84%|████████▎ | 251/300 [12:23<01:26,  1.77s/it]"
     ]
    },
    {
     "name": "stdout",
     "output_type": "stream",
     "text": [
      "⚠ 본문을 가져오지 못해 Selenium으로 재시도: https://biz.sbs.co.kr/article_hub/20000066061?division=NAVER\n"
     ]
    },
    {
     "name": "stderr",
     "output_type": "stream",
     "text": [
      "📰 뉴스 본문 크롤링 진행:  84%|████████▍ | 252/300 [12:28<02:08,  2.68s/it]"
     ]
    },
    {
     "name": "stdout",
     "output_type": "stream",
     "text": [
      "⚠ 본문을 가져오지 못해 Selenium으로 재시도: https://www.theguru.co.kr/news/article.html?no=33299\n"
     ]
    },
    {
     "name": "stderr",
     "output_type": "stream",
     "text": [
      "📰 뉴스 본문 크롤링 진행:  85%|████████▍ | 254/300 [12:32<01:46,  2.31s/it]"
     ]
    },
    {
     "name": "stdout",
     "output_type": "stream",
     "text": [
      "⚠ 본문을 가져오지 못해 Selenium으로 재시도: https://www.theguru.co.kr/news/article.html?no=34202\n"
     ]
    },
    {
     "name": "stderr",
     "output_type": "stream",
     "text": [
      "📰 뉴스 본문 크롤링 진행:  86%|████████▌ | 257/300 [12:36<01:01,  1.43s/it]"
     ]
    },
    {
     "name": "stdout",
     "output_type": "stream",
     "text": [
      "⚠ 본문을 가져오지 못해 Selenium으로 재시도: http://www.mediapen.com/news/view/724433\n"
     ]
    },
    {
     "name": "stderr",
     "output_type": "stream",
     "text": [
      "📰 뉴스 본문 크롤링 진행:  86%|████████▌ | 258/300 [12:40<01:36,  2.29s/it]"
     ]
    },
    {
     "name": "stdout",
     "output_type": "stream",
     "text": [
      "⚠ 본문을 가져오지 못해 Selenium으로 재시도: http://www.edaily.co.kr/news/newspath.asp?newsid=04077046632293496\n"
     ]
    },
    {
     "name": "stderr",
     "output_type": "stream",
     "text": [
      "📰 뉴스 본문 크롤링 진행:  86%|████████▋ | 259/300 [12:45<02:07,  3.12s/it]"
     ]
    },
    {
     "name": "stdout",
     "output_type": "stream",
     "text": [
      "⚠ 본문을 가져오지 못해 Selenium으로 재시도: http://www.edaily.co.kr/news/newspath.asp?newsid=04155766632292840\n"
     ]
    },
    {
     "name": "stderr",
     "output_type": "stream",
     "text": [
      "📰 뉴스 본문 크롤링 진행:  87%|████████▋ | 260/300 [12:51<02:33,  3.83s/it]"
     ]
    },
    {
     "name": "stdout",
     "output_type": "stream",
     "text": [
      "⚠ 본문을 가져오지 못해 Selenium으로 재시도: https://www.nocutnews.co.kr/news/5736458\n"
     ]
    },
    {
     "name": "stderr",
     "output_type": "stream",
     "text": [
      "📰 뉴스 본문 크롤링 진행:  87%|████████▋ | 261/300 [12:57<03:00,  4.63s/it]"
     ]
    },
    {
     "name": "stdout",
     "output_type": "stream",
     "text": [
      "⚠ 본문을 가져오지 못해 Selenium으로 재시도: https://biz.sbs.co.kr/article_hub/20000066061?division=NAVER\n"
     ]
    },
    {
     "name": "stderr",
     "output_type": "stream",
     "text": [
      "📰 뉴스 본문 크롤링 진행:  87%|████████▋ | 262/300 [13:02<03:02,  4.81s/it]"
     ]
    },
    {
     "name": "stdout",
     "output_type": "stream",
     "text": [
      "⚠ 본문을 가져오지 못해 Selenium으로 재시도: https://www.theguru.co.kr/news/article.html?no=33299\n"
     ]
    },
    {
     "name": "stderr",
     "output_type": "stream",
     "text": [
      "📰 뉴스 본문 크롤링 진행:  88%|████████▊ | 264/300 [13:07<01:56,  3.24s/it]"
     ]
    },
    {
     "name": "stdout",
     "output_type": "stream",
     "text": [
      "⚠ 본문을 가져오지 못해 Selenium으로 재시도: https://www.theguru.co.kr/news/article.html?no=34202\n"
     ]
    },
    {
     "name": "stderr",
     "output_type": "stream",
     "text": [
      "📰 뉴스 본문 크롤링 진행:  89%|████████▉ | 267/300 [13:10<00:57,  1.73s/it]"
     ]
    },
    {
     "name": "stdout",
     "output_type": "stream",
     "text": [
      "⚠ 본문을 가져오지 못해 Selenium으로 재시도: http://www.mediapen.com/news/view/724433\n"
     ]
    },
    {
     "name": "stderr",
     "output_type": "stream",
     "text": [
      "📰 뉴스 본문 크롤링 진행:  89%|████████▉ | 268/300 [13:14<01:16,  2.40s/it]"
     ]
    },
    {
     "name": "stdout",
     "output_type": "stream",
     "text": [
      "⚠ 본문을 가져오지 못해 Selenium으로 재시도: http://www.edaily.co.kr/news/newspath.asp?newsid=04077046632293496\n"
     ]
    },
    {
     "name": "stderr",
     "output_type": "stream",
     "text": [
      "📰 뉴스 본문 크롤링 진행:  90%|████████▉ | 269/300 [13:19<01:33,  3.02s/it]"
     ]
    },
    {
     "name": "stdout",
     "output_type": "stream",
     "text": [
      "⚠ 본문을 가져오지 못해 Selenium으로 재시도: http://www.edaily.co.kr/news/newspath.asp?newsid=04155766632292840\n"
     ]
    },
    {
     "name": "stderr",
     "output_type": "stream",
     "text": [
      "📰 뉴스 본문 크롤링 진행:  90%|█████████ | 270/300 [13:25<01:55,  3.85s/it]"
     ]
    },
    {
     "name": "stdout",
     "output_type": "stream",
     "text": [
      "⚠ 본문을 가져오지 못해 Selenium으로 재시도: http://www.fnnews.com/news/202204071345557422\n"
     ]
    },
    {
     "name": "stderr",
     "output_type": "stream",
     "text": [
      "📰 뉴스 본문 크롤링 진행:  90%|█████████ | 271/300 [13:30<02:07,  4.40s/it]"
     ]
    },
    {
     "name": "stdout",
     "output_type": "stream",
     "text": [
      "⚠ 본문을 가져오지 못해 Selenium으로 재시도: https://biz.sbs.co.kr/article_hub/20000066061?division=NAVER\n"
     ]
    },
    {
     "name": "stderr",
     "output_type": "stream",
     "text": [
      "📰 뉴스 본문 크롤링 진행:  91%|█████████ | 272/300 [13:36<02:15,  4.84s/it]"
     ]
    },
    {
     "name": "stdout",
     "output_type": "stream",
     "text": [
      "⚠ 본문을 가져오지 못해 Selenium으로 재시도: https://www.theguru.co.kr/news/article.html?no=33299\n"
     ]
    },
    {
     "name": "stderr",
     "output_type": "stream",
     "text": [
      "📰 뉴스 본문 크롤링 진행:  91%|█████████▏| 274/300 [13:41<01:30,  3.48s/it]"
     ]
    },
    {
     "name": "stdout",
     "output_type": "stream",
     "text": [
      "⚠ 본문을 가져오지 못해 Selenium으로 재시도: https://www.theguru.co.kr/news/article.html?no=34202\n"
     ]
    },
    {
     "name": "stderr",
     "output_type": "stream",
     "text": [
      "📰 뉴스 본문 크롤링 진행:  92%|█████████▏| 277/300 [13:46<00:44,  1.93s/it]"
     ]
    },
    {
     "name": "stdout",
     "output_type": "stream",
     "text": [
      "⚠ 본문을 가져오지 못해 Selenium으로 재시도: http://www.mediapen.com/news/view/724433\n"
     ]
    },
    {
     "name": "stderr",
     "output_type": "stream",
     "text": [
      "📰 뉴스 본문 크롤링 진행:  93%|█████████▎| 278/300 [13:51<01:03,  2.89s/it]"
     ]
    },
    {
     "name": "stdout",
     "output_type": "stream",
     "text": [
      "⚠ 본문을 가져오지 못해 Selenium으로 재시도: http://www.edaily.co.kr/news/newspath.asp?newsid=04077046632293496\n"
     ]
    },
    {
     "name": "stderr",
     "output_type": "stream",
     "text": [
      "📰 뉴스 본문 크롤링 진행:  93%|█████████▎| 279/300 [13:56<01:15,  3.62s/it]"
     ]
    },
    {
     "name": "stdout",
     "output_type": "stream",
     "text": [
      "⚠ 본문을 가져오지 못해 Selenium으로 재시도: http://www.edaily.co.kr/news/newspath.asp?newsid=04155766632292840\n"
     ]
    },
    {
     "name": "stderr",
     "output_type": "stream",
     "text": [
      "📰 뉴스 본문 크롤링 진행:  94%|█████████▍| 282/300 [14:01<00:36,  2.02s/it]"
     ]
    },
    {
     "name": "stdout",
     "output_type": "stream",
     "text": [
      "⚠ 본문을 가져오지 못해 Selenium으로 재시도: http://www.mediapen.com/news/view/724433\n"
     ]
    },
    {
     "name": "stderr",
     "output_type": "stream",
     "text": [
      "📰 뉴스 본문 크롤링 진행:  94%|█████████▍| 283/300 [14:06<00:48,  2.83s/it]"
     ]
    },
    {
     "name": "stdout",
     "output_type": "stream",
     "text": [
      "⚠ 본문을 가져오지 못해 Selenium으로 재시도: http://www.edaily.co.kr/news/newspath.asp?newsid=04077046632293496\n"
     ]
    },
    {
     "name": "stderr",
     "output_type": "stream",
     "text": [
      "📰 뉴스 본문 크롤링 진행:  95%|█████████▍| 284/300 [14:12<01:01,  3.83s/it]"
     ]
    },
    {
     "name": "stdout",
     "output_type": "stream",
     "text": [
      "⚠ 본문을 가져오지 못해 Selenium으로 재시도: http://www.edaily.co.kr/news/newspath.asp?newsid=04155766632292840\n"
     ]
    },
    {
     "name": "stderr",
     "output_type": "stream",
     "text": [
      "📰 뉴스 본문 크롤링 진행:  95%|█████████▌| 285/300 [14:17<01:03,  4.21s/it]"
     ]
    },
    {
     "name": "stdout",
     "output_type": "stream",
     "text": [
      "⚠ 본문을 가져오지 못해 Selenium으로 재시도: https://www.businesspost.co.kr/BP?command=article_view&num=276819\n"
     ]
    },
    {
     "name": "stderr",
     "output_type": "stream",
     "text": [
      "📰 뉴스 본문 크롤링 진행:  96%|█████████▌| 288/300 [14:26<00:36,  3.02s/it]"
     ]
    },
    {
     "name": "stdout",
     "output_type": "stream",
     "text": [
      "⚠ 본문을 가져오지 못해 Selenium으로 재시도: http://www.mediapen.com/news/view/730142\n"
     ]
    },
    {
     "name": "stderr",
     "output_type": "stream",
     "text": [
      "📰 뉴스 본문 크롤링 진행:  96%|█████████▋| 289/300 [14:30<00:35,  3.22s/it]"
     ]
    },
    {
     "name": "stdout",
     "output_type": "stream",
     "text": [
      "⚠ 본문을 가져오지 못해 Selenium으로 재시도: http://www.kbsm.net/news/view.php?idx=351739\n"
     ]
    },
    {
     "name": "stderr",
     "output_type": "stream",
     "text": [
      "📰 뉴스 본문 크롤링 진행:  97%|█████████▋| 290/300 [14:37<00:42,  4.22s/it]"
     ]
    },
    {
     "name": "stdout",
     "output_type": "stream",
     "text": [
      "⚠ 본문을 가져오지 못해 Selenium으로 재시도: https://www.businesspost.co.kr/BP?command=article_view&num=279835\n"
     ]
    },
    {
     "name": "stderr",
     "output_type": "stream",
     "text": [
      "📰 뉴스 본문 크롤링 진행: 100%|██████████| 300/300 [15:13<00:00,  3.05s/it]\n"
     ]
    },
    {
     "name": "stdout",
     "output_type": "stream",
     "text": [
      "✅ 2022.04.01 ~ 2022.06.30 크롤링 완료!\n",
      "🔍 검색 중: 두코바니 원전 (2022.07.01 ~ 2022.09.30)\n",
      "✅ 242개의 뉴스 기사 링크 및 날짜를 수집 완료! (2022.07.01 ~ 2022.09.30)\n"
     ]
    },
    {
     "name": "stderr",
     "output_type": "stream",
     "text": [
      "📰 뉴스 본문 크롤링 진행:   0%|          | 0/242 [00:00<?, ?it/s]"
     ]
    },
    {
     "name": "stdout",
     "output_type": "stream",
     "text": [
      "⚠ 본문을 가져오지 못해 Selenium으로 재시도: http://news.mk.co.kr/newsRead.php?no=863758&year=2022\n"
     ]
    },
    {
     "name": "stderr",
     "output_type": "stream",
     "text": [
      "📰 뉴스 본문 크롤링 진행:   0%|          | 1/242 [00:09<39:30,  9.84s/it]"
     ]
    },
    {
     "name": "stdout",
     "output_type": "stream",
     "text": [
      "⚠ 본문을 가져오지 못해 Selenium으로 재시도: https://biz.chosun.com/industry/company/2022/09/21/YHPKRMNGPJBPDI2KQCSSGKZO5M/?utm_source=naver&utm_medium=original&utm_campaign=biz\n"
     ]
    },
    {
     "name": "stderr",
     "output_type": "stream",
     "text": [
      "📰 뉴스 본문 크롤링 진행:   2%|▏         | 5/242 [00:18<08:15,  2.09s/it]"
     ]
    },
    {
     "name": "stdout",
     "output_type": "stream",
     "text": [
      "⚠ 본문을 가져오지 못해 Selenium으로 재시도: http://www.breaknews.com/925806\n"
     ]
    },
    {
     "name": "stderr",
     "output_type": "stream",
     "text": [
      "📰 뉴스 본문 크롤링 진행:   2%|▏         | 6/242 [00:22<10:56,  2.78s/it]"
     ]
    },
    {
     "name": "stdout",
     "output_type": "stream",
     "text": [
      "⚠ 본문을 가져오지 못해 Selenium으로 재시도: https://www.theguru.co.kr/news/article.html?no=42396\n"
     ]
    },
    {
     "name": "stderr",
     "output_type": "stream",
     "text": [
      "📰 뉴스 본문 크롤링 진행:   3%|▎         | 8/242 [00:30<13:12,  3.39s/it]"
     ]
    },
    {
     "name": "stdout",
     "output_type": "stream",
     "text": [
      "⚠ 본문을 가져오지 못해 Selenium으로 재시도: http://news.mk.co.kr/newsRead.php?no=823094&year=2022\n"
     ]
    },
    {
     "name": "stderr",
     "output_type": "stream",
     "text": [
      "📰 뉴스 본문 크롤링 진행:   4%|▎         | 9/242 [00:36<16:11,  4.17s/it]"
     ]
    },
    {
     "name": "stdout",
     "output_type": "stream",
     "text": [
      "⚠ 본문을 가져오지 못해 Selenium으로 재시도: http://www.munhwa.com/news/view.html?no=2022092201039905017001\n"
     ]
    },
    {
     "name": "stderr",
     "output_type": "stream",
     "text": [
      "📰 뉴스 본문 크롤링 진행:   5%|▍         | 11/242 [00:41<11:51,  3.08s/it]"
     ]
    },
    {
     "name": "stdout",
     "output_type": "stream",
     "text": [
      "⚠ 본문을 가져오지 못해 Selenium으로 재시도: https://www.theguru.co.kr/news/article.html?no=42396\n"
     ]
    },
    {
     "name": "stderr",
     "output_type": "stream",
     "text": [
      "📰 뉴스 본문 크롤링 진행:   5%|▌         | 13/242 [00:46<10:20,  2.71s/it]"
     ]
    },
    {
     "name": "stdout",
     "output_type": "stream",
     "text": [
      "⚠ 본문을 가져오지 못해 Selenium으로 재시도: https://www.wowtv.co.kr/NewsCenter/News/Read?articleId=A202208310113&t=NNv\n"
     ]
    },
    {
     "name": "stderr",
     "output_type": "stream",
     "text": [
      "📰 뉴스 본문 크롤링 진행:   7%|▋         | 18/242 [01:02<06:51,  1.84s/it]"
     ]
    },
    {
     "name": "stdout",
     "output_type": "stream",
     "text": [
      "⚠ 본문을 가져오지 못해 Selenium으로 재시도: http://www.fnnews.com/news/202208291813075210\n"
     ]
    },
    {
     "name": "stderr",
     "output_type": "stream",
     "text": [
      "📰 뉴스 본문 크롤링 진행:   8%|▊         | 19/242 [01:09<12:12,  3.29s/it]"
     ]
    },
    {
     "name": "stdout",
     "output_type": "stream",
     "text": [
      "⚠ 본문을 가져오지 못해 Selenium으로 재시도: https://www.viva100.com/main/view.php?key=20220829010007424\n"
     ]
    },
    {
     "name": "stderr",
     "output_type": "stream",
     "text": [
      "📰 뉴스 본문 크롤링 진행:   8%|▊         | 20/242 [01:13<13:01,  3.52s/it]"
     ]
    },
    {
     "name": "stdout",
     "output_type": "stream",
     "text": [
      "⚠ 본문을 가져오지 못해 Selenium으로 재시도: https://www.businesspost.co.kr/BP?command=article_view&num=291202\n"
     ]
    },
    {
     "name": "stderr",
     "output_type": "stream",
     "text": [
      "📰 뉴스 본문 크롤링 진행:   9%|▊         | 21/242 [01:17<14:10,  3.85s/it]"
     ]
    },
    {
     "name": "stdout",
     "output_type": "stream",
     "text": [
      "⚠ 본문을 가져오지 못해 Selenium으로 재시도: http://www.munhwa.com/news/view.html?no=2022082601071403017001\n"
     ]
    },
    {
     "name": "stderr",
     "output_type": "stream",
     "text": [
      "📰 뉴스 본문 크롤링 진행:  10%|▉         | 24/242 [01:22<07:36,  2.09s/it]"
     ]
    },
    {
     "name": "stdout",
     "output_type": "stream",
     "text": [
      "⚠ 본문을 가져오지 못해 Selenium으로 재시도: https://biz.chosun.com/policy/policy_sub/2022/08/25/63XB5YVGE5AWNBQX3VG3GSMHQ4/?utm_source=naver&utm_medium=original&utm_campaign=biz\n"
     ]
    },
    {
     "name": "stderr",
     "output_type": "stream",
     "text": [
      "📰 뉴스 본문 크롤링 진행:  10%|█         | 25/242 [01:29<13:14,  3.66s/it]"
     ]
    },
    {
     "name": "stdout",
     "output_type": "stream",
     "text": [
      "⚠ 본문을 가져오지 못해 Selenium으로 재시도: https://news.kbs.co.kr/news/view.do?ncd=5544996&ref=A\n"
     ]
    },
    {
     "name": "stderr",
     "output_type": "stream",
     "text": [
      "📰 뉴스 본문 크롤링 진행:  12%|█▏        | 29/242 [01:35<05:42,  1.61s/it]"
     ]
    },
    {
     "name": "stdout",
     "output_type": "stream",
     "text": [
      "⚠ 본문을 가져오지 못해 Selenium으로 재시도: http://news.mk.co.kr/newsRead.php?no=757372&year=2022\n"
     ]
    },
    {
     "name": "stderr",
     "output_type": "stream",
     "text": [
      "📰 뉴스 본문 크롤링 진행:  13%|█▎        | 31/242 [01:41<06:41,  1.90s/it]"
     ]
    },
    {
     "name": "stdout",
     "output_type": "stream",
     "text": [
      "⚠ 본문을 가져오지 못해 Selenium으로 재시도: https://www.dnews.co.kr/uhtml/view.jsp?idxno=202208250241328850564\n"
     ]
    },
    {
     "name": "stderr",
     "output_type": "stream",
     "text": [
      "📰 뉴스 본문 크롤링 진행:  13%|█▎        | 32/242 [01:46<10:24,  2.97s/it]"
     ]
    },
    {
     "name": "stdout",
     "output_type": "stream",
     "text": [
      "⚠ 본문을 가져오지 못해 Selenium으로 재시도: http://news.mk.co.kr/newsRead.php?no=753805&year=2022\n"
     ]
    },
    {
     "name": "stderr",
     "output_type": "stream",
     "text": [
      "📰 뉴스 본문 크롤링 진행:  15%|█▍        | 36/242 [01:52<05:00,  1.46s/it]"
     ]
    },
    {
     "name": "stdout",
     "output_type": "stream",
     "text": [
      "⚠ 본문을 가져오지 못해 Selenium으로 재시도: https://www.businesspost.co.kr/BP?command=article_view&num=290593\n"
     ]
    },
    {
     "name": "stderr",
     "output_type": "stream",
     "text": [
      "📰 뉴스 본문 크롤링 진행:  15%|█▌        | 37/242 [01:56<07:39,  2.24s/it]"
     ]
    },
    {
     "name": "stdout",
     "output_type": "stream",
     "text": [
      "⚠ 본문을 가져오지 못해 Selenium으로 재시도: https://biz.chosun.com/policy/policy_sub/2022/08/11/LNSHJNBA3RFC7ETAQEOOYDQBDU/?utm_source=naver&utm_medium=original&utm_campaign=biz\n"
     ]
    },
    {
     "name": "stderr",
     "output_type": "stream",
     "text": [
      "📰 뉴스 본문 크롤링 진행:  18%|█▊        | 43/242 [02:04<02:56,  1.13it/s]"
     ]
    },
    {
     "name": "stdout",
     "output_type": "stream",
     "text": [
      "⚠ 본문을 가져오지 못해 Selenium으로 재시도: http://www.fnnews.com/news/202208121517494791\n"
     ]
    },
    {
     "name": "stderr",
     "output_type": "stream",
     "text": [
      "📰 뉴스 본문 크롤링 진행:  19%|█▉        | 46/242 [02:17<08:24,  2.58s/it]"
     ]
    },
    {
     "name": "stdout",
     "output_type": "stream",
     "text": [
      "⚠ 본문을 가져오지 못해 Selenium으로 재시도: http://www.fnnews.com/news/202208091432326170\n"
     ]
    },
    {
     "name": "stderr",
     "output_type": "stream",
     "text": [
      "📰 뉴스 본문 크롤링 진행:  20%|█▉        | 48/242 [02:22<08:03,  2.49s/it]"
     ]
    },
    {
     "name": "stdout",
     "output_type": "stream",
     "text": [
      "⚠ 본문을 가져오지 못해 Selenium으로 재시도: http://news.mk.co.kr/newsRead.php?no=623349&year=2022\n"
     ]
    },
    {
     "name": "stderr",
     "output_type": "stream",
     "text": [
      "📰 뉴스 본문 크롤링 진행:  21%|██        | 51/242 [02:28<05:24,  1.70s/it]"
     ]
    },
    {
     "name": "stdout",
     "output_type": "stream",
     "text": [
      "⚠ 본문을 가져오지 못해 Selenium으로 재시도: https://www.asiatime.co.kr/article/20220704500101\n"
     ]
    },
    {
     "name": "stderr",
     "output_type": "stream",
     "text": [
      "📰 뉴스 본문 크롤링 진행:  21%|██▏       | 52/242 [02:33<08:15,  2.61s/it]"
     ]
    },
    {
     "name": "stdout",
     "output_type": "stream",
     "text": [
      "⚠ 본문을 가져오지 못해 Selenium으로 재시도: http://www.mediapen.com/news/view/735568\n"
     ]
    },
    {
     "name": "stderr",
     "output_type": "stream",
     "text": [
      "📰 뉴스 본문 크롤링 진행:  22%|██▏       | 54/242 [02:38<07:27,  2.38s/it]"
     ]
    },
    {
     "name": "stdout",
     "output_type": "stream",
     "text": [
      "⚠ 본문을 가져오지 못해 Selenium으로 재시도: http://www.kookje.co.kr/news2011/asp/newsbody.asp?code=0100&key=20220701.33004008855\n"
     ]
    },
    {
     "name": "stderr",
     "output_type": "stream",
     "text": [
      "📰 뉴스 본문 크롤링 진행:  23%|██▎       | 55/242 [02:43<10:22,  3.33s/it]"
     ]
    },
    {
     "name": "stdout",
     "output_type": "stream",
     "text": [
      "⚠ 본문을 가져오지 못해 Selenium으로 재시도: https://www.khan.co.kr/opinion/contribution/article/202207130300015\n"
     ]
    },
    {
     "name": "stderr",
     "output_type": "stream",
     "text": [
      "📰 뉴스 본문 크롤링 진행:  24%|██▍       | 58/242 [03:02<12:08,  3.96s/it]"
     ]
    },
    {
     "name": "stdout",
     "output_type": "stream",
     "text": [
      "⚠ 본문을 가져오지 못해 Selenium으로 재시도: http://www.fnnews.com/news/202207031838568399\n"
     ]
    },
    {
     "name": "stderr",
     "output_type": "stream",
     "text": [
      "📰 뉴스 본문 크롤링 진행:  26%|██▌       | 62/242 [03:11<06:25,  2.14s/it]"
     ]
    },
    {
     "name": "stdout",
     "output_type": "stream",
     "text": [
      "⚠ 본문을 가져오지 못해 Selenium으로 재시도: http://www.mbn.co.kr/pages/news/newsView.php?news_seq_no=4795595\n"
     ]
    },
    {
     "name": "stderr",
     "output_type": "stream",
     "text": [
      "📰 뉴스 본문 크롤링 진행:  26%|██▌       | 63/242 [03:18<10:39,  3.57s/it]"
     ]
    },
    {
     "name": "stdout",
     "output_type": "stream",
     "text": [
      "⚠ 본문을 가져오지 못해 Selenium으로 재시도: https://www.ytn.co.kr/_ln/0101_202207010013595109\n"
     ]
    },
    {
     "name": "stderr",
     "output_type": "stream",
     "text": [
      "📰 뉴스 본문 크롤링 진행:  26%|██▋       | 64/242 [03:31<19:04,  6.43s/it]"
     ]
    },
    {
     "name": "stdout",
     "output_type": "stream",
     "text": [
      "⚠ 본문을 가져오지 못해 Selenium으로 재시도: https://www.businesspost.co.kr/BP?command=article_view&num=293877\n"
     ]
    },
    {
     "name": "stderr",
     "output_type": "stream",
     "text": [
      "📰 뉴스 본문 크롤링 진행:  27%|██▋       | 65/242 [03:35<15:59,  5.42s/it]"
     ]
    },
    {
     "name": "stdout",
     "output_type": "stream",
     "text": [
      "⚠ 본문을 가져오지 못해 Selenium으로 재시도: http://www.yonhapnewstv.co.kr/MYH20220828000900641/?input=1825m\n"
     ]
    },
    {
     "name": "stderr",
     "output_type": "stream",
     "text": [
      "📰 뉴스 본문 크롤링 진행:  27%|██▋       | 66/242 [03:41<16:59,  5.79s/it]"
     ]
    },
    {
     "name": "stdout",
     "output_type": "stream",
     "text": [
      "⚠ 본문을 가져오지 못해 Selenium으로 재시도: https://www.khan.co.kr/economy/business/article/202208252225015\n"
     ]
    },
    {
     "name": "stderr",
     "output_type": "stream",
     "text": [
      "📰 뉴스 본문 크롤링 진행:  30%|███       | 73/242 [04:03<04:25,  1.57s/it]"
     ]
    },
    {
     "name": "stdout",
     "output_type": "stream",
     "text": [
      "⚠ 본문을 가져오지 못해 Selenium으로 재시도: http://www.edaily.co.kr/news/newspath.asp?newsid=01328406632458152\n"
     ]
    },
    {
     "name": "stderr",
     "output_type": "stream",
     "text": [
      "📰 뉴스 본문 크롤링 진행:  31%|███       | 75/242 [04:09<05:40,  2.04s/it]"
     ]
    },
    {
     "name": "stdout",
     "output_type": "stream",
     "text": [
      "⚠ 본문을 가져오지 못해 Selenium으로 재시도: http://www.wsobi.com/news/articleView.html?idxno=168728\n"
     ]
    },
    {
     "name": "stderr",
     "output_type": "stream",
     "text": [
      "📰 뉴스 본문 크롤링 진행:  32%|███▏      | 77/242 [04:14<05:55,  2.16s/it]"
     ]
    },
    {
     "name": "stdout",
     "output_type": "stream",
     "text": [
      "⚠ 본문을 가져오지 못해 Selenium으로 재시도: http://www.fntimes.com/html/view.php?ud=202207160529409666dd55077bc2_18\n"
     ]
    },
    {
     "name": "stderr",
     "output_type": "stream",
     "text": [
      "📰 뉴스 본문 크롤링 진행:  34%|███▍      | 83/242 [04:22<02:11,  1.21it/s]"
     ]
    },
    {
     "name": "stdout",
     "output_type": "stream",
     "text": [
      "⚠ 본문을 가져오지 못해 Selenium으로 재시도: http://www.mediapen.com/news/view/735846\n"
     ]
    },
    {
     "name": "stderr",
     "output_type": "stream",
     "text": [
      "📰 뉴스 본문 크롤링 진행:  36%|███▌      | 86/242 [04:27<02:32,  1.02it/s]"
     ]
    },
    {
     "name": "stdout",
     "output_type": "stream",
     "text": [
      "⚠ 본문을 가져오지 못해 Selenium으로 재시도: https://www.theguru.co.kr/news/article.html?no=40302\n"
     ]
    },
    {
     "name": "stderr",
     "output_type": "stream",
     "text": [
      "📰 뉴스 본문 크롤링 진행:  40%|███▉      | 96/242 [04:33<00:53,  2.72it/s]"
     ]
    },
    {
     "name": "stdout",
     "output_type": "stream",
     "text": [
      "⚠ 본문을 가져오지 못해 Selenium으로 재시도: http://news.mk.co.kr/newsRead.php?no=623308&year=2022\n"
     ]
    },
    {
     "name": "stderr",
     "output_type": "stream",
     "text": [
      "📰 뉴스 본문 크롤링 진행:  41%|████      | 99/242 [04:39<02:19,  1.03it/s]"
     ]
    },
    {
     "name": "stdout",
     "output_type": "stream",
     "text": [
      "⚠ 본문을 가져오지 못해 Selenium으로 재시도: http://www.yonhapnewstv.co.kr/MYH20220701000100640/?input=1825m\n"
     ]
    },
    {
     "name": "stderr",
     "output_type": "stream",
     "text": [
      "📰 뉴스 본문 크롤링 진행:  43%|████▎     | 103/242 [04:45<02:22,  1.03s/it]"
     ]
    },
    {
     "name": "stdout",
     "output_type": "stream",
     "text": [
      "⚠ 본문을 가져오지 못해 Selenium으로 재시도: http://www.fnnews.com/news/202208121517494791\n",
      "⚠ 오류 발생 (뉴스 크롤링 실패, 1/3): http://www.fnnews.com/news/202208121517494791, 오류: HTTPConnectionPool(host='localhost', port=54345): Read timed out. (read timeout=120)\n",
      "⚠ 본문을 가져오지 못해 Selenium으로 재시도: http://www.fnnews.com/news/202208121517494791\n"
     ]
    },
    {
     "name": "stderr",
     "output_type": "stream",
     "text": [
      "📰 뉴스 본문 크롤링 진행:  44%|████▍     | 106/242 [07:11<51:05, 22.54s/it]  "
     ]
    },
    {
     "name": "stdout",
     "output_type": "stream",
     "text": [
      "⚠ 본문을 가져오지 못해 Selenium으로 재시도: http://www.fnnews.com/news/202208091432326170\n",
      "⚠ 오류 발생 (뉴스 크롤링 실패, 1/3): http://www.fnnews.com/news/202208091432326170, 오류: HTTPConnectionPool(host='localhost', port=54345): Read timed out. (read timeout=120)\n",
      "⚠ 본문을 가져오지 못해 Selenium으로 재시도: http://www.fnnews.com/news/202208091432326170\n"
     ]
    },
    {
     "name": "stderr",
     "output_type": "stream",
     "text": [
      "📰 뉴스 본문 크롤링 진행:  45%|████▍     | 108/242 [09:33<1:31:18, 40.89s/it]"
     ]
    },
    {
     "name": "stdout",
     "output_type": "stream",
     "text": [
      "⚠ 본문을 가져오지 못해 Selenium으로 재시도: http://news.mk.co.kr/newsRead.php?no=623349&year=2022\n"
     ]
    },
    {
     "name": "stderr",
     "output_type": "stream",
     "text": [
      "📰 뉴스 본문 크롤링 진행:  46%|████▌     | 111/242 [09:38<32:42, 14.98s/it]  "
     ]
    },
    {
     "name": "stdout",
     "output_type": "stream",
     "text": [
      "⚠ 본문을 가져오지 못해 Selenium으로 재시도: https://www.asiatime.co.kr/article/20220704500101\n"
     ]
    },
    {
     "name": "stderr",
     "output_type": "stream",
     "text": [
      "📰 뉴스 본문 크롤링 진행:  46%|████▋     | 112/242 [09:44<26:16, 12.13s/it]"
     ]
    },
    {
     "name": "stdout",
     "output_type": "stream",
     "text": [
      "⚠ 본문을 가져오지 못해 Selenium으로 재시도: http://www.mediapen.com/news/view/735568\n"
     ]
    },
    {
     "name": "stderr",
     "output_type": "stream",
     "text": [
      "📰 뉴스 본문 크롤링 진행:  47%|████▋     | 114/242 [09:49<15:13,  7.14s/it]"
     ]
    },
    {
     "name": "stdout",
     "output_type": "stream",
     "text": [
      "⚠ 본문을 가져오지 못해 Selenium으로 재시도: http://www.kookje.co.kr/news2011/asp/newsbody.asp?code=0100&key=20220701.33004008855\n"
     ]
    },
    {
     "name": "stderr",
     "output_type": "stream",
     "text": [
      "📰 뉴스 본문 크롤링 진행:  48%|████▊     | 115/242 [09:54<13:33,  6.41s/it]"
     ]
    },
    {
     "name": "stdout",
     "output_type": "stream",
     "text": [
      "⚠ 본문을 가져오지 못해 Selenium으로 재시도: https://www.khan.co.kr/opinion/contribution/article/202207130300015\n"
     ]
    },
    {
     "name": "stderr",
     "output_type": "stream",
     "text": [
      "📰 뉴스 본문 크롤링 진행:  49%|████▉     | 118/242 [10:06<08:17,  4.01s/it]"
     ]
    },
    {
     "name": "stdout",
     "output_type": "stream",
     "text": [
      "⚠ 본문을 가져오지 못해 Selenium으로 재시도: http://www.fnnews.com/news/202207031838568399\n"
     ]
    },
    {
     "name": "stderr",
     "output_type": "stream",
     "text": [
      "📰 뉴스 본문 크롤링 진행:  51%|█████     | 123/242 [10:14<02:50,  1.44s/it]"
     ]
    },
    {
     "name": "stdout",
     "output_type": "stream",
     "text": [
      "⚠ 본문을 가져오지 못해 Selenium으로 재시도: https://news.kmib.co.kr/article/view.asp?arcid=0924253135&code=11121600&cp=nv\n"
     ]
    },
    {
     "name": "stderr",
     "output_type": "stream",
     "text": [
      "📰 뉴스 본문 크롤링 진행:  51%|█████     | 124/242 [10:20<05:10,  2.63s/it]"
     ]
    },
    {
     "name": "stdout",
     "output_type": "stream",
     "text": [
      "⚠ 본문을 가져오지 못해 Selenium으로 재시도: http://www.mbn.co.kr/pages/news/newsView.php?news_seq_no=4795595\n"
     ]
    },
    {
     "name": "stderr",
     "output_type": "stream",
     "text": [
      "📰 뉴스 본문 크롤링 진행:  52%|█████▏    | 125/242 [10:25<06:58,  3.57s/it]"
     ]
    },
    {
     "name": "stdout",
     "output_type": "stream",
     "text": [
      "⚠ 본문을 가져오지 못해 Selenium으로 재시도: https://www.ytn.co.kr/_ln/0101_202207010013595109\n"
     ]
    },
    {
     "name": "stderr",
     "output_type": "stream",
     "text": [
      "📰 뉴스 본문 크롤링 진행:  53%|█████▎    | 128/242 [10:40<06:24,  3.37s/it]"
     ]
    },
    {
     "name": "stdout",
     "output_type": "stream",
     "text": [
      "⚠ 본문을 가져오지 못해 Selenium으로 재시도: https://www.businesspost.co.kr/BP?command=article_view&num=293877\n"
     ]
    },
    {
     "name": "stderr",
     "output_type": "stream",
     "text": [
      "📰 뉴스 본문 크롤링 진행:  54%|█████▎    | 130/242 [10:44<04:50,  2.59s/it]"
     ]
    },
    {
     "name": "stdout",
     "output_type": "stream",
     "text": [
      "⚠ 본문을 가져오지 못해 Selenium으로 재시도: https://www.businesspost.co.kr/BP?command=article_view&num=293877\n"
     ]
    },
    {
     "name": "stderr",
     "output_type": "stream",
     "text": [
      "📰 뉴스 본문 크롤링 진행:  55%|█████▍    | 132/242 [10:48<03:59,  2.18s/it]"
     ]
    },
    {
     "name": "stdout",
     "output_type": "stream",
     "text": [
      "⚠ 본문을 가져오지 못해 Selenium으로 재시도: https://idsn.co.kr/news/view/1065578403997584\n"
     ]
    },
    {
     "name": "stderr",
     "output_type": "stream",
     "text": [
      "📰 뉴스 본문 크롤링 진행:  55%|█████▍    | 133/242 [10:54<06:05,  3.35s/it]"
     ]
    },
    {
     "name": "stdout",
     "output_type": "stream",
     "text": [
      "⚠ 본문을 가져오지 못해 Selenium으로 재시도: http://www.yonhapnewstv.co.kr/MYH20220828000900641/?input=1825m\n"
     ]
    },
    {
     "name": "stderr",
     "output_type": "stream",
     "text": [
      "📰 뉴스 본문 크롤링 진행:  57%|█████▋    | 137/242 [11:08<04:37,  2.64s/it]"
     ]
    },
    {
     "name": "stdout",
     "output_type": "stream",
     "text": [
      "⚠ 본문을 가져오지 못해 Selenium으로 재시도: https://www.khan.co.kr/economy/business/article/202208252225015\n"
     ]
    },
    {
     "name": "stderr",
     "output_type": "stream",
     "text": [
      "📰 뉴스 본문 크롤링 진행:  58%|█████▊    | 140/242 [11:20<04:41,  2.76s/it]"
     ]
    },
    {
     "name": "stdout",
     "output_type": "stream",
     "text": [
      "⚠ 본문을 가져오지 못해 Selenium으로 재시도: https://www.khan.co.kr/economy/business/article/202208252225015\n"
     ]
    },
    {
     "name": "stderr",
     "output_type": "stream",
     "text": [
      "📰 뉴스 본문 크롤링 진행:  62%|██████▏   | 149/242 [11:37<01:04,  1.45it/s]"
     ]
    },
    {
     "name": "stdout",
     "output_type": "stream",
     "text": [
      "⚠ 본문을 가져오지 못해 Selenium으로 재시도: http://www.edaily.co.kr/news/newspath.asp?newsid=01328406632458152\n"
     ]
    },
    {
     "name": "stderr",
     "output_type": "stream",
     "text": [
      "📰 뉴스 본문 크롤링 진행:  64%|██████▎   | 154/242 [11:43<01:05,  1.34it/s]"
     ]
    },
    {
     "name": "stdout",
     "output_type": "stream",
     "text": [
      "⚠ 본문을 가져오지 못해 Selenium으로 재시도: http://www.edaily.co.kr/news/newspath.asp?newsid=01328406632458152\n"
     ]
    },
    {
     "name": "stderr",
     "output_type": "stream",
     "text": [
      "📰 뉴스 본문 크롤링 진행:  64%|██████▍   | 156/242 [11:48<02:00,  1.40s/it]"
     ]
    },
    {
     "name": "stdout",
     "output_type": "stream",
     "text": [
      "⚠ 본문을 가져오지 못해 Selenium으로 재시도: http://www.wsobi.com/news/articleView.html?idxno=168728\n"
     ]
    },
    {
     "name": "stderr",
     "output_type": "stream",
     "text": [
      "📰 뉴스 본문 크롤링 진행:  65%|██████▌   | 158/242 [11:58<03:52,  2.77s/it]"
     ]
    },
    {
     "name": "stdout",
     "output_type": "stream",
     "text": [
      "⚠ 본문을 가져오지 못해 Selenium으로 재시도: http://www.fntimes.com/html/view.php?ud=202207160529409666dd55077bc2_18\n"
     ]
    },
    {
     "name": "stderr",
     "output_type": "stream",
     "text": [
      "📰 뉴스 본문 크롤링 진행:  66%|██████▌   | 160/242 [12:05<04:09,  3.04s/it]"
     ]
    },
    {
     "name": "stdout",
     "output_type": "stream",
     "text": [
      "⚠ 본문을 가져오지 못해 Selenium으로 재시도: http://www.edaily.co.kr/news/newspath.asp?newsid=01328406632458152\n"
     ]
    },
    {
     "name": "stderr",
     "output_type": "stream",
     "text": [
      "📰 뉴스 본문 크롤링 진행:  67%|██████▋   | 162/242 [12:11<03:26,  2.58s/it]"
     ]
    },
    {
     "name": "stdout",
     "output_type": "stream",
     "text": [
      "⚠ 본문을 가져오지 못해 Selenium으로 재시도: http://www.wsobi.com/news/articleView.html?idxno=168728\n"
     ]
    },
    {
     "name": "stderr",
     "output_type": "stream",
     "text": [
      "📰 뉴스 본문 크롤링 진행:  68%|██████▊   | 164/242 [12:16<03:06,  2.39s/it]"
     ]
    },
    {
     "name": "stdout",
     "output_type": "stream",
     "text": [
      "⚠ 본문을 가져오지 못해 Selenium으로 재시도: http://www.fntimes.com/html/view.php?ud=202207160529409666dd55077bc2_18\n"
     ]
    },
    {
     "name": "stderr",
     "output_type": "stream",
     "text": [
      "📰 뉴스 본문 크롤링 진행:  70%|███████   | 170/242 [12:22<00:56,  1.28it/s]"
     ]
    },
    {
     "name": "stdout",
     "output_type": "stream",
     "text": [
      "⚠ 본문을 가져오지 못해 Selenium으로 재시도: http://www.fntimes.com/html/view.php?ud=202207160529409666dd55077bc2_18\n"
     ]
    },
    {
     "name": "stderr",
     "output_type": "stream",
     "text": [
      "📰 뉴스 본문 크롤링 진행:  74%|███████▎  | 178/242 [12:31<00:28,  2.23it/s]"
     ]
    },
    {
     "name": "stdout",
     "output_type": "stream",
     "text": [
      "⚠ 본문을 가져오지 못해 Selenium으로 재시도: http://www.mediapen.com/news/view/735846\n"
     ]
    },
    {
     "name": "stderr",
     "output_type": "stream",
     "text": [
      "📰 뉴스 본문 크롤링 진행:  75%|███████▌  | 182/242 [12:36<00:42,  1.43it/s]"
     ]
    },
    {
     "name": "stdout",
     "output_type": "stream",
     "text": [
      "⚠ 본문을 가져오지 못해 Selenium으로 재시도: https://news.kmib.co.kr/article/view.asp?arcid=0017408021&code=61141411&cp=nv\n"
     ]
    },
    {
     "name": "stderr",
     "output_type": "stream",
     "text": [
      "📰 뉴스 본문 크롤링 진행:  77%|███████▋  | 186/242 [12:42<00:50,  1.12it/s]"
     ]
    },
    {
     "name": "stdout",
     "output_type": "stream",
     "text": [
      "⚠ 본문을 가져오지 못해 Selenium으로 재시도: https://www.theguru.co.kr/news/article.html?no=40302\n"
     ]
    },
    {
     "name": "stderr",
     "output_type": "stream",
     "text": [
      "📰 뉴스 본문 크롤링 진행:  79%|███████▉  | 191/242 [12:48<00:40,  1.25it/s]"
     ]
    },
    {
     "name": "stdout",
     "output_type": "stream",
     "text": [
      "⚠ 본문을 가져오지 못해 Selenium으로 재시도: https://www.khan.co.kr/politics/president/article/202206302359001\n"
     ]
    },
    {
     "name": "stderr",
     "output_type": "stream",
     "text": [
      "📰 뉴스 본문 크롤링 진행:  83%|████████▎ | 200/242 [13:02<00:19,  2.20it/s]"
     ]
    },
    {
     "name": "stdout",
     "output_type": "stream",
     "text": [
      "⚠ 본문을 가져오지 못해 Selenium으로 재시도: http://www.edaily.co.kr/news/newspath.asp?newsid=04198406632428304\n"
     ]
    },
    {
     "name": "stderr",
     "output_type": "stream",
     "text": [
      "📰 뉴스 본문 크롤링 진행:  84%|████████▍ | 203/242 [13:15<01:24,  2.16s/it]"
     ]
    },
    {
     "name": "stdout",
     "output_type": "stream",
     "text": [
      "⚠ 본문을 가져오지 못해 Selenium으로 재시도: http://news.mk.co.kr/newsRead.php?no=623308&year=2022\n"
     ]
    },
    {
     "name": "stderr",
     "output_type": "stream",
     "text": [
      "📰 뉴스 본문 크롤링 진행:  86%|████████▌ | 207/242 [13:21<00:42,  1.21s/it]"
     ]
    },
    {
     "name": "stdout",
     "output_type": "stream",
     "text": [
      "⚠ 본문을 가져오지 못해 Selenium으로 재시도: https://news.kbs.co.kr/news/view.do?ncd=5499022&ref=A\n"
     ]
    },
    {
     "name": "stderr",
     "output_type": "stream",
     "text": [
      "📰 뉴스 본문 크롤링 진행:  86%|████████▌ | 208/242 [13:26<01:14,  2.20s/it]"
     ]
    },
    {
     "name": "stdout",
     "output_type": "stream",
     "text": [
      "⚠ 본문을 가져오지 못해 Selenium으로 재시도: http://www.yonhapnewstv.co.kr/MYH20220701000100640/?input=1825m\n"
     ]
    },
    {
     "name": "stderr",
     "output_type": "stream",
     "text": [
      "📰 뉴스 본문 크롤링 진행:  88%|████████▊ | 214/242 [13:37<00:28,  1.01s/it]"
     ]
    },
    {
     "name": "stdout",
     "output_type": "stream",
     "text": [
      "⚠ 본문을 가져오지 못해 Selenium으로 재시도: http://www.fntimes.com/html/view.php?ud=202207300257051810dd55077bc2_18\n"
     ]
    },
    {
     "name": "stderr",
     "output_type": "stream",
     "text": [
      "📰 뉴스 본문 크롤링 진행:  89%|████████▉ | 215/242 [13:43<01:06,  2.46s/it]"
     ]
    },
    {
     "name": "stdout",
     "output_type": "stream",
     "text": [
      "⚠ 본문을 가져오지 못해 Selenium으로 재시도: http://www.thebell.co.kr/front/free/contents/news/article_view.asp?key=202207281350164520105222\n"
     ]
    },
    {
     "name": "stderr",
     "output_type": "stream",
     "text": [
      "📰 뉴스 본문 크롤링 진행:  90%|█████████ | 218/242 [13:50<00:54,  2.26s/it]"
     ]
    },
    {
     "name": "stdout",
     "output_type": "stream",
     "text": [
      "⚠ 본문을 가져오지 못해 Selenium으로 재시도: https://www.theguru.co.kr/news/article.html?no=37987\n"
     ]
    },
    {
     "name": "stderr",
     "output_type": "stream",
     "text": [
      "📰 뉴스 본문 크롤링 진행:  90%|█████████ | 219/242 [13:54<01:02,  2.74s/it]"
     ]
    },
    {
     "name": "stdout",
     "output_type": "stream",
     "text": [
      "⚠ 본문을 가져오지 못해 Selenium으로 재시도: https://biz.chosun.com/stock/stock_general/2022/07/01/UXPZBQT5CJGNTBYHWFEUKDFYPU/?utm_source=naver&utm_medium=original&utm_campaign=biz\n"
     ]
    },
    {
     "name": "stderr",
     "output_type": "stream",
     "text": [
      "📰 뉴스 본문 크롤링 진행:  93%|█████████▎| 224/242 [14:05<00:25,  1.42s/it]"
     ]
    },
    {
     "name": "stdout",
     "output_type": "stream",
     "text": [
      "⚠ 본문을 가져오지 못해 Selenium으로 재시도: http://www.fntimes.com/html/view.php?ud=202207300257051810dd55077bc2_18\n"
     ]
    },
    {
     "name": "stderr",
     "output_type": "stream",
     "text": [
      "📰 뉴스 본문 크롤링 진행:  93%|█████████▎| 225/242 [14:10<00:43,  2.54s/it]"
     ]
    },
    {
     "name": "stdout",
     "output_type": "stream",
     "text": [
      "⚠ 본문을 가져오지 못해 Selenium으로 재시도: http://www.thebell.co.kr/front/free/contents/news/article_view.asp?key=202207281350164520105222\n"
     ]
    },
    {
     "name": "stderr",
     "output_type": "stream",
     "text": [
      "📰 뉴스 본문 크롤링 진행:  94%|█████████▍| 228/242 [14:14<00:21,  1.51s/it]"
     ]
    },
    {
     "name": "stdout",
     "output_type": "stream",
     "text": [
      "⚠ 본문을 가져오지 못해 Selenium으로 재시도: https://www.theguru.co.kr/news/article.html?no=37987\n"
     ]
    },
    {
     "name": "stderr",
     "output_type": "stream",
     "text": [
      "📰 뉴스 본문 크롤링 진행:  95%|█████████▍| 229/242 [14:18<00:29,  2.27s/it]"
     ]
    },
    {
     "name": "stdout",
     "output_type": "stream",
     "text": [
      "⚠ 본문을 가져오지 못해 Selenium으로 재시도: https://biz.chosun.com/stock/stock_general/2022/07/01/UXPZBQT5CJGNTBYHWFEUKDFYPU/?utm_source=naver&utm_medium=original&utm_campaign=biz\n"
     ]
    },
    {
     "name": "stderr",
     "output_type": "stream",
     "text": [
      "📰 뉴스 본문 크롤링 진행:  97%|█████████▋| 234/242 [14:23<00:06,  1.17it/s]"
     ]
    },
    {
     "name": "stdout",
     "output_type": "stream",
     "text": [
      "⚠ 본문을 가져오지 못해 Selenium으로 재시도: http://www.fntimes.com/html/view.php?ud=202207300257051810dd55077bc2_18\n"
     ]
    },
    {
     "name": "stderr",
     "output_type": "stream",
     "text": [
      "📰 뉴스 본문 크롤링 진행:  97%|█████████▋| 235/242 [14:29<00:15,  2.25s/it]"
     ]
    },
    {
     "name": "stdout",
     "output_type": "stream",
     "text": [
      "⚠ 본문을 가져오지 못해 Selenium으로 재시도: http://www.thebell.co.kr/front/free/contents/news/article_view.asp?key=202207281350164520105222\n"
     ]
    },
    {
     "name": "stderr",
     "output_type": "stream",
     "text": [
      "📰 뉴스 본문 크롤링 진행:  98%|█████████▊| 238/242 [14:33<00:05,  1.47s/it]"
     ]
    },
    {
     "name": "stdout",
     "output_type": "stream",
     "text": [
      "⚠ 본문을 가져오지 못해 Selenium으로 재시도: https://www.theguru.co.kr/news/article.html?no=37987\n"
     ]
    },
    {
     "name": "stderr",
     "output_type": "stream",
     "text": [
      "📰 뉴스 본문 크롤링 진행:  99%|█████████▉| 239/242 [14:37<00:06,  2.14s/it]"
     ]
    },
    {
     "name": "stdout",
     "output_type": "stream",
     "text": [
      "⚠ 본문을 가져오지 못해 Selenium으로 재시도: https://biz.chosun.com/stock/stock_general/2022/07/01/UXPZBQT5CJGNTBYHWFEUKDFYPU/?utm_source=naver&utm_medium=original&utm_campaign=biz\n"
     ]
    },
    {
     "name": "stderr",
     "output_type": "stream",
     "text": [
      "📰 뉴스 본문 크롤링 진행:  99%|█████████▉| 240/242 [14:42<00:06,  3.00s/it]"
     ]
    },
    {
     "name": "stdout",
     "output_type": "stream",
     "text": [
      "⚠ 본문을 가져오지 못해 Selenium으로 재시도: https://www.theguru.co.kr/news/article.html?no=37987\n"
     ]
    },
    {
     "name": "stderr",
     "output_type": "stream",
     "text": [
      "📰 뉴스 본문 크롤링 진행: 100%|█████████▉| 241/242 [14:46<00:03,  3.30s/it]"
     ]
    },
    {
     "name": "stdout",
     "output_type": "stream",
     "text": [
      "⚠ 본문을 가져오지 못해 Selenium으로 재시도: https://biz.chosun.com/stock/stock_general/2022/07/01/UXPZBQT5CJGNTBYHWFEUKDFYPU/?utm_source=naver&utm_medium=original&utm_campaign=biz\n"
     ]
    },
    {
     "name": "stderr",
     "output_type": "stream",
     "text": [
      "📰 뉴스 본문 크롤링 진행: 100%|██████████| 242/242 [14:50<00:00,  3.68s/it]\n"
     ]
    },
    {
     "name": "stdout",
     "output_type": "stream",
     "text": [
      "✅ 2022.07.01 ~ 2022.09.30 크롤링 완료!\n",
      "🔍 검색 중: 두코바니 원전 (2022.10.01 ~ 2022.12.31)\n",
      "✅ 150개의 뉴스 기사 링크 및 날짜를 수집 완료! (2022.10.01 ~ 2022.12.31)\n"
     ]
    },
    {
     "name": "stderr",
     "output_type": "stream",
     "text": [
      "📰 뉴스 본문 크롤링 진행:   2%|▏         | 3/150 [00:01<00:59,  2.47it/s]"
     ]
    },
    {
     "name": "stdout",
     "output_type": "stream",
     "text": [
      "⚠ 본문을 가져오지 못해 Selenium으로 재시도: https://biz.chosun.com/industry/company/2022/12/01/M243DO26YZHUVJCNC47ALUYI2I/?utm_source=naver&utm_medium=original&utm_campaign=biz\n"
     ]
    },
    {
     "name": "stderr",
     "output_type": "stream",
     "text": [
      "📰 뉴스 본문 크롤링 진행:   3%|▎         | 5/150 [00:09<05:25,  2.24s/it]"
     ]
    },
    {
     "name": "stdout",
     "output_type": "stream",
     "text": [
      "⚠ 본문을 가져오지 못해 Selenium으로 재시도: http://www.munhwa.com/news/view.html?no=2022121501039905017001\n"
     ]
    },
    {
     "name": "stderr",
     "output_type": "stream",
     "text": [
      "📰 뉴스 본문 크롤링 진행:   5%|▌         | 8/150 [00:15<04:00,  1.69s/it]"
     ]
    },
    {
     "name": "stdout",
     "output_type": "stream",
     "text": [
      "⚠ 본문을 가져오지 못해 Selenium으로 재시도: https://www.theguru.co.kr/news/article.html?no=46884\n"
     ]
    },
    {
     "name": "stderr",
     "output_type": "stream",
     "text": [
      "📰 뉴스 본문 크롤링 진행:   6%|▌         | 9/150 [00:20<06:28,  2.76s/it]"
     ]
    },
    {
     "name": "stdout",
     "output_type": "stream",
     "text": [
      "⚠ 본문을 가져오지 못해 Selenium으로 재시도: https://www.asiatoday.co.kr/view.php?key=20221207010003449\n"
     ]
    },
    {
     "name": "stderr",
     "output_type": "stream",
     "text": [
      "📰 뉴스 본문 크롤링 진행:   7%|▋         | 10/150 [00:25<08:28,  3.63s/it]"
     ]
    },
    {
     "name": "stdout",
     "output_type": "stream",
     "text": [
      "⚠ 본문을 가져오지 못해 Selenium으로 재시도: http://www.breaknews.com/936711\n"
     ]
    },
    {
     "name": "stderr",
     "output_type": "stream",
     "text": [
      "📰 뉴스 본문 크롤링 진행:   7%|▋         | 11/150 [00:33<11:05,  4.79s/it]"
     ]
    },
    {
     "name": "stdout",
     "output_type": "stream",
     "text": [
      "⚠ 본문을 가져오지 못해 Selenium으로 재시도: http://www.naeil.com/news_view/?id_art=443803\n"
     ]
    },
    {
     "name": "stderr",
     "output_type": "stream",
     "text": [
      "📰 뉴스 본문 크롤링 진행:  10%|█         | 15/150 [00:46<08:37,  3.83s/it]"
     ]
    },
    {
     "name": "stdout",
     "output_type": "stream",
     "text": [
      "⚠ 본문을 가져오지 못해 Selenium으로 재시도: https://www.theguru.co.kr/news/article.html?no=46546\n"
     ]
    },
    {
     "name": "stderr",
     "output_type": "stream",
     "text": [
      "📰 뉴스 본문 크롤링 진행:  11%|█▏        | 17/150 [00:50<06:12,  2.80s/it]"
     ]
    },
    {
     "name": "stdout",
     "output_type": "stream",
     "text": [
      "⚠ 본문을 가져오지 못해 Selenium으로 재시도: https://www.theguru.co.kr/news/article.html?no=45895\n"
     ]
    },
    {
     "name": "stderr",
     "output_type": "stream",
     "text": [
      "📰 뉴스 본문 크롤링 진행:  12%|█▏        | 18/150 [00:55<07:22,  3.35s/it]"
     ]
    },
    {
     "name": "stdout",
     "output_type": "stream",
     "text": [
      "⚠ 본문을 가져오지 못해 Selenium으로 재시도: http://www.kookje.co.kr/news2011/asp/newsbody.asp?code=1700&key=20221128.22022007854\n"
     ]
    },
    {
     "name": "stderr",
     "output_type": "stream",
     "text": [
      "📰 뉴스 본문 크롤링 진행:  13%|█▎        | 19/150 [01:03<10:22,  4.75s/it]"
     ]
    },
    {
     "name": "stdout",
     "output_type": "stream",
     "text": [
      "⚠ 본문을 가져오지 못해 Selenium으로 재시도: https://www.theguru.co.kr/news/article.html?no=44811\n"
     ]
    },
    {
     "name": "stderr",
     "output_type": "stream",
     "text": [
      "📰 뉴스 본문 크롤링 진행:  15%|█▍        | 22/150 [01:07<04:44,  2.23s/it]"
     ]
    },
    {
     "name": "stdout",
     "output_type": "stream",
     "text": [
      "⚠ 본문을 가져오지 못해 Selenium으로 재시도: https://www.theguru.co.kr/news/article.html?no=44520\n"
     ]
    },
    {
     "name": "stderr",
     "output_type": "stream",
     "text": [
      "📰 뉴스 본문 크롤링 진행:  15%|█▌        | 23/150 [01:11<06:13,  2.94s/it]"
     ]
    },
    {
     "name": "stdout",
     "output_type": "stream",
     "text": [
      "⚠ 본문을 가져오지 못해 Selenium으로 재시도: http://www.munhwa.com/news/view.html?no=2022110101072705017001\n"
     ]
    },
    {
     "name": "stderr",
     "output_type": "stream",
     "text": [
      "📰 뉴스 본문 크롤링 진행:  17%|█▋        | 26/150 [01:19<04:35,  2.22s/it]"
     ]
    },
    {
     "name": "stdout",
     "output_type": "stream",
     "text": [
      "⚠ 본문을 가져오지 못해 Selenium으로 재시도: https://www.theguru.co.kr/news/article.html?no=44800\n"
     ]
    },
    {
     "name": "stderr",
     "output_type": "stream",
     "text": [
      "📰 뉴스 본문 크롤링 진행:  20%|██        | 30/150 [01:25<02:35,  1.30s/it]"
     ]
    },
    {
     "name": "stdout",
     "output_type": "stream",
     "text": [
      "⚠ 본문을 가져오지 못해 Selenium으로 재시도: http://www.munhwa.com/news/view.html?no=2022110501039910017001\n"
     ]
    },
    {
     "name": "stderr",
     "output_type": "stream",
     "text": [
      "📰 뉴스 본문 크롤링 진행:  21%|██▏       | 32/150 [01:29<03:07,  1.59s/it]"
     ]
    },
    {
     "name": "stdout",
     "output_type": "stream",
     "text": [
      "⚠ 본문을 가져오지 못해 Selenium으로 재시도: https://www.news1.kr/articles/4839623\n"
     ]
    },
    {
     "name": "stderr",
     "output_type": "stream",
     "text": [
      "📰 뉴스 본문 크롤링 진행:  23%|██▎       | 35/150 [01:47<06:17,  3.28s/it]"
     ]
    },
    {
     "name": "stdout",
     "output_type": "stream",
     "text": [
      "⚠ 본문을 가져오지 못해 Selenium으로 재시도: https://news.kmib.co.kr/article/view.asp?arcid=0924266742&code=11151400&cp=nv\n"
     ]
    },
    {
     "name": "stderr",
     "output_type": "stream",
     "text": [
      "📰 뉴스 본문 크롤링 진행:  25%|██▌       | 38/150 [01:51<03:27,  1.85s/it]"
     ]
    },
    {
     "name": "stdout",
     "output_type": "stream",
     "text": [
      "⚠ 본문을 가져오지 못해 Selenium으로 재시도: https://biz.chosun.com/industry/company/2022/10/31/UMN4XROHTFEE5EGCOH5C7P7D7I/?utm_source=naver&utm_medium=original&utm_campaign=biz\n"
     ]
    },
    {
     "name": "stderr",
     "output_type": "stream",
     "text": [
      "📰 뉴스 본문 크롤링 진행:  26%|██▌       | 39/150 [01:58<05:57,  3.22s/it]"
     ]
    },
    {
     "name": "stdout",
     "output_type": "stream",
     "text": [
      "⚠ 본문을 가져오지 못해 Selenium으로 재시도: https://news.kmib.co.kr/article/view.asp?arcid=0017530196&code=61141111&cp=nv\n"
     ]
    },
    {
     "name": "stderr",
     "output_type": "stream",
     "text": [
      "📰 뉴스 본문 크롤링 진행:  27%|██▋       | 40/150 [02:03<07:04,  3.86s/it]"
     ]
    },
    {
     "name": "stdout",
     "output_type": "stream",
     "text": [
      "⚠ 본문을 가져오지 못해 Selenium으로 재시도: https://www.theguru.co.kr/news/article.html?no=42951\n"
     ]
    },
    {
     "name": "stderr",
     "output_type": "stream",
     "text": [
      "📰 뉴스 본문 크롤링 진행:  28%|██▊       | 42/150 [02:08<05:17,  2.94s/it]"
     ]
    },
    {
     "name": "stdout",
     "output_type": "stream",
     "text": [
      "⚠ 본문을 가져오지 못해 Selenium으로 재시도: https://www.chosun.com/opinion/editorial/2022/10/21/OWD7WCF6OFACRM4FV5KVXQZYNM/?utm_source=naver&utm_medium=referral&utm_campaign=naver-news\n"
     ]
    },
    {
     "name": "stderr",
     "output_type": "stream",
     "text": [
      "📰 뉴스 본문 크롤링 진행:  31%|███▏      | 47/150 [02:16<02:10,  1.27s/it]"
     ]
    },
    {
     "name": "stdout",
     "output_type": "stream",
     "text": [
      "⚠ 본문을 가져오지 못해 Selenium으로 재시도: https://www.theguru.co.kr/news/article.html?no=45762\n"
     ]
    },
    {
     "name": "stderr",
     "output_type": "stream",
     "text": [
      "📰 뉴스 본문 크롤링 진행:  33%|███▎      | 49/150 [02:20<02:25,  1.44s/it]"
     ]
    },
    {
     "name": "stdout",
     "output_type": "stream",
     "text": [
      "⚠ 본문을 가져오지 못해 Selenium으로 재시도: https://www.theguru.co.kr/news/article.html?no=45237\n"
     ]
    },
    {
     "name": "stderr",
     "output_type": "stream",
     "text": [
      "📰 뉴스 본문 크롤링 진행:  34%|███▍      | 51/150 [02:24<02:40,  1.62s/it]"
     ]
    },
    {
     "name": "stdout",
     "output_type": "stream",
     "text": [
      "⚠ 본문을 가져오지 못해 Selenium으로 재시도: https://www.theguru.co.kr/news/article.html?no=44980\n"
     ]
    },
    {
     "name": "stderr",
     "output_type": "stream",
     "text": [
      "📰 뉴스 본문 크롤링 진행:  35%|███▍      | 52/150 [02:29<04:09,  2.54s/it]"
     ]
    },
    {
     "name": "stdout",
     "output_type": "stream",
     "text": [
      "⚠ 본문을 가져오지 못해 Selenium으로 재시도: https://www.dnews.co.kr/uhtml/view.jsp?idxno=202210250944303980759\n"
     ]
    },
    {
     "name": "stderr",
     "output_type": "stream",
     "text": [
      "📰 뉴스 본문 크롤링 진행:  37%|███▋      | 55/150 [02:34<02:50,  1.79s/it]"
     ]
    },
    {
     "name": "stdout",
     "output_type": "stream",
     "text": [
      "⚠ 본문을 가져오지 못해 Selenium으로 재시도: https://news.kmib.co.kr/article/view.asp?arcid=0017552415&code=61141111&cp=nv\n"
     ]
    },
    {
     "name": "stderr",
     "output_type": "stream",
     "text": [
      "📰 뉴스 본문 크롤링 진행:  39%|███▊      | 58/150 [02:40<02:13,  1.45s/it]"
     ]
    },
    {
     "name": "stdout",
     "output_type": "stream",
     "text": [
      "⚠ 본문을 가져오지 못해 Selenium으로 재시도: http://www.munhwa.com/news/view.html?no=2022120801070205017003\n"
     ]
    },
    {
     "name": "stderr",
     "output_type": "stream",
     "text": [
      "📰 뉴스 본문 크롤링 진행:  40%|████      | 60/150 [02:43<02:21,  1.57s/it]"
     ]
    },
    {
     "name": "stdout",
     "output_type": "stream",
     "text": [
      "⚠ 본문을 가져오지 못해 Selenium으로 재시도: https://economist.co.kr/2022/11/10/realEstate/erection/20221110070005425.html\n"
     ]
    },
    {
     "name": "stderr",
     "output_type": "stream",
     "text": [
      "📰 뉴스 본문 크롤링 진행:  44%|████▍     | 66/150 [02:53<01:16,  1.10it/s]"
     ]
    },
    {
     "name": "stdout",
     "output_type": "stream",
     "text": [
      "⚠ 본문을 가져오지 못해 Selenium으로 재시도: http://www.edaily.co.kr/news/newspath.asp?newsid=02899526632496856\n"
     ]
    },
    {
     "name": "stderr",
     "output_type": "stream",
     "text": [
      "📰 뉴스 본문 크롤링 진행:  45%|████▌     | 68/150 [02:58<02:13,  1.63s/it]"
     ]
    },
    {
     "name": "stdout",
     "output_type": "stream",
     "text": [
      "⚠ 본문을 가져오지 못해 Selenium으로 재시도: http://www.fnnews.com/news/202210261117554408\n",
      "⚠ 오류 발생 (뉴스 크롤링 실패, 1/3): http://www.fnnews.com/news/202210261117554408, 오류: HTTPConnectionPool(host='localhost', port=54345): Read timed out. (read timeout=120)\n",
      "⚠ 본문을 가져오지 못해 Selenium으로 재시도: http://www.fnnews.com/news/202210261117554408\n"
     ]
    },
    {
     "name": "stderr",
     "output_type": "stream",
     "text": [
      "📰 뉴스 본문 크롤링 진행:  46%|████▌     | 69/150 [05:20<59:11, 43.84s/it]"
     ]
    },
    {
     "name": "stdout",
     "output_type": "stream",
     "text": [
      "⚠ 본문을 가져오지 못해 Selenium으로 재시도: https://news.kbs.co.kr/news/view.do?ncd=5589714&ref=A\n"
     ]
    },
    {
     "name": "stderr",
     "output_type": "stream",
     "text": [
      "📰 뉴스 본문 크롤링 진행:  47%|████▋     | 71/150 [05:27<30:05, 22.86s/it]"
     ]
    },
    {
     "name": "stdout",
     "output_type": "stream",
     "text": [
      "⚠ 본문을 가져오지 못해 Selenium으로 재시도: https://www.viva100.com/main/view.php?key=20221026010006530\n"
     ]
    },
    {
     "name": "stderr",
     "output_type": "stream",
     "text": [
      "📰 뉴스 본문 크롤링 진행:  50%|█████     | 75/150 [05:32<07:37,  6.10s/it]"
     ]
    },
    {
     "name": "stdout",
     "output_type": "stream",
     "text": [
      "⚠ 본문을 가져오지 못해 Selenium으로 재시도: http://www.edaily.co.kr/news/newspath.asp?newsid=02899526632496856\n"
     ]
    },
    {
     "name": "stderr",
     "output_type": "stream",
     "text": [
      "📰 뉴스 본문 크롤링 진행:  52%|█████▏    | 78/150 [05:38<03:38,  3.03s/it]"
     ]
    },
    {
     "name": "stdout",
     "output_type": "stream",
     "text": [
      "⚠ 본문을 가져오지 못해 Selenium으로 재시도: http://www.fnnews.com/news/202210261117554408\n"
     ]
    },
    {
     "name": "stderr",
     "output_type": "stream",
     "text": [
      "📰 뉴스 본문 크롤링 진행:  53%|█████▎    | 79/150 [05:42<04:07,  3.48s/it]"
     ]
    },
    {
     "name": "stdout",
     "output_type": "stream",
     "text": [
      "⚠ 본문을 가져오지 못해 Selenium으로 재시도: https://news.kbs.co.kr/news/view.do?ncd=5589714&ref=A\n"
     ]
    },
    {
     "name": "stderr",
     "output_type": "stream",
     "text": [
      "📰 뉴스 본문 크롤링 진행:  54%|█████▍    | 81/150 [05:47<03:15,  2.83s/it]"
     ]
    },
    {
     "name": "stdout",
     "output_type": "stream",
     "text": [
      "⚠ 본문을 가져오지 못해 Selenium으로 재시도: https://www.viva100.com/main/view.php?key=20221026010006530\n"
     ]
    },
    {
     "name": "stderr",
     "output_type": "stream",
     "text": [
      "📰 뉴스 본문 크롤링 진행:  57%|█████▋    | 86/150 [05:54<01:06,  1.04s/it]"
     ]
    },
    {
     "name": "stdout",
     "output_type": "stream",
     "text": [
      "⚠ 본문을 가져오지 못해 Selenium으로 재시도: http://www.edaily.co.kr/news/newspath.asp?newsid=02899526632496856\n"
     ]
    },
    {
     "name": "stderr",
     "output_type": "stream",
     "text": [
      "📰 뉴스 본문 크롤링 진행:  59%|█████▊    | 88/150 [06:00<01:53,  1.83s/it]"
     ]
    },
    {
     "name": "stdout",
     "output_type": "stream",
     "text": [
      "⚠ 본문을 가져오지 못해 Selenium으로 재시도: http://www.fnnews.com/news/202210261117554408\n"
     ]
    },
    {
     "name": "stderr",
     "output_type": "stream",
     "text": [
      "📰 뉴스 본문 크롤링 진행:  59%|█████▉    | 89/150 [06:07<03:29,  3.44s/it]"
     ]
    },
    {
     "name": "stdout",
     "output_type": "stream",
     "text": [
      "⚠ 본문을 가져오지 못해 Selenium으로 재시도: https://news.kbs.co.kr/news/view.do?ncd=5589714&ref=A\n"
     ]
    },
    {
     "name": "stderr",
     "output_type": "stream",
     "text": [
      "📰 뉴스 본문 크롤링 진행:  61%|██████    | 91/150 [06:11<02:26,  2.48s/it]"
     ]
    },
    {
     "name": "stdout",
     "output_type": "stream",
     "text": [
      "⚠ 본문을 가져오지 못해 Selenium으로 재시도: https://www.viva100.com/main/view.php?key=20221026010006530\n"
     ]
    },
    {
     "name": "stderr",
     "output_type": "stream",
     "text": [
      "📰 뉴스 본문 크롤링 진행:  63%|██████▎   | 95/150 [06:16<01:07,  1.22s/it]"
     ]
    },
    {
     "name": "stdout",
     "output_type": "stream",
     "text": [
      "⚠ 본문을 가져오지 못해 Selenium으로 재시도: http://www.edaily.co.kr/news/newspath.asp?newsid=02899526632496856\n"
     ]
    },
    {
     "name": "stderr",
     "output_type": "stream",
     "text": [
      "📰 뉴스 본문 크롤링 진행:  65%|██████▌   | 98/150 [06:22<01:12,  1.39s/it]"
     ]
    },
    {
     "name": "stdout",
     "output_type": "stream",
     "text": [
      "⚠ 본문을 가져오지 못해 Selenium으로 재시도: http://www.fnnews.com/news/202210261117554408\n"
     ]
    },
    {
     "name": "stderr",
     "output_type": "stream",
     "text": [
      "📰 뉴스 본문 크롤링 진행:  66%|██████▌   | 99/150 [06:27<01:59,  2.34s/it]"
     ]
    },
    {
     "name": "stdout",
     "output_type": "stream",
     "text": [
      "⚠ 본문을 가져오지 못해 Selenium으로 재시도: https://news.kbs.co.kr/news/view.do?ncd=5589714&ref=A\n"
     ]
    },
    {
     "name": "stderr",
     "output_type": "stream",
     "text": [
      "📰 뉴스 본문 크롤링 진행:  67%|██████▋   | 100/150 [06:31<02:33,  3.07s/it]"
     ]
    },
    {
     "name": "stdout",
     "output_type": "stream",
     "text": [
      "⚠ 본문을 가져오지 못해 Selenium으로 재시도: https://www.news1.kr/articles/4839623\n"
     ]
    },
    {
     "name": "stderr",
     "output_type": "stream",
     "text": [
      "📰 뉴스 본문 크롤링 진행:  69%|██████▊   | 103/150 [06:39<01:50,  2.34s/it]"
     ]
    },
    {
     "name": "stdout",
     "output_type": "stream",
     "text": [
      "⚠ 본문을 가져오지 못해 Selenium으로 재시도: https://news.kmib.co.kr/article/view.asp?arcid=0924266742&code=11151400&cp=nv\n"
     ]
    },
    {
     "name": "stderr",
     "output_type": "stream",
     "text": [
      "📰 뉴스 본문 크롤링 진행:  71%|███████   | 106/150 [06:44<01:10,  1.60s/it]"
     ]
    },
    {
     "name": "stdout",
     "output_type": "stream",
     "text": [
      "⚠ 본문을 가져오지 못해 Selenium으로 재시도: https://biz.chosun.com/industry/company/2022/10/31/UMN4XROHTFEE5EGCOH5C7P7D7I/?utm_source=naver&utm_medium=original&utm_campaign=biz\n"
     ]
    },
    {
     "name": "stderr",
     "output_type": "stream",
     "text": [
      "📰 뉴스 본문 크롤링 진행:  71%|███████▏  | 107/150 [06:49<01:45,  2.45s/it]"
     ]
    },
    {
     "name": "stdout",
     "output_type": "stream",
     "text": [
      "⚠ 본문을 가져오지 못해 Selenium으로 재시도: https://news.kmib.co.kr/article/view.asp?arcid=0017530196&code=61141111&cp=nv\n"
     ]
    },
    {
     "name": "stderr",
     "output_type": "stream",
     "text": [
      "📰 뉴스 본문 크롤링 진행:  72%|███████▏  | 108/150 [06:53<02:02,  2.92s/it]"
     ]
    },
    {
     "name": "stdout",
     "output_type": "stream",
     "text": [
      "⚠ 본문을 가져오지 못해 Selenium으로 재시도: https://www.theguru.co.kr/news/article.html?no=42951\n"
     ]
    },
    {
     "name": "stderr",
     "output_type": "stream",
     "text": [
      "📰 뉴스 본문 크롤링 진행:  74%|███████▍  | 111/150 [06:58<01:12,  1.86s/it]"
     ]
    },
    {
     "name": "stdout",
     "output_type": "stream",
     "text": [
      "⚠ 본문을 가져오지 못해 Selenium으로 재시도: https://www.chosun.com/opinion/editorial/2022/10/21/OWD7WCF6OFACRM4FV5KVXQZYNM/?utm_source=naver&utm_medium=referral&utm_campaign=naver-news\n"
     ]
    },
    {
     "name": "stderr",
     "output_type": "stream",
     "text": [
      "📰 뉴스 본문 크롤링 진행:  79%|███████▊  | 118/150 [07:05<00:18,  1.71it/s]"
     ]
    },
    {
     "name": "stdout",
     "output_type": "stream",
     "text": [
      "⚠ 본문을 가져오지 못해 Selenium으로 재시도: https://www.theguru.co.kr/news/article.html?no=45762\n"
     ]
    },
    {
     "name": "stderr",
     "output_type": "stream",
     "text": [
      "📰 뉴스 본문 크롤링 진행:  80%|████████  | 120/150 [07:10<00:36,  1.22s/it]"
     ]
    },
    {
     "name": "stdout",
     "output_type": "stream",
     "text": [
      "⚠ 본문을 가져오지 못해 Selenium으로 재시도: https://www.theguru.co.kr/news/article.html?no=45762\n"
     ]
    },
    {
     "name": "stderr",
     "output_type": "stream",
     "text": [
      "📰 뉴스 본문 크롤링 진행:  81%|████████▏ | 122/150 [07:14<00:39,  1.41s/it]"
     ]
    },
    {
     "name": "stdout",
     "output_type": "stream",
     "text": [
      "⚠ 본문을 가져오지 못해 Selenium으로 재시도: https://www.theguru.co.kr/news/article.html?no=45237\n"
     ]
    },
    {
     "name": "stderr",
     "output_type": "stream",
     "text": [
      "📰 뉴스 본문 크롤링 진행:  83%|████████▎ | 124/150 [07:17<00:37,  1.44s/it]"
     ]
    },
    {
     "name": "stdout",
     "output_type": "stream",
     "text": [
      "⚠ 본문을 가져오지 못해 Selenium으로 재시도: https://www.theguru.co.kr/news/article.html?no=44980\n"
     ]
    },
    {
     "name": "stderr",
     "output_type": "stream",
     "text": [
      "📰 뉴스 본문 크롤링 진행:  84%|████████▍ | 126/150 [07:21<00:39,  1.65s/it]"
     ]
    },
    {
     "name": "stdout",
     "output_type": "stream",
     "text": [
      "⚠ 본문을 가져오지 못해 Selenium으로 재시도: https://www.dnews.co.kr/uhtml/view.jsp?idxno=202210250944303980759\n"
     ]
    },
    {
     "name": "stderr",
     "output_type": "stream",
     "text": [
      "📰 뉴스 본문 크롤링 진행:  85%|████████▌ | 128/150 [07:26<00:41,  1.90s/it]"
     ]
    },
    {
     "name": "stdout",
     "output_type": "stream",
     "text": [
      "⚠ 본문을 가져오지 못해 Selenium으로 재시도: http://www.munhwa.com/news/view.html?no=2022102001072403017001\n"
     ]
    },
    {
     "name": "stderr",
     "output_type": "stream",
     "text": [
      "📰 뉴스 본문 크롤링 진행:  87%|████████▋ | 131/150 [07:31<00:26,  1.39s/it]"
     ]
    },
    {
     "name": "stdout",
     "output_type": "stream",
     "text": [
      "⚠ 본문을 가져오지 못해 Selenium으로 재시도: https://news.kmib.co.kr/article/view.asp?arcid=0017552415&code=61141111&cp=nv\n"
     ]
    },
    {
     "name": "stderr",
     "output_type": "stream",
     "text": [
      "📰 뉴스 본문 크롤링 진행:  90%|█████████ | 135/150 [07:36<00:14,  1.03it/s]"
     ]
    },
    {
     "name": "stdout",
     "output_type": "stream",
     "text": [
      "⚠ 본문을 가져오지 못해 Selenium으로 재시도: http://www.munhwa.com/news/view.html?no=2022120801070205017003\n"
     ]
    },
    {
     "name": "stderr",
     "output_type": "stream",
     "text": [
      "📰 뉴스 본문 크롤링 진행:  91%|█████████▏| 137/150 [07:42<00:21,  1.69s/it]"
     ]
    },
    {
     "name": "stdout",
     "output_type": "stream",
     "text": [
      "⚠ 본문을 가져오지 못해 Selenium으로 재시도: https://economist.co.kr/2022/11/10/realEstate/erection/20221110070005425.html\n"
     ]
    },
    {
     "name": "stderr",
     "output_type": "stream",
     "text": [
      "📰 뉴스 본문 크롤링 진행:  94%|█████████▍| 141/150 [07:47<00:10,  1.15s/it]"
     ]
    },
    {
     "name": "stdout",
     "output_type": "stream",
     "text": [
      "⚠ 본문을 가져오지 못해 Selenium으로 재시도: https://www.viva100.com/main/view.php?key=20221026010006530\n"
     ]
    },
    {
     "name": "stderr",
     "output_type": "stream",
     "text": [
      "📰 뉴스 본문 크롤링 진행:  97%|█████████▋| 146/150 [07:54<00:03,  1.33it/s]"
     ]
    },
    {
     "name": "stdout",
     "output_type": "stream",
     "text": [
      "⚠ 본문을 가져오지 못해 Selenium으로 재시도: http://www.edaily.co.kr/news/newspath.asp?newsid=02899526632496856\n"
     ]
    },
    {
     "name": "stderr",
     "output_type": "stream",
     "text": [
      "📰 뉴스 본문 크롤링 진행:  99%|█████████▊| 148/150 [07:59<00:03,  1.64s/it]"
     ]
    },
    {
     "name": "stdout",
     "output_type": "stream",
     "text": [
      "⚠ 본문을 가져오지 못해 Selenium으로 재시도: http://www.fnnews.com/news/202210261117554408\n"
     ]
    },
    {
     "name": "stderr",
     "output_type": "stream",
     "text": [
      "📰 뉴스 본문 크롤링 진행:  99%|█████████▉| 149/150 [08:05<00:02,  2.90s/it]"
     ]
    },
    {
     "name": "stdout",
     "output_type": "stream",
     "text": [
      "⚠ 본문을 가져오지 못해 Selenium으로 재시도: https://news.kbs.co.kr/news/view.do?ncd=5589714&ref=A\n"
     ]
    },
    {
     "name": "stderr",
     "output_type": "stream",
     "text": [
      "📰 뉴스 본문 크롤링 진행: 100%|██████████| 150/150 [08:09<00:00,  3.26s/it]\n"
     ]
    },
    {
     "name": "stdout",
     "output_type": "stream",
     "text": [
      "✅ 2022.10.01 ~ 2022.12.31 크롤링 완료!\n",
      "🔍 검색 중: 두코바니 원전 (2023.01.01 ~ 2023.03.31)\n",
      "✅ 144개의 뉴스 기사 링크 및 날짜를 수집 완료! (2023.01.01 ~ 2023.03.31)\n"
     ]
    },
    {
     "name": "stderr",
     "output_type": "stream",
     "text": [
      "📰 뉴스 본문 크롤링 진행:   1%|▏         | 2/144 [00:01<01:17,  1.82it/s]"
     ]
    },
    {
     "name": "stdout",
     "output_type": "stream",
     "text": [
      "⚠ 본문을 가져오지 못해 Selenium으로 재시도: https://www.nocutnews.co.kr/news/5915189\n"
     ]
    },
    {
     "name": "stderr",
     "output_type": "stream",
     "text": [
      "📰 뉴스 본문 크롤링 진행:   2%|▏         | 3/144 [00:07<07:24,  3.15s/it]"
     ]
    },
    {
     "name": "stdout",
     "output_type": "stream",
     "text": [
      "⚠ 본문을 가져오지 못해 Selenium으로 재시도: https://hankookilbo.com/News/Read/A2023032608450001476?did=NA\n"
     ]
    },
    {
     "name": "stderr",
     "output_type": "stream",
     "text": [
      "📰 뉴스 본문 크롤링 진행:   6%|▌         | 8/144 [00:19<03:36,  1.59s/it]"
     ]
    },
    {
     "name": "stdout",
     "output_type": "stream",
     "text": [
      "⚠ 본문을 가져오지 못해 Selenium으로 재시도: https://www.wikitree.co.kr/articles/837829\n"
     ]
    },
    {
     "name": "stderr",
     "output_type": "stream",
     "text": [
      "📰 뉴스 본문 크롤링 진행:   6%|▋         | 9/144 [00:27<08:09,  3.62s/it]"
     ]
    },
    {
     "name": "stdout",
     "output_type": "stream",
     "text": [
      "⚠ 본문을 가져오지 못해 Selenium으로 재시도: https://news.kbs.co.kr/news/view.do?ncd=7629198&ref=A\n"
     ]
    },
    {
     "name": "stderr",
     "output_type": "stream",
     "text": [
      "📰 뉴스 본문 크롤링 진행:   8%|▊         | 11/144 [00:32<06:05,  2.75s/it]"
     ]
    },
    {
     "name": "stdout",
     "output_type": "stream",
     "text": [
      "⚠ 본문을 가져오지 못해 Selenium으로 재시도: https://news.kbs.co.kr/news/view.do?ncd=7629524&ref=A\n"
     ]
    },
    {
     "name": "stderr",
     "output_type": "stream",
     "text": [
      "📰 뉴스 본문 크롤링 진행:   9%|▉         | 13/144 [00:36<04:58,  2.28s/it]"
     ]
    },
    {
     "name": "stdout",
     "output_type": "stream",
     "text": [
      "⚠ 본문을 가져오지 못해 Selenium으로 재시도: http://www.breaknews.com/955242\n"
     ]
    },
    {
     "name": "stderr",
     "output_type": "stream",
     "text": [
      "📰 뉴스 본문 크롤링 진행:  10%|█         | 15/144 [00:44<06:00,  2.79s/it]"
     ]
    },
    {
     "name": "stdout",
     "output_type": "stream",
     "text": [
      "⚠ 본문을 가져오지 못해 Selenium으로 재시도: https://www.theguru.co.kr/news/article.html?no=50538\n"
     ]
    },
    {
     "name": "stderr",
     "output_type": "stream",
     "text": [
      "📰 뉴스 본문 크롤링 진행:  11%|█         | 16/144 [00:49<07:24,  3.47s/it]"
     ]
    },
    {
     "name": "stdout",
     "output_type": "stream",
     "text": [
      "⚠ 본문을 가져오지 못해 Selenium으로 재시도: https://www.theguru.co.kr/news/article.html?no=50155\n"
     ]
    },
    {
     "name": "stderr",
     "output_type": "stream",
     "text": [
      "📰 뉴스 본문 크롤링 진행:  12%|█▏        | 17/144 [00:53<07:20,  3.47s/it]"
     ]
    },
    {
     "name": "stdout",
     "output_type": "stream",
     "text": [
      "⚠ 본문을 가져오지 못해 Selenium으로 재시도: https://www.theguru.co.kr/news/article.html?no=50020\n"
     ]
    },
    {
     "name": "stderr",
     "output_type": "stream",
     "text": [
      "📰 뉴스 본문 크롤링 진행:  12%|█▎        | 18/144 [00:57<07:39,  3.64s/it]"
     ]
    },
    {
     "name": "stdout",
     "output_type": "stream",
     "text": [
      "⚠ 본문을 가져오지 못해 Selenium으로 재시도: https://www.theguru.co.kr/news/article.html?no=50004\n"
     ]
    },
    {
     "name": "stderr",
     "output_type": "stream",
     "text": [
      "📰 뉴스 본문 크롤링 진행:  14%|█▍        | 20/144 [01:01<05:50,  2.82s/it]"
     ]
    },
    {
     "name": "stdout",
     "output_type": "stream",
     "text": [
      "⚠ 본문을 가져오지 못해 Selenium으로 재시도: http://www.edaily.co.kr/news/newspath.asp?newsid=03939286635513472\n"
     ]
    },
    {
     "name": "stderr",
     "output_type": "stream",
     "text": [
      "📰 뉴스 본문 크롤링 진행:  15%|█▍        | 21/144 [01:08<07:52,  3.84s/it]"
     ]
    },
    {
     "name": "stdout",
     "output_type": "stream",
     "text": [
      "⚠ 본문을 가져오지 못해 Selenium으로 재시도: https://www.theguru.co.kr/news/article.html?no=49925\n"
     ]
    },
    {
     "name": "stderr",
     "output_type": "stream",
     "text": [
      "📰 뉴스 본문 크롤링 진행:  15%|█▌        | 22/144 [01:11<07:32,  3.71s/it]"
     ]
    },
    {
     "name": "stdout",
     "output_type": "stream",
     "text": [
      "⚠ 본문을 가져오지 못해 Selenium으로 재시도: https://www.theguru.co.kr/news/article.html?no=48797\n"
     ]
    },
    {
     "name": "stderr",
     "output_type": "stream",
     "text": [
      "📰 뉴스 본문 크롤링 진행:  17%|█▋        | 24/144 [01:16<05:47,  2.89s/it]"
     ]
    },
    {
     "name": "stdout",
     "output_type": "stream",
     "text": [
      "⚠ 본문을 가져오지 못해 Selenium으로 재시도: http://www.fnnews.com/news/202302121829388884\n"
     ]
    },
    {
     "name": "stderr",
     "output_type": "stream",
     "text": [
      "📰 뉴스 본문 크롤링 진행:  19%|█▉        | 27/144 [01:25<04:40,  2.39s/it]"
     ]
    },
    {
     "name": "stdout",
     "output_type": "stream",
     "text": [
      "⚠ 본문을 가져오지 못해 Selenium으로 재시도: https://www.munhwa.com/news/view.html?no=2023013101031905017001\n"
     ]
    },
    {
     "name": "stderr",
     "output_type": "stream",
     "text": [
      "📰 뉴스 본문 크롤링 진행:  20%|██        | 29/144 [01:31<04:47,  2.50s/it]"
     ]
    },
    {
     "name": "stdout",
     "output_type": "stream",
     "text": [
      "⚠ 본문을 가져오지 못해 Selenium으로 재시도: https://www.theguru.co.kr/news/article.html?no=48443\n"
     ]
    },
    {
     "name": "stderr",
     "output_type": "stream",
     "text": [
      "📰 뉴스 본문 크롤링 진행:  22%|██▏       | 31/144 [01:35<04:10,  2.21s/it]"
     ]
    },
    {
     "name": "stdout",
     "output_type": "stream",
     "text": [
      "⚠ 본문을 가져오지 못해 Selenium으로 재시도: https://www.dnews.co.kr/uhtml/view.jsp?idxno=202301191329479080941\n"
     ]
    },
    {
     "name": "stderr",
     "output_type": "stream",
     "text": [
      "📰 뉴스 본문 크롤링 진행:  24%|██▎       | 34/144 [01:41<03:01,  1.65s/it]"
     ]
    },
    {
     "name": "stdout",
     "output_type": "stream",
     "text": [
      "⚠ 본문을 가져오지 못해 Selenium으로 재시도: http://www.munhwa.com/news/view.html?no=2023011301070505017001\n"
     ]
    },
    {
     "name": "stderr",
     "output_type": "stream",
     "text": [
      "📰 뉴스 본문 크롤링 진행:  25%|██▌       | 36/144 [01:46<03:36,  2.00s/it]"
     ]
    },
    {
     "name": "stdout",
     "output_type": "stream",
     "text": [
      "⚠ 본문을 가져오지 못해 Selenium으로 재시도: https://www.seoul.co.kr/news/newsView.php?id=20230109023013&wlog_tag3=naver\n"
     ]
    },
    {
     "name": "stderr",
     "output_type": "stream",
     "text": [
      "📰 뉴스 본문 크롤링 진행:  30%|██▉       | 43/144 [01:56<01:17,  1.30it/s]"
     ]
    },
    {
     "name": "stdout",
     "output_type": "stream",
     "text": [
      "⚠ 본문을 가져오지 못해 Selenium으로 재시도: https://www.asiatoday.co.kr/view.php?key=20230213010007081\n"
     ]
    },
    {
     "name": "stderr",
     "output_type": "stream",
     "text": [
      "📰 뉴스 본문 크롤링 진행:  31%|███       | 44/144 [02:03<04:30,  2.71s/it]"
     ]
    },
    {
     "name": "stdout",
     "output_type": "stream",
     "text": [
      "⚠ 본문을 가져오지 못해 Selenium으로 재시도: https://news.imaeil.com/page/view/2023020710321798969\n"
     ]
    },
    {
     "name": "stderr",
     "output_type": "stream",
     "text": [
      "📰 뉴스 본문 크롤링 진행:  33%|███▎      | 47/144 [02:11<03:15,  2.02s/it]"
     ]
    },
    {
     "name": "stdout",
     "output_type": "stream",
     "text": [
      "⚠ 본문을 가져오지 못해 Selenium으로 재시도: https://www.seoul.co.kr/news/newsView.php?id=20230109001010&wlog_tag3=naver\n"
     ]
    },
    {
     "name": "stderr",
     "output_type": "stream",
     "text": [
      "📰 뉴스 본문 크롤링 진행:  35%|███▌      | 51/144 [02:17<02:01,  1.30s/it]"
     ]
    },
    {
     "name": "stdout",
     "output_type": "stream",
     "text": [
      "⚠ 본문을 가져오지 못해 Selenium으로 재시도: http://www.naeil.com/news_view/?id_art=450436\n"
     ]
    },
    {
     "name": "stderr",
     "output_type": "stream",
     "text": [
      "📰 뉴스 본문 크롤링 진행:  36%|███▌      | 52/144 [02:23<03:57,  2.58s/it]"
     ]
    },
    {
     "name": "stdout",
     "output_type": "stream",
     "text": [
      "⚠ 본문을 가져오지 못해 Selenium으로 재시도: https://www.munhwa.com/news/view.html?no=2023020601033005017001\n"
     ]
    },
    {
     "name": "stderr",
     "output_type": "stream",
     "text": [
      "📰 뉴스 본문 크롤링 진행:  37%|███▋      | 53/144 [02:27<04:31,  2.98s/it]"
     ]
    },
    {
     "name": "stdout",
     "output_type": "stream",
     "text": [
      "⚠ 본문을 가져오지 못해 Selenium으로 재시도: http://www.g-enews.com/ko-kr/news/article/news_all/2023020215184967607bdb7041ec_1/article.html\n"
     ]
    },
    {
     "name": "stderr",
     "output_type": "stream",
     "text": [
      "📰 뉴스 본문 크롤링 진행:  38%|███▊      | 54/144 [02:32<05:41,  3.80s/it]"
     ]
    },
    {
     "name": "stdout",
     "output_type": "stream",
     "text": [
      "⚠ 본문을 가져오지 못해 Selenium으로 재시도: http://www.wsobi.com/news/articleView.html?idxno=187704\n"
     ]
    },
    {
     "name": "stderr",
     "output_type": "stream",
     "text": [
      "📰 뉴스 본문 크롤링 진행:  39%|███▉      | 56/144 [02:37<04:04,  2.78s/it]"
     ]
    },
    {
     "name": "stdout",
     "output_type": "stream",
     "text": [
      "⚠ 본문을 가져오지 못해 Selenium으로 재시도: http://www.munhwa.com/news/view.html?no=2023010201032005017001\n"
     ]
    },
    {
     "name": "stderr",
     "output_type": "stream",
     "text": [
      "📰 뉴스 본문 크롤링 진행:  41%|████      | 59/144 [02:42<02:39,  1.88s/it]"
     ]
    },
    {
     "name": "stdout",
     "output_type": "stream",
     "text": [
      "⚠ 본문을 가져오지 못해 Selenium으로 재시도: https://www.dnews.co.kr/uhtml/view.jsp?idxno=202303131137447000890\n"
     ]
    },
    {
     "name": "stderr",
     "output_type": "stream",
     "text": [
      "📰 뉴스 본문 크롤링 진행:  42%|████▏     | 60/144 [02:46<03:27,  2.47s/it]"
     ]
    },
    {
     "name": "stdout",
     "output_type": "stream",
     "text": [
      "⚠ 본문을 가져오지 못해 Selenium으로 재시도: https://www.dnews.co.kr/uhtml/view.jsp?idxno=202301181555126690659\n"
     ]
    },
    {
     "name": "stderr",
     "output_type": "stream",
     "text": [
      "📰 뉴스 본문 크롤링 진행:  42%|████▏     | 61/144 [02:51<04:27,  3.22s/it]"
     ]
    },
    {
     "name": "stdout",
     "output_type": "stream",
     "text": [
      "⚠ 본문을 가져오지 못해 Selenium으로 재시도: https://www.dailian.co.kr/news/view/1194257/?sc=Naver\n"
     ]
    },
    {
     "name": "stderr",
     "output_type": "stream",
     "text": [
      "📰 뉴스 본문 크롤링 진행:  43%|████▎     | 62/144 [02:56<05:09,  3.78s/it]"
     ]
    },
    {
     "name": "stdout",
     "output_type": "stream",
     "text": [
      "⚠ 본문을 가져오지 못해 Selenium으로 재시도: http://www.wsobi.com/news/articleView.html?idxno=187704\n"
     ]
    },
    {
     "name": "stderr",
     "output_type": "stream",
     "text": [
      "📰 뉴스 본문 크롤링 진행:  44%|████▍     | 64/144 [03:00<03:35,  2.69s/it]"
     ]
    },
    {
     "name": "stdout",
     "output_type": "stream",
     "text": [
      "⚠ 본문을 가져오지 못해 Selenium으로 재시도: http://www.munhwa.com/news/view.html?no=2023010201032005017001\n"
     ]
    },
    {
     "name": "stderr",
     "output_type": "stream",
     "text": [
      "📰 뉴스 본문 크롤링 진행:  47%|████▋     | 67/144 [03:06<02:26,  1.90s/it]"
     ]
    },
    {
     "name": "stdout",
     "output_type": "stream",
     "text": [
      "⚠ 본문을 가져오지 못해 Selenium으로 재시도: https://www.dnews.co.kr/uhtml/view.jsp?idxno=202303131137447000890\n"
     ]
    },
    {
     "name": "stderr",
     "output_type": "stream",
     "text": [
      "📰 뉴스 본문 크롤링 진행:  48%|████▊     | 69/144 [03:12<02:39,  2.13s/it]"
     ]
    },
    {
     "name": "stdout",
     "output_type": "stream",
     "text": [
      "⚠ 본문을 가져오지 못해 Selenium으로 재시도: https://www.asiatoday.co.kr/view.php?key=20230206010003066\n"
     ]
    },
    {
     "name": "stderr",
     "output_type": "stream",
     "text": [
      "📰 뉴스 본문 크롤링 진행:  49%|████▊     | 70/144 [03:20<04:46,  3.87s/it]"
     ]
    },
    {
     "name": "stdout",
     "output_type": "stream",
     "text": [
      "⚠ 본문을 가져오지 못해 Selenium으로 재시도: https://www.dailian.co.kr/news/view/1194257/?sc=Naver\n"
     ]
    },
    {
     "name": "stderr",
     "output_type": "stream",
     "text": [
      "📰 뉴스 본문 크롤링 진행:  49%|████▉     | 71/144 [03:25<05:00,  4.11s/it]"
     ]
    },
    {
     "name": "stdout",
     "output_type": "stream",
     "text": [
      "⚠ 본문을 가져오지 못해 Selenium으로 재시도: https://www.dnews.co.kr/uhtml/view.jsp?idxno=202301181555126690659\n"
     ]
    },
    {
     "name": "stderr",
     "output_type": "stream",
     "text": [
      "📰 뉴스 본문 크롤링 진행:  50%|█████     | 72/144 [03:28<04:51,  4.04s/it]"
     ]
    },
    {
     "name": "stdout",
     "output_type": "stream",
     "text": [
      "⚠ 본문을 가져오지 못해 Selenium으로 재시도: http://www.wsobi.com/news/articleView.html?idxno=187704\n"
     ]
    },
    {
     "name": "stderr",
     "output_type": "stream",
     "text": [
      "📰 뉴스 본문 크롤링 진행:  51%|█████▏    | 74/144 [03:32<03:09,  2.71s/it]"
     ]
    },
    {
     "name": "stdout",
     "output_type": "stream",
     "text": [
      "⚠ 본문을 가져오지 못해 Selenium으로 재시도: http://www.munhwa.com/news/view.html?no=2023010201032005017001\n"
     ]
    },
    {
     "name": "stderr",
     "output_type": "stream",
     "text": [
      "📰 뉴스 본문 크롤링 진행:  53%|█████▎    | 77/144 [03:37<01:57,  1.75s/it]"
     ]
    },
    {
     "name": "stdout",
     "output_type": "stream",
     "text": [
      "⚠ 본문을 가져오지 못해 Selenium으로 재시도: https://www.dnews.co.kr/uhtml/view.jsp?idxno=202303131137447000890\n"
     ]
    },
    {
     "name": "stderr",
     "output_type": "stream",
     "text": [
      "📰 뉴스 본문 크롤링 진행:  55%|█████▍    | 79/144 [03:42<02:09,  1.99s/it]"
     ]
    },
    {
     "name": "stdout",
     "output_type": "stream",
     "text": [
      "⚠ 본문을 가져오지 못해 Selenium으로 재시도: https://www.asiatoday.co.kr/view.php?key=20230206010003066\n"
     ]
    },
    {
     "name": "stderr",
     "output_type": "stream",
     "text": [
      "📰 뉴스 본문 크롤링 진행:  56%|█████▌    | 80/144 [03:48<03:23,  3.18s/it]"
     ]
    },
    {
     "name": "stdout",
     "output_type": "stream",
     "text": [
      "⚠ 본문을 가져오지 못해 Selenium으로 재시도: https://www.dailian.co.kr/news/view/1194257/?sc=Naver\n"
     ]
    },
    {
     "name": "stderr",
     "output_type": "stream",
     "text": [
      "📰 뉴스 본문 크롤링 진행:  56%|█████▋    | 81/144 [03:53<03:49,  3.65s/it]"
     ]
    },
    {
     "name": "stdout",
     "output_type": "stream",
     "text": [
      "⚠ 본문을 가져오지 못해 Selenium으로 재시도: https://www.dnews.co.kr/uhtml/view.jsp?idxno=202301181555126690659\n"
     ]
    },
    {
     "name": "stderr",
     "output_type": "stream",
     "text": [
      "📰 뉴스 본문 크롤링 진행:  57%|█████▋    | 82/144 [03:58<04:08,  4.01s/it]"
     ]
    },
    {
     "name": "stdout",
     "output_type": "stream",
     "text": [
      "⚠ 본문을 가져오지 못해 Selenium으로 재시도: http://www.wsobi.com/news/articleView.html?idxno=187704\n"
     ]
    },
    {
     "name": "stderr",
     "output_type": "stream",
     "text": [
      "📰 뉴스 본문 크롤링 진행:  58%|█████▊    | 84/144 [04:02<02:44,  2.74s/it]"
     ]
    },
    {
     "name": "stdout",
     "output_type": "stream",
     "text": [
      "⚠ 본문을 가져오지 못해 Selenium으로 재시도: http://www.munhwa.com/news/view.html?no=2023010201032005017001\n"
     ]
    },
    {
     "name": "stderr",
     "output_type": "stream",
     "text": [
      "📰 뉴스 본문 크롤링 진행:  60%|██████    | 87/144 [04:07<01:43,  1.82s/it]"
     ]
    },
    {
     "name": "stdout",
     "output_type": "stream",
     "text": [
      "⚠ 본문을 가져오지 못해 Selenium으로 재시도: https://www.dnews.co.kr/uhtml/view.jsp?idxno=202303131137447000890\n"
     ]
    },
    {
     "name": "stderr",
     "output_type": "stream",
     "text": [
      "📰 뉴스 본문 크롤링 진행:  62%|██████▏   | 89/144 [04:13<01:50,  2.02s/it]"
     ]
    },
    {
     "name": "stdout",
     "output_type": "stream",
     "text": [
      "⚠ 본문을 가져오지 못해 Selenium으로 재시도: https://www.asiatoday.co.kr/view.php?key=20230206010003066\n"
     ]
    },
    {
     "name": "stderr",
     "output_type": "stream",
     "text": [
      "📰 뉴스 본문 크롤링 진행:  62%|██████▎   | 90/144 [04:22<03:46,  4.20s/it]"
     ]
    },
    {
     "name": "stdout",
     "output_type": "stream",
     "text": [
      "⚠ 본문을 가져오지 못해 Selenium으로 재시도: https://www.dailian.co.kr/news/view/1194257/?sc=Naver\n"
     ]
    },
    {
     "name": "stderr",
     "output_type": "stream",
     "text": [
      "📰 뉴스 본문 크롤링 진행:  63%|██████▎   | 91/144 [04:28<04:11,  4.75s/it]"
     ]
    },
    {
     "name": "stdout",
     "output_type": "stream",
     "text": [
      "⚠ 본문을 가져오지 못해 Selenium으로 재시도: https://www.dnews.co.kr/uhtml/view.jsp?idxno=202301181555126690659\n"
     ]
    },
    {
     "name": "stderr",
     "output_type": "stream",
     "text": [
      "📰 뉴스 본문 크롤링 진행:  64%|██████▍   | 92/144 [04:31<03:48,  4.39s/it]"
     ]
    },
    {
     "name": "stdout",
     "output_type": "stream",
     "text": [
      "⚠ 본문을 가져오지 못해 Selenium으로 재시도: http://www.wsobi.com/news/articleView.html?idxno=187704\n"
     ]
    },
    {
     "name": "stderr",
     "output_type": "stream",
     "text": [
      "📰 뉴스 본문 크롤링 진행:  65%|██████▌   | 94/144 [04:34<02:19,  2.79s/it]"
     ]
    },
    {
     "name": "stdout",
     "output_type": "stream",
     "text": [
      "⚠ 본문을 가져오지 못해 Selenium으로 재시도: http://www.munhwa.com/news/view.html?no=2023010201032005017001\n"
     ]
    },
    {
     "name": "stderr",
     "output_type": "stream",
     "text": [
      "📰 뉴스 본문 크롤링 진행:  67%|██████▋   | 97/144 [04:40<01:29,  1.91s/it]"
     ]
    },
    {
     "name": "stdout",
     "output_type": "stream",
     "text": [
      "⚠ 본문을 가져오지 못해 Selenium으로 재시도: https://www.dnews.co.kr/uhtml/view.jsp?idxno=202303131137447000890\n"
     ]
    },
    {
     "name": "stderr",
     "output_type": "stream",
     "text": [
      "📰 뉴스 본문 크롤링 진행:  69%|██████▉   | 99/144 [04:45<01:27,  1.95s/it]"
     ]
    },
    {
     "name": "stdout",
     "output_type": "stream",
     "text": [
      "⚠ 본문을 가져오지 못해 Selenium으로 재시도: https://www.asiatoday.co.kr/view.php?key=20230206010003066\n"
     ]
    },
    {
     "name": "stderr",
     "output_type": "stream",
     "text": [
      "📰 뉴스 본문 크롤링 진행:  70%|███████   | 101/144 [04:55<02:14,  3.13s/it]"
     ]
    },
    {
     "name": "stdout",
     "output_type": "stream",
     "text": [
      "⚠ 본문을 가져오지 못해 Selenium으로 재시도: http://www.munhwa.com/news/view.html?no=2023011301070505017001\n"
     ]
    },
    {
     "name": "stderr",
     "output_type": "stream",
     "text": [
      "📰 뉴스 본문 크롤링 진행:  72%|███████▏  | 103/144 [05:00<01:46,  2.61s/it]"
     ]
    },
    {
     "name": "stdout",
     "output_type": "stream",
     "text": [
      "⚠ 본문을 가져오지 못해 Selenium으로 재시도: https://www.seoul.co.kr/news/newsView.php?id=20230109023013&wlog_tag3=naver\n"
     ]
    },
    {
     "name": "stderr",
     "output_type": "stream",
     "text": [
      "📰 뉴스 본문 크롤링 진행:  75%|███████▌  | 108/144 [05:06<00:34,  1.05it/s]"
     ]
    },
    {
     "name": "stdout",
     "output_type": "stream",
     "text": [
      "⚠ 본문을 가져오지 못해 Selenium으로 재시도: http://www.metroseoul.co.kr/article/20230323500285\n"
     ]
    },
    {
     "name": "stderr",
     "output_type": "stream",
     "text": [
      "📰 뉴스 본문 크롤링 진행:  76%|███████▌  | 109/144 [05:12<01:26,  2.47s/it]"
     ]
    },
    {
     "name": "stdout",
     "output_type": "stream",
     "text": [
      "⚠ 본문을 가져오지 못해 Selenium으로 재시도: http://www.lawissue.co.kr/view.php?ud=202303231946161481f4ab64559d_12\n"
     ]
    },
    {
     "name": "stderr",
     "output_type": "stream",
     "text": [
      "📰 뉴스 본문 크롤링 진행:  78%|███████▊  | 112/144 [05:20<01:07,  2.12s/it]"
     ]
    },
    {
     "name": "stdout",
     "output_type": "stream",
     "text": [
      "⚠ 본문을 가져오지 못해 Selenium으로 재시도: https://www.dnews.co.kr/uhtml/view.jsp?idxno=202303232118144360284\n"
     ]
    },
    {
     "name": "stderr",
     "output_type": "stream",
     "text": [
      "📰 뉴스 본문 크롤링 진행:  80%|███████▉  | 115/144 [05:26<00:47,  1.63s/it]"
     ]
    },
    {
     "name": "stdout",
     "output_type": "stream",
     "text": [
      "⚠ 본문을 가져오지 못해 Selenium으로 재시도: http://www.kbsm.net/news/view.php?idx=384921\n"
     ]
    },
    {
     "name": "stderr",
     "output_type": "stream",
     "text": [
      "📰 뉴스 본문 크롤링 진행:  81%|████████▏ | 117/144 [05:31<00:50,  1.87s/it]"
     ]
    },
    {
     "name": "stdout",
     "output_type": "stream",
     "text": [
      "⚠ 본문을 가져오지 못해 Selenium으로 재시도: https://www.asiatoday.co.kr/view.php?key=20230213010007081\n"
     ]
    },
    {
     "name": "stderr",
     "output_type": "stream",
     "text": [
      "📰 뉴스 본문 크롤링 진행:  82%|████████▏ | 118/144 [05:37<01:22,  3.19s/it]"
     ]
    },
    {
     "name": "stdout",
     "output_type": "stream",
     "text": [
      "⚠ 본문을 가져오지 못해 Selenium으로 재시도: https://news.imaeil.com/page/view/2023020710321798969\n"
     ]
    },
    {
     "name": "stderr",
     "output_type": "stream",
     "text": [
      "📰 뉴스 본문 크롤링 진행:  84%|████████▍ | 121/144 [05:42<00:41,  1.81s/it]"
     ]
    },
    {
     "name": "stdout",
     "output_type": "stream",
     "text": [
      "⚠ 본문을 가져오지 못해 Selenium으로 재시도: https://www.asiatoday.co.kr/view.php?key=20230213010007081\n"
     ]
    },
    {
     "name": "stderr",
     "output_type": "stream",
     "text": [
      "📰 뉴스 본문 크롤링 진행:  85%|████████▍ | 122/144 [05:51<01:29,  4.08s/it]"
     ]
    },
    {
     "name": "stdout",
     "output_type": "stream",
     "text": [
      "⚠ 본문을 가져오지 못해 Selenium으로 재시도: https://news.imaeil.com/page/view/2023020710321798969\n"
     ]
    },
    {
     "name": "stderr",
     "output_type": "stream",
     "text": [
      "📰 뉴스 본문 크롤링 진행:  87%|████████▋ | 125/144 [05:55<00:39,  2.09s/it]"
     ]
    },
    {
     "name": "stdout",
     "output_type": "stream",
     "text": [
      "⚠ 본문을 가져오지 못해 Selenium으로 재시도: https://www.seoul.co.kr/news/newsView.php?id=20230109001010&wlog_tag3=naver\n"
     ]
    },
    {
     "name": "stderr",
     "output_type": "stream",
     "text": [
      "📰 뉴스 본문 크롤링 진행:  90%|████████▉ | 129/144 [06:03<00:21,  1.47s/it]"
     ]
    },
    {
     "name": "stdout",
     "output_type": "stream",
     "text": [
      "⚠ 본문을 가져오지 못해 Selenium으로 재시도: http://www.naeil.com/news_view/?id_art=450436\n"
     ]
    },
    {
     "name": "stderr",
     "output_type": "stream",
     "text": [
      "📰 뉴스 본문 크롤링 진행:  90%|█████████ | 130/144 [06:09<00:37,  2.71s/it]"
     ]
    },
    {
     "name": "stdout",
     "output_type": "stream",
     "text": [
      "⚠ 본문을 가져오지 못해 Selenium으로 재시도: https://www.munhwa.com/news/view.html?no=2023020601033005017001\n"
     ]
    },
    {
     "name": "stderr",
     "output_type": "stream",
     "text": [
      "📰 뉴스 본문 크롤링 진행:  91%|█████████ | 131/144 [06:15<00:49,  3.78s/it]"
     ]
    },
    {
     "name": "stdout",
     "output_type": "stream",
     "text": [
      "⚠ 본문을 가져오지 못해 Selenium으로 재시도: http://www.g-enews.com/ko-kr/news/article/news_all/2023020215184967607bdb7041ec_1/article.html\n"
     ]
    },
    {
     "name": "stderr",
     "output_type": "stream",
     "text": [
      "📰 뉴스 본문 크롤링 진행:  92%|█████████▏| 133/144 [06:19<00:30,  2.79s/it]"
     ]
    },
    {
     "name": "stdout",
     "output_type": "stream",
     "text": [
      "⚠ 본문을 가져오지 못해 Selenium으로 재시도: https://www.dailian.co.kr/news/view/1194257/?sc=Naver\n"
     ]
    },
    {
     "name": "stderr",
     "output_type": "stream",
     "text": [
      "📰 뉴스 본문 크롤링 진행:  93%|█████████▎| 134/144 [06:26<00:37,  3.80s/it]"
     ]
    },
    {
     "name": "stdout",
     "output_type": "stream",
     "text": [
      "⚠ 본문을 가져오지 못해 Selenium으로 재시도: http://www.wsobi.com/news/articleView.html?idxno=187704\n"
     ]
    },
    {
     "name": "stderr",
     "output_type": "stream",
     "text": [
      "📰 뉴스 본문 크롤링 진행:  94%|█████████▍| 136/144 [06:30<00:21,  2.69s/it]"
     ]
    },
    {
     "name": "stdout",
     "output_type": "stream",
     "text": [
      "⚠ 본문을 가져오지 못해 Selenium으로 재시도: http://www.munhwa.com/news/view.html?no=2023010201032005017001\n"
     ]
    },
    {
     "name": "stderr",
     "output_type": "stream",
     "text": [
      "📰 뉴스 본문 크롤링 진행:  97%|█████████▋| 139/144 [06:35<00:09,  1.86s/it]"
     ]
    },
    {
     "name": "stdout",
     "output_type": "stream",
     "text": [
      "⚠ 본문을 가져오지 못해 Selenium으로 재시도: https://www.dnews.co.kr/uhtml/view.jsp?idxno=202303131137447000890\n"
     ]
    },
    {
     "name": "stderr",
     "output_type": "stream",
     "text": [
      "📰 뉴스 본문 크롤링 진행:  98%|█████████▊| 141/144 [06:40<00:05,  1.98s/it]"
     ]
    },
    {
     "name": "stdout",
     "output_type": "stream",
     "text": [
      "⚠ 본문을 가져오지 못해 Selenium으로 재시도: https://www.dnews.co.kr/uhtml/view.jsp?idxno=202303131137447000890\n"
     ]
    },
    {
     "name": "stderr",
     "output_type": "stream",
     "text": [
      "📰 뉴스 본문 크롤링 진행:  99%|█████████▉| 143/144 [06:45<00:01,  1.90s/it]"
     ]
    },
    {
     "name": "stdout",
     "output_type": "stream",
     "text": [
      "⚠ 본문을 가져오지 못해 Selenium으로 재시도: https://www.asiatoday.co.kr/view.php?key=20230206010003066\n"
     ]
    },
    {
     "name": "stderr",
     "output_type": "stream",
     "text": [
      "📰 뉴스 본문 크롤링 진행: 100%|██████████| 144/144 [06:52<00:00,  2.86s/it]\n"
     ]
    },
    {
     "name": "stdout",
     "output_type": "stream",
     "text": [
      "✅ 2023.01.01 ~ 2023.03.31 크롤링 완료!\n",
      "🔍 검색 중: 두코바니 원전 (2023.04.01 ~ 2023.06.30)\n",
      "✅ 115개의 뉴스 기사 링크 및 날짜를 수집 완료! (2023.04.01 ~ 2023.06.30)\n"
     ]
    },
    {
     "name": "stderr",
     "output_type": "stream",
     "text": [
      "📰 뉴스 본문 크롤링 진행:   0%|          | 0/115 [00:00<?, ?it/s]"
     ]
    },
    {
     "name": "stdout",
     "output_type": "stream",
     "text": [
      "⚠ 본문을 가져오지 못해 Selenium으로 재시도: https://www.chosun.com/economy/industry-company/2023/06/27/LSGXGB4Q25AM5MO55B77K3647M/?utm_source=naver&utm_medium=referral&utm_campaign=naver-news\n"
     ]
    },
    {
     "name": "stderr",
     "output_type": "stream",
     "text": [
      "📰 뉴스 본문 크롤링 진행:   3%|▎         | 4/115 [00:08<02:21,  1.27s/it]"
     ]
    },
    {
     "name": "stdout",
     "output_type": "stream",
     "text": [
      "⚠ 본문을 가져오지 못해 Selenium으로 재시도: https://www.theguru.co.kr/news/article.html?no=56063\n"
     ]
    },
    {
     "name": "stderr",
     "output_type": "stream",
     "text": [
      "📰 뉴스 본문 크롤링 진행:   4%|▍         | 5/115 [00:13<04:59,  2.73s/it]"
     ]
    },
    {
     "name": "stdout",
     "output_type": "stream",
     "text": [
      "⚠ 본문을 가져오지 못해 Selenium으로 재시도: https://www.viva100.com/main/view.php?key=20230629010008575\n"
     ]
    },
    {
     "name": "stderr",
     "output_type": "stream",
     "text": [
      "📰 뉴스 본문 크롤링 진행:  10%|▉         | 11/115 [00:19<01:19,  1.30it/s]"
     ]
    },
    {
     "name": "stdout",
     "output_type": "stream",
     "text": [
      "⚠ 본문을 가져오지 못해 Selenium으로 재시도: https://www.munhwa.com/news/view.html?no=2023060901071405017002\n"
     ]
    },
    {
     "name": "stderr",
     "output_type": "stream",
     "text": [
      "📰 뉴스 본문 크롤링 진행:  12%|█▏        | 14/115 [00:25<02:01,  1.20s/it]"
     ]
    },
    {
     "name": "stdout",
     "output_type": "stream",
     "text": [
      "⚠ 본문을 가져오지 못해 Selenium으로 재시도: https://www.natv.go.kr/natv/news/newsView.do?newsId=506453\n"
     ]
    },
    {
     "name": "stderr",
     "output_type": "stream",
     "text": [
      "📰 뉴스 본문 크롤링 진행:  13%|█▎        | 15/115 [00:31<04:35,  2.75s/it]"
     ]
    },
    {
     "name": "stdout",
     "output_type": "stream",
     "text": [
      "⚠ 본문을 가져오지 못해 Selenium으로 재시도: https://www.theguru.co.kr/news/article.html?no=55224\n"
     ]
    },
    {
     "name": "stderr",
     "output_type": "stream",
     "text": [
      "📰 뉴스 본문 크롤링 진행:  14%|█▍        | 16/115 [00:35<05:01,  3.04s/it]"
     ]
    },
    {
     "name": "stdout",
     "output_type": "stream",
     "text": [
      "⚠ 본문을 가져오지 못해 Selenium으로 재시도: https://www.theguru.co.kr/news/article.html?no=54733\n"
     ]
    },
    {
     "name": "stderr",
     "output_type": "stream",
     "text": [
      "📰 뉴스 본문 크롤링 진행:  16%|█▌        | 18/115 [00:40<04:21,  2.70s/it]"
     ]
    },
    {
     "name": "stdout",
     "output_type": "stream",
     "text": [
      "⚠ 본문을 가져오지 못해 Selenium으로 재시도: https://www.theguru.co.kr/news/article.html?no=53054\n"
     ]
    },
    {
     "name": "stderr",
     "output_type": "stream",
     "text": [
      "📰 뉴스 본문 크롤링 진행:  20%|██        | 23/115 [00:47<01:45,  1.15s/it]"
     ]
    },
    {
     "name": "stdout",
     "output_type": "stream",
     "text": [
      "⚠ 본문을 가져오지 못해 Selenium으로 재시도: https://www.theguru.co.kr/news/article.html?no=52226\n"
     ]
    },
    {
     "name": "stderr",
     "output_type": "stream",
     "text": [
      "📰 뉴스 본문 크롤링 진행:  21%|██        | 24/115 [00:51<02:56,  1.94s/it]"
     ]
    },
    {
     "name": "stdout",
     "output_type": "stream",
     "text": [
      "⚠ 본문을 가져오지 못해 Selenium으로 재시도: https://www.mk.co.kr/article/10723659\n"
     ]
    },
    {
     "name": "stderr",
     "output_type": "stream",
     "text": [
      "📰 뉴스 본문 크롤링 진행:  23%|██▎       | 27/115 [00:57<02:23,  1.64s/it]"
     ]
    },
    {
     "name": "stdout",
     "output_type": "stream",
     "text": [
      "⚠ 본문을 가져오지 못해 Selenium으로 재시도: https://www.munhwa.com/news/view.html?no=2023040501071405017001\n"
     ]
    },
    {
     "name": "stderr",
     "output_type": "stream",
     "text": [
      "📰 뉴스 본문 크롤링 진행:  25%|██▌       | 29/115 [01:04<03:06,  2.17s/it]"
     ]
    },
    {
     "name": "stdout",
     "output_type": "stream",
     "text": [
      "⚠ 본문을 가져오지 못해 Selenium으로 재시도: https://www.dnews.co.kr/uhtml/view.jsp?idxno=202304181854511040771\n"
     ]
    },
    {
     "name": "stderr",
     "output_type": "stream",
     "text": [
      "📰 뉴스 본문 크롤링 진행:  26%|██▌       | 30/115 [01:08<04:08,  2.93s/it]"
     ]
    },
    {
     "name": "stdout",
     "output_type": "stream",
     "text": [
      "⚠ 본문을 가져오지 못해 Selenium으로 재시도: https://www.munhwa.com/news/view.html?no=2023042201039910017001\n"
     ]
    },
    {
     "name": "stderr",
     "output_type": "stream",
     "text": [
      "📰 뉴스 본문 크롤링 진행:  27%|██▋       | 31/115 [01:13<04:37,  3.30s/it]"
     ]
    },
    {
     "name": "stdout",
     "output_type": "stream",
     "text": [
      "⚠ 본문을 가져오지 못해 Selenium으로 재시도: https://www.chosun.com/economy/industry-company/2023/04/05/JGCMJ7RFRZEVXHQJMZQXOWBRTE/?utm_source=naver&utm_medium=referral&utm_campaign=naver-news\n"
     ]
    },
    {
     "name": "stderr",
     "output_type": "stream",
     "text": [
      "📰 뉴스 본문 크롤링 진행:  28%|██▊       | 32/115 [01:20<06:19,  4.58s/it]"
     ]
    },
    {
     "name": "stdout",
     "output_type": "stream",
     "text": [
      "⚠ 본문을 가져오지 못해 Selenium으로 재시도: https://www.munhwa.com/news/view.html?no=2023041201032005017001\n"
     ]
    },
    {
     "name": "stderr",
     "output_type": "stream",
     "text": [
      "📰 뉴스 본문 크롤링 진행:  30%|██▉       | 34/115 [01:24<04:09,  3.08s/it]"
     ]
    },
    {
     "name": "stdout",
     "output_type": "stream",
     "text": [
      "⚠ 본문을 가져오지 못해 Selenium으로 재시도: https://www.munhwa.com/news/view.html?no=2023040301031805017002\n"
     ]
    },
    {
     "name": "stderr",
     "output_type": "stream",
     "text": [
      "📰 뉴스 본문 크롤링 진행:  30%|███       | 35/115 [01:28<04:23,  3.30s/it]"
     ]
    },
    {
     "name": "stdout",
     "output_type": "stream",
     "text": [
      "⚠ 본문을 가져오지 못해 Selenium으로 재시도: https://www.theguru.co.kr/news/article.html?no=52141\n"
     ]
    },
    {
     "name": "stderr",
     "output_type": "stream",
     "text": [
      "📰 뉴스 본문 크롤링 진행:  41%|████      | 47/115 [01:38<00:32,  2.07it/s]"
     ]
    },
    {
     "name": "stdout",
     "output_type": "stream",
     "text": [
      "⚠ 본문을 가져오지 못해 Selenium으로 재시도: https://www.theguru.co.kr/news/article.html?no=52268\n"
     ]
    },
    {
     "name": "stderr",
     "output_type": "stream",
     "text": [
      "📰 뉴스 본문 크롤링 진행:  48%|████▊     | 55/115 [01:45<00:26,  2.27it/s]"
     ]
    },
    {
     "name": "stdout",
     "output_type": "stream",
     "text": [
      "⚠ 본문을 가져오지 못해 Selenium으로 재시도: https://www.theguru.co.kr/news/article.html?no=52268\n"
     ]
    },
    {
     "name": "stderr",
     "output_type": "stream",
     "text": [
      "📰 뉴스 본문 크롤링 진행:  57%|█████▋    | 65/115 [01:52<00:20,  2.45it/s]"
     ]
    },
    {
     "name": "stdout",
     "output_type": "stream",
     "text": [
      "⚠ 본문을 가져오지 못해 Selenium으로 재시도: https://www.theguru.co.kr/news/article.html?no=52268\n"
     ]
    },
    {
     "name": "stderr",
     "output_type": "stream",
     "text": [
      "📰 뉴스 본문 크롤링 진행:  65%|██████▌   | 75/115 [01:59<00:15,  2.51it/s]"
     ]
    },
    {
     "name": "stdout",
     "output_type": "stream",
     "text": [
      "⚠ 본문을 가져오지 못해 Selenium으로 재시도: https://www.theguru.co.kr/news/article.html?no=52268\n"
     ]
    },
    {
     "name": "stderr",
     "output_type": "stream",
     "text": [
      "📰 뉴스 본문 크롤링 진행:  74%|███████▍  | 85/115 [02:06<00:12,  2.43it/s]"
     ]
    },
    {
     "name": "stdout",
     "output_type": "stream",
     "text": [
      "⚠ 본문을 가져오지 못해 Selenium으로 재시도: https://www.theguru.co.kr/news/article.html?no=52268\n"
     ]
    },
    {
     "name": "stderr",
     "output_type": "stream",
     "text": [
      "📰 뉴스 본문 크롤링 진행:  83%|████████▎ | 95/115 [02:13<00:06,  2.94it/s]"
     ]
    },
    {
     "name": "stdout",
     "output_type": "stream",
     "text": [
      "⚠ 본문을 가져오지 못해 Selenium으로 재시도: https://www.theguru.co.kr/news/article.html?no=52268\n"
     ]
    },
    {
     "name": "stderr",
     "output_type": "stream",
     "text": [
      "📰 뉴스 본문 크롤링 진행:  92%|█████████▏| 106/115 [02:20<00:03,  2.89it/s]"
     ]
    },
    {
     "name": "stdout",
     "output_type": "stream",
     "text": [
      "⚠ 본문을 가져오지 못해 Selenium으로 재시도: https://www.theguru.co.kr/news/article.html?no=52268\n"
     ]
    },
    {
     "name": "stderr",
     "output_type": "stream",
     "text": [
      "📰 뉴스 본문 크롤링 진행:  96%|█████████▌| 110/115 [02:26<00:03,  1.28it/s]"
     ]
    },
    {
     "name": "stdout",
     "output_type": "stream",
     "text": [
      "⚠ 본문을 가져오지 못해 Selenium으로 재시도: https://www.theguru.co.kr/news/article.html?no=52268\n"
     ]
    },
    {
     "name": "stderr",
     "output_type": "stream",
     "text": [
      "📰 뉴스 본문 크롤링 진행: 100%|██████████| 115/115 [02:32<00:00,  1.33s/it]\n"
     ]
    },
    {
     "name": "stdout",
     "output_type": "stream",
     "text": [
      "✅ 2023.04.01 ~ 2023.06.30 크롤링 완료!\n",
      "🔍 검색 중: 두코바니 원전 (2023.07.01 ~ 2023.09.30)\n",
      "✅ 162개의 뉴스 기사 링크 및 날짜를 수집 완료! (2023.07.01 ~ 2023.09.30)\n"
     ]
    },
    {
     "name": "stderr",
     "output_type": "stream",
     "text": [
      "📰 뉴스 본문 크롤링 진행:   0%|          | 0/162 [00:00<?, ?it/s]"
     ]
    },
    {
     "name": "stdout",
     "output_type": "stream",
     "text": [
      "⚠ 본문을 가져오지 못해 Selenium으로 재시도: https://biz.chosun.com/policy/politics/2023/09/19/QCU4RTJWCJHEHKY3JCJ3LJL3ZE/?utm_source=naver&utm_medium=original&utm_campaign=biz\n"
     ]
    },
    {
     "name": "stderr",
     "output_type": "stream",
     "text": [
      "📰 뉴스 본문 크롤링 진행:   2%|▏         | 3/162 [00:13<11:58,  4.52s/it]"
     ]
    },
    {
     "name": "stdout",
     "output_type": "stream",
     "text": [
      "⚠ 본문을 가져오지 못해 Selenium으로 재시도: https://www.mk.co.kr/article/10833375\n"
     ]
    },
    {
     "name": "stderr",
     "output_type": "stream",
     "text": [
      "📰 뉴스 본문 크롤링 진행:   4%|▎         | 6/162 [00:18<05:19,  2.05s/it]"
     ]
    },
    {
     "name": "stdout",
     "output_type": "stream",
     "text": [
      "⚠ 본문을 가져오지 못해 Selenium으로 재시도: https://www.theguru.co.kr/news/article.html?no=60147\n"
     ]
    },
    {
     "name": "stderr",
     "output_type": "stream",
     "text": [
      "📰 뉴스 본문 크롤링 진행:   6%|▌         | 9/162 [00:24<04:12,  1.65s/it]"
     ]
    },
    {
     "name": "stdout",
     "output_type": "stream",
     "text": [
      "⚠ 본문을 가져오지 못해 Selenium으로 재시도: http://www.breaknews.com/988278\n"
     ]
    },
    {
     "name": "stderr",
     "output_type": "stream",
     "text": [
      "📰 뉴스 본문 크롤링 진행:   7%|▋         | 11/162 [00:32<06:27,  2.56s/it]"
     ]
    },
    {
     "name": "stdout",
     "output_type": "stream",
     "text": [
      "⚠ 본문을 가져오지 못해 Selenium으로 재시도: https://www.munhwa.com/news/view.html?no=2023090601070205017001\n"
     ]
    },
    {
     "name": "stderr",
     "output_type": "stream",
     "text": [
      "📰 뉴스 본문 크롤링 진행:   8%|▊         | 13/162 [00:36<05:21,  2.16s/it]"
     ]
    },
    {
     "name": "stdout",
     "output_type": "stream",
     "text": [
      "⚠ 본문을 가져오지 못해 Selenium으로 재시도: https://www.theguru.co.kr/news/article.html?no=58717\n"
     ]
    },
    {
     "name": "stderr",
     "output_type": "stream",
     "text": [
      "📰 뉴스 본문 크롤링 진행:   9%|▉         | 15/162 [00:40<04:49,  1.97s/it]"
     ]
    },
    {
     "name": "stdout",
     "output_type": "stream",
     "text": [
      "⚠ 본문을 가져오지 못해 Selenium으로 재시도: https://www.munhwa.com/news/view.html?no=2023082801031805017004\n"
     ]
    },
    {
     "name": "stderr",
     "output_type": "stream",
     "text": [
      "📰 뉴스 본문 크롤링 진행:  10%|▉         | 16/162 [00:44<06:29,  2.67s/it]"
     ]
    },
    {
     "name": "stdout",
     "output_type": "stream",
     "text": [
      "⚠ 본문을 가져오지 못해 Selenium으로 재시도: https://www.theguru.co.kr/news/article.html?no=59092\n"
     ]
    },
    {
     "name": "stderr",
     "output_type": "stream",
     "text": [
      "📰 뉴스 본문 크롤링 진행:  10%|█         | 17/162 [00:49<07:38,  3.17s/it]"
     ]
    },
    {
     "name": "stdout",
     "output_type": "stream",
     "text": [
      "⚠ 본문을 가져오지 못해 Selenium으로 재시도: https://www.theguru.co.kr/news/article.html?no=59009\n"
     ]
    },
    {
     "name": "stderr",
     "output_type": "stream",
     "text": [
      "📰 뉴스 본문 크롤링 진행:  12%|█▏        | 20/162 [00:52<04:01,  1.70s/it]"
     ]
    },
    {
     "name": "stdout",
     "output_type": "stream",
     "text": [
      "⚠ 본문을 가져오지 못해 Selenium으로 재시도: https://www.theguru.co.kr/news/article.html?no=57917\n"
     ]
    },
    {
     "name": "stderr",
     "output_type": "stream",
     "text": [
      "📰 뉴스 본문 크롤링 진행:  14%|█▎        | 22/162 [00:57<04:23,  1.88s/it]"
     ]
    },
    {
     "name": "stdout",
     "output_type": "stream",
     "text": [
      "⚠ 본문을 가져오지 못해 Selenium으로 재시도: https://www.mk.co.kr/article/10807829\n"
     ]
    },
    {
     "name": "stderr",
     "output_type": "stream",
     "text": [
      "📰 뉴스 본문 크롤링 진행:  14%|█▍        | 23/162 [01:03<07:05,  3.06s/it]"
     ]
    },
    {
     "name": "stdout",
     "output_type": "stream",
     "text": [
      "⚠ 본문을 가져오지 못해 Selenium으로 재시도: https://www.theguru.co.kr/news/article.html?no=56888\n"
     ]
    },
    {
     "name": "stderr",
     "output_type": "stream",
     "text": [
      "📰 뉴스 본문 크롤링 진행:  15%|█▍        | 24/162 [01:08<08:26,  3.67s/it]"
     ]
    },
    {
     "name": "stdout",
     "output_type": "stream",
     "text": [
      "⚠ 본문을 가져오지 못해 Selenium으로 재시도: https://www.mk.co.kr/article/10801923\n"
     ]
    },
    {
     "name": "stderr",
     "output_type": "stream",
     "text": [
      "📰 뉴스 본문 크롤링 진행:  16%|█▌        | 26/162 [01:13<06:29,  2.86s/it]"
     ]
    },
    {
     "name": "stdout",
     "output_type": "stream",
     "text": [
      "⚠ 본문을 가져오지 못해 Selenium으로 재시도: https://www.mk.co.kr/article/10833376\n"
     ]
    },
    {
     "name": "stderr",
     "output_type": "stream",
     "text": [
      "📰 뉴스 본문 크롤링 진행:  17%|█▋        | 27/162 [01:18<07:56,  3.53s/it]"
     ]
    },
    {
     "name": "stdout",
     "output_type": "stream",
     "text": [
      "⚠ 본문을 가져오지 못해 Selenium으로 재시도: https://www.hankookilbo.com/News/Read/A2023091905130004474?did=NA\n"
     ]
    },
    {
     "name": "stderr",
     "output_type": "stream",
     "text": [
      "📰 뉴스 본문 크롤링 진행:  17%|█▋        | 28/162 [01:28<12:39,  5.67s/it]"
     ]
    },
    {
     "name": "stdout",
     "output_type": "stream",
     "text": [
      "⚠ 본문을 가져오지 못해 Selenium으로 재시도: https://news.kbs.co.kr/news/view.do?ncd=7776847&ref=A\n"
     ]
    },
    {
     "name": "stderr",
     "output_type": "stream",
     "text": [
      "📰 뉴스 본문 크롤링 진행:  19%|█▊        | 30/162 [01:32<08:00,  3.64s/it]"
     ]
    },
    {
     "name": "stdout",
     "output_type": "stream",
     "text": [
      "⚠ 본문을 가져오지 못해 Selenium으로 재시도: http://www.wowtv.co.kr/NewsCenter/News/Read?articleId=A202309220191&t=NN\n"
     ]
    },
    {
     "name": "stderr",
     "output_type": "stream",
     "text": [
      "📰 뉴스 본문 크롤링 진행:  19%|█▉        | 31/162 [01:43<12:40,  5.80s/it]"
     ]
    },
    {
     "name": "stdout",
     "output_type": "stream",
     "text": [
      "⚠ 본문을 가져오지 못해 Selenium으로 재시도: https://www.dailian.co.kr/news/view/1275197/?sc=Naver\n"
     ]
    },
    {
     "name": "stderr",
     "output_type": "stream",
     "text": [
      "📰 뉴스 본문 크롤링 진행:  21%|██        | 34/162 [01:49<06:01,  2.82s/it]"
     ]
    },
    {
     "name": "stdout",
     "output_type": "stream",
     "text": [
      "⚠ 본문을 가져오지 못해 Selenium으로 재시도: https://www.asiatoday.co.kr/view.php?key=20230922010014062\n"
     ]
    },
    {
     "name": "stderr",
     "output_type": "stream",
     "text": [
      "📰 뉴스 본문 크롤링 진행:  22%|██▏       | 36/162 [01:54<05:26,  2.59s/it]"
     ]
    },
    {
     "name": "stdout",
     "output_type": "stream",
     "text": [
      "⚠ 본문을 가져오지 못해 Selenium으로 재시도: http://www.kookje.co.kr/news2011/asp/newsbody.asp?code=0200&key=20230829.99099009264\n"
     ]
    },
    {
     "name": "stderr",
     "output_type": "stream",
     "text": [
      "📰 뉴스 본문 크롤링 진행:  23%|██▎       | 37/162 [01:57<05:44,  2.75s/it]"
     ]
    },
    {
     "name": "stdout",
     "output_type": "stream",
     "text": [
      "⚠ 본문을 가져오지 못해 Selenium으로 재시도: https://www.asiatoday.co.kr/view.php?key=20230922010014065\n"
     ]
    },
    {
     "name": "stderr",
     "output_type": "stream",
     "text": [
      "📰 뉴스 본문 크롤링 진행:  25%|██▍       | 40/162 [02:07<04:53,  2.40s/it]"
     ]
    },
    {
     "name": "stdout",
     "output_type": "stream",
     "text": [
      "⚠ 본문을 가져오지 못해 Selenium으로 재시도: http://www.g-enews.com/ko-kr/news/article/news_all/2023082415165497290e6e8fd97b_1/article.html\n"
     ]
    },
    {
     "name": "stderr",
     "output_type": "stream",
     "text": [
      "📰 뉴스 본문 크롤링 진행:  25%|██▌       | 41/162 [02:11<06:06,  3.03s/it]"
     ]
    },
    {
     "name": "stdout",
     "output_type": "stream",
     "text": [
      "⚠ 본문을 가져오지 못해 Selenium으로 재시도: http://www.ksmnews.co.kr/default/index_view_page.php?idx=443969&part_idx=238\n"
     ]
    },
    {
     "name": "stderr",
     "output_type": "stream",
     "text": [
      "📰 뉴스 본문 크롤링 진행:  26%|██▌       | 42/162 [02:16<06:58,  3.49s/it]"
     ]
    },
    {
     "name": "stdout",
     "output_type": "stream",
     "text": [
      "⚠ 본문을 가져오지 못해 Selenium으로 재시도: https://www.wowtv.co.kr/NewsCenter/News/Read?articleId=A202307170148&t=NNv\n"
     ]
    },
    {
     "name": "stderr",
     "output_type": "stream",
     "text": [
      "📰 뉴스 본문 크롤링 진행:  28%|██▊       | 45/162 [02:32<06:55,  3.55s/it]"
     ]
    },
    {
     "name": "stdout",
     "output_type": "stream",
     "text": [
      "⚠ 본문을 가져오지 못해 Selenium으로 재시도: https://www.asiatoday.co.kr/view.php?key=20230829010015693\n"
     ]
    },
    {
     "name": "stderr",
     "output_type": "stream",
     "text": [
      "📰 뉴스 본문 크롤링 진행:  29%|██▉       | 47/162 [02:38<06:01,  3.14s/it]"
     ]
    },
    {
     "name": "stdout",
     "output_type": "stream",
     "text": [
      "⚠ 본문을 가져오지 못해 Selenium으로 재시도: https://www.businesspost.co.kr/BP?command=article_view&num=323757\n"
     ]
    },
    {
     "name": "stderr",
     "output_type": "stream",
     "text": [
      "📰 뉴스 본문 크롤링 진행:  30%|███       | 49/162 [02:42<04:38,  2.47s/it]"
     ]
    },
    {
     "name": "stdout",
     "output_type": "stream",
     "text": [
      "⚠ 본문을 가져오지 못해 Selenium으로 재시도: http://www.naeil.com/news_view/?id_art=466843\n"
     ]
    },
    {
     "name": "stderr",
     "output_type": "stream",
     "text": [
      "📰 뉴스 본문 크롤링 진행:  31%|███       | 50/162 [02:48<06:33,  3.52s/it]"
     ]
    },
    {
     "name": "stdout",
     "output_type": "stream",
     "text": [
      "⚠ 오류 발생 (뉴스 크롤링 실패, 1/3): http://www.sentv.co.kr/news/view/666666, 오류: HTTPSConnectionPool(host='www.sentv.co.kr', port=443): Max retries exceeded with url: /news/view/666666 (Caused by SSLError(SSLCertVerificationError(1, '[SSL: CERTIFICATE_VERIFY_FAILED] certificate verify failed: unable to get local issuer certificate (_ssl.c:1000)')))\n",
      "⚠ 오류 발생 (뉴스 크롤링 실패, 2/3): http://www.sentv.co.kr/news/view/666666, 오류: HTTPSConnectionPool(host='www.sentv.co.kr', port=443): Max retries exceeded with url: /news/view/666666 (Caused by SSLError(SSLCertVerificationError(1, '[SSL: CERTIFICATE_VERIFY_FAILED] certificate verify failed: unable to get local issuer certificate (_ssl.c:1000)')))\n",
      "⚠ 오류 발생 (뉴스 크롤링 실패, 3/3): http://www.sentv.co.kr/news/view/666666, 오류: HTTPSConnectionPool(host='www.sentv.co.kr', port=443): Max retries exceeded with url: /news/view/666666 (Caused by SSLError(SSLCertVerificationError(1, '[SSL: CERTIFICATE_VERIFY_FAILED] certificate verify failed: unable to get local issuer certificate (_ssl.c:1000)')))\n"
     ]
    },
    {
     "name": "stderr",
     "output_type": "stream",
     "text": [
      "📰 뉴스 본문 크롤링 진행:  34%|███▍      | 55/162 [03:02<02:58,  1.67s/it]"
     ]
    },
    {
     "name": "stdout",
     "output_type": "stream",
     "text": [
      "⚠ 본문을 가져오지 못해 Selenium으로 재시도: https://www.asiatoday.co.kr/view.php?key=20230829010015693\n"
     ]
    },
    {
     "name": "stderr",
     "output_type": "stream",
     "text": [
      "📰 뉴스 본문 크롤링 진행:  35%|███▌      | 57/162 [03:07<03:12,  1.83s/it]"
     ]
    },
    {
     "name": "stdout",
     "output_type": "stream",
     "text": [
      "⚠ 본문을 가져오지 못해 Selenium으로 재시도: https://www.businesspost.co.kr/BP?command=article_view&num=323757\n"
     ]
    },
    {
     "name": "stderr",
     "output_type": "stream",
     "text": [
      "📰 뉴스 본문 크롤링 진행:  36%|███▋      | 59/162 [03:10<02:45,  1.61s/it]"
     ]
    },
    {
     "name": "stdout",
     "output_type": "stream",
     "text": [
      "⚠ 본문을 가져오지 못해 Selenium으로 재시도: http://www.naeil.com/news_view/?id_art=466843\n"
     ]
    },
    {
     "name": "stderr",
     "output_type": "stream",
     "text": [
      "📰 뉴스 본문 크롤링 진행:  38%|███▊      | 62/162 [03:14<02:06,  1.27s/it]"
     ]
    },
    {
     "name": "stdout",
     "output_type": "stream",
     "text": [
      "⚠ 오류 발생 (뉴스 크롤링 실패, 1/3): http://www.sentv.co.kr/news/view/666666, 오류: HTTPSConnectionPool(host='www.sentv.co.kr', port=443): Max retries exceeded with url: /news/view/666666 (Caused by SSLError(SSLCertVerificationError(1, '[SSL: CERTIFICATE_VERIFY_FAILED] certificate verify failed: unable to get local issuer certificate (_ssl.c:1000)')))\n",
      "⚠ 오류 발생 (뉴스 크롤링 실패, 2/3): http://www.sentv.co.kr/news/view/666666, 오류: HTTPSConnectionPool(host='www.sentv.co.kr', port=443): Max retries exceeded with url: /news/view/666666 (Caused by SSLError(SSLCertVerificationError(1, '[SSL: CERTIFICATE_VERIFY_FAILED] certificate verify failed: unable to get local issuer certificate (_ssl.c:1000)')))\n",
      "⚠ 오류 발생 (뉴스 크롤링 실패, 3/3): http://www.sentv.co.kr/news/view/666666, 오류: HTTPSConnectionPool(host='www.sentv.co.kr', port=443): Max retries exceeded with url: /news/view/666666 (Caused by SSLError(SSLCertVerificationError(1, '[SSL: CERTIFICATE_VERIFY_FAILED] certificate verify failed: unable to get local issuer certificate (_ssl.c:1000)')))\n"
     ]
    },
    {
     "name": "stderr",
     "output_type": "stream",
     "text": [
      "📰 뉴스 본문 크롤링 진행:  40%|████      | 65/162 [03:27<03:52,  2.40s/it]"
     ]
    },
    {
     "name": "stdout",
     "output_type": "stream",
     "text": [
      "⚠ 본문을 가져오지 못해 Selenium으로 재시도: https://www.asiatoday.co.kr/view.php?key=20230829010015693\n"
     ]
    },
    {
     "name": "stderr",
     "output_type": "stream",
     "text": [
      "📰 뉴스 본문 크롤링 진행:  41%|████▏     | 67/162 [03:32<03:21,  2.13s/it]"
     ]
    },
    {
     "name": "stdout",
     "output_type": "stream",
     "text": [
      "⚠ 본문을 가져오지 못해 Selenium으로 재시도: https://www.businesspost.co.kr/BP?command=article_view&num=323757\n"
     ]
    },
    {
     "name": "stderr",
     "output_type": "stream",
     "text": [
      "📰 뉴스 본문 크롤링 진행:  43%|████▎     | 69/162 [03:36<03:07,  2.02s/it]"
     ]
    },
    {
     "name": "stdout",
     "output_type": "stream",
     "text": [
      "⚠ 본문을 가져오지 못해 Selenium으로 재시도: http://www.naeil.com/news_view/?id_art=466843\n"
     ]
    },
    {
     "name": "stderr",
     "output_type": "stream",
     "text": [
      "📰 뉴스 본문 크롤링 진행:  43%|████▎     | 70/162 [03:41<04:13,  2.75s/it]"
     ]
    },
    {
     "name": "stdout",
     "output_type": "stream",
     "text": [
      "⚠ 오류 발생 (뉴스 크롤링 실패, 1/3): http://www.sentv.co.kr/news/view/666666, 오류: HTTPSConnectionPool(host='www.sentv.co.kr', port=443): Max retries exceeded with url: /news/view/666666 (Caused by SSLError(SSLCertVerificationError(1, '[SSL: CERTIFICATE_VERIFY_FAILED] certificate verify failed: unable to get local issuer certificate (_ssl.c:1000)')))\n",
      "⚠ 오류 발생 (뉴스 크롤링 실패, 2/3): http://www.sentv.co.kr/news/view/666666, 오류: HTTPSConnectionPool(host='www.sentv.co.kr', port=443): Max retries exceeded with url: /news/view/666666 (Caused by SSLError(SSLCertVerificationError(1, '[SSL: CERTIFICATE_VERIFY_FAILED] certificate verify failed: unable to get local issuer certificate (_ssl.c:1000)')))\n",
      "⚠ 오류 발생 (뉴스 크롤링 실패, 3/3): http://www.sentv.co.kr/news/view/666666, 오류: HTTPSConnectionPool(host='www.sentv.co.kr', port=443): Max retries exceeded with url: /news/view/666666 (Caused by SSLError(SSLCertVerificationError(1, '[SSL: CERTIFICATE_VERIFY_FAILED] certificate verify failed: unable to get local issuer certificate (_ssl.c:1000)')))\n"
     ]
    },
    {
     "name": "stderr",
     "output_type": "stream",
     "text": [
      "📰 뉴스 본문 크롤링 진행:  46%|████▋     | 75/162 [03:57<02:27,  1.69s/it]"
     ]
    },
    {
     "name": "stdout",
     "output_type": "stream",
     "text": [
      "⚠ 본문을 가져오지 못해 Selenium으로 재시도: https://www.asiatoday.co.kr/view.php?key=20230829010015693\n"
     ]
    },
    {
     "name": "stderr",
     "output_type": "stream",
     "text": [
      "📰 뉴스 본문 크롤링 진행:  48%|████▊     | 77/162 [04:03<03:03,  2.16s/it]"
     ]
    },
    {
     "name": "stdout",
     "output_type": "stream",
     "text": [
      "⚠ 본문을 가져오지 못해 Selenium으로 재시도: https://www.businesspost.co.kr/BP?command=article_view&num=323757\n"
     ]
    },
    {
     "name": "stderr",
     "output_type": "stream",
     "text": [
      "📰 뉴스 본문 크롤링 진행:  49%|████▉     | 79/162 [04:08<02:54,  2.10s/it]"
     ]
    },
    {
     "name": "stdout",
     "output_type": "stream",
     "text": [
      "⚠ 본문을 가져오지 못해 Selenium으로 재시도: http://www.naeil.com/news_view/?id_art=466843\n"
     ]
    },
    {
     "name": "stderr",
     "output_type": "stream",
     "text": [
      "📰 뉴스 본문 크롤링 진행:  51%|█████     | 83/162 [04:14<01:40,  1.27s/it]"
     ]
    },
    {
     "name": "stdout",
     "output_type": "stream",
     "text": [
      "⚠ 본문을 가져오지 못해 Selenium으로 재시도: http://www.fnnews.com/news/202308291537206084\n"
     ]
    },
    {
     "name": "stderr",
     "output_type": "stream",
     "text": [
      "📰 뉴스 본문 크롤링 진행:  52%|█████▏    | 85/162 [04:21<02:43,  2.12s/it]"
     ]
    },
    {
     "name": "stdout",
     "output_type": "stream",
     "text": [
      "⚠ 본문을 가져오지 못해 Selenium으로 재시도: https://www.asiatoday.co.kr/view.php?key=20230829010015693\n"
     ]
    },
    {
     "name": "stderr",
     "output_type": "stream",
     "text": [
      "📰 뉴스 본문 크롤링 진행:  54%|█████▎    | 87/162 [04:30<03:37,  2.91s/it]"
     ]
    },
    {
     "name": "stdout",
     "output_type": "stream",
     "text": [
      "⚠ 본문을 가져오지 못해 Selenium으로 재시도: https://www.businesspost.co.kr/BP?command=article_view&num=323757\n"
     ]
    },
    {
     "name": "stderr",
     "output_type": "stream",
     "text": [
      "📰 뉴스 본문 크롤링 진행:  55%|█████▍    | 89/162 [04:33<02:32,  2.09s/it]"
     ]
    },
    {
     "name": "stdout",
     "output_type": "stream",
     "text": [
      "⚠ 본문을 가져오지 못해 Selenium으로 재시도: http://www.naeil.com/news_view/?id_art=466843\n"
     ]
    },
    {
     "name": "stderr",
     "output_type": "stream",
     "text": [
      "📰 뉴스 본문 크롤링 진행:  56%|█████▌    | 91/162 [04:37<02:14,  1.90s/it]"
     ]
    },
    {
     "name": "stdout",
     "output_type": "stream",
     "text": [
      "⚠ 오류 발생 (뉴스 크롤링 실패, 1/3): http://www.sentv.co.kr/news/view/666666, 오류: HTTPSConnectionPool(host='www.sentv.co.kr', port=443): Max retries exceeded with url: /news/view/666666 (Caused by SSLError(SSLCertVerificationError(1, '[SSL: CERTIFICATE_VERIFY_FAILED] certificate verify failed: unable to get local issuer certificate (_ssl.c:1000)')))\n",
      "⚠ 오류 발생 (뉴스 크롤링 실패, 2/3): http://www.sentv.co.kr/news/view/666666, 오류: HTTPSConnectionPool(host='www.sentv.co.kr', port=443): Max retries exceeded with url: /news/view/666666 (Caused by SSLError(SSLCertVerificationError(1, '[SSL: CERTIFICATE_VERIFY_FAILED] certificate verify failed: unable to get local issuer certificate (_ssl.c:1000)')))\n",
      "⚠ 오류 발생 (뉴스 크롤링 실패, 3/3): http://www.sentv.co.kr/news/view/666666, 오류: HTTPSConnectionPool(host='www.sentv.co.kr', port=443): Max retries exceeded with url: /news/view/666666 (Caused by SSLError(SSLCertVerificationError(1, '[SSL: CERTIFICATE_VERIFY_FAILED] certificate verify failed: unable to get local issuer certificate (_ssl.c:1000)')))\n"
     ]
    },
    {
     "name": "stderr",
     "output_type": "stream",
     "text": [
      "📰 뉴스 본문 크롤링 진행:  59%|█████▊    | 95/162 [04:51<02:13,  1.99s/it]"
     ]
    },
    {
     "name": "stdout",
     "output_type": "stream",
     "text": [
      "⚠ 본문을 가져오지 못해 Selenium으로 재시도: https://www.asiatoday.co.kr/view.php?key=20230829010015693\n"
     ]
    },
    {
     "name": "stderr",
     "output_type": "stream",
     "text": [
      "📰 뉴스 본문 크롤링 진행:  60%|█████▉    | 97/162 [05:02<03:39,  3.38s/it]"
     ]
    },
    {
     "name": "stdout",
     "output_type": "stream",
     "text": [
      "⚠ 본문을 가져오지 못해 Selenium으로 재시도: https://www.businesspost.co.kr/BP?command=article_view&num=323757\n"
     ]
    },
    {
     "name": "stderr",
     "output_type": "stream",
     "text": [
      "📰 뉴스 본문 크롤링 진행:  61%|██████    | 99/162 [05:07<02:45,  2.63s/it]"
     ]
    },
    {
     "name": "stdout",
     "output_type": "stream",
     "text": [
      "⚠ 본문을 가져오지 못해 Selenium으로 재시도: http://www.naeil.com/news_view/?id_art=466843\n"
     ]
    },
    {
     "name": "stderr",
     "output_type": "stream",
     "text": [
      "📰 뉴스 본문 크롤링 진행:  62%|██████▏   | 100/162 [05:11<03:23,  3.28s/it]"
     ]
    },
    {
     "name": "stdout",
     "output_type": "stream",
     "text": [
      "⚠ 본문을 가져오지 못해 Selenium으로 재시도: https://www.kpinews.kr/newsView/1065574460327825\n"
     ]
    },
    {
     "name": "stderr",
     "output_type": "stream",
     "text": [
      "📰 뉴스 본문 크롤링 진행:  62%|██████▏   | 101/162 [05:16<03:48,  3.75s/it]"
     ]
    },
    {
     "name": "stdout",
     "output_type": "stream",
     "text": [
      "⚠ 본문을 가져오지 못해 Selenium으로 재시도: https://news.kmib.co.kr/article/view.asp?arcid=0018682980&code=61111211&cp=nv\n"
     ]
    },
    {
     "name": "stderr",
     "output_type": "stream",
     "text": [
      "📰 뉴스 본문 크롤링 진행:  65%|██████▍   | 105/162 [05:23<01:33,  1.65s/it]"
     ]
    },
    {
     "name": "stdout",
     "output_type": "stream",
     "text": [
      "⚠ 본문을 가져오지 못해 Selenium으로 재시도: https://www.asiatoday.co.kr/view.php?key=20230922010014062\n"
     ]
    },
    {
     "name": "stderr",
     "output_type": "stream",
     "text": [
      "📰 뉴스 본문 크롤링 진행:  65%|██████▌   | 106/162 [05:30<03:14,  3.48s/it]"
     ]
    },
    {
     "name": "stdout",
     "output_type": "stream",
     "text": [
      "⚠ 본문을 가져오지 못해 Selenium으로 재시도: http://www.kookje.co.kr/news2011/asp/newsbody.asp?code=0100&key=20230920.22003006078\n"
     ]
    },
    {
     "name": "stderr",
     "output_type": "stream",
     "text": [
      "📰 뉴스 본문 크롤링 진행:  67%|██████▋   | 108/162 [05:34<02:19,  2.59s/it]"
     ]
    },
    {
     "name": "stdout",
     "output_type": "stream",
     "text": [
      "⚠ 본문을 가져오지 못해 Selenium으로 재시도: http://www.kookje.co.kr/news2011/asp/newsbody.asp?code=0200&key=20230829.99099009264\n"
     ]
    },
    {
     "name": "stderr",
     "output_type": "stream",
     "text": [
      "📰 뉴스 본문 크롤링 진행:  67%|██████▋   | 109/162 [05:37<02:21,  2.66s/it]"
     ]
    },
    {
     "name": "stdout",
     "output_type": "stream",
     "text": [
      "⚠ 본문을 가져오지 못해 Selenium으로 재시도: https://www.asiatoday.co.kr/view.php?key=20230922010014065\n"
     ]
    },
    {
     "name": "stderr",
     "output_type": "stream",
     "text": [
      "📰 뉴스 본문 크롤링 진행:  67%|██████▋   | 109/162 [05:46<02:48,  3.18s/it]\n"
     ]
    },
    {
     "ename": "KeyboardInterrupt",
     "evalue": "",
     "output_type": "error",
     "traceback": [
      "\u001b[0;31m---------------------------------------------------------------------------\u001b[0m",
      "\u001b[0;31mKeyboardInterrupt\u001b[0m                         Traceback (most recent call last)",
      "Cell \u001b[0;32mIn[1], line 156\u001b[0m\n\u001b[1;32m    147\u001b[0m \u001b[38;5;28;01mfor\u001b[39;00m start_date, end_date \u001b[38;5;129;01min\u001b[39;00m [\n\u001b[1;32m    148\u001b[0m     (\u001b[38;5;124m\"\u001b[39m\u001b[38;5;124m2022.01.01\u001b[39m\u001b[38;5;124m\"\u001b[39m, \u001b[38;5;124m\"\u001b[39m\u001b[38;5;124m2022.03.31\u001b[39m\u001b[38;5;124m\"\u001b[39m), (\u001b[38;5;124m\"\u001b[39m\u001b[38;5;124m2022.04.01\u001b[39m\u001b[38;5;124m\"\u001b[39m, \u001b[38;5;124m\"\u001b[39m\u001b[38;5;124m2022.06.30\u001b[39m\u001b[38;5;124m\"\u001b[39m),\n\u001b[1;32m    149\u001b[0m     (\u001b[38;5;124m\"\u001b[39m\u001b[38;5;124m2022.07.01\u001b[39m\u001b[38;5;124m\"\u001b[39m, \u001b[38;5;124m\"\u001b[39m\u001b[38;5;124m2022.09.30\u001b[39m\u001b[38;5;124m\"\u001b[39m), (\u001b[38;5;124m\"\u001b[39m\u001b[38;5;124m2022.10.01\u001b[39m\u001b[38;5;124m\"\u001b[39m, \u001b[38;5;124m\"\u001b[39m\u001b[38;5;124m2022.12.31\u001b[39m\u001b[38;5;124m\"\u001b[39m),\n\u001b[0;32m   (...)\u001b[0m\n\u001b[1;32m    153\u001b[0m     (\u001b[38;5;124m\"\u001b[39m\u001b[38;5;124m2024.07.01\u001b[39m\u001b[38;5;124m\"\u001b[39m, \u001b[38;5;124m\"\u001b[39m\u001b[38;5;124m2024.09.30\u001b[39m\u001b[38;5;124m\"\u001b[39m), (\u001b[38;5;124m\"\u001b[39m\u001b[38;5;124m2024.10.01\u001b[39m\u001b[38;5;124m\"\u001b[39m, \u001b[38;5;124m\"\u001b[39m\u001b[38;5;124m2024.12.31\u001b[39m\u001b[38;5;124m\"\u001b[39m)\n\u001b[1;32m    154\u001b[0m ]:\n\u001b[1;32m    155\u001b[0m     news_list \u001b[38;5;241m=\u001b[39m fetch_naver_news(query, start_date, end_date)\n\u001b[0;32m--> 156\u001b[0m     news_data \u001b[38;5;241m=\u001b[39m \u001b[43mfetch_news_content\u001b[49m\u001b[43m(\u001b[49m\u001b[43mnews_list\u001b[49m\u001b[43m)\u001b[49m\n\u001b[1;32m    157\u001b[0m     all_news\u001b[38;5;241m.\u001b[39mextend(news_data)\n\u001b[1;32m    158\u001b[0m     \u001b[38;5;28mprint\u001b[39m(\u001b[38;5;124mf\u001b[39m\u001b[38;5;124m\"\u001b[39m\u001b[38;5;124m✅ \u001b[39m\u001b[38;5;132;01m{\u001b[39;00mstart_date\u001b[38;5;132;01m}\u001b[39;00m\u001b[38;5;124m ~ \u001b[39m\u001b[38;5;132;01m{\u001b[39;00mend_date\u001b[38;5;132;01m}\u001b[39;00m\u001b[38;5;124m 크롤링 완료!\u001b[39m\u001b[38;5;124m\"\u001b[39m)\n",
      "Cell \u001b[0;32mIn[1], line 126\u001b[0m, in \u001b[0;36mfetch_news_content\u001b[0;34m(news_list)\u001b[0m\n\u001b[1;32m    124\u001b[0m \u001b[38;5;28mprint\u001b[39m(\u001b[38;5;124mf\u001b[39m\u001b[38;5;124m\"\u001b[39m\u001b[38;5;124m⚠ 본문을 가져오지 못해 Selenium으로 재시도: \u001b[39m\u001b[38;5;132;01m{\u001b[39;00mnews[\u001b[38;5;124m'\u001b[39m\u001b[38;5;124mlink\u001b[39m\u001b[38;5;124m'\u001b[39m]\u001b[38;5;132;01m}\u001b[39;00m\u001b[38;5;124m\"\u001b[39m)\n\u001b[1;32m    125\u001b[0m driver\u001b[38;5;241m.\u001b[39mget(news[\u001b[38;5;124m\"\u001b[39m\u001b[38;5;124mlink\u001b[39m\u001b[38;5;124m\"\u001b[39m])\n\u001b[0;32m--> 126\u001b[0m \u001b[43mtime\u001b[49m\u001b[38;5;241;43m.\u001b[39;49m\u001b[43msleep\u001b[49m\u001b[43m(\u001b[49m\u001b[43mrandom\u001b[49m\u001b[38;5;241;43m.\u001b[39;49m\u001b[43muniform\u001b[49m\u001b[43m(\u001b[49m\u001b[38;5;241;43m2\u001b[39;49m\u001b[43m,\u001b[49m\u001b[43m \u001b[49m\u001b[38;5;241;43m4\u001b[39;49m\u001b[43m)\u001b[49m\u001b[43m)\u001b[49m\n\u001b[1;32m    127\u001b[0m soup \u001b[38;5;241m=\u001b[39m BeautifulSoup(driver\u001b[38;5;241m.\u001b[39mpage_source, \u001b[38;5;124m\"\u001b[39m\u001b[38;5;124mhtml.parser\u001b[39m\u001b[38;5;124m\"\u001b[39m)\n\u001b[1;32m    128\u001b[0m content_element \u001b[38;5;241m=\u001b[39m soup\u001b[38;5;241m.\u001b[39mselect_one(\u001b[38;5;124m\"\u001b[39m\u001b[38;5;124mdiv#newsct_article\u001b[39m\u001b[38;5;124m\"\u001b[39m) \u001b[38;5;129;01mor\u001b[39;00m soup\u001b[38;5;241m.\u001b[39mselect_one(\u001b[38;5;124m\"\u001b[39m\u001b[38;5;124marticle\u001b[39m\u001b[38;5;124m\"\u001b[39m)\n",
      "\u001b[0;31mKeyboardInterrupt\u001b[0m: "
     ]
    }
   ],
   "source": [
    "import time\n",
    "import json\n",
    "import datetime\n",
    "import random\n",
    "from bs4 import BeautifulSoup\n",
    "import requests\n",
    "from selenium import webdriver\n",
    "from selenium.webdriver.chrome.service import Service\n",
    "from selenium.webdriver.chrome.options import Options\n",
    "from selenium.webdriver.common.by import By\n",
    "from selenium.webdriver.common.keys import Keys\n",
    "from tqdm import tqdm\n",
    "from webdriver_manager.chrome import ChromeDriverManager\n",
    "\n",
    "# ✅ 크롤링할 검색어 (변경 가능)\n",
    "search_query = \"두코바니 원전\"\n",
    "\n",
    "# ✅ 크롤링할 기간 설정 (각 코드 실행 시 해당 기간만 변경)\n",
    "START_DATE = \"2022.01.01\"\n",
    "END_DATE = \"2022.03.31\"\n",
    "\n",
    "# ✅ 네이버 뉴스 검색 URL 템플릿\n",
    "NAVER_NEWS_URL_TEMPLATE = (\n",
    "    \"https://search.naver.com/search.naver?where=news&query={query}&sm=tab_opt&sort=0&photo=0\"\n",
    "    \"&field=0&pd=3&ds={start_date}&de={end_date}\"\n",
    ")\n",
    "\n",
    "# ✅ User-Agent 설정\n",
    "HEADERS = {\n",
    "    \"User-Agent\": \"Mozilla/5.0 (Windows NT 10.0; Win64; x64) AppleWebKit/537.36 (KHTML, like Gecko) Chrome/98.0.4758.102 Safari/537.36\"\n",
    "}\n",
    "\n",
    "# ✅ Selenium 옵션 설정\n",
    "chrome_options = Options()\n",
    "chrome_options.add_argument(\"--headless\")\n",
    "chrome_options.add_argument(\"--no-sandbox\")\n",
    "chrome_options.add_argument(\"--disable-dev-shm-usage\")\n",
    "chrome_options.add_argument(\"--disable-gpu\")\n",
    "\n",
    "# ✅ ChromeDriver 자동 설치\n",
    "service = Service(ChromeDriverManager().install())\n",
    "driver = webdriver.Chrome(service=service, options=chrome_options)\n",
    "\n",
    "def fetch_naver_news(query, start_date, end_date):\n",
    "    \"\"\"네이버 뉴스 검색 페이지에서 기사 링크 크롤링\"\"\"\n",
    "    search_url = NAVER_NEWS_URL_TEMPLATE.format(query=query, start_date=start_date, end_date=end_date)\n",
    "    driver.get(search_url)\n",
    "    time.sleep(random.uniform(2, 4))\n",
    "\n",
    "    print(f\"🔍 검색 중: {query} ({start_date} ~ {end_date})\")\n",
    "\n",
    "    last_height = driver.execute_script(\"return document.body.scrollHeight\")\n",
    "    start_time = time.time()\n",
    "\n",
    "    while True:\n",
    "        driver.find_element(By.TAG_NAME, \"body\").send_keys(Keys.END)\n",
    "        time.sleep(random.uniform(2, 4))\n",
    "        new_height = driver.execute_script(\"return document.body.scrollHeight\")\n",
    "\n",
    "        if new_height == last_height:\n",
    "            break\n",
    "        \n",
    "        last_height = new_height\n",
    "\n",
    "        # ⏳ 3분(180초) 이상 실행되면 종료\n",
    "        if time.time() - start_time > 180:\n",
    "            print(\"⏳ 무한 스크롤 방지를 위해 크롤링 중단\")\n",
    "            break\n",
    "\n",
    "    soup = BeautifulSoup(driver.page_source, \"html.parser\")\n",
    "    articles = soup.select(\"div.group_news > ul.list_news > li\")\n",
    "\n",
    "    news_list = []\n",
    "    for article in articles:\n",
    "        try:\n",
    "            title_element = article.select_one(\"a.news_tit\")\n",
    "            title = title_element.text.strip() if title_element else \"N/A\"\n",
    "            link = title_element[\"href\"] if title_element else \"N/A\"\n",
    "\n",
    "            date_element = article.select_one(\"span.info\")\n",
    "            date_text = date_element.text.strip() if date_element else \"N/A\"\n",
    "\n",
    "            news_list.append({\"title\": title, \"link\": link, \"date\": date_text})\n",
    "\n",
    "        except Exception as e:\n",
    "            print(f\"⚠ 오류 발생 (목록 크롤링 실패): {e}\")\n",
    "\n",
    "    print(f\"✅ {len(news_list)}개의 뉴스 기사 수집 완료! ({start_date} ~ {end_date})\")\n",
    "    return news_list\n",
    "\n",
    "def fetch_news_content(news_list):\n",
    "    \"\"\"뉴스 기사 본문 크롤링\"\"\"\n",
    "    news_data = []\n",
    "    retry_count = 3\n",
    "\n",
    "    for news in tqdm(news_list, desc=\"📰 뉴스 본문 크롤링 진행\"):\n",
    "        for attempt in range(retry_count):\n",
    "            try:\n",
    "                response = requests.get(news[\"link\"], headers=HEADERS, timeout=10)\n",
    "                if response.status_code != 200:\n",
    "                    print(f\"⚠ HTTP 오류: {response.status_code}\")\n",
    "                    time.sleep(random.uniform(3, 6))\n",
    "                    continue\n",
    "\n",
    "                soup = BeautifulSoup(response.text, \"html.parser\")\n",
    "\n",
    "                content_selectors = [\n",
    "                    \"div#newsct_article\", \"div#articleBodyContents\", \"div.article_view\",\n",
    "                    \"div.news_end\", \"div#articeBody\", \"div.content_area\",\n",
    "                    \"div#newsEndContents\", \"article\"\n",
    "                ]\n",
    "                content = \"\"\n",
    "                for selector in content_selectors:\n",
    "                    content_element = soup.select(selector)\n",
    "                    if content_element:\n",
    "                        content = \" \".join([p.text.strip() for p in content_element])\n",
    "                        break\n",
    "\n",
    "                news[\"content\"] = content.strip() if content else \"N/A\"\n",
    "                news_data.append(news)\n",
    "\n",
    "                break  # 성공하면 재시도 종료\n",
    "\n",
    "            except Exception as e:\n",
    "                print(f\"⚠ 오류 발생 (뉴스 크롤링 실패, {attempt+1}/{retry_count}): {news['link']}, 오류: {e}\")\n",
    "                time.sleep(random.uniform(3, 6))\n",
    "\n",
    "    return news_data\n",
    "\n",
    "# ✅ 크롤링 실행\n",
    "news_list = fetch_naver_news(search_query, START_DATE, END_DATE)\n",
    "news_data = fetch_news_content(news_list)\n",
    "\n",
    "# ✅ JSON 파일 저장\n",
    "output_file = f\"naver_news_{START_DATE.replace('.', '')}_{END_DATE.replace('.', '')}.json\"\n",
    "with open(output_file, \"w\", encoding=\"utf-8\") as f:\n",
    "    json.dump(news_data, f, ensure_ascii=False, indent=4)\n",
    "\n",
    "print(f\"✅ {START_DATE} ~ {END_DATE} 크롤링 완료! (저장 파일: {output_file})\")\n",
    "driver.quit()\n"
   ]
  },
  {
   "cell_type": "code",
   "execution_count": null,
   "metadata": {},
   "outputs": [],
   "source": [
    "# ✅ 크롤링할 검색어 (변경 가능)\n",
    "search_query = \"두코바니 원전\"\n",
    "\n",
    "# ✅ 크롤링할 기간 설정 (각 코드 실행 시 해당 기간만 변경)\n",
    "START_DATE = \"2022.04.01\"\n",
    "END_DATE = \"2022.06.31\"\n",
    "\n",
    "# ✅ 네이버 뉴스 검색 URL 템플릿\n",
    "NAVER_NEWS_URL_TEMPLATE = (\n",
    "    \"https://search.naver.com/search.naver?where=news&query={query}&sm=tab_opt&sort=0&photo=0\"\n",
    "    \"&field=0&pd=3&ds={start_date}&de={end_date}\"\n",
    ")\n",
    "\n",
    "# ✅ User-Agent 설정\n",
    "HEADERS = {\n",
    "    \"User-Agent\": \"Mozilla/5.0 (Windows NT 10.0; Win64; x64) AppleWebKit/537.36 (KHTML, like Gecko) Chrome/98.0.4758.102 Safari/537.36\"\n",
    "}\n",
    "\n",
    "# ✅ Selenium 옵션 설정\n",
    "chrome_options = Options()\n",
    "chrome_options.add_argument(\"--headless\")\n",
    "chrome_options.add_argument(\"--no-sandbox\")\n",
    "chrome_options.add_argument(\"--disable-dev-shm-usage\")\n",
    "chrome_options.add_argument(\"--disable-gpu\")\n",
    "\n",
    "# ✅ ChromeDriver 자동 설치\n",
    "service = Service(ChromeDriverManager().install())\n",
    "driver = webdriver.Chrome(service=service, options=chrome_options)\n",
    "\n",
    "def fetch_naver_news(query, start_date, end_date):\n",
    "    \"\"\"네이버 뉴스 검색 페이지에서 기사 링크 크롤링\"\"\"\n",
    "    search_url = NAVER_NEWS_URL_TEMPLATE.format(query=query, start_date=start_date, end_date=end_date)\n",
    "    driver.get(search_url)\n",
    "    time.sleep(random.uniform(2, 4))\n",
    "\n",
    "    print(f\"🔍 검색 중: {query} ({start_date} ~ {end_date})\")\n",
    "\n",
    "    last_height = driver.execute_script(\"return document.body.scrollHeight\")\n",
    "    start_time = time.time()\n",
    "\n",
    "    while True:\n",
    "        driver.find_element(By.TAG_NAME, \"body\").send_keys(Keys.END)\n",
    "        time.sleep(random.uniform(2, 4))\n",
    "        new_height = driver.execute_script(\"return document.body.scrollHeight\")\n",
    "\n",
    "        if new_height == last_height:\n",
    "            break\n",
    "        \n",
    "        last_height = new_height\n",
    "\n",
    "        # ⏳ 3분(180초) 이상 실행되면 종료\n",
    "        if time.time() - start_time > 180:\n",
    "            print(\"⏳ 무한 스크롤 방지를 위해 크롤링 중단\")\n",
    "            break\n",
    "\n",
    "    soup = BeautifulSoup(driver.page_source, \"html.parser\")\n",
    "    articles = soup.select(\"div.group_news > ul.list_news > li\")\n",
    "\n",
    "    news_list = []\n",
    "    for article in articles:\n",
    "        try:\n",
    "            title_element = article.select_one(\"a.news_tit\")\n",
    "            title = title_element.text.strip() if title_element else \"N/A\"\n",
    "            link = title_element[\"href\"] if title_element else \"N/A\"\n",
    "\n",
    "            date_element = article.select_one(\"span.info\")\n",
    "            date_text = date_element.text.strip() if date_element else \"N/A\"\n",
    "\n",
    "            news_list.append({\"title\": title, \"link\": link, \"date\": date_text})\n",
    "\n",
    "        except Exception as e:\n",
    "            print(f\"⚠ 오류 발생 (목록 크롤링 실패): {e}\")\n",
    "\n",
    "    print(f\"✅ {len(news_list)}개의 뉴스 기사 수집 완료! ({start_date} ~ {end_date})\")\n",
    "    return news_list\n",
    "\n",
    "def fetch_news_content(news_list):\n",
    "    \"\"\"뉴스 기사 본문 크롤링\"\"\"\n",
    "    news_data = []\n",
    "    retry_count = 3\n",
    "\n",
    "    for news in tqdm(news_list, desc=\"📰 뉴스 본문 크롤링 진행\"):\n",
    "        for attempt in range(retry_count):\n",
    "            try:\n",
    "                response = requests.get(news[\"link\"], headers=HEADERS, timeout=10)\n",
    "                if response.status_code != 200:\n",
    "                    print(f\"⚠ HTTP 오류: {response.status_code}\")\n",
    "                    time.sleep(random.uniform(3, 6))\n",
    "                    continue\n",
    "\n",
    "                soup = BeautifulSoup(response.text, \"html.parser\")\n",
    "\n",
    "                content_selectors = [\n",
    "                    \"div#newsct_article\", \"div#articleBodyContents\", \"div.article_view\",\n",
    "                    \"div.news_end\", \"div#articeBody\", \"div.content_area\",\n",
    "                    \"div#newsEndContents\", \"article\"\n",
    "                ]\n",
    "                content = \"\"\n",
    "                for selector in content_selectors:\n",
    "                    content_element = soup.select(selector)\n",
    "                    if content_element:\n",
    "                        content = \" \".join([p.text.strip() for p in content_element])\n",
    "                        break\n",
    "\n",
    "                news[\"content\"] = content.strip() if content else \"N/A\"\n",
    "                news_data.append(news)\n",
    "\n",
    "                break  # 성공하면 재시도 종료\n",
    "\n",
    "            except Exception as e:\n",
    "                print(f\"⚠ 오류 발생 (뉴스 크롤링 실패, {attempt+1}/{retry_count}): {news['link']}, 오류: {e}\")\n",
    "                time.sleep(random.uniform(3, 6))\n",
    "\n",
    "    return news_data\n",
    "\n",
    "# ✅ 크롤링 실행\n",
    "news_list = fetch_naver_news(search_query, START_DATE, END_DATE)\n",
    "news_data = fetch_news_content(news_list)\n",
    "\n",
    "# ✅ JSON 파일 저장\n",
    "output_file = f\"naver_news_{START_DATE.replace('.', '')}_{END_DATE.replace('.', '')}.json\"\n",
    "with open(output_file, \"w\", encoding=\"utf-8\") as f:\n",
    "    json.dump(news_data, f, ensure_ascii=False, indent=4)\n",
    "\n",
    "print(f\"✅ {START_DATE} ~ {END_DATE} 크롤링 완료! (저장 파일: {output_file})\")\n",
    "driver.quit()"
   ]
  },
  {
   "cell_type": "code",
   "execution_count": null,
   "metadata": {},
   "outputs": [],
   "source": [
    "# ✅ 크롤링할 검색어 (변경 가능)\n",
    "search_query = \"두코바니 원전\"\n",
    "\n",
    "# ✅ 크롤링할 기간 설정 (각 코드 실행 시 해당 기간만 변경)\n",
    "START_DATE = \"2022.07.01\"\n",
    "END_DATE = \"2022.09.31\"\n",
    "\n",
    "# ✅ 네이버 뉴스 검색 URL 템플릿\n",
    "NAVER_NEWS_URL_TEMPLATE = (\n",
    "    \"https://search.naver.com/search.naver?where=news&query={query}&sm=tab_opt&sort=0&photo=0\"\n",
    "    \"&field=0&pd=3&ds={start_date}&de={end_date}\"\n",
    ")\n",
    "\n",
    "# ✅ User-Agent 설정\n",
    "HEADERS = {\n",
    "    \"User-Agent\": \"Mozilla/5.0 (Windows NT 10.0; Win64; x64) AppleWebKit/537.36 (KHTML, like Gecko) Chrome/98.0.4758.102 Safari/537.36\"\n",
    "}\n",
    "\n",
    "# ✅ Selenium 옵션 설정\n",
    "chrome_options = Options()\n",
    "chrome_options.add_argument(\"--headless\")\n",
    "chrome_options.add_argument(\"--no-sandbox\")\n",
    "chrome_options.add_argument(\"--disable-dev-shm-usage\")\n",
    "chrome_options.add_argument(\"--disable-gpu\")\n",
    "\n",
    "# ✅ ChromeDriver 자동 설치\n",
    "service = Service(ChromeDriverManager().install())\n",
    "driver = webdriver.Chrome(service=service, options=chrome_options)\n",
    "\n",
    "def fetch_naver_news(query, start_date, end_date):\n",
    "    \"\"\"네이버 뉴스 검색 페이지에서 기사 링크 크롤링\"\"\"\n",
    "    search_url = NAVER_NEWS_URL_TEMPLATE.format(query=query, start_date=start_date, end_date=end_date)\n",
    "    driver.get(search_url)\n",
    "    time.sleep(random.uniform(2, 4))\n",
    "\n",
    "    print(f\"🔍 검색 중: {query} ({start_date} ~ {end_date})\")\n",
    "\n",
    "    last_height = driver.execute_script(\"return document.body.scrollHeight\")\n",
    "    start_time = time.time()\n",
    "\n",
    "    while True:\n",
    "        driver.find_element(By.TAG_NAME, \"body\").send_keys(Keys.END)\n",
    "        time.sleep(random.uniform(2, 4))\n",
    "        new_height = driver.execute_script(\"return document.body.scrollHeight\")\n",
    "\n",
    "        if new_height == last_height:\n",
    "            break\n",
    "        \n",
    "        last_height = new_height\n",
    "\n",
    "        # ⏳ 3분(180초) 이상 실행되면 종료\n",
    "        if time.time() - start_time > 180:\n",
    "            print(\"⏳ 무한 스크롤 방지를 위해 크롤링 중단\")\n",
    "            break\n",
    "\n",
    "    soup = BeautifulSoup(driver.page_source, \"html.parser\")\n",
    "    articles = soup.select(\"div.group_news > ul.list_news > li\")\n",
    "\n",
    "    news_list = []\n",
    "    for article in articles:\n",
    "        try:\n",
    "            title_element = article.select_one(\"a.news_tit\")\n",
    "            title = title_element.text.strip() if title_element else \"N/A\"\n",
    "            link = title_element[\"href\"] if title_element else \"N/A\"\n",
    "\n",
    "            date_element = article.select_one(\"span.info\")\n",
    "            date_text = date_element.text.strip() if date_element else \"N/A\"\n",
    "\n",
    "            news_list.append({\"title\": title, \"link\": link, \"date\": date_text})\n",
    "\n",
    "        except Exception as e:\n",
    "            print(f\"⚠ 오류 발생 (목록 크롤링 실패): {e}\")\n",
    "\n",
    "    print(f\"✅ {len(news_list)}개의 뉴스 기사 수집 완료! ({start_date} ~ {end_date})\")\n",
    "    return news_list\n",
    "\n",
    "def fetch_news_content(news_list):\n",
    "    \"\"\"뉴스 기사 본문 크롤링\"\"\"\n",
    "    news_data = []\n",
    "    retry_count = 3\n",
    "\n",
    "    for news in tqdm(news_list, desc=\"📰 뉴스 본문 크롤링 진행\"):\n",
    "        for attempt in range(retry_count):\n",
    "            try:\n",
    "                response = requests.get(news[\"link\"], headers=HEADERS, timeout=10)\n",
    "                if response.status_code != 200:\n",
    "                    print(f\"⚠ HTTP 오류: {response.status_code}\")\n",
    "                    time.sleep(random.uniform(3, 6))\n",
    "                    continue\n",
    "\n",
    "                soup = BeautifulSoup(response.text, \"html.parser\")\n",
    "\n",
    "                content_selectors = [\n",
    "                    \"div#newsct_article\", \"div#articleBodyContents\", \"div.article_view\",\n",
    "                    \"div.news_end\", \"div#articeBody\", \"div.content_area\",\n",
    "                    \"div#newsEndContents\", \"article\"\n",
    "                ]\n",
    "                content = \"\"\n",
    "                for selector in content_selectors:\n",
    "                    content_element = soup.select(selector)\n",
    "                    if content_element:\n",
    "                        content = \" \".join([p.text.strip() for p in content_element])\n",
    "                        break\n",
    "\n",
    "                news[\"content\"] = content.strip() if content else \"N/A\"\n",
    "                news_data.append(news)\n",
    "\n",
    "                break  # 성공하면 재시도 종료\n",
    "\n",
    "            except Exception as e:\n",
    "                print(f\"⚠ 오류 발생 (뉴스 크롤링 실패, {attempt+1}/{retry_count}): {news['link']}, 오류: {e}\")\n",
    "                time.sleep(random.uniform(3, 6))\n",
    "\n",
    "    return news_data\n",
    "\n",
    "# ✅ 크롤링 실행\n",
    "news_list = fetch_naver_news(search_query, START_DATE, END_DATE)\n",
    "news_data = fetch_news_content(news_list)\n",
    "\n",
    "# ✅ JSON 파일 저장\n",
    "output_file = f\"naver_news_{START_DATE.replace('.', '')}_{END_DATE.replace('.', '')}.json\"\n",
    "with open(output_file, \"w\", encoding=\"utf-8\") as f:\n",
    "    json.dump(news_data, f, ensure_ascii=False, indent=4)\n",
    "\n",
    "print(f\"✅ {START_DATE} ~ {END_DATE} 크롤링 완료! (저장 파일: {output_file})\")\n",
    "driver.quit()"
   ]
  },
  {
   "cell_type": "code",
   "execution_count": null,
   "metadata": {},
   "outputs": [],
   "source": [
    "# ✅ 크롤링할 검색어 (변경 가능)\n",
    "search_query = \"두코바니 원전\"\n",
    "\n",
    "# ✅ 크롤링할 기간 설정 (각 코드 실행 시 해당 기간만 변경)\n",
    "START_DATE = \"2022.10.01\"\n",
    "END_DATE = \"2022.12.31\"\n",
    "\n",
    "# ✅ 네이버 뉴스 검색 URL 템플릿\n",
    "NAVER_NEWS_URL_TEMPLATE = (\n",
    "    \"https://search.naver.com/search.naver?where=news&query={query}&sm=tab_opt&sort=0&photo=0\"\n",
    "    \"&field=0&pd=3&ds={start_date}&de={end_date}\"\n",
    ")\n",
    "\n",
    "# ✅ User-Agent 설정\n",
    "HEADERS = {\n",
    "    \"User-Agent\": \"Mozilla/5.0 (Windows NT 10.0; Win64; x64) AppleWebKit/537.36 (KHTML, like Gecko) Chrome/98.0.4758.102 Safari/537.36\"\n",
    "}\n",
    "\n",
    "# ✅ Selenium 옵션 설정\n",
    "chrome_options = Options()\n",
    "chrome_options.add_argument(\"--headless\")\n",
    "chrome_options.add_argument(\"--no-sandbox\")\n",
    "chrome_options.add_argument(\"--disable-dev-shm-usage\")\n",
    "chrome_options.add_argument(\"--disable-gpu\")\n",
    "\n",
    "# ✅ ChromeDriver 자동 설치\n",
    "service = Service(ChromeDriverManager().install())\n",
    "driver = webdriver.Chrome(service=service, options=chrome_options)\n",
    "\n",
    "def fetch_naver_news(query, start_date, end_date):\n",
    "    \"\"\"네이버 뉴스 검색 페이지에서 기사 링크 크롤링\"\"\"\n",
    "    search_url = NAVER_NEWS_URL_TEMPLATE.format(query=query, start_date=start_date, end_date=end_date)\n",
    "    driver.get(search_url)\n",
    "    time.sleep(random.uniform(2, 4))\n",
    "\n",
    "    print(f\"🔍 검색 중: {query} ({start_date} ~ {end_date})\")\n",
    "\n",
    "    last_height = driver.execute_script(\"return document.body.scrollHeight\")\n",
    "    start_time = time.time()\n",
    "\n",
    "    while True:\n",
    "        driver.find_element(By.TAG_NAME, \"body\").send_keys(Keys.END)\n",
    "        time.sleep(random.uniform(2, 4))\n",
    "        new_height = driver.execute_script(\"return document.body.scrollHeight\")\n",
    "\n",
    "        if new_height == last_height:\n",
    "            break\n",
    "        \n",
    "        last_height = new_height\n",
    "\n",
    "        # ⏳ 3분(180초) 이상 실행되면 종료\n",
    "        if time.time() - start_time > 180:\n",
    "            print(\"⏳ 무한 스크롤 방지를 위해 크롤링 중단\")\n",
    "            break\n",
    "\n",
    "    soup = BeautifulSoup(driver.page_source, \"html.parser\")\n",
    "    articles = soup.select(\"div.group_news > ul.list_news > li\")\n",
    "\n",
    "    news_list = []\n",
    "    for article in articles:\n",
    "        try:\n",
    "            title_element = article.select_one(\"a.news_tit\")\n",
    "            title = title_element.text.strip() if title_element else \"N/A\"\n",
    "            link = title_element[\"href\"] if title_element else \"N/A\"\n",
    "\n",
    "            date_element = article.select_one(\"span.info\")\n",
    "            date_text = date_element.text.strip() if date_element else \"N/A\"\n",
    "\n",
    "            news_list.append({\"title\": title, \"link\": link, \"date\": date_text})\n",
    "\n",
    "        except Exception as e:\n",
    "            print(f\"⚠ 오류 발생 (목록 크롤링 실패): {e}\")\n",
    "\n",
    "    print(f\"✅ {len(news_list)}개의 뉴스 기사 수집 완료! ({start_date} ~ {end_date})\")\n",
    "    return news_list\n",
    "\n",
    "def fetch_news_content(news_list):\n",
    "    \"\"\"뉴스 기사 본문 크롤링\"\"\"\n",
    "    news_data = []\n",
    "    retry_count = 3\n",
    "\n",
    "    for news in tqdm(news_list, desc=\"📰 뉴스 본문 크롤링 진행\"):\n",
    "        for attempt in range(retry_count):\n",
    "            try:\n",
    "                response = requests.get(news[\"link\"], headers=HEADERS, timeout=10)\n",
    "                if response.status_code != 200:\n",
    "                    print(f\"⚠ HTTP 오류: {response.status_code}\")\n",
    "                    time.sleep(random.uniform(3, 6))\n",
    "                    continue\n",
    "\n",
    "                soup = BeautifulSoup(response.text, \"html.parser\")\n",
    "\n",
    "                content_selectors = [\n",
    "                    \"div#newsct_article\", \"div#articleBodyContents\", \"div.article_view\",\n",
    "                    \"div.news_end\", \"div#articeBody\", \"div.content_area\",\n",
    "                    \"div#newsEndContents\", \"article\"\n",
    "                ]\n",
    "                content = \"\"\n",
    "                for selector in content_selectors:\n",
    "                    content_element = soup.select(selector)\n",
    "                    if content_element:\n",
    "                        content = \" \".join([p.text.strip() for p in content_element])\n",
    "                        break\n",
    "\n",
    "                news[\"content\"] = content.strip() if content else \"N/A\"\n",
    "                news_data.append(news)\n",
    "\n",
    "                break  # 성공하면 재시도 종료\n",
    "\n",
    "            except Exception as e:\n",
    "                print(f\"⚠ 오류 발생 (뉴스 크롤링 실패, {attempt+1}/{retry_count}): {news['link']}, 오류: {e}\")\n",
    "                time.sleep(random.uniform(3, 6))\n",
    "\n",
    "    return news_data\n",
    "\n",
    "# ✅ 크롤링 실행\n",
    "news_list = fetch_naver_news(search_query, START_DATE, END_DATE)\n",
    "news_data = fetch_news_content(news_list)\n",
    "\n",
    "# ✅ JSON 파일 저장\n",
    "output_file = f\"naver_news_{START_DATE.replace('.', '')}_{END_DATE.replace('.', '')}.json\"\n",
    "with open(output_file, \"w\", encoding=\"utf-8\") as f:\n",
    "    json.dump(news_data, f, ensure_ascii=False, indent=4)\n",
    "\n",
    "print(f\"✅ {START_DATE} ~ {END_DATE} 크롤링 완료! (저장 파일: {output_file})\")\n",
    "driver.quit()"
   ]
  },
  {
   "cell_type": "code",
   "execution_count": null,
   "metadata": {},
   "outputs": [],
   "source": [
    "# ✅ 크롤링할 검색어 (변경 가능)\n",
    "search_query = \"두코바니 원전\"\n",
    "\n",
    "# ✅ 크롤링할 기간 설정 (각 코드 실행 시 해당 기간만 변경)\n",
    "START_DATE = \"2023.01.01\"\n",
    "END_DATE = \"2023.03.31\"\n",
    "\n",
    "# ✅ 네이버 뉴스 검색 URL 템플릿\n",
    "NAVER_NEWS_URL_TEMPLATE = (\n",
    "    \"https://search.naver.com/search.naver?where=news&query={query}&sm=tab_opt&sort=0&photo=0\"\n",
    "    \"&field=0&pd=3&ds={start_date}&de={end_date}\"\n",
    ")\n",
    "\n",
    "# ✅ User-Agent 설정\n",
    "HEADERS = {\n",
    "    \"User-Agent\": \"Mozilla/5.0 (Windows NT 10.0; Win64; x64) AppleWebKit/537.36 (KHTML, like Gecko) Chrome/98.0.4758.102 Safari/537.36\"\n",
    "}\n",
    "\n",
    "# ✅ Selenium 옵션 설정\n",
    "chrome_options = Options()\n",
    "chrome_options.add_argument(\"--headless\")\n",
    "chrome_options.add_argument(\"--no-sandbox\")\n",
    "chrome_options.add_argument(\"--disable-dev-shm-usage\")\n",
    "chrome_options.add_argument(\"--disable-gpu\")\n",
    "\n",
    "# ✅ ChromeDriver 자동 설치\n",
    "service = Service(ChromeDriverManager().install())\n",
    "driver = webdriver.Chrome(service=service, options=chrome_options)\n",
    "\n",
    "def fetch_naver_news(query, start_date, end_date):\n",
    "    \"\"\"네이버 뉴스 검색 페이지에서 기사 링크 크롤링\"\"\"\n",
    "    search_url = NAVER_NEWS_URL_TEMPLATE.format(query=query, start_date=start_date, end_date=end_date)\n",
    "    driver.get(search_url)\n",
    "    time.sleep(random.uniform(2, 4))\n",
    "\n",
    "    print(f\"🔍 검색 중: {query} ({start_date} ~ {end_date})\")\n",
    "\n",
    "    last_height = driver.execute_script(\"return document.body.scrollHeight\")\n",
    "    start_time = time.time()\n",
    "\n",
    "    while True:\n",
    "        driver.find_element(By.TAG_NAME, \"body\").send_keys(Keys.END)\n",
    "        time.sleep(random.uniform(2, 4))\n",
    "        new_height = driver.execute_script(\"return document.body.scrollHeight\")\n",
    "\n",
    "        if new_height == last_height:\n",
    "            break\n",
    "        \n",
    "        last_height = new_height\n",
    "\n",
    "        # ⏳ 3분(180초) 이상 실행되면 종료\n",
    "        if time.time() - start_time > 180:\n",
    "            print(\"⏳ 무한 스크롤 방지를 위해 크롤링 중단\")\n",
    "            break\n",
    "\n",
    "    soup = BeautifulSoup(driver.page_source, \"html.parser\")\n",
    "    articles = soup.select(\"div.group_news > ul.list_news > li\")\n",
    "\n",
    "    news_list = []\n",
    "    for article in articles:\n",
    "        try:\n",
    "            title_element = article.select_one(\"a.news_tit\")\n",
    "            title = title_element.text.strip() if title_element else \"N/A\"\n",
    "            link = title_element[\"href\"] if title_element else \"N/A\"\n",
    "\n",
    "            date_element = article.select_one(\"span.info\")\n",
    "            date_text = date_element.text.strip() if date_element else \"N/A\"\n",
    "\n",
    "            news_list.append({\"title\": title, \"link\": link, \"date\": date_text})\n",
    "\n",
    "        except Exception as e:\n",
    "            print(f\"⚠ 오류 발생 (목록 크롤링 실패): {e}\")\n",
    "\n",
    "    print(f\"✅ {len(news_list)}개의 뉴스 기사 수집 완료! ({start_date} ~ {end_date})\")\n",
    "    return news_list\n",
    "\n",
    "def fetch_news_content(news_list):\n",
    "    \"\"\"뉴스 기사 본문 크롤링\"\"\"\n",
    "    news_data = []\n",
    "    retry_count = 3\n",
    "\n",
    "    for news in tqdm(news_list, desc=\"📰 뉴스 본문 크롤링 진행\"):\n",
    "        for attempt in range(retry_count):\n",
    "            try:\n",
    "                response = requests.get(news[\"link\"], headers=HEADERS, timeout=10)\n",
    "                if response.status_code != 200:\n",
    "                    print(f\"⚠ HTTP 오류: {response.status_code}\")\n",
    "                    time.sleep(random.uniform(3, 6))\n",
    "                    continue\n",
    "\n",
    "                soup = BeautifulSoup(response.text, \"html.parser\")\n",
    "\n",
    "                content_selectors = [\n",
    "                    \"div#newsct_article\", \"div#articleBodyContents\", \"div.article_view\",\n",
    "                    \"div.news_end\", \"div#articeBody\", \"div.content_area\",\n",
    "                    \"div#newsEndContents\", \"article\"\n",
    "                ]\n",
    "                content = \"\"\n",
    "                for selector in content_selectors:\n",
    "                    content_element = soup.select(selector)\n",
    "                    if content_element:\n",
    "                        content = \" \".join([p.text.strip() for p in content_element])\n",
    "                        break\n",
    "\n",
    "                news[\"content\"] = content.strip() if content else \"N/A\"\n",
    "                news_data.append(news)\n",
    "\n",
    "                break  # 성공하면 재시도 종료\n",
    "\n",
    "            except Exception as e:\n",
    "                print(f\"⚠ 오류 발생 (뉴스 크롤링 실패, {attempt+1}/{retry_count}): {news['link']}, 오류: {e}\")\n",
    "                time.sleep(random.uniform(3, 6))\n",
    "\n",
    "    return news_data\n",
    "\n",
    "# ✅ 크롤링 실행\n",
    "news_list = fetch_naver_news(search_query, START_DATE, END_DATE)\n",
    "news_data = fetch_news_content(news_list)\n",
    "\n",
    "# ✅ JSON 파일 저장\n",
    "output_file = f\"naver_news_{START_DATE.replace('.', '')}_{END_DATE.replace('.', '')}.json\"\n",
    "with open(output_file, \"w\", encoding=\"utf-8\") as f:\n",
    "    json.dump(news_data, f, ensure_ascii=False, indent=4)\n",
    "\n",
    "print(f\"✅ {START_DATE} ~ {END_DATE} 크롤링 완료! (저장 파일: {output_file})\")\n",
    "driver.quit()"
   ]
  },
  {
   "cell_type": "code",
   "execution_count": null,
   "metadata": {},
   "outputs": [],
   "source": [
    "# ✅ 크롤링할 검색어 (변경 가능)\n",
    "search_query = \"두코바니 원전\"\n",
    "\n",
    "# ✅ 크롤링할 기간 설정 (각 코드 실행 시 해당 기간만 변경)\n",
    "START_DATE = \"2023.04.01\"\n",
    "END_DATE = \"2023.06.31\"\n",
    "\n",
    "# ✅ 네이버 뉴스 검색 URL 템플릿\n",
    "NAVER_NEWS_URL_TEMPLATE = (\n",
    "    \"https://search.naver.com/search.naver?where=news&query={query}&sm=tab_opt&sort=0&photo=0\"\n",
    "    \"&field=0&pd=3&ds={start_date}&de={end_date}\"\n",
    ")\n",
    "\n",
    "# ✅ User-Agent 설정\n",
    "HEADERS = {\n",
    "    \"User-Agent\": \"Mozilla/5.0 (Windows NT 10.0; Win64; x64) AppleWebKit/537.36 (KHTML, like Gecko) Chrome/98.0.4758.102 Safari/537.36\"\n",
    "}\n",
    "\n",
    "# ✅ Selenium 옵션 설정\n",
    "chrome_options = Options()\n",
    "chrome_options.add_argument(\"--headless\")\n",
    "chrome_options.add_argument(\"--no-sandbox\")\n",
    "chrome_options.add_argument(\"--disable-dev-shm-usage\")\n",
    "chrome_options.add_argument(\"--disable-gpu\")\n",
    "\n",
    "# ✅ ChromeDriver 자동 설치\n",
    "service = Service(ChromeDriverManager().install())\n",
    "driver = webdriver.Chrome(service=service, options=chrome_options)\n",
    "\n",
    "def fetch_naver_news(query, start_date, end_date):\n",
    "    \"\"\"네이버 뉴스 검색 페이지에서 기사 링크 크롤링\"\"\"\n",
    "    search_url = NAVER_NEWS_URL_TEMPLATE.format(query=query, start_date=start_date, end_date=end_date)\n",
    "    driver.get(search_url)\n",
    "    time.sleep(random.uniform(2, 4))\n",
    "\n",
    "    print(f\"🔍 검색 중: {query} ({start_date} ~ {end_date})\")\n",
    "\n",
    "    last_height = driver.execute_script(\"return document.body.scrollHeight\")\n",
    "    start_time = time.time()\n",
    "\n",
    "    while True:\n",
    "        driver.find_element(By.TAG_NAME, \"body\").send_keys(Keys.END)\n",
    "        time.sleep(random.uniform(2, 4))\n",
    "        new_height = driver.execute_script(\"return document.body.scrollHeight\")\n",
    "\n",
    "        if new_height == last_height:\n",
    "            break\n",
    "        \n",
    "        last_height = new_height\n",
    "\n",
    "        # ⏳ 3분(180초) 이상 실행되면 종료\n",
    "        if time.time() - start_time > 180:\n",
    "            print(\"⏳ 무한 스크롤 방지를 위해 크롤링 중단\")\n",
    "            break\n",
    "\n",
    "    soup = BeautifulSoup(driver.page_source, \"html.parser\")\n",
    "    articles = soup.select(\"div.group_news > ul.list_news > li\")\n",
    "\n",
    "    news_list = []\n",
    "    for article in articles:\n",
    "        try:\n",
    "            title_element = article.select_one(\"a.news_tit\")\n",
    "            title = title_element.text.strip() if title_element else \"N/A\"\n",
    "            link = title_element[\"href\"] if title_element else \"N/A\"\n",
    "\n",
    "            date_element = article.select_one(\"span.info\")\n",
    "            date_text = date_element.text.strip() if date_element else \"N/A\"\n",
    "\n",
    "            news_list.append({\"title\": title, \"link\": link, \"date\": date_text})\n",
    "\n",
    "        except Exception as e:\n",
    "            print(f\"⚠ 오류 발생 (목록 크롤링 실패): {e}\")\n",
    "\n",
    "    print(f\"✅ {len(news_list)}개의 뉴스 기사 수집 완료! ({start_date} ~ {end_date})\")\n",
    "    return news_list\n",
    "\n",
    "def fetch_news_content(news_list):\n",
    "    \"\"\"뉴스 기사 본문 크롤링\"\"\"\n",
    "    news_data = []\n",
    "    retry_count = 3\n",
    "\n",
    "    for news in tqdm(news_list, desc=\"📰 뉴스 본문 크롤링 진행\"):\n",
    "        for attempt in range(retry_count):\n",
    "            try:\n",
    "                response = requests.get(news[\"link\"], headers=HEADERS, timeout=10)\n",
    "                if response.status_code != 200:\n",
    "                    print(f\"⚠ HTTP 오류: {response.status_code}\")\n",
    "                    time.sleep(random.uniform(3, 6))\n",
    "                    continue\n",
    "\n",
    "                soup = BeautifulSoup(response.text, \"html.parser\")\n",
    "\n",
    "                content_selectors = [\n",
    "                    \"div#newsct_article\", \"div#articleBodyContents\", \"div.article_view\",\n",
    "                    \"div.news_end\", \"div#articeBody\", \"div.content_area\",\n",
    "                    \"div#newsEndContents\", \"article\"\n",
    "                ]\n",
    "                content = \"\"\n",
    "                for selector in content_selectors:\n",
    "                    content_element = soup.select(selector)\n",
    "                    if content_element:\n",
    "                        content = \" \".join([p.text.strip() for p in content_element])\n",
    "                        break\n",
    "\n",
    "                news[\"content\"] = content.strip() if content else \"N/A\"\n",
    "                news_data.append(news)\n",
    "\n",
    "                break  # 성공하면 재시도 종료\n",
    "\n",
    "            except Exception as e:\n",
    "                print(f\"⚠ 오류 발생 (뉴스 크롤링 실패, {attempt+1}/{retry_count}): {news['link']}, 오류: {e}\")\n",
    "                time.sleep(random.uniform(3, 6))\n",
    "\n",
    "    return news_data\n",
    "\n",
    "# ✅ 크롤링 실행\n",
    "news_list = fetch_naver_news(search_query, START_DATE, END_DATE)\n",
    "news_data = fetch_news_content(news_list)\n",
    "\n",
    "# ✅ JSON 파일 저장\n",
    "output_file = f\"naver_news_{START_DATE.replace('.', '')}_{END_DATE.replace('.', '')}.json\"\n",
    "with open(output_file, \"w\", encoding=\"utf-8\") as f:\n",
    "    json.dump(news_data, f, ensure_ascii=False, indent=4)\n",
    "\n",
    "print(f\"✅ {START_DATE} ~ {END_DATE} 크롤링 완료! (저장 파일: {output_file})\")\n",
    "driver.quit()"
   ]
  },
  {
   "cell_type": "code",
   "execution_count": null,
   "metadata": {},
   "outputs": [],
   "source": [
    "# ✅ 크롤링할 검색어 (변경 가능)\n",
    "search_query = \"두코바니 원전\"\n",
    "\n",
    "# ✅ 크롤링할 기간 설정 (각 코드 실행 시 해당 기간만 변경)\n",
    "START_DATE = \"2023.07.01\"\n",
    "END_DATE = \"2023.09.31\"\n",
    "\n",
    "# ✅ 네이버 뉴스 검색 URL 템플릿\n",
    "NAVER_NEWS_URL_TEMPLATE = (\n",
    "    \"https://search.naver.com/search.naver?where=news&query={query}&sm=tab_opt&sort=0&photo=0\"\n",
    "    \"&field=0&pd=3&ds={start_date}&de={end_date}\"\n",
    ")\n",
    "\n",
    "# ✅ User-Agent 설정\n",
    "HEADERS = {\n",
    "    \"User-Agent\": \"Mozilla/5.0 (Windows NT 10.0; Win64; x64) AppleWebKit/537.36 (KHTML, like Gecko) Chrome/98.0.4758.102 Safari/537.36\"\n",
    "}\n",
    "\n",
    "# ✅ Selenium 옵션 설정\n",
    "chrome_options = Options()\n",
    "chrome_options.add_argument(\"--headless\")\n",
    "chrome_options.add_argument(\"--no-sandbox\")\n",
    "chrome_options.add_argument(\"--disable-dev-shm-usage\")\n",
    "chrome_options.add_argument(\"--disable-gpu\")\n",
    "\n",
    "# ✅ ChromeDriver 자동 설치\n",
    "service = Service(ChromeDriverManager().install())\n",
    "driver = webdriver.Chrome(service=service, options=chrome_options)\n",
    "\n",
    "def fetch_naver_news(query, start_date, end_date):\n",
    "    \"\"\"네이버 뉴스 검색 페이지에서 기사 링크 크롤링\"\"\"\n",
    "    search_url = NAVER_NEWS_URL_TEMPLATE.format(query=query, start_date=start_date, end_date=end_date)\n",
    "    driver.get(search_url)\n",
    "    time.sleep(random.uniform(2, 4))\n",
    "\n",
    "    print(f\"🔍 검색 중: {query} ({start_date} ~ {end_date})\")\n",
    "\n",
    "    last_height = driver.execute_script(\"return document.body.scrollHeight\")\n",
    "    start_time = time.time()\n",
    "\n",
    "    while True:\n",
    "        driver.find_element(By.TAG_NAME, \"body\").send_keys(Keys.END)\n",
    "        time.sleep(random.uniform(2, 4))\n",
    "        new_height = driver.execute_script(\"return document.body.scrollHeight\")\n",
    "\n",
    "        if new_height == last_height:\n",
    "            break\n",
    "        \n",
    "        last_height = new_height\n",
    "\n",
    "        # ⏳ 3분(180초) 이상 실행되면 종료\n",
    "        if time.time() - start_time > 180:\n",
    "            print(\"⏳ 무한 스크롤 방지를 위해 크롤링 중단\")\n",
    "            break\n",
    "\n",
    "    soup = BeautifulSoup(driver.page_source, \"html.parser\")\n",
    "    articles = soup.select(\"div.group_news > ul.list_news > li\")\n",
    "\n",
    "    news_list = []\n",
    "    for article in articles:\n",
    "        try:\n",
    "            title_element = article.select_one(\"a.news_tit\")\n",
    "            title = title_element.text.strip() if title_element else \"N/A\"\n",
    "            link = title_element[\"href\"] if title_element else \"N/A\"\n",
    "\n",
    "            date_element = article.select_one(\"span.info\")\n",
    "            date_text = date_element.text.strip() if date_element else \"N/A\"\n",
    "\n",
    "            news_list.append({\"title\": title, \"link\": link, \"date\": date_text})\n",
    "\n",
    "        except Exception as e:\n",
    "            print(f\"⚠ 오류 발생 (목록 크롤링 실패): {e}\")\n",
    "\n",
    "    print(f\"✅ {len(news_list)}개의 뉴스 기사 수집 완료! ({start_date} ~ {end_date})\")\n",
    "    return news_list\n",
    "\n",
    "def fetch_news_content(news_list):\n",
    "    \"\"\"뉴스 기사 본문 크롤링\"\"\"\n",
    "    news_data = []\n",
    "    retry_count = 3\n",
    "\n",
    "    for news in tqdm(news_list, desc=\"📰 뉴스 본문 크롤링 진행\"):\n",
    "        for attempt in range(retry_count):\n",
    "            try:\n",
    "                response = requests.get(news[\"link\"], headers=HEADERS, timeout=10)\n",
    "                if response.status_code != 200:\n",
    "                    print(f\"⚠ HTTP 오류: {response.status_code}\")\n",
    "                    time.sleep(random.uniform(3, 6))\n",
    "                    continue\n",
    "\n",
    "                soup = BeautifulSoup(response.text, \"html.parser\")\n",
    "\n",
    "                content_selectors = [\n",
    "                    \"div#newsct_article\", \"div#articleBodyContents\", \"div.article_view\",\n",
    "                    \"div.news_end\", \"div#articeBody\", \"div.content_area\",\n",
    "                    \"div#newsEndContents\", \"article\"\n",
    "                ]\n",
    "                content = \"\"\n",
    "                for selector in content_selectors:\n",
    "                    content_element = soup.select(selector)\n",
    "                    if content_element:\n",
    "                        content = \" \".join([p.text.strip() for p in content_element])\n",
    "                        break\n",
    "\n",
    "                news[\"content\"] = content.strip() if content else \"N/A\"\n",
    "                news_data.append(news)\n",
    "\n",
    "                break  # 성공하면 재시도 종료\n",
    "\n",
    "            except Exception as e:\n",
    "                print(f\"⚠ 오류 발생 (뉴스 크롤링 실패, {attempt+1}/{retry_count}): {news['link']}, 오류: {e}\")\n",
    "                time.sleep(random.uniform(3, 6))\n",
    "\n",
    "    return news_data\n",
    "\n",
    "# ✅ 크롤링 실행\n",
    "news_list = fetch_naver_news(search_query, START_DATE, END_DATE)\n",
    "news_data = fetch_news_content(news_list)\n",
    "\n",
    "# ✅ JSON 파일 저장\n",
    "output_file = f\"naver_news_{START_DATE.replace('.', '')}_{END_DATE.replace('.', '')}.json\"\n",
    "with open(output_file, \"w\", encoding=\"utf-8\") as f:\n",
    "    json.dump(news_data, f, ensure_ascii=False, indent=4)\n",
    "\n",
    "print(f\"✅ {START_DATE} ~ {END_DATE} 크롤링 완료! (저장 파일: {output_file})\")\n",
    "driver.quit()"
   ]
  },
  {
   "cell_type": "code",
   "execution_count": null,
   "metadata": {},
   "outputs": [],
   "source": [
    "# ✅ 크롤링할 검색어 (변경 가능)\n",
    "search_query = \"두코바니 원전\"\n",
    "\n",
    "# ✅ 크롤링할 기간 설정 (각 코드 실행 시 해당 기간만 변경)\n",
    "START_DATE = \"2023.10.01\"\n",
    "END_DATE = \"2023.12.31\"\n",
    "\n",
    "# ✅ 네이버 뉴스 검색 URL 템플릿\n",
    "NAVER_NEWS_URL_TEMPLATE = (\n",
    "    \"https://search.naver.com/search.naver?where=news&query={query}&sm=tab_opt&sort=0&photo=0\"\n",
    "    \"&field=0&pd=3&ds={start_date}&de={end_date}\"\n",
    ")\n",
    "\n",
    "# ✅ User-Agent 설정\n",
    "HEADERS = {\n",
    "    \"User-Agent\": \"Mozilla/5.0 (Windows NT 10.0; Win64; x64) AppleWebKit/537.36 (KHTML, like Gecko) Chrome/98.0.4758.102 Safari/537.36\"\n",
    "}\n",
    "\n",
    "# ✅ Selenium 옵션 설정\n",
    "chrome_options = Options()\n",
    "chrome_options.add_argument(\"--headless\")\n",
    "chrome_options.add_argument(\"--no-sandbox\")\n",
    "chrome_options.add_argument(\"--disable-dev-shm-usage\")\n",
    "chrome_options.add_argument(\"--disable-gpu\")\n",
    "\n",
    "# ✅ ChromeDriver 자동 설치\n",
    "service = Service(ChromeDriverManager().install())\n",
    "driver = webdriver.Chrome(service=service, options=chrome_options)\n",
    "\n",
    "def fetch_naver_news(query, start_date, end_date):\n",
    "    \"\"\"네이버 뉴스 검색 페이지에서 기사 링크 크롤링\"\"\"\n",
    "    search_url = NAVER_NEWS_URL_TEMPLATE.format(query=query, start_date=start_date, end_date=end_date)\n",
    "    driver.get(search_url)\n",
    "    time.sleep(random.uniform(2, 4))\n",
    "\n",
    "    print(f\"🔍 검색 중: {query} ({start_date} ~ {end_date})\")\n",
    "\n",
    "    last_height = driver.execute_script(\"return document.body.scrollHeight\")\n",
    "    start_time = time.time()\n",
    "\n",
    "    while True:\n",
    "        driver.find_element(By.TAG_NAME, \"body\").send_keys(Keys.END)\n",
    "        time.sleep(random.uniform(2, 4))\n",
    "        new_height = driver.execute_script(\"return document.body.scrollHeight\")\n",
    "\n",
    "        if new_height == last_height:\n",
    "            break\n",
    "        \n",
    "        last_height = new_height\n",
    "\n",
    "        # ⏳ 3분(180초) 이상 실행되면 종료\n",
    "        if time.time() - start_time > 180:\n",
    "            print(\"⏳ 무한 스크롤 방지를 위해 크롤링 중단\")\n",
    "            break\n",
    "\n",
    "    soup = BeautifulSoup(driver.page_source, \"html.parser\")\n",
    "    articles = soup.select(\"div.group_news > ul.list_news > li\")\n",
    "\n",
    "    news_list = []\n",
    "    for article in articles:\n",
    "        try:\n",
    "            title_element = article.select_one(\"a.news_tit\")\n",
    "            title = title_element.text.strip() if title_element else \"N/A\"\n",
    "            link = title_element[\"href\"] if title_element else \"N/A\"\n",
    "\n",
    "            date_element = article.select_one(\"span.info\")\n",
    "            date_text = date_element.text.strip() if date_element else \"N/A\"\n",
    "\n",
    "            news_list.append({\"title\": title, \"link\": link, \"date\": date_text})\n",
    "\n",
    "        except Exception as e:\n",
    "            print(f\"⚠ 오류 발생 (목록 크롤링 실패): {e}\")\n",
    "\n",
    "    print(f\"✅ {len(news_list)}개의 뉴스 기사 수집 완료! ({start_date} ~ {end_date})\")\n",
    "    return news_list\n",
    "\n",
    "def fetch_news_content(news_list):\n",
    "    \"\"\"뉴스 기사 본문 크롤링\"\"\"\n",
    "    news_data = []\n",
    "    retry_count = 3\n",
    "\n",
    "    for news in tqdm(news_list, desc=\"📰 뉴스 본문 크롤링 진행\"):\n",
    "        for attempt in range(retry_count):\n",
    "            try:\n",
    "                response = requests.get(news[\"link\"], headers=HEADERS, timeout=10)\n",
    "                if response.status_code != 200:\n",
    "                    print(f\"⚠ HTTP 오류: {response.status_code}\")\n",
    "                    time.sleep(random.uniform(3, 6))\n",
    "                    continue\n",
    "\n",
    "                soup = BeautifulSoup(response.text, \"html.parser\")\n",
    "\n",
    "                content_selectors = [\n",
    "                    \"div#newsct_article\", \"div#articleBodyContents\", \"div.article_view\",\n",
    "                    \"div.news_end\", \"div#articeBody\", \"div.content_area\",\n",
    "                    \"div#newsEndContents\", \"article\"\n",
    "                ]\n",
    "                content = \"\"\n",
    "                for selector in content_selectors:\n",
    "                    content_element = soup.select(selector)\n",
    "                    if content_element:\n",
    "                        content = \" \".join([p.text.strip() for p in content_element])\n",
    "                        break\n",
    "\n",
    "                news[\"content\"] = content.strip() if content else \"N/A\"\n",
    "                news_data.append(news)\n",
    "\n",
    "                break  # 성공하면 재시도 종료\n",
    "\n",
    "            except Exception as e:\n",
    "                print(f\"⚠ 오류 발생 (뉴스 크롤링 실패, {attempt+1}/{retry_count}): {news['link']}, 오류: {e}\")\n",
    "                time.sleep(random.uniform(3, 6))\n",
    "\n",
    "    return news_data\n",
    "\n",
    "# ✅ 크롤링 실행\n",
    "news_list = fetch_naver_news(search_query, START_DATE, END_DATE)\n",
    "news_data = fetch_news_content(news_list)\n",
    "\n",
    "# ✅ JSON 파일 저장\n",
    "output_file = f\"naver_news_{START_DATE.replace('.', '')}_{END_DATE.replace('.', '')}.json\"\n",
    "with open(output_file, \"w\", encoding=\"utf-8\") as f:\n",
    "    json.dump(news_data, f, ensure_ascii=False, indent=4)\n",
    "\n",
    "print(f\"✅ {START_DATE} ~ {END_DATE} 크롤링 완료! (저장 파일: {output_file})\")\n",
    "driver.quit()"
   ]
  },
  {
   "cell_type": "code",
   "execution_count": null,
   "metadata": {},
   "outputs": [],
   "source": [
    "# ✅ 크롤링할 검색어 (변경 가능)\n",
    "search_query = \"두코바니 원전\"\n",
    "\n",
    "# ✅ 크롤링할 기간 설정 (각 코드 실행 시 해당 기간만 변경)\n",
    "START_DATE = \"2024.01.01\"\n",
    "END_DATE = \"2024.03.31\"\n",
    "\n",
    "# ✅ 네이버 뉴스 검색 URL 템플릿\n",
    "NAVER_NEWS_URL_TEMPLATE = (\n",
    "    \"https://search.naver.com/search.naver?where=news&query={query}&sm=tab_opt&sort=0&photo=0\"\n",
    "    \"&field=0&pd=3&ds={start_date}&de={end_date}\"\n",
    ")\n",
    "\n",
    "# ✅ User-Agent 설정\n",
    "HEADERS = {\n",
    "    \"User-Agent\": \"Mozilla/5.0 (Windows NT 10.0; Win64; x64) AppleWebKit/537.36 (KHTML, like Gecko) Chrome/98.0.4758.102 Safari/537.36\"\n",
    "}\n",
    "\n",
    "# ✅ Selenium 옵션 설정\n",
    "chrome_options = Options()\n",
    "chrome_options.add_argument(\"--headless\")\n",
    "chrome_options.add_argument(\"--no-sandbox\")\n",
    "chrome_options.add_argument(\"--disable-dev-shm-usage\")\n",
    "chrome_options.add_argument(\"--disable-gpu\")\n",
    "\n",
    "# ✅ ChromeDriver 자동 설치\n",
    "service = Service(ChromeDriverManager().install())\n",
    "driver = webdriver.Chrome(service=service, options=chrome_options)\n",
    "\n",
    "def fetch_naver_news(query, start_date, end_date):\n",
    "    \"\"\"네이버 뉴스 검색 페이지에서 기사 링크 크롤링\"\"\"\n",
    "    search_url = NAVER_NEWS_URL_TEMPLATE.format(query=query, start_date=start_date, end_date=end_date)\n",
    "    driver.get(search_url)\n",
    "    time.sleep(random.uniform(2, 4))\n",
    "\n",
    "    print(f\"🔍 검색 중: {query} ({start_date} ~ {end_date})\")\n",
    "\n",
    "    last_height = driver.execute_script(\"return document.body.scrollHeight\")\n",
    "    start_time = time.time()\n",
    "\n",
    "    while True:\n",
    "        driver.find_element(By.TAG_NAME, \"body\").send_keys(Keys.END)\n",
    "        time.sleep(random.uniform(2, 4))\n",
    "        new_height = driver.execute_script(\"return document.body.scrollHeight\")\n",
    "\n",
    "        if new_height == last_height:\n",
    "            break\n",
    "        \n",
    "        last_height = new_height\n",
    "\n",
    "        # ⏳ 3분(180초) 이상 실행되면 종료\n",
    "        if time.time() - start_time > 180:\n",
    "            print(\"⏳ 무한 스크롤 방지를 위해 크롤링 중단\")\n",
    "            break\n",
    "\n",
    "    soup = BeautifulSoup(driver.page_source, \"html.parser\")\n",
    "    articles = soup.select(\"div.group_news > ul.list_news > li\")\n",
    "\n",
    "    news_list = []\n",
    "    for article in articles:\n",
    "        try:\n",
    "            title_element = article.select_one(\"a.news_tit\")\n",
    "            title = title_element.text.strip() if title_element else \"N/A\"\n",
    "            link = title_element[\"href\"] if title_element else \"N/A\"\n",
    "\n",
    "            date_element = article.select_one(\"span.info\")\n",
    "            date_text = date_element.text.strip() if date_element else \"N/A\"\n",
    "\n",
    "            news_list.append({\"title\": title, \"link\": link, \"date\": date_text})\n",
    "\n",
    "        except Exception as e:\n",
    "            print(f\"⚠ 오류 발생 (목록 크롤링 실패): {e}\")\n",
    "\n",
    "    print(f\"✅ {len(news_list)}개의 뉴스 기사 수집 완료! ({start_date} ~ {end_date})\")\n",
    "    return news_list\n",
    "\n",
    "def fetch_news_content(news_list):\n",
    "    \"\"\"뉴스 기사 본문 크롤링\"\"\"\n",
    "    news_data = []\n",
    "    retry_count = 3\n",
    "\n",
    "    for news in tqdm(news_list, desc=\"📰 뉴스 본문 크롤링 진행\"):\n",
    "        for attempt in range(retry_count):\n",
    "            try:\n",
    "                response = requests.get(news[\"link\"], headers=HEADERS, timeout=10)\n",
    "                if response.status_code != 200:\n",
    "                    print(f\"⚠ HTTP 오류: {response.status_code}\")\n",
    "                    time.sleep(random.uniform(3, 6))\n",
    "                    continue\n",
    "\n",
    "                soup = BeautifulSoup(response.text, \"html.parser\")\n",
    "\n",
    "                content_selectors = [\n",
    "                    \"div#newsct_article\", \"div#articleBodyContents\", \"div.article_view\",\n",
    "                    \"div.news_end\", \"div#articeBody\", \"div.content_area\",\n",
    "                    \"div#newsEndContents\", \"article\"\n",
    "                ]\n",
    "                content = \"\"\n",
    "                for selector in content_selectors:\n",
    "                    content_element = soup.select(selector)\n",
    "                    if content_element:\n",
    "                        content = \" \".join([p.text.strip() for p in content_element])\n",
    "                        break\n",
    "\n",
    "                news[\"content\"] = content.strip() if content else \"N/A\"\n",
    "                news_data.append(news)\n",
    "\n",
    "                break  # 성공하면 재시도 종료\n",
    "\n",
    "            except Exception as e:\n",
    "                print(f\"⚠ 오류 발생 (뉴스 크롤링 실패, {attempt+1}/{retry_count}): {news['link']}, 오류: {e}\")\n",
    "                time.sleep(random.uniform(3, 6))\n",
    "\n",
    "    return news_data\n",
    "\n",
    "# ✅ 크롤링 실행\n",
    "news_list = fetch_naver_news(search_query, START_DATE, END_DATE)\n",
    "news_data = fetch_news_content(news_list)\n",
    "\n",
    "# ✅ JSON 파일 저장\n",
    "output_file = f\"naver_news_{START_DATE.replace('.', '')}_{END_DATE.replace('.', '')}.json\"\n",
    "with open(output_file, \"w\", encoding=\"utf-8\") as f:\n",
    "    json.dump(news_data, f, ensure_ascii=False, indent=4)\n",
    "\n",
    "print(f\"✅ {START_DATE} ~ {END_DATE} 크롤링 완료! (저장 파일: {output_file})\")\n",
    "driver.quit()"
   ]
  },
  {
   "cell_type": "code",
   "execution_count": null,
   "metadata": {},
   "outputs": [],
   "source": [
    "# ✅ 크롤링할 검색어 (변경 가능)\n",
    "search_query = \"두코바니 원전\"\n",
    "\n",
    "# ✅ 크롤링할 기간 설정 (각 코드 실행 시 해당 기간만 변경)\n",
    "START_DATE = \"2024.04.01\"\n",
    "END_DATE = \"2024.06.31\"\n",
    "\n",
    "# ✅ 네이버 뉴스 검색 URL 템플릿\n",
    "NAVER_NEWS_URL_TEMPLATE = (\n",
    "    \"https://search.naver.com/search.naver?where=news&query={query}&sm=tab_opt&sort=0&photo=0\"\n",
    "    \"&field=0&pd=3&ds={start_date}&de={end_date}\"\n",
    ")\n",
    "\n",
    "# ✅ User-Agent 설정\n",
    "HEADERS = {\n",
    "    \"User-Agent\": \"Mozilla/5.0 (Windows NT 10.0; Win64; x64) AppleWebKit/537.36 (KHTML, like Gecko) Chrome/98.0.4758.102 Safari/537.36\"\n",
    "}\n",
    "\n",
    "# ✅ Selenium 옵션 설정\n",
    "chrome_options = Options()\n",
    "chrome_options.add_argument(\"--headless\")\n",
    "chrome_options.add_argument(\"--no-sandbox\")\n",
    "chrome_options.add_argument(\"--disable-dev-shm-usage\")\n",
    "chrome_options.add_argument(\"--disable-gpu\")\n",
    "\n",
    "# ✅ ChromeDriver 자동 설치\n",
    "service = Service(ChromeDriverManager().install())\n",
    "driver = webdriver.Chrome(service=service, options=chrome_options)\n",
    "\n",
    "def fetch_naver_news(query, start_date, end_date):\n",
    "    \"\"\"네이버 뉴스 검색 페이지에서 기사 링크 크롤링\"\"\"\n",
    "    search_url = NAVER_NEWS_URL_TEMPLATE.format(query=query, start_date=start_date, end_date=end_date)\n",
    "    driver.get(search_url)\n",
    "    time.sleep(random.uniform(2, 4))\n",
    "\n",
    "    print(f\"🔍 검색 중: {query} ({start_date} ~ {end_date})\")\n",
    "\n",
    "    last_height = driver.execute_script(\"return document.body.scrollHeight\")\n",
    "    start_time = time.time()\n",
    "\n",
    "    while True:\n",
    "        driver.find_element(By.TAG_NAME, \"body\").send_keys(Keys.END)\n",
    "        time.sleep(random.uniform(2, 4))\n",
    "        new_height = driver.execute_script(\"return document.body.scrollHeight\")\n",
    "\n",
    "        if new_height == last_height:\n",
    "            break\n",
    "        \n",
    "        last_height = new_height\n",
    "\n",
    "        # ⏳ 3분(180초) 이상 실행되면 종료\n",
    "        if time.time() - start_time > 180:\n",
    "            print(\"⏳ 무한 스크롤 방지를 위해 크롤링 중단\")\n",
    "            break\n",
    "\n",
    "    soup = BeautifulSoup(driver.page_source, \"html.parser\")\n",
    "    articles = soup.select(\"div.group_news > ul.list_news > li\")\n",
    "\n",
    "    news_list = []\n",
    "    for article in articles:\n",
    "        try:\n",
    "            title_element = article.select_one(\"a.news_tit\")\n",
    "            title = title_element.text.strip() if title_element else \"N/A\"\n",
    "            link = title_element[\"href\"] if title_element else \"N/A\"\n",
    "\n",
    "            date_element = article.select_one(\"span.info\")\n",
    "            date_text = date_element.text.strip() if date_element else \"N/A\"\n",
    "\n",
    "            news_list.append({\"title\": title, \"link\": link, \"date\": date_text})\n",
    "\n",
    "        except Exception as e:\n",
    "            print(f\"⚠ 오류 발생 (목록 크롤링 실패): {e}\")\n",
    "\n",
    "    print(f\"✅ {len(news_list)}개의 뉴스 기사 수집 완료! ({start_date} ~ {end_date})\")\n",
    "    return news_list\n",
    "\n",
    "def fetch_news_content(news_list):\n",
    "    \"\"\"뉴스 기사 본문 크롤링\"\"\"\n",
    "    news_data = []\n",
    "    retry_count = 3\n",
    "\n",
    "    for news in tqdm(news_list, desc=\"📰 뉴스 본문 크롤링 진행\"):\n",
    "        for attempt in range(retry_count):\n",
    "            try:\n",
    "                response = requests.get(news[\"link\"], headers=HEADERS, timeout=10)\n",
    "                if response.status_code != 200:\n",
    "                    print(f\"⚠ HTTP 오류: {response.status_code}\")\n",
    "                    time.sleep(random.uniform(3, 6))\n",
    "                    continue\n",
    "\n",
    "                soup = BeautifulSoup(response.text, \"html.parser\")\n",
    "\n",
    "                content_selectors = [\n",
    "                    \"div#newsct_article\", \"div#articleBodyContents\", \"div.article_view\",\n",
    "                    \"div.news_end\", \"div#articeBody\", \"div.content_area\",\n",
    "                    \"div#newsEndContents\", \"article\"\n",
    "                ]\n",
    "                content = \"\"\n",
    "                for selector in content_selectors:\n",
    "                    content_element = soup.select(selector)\n",
    "                    if content_element:\n",
    "                        content = \" \".join([p.text.strip() for p in content_element])\n",
    "                        break\n",
    "\n",
    "                news[\"content\"] = content.strip() if content else \"N/A\"\n",
    "                news_data.append(news)\n",
    "\n",
    "                break  # 성공하면 재시도 종료\n",
    "\n",
    "            except Exception as e:\n",
    "                print(f\"⚠ 오류 발생 (뉴스 크롤링 실패, {attempt+1}/{retry_count}): {news['link']}, 오류: {e}\")\n",
    "                time.sleep(random.uniform(3, 6))\n",
    "\n",
    "    return news_data\n",
    "\n",
    "# ✅ 크롤링 실행\n",
    "news_list = fetch_naver_news(search_query, START_DATE, END_DATE)\n",
    "news_data = fetch_news_content(news_list)\n",
    "\n",
    "# ✅ JSON 파일 저장\n",
    "output_file = f\"naver_news_{START_DATE.replace('.', '')}_{END_DATE.replace('.', '')}.json\"\n",
    "with open(output_file, \"w\", encoding=\"utf-8\") as f:\n",
    "    json.dump(news_data, f, ensure_ascii=False, indent=4)\n",
    "\n",
    "print(f\"✅ {START_DATE} ~ {END_DATE} 크롤링 완료! (저장 파일: {output_file})\")\n",
    "driver.quit()"
   ]
  },
  {
   "cell_type": "code",
   "execution_count": null,
   "metadata": {},
   "outputs": [],
   "source": [
    "# ✅ 크롤링할 검색어 (변경 가능)\n",
    "search_query = \"두코바니 원전\"\n",
    "\n",
    "# ✅ 크롤링할 기간 설정 (각 코드 실행 시 해당 기간만 변경)\n",
    "START_DATE = \"2024.07.01\"\n",
    "END_DATE = \"2024.09.31\"\n",
    "\n",
    "# ✅ 네이버 뉴스 검색 URL 템플릿\n",
    "NAVER_NEWS_URL_TEMPLATE = (\n",
    "    \"https://search.naver.com/search.naver?where=news&query={query}&sm=tab_opt&sort=0&photo=0\"\n",
    "    \"&field=0&pd=3&ds={start_date}&de={end_date}\"\n",
    ")\n",
    "\n",
    "# ✅ User-Agent 설정\n",
    "HEADERS = {\n",
    "    \"User-Agent\": \"Mozilla/5.0 (Windows NT 10.0; Win64; x64) AppleWebKit/537.36 (KHTML, like Gecko) Chrome/98.0.4758.102 Safari/537.36\"\n",
    "}\n",
    "\n",
    "# ✅ Selenium 옵션 설정\n",
    "chrome_options = Options()\n",
    "chrome_options.add_argument(\"--headless\")\n",
    "chrome_options.add_argument(\"--no-sandbox\")\n",
    "chrome_options.add_argument(\"--disable-dev-shm-usage\")\n",
    "chrome_options.add_argument(\"--disable-gpu\")\n",
    "\n",
    "# ✅ ChromeDriver 자동 설치\n",
    "service = Service(ChromeDriverManager().install())\n",
    "driver = webdriver.Chrome(service=service, options=chrome_options)\n",
    "\n",
    "def fetch_naver_news(query, start_date, end_date):\n",
    "    \"\"\"네이버 뉴스 검색 페이지에서 기사 링크 크롤링\"\"\"\n",
    "    search_url = NAVER_NEWS_URL_TEMPLATE.format(query=query, start_date=start_date, end_date=end_date)\n",
    "    driver.get(search_url)\n",
    "    time.sleep(random.uniform(2, 4))\n",
    "\n",
    "    print(f\"🔍 검색 중: {query} ({start_date} ~ {end_date})\")\n",
    "\n",
    "    last_height = driver.execute_script(\"return document.body.scrollHeight\")\n",
    "    start_time = time.time()\n",
    "\n",
    "    while True:\n",
    "        driver.find_element(By.TAG_NAME, \"body\").send_keys(Keys.END)\n",
    "        time.sleep(random.uniform(2, 4))\n",
    "        new_height = driver.execute_script(\"return document.body.scrollHeight\")\n",
    "\n",
    "        if new_height == last_height:\n",
    "            break\n",
    "        \n",
    "        last_height = new_height\n",
    "\n",
    "        # ⏳ 3분(180초) 이상 실행되면 종료\n",
    "        if time.time() - start_time > 180:\n",
    "            print(\"⏳ 무한 스크롤 방지를 위해 크롤링 중단\")\n",
    "            break\n",
    "\n",
    "    soup = BeautifulSoup(driver.page_source, \"html.parser\")\n",
    "    articles = soup.select(\"div.group_news > ul.list_news > li\")\n",
    "\n",
    "    news_list = []\n",
    "    for article in articles:\n",
    "        try:\n",
    "            title_element = article.select_one(\"a.news_tit\")\n",
    "            title = title_element.text.strip() if title_element else \"N/A\"\n",
    "            link = title_element[\"href\"] if title_element else \"N/A\"\n",
    "\n",
    "            date_element = article.select_one(\"span.info\")\n",
    "            date_text = date_element.text.strip() if date_element else \"N/A\"\n",
    "\n",
    "            news_list.append({\"title\": title, \"link\": link, \"date\": date_text})\n",
    "\n",
    "        except Exception as e:\n",
    "            print(f\"⚠ 오류 발생 (목록 크롤링 실패): {e}\")\n",
    "\n",
    "    print(f\"✅ {len(news_list)}개의 뉴스 기사 수집 완료! ({start_date} ~ {end_date})\")\n",
    "    return news_list\n",
    "\n",
    "def fetch_news_content(news_list):\n",
    "    \"\"\"뉴스 기사 본문 크롤링\"\"\"\n",
    "    news_data = []\n",
    "    retry_count = 3\n",
    "\n",
    "    for news in tqdm(news_list, desc=\"📰 뉴스 본문 크롤링 진행\"):\n",
    "        for attempt in range(retry_count):\n",
    "            try:\n",
    "                response = requests.get(news[\"link\"], headers=HEADERS, timeout=10)\n",
    "                if response.status_code != 200:\n",
    "                    print(f\"⚠ HTTP 오류: {response.status_code}\")\n",
    "                    time.sleep(random.uniform(3, 6))\n",
    "                    continue\n",
    "\n",
    "                soup = BeautifulSoup(response.text, \"html.parser\")\n",
    "\n",
    "                content_selectors = [\n",
    "                    \"div#newsct_article\", \"div#articleBodyContents\", \"div.article_view\",\n",
    "                    \"div.news_end\", \"div#articeBody\", \"div.content_area\",\n",
    "                    \"div#newsEndContents\", \"article\"\n",
    "                ]\n",
    "                content = \"\"\n",
    "                for selector in content_selectors:\n",
    "                    content_element = soup.select(selector)\n",
    "                    if content_element:\n",
    "                        content = \" \".join([p.text.strip() for p in content_element])\n",
    "                        break\n",
    "\n",
    "                news[\"content\"] = content.strip() if content else \"N/A\"\n",
    "                news_data.append(news)\n",
    "\n",
    "                break  # 성공하면 재시도 종료\n",
    "\n",
    "            except Exception as e:\n",
    "                print(f\"⚠ 오류 발생 (뉴스 크롤링 실패, {attempt+1}/{retry_count}): {news['link']}, 오류: {e}\")\n",
    "                time.sleep(random.uniform(3, 6))\n",
    "\n",
    "    return news_data\n",
    "\n",
    "# ✅ 크롤링 실행\n",
    "news_list = fetch_naver_news(search_query, START_DATE, END_DATE)\n",
    "news_data = fetch_news_content(news_list)\n",
    "\n",
    "# ✅ JSON 파일 저장\n",
    "output_file = f\"naver_news_{START_DATE.replace('.', '')}_{END_DATE.replace('.', '')}.json\"\n",
    "with open(output_file, \"w\", encoding=\"utf-8\") as f:\n",
    "    json.dump(news_data, f, ensure_ascii=False, indent=4)\n",
    "\n",
    "print(f\"✅ {START_DATE} ~ {END_DATE} 크롤링 완료! (저장 파일: {output_file})\")\n",
    "driver.quit()"
   ]
  },
  {
   "cell_type": "code",
   "execution_count": null,
   "metadata": {},
   "outputs": [],
   "source": [
    "# ✅ 크롤링할 검색어 (변경 가능)\n",
    "search_query = \"두코바니 원전\"\n",
    "\n",
    "# ✅ 크롤링할 기간 설정 (각 코드 실행 시 해당 기간만 변경)\n",
    "START_DATE = \"2024.10.01\"\n",
    "END_DATE = \"2024.12.31\"\n",
    "\n",
    "# ✅ 네이버 뉴스 검색 URL 템플릿\n",
    "NAVER_NEWS_URL_TEMPLATE = (\n",
    "    \"https://search.naver.com/search.naver?where=news&query={query}&sm=tab_opt&sort=0&photo=0\"\n",
    "    \"&field=0&pd=3&ds={start_date}&de={end_date}\"\n",
    ")\n",
    "\n",
    "# ✅ User-Agent 설정\n",
    "HEADERS = {\n",
    "    \"User-Agent\": \"Mozilla/5.0 (Windows NT 10.0; Win64; x64) AppleWebKit/537.36 (KHTML, like Gecko) Chrome/98.0.4758.102 Safari/537.36\"\n",
    "}\n",
    "\n",
    "# ✅ Selenium 옵션 설정\n",
    "chrome_options = Options()\n",
    "chrome_options.add_argument(\"--headless\")\n",
    "chrome_options.add_argument(\"--no-sandbox\")\n",
    "chrome_options.add_argument(\"--disable-dev-shm-usage\")\n",
    "chrome_options.add_argument(\"--disable-gpu\")\n",
    "\n",
    "# ✅ ChromeDriver 자동 설치\n",
    "service = Service(ChromeDriverManager().install())\n",
    "driver = webdriver.Chrome(service=service, options=chrome_options)\n",
    "\n",
    "def fetch_naver_news(query, start_date, end_date):\n",
    "    \"\"\"네이버 뉴스 검색 페이지에서 기사 링크 크롤링\"\"\"\n",
    "    search_url = NAVER_NEWS_URL_TEMPLATE.format(query=query, start_date=start_date, end_date=end_date)\n",
    "    driver.get(search_url)\n",
    "    time.sleep(random.uniform(2, 4))\n",
    "\n",
    "    print(f\"🔍 검색 중: {query} ({start_date} ~ {end_date})\")\n",
    "\n",
    "    last_height = driver.execute_script(\"return document.body.scrollHeight\")\n",
    "    start_time = time.time()\n",
    "\n",
    "    while True:\n",
    "        driver.find_element(By.TAG_NAME, \"body\").send_keys(Keys.END)\n",
    "        time.sleep(random.uniform(2, 4))\n",
    "        new_height = driver.execute_script(\"return document.body.scrollHeight\")\n",
    "\n",
    "        if new_height == last_height:\n",
    "            break\n",
    "        \n",
    "        last_height = new_height\n",
    "\n",
    "        # ⏳ 3분(180초) 이상 실행되면 종료\n",
    "        if time.time() - start_time > 180:\n",
    "            print(\"⏳ 무한 스크롤 방지를 위해 크롤링 중단\")\n",
    "            break\n",
    "\n",
    "    soup = BeautifulSoup(driver.page_source, \"html.parser\")\n",
    "    articles = soup.select(\"div.group_news > ul.list_news > li\")\n",
    "\n",
    "    news_list = []\n",
    "    for article in articles:\n",
    "        try:\n",
    "            title_element = article.select_one(\"a.news_tit\")\n",
    "            title = title_element.text.strip() if title_element else \"N/A\"\n",
    "            link = title_element[\"href\"] if title_element else \"N/A\"\n",
    "\n",
    "            date_element = article.select_one(\"span.info\")\n",
    "            date_text = date_element.text.strip() if date_element else \"N/A\"\n",
    "\n",
    "            news_list.append({\"title\": title, \"link\": link, \"date\": date_text})\n",
    "\n",
    "        except Exception as e:\n",
    "            print(f\"⚠ 오류 발생 (목록 크롤링 실패): {e}\")\n",
    "\n",
    "    print(f\"✅ {len(news_list)}개의 뉴스 기사 수집 완료! ({start_date} ~ {end_date})\")\n",
    "    return news_list\n",
    "\n",
    "def fetch_news_content(news_list):\n",
    "    \"\"\"뉴스 기사 본문 크롤링\"\"\"\n",
    "    news_data = []\n",
    "    retry_count = 3\n",
    "\n",
    "    for news in tqdm(news_list, desc=\"📰 뉴스 본문 크롤링 진행\"):\n",
    "        for attempt in range(retry_count):\n",
    "            try:\n",
    "                response = requests.get(news[\"link\"], headers=HEADERS, timeout=10)\n",
    "                if response.status_code != 200:\n",
    "                    print(f\"⚠ HTTP 오류: {response.status_code}\")\n",
    "                    time.sleep(random.uniform(3, 6))\n",
    "                    continue\n",
    "\n",
    "                soup = BeautifulSoup(response.text, \"html.parser\")\n",
    "\n",
    "                content_selectors = [\n",
    "                    \"div#newsct_article\", \"div#articleBodyContents\", \"div.article_view\",\n",
    "                    \"div.news_end\", \"div#articeBody\", \"div.content_area\",\n",
    "                    \"div#newsEndContents\", \"article\"\n",
    "                ]\n",
    "                content = \"\"\n",
    "                for selector in content_selectors:\n",
    "                    content_element = soup.select(selector)\n",
    "                    if content_element:\n",
    "                        content = \" \".join([p.text.strip() for p in content_element])\n",
    "                        break\n",
    "\n",
    "                news[\"content\"] = content.strip() if content else \"N/A\"\n",
    "                news_data.append(news)\n",
    "\n",
    "                break  # 성공하면 재시도 종료\n",
    "\n",
    "            except Exception as e:\n",
    "                print(f\"⚠ 오류 발생 (뉴스 크롤링 실패, {attempt+1}/{retry_count}): {news['link']}, 오류: {e}\")\n",
    "                time.sleep(random.uniform(3, 6))\n",
    "\n",
    "    return news_data\n",
    "\n",
    "# ✅ 크롤링 실행\n",
    "news_list = fetch_naver_news(search_query, START_DATE, END_DATE)\n",
    "news_data = fetch_news_content(news_list)\n",
    "\n",
    "# ✅ JSON 파일 저장\n",
    "output_file = f\"naver_news_{START_DATE.replace('.', '')}_{END_DATE.replace('.', '')}.json\"\n",
    "with open(output_file, \"w\", encoding=\"utf-8\") as f:\n",
    "    json.dump(news_data, f, ensure_ascii=False, indent=4)\n",
    "\n",
    "print(f\"✅ {START_DATE} ~ {END_DATE} 크롤링 완료! (저장 파일: {output_file})\")\n",
    "driver.quit()"
   ]
  },
  {
   "cell_type": "code",
   "execution_count": null,
   "metadata": {},
   "outputs": [],
   "source": [
    "import json\n",
    "import os\n",
    "\n",
    "# ✅ JSON 파일 리스트 가져오기\n",
    "json_files = [f for f in os.listdir() if f.startswith(\"naver_news_\") and f.endswith(\".json\")]\n",
    "\n",
    "# ✅ 모든 JSON 파일 합치기\n",
    "all_news = []\n",
    "for file in json_files:\n",
    "    with open(file, \"r\", encoding=\"utf-8\") as f:\n",
    "        news_data = json.load(f)\n",
    "        all_news.extend(news_data)\n",
    "\n",
    "# ✅ 통합 JSON 파일 저장\n",
    "output_file = \"naver_news_all.json\"\n",
    "with open(output_file, \"w\", encoding=\"utf-8\") as f:\n",
    "    json.dump(all_news, f, ensure_ascii=False, indent=4)\n",
    "\n",
    "print(f\"✅ 총 {len(all_news)}개의 뉴스 기사를 통합 저장했습니다! (파일명: {output_file})\")\n"
   ]
  }
 ],
 "metadata": {
  "colab": {
   "provenance": []
  },
  "kernelspec": {
   "display_name": "Python 3",
   "language": "python",
   "name": "python3"
  },
  "language_info": {
   "codemirror_mode": {
    "name": "ipython",
    "version": 3
   },
   "file_extension": ".py",
   "mimetype": "text/x-python",
   "name": "python",
   "nbconvert_exporter": "python",
   "pygments_lexer": "ipython3",
   "version": "3.12.3"
  }
 },
 "nbformat": 4,
 "nbformat_minor": 4
}
