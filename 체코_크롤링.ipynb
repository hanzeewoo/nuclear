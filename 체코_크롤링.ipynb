{
 "cells": [
  {
   "cell_type": "code",
   "execution_count": null,
   "metadata": {},
   "outputs": [],
   "source": [
    "#Jaderná elektrárna Dukovany(두코바니 원자력 발전소)\n",
    "\n",
    "#https://search.seznam.cz/clanky/?q=Jadern%C3%A1%20elektr%C3%A1rna%20Dukovany\n",
    "#리눅스 환경에서 코드 실행 중"
   ]
  },
  {
   "cell_type": "code",
   "execution_count": null,
   "metadata": {},
   "outputs": [
    {
     "name": "stdout",
     "output_type": "stream",
     "text": [
      "🔍 검색 중: 두코바니 원전 (2022.01.01 ~ 2022.03.31)\n",
      "✅ 198개의 뉴스 기사 링크 및 날짜를 수집 완료! (2022.01.01 ~ 2022.03.31)\n"
     ]
    },
    {
     "name": "stderr",
     "output_type": "stream",
     "text": [
      "📰 뉴스 본문 크롤링 진행:   0%|          | 0/198 [00:00<?, ?it/s]"
     ]
    },
    {
     "name": "stdout",
     "output_type": "stream",
     "text": [
      "⚠ 본문을 가져오지 못해 Selenium으로 재시도: http://www.edaily.co.kr/news/newspath.asp?newsid=02273046632268896\n",
      "✅ 크롤링 완료: 산업부, 체코와의 공동 원자력 연구사업에 12억원 지원...\n"
     ]
    },
    {
     "name": "stderr",
     "output_type": "stream",
     "text": [
      "📰 뉴스 본문 크롤링 진행:   1%|          | 1/198 [00:06<21:05,  6.42s/it]"
     ]
    },
    {
     "name": "stdout",
     "output_type": "stream",
     "text": [
      "⚠ 본문을 가져오지 못해 Selenium으로 재시도: http://www.edaily.co.kr/news/newspath.asp?newsid=03863846632268896\n",
      "✅ 크롤링 완료: 체코 원전사업 수주 ‘드림팀’ 띄우나…인수위, 윤석열 당선인에 보고...\n"
     ]
    },
    {
     "name": "stderr",
     "output_type": "stream",
     "text": [
      "📰 뉴스 본문 크롤링 진행:   1%|          | 2/198 [00:11<19:00,  5.82s/it]"
     ]
    },
    {
     "name": "stdout",
     "output_type": "stream",
     "text": [
      "✅ 크롤링 완료: 탈원전 폐기 본격화…산업부, 인수위에 원전정책 재정립 보고...\n"
     ]
    },
    {
     "name": "stderr",
     "output_type": "stream",
     "text": [
      "📰 뉴스 본문 크롤링 진행:   2%|▏         | 3/198 [00:13<12:30,  3.85s/it]"
     ]
    },
    {
     "name": "stdout",
     "output_type": "stream",
     "text": [
      "⚠ 본문을 가져오지 못해 Selenium으로 재시도: http://www.fnnews.com/news/202203231435028488\n",
      "✅ 크롤링 완료: 8조 체코원전 본입찰...양국 핵심인사 교차방문 '원전 2호 수출 가속페......\n"
     ]
    },
    {
     "name": "stderr",
     "output_type": "stream",
     "text": [
      "📰 뉴스 본문 크롤링 진행:   2%|▏         | 4/198 [00:24<22:25,  6.93s/it]"
     ]
    },
    {
     "name": "stdout",
     "output_type": "stream",
     "text": [
      "⚠ 본문을 가져오지 못해 Selenium으로 재시도: http://www.mbn.co.kr/pages/news/newsView.php?news_seq_no=4724094\n",
      "✅ 크롤링 완료: '원전 부흥' 약속이 수출로 이어질까?…8조 체코 원전 수주전...\n"
     ]
    },
    {
     "name": "stderr",
     "output_type": "stream",
     "text": [
      "📰 뉴스 본문 크롤링 진행:   3%|▎         | 5/198 [00:32<23:17,  7.24s/it]"
     ]
    },
    {
     "name": "stdout",
     "output_type": "stream",
     "text": [
      "⚠ 본문을 가져오지 못해 Selenium으로 재시도: http://www.munhwa.com/news/view.html?no=2022032801032603017003\n",
      "✅ 크롤링 완료: ‘원전강국 재도약’… 8조원대 체코사업 수주 총력전...\n"
     ]
    },
    {
     "name": "stderr",
     "output_type": "stream",
     "text": [
      "📰 뉴스 본문 크롤링 진행:   3%|▎         | 6/198 [00:38<21:58,  6.86s/it]"
     ]
    },
    {
     "name": "stdout",
     "output_type": "stream",
     "text": [
      "⚠ 본문을 가져오지 못해 Selenium으로 재시도: https://www.dailian.co.kr/news/view/1096677/?sc=Naver\n",
      "✅ 크롤링 완료: 탈원전에 칼 댔다…산업부, 인수위에 '원전 활용방안' 보고...\n"
     ]
    },
    {
     "name": "stderr",
     "output_type": "stream",
     "text": [
      "📰 뉴스 본문 크롤링 진행:   4%|▎         | 7/198 [00:44<20:16,  6.37s/it]"
     ]
    },
    {
     "name": "stdout",
     "output_type": "stream",
     "text": [
      "✅ 크롤링 완료: 원전 수출 재개하나…한수원, 체코 신규원전 입찰 참여...\n"
     ]
    },
    {
     "name": "stderr",
     "output_type": "stream",
     "text": [
      "📰 뉴스 본문 크롤링 진행:   4%|▍         | 8/198 [00:45<14:49,  4.68s/it]"
     ]
    },
    {
     "name": "stdout",
     "output_type": "stream",
     "text": [
      "✅ 크롤링 완료: 원전 품은 K택소노미…힘 받는 尹 '탄소중립'...\n"
     ]
    },
    {
     "name": "stderr",
     "output_type": "stream",
     "text": [
      "📰 뉴스 본문 크롤링 진행:   5%|▍         | 9/198 [00:46<11:29,  3.65s/it]"
     ]
    },
    {
     "name": "stdout",
     "output_type": "stream",
     "text": [
      "⚠ 본문을 가져오지 못해 Selenium으로 재시도: https://zdnet.co.kr/view/?no=20220321011429\n"
     ]
    },
    {
     "name": "stderr",
     "output_type": "stream",
     "text": [
      "📰 뉴스 본문 크롤링 진행:   5%|▌         | 10/198 [02:46<2:04:12, 39.64s/it]"
     ]
    },
    {
     "name": "stdout",
     "output_type": "stream",
     "text": [
      "⚠ 오류 발생 (뉴스 크롤링 실패): https://zdnet.co.kr/view/?no=20220321011429, 오류: HTTPConnectionPool(host='localhost', port=57257): Read timed out. (read timeout=120)\n",
      "⚠ 본문을 가져오지 못해 Selenium으로 재시도: http://news.mk.co.kr/newsRead.php?no=265615&year=2022\n",
      "✅ 크롤링 완료: [단독] 산업부, 尹에 원전 수명연장 보고…'원전 회귀' 신호탄...\n"
     ]
    },
    {
     "name": "stderr",
     "output_type": "stream",
     "text": [
      "📰 뉴스 본문 크롤링 진행:   6%|▌         | 11/198 [03:07<1:45:45, 33.93s/it]"
     ]
    },
    {
     "name": "stdout",
     "output_type": "stream",
     "text": [
      "⚠ 본문을 가져오지 못해 Selenium으로 재시도: https://www.wowtv.co.kr/NewsCenter/News/Read?articleId=A202203160112&t=NNv\n"
     ]
    },
    {
     "name": "stderr",
     "output_type": "stream",
     "text": [
      "📰 뉴스 본문 크롤링 진행:   6%|▌         | 12/198 [05:08<3:06:45, 60.25s/it]"
     ]
    },
    {
     "name": "stdout",
     "output_type": "stream",
     "text": [
      "⚠ 오류 발생 (뉴스 크롤링 실패): https://www.wowtv.co.kr/NewsCenter/News/Read?articleId=A202203160112&t=NNv, 오류: HTTPConnectionPool(host='localhost', port=57257): Read timed out. (read timeout=120)\n",
      "✅ 크롤링 완료: 숨죽였던 탈원전 5년, 부활 기지개 켜는 원전업계[뒷북경제]...\n"
     ]
    },
    {
     "name": "stderr",
     "output_type": "stream",
     "text": [
      "📰 뉴스 본문 크롤링 진행:   7%|▋         | 13/198 [05:09<2:10:38, 42.37s/it]"
     ]
    },
    {
     "name": "stdout",
     "output_type": "stream",
     "text": [
      "⚠ 본문을 가져오지 못해 Selenium으로 재시도: http://www.munhwa.com/news/view.html?no=2022032501073711000002\n",
      "✅ 크롤링 완료: <문화논단>원전 일류國 복귀와 ‘연구기금’ 창설...\n"
     ]
    },
    {
     "name": "stderr",
     "output_type": "stream",
     "text": [
      "📰 뉴스 본문 크롤링 진행:   7%|▋         | 14/198 [05:29<1:48:59, 35.54s/it]"
     ]
    },
    {
     "name": "stdout",
     "output_type": "stream",
     "text": [
      "✅ 크롤링 완료: 정재훈 한수원 사장, 7번 체코行…'8조원 잭팟' 원전수주 총력...\n"
     ]
    },
    {
     "name": "stderr",
     "output_type": "stream",
     "text": [
      "📰 뉴스 본문 크롤링 진행:   8%|▊         | 15/198 [05:30<1:16:58, 25.24s/it]"
     ]
    },
    {
     "name": "stdout",
     "output_type": "stream",
     "text": [
      "⚠ 본문을 가져오지 못해 Selenium으로 재시도: https://www.chosun.com/economy/industry-company/2022/03/14/KYGE7QAMBZHKDLX7UYHD4F6YZ4/?utm_source=naver&utm_medium=referral&utm_campaign=naver-news\n",
      "✅ 크롤링 완료: 10년 넘게 원전 수출 ‘제로’… 尹 “2030년까지 10기 팔겠다”...\n"
     ]
    },
    {
     "name": "stderr",
     "output_type": "stream",
     "text": [
      "📰 뉴스 본문 크롤링 진행:   8%|▊         | 16/198 [05:38<1:00:26, 19.93s/it]"
     ]
    },
    {
     "name": "stdout",
     "output_type": "stream",
     "text": [
      "⚠ 본문을 가져오지 못해 Selenium으로 재시도: https://www.businesspost.co.kr/BP?command=article_view&num=275196\n",
      "✅ 크롤링 완료: [오늘Who] 대우건설 원전 호재, 백정완 체코원전과 소형모듈원전 기대...\n"
     ]
    },
    {
     "name": "stderr",
     "output_type": "stream",
     "text": [
      "📰 뉴스 본문 크롤링 진행:   9%|▊         | 17/198 [05:43<46:50, 15.53s/it]  "
     ]
    },
    {
     "name": "stdout",
     "output_type": "stream",
     "text": [
      "⚠ 본문을 가져오지 못해 Selenium으로 재시도: http://www.g-enews.com/ko-kr/news/article/news_all/2022032517333656825df15c1126_1/article.html\n",
      "✅ 크롤링 완료: 한수원, 체코 두코바니 원전 건설 65억 유로 제안 수용...\n"
     ]
    },
    {
     "name": "stderr",
     "output_type": "stream",
     "text": [
      "📰 뉴스 본문 크롤링 진행:   9%|▉         | 18/198 [05:49<37:29, 12.49s/it]"
     ]
    },
    {
     "name": "stdout",
     "output_type": "stream",
     "text": [
      "✅ 크롤링 완료: 한수원, '8조원 규모' 체코 원전사업 수주 총력...\n"
     ]
    },
    {
     "name": "stderr",
     "output_type": "stream",
     "text": [
      "📰 뉴스 본문 크롤링 진행:  10%|▉         | 19/198 [05:50<27:09,  9.10s/it]"
     ]
    },
    {
     "name": "stdout",
     "output_type": "stream",
     "text": [
      "✅ 크롤링 완료: 에너지 독립 외치는 유럽…'원전 유턴' 속도낸다...\n"
     ]
    },
    {
     "name": "stderr",
     "output_type": "stream",
     "text": [
      "📰 뉴스 본문 크롤링 진행:  10%|█         | 20/198 [05:51<20:09,  6.79s/it]"
     ]
    },
    {
     "name": "stdout",
     "output_type": "stream",
     "text": [
      "✅ 크롤링 완료: 한수원, 8조원 규모 체코 신규원전 수주 총력… 미·프랑스와 경쟁...\n"
     ]
    },
    {
     "name": "stderr",
     "output_type": "stream",
     "text": [
      "📰 뉴스 본문 크롤링 진행:  11%|█         | 21/198 [05:53<15:19,  5.19s/it]"
     ]
    },
    {
     "name": "stdout",
     "output_type": "stream",
     "text": [
      "⚠ 본문을 가져오지 못해 Selenium으로 재시도: http://www.breaknews.com/881326\n",
      "✅ 크롤링 완료: 한수원, 체코 신규 원전사업 수주에 총력전 펼쳐...\n"
     ]
    },
    {
     "name": "stderr",
     "output_type": "stream",
     "text": [
      "📰 뉴스 본문 크롤링 진행:  11%|█         | 22/198 [06:00<17:11,  5.86s/it]"
     ]
    },
    {
     "name": "stdout",
     "output_type": "stream",
     "text": [
      "⚠ 본문을 가져오지 못해 Selenium으로 재시도: http://www.edaily.co.kr/news/newspath.asp?newsid=01357926632263648\n",
      "✅ 크롤링 완료: “원전 투자, 중장기 모멘텀 현실화 시점까지 중장기 접근”...\n"
     ]
    },
    {
     "name": "stderr",
     "output_type": "stream",
     "text": [
      "📰 뉴스 본문 크롤링 진행:  12%|█▏        | 23/198 [06:06<16:50,  5.78s/it]"
     ]
    },
    {
     "name": "stdout",
     "output_type": "stream",
     "text": [
      "✅ 크롤링 완료: '한·미·프 3국에만 러브콜'···尹 브레인이 꼽은 8조 원전대전 '개막......\n"
     ]
    },
    {
     "name": "stderr",
     "output_type": "stream",
     "text": [
      "📰 뉴스 본문 크롤링 진행:  12%|█▏        | 24/198 [06:07<13:13,  4.56s/it]"
     ]
    },
    {
     "name": "stdout",
     "output_type": "stream",
     "text": [
      "⚠ 본문을 가져오지 못해 Selenium으로 재시도: http://www.breaknews.com/879851\n",
      "✅ 크롤링 완료: 한수원, 체코 신규원전사업 수주에 총력...\n"
     ]
    },
    {
     "name": "stderr",
     "output_type": "stream",
     "text": [
      "📰 뉴스 본문 크롤링 진행:  13%|█▎        | 25/198 [06:14<15:07,  5.24s/it]"
     ]
    },
    {
     "name": "stdout",
     "output_type": "stream",
     "text": [
      "✅ 크롤링 완료: [특징주] 한신기계, 콤프레샤 원천기술 보유…한수원 체코 원전 본입찰......\n"
     ]
    },
    {
     "name": "stderr",
     "output_type": "stream",
     "text": [
      "📰 뉴스 본문 크롤링 진행:  13%|█▎        | 26/198 [06:15<11:33,  4.03s/it]"
     ]
    },
    {
     "name": "stdout",
     "output_type": "stream",
     "text": [
      "✅ 크롤링 완료: 한수원, '체코 신규원전 입찰 개시' 수주 총력...\n"
     ]
    },
    {
     "name": "stderr",
     "output_type": "stream",
     "text": [
      "📰 뉴스 본문 크롤링 진행:  14%|█▎        | 27/198 [06:17<09:04,  3.19s/it]"
     ]
    },
    {
     "name": "stdout",
     "output_type": "stream",
     "text": [
      "⚠ 본문을 가져오지 못해 Selenium으로 재시도: http://www.ksmnews.co.kr/default/index_view_page.php?idx=371864&part_idx=295\n",
      "✅ 크롤링 완료: 체코 신규 원전사업 입찰 개시…한수원 ‘사업수주’ 총력...\n"
     ]
    },
    {
     "name": "stderr",
     "output_type": "stream",
     "text": [
      "📰 뉴스 본문 크롤링 진행:  14%|█▍        | 28/198 [06:22<10:38,  3.75s/it]"
     ]
    },
    {
     "name": "stdout",
     "output_type": "stream",
     "text": [
      "✅ 크롤링 완료: 외교부, 신규원전 입찰 개시한 체코에 국내 기업 참여 관심 당부...\n"
     ]
    },
    {
     "name": "stderr",
     "output_type": "stream",
     "text": [
      "📰 뉴스 본문 크롤링 진행:  15%|█▍        | 29/198 [06:23<08:31,  3.03s/it]"
     ]
    },
    {
     "name": "stdout",
     "output_type": "stream",
     "text": [
      "⚠ 본문을 가져오지 못해 Selenium으로 재시도: https://www.theguru.co.kr/news/article.html?no=32540\n",
      "✅ 크롤링 완료: [여의옥] 체코, '8조' 두코바니 원전 입찰 막 오른다…윤석열 당선인 기......\n"
     ]
    },
    {
     "name": "stderr",
     "output_type": "stream",
     "text": [
      "📰 뉴스 본문 크롤링 진행:  15%|█▌        | 30/198 [06:28<10:20,  3.69s/it]"
     ]
    },
    {
     "name": "stdout",
     "output_type": "stream",
     "text": [
      "⚠ 본문을 가져오지 못해 Selenium으로 재시도: http://www.mediapen.com/news/view/709515\n",
      "✅ 크롤링 완료: 한수원, 원전·수소 앞세워 한전 '하드캐리' 강화...\n"
     ]
    },
    {
     "name": "stderr",
     "output_type": "stream",
     "text": [
      "📰 뉴스 본문 크롤링 진행:  16%|█▌        | 31/198 [06:33<11:23,  4.10s/it]"
     ]
    },
    {
     "name": "stdout",
     "output_type": "stream",
     "text": [
      "⚠ 본문을 가져오지 못해 Selenium으로 재시도: https://www.radiokorea.com/news/article.php?uid=384204\n",
      "✅ 크롤링 완료: 유럽, 에너지 위기속에 원전 활용으로 회귀 현상...\n"
     ]
    },
    {
     "name": "stderr",
     "output_type": "stream",
     "text": [
      "📰 뉴스 본문 크롤링 진행:  16%|█▌        | 32/198 [06:43<16:17,  5.89s/it]"
     ]
    },
    {
     "name": "stdout",
     "output_type": "stream",
     "text": [
      "⚠ 본문을 가져오지 못해 Selenium으로 재시도: https://www.theguru.co.kr/news/article.html?no=32155\n",
      "✅ 크롤링 완료: \"경제성 분석 생략\" 체코 환경단체 반발…두코바니 원전 발목...\n"
     ]
    },
    {
     "name": "stderr",
     "output_type": "stream",
     "text": [
      "📰 뉴스 본문 크롤링 진행:  17%|█▋        | 33/198 [06:48<14:56,  5.43s/it]"
     ]
    },
    {
     "name": "stdout",
     "output_type": "stream",
     "text": [
      "⚠ 본문을 가져오지 못해 Selenium으로 재시도: https://www.theguru.co.kr/news/article.html?no=31857\n",
      "✅ 크롤링 완료: 체코, 두코바니 원전 입찰 준비 순항…2024년 후보 평가 완료...\n"
     ]
    },
    {
     "name": "stderr",
     "output_type": "stream",
     "text": [
      "📰 뉴스 본문 크롤링 진행:  17%|█▋        | 34/198 [06:52<13:49,  5.06s/it]"
     ]
    },
    {
     "name": "stdout",
     "output_type": "stream",
     "text": [
      "⚠ 본문을 가져오지 못해 Selenium으로 재시도: https://www.theguru.co.kr/news/article.html?no=31193\n",
      "✅ 크롤링 완료: 체코 총리 \"두코바니 원전 입찰 곧 개시\"...\n"
     ]
    },
    {
     "name": "stderr",
     "output_type": "stream",
     "text": [
      "📰 뉴스 본문 크롤링 진행:  18%|█▊        | 35/198 [06:56<13:01,  4.80s/it]"
     ]
    },
    {
     "name": "stdout",
     "output_type": "stream",
     "text": [
      "✅ 크롤링 완료: 체코, 원자력·신재생E 확대...\n"
     ]
    },
    {
     "name": "stderr",
     "output_type": "stream",
     "text": [
      "📰 뉴스 본문 크롤링 진행:  18%|█▊        | 36/198 [06:57<10:04,  3.73s/it]"
     ]
    },
    {
     "name": "stdout",
     "output_type": "stream",
     "text": [
      "⚠ 본문을 가져오지 못해 Selenium으로 재시도: https://biz.chosun.com/stock/stock_general/2022/02/28/CAIMHUHEUZBEXBZXE5WHWUIZAA/?utm_source=naver&utm_medium=original&utm_campaign=biz\n",
      "✅ 크롤링 완료: 文대통령 “원전이 주력” 한마디에 시간 외 시총 1조 오른 원전주…증......\n"
     ]
    },
    {
     "name": "stderr",
     "output_type": "stream",
     "text": [
      "📰 뉴스 본문 크롤링 진행:  19%|█▊        | 37/198 [07:06<13:43,  5.11s/it]"
     ]
    },
    {
     "name": "stdout",
     "output_type": "stream",
     "text": [
      "⚠ 본문을 가져오지 못해 Selenium으로 재시도: https://www.theguru.co.kr/news/article.html?no=31482\n",
      "✅ 크롤링 완료: 佛 \"원전 수주하면…체코, 프랑스 발전시장 진출 보장\"…한수원 예의주......\n"
     ]
    },
    {
     "name": "stderr",
     "output_type": "stream",
     "text": [
      "📰 뉴스 본문 크롤링 진행:  19%|█▉        | 38/198 [07:10<12:57,  4.86s/it]"
     ]
    },
    {
     "name": "stdout",
     "output_type": "stream",
     "text": [
      "✅ 크롤링 완료: [에너지공기업의 무한변신ㅣ한국수력원자력]원전·신재생 해외 진출…한......\n"
     ]
    },
    {
     "name": "stderr",
     "output_type": "stream",
     "text": [
      "📰 뉴스 본문 크롤링 진행:  20%|█▉        | 39/198 [07:11<10:06,  3.82s/it]"
     ]
    },
    {
     "name": "stdout",
     "output_type": "stream",
     "text": [
      "⚠ 본문을 가져오지 못해 Selenium으로 재시도: http://www.mediapen.com/news/view/700125\n",
      "✅ 크롤링 완료: [원전 르네상스②]탈원전 딛고 동유럽·중동서 수출 축포 쏠까...\n"
     ]
    },
    {
     "name": "stderr",
     "output_type": "stream",
     "text": [
      "📰 뉴스 본문 크롤링 진행:  20%|██        | 40/198 [07:16<10:27,  3.97s/it]"
     ]
    },
    {
     "name": "stdout",
     "output_type": "stream",
     "text": [
      "⚠ 본문을 가져오지 못해 Selenium으로 재시도: https://www.theguru.co.kr/news/article.html?no=30386\n",
      "✅ 크롤링 완료: 웨스팅하우스, 체코 원전 수주전 보폭 확대…현지 기업 7곳 양해각서...\n"
     ]
    },
    {
     "name": "stderr",
     "output_type": "stream",
     "text": [
      "📰 뉴스 본문 크롤링 진행:  21%|██        | 41/198 [07:20<10:42,  4.09s/it]"
     ]
    },
    {
     "name": "stdout",
     "output_type": "stream",
     "text": [
      "⚠ 본문을 가져오지 못해 Selenium으로 재시도: http://www.fnnews.com/news/202202041048500986\n",
      "✅ 크롤링 완료: '수출1호' UAE원전 전체 준공 눈앞...'원전 건설에서 운영' 중심 이동...\n"
     ]
    },
    {
     "name": "stderr",
     "output_type": "stream",
     "text": [
      "📰 뉴스 본문 크롤링 진행:  21%|██        | 42/198 [07:27<12:59,  5.00s/it]"
     ]
    },
    {
     "name": "stdout",
     "output_type": "stream",
     "text": [
      "✅ 크롤링 완료: 탈원전 5년간, 해외 수주 ‘0′…이집트 원전이 구세주 될까?...\n"
     ]
    },
    {
     "name": "stderr",
     "output_type": "stream",
     "text": [
      "📰 뉴스 본문 크롤링 진행:  22%|██▏       | 43/198 [07:28<10:02,  3.89s/it]"
     ]
    },
    {
     "name": "stdout",
     "output_type": "stream",
     "text": [
      "✅ 크롤링 완료: 전세계 원전 432기 건설 추진, ‘팀코리아’ 수주 총력전...\n"
     ]
    },
    {
     "name": "stderr",
     "output_type": "stream",
     "text": [
      "📰 뉴스 본문 크롤링 진행:  22%|██▏       | 44/198 [07:30<07:56,  3.09s/it]"
     ]
    },
    {
     "name": "stdout",
     "output_type": "stream",
     "text": [
      "✅ 크롤링 완료: 산업장관 \"사우디 원전 수주 재개 대비…체코·폴란드도 진행\"...\n"
     ]
    },
    {
     "name": "stderr",
     "output_type": "stream",
     "text": [
      "📰 뉴스 본문 크롤링 진행:  23%|██▎       | 45/198 [07:31<06:39,  2.61s/it]"
     ]
    },
    {
     "name": "stdout",
     "output_type": "stream",
     "text": [
      "✅ 크롤링 완료: (원전수출 진단①) 한미 해외원전 진출 선언 이후…시장은 ‘각자도생’...\n"
     ]
    },
    {
     "name": "stderr",
     "output_type": "stream",
     "text": [
      "📰 뉴스 본문 크롤링 진행:  23%|██▎       | 46/198 [07:33<05:52,  2.32s/it]"
     ]
    },
    {
     "name": "stdout",
     "output_type": "stream",
     "text": [
      "⚠ 본문을 가져오지 못해 Selenium으로 재시도: https://www.theguru.co.kr/news/article.html?no=31153\n",
      "✅ 크롤링 완료: 한수원·웨스팅하우스 체코서 세 불린다…프랑스 EDF도 사무소 신설...\n"
     ]
    },
    {
     "name": "stderr",
     "output_type": "stream",
     "text": [
      "📰 뉴스 본문 크롤링 진행:  24%|██▎       | 47/198 [07:37<07:23,  2.93s/it]"
     ]
    },
    {
     "name": "stdout",
     "output_type": "stream",
     "text": [
      "⚠ 본문을 가져오지 못해 Selenium으로 재시도: http://dream.kotra.or.kr/kotranews/cms/news/actionKotraBoardDetail.do?SITE_NO=3&MENU_ID=410&CONTENTS_NO=1&bbsGbn=242&bbsSn=242&pNttSn=193341\n",
      "✅ 크롤링 완료: 체코 신임 정부 정책방향 및 전망...\n"
     ]
    },
    {
     "name": "stderr",
     "output_type": "stream",
     "text": [
      "📰 뉴스 본문 크롤링 진행:  24%|██▍       | 48/198 [07:41<08:22,  3.35s/it]"
     ]
    },
    {
     "name": "stdout",
     "output_type": "stream",
     "text": [
      "⚠ 본문을 가져오지 못해 Selenium으로 재시도: https://premium.mk.co.kr/view.php?no=31676\n",
      "✅ 크롤링 완료: 매경이 전하는 세상의 지식 (매-세-지, 3월 24일)...\n"
     ]
    },
    {
     "name": "stderr",
     "output_type": "stream",
     "text": [
      "📰 뉴스 본문 크롤링 진행:  25%|██▍       | 49/198 [07:47<09:58,  4.01s/it]"
     ]
    },
    {
     "name": "stdout",
     "output_type": "stream",
     "text": [
      "✅ 크롤링 완료: ‘EU 택소노미’에 원전업계 기회 될까…눈여겨 볼 기업 어디...\n"
     ]
    },
    {
     "name": "stderr",
     "output_type": "stream",
     "text": [
      "📰 뉴스 본문 크롤링 진행:  25%|██▌       | 50/198 [07:48<07:58,  3.23s/it]"
     ]
    },
    {
     "name": "stdout",
     "output_type": "stream",
     "text": [
      "✅ 크롤링 완료: 체코 원전 수주전 미국쪽으로 기우나...\n"
     ]
    },
    {
     "name": "stderr",
     "output_type": "stream",
     "text": [
      "📰 뉴스 본문 크롤링 진행:  26%|██▌       | 51/198 [07:50<06:48,  2.78s/it]"
     ]
    },
    {
     "name": "stdout",
     "output_type": "stream",
     "text": [
      "✅ 크롤링 완료: [공기업, 미래 대전환]\"원전 활로, 수출로 뚫는다\"…한수원, 올해 '조 단......\n"
     ]
    },
    {
     "name": "stderr",
     "output_type": "stream",
     "text": [
      "📰 뉴스 본문 크롤링 진행:  26%|██▋       | 52/198 [07:52<05:45,  2.36s/it]"
     ]
    },
    {
     "name": "stdout",
     "output_type": "stream",
     "text": [
      "⚠ 본문을 가져오지 못해 Selenium으로 재시도: https://www.businesspost.co.kr/BP?command=article_view&num=273174\n",
      "✅ 크롤링 완료: [Who Is ?] 박병석 국회의장...\n"
     ]
    },
    {
     "name": "stderr",
     "output_type": "stream",
     "text": [
      "📰 뉴스 본문 크롤링 진행:  27%|██▋       | 53/198 [07:55<06:47,  2.81s/it]"
     ]
    },
    {
     "name": "stdout",
     "output_type": "stream",
     "text": [
      "⚠ 본문을 가져오지 못해 Selenium으로 재시도: https://www.businesspost.co.kr/BP?command=article_view&num=271044\n",
      "✅ 크롤링 완료: [데스크리포트] 2월 기업 동향과 전망 - 공기업...\n"
     ]
    },
    {
     "name": "stderr",
     "output_type": "stream",
     "text": [
      "📰 뉴스 본문 크롤링 진행:  27%|██▋       | 54/198 [08:00<07:52,  3.28s/it]"
     ]
    },
    {
     "name": "stdout",
     "output_type": "stream",
     "text": [
      "✅ 크롤링 완료: 러시아發 에너지에 덴 유럽… 탈원전 ‘탈출 러시’...\n"
     ]
    },
    {
     "name": "stderr",
     "output_type": "stream",
     "text": [
      "📰 뉴스 본문 크롤링 진행:  28%|██▊       | 55/198 [08:01<06:36,  2.77s/it]"
     ]
    },
    {
     "name": "stdout",
     "output_type": "stream",
     "text": [
      "✅ 크롤링 완료: [경제 톡톡톡]공동주택 공시가격 17% 올라…역대 3번째 상승...\n"
     ]
    },
    {
     "name": "stderr",
     "output_type": "stream",
     "text": [
      "📰 뉴스 본문 크롤링 진행:  28%|██▊       | 56/198 [08:03<05:42,  2.41s/it]"
     ]
    },
    {
     "name": "stdout",
     "output_type": "stream",
     "text": [
      "⚠ 본문을 가져오지 못해 Selenium으로 재시도: http://www.fnnews.com/news/202201251752288852\n",
      "✅ 크롤링 완료: ‘신한울 3·4호기 재개’ 대선 공약에… 문승욱 \"재건설 없다\"...\n"
     ]
    },
    {
     "name": "stderr",
     "output_type": "stream",
     "text": [
      "📰 뉴스 본문 크롤링 진행:  29%|██▉       | 57/198 [08:08<07:47,  3.32s/it]"
     ]
    },
    {
     "name": "stdout",
     "output_type": "stream",
     "text": [
      "⚠ 본문을 가져오지 못해 Selenium으로 재시도: http://www.fnnews.com/news/202201251503242837\n",
      "✅ 크롤링 완료: 문승욱 \"신한울 3, 4호기 건설 없다...사용후핵연료 해결안돼\"...\n"
     ]
    },
    {
     "name": "stderr",
     "output_type": "stream",
     "text": [
      "📰 뉴스 본문 크롤링 진행:  29%|██▉       | 58/198 [08:13<08:52,  3.80s/it]"
     ]
    },
    {
     "name": "stdout",
     "output_type": "stream",
     "text": [
      "⚠ 본문을 가져오지 못해 Selenium으로 재시도: http://www.smartfn.co.kr/view.php?ud=2022032415121921954409b2f14f_46\n",
      "✅ 크롤링 완료: 국내 건설사, 코로나 위기 딛고 해외시장 박차...\n"
     ]
    },
    {
     "name": "stderr",
     "output_type": "stream",
     "text": [
      "📰 뉴스 본문 크롤링 진행:  30%|██▉       | 59/198 [08:17<08:27,  3.65s/it]"
     ]
    },
    {
     "name": "stdout",
     "output_type": "stream",
     "text": [
      "✅ 크롤링 완료: [여의도 주식왕 2부] '아진엑스텍 vs 일진전기 vs LS' 여의도를 달굴 종......\n"
     ]
    },
    {
     "name": "stderr",
     "output_type": "stream",
     "text": [
      "📰 뉴스 본문 크롤링 진행:  30%|███       | 60/198 [08:18<06:41,  2.91s/it]"
     ]
    },
    {
     "name": "stdout",
     "output_type": "stream",
     "text": [
      "✅ 크롤링 완료: [공기업, 미래 대전환]\"원전 활로, 수출로 뚫는다\"…한수원, 올해 '조 단......\n"
     ]
    },
    {
     "name": "stderr",
     "output_type": "stream",
     "text": [
      "📰 뉴스 본문 크롤링 진행:  31%|███       | 61/198 [08:20<06:10,  2.71s/it]"
     ]
    },
    {
     "name": "stdout",
     "output_type": "stream",
     "text": [
      "✅ 크롤링 완료: 한수원, 올해 원전시장 '조 단위' 성과 기대..4월경 이집트 원전 계약 마......\n"
     ]
    },
    {
     "name": "stderr",
     "output_type": "stream",
     "text": [
      "📰 뉴스 본문 크롤링 진행:  31%|███▏      | 62/198 [08:22<05:48,  2.57s/it]"
     ]
    },
    {
     "name": "stdout",
     "output_type": "stream",
     "text": [
      "⚠ 본문을 가져오지 못해 Selenium으로 재시도: https://www.businesspost.co.kr/BP?command=article_view&num=273174\n",
      "✅ 크롤링 완료: [Who Is ?] 박병석 국회의장...\n"
     ]
    },
    {
     "name": "stderr",
     "output_type": "stream",
     "text": [
      "📰 뉴스 본문 크롤링 진행:  32%|███▏      | 63/198 [08:26<06:30,  2.89s/it]"
     ]
    },
    {
     "name": "stdout",
     "output_type": "stream",
     "text": [
      "⚠ 본문을 가져오지 못해 Selenium으로 재시도: https://www.businesspost.co.kr/BP?command=article_view&num=271044\n",
      "✅ 크롤링 완료: [데스크리포트] 2월 기업 동향과 전망 - 공기업...\n"
     ]
    },
    {
     "name": "stderr",
     "output_type": "stream",
     "text": [
      "📰 뉴스 본문 크롤링 진행:  32%|███▏      | 64/198 [08:30<07:05,  3.18s/it]"
     ]
    },
    {
     "name": "stdout",
     "output_type": "stream",
     "text": [
      "✅ 크롤링 완료: 러시아發 에너지에 덴 유럽… 탈원전 ‘탈출 러시’...\n"
     ]
    },
    {
     "name": "stderr",
     "output_type": "stream",
     "text": [
      "📰 뉴스 본문 크롤링 진행:  33%|███▎      | 65/198 [08:31<05:53,  2.66s/it]"
     ]
    },
    {
     "name": "stdout",
     "output_type": "stream",
     "text": [
      "✅ 크롤링 완료: [경제 톡톡톡]공동주택 공시가격 17% 올라…역대 3번째 상승...\n"
     ]
    },
    {
     "name": "stderr",
     "output_type": "stream",
     "text": [
      "📰 뉴스 본문 크롤링 진행:  33%|███▎      | 66/198 [08:33<05:01,  2.28s/it]"
     ]
    },
    {
     "name": "stdout",
     "output_type": "stream",
     "text": [
      "⚠ 본문을 가져오지 못해 Selenium으로 재시도: http://www.fnnews.com/news/202201251752288852\n",
      "✅ 크롤링 완료: ‘신한울 3·4호기 재개’ 대선 공약에… 문승욱 \"재건설 없다\"...\n"
     ]
    },
    {
     "name": "stderr",
     "output_type": "stream",
     "text": [
      "📰 뉴스 본문 크롤링 진행:  34%|███▍      | 67/198 [08:38<07:13,  3.31s/it]"
     ]
    },
    {
     "name": "stdout",
     "output_type": "stream",
     "text": [
      "⚠ 본문을 가져오지 못해 Selenium으로 재시도: http://www.fnnews.com/news/202201251503242837\n",
      "✅ 크롤링 완료: 문승욱 \"신한울 3, 4호기 건설 없다...사용후핵연료 해결안돼\"...\n"
     ]
    },
    {
     "name": "stderr",
     "output_type": "stream",
     "text": [
      "📰 뉴스 본문 크롤링 진행:  34%|███▍      | 68/198 [08:43<08:18,  3.84s/it]"
     ]
    },
    {
     "name": "stdout",
     "output_type": "stream",
     "text": [
      "⚠ 본문을 가져오지 못해 Selenium으로 재시도: http://www.smartfn.co.kr/view.php?ud=2022032415121921954409b2f14f_46\n",
      "✅ 크롤링 완료: 국내 건설사, 코로나 위기 딛고 해외시장 박차...\n"
     ]
    },
    {
     "name": "stderr",
     "output_type": "stream",
     "text": [
      "📰 뉴스 본문 크롤링 진행:  35%|███▍      | 69/198 [08:47<07:48,  3.63s/it]"
     ]
    },
    {
     "name": "stdout",
     "output_type": "stream",
     "text": [
      "✅ 크롤링 완료: [여의도 주식왕 2부] '아진엑스텍 vs 일진전기 vs LS' 여의도를 달굴 종......\n"
     ]
    },
    {
     "name": "stderr",
     "output_type": "stream",
     "text": [
      "📰 뉴스 본문 크롤링 진행:  35%|███▌      | 70/198 [08:48<06:09,  2.89s/it]"
     ]
    },
    {
     "name": "stdout",
     "output_type": "stream",
     "text": [
      "✅ 크롤링 완료: [공기업, 미래 대전환]\"원전 활로, 수출로 뚫는다\"…한수원, 올해 '조 단......\n"
     ]
    },
    {
     "name": "stderr",
     "output_type": "stream",
     "text": [
      "📰 뉴스 본문 크롤링 진행:  36%|███▌      | 71/198 [08:49<05:13,  2.47s/it]"
     ]
    },
    {
     "name": "stdout",
     "output_type": "stream",
     "text": [
      "✅ 크롤링 완료: 한수원, 올해 원전시장 '조 단위' 성과 기대..4월경 이집트 원전 계약 마......\n"
     ]
    },
    {
     "name": "stderr",
     "output_type": "stream",
     "text": [
      "📰 뉴스 본문 크롤링 진행:  36%|███▋      | 72/198 [08:50<04:25,  2.11s/it]"
     ]
    },
    {
     "name": "stdout",
     "output_type": "stream",
     "text": [
      "⚠ 본문을 가져오지 못해 Selenium으로 재시도: https://www.businesspost.co.kr/BP?command=article_view&num=273174\n",
      "✅ 크롤링 완료: [Who Is ?] 박병석 국회의장...\n"
     ]
    },
    {
     "name": "stderr",
     "output_type": "stream",
     "text": [
      "📰 뉴스 본문 크롤링 진행:  37%|███▋      | 73/198 [08:54<05:20,  2.57s/it]"
     ]
    },
    {
     "name": "stdout",
     "output_type": "stream",
     "text": [
      "⚠ 본문을 가져오지 못해 Selenium으로 재시도: https://www.businesspost.co.kr/BP?command=article_view&num=271044\n",
      "✅ 크롤링 완료: [데스크리포트] 2월 기업 동향과 전망 - 공기업...\n"
     ]
    },
    {
     "name": "stderr",
     "output_type": "stream",
     "text": [
      "📰 뉴스 본문 크롤링 진행:  37%|███▋      | 74/198 [08:58<06:22,  3.08s/it]"
     ]
    },
    {
     "name": "stdout",
     "output_type": "stream",
     "text": [
      "✅ 크롤링 완료: 러시아發 에너지에 덴 유럽… 탈원전 ‘탈출 러시’...\n"
     ]
    },
    {
     "name": "stderr",
     "output_type": "stream",
     "text": [
      "📰 뉴스 본문 크롤링 진행:  38%|███▊      | 75/198 [09:00<05:19,  2.60s/it]"
     ]
    },
    {
     "name": "stdout",
     "output_type": "stream",
     "text": [
      "✅ 크롤링 완료: [경제 톡톡톡]공동주택 공시가격 17% 올라…역대 3번째 상승...\n"
     ]
    },
    {
     "name": "stderr",
     "output_type": "stream",
     "text": [
      "📰 뉴스 본문 크롤링 진행:  38%|███▊      | 76/198 [09:01<04:33,  2.24s/it]"
     ]
    },
    {
     "name": "stdout",
     "output_type": "stream",
     "text": [
      "⚠ 본문을 가져오지 못해 Selenium으로 재시도: http://www.fnnews.com/news/202201251752288852\n",
      "✅ 크롤링 완료: ‘신한울 3·4호기 재개’ 대선 공약에… 문승욱 \"재건설 없다\"...\n"
     ]
    },
    {
     "name": "stderr",
     "output_type": "stream",
     "text": [
      "📰 뉴스 본문 크롤링 진행:  39%|███▉      | 77/198 [09:07<06:21,  3.15s/it]"
     ]
    },
    {
     "name": "stdout",
     "output_type": "stream",
     "text": [
      "⚠ 본문을 가져오지 못해 Selenium으로 재시도: http://www.fnnews.com/news/202201251503242837\n",
      "✅ 크롤링 완료: 문승욱 \"신한울 3, 4호기 건설 없다...사용후핵연료 해결안돼\"...\n"
     ]
    },
    {
     "name": "stderr",
     "output_type": "stream",
     "text": [
      "📰 뉴스 본문 크롤링 진행:  39%|███▉      | 78/198 [09:12<07:33,  3.78s/it]"
     ]
    },
    {
     "name": "stdout",
     "output_type": "stream",
     "text": [
      "⚠ 본문을 가져오지 못해 Selenium으로 재시도: http://www.smartfn.co.kr/view.php?ud=2022032415121921954409b2f14f_46\n",
      "✅ 크롤링 완료: 국내 건설사, 코로나 위기 딛고 해외시장 박차...\n"
     ]
    },
    {
     "name": "stderr",
     "output_type": "stream",
     "text": [
      "📰 뉴스 본문 크롤링 진행:  40%|███▉      | 79/198 [09:15<07:06,  3.58s/it]"
     ]
    },
    {
     "name": "stdout",
     "output_type": "stream",
     "text": [
      "✅ 크롤링 완료: [여의도 주식왕 2부] '아진엑스텍 vs 일진전기 vs LS' 여의도를 달굴 종......\n"
     ]
    },
    {
     "name": "stderr",
     "output_type": "stream",
     "text": [
      "📰 뉴스 본문 크롤링 진행:  40%|████      | 80/198 [09:16<05:36,  2.85s/it]"
     ]
    },
    {
     "name": "stdout",
     "output_type": "stream",
     "text": [
      "✅ 크롤링 완료: [공기업, 미래 대전환]\"원전 활로, 수출로 뚫는다\"…한수원, 올해 '조 단......\n"
     ]
    },
    {
     "name": "stderr",
     "output_type": "stream",
     "text": [
      "📰 뉴스 본문 크롤링 진행:  41%|████      | 81/198 [09:17<04:41,  2.41s/it]"
     ]
    },
    {
     "name": "stdout",
     "output_type": "stream",
     "text": [
      "✅ 크롤링 완료: 한수원, 올해 원전시장 '조 단위' 성과 기대..4월경 이집트 원전 계약 마......\n"
     ]
    },
    {
     "name": "stderr",
     "output_type": "stream",
     "text": [
      "📰 뉴스 본문 크롤링 진행:  41%|████▏     | 82/198 [09:19<03:58,  2.06s/it]"
     ]
    },
    {
     "name": "stdout",
     "output_type": "stream",
     "text": [
      "⚠ 본문을 가져오지 못해 Selenium으로 재시도: https://www.businesspost.co.kr/BP?command=article_view&num=273174\n",
      "✅ 크롤링 완료: [Who Is ?] 박병석 국회의장...\n"
     ]
    },
    {
     "name": "stderr",
     "output_type": "stream",
     "text": [
      "📰 뉴스 본문 크롤링 진행:  42%|████▏     | 83/198 [09:22<04:52,  2.54s/it]"
     ]
    },
    {
     "name": "stdout",
     "output_type": "stream",
     "text": [
      "⚠ 본문을 가져오지 못해 Selenium으로 재시도: https://www.businesspost.co.kr/BP?command=article_view&num=271044\n",
      "✅ 크롤링 완료: [데스크리포트] 2월 기업 동향과 전망 - 공기업...\n"
     ]
    },
    {
     "name": "stderr",
     "output_type": "stream",
     "text": [
      "📰 뉴스 본문 크롤링 진행:  42%|████▏     | 84/198 [09:27<05:45,  3.03s/it]"
     ]
    },
    {
     "name": "stdout",
     "output_type": "stream",
     "text": [
      "✅ 크롤링 완료: 러시아發 에너지에 덴 유럽… 탈원전 ‘탈출 러시’...\n"
     ]
    },
    {
     "name": "stderr",
     "output_type": "stream",
     "text": [
      "📰 뉴스 본문 크롤링 진행:  43%|████▎     | 85/198 [09:28<04:50,  2.57s/it]"
     ]
    },
    {
     "name": "stdout",
     "output_type": "stream",
     "text": [
      "✅ 크롤링 완료: [경제 톡톡톡]공동주택 공시가격 17% 올라…역대 3번째 상승...\n"
     ]
    },
    {
     "name": "stderr",
     "output_type": "stream",
     "text": [
      "📰 뉴스 본문 크롤링 진행:  43%|████▎     | 86/198 [09:29<04:07,  2.21s/it]"
     ]
    },
    {
     "name": "stdout",
     "output_type": "stream",
     "text": [
      "⚠ 본문을 가져오지 못해 Selenium으로 재시도: http://www.fnnews.com/news/202201251752288852\n",
      "✅ 크롤링 완료: ‘신한울 3·4호기 재개’ 대선 공약에… 문승욱 \"재건설 없다\"...\n"
     ]
    },
    {
     "name": "stderr",
     "output_type": "stream",
     "text": [
      "📰 뉴스 본문 크롤링 진행:  44%|████▍     | 87/198 [09:35<06:15,  3.39s/it]"
     ]
    },
    {
     "name": "stdout",
     "output_type": "stream",
     "text": [
      "⚠ 본문을 가져오지 못해 Selenium으로 재시도: http://www.fnnews.com/news/202201251503242837\n",
      "✅ 크롤링 완료: 문승욱 \"신한울 3, 4호기 건설 없다...사용후핵연료 해결안돼\"...\n"
     ]
    },
    {
     "name": "stderr",
     "output_type": "stream",
     "text": [
      "📰 뉴스 본문 크롤링 진행:  44%|████▍     | 88/198 [09:41<07:06,  3.88s/it]"
     ]
    },
    {
     "name": "stdout",
     "output_type": "stream",
     "text": [
      "⚠ 본문을 가져오지 못해 Selenium으로 재시도: http://www.smartfn.co.kr/view.php?ud=2022032415121921954409b2f14f_46\n",
      "✅ 크롤링 완료: 국내 건설사, 코로나 위기 딛고 해외시장 박차...\n"
     ]
    },
    {
     "name": "stderr",
     "output_type": "stream",
     "text": [
      "📰 뉴스 본문 크롤링 진행:  45%|████▍     | 89/198 [09:44<06:38,  3.65s/it]"
     ]
    },
    {
     "name": "stdout",
     "output_type": "stream",
     "text": [
      "✅ 크롤링 완료: [여의도 주식왕 2부] '아진엑스텍 vs 일진전기 vs LS' 여의도를 달굴 종......\n"
     ]
    },
    {
     "name": "stderr",
     "output_type": "stream",
     "text": [
      "📰 뉴스 본문 크롤링 진행:  45%|████▌     | 90/198 [09:45<05:13,  2.90s/it]"
     ]
    },
    {
     "name": "stdout",
     "output_type": "stream",
     "text": [
      "✅ 크롤링 완료: [공기업, 미래 대전환]\"원전 활로, 수출로 뚫는다\"…한수원, 올해 '조 단......\n"
     ]
    },
    {
     "name": "stderr",
     "output_type": "stream",
     "text": [
      "📰 뉴스 본문 크롤링 진행:  46%|████▌     | 91/198 [09:46<04:23,  2.46s/it]"
     ]
    },
    {
     "name": "stdout",
     "output_type": "stream",
     "text": [
      "✅ 크롤링 완료: 한수원, 올해 원전시장 '조 단위' 성과 기대..4월경 이집트 원전 계약 마......\n"
     ]
    },
    {
     "name": "stderr",
     "output_type": "stream",
     "text": [
      "📰 뉴스 본문 크롤링 진행:  46%|████▋     | 92/198 [09:47<03:41,  2.09s/it]"
     ]
    },
    {
     "name": "stdout",
     "output_type": "stream",
     "text": [
      "⚠ 본문을 가져오지 못해 Selenium으로 재시도: https://www.businesspost.co.kr/BP?command=article_view&num=273174\n",
      "✅ 크롤링 완료: [Who Is ?] 박병석 국회의장...\n"
     ]
    },
    {
     "name": "stderr",
     "output_type": "stream",
     "text": [
      "📰 뉴스 본문 크롤링 진행:  47%|████▋     | 93/198 [09:51<04:29,  2.57s/it]"
     ]
    },
    {
     "name": "stdout",
     "output_type": "stream",
     "text": [
      "⚠ 본문을 가져오지 못해 Selenium으로 재시도: https://www.businesspost.co.kr/BP?command=article_view&num=271044\n",
      "✅ 크롤링 완료: [데스크리포트] 2월 기업 동향과 전망 - 공기업...\n"
     ]
    },
    {
     "name": "stderr",
     "output_type": "stream",
     "text": [
      "📰 뉴스 본문 크롤링 진행:  47%|████▋     | 94/198 [09:55<05:16,  3.05s/it]"
     ]
    },
    {
     "name": "stdout",
     "output_type": "stream",
     "text": [
      "✅ 크롤링 완료: 러시아發 에너지에 덴 유럽… 탈원전 ‘탈출 러시’...\n"
     ]
    },
    {
     "name": "stderr",
     "output_type": "stream",
     "text": [
      "📰 뉴스 본문 크롤링 진행:  48%|████▊     | 95/198 [09:57<04:25,  2.57s/it]"
     ]
    },
    {
     "name": "stdout",
     "output_type": "stream",
     "text": [
      "✅ 크롤링 완료: [경제 톡톡톡]공동주택 공시가격 17% 올라…역대 3번째 상승...\n"
     ]
    },
    {
     "name": "stderr",
     "output_type": "stream",
     "text": [
      "📰 뉴스 본문 크롤링 진행:  48%|████▊     | 96/198 [09:58<03:52,  2.28s/it]"
     ]
    },
    {
     "name": "stdout",
     "output_type": "stream",
     "text": [
      "⚠ 본문을 가져오지 못해 Selenium으로 재시도: http://www.fnnews.com/news/202201251752288852\n",
      "✅ 크롤링 완료: ‘신한울 3·4호기 재개’ 대선 공약에… 문승욱 \"재건설 없다\"...\n"
     ]
    },
    {
     "name": "stderr",
     "output_type": "stream",
     "text": [
      "📰 뉴스 본문 크롤링 진행:  49%|████▉     | 97/198 [10:03<05:15,  3.12s/it]"
     ]
    },
    {
     "name": "stdout",
     "output_type": "stream",
     "text": [
      "⚠ 본문을 가져오지 못해 Selenium으로 재시도: http://www.fnnews.com/news/202201251503242837\n",
      "✅ 크롤링 완료: 문승욱 \"신한울 3, 4호기 건설 없다...사용후핵연료 해결안돼\"...\n"
     ]
    },
    {
     "name": "stderr",
     "output_type": "stream",
     "text": [
      "📰 뉴스 본문 크롤링 진행:  49%|████▉     | 98/198 [10:09<06:11,  3.72s/it]"
     ]
    },
    {
     "name": "stdout",
     "output_type": "stream",
     "text": [
      "⚠ 본문을 가져오지 못해 Selenium으로 재시도: http://www.smartfn.co.kr/view.php?ud=2022032415121921954409b2f14f_46\n",
      "✅ 크롤링 완료: 국내 건설사, 코로나 위기 딛고 해외시장 박차...\n"
     ]
    },
    {
     "name": "stderr",
     "output_type": "stream",
     "text": [
      "📰 뉴스 본문 크롤링 진행:  50%|█████     | 99/198 [10:12<05:52,  3.56s/it]"
     ]
    },
    {
     "name": "stdout",
     "output_type": "stream",
     "text": [
      "✅ 크롤링 완료: [여의도 주식왕 2부] '아진엑스텍 vs 일진전기 vs LS' 여의도를 달굴 종......\n"
     ]
    },
    {
     "name": "stderr",
     "output_type": "stream",
     "text": [
      "📰 뉴스 본문 크롤링 진행:  51%|█████     | 100/198 [10:13<04:38,  2.84s/it]"
     ]
    },
    {
     "name": "stdout",
     "output_type": "stream",
     "text": [
      "⚠ 본문을 가져오지 못해 Selenium으로 재시도: http://www.g-enews.com/ko-kr/news/article/news_all/2022032517333656825df15c1126_1/article.html\n",
      "✅ 크롤링 완료: 한수원, 체코 두코바니 원전 건설 65억 유로 제안 수용...\n"
     ]
    },
    {
     "name": "stderr",
     "output_type": "stream",
     "text": [
      "📰 뉴스 본문 크롤링 진행:  51%|█████     | 101/198 [10:18<05:39,  3.50s/it]"
     ]
    },
    {
     "name": "stdout",
     "output_type": "stream",
     "text": [
      "⚠ 본문을 가져오지 못해 Selenium으로 재시도: http://www.ksmnews.co.kr/default/index_view_page.php?idx=372537&part_idx=295\n",
      "✅ 크롤링 완료: 한수원, 체코서 신규원전 수주 ‘총력전’...\n"
     ]
    },
    {
     "name": "stderr",
     "output_type": "stream",
     "text": [
      "📰 뉴스 본문 크롤링 진행:  52%|█████▏    | 102/198 [10:22<06:01,  3.77s/it]"
     ]
    },
    {
     "name": "stdout",
     "output_type": "stream",
     "text": [
      "⚠ 본문을 가져오지 못해 Selenium으로 재시도: https://www.dnews.co.kr/uhtml/view.jsp?idxno=202203181414072950986\n",
      "✅ 크롤링 완료: 한수원, 체코 신규원전사업 본입찰 참여...\n"
     ]
    },
    {
     "name": "stderr",
     "output_type": "stream",
     "text": [
      "📰 뉴스 본문 크롤링 진행:  52%|█████▏    | 103/198 [10:28<06:38,  4.20s/it]"
     ]
    },
    {
     "name": "stdout",
     "output_type": "stream",
     "text": [
      "✅ 크롤링 완료: 한수원, 체코 현지서 신규 원전사업 수주 총력전…정재훈 사장 7번째 현......\n"
     ]
    },
    {
     "name": "stderr",
     "output_type": "stream",
     "text": [
      "📰 뉴스 본문 크롤링 진행:  53%|█████▎    | 104/198 [10:29<05:12,  3.33s/it]"
     ]
    },
    {
     "name": "stdout",
     "output_type": "stream",
     "text": [
      "✅ 크롤링 완료: 한수원, '8조원 규모' 체코 원전사업 수주 총력...\n"
     ]
    },
    {
     "name": "stderr",
     "output_type": "stream",
     "text": [
      "📰 뉴스 본문 크롤링 진행:  53%|█████▎    | 105/198 [10:30<04:08,  2.67s/it]"
     ]
    },
    {
     "name": "stdout",
     "output_type": "stream",
     "text": [
      "✅ 크롤링 완료: 한수원, '체코 신규원전사업 입찰' 개시…사업수주 '총력'...\n"
     ]
    },
    {
     "name": "stderr",
     "output_type": "stream",
     "text": [
      "📰 뉴스 본문 크롤링 진행:  54%|█████▎    | 106/198 [10:31<03:26,  2.24s/it]"
     ]
    },
    {
     "name": "stdout",
     "output_type": "stream",
     "text": [
      "✅ 크롤링 완료: 에너지 독립 외치는 유럽…'원전 유턴' 속도낸다...\n"
     ]
    },
    {
     "name": "stderr",
     "output_type": "stream",
     "text": [
      "📰 뉴스 본문 크롤링 진행:  54%|█████▍    | 107/198 [10:33<03:00,  1.98s/it]"
     ]
    },
    {
     "name": "stdout",
     "output_type": "stream",
     "text": [
      "⚠ 본문을 가져오지 못해 Selenium으로 재시도: https://www.wowtv.co.kr/NewsCenter/News/Read?articleId=A202203160031&t=NNv\n",
      "✅ 크롤링 완료: Again 2010…원전株, 부활 시동...\n"
     ]
    },
    {
     "name": "stderr",
     "output_type": "stream",
     "text": [
      "📰 뉴스 본문 크롤링 진행:  55%|█████▍    | 108/198 [10:47<08:42,  5.80s/it]"
     ]
    },
    {
     "name": "stdout",
     "output_type": "stream",
     "text": [
      "✅ 크롤링 완료: 한수원, 8조원 규모 체코 신규원전 수주 총력… 미·프랑스와 경쟁...\n"
     ]
    },
    {
     "name": "stderr",
     "output_type": "stream",
     "text": [
      "📰 뉴스 본문 크롤링 진행:  55%|█████▌    | 109/198 [10:49<06:35,  4.45s/it]"
     ]
    },
    {
     "name": "stdout",
     "output_type": "stream",
     "text": [
      "⚠ 본문을 가져오지 못해 Selenium으로 재시도: https://www.viva100.com/main/view.php?key=20220322010005558\n",
      "✅ 크롤링 완료: 국내외 원전 재개… 원전주 더 오를까...\n"
     ]
    },
    {
     "name": "stderr",
     "output_type": "stream",
     "text": [
      "📰 뉴스 본문 크롤링 진행:  56%|█████▌    | 110/198 [10:54<06:56,  4.73s/it]"
     ]
    },
    {
     "name": "stdout",
     "output_type": "stream",
     "text": [
      "⚠ 본문을 가져오지 못해 Selenium으로 재시도: https://www.cnbnews.com/news/article.html?no=537518\n",
      "✅ 크롤링 완료: 한수원, ‘체코 신규 원전사업’ 본입찰 참여… 미국·프랑스와 경쟁...\n"
     ]
    },
    {
     "name": "stderr",
     "output_type": "stream",
     "text": [
      "📰 뉴스 본문 크롤링 진행:  56%|█████▌    | 111/198 [10:59<06:49,  4.70s/it]"
     ]
    },
    {
     "name": "stdout",
     "output_type": "stream",
     "text": [
      "✅ 크롤링 완료: 한수원, '체코 신규원전사업 입찰' 개시…사업수주 '총력'...\n"
     ]
    },
    {
     "name": "stderr",
     "output_type": "stream",
     "text": [
      "📰 뉴스 본문 크롤링 진행:  57%|█████▋    | 112/198 [11:00<05:14,  3.66s/it]"
     ]
    },
    {
     "name": "stdout",
     "output_type": "stream",
     "text": [
      "✅ 크롤링 완료: 에너지 독립 외치는 유럽…'원전 유턴' 속도낸다...\n"
     ]
    },
    {
     "name": "stderr",
     "output_type": "stream",
     "text": [
      "📰 뉴스 본문 크롤링 진행:  57%|█████▋    | 113/198 [11:01<04:10,  2.95s/it]"
     ]
    },
    {
     "name": "stdout",
     "output_type": "stream",
     "text": [
      "⚠ 본문을 가져오지 못해 Selenium으로 재시도: https://www.wowtv.co.kr/NewsCenter/News/Read?articleId=A202203160031&t=NNv\n",
      "✅ 크롤링 완료: Again 2010…원전株, 부활 시동...\n"
     ]
    },
    {
     "name": "stderr",
     "output_type": "stream",
     "text": [
      "📰 뉴스 본문 크롤링 진행:  58%|█████▊    | 114/198 [11:16<08:55,  6.38s/it]"
     ]
    },
    {
     "name": "stdout",
     "output_type": "stream",
     "text": [
      "✅ 크롤링 완료: 한수원, 8조 규모 체코원전 입찰 개시 美·佛 회사와 '3파전'...\n"
     ]
    },
    {
     "name": "stderr",
     "output_type": "stream",
     "text": [
      "📰 뉴스 본문 크롤링 진행:  58%|█████▊    | 115/198 [11:17<06:50,  4.95s/it]"
     ]
    },
    {
     "name": "stdout",
     "output_type": "stream",
     "text": [
      "✅ 크롤링 완료: 한수원, 8조원 규모 체코 신규원전 수주 총력… 미·프랑스와 경쟁...\n"
     ]
    },
    {
     "name": "stderr",
     "output_type": "stream",
     "text": [
      "📰 뉴스 본문 크롤링 진행:  59%|█████▊    | 116/198 [11:18<05:14,  3.83s/it]"
     ]
    },
    {
     "name": "stdout",
     "output_type": "stream",
     "text": [
      "✅ 크롤링 완료: 한수원, 체코서 원전 사업 수주 총력 … '한국형 원전' 소개...\n"
     ]
    },
    {
     "name": "stderr",
     "output_type": "stream",
     "text": [
      "📰 뉴스 본문 크롤링 진행:  59%|█████▉    | 117/198 [11:20<04:09,  3.08s/it]"
     ]
    },
    {
     "name": "stdout",
     "output_type": "stream",
     "text": [
      "✅ 크롤링 완료: [SR산업] 한수원 '8조원' 규모 체코 신규원전사업 수주 총력…美·佛과 ......\n"
     ]
    },
    {
     "name": "stderr",
     "output_type": "stream",
     "text": [
      "📰 뉴스 본문 크롤링 진행:  60%|█████▉    | 118/198 [11:21<03:22,  2.53s/it]"
     ]
    },
    {
     "name": "stdout",
     "output_type": "stream",
     "text": [
      "⚠ 본문을 가져오지 못해 Selenium으로 재시도: https://www.viva100.com/main/view.php?key=20220322010005558\n",
      "✅ 크롤링 완료: 국내외 원전 재개… 원전주 더 오를까...\n"
     ]
    },
    {
     "name": "stderr",
     "output_type": "stream",
     "text": [
      "📰 뉴스 본문 크롤링 진행:  60%|██████    | 119/198 [11:26<04:08,  3.14s/it]"
     ]
    },
    {
     "name": "stdout",
     "output_type": "stream",
     "text": [
      "⚠ 본문을 가져오지 못해 Selenium으로 재시도: http://www.breaknews.com/881326\n",
      "✅ 크롤링 완료: 한수원, 체코 신규 원전사업 수주에 총력전 펼쳐...\n"
     ]
    },
    {
     "name": "stderr",
     "output_type": "stream",
     "text": [
      "📰 뉴스 본문 크롤링 진행:  61%|██████    | 120/198 [11:33<05:42,  4.40s/it]"
     ]
    },
    {
     "name": "stdout",
     "output_type": "stream",
     "text": [
      "✅ 크롤링 완료: [SR산업] 한수원 '8조원' 규모 체코 신규원전사업 수주 총력…美·佛과 ......\n"
     ]
    },
    {
     "name": "stderr",
     "output_type": "stream",
     "text": [
      "📰 뉴스 본문 크롤링 진행:  61%|██████    | 121/198 [11:34<04:22,  3.41s/it]"
     ]
    },
    {
     "name": "stdout",
     "output_type": "stream",
     "text": [
      "⚠ 본문을 가져오지 못해 Selenium으로 재시도: https://www.viva100.com/main/view.php?key=20220322010005558\n",
      "✅ 크롤링 완료: 국내외 원전 재개… 원전주 더 오를까...\n"
     ]
    },
    {
     "name": "stderr",
     "output_type": "stream",
     "text": [
      "📰 뉴스 본문 크롤링 진행:  62%|██████▏   | 122/198 [11:38<04:41,  3.71s/it]"
     ]
    },
    {
     "name": "stdout",
     "output_type": "stream",
     "text": [
      "✅ 크롤링 완료: 한국수력원자력, 체코 현지서 신규 원전 사업 수주전 나서...\n"
     ]
    },
    {
     "name": "stderr",
     "output_type": "stream",
     "text": [
      "📰 뉴스 본문 크롤링 진행:  62%|██████▏   | 123/198 [11:40<03:42,  2.96s/it]"
     ]
    },
    {
     "name": "stdout",
     "output_type": "stream",
     "text": [
      "⚠ 본문을 가져오지 못해 Selenium으로 재시도: http://www.breaknews.com/881326\n",
      "✅ 크롤링 완료: 한수원, 체코 신규 원전사업 수주에 총력전 펼쳐...\n"
     ]
    },
    {
     "name": "stderr",
     "output_type": "stream",
     "text": [
      "📰 뉴스 본문 크롤링 진행:  63%|██████▎   | 124/198 [11:46<05:00,  4.06s/it]"
     ]
    },
    {
     "name": "stdout",
     "output_type": "stream",
     "text": [
      "✅ 크롤링 완료: 한수원, \"체코 신규원전사업 반드시 따낸다\"…공식 입찰절차 개시...\n"
     ]
    },
    {
     "name": "stderr",
     "output_type": "stream",
     "text": [
      "📰 뉴스 본문 크롤링 진행:  63%|██████▎   | 125/198 [11:48<03:57,  3.26s/it]"
     ]
    },
    {
     "name": "stdout",
     "output_type": "stream",
     "text": [
      "✅ 크롤링 완료: [SR산업] 한수원 \"체코 신규원전사업 수주 총력\"...\n"
     ]
    },
    {
     "name": "stderr",
     "output_type": "stream",
     "text": [
      "📰 뉴스 본문 크롤링 진행:  64%|██████▎   | 126/198 [11:49<03:10,  2.64s/it]"
     ]
    },
    {
     "name": "stdout",
     "output_type": "stream",
     "text": [
      "✅ 크롤링 완료: 원전업계, 새정부 힘 받아 해외수출 '총력'...\n"
     ]
    },
    {
     "name": "stderr",
     "output_type": "stream",
     "text": [
      "📰 뉴스 본문 크롤링 진행:  64%|██████▍   | 127/198 [11:50<02:38,  2.23s/it]"
     ]
    },
    {
     "name": "stdout",
     "output_type": "stream",
     "text": [
      "✅ 크롤링 완료: 체코 신규원전사업 입찰 개시, 한수원 사업수주에 총력...\n"
     ]
    },
    {
     "name": "stderr",
     "output_type": "stream",
     "text": [
      "📰 뉴스 본문 크롤링 진행:  65%|██████▍   | 128/198 [11:51<02:16,  1.95s/it]"
     ]
    },
    {
     "name": "stdout",
     "output_type": "stream",
     "text": [
      "⚠ 본문을 가져오지 못해 Selenium으로 재시도: http://www.edaily.co.kr/news/newspath.asp?newsid=01357926632263648\n",
      "✅ 크롤링 완료: “원전 투자, 중장기 모멘텀 현실화 시점까지 중장기 접근”...\n"
     ]
    },
    {
     "name": "stderr",
     "output_type": "stream",
     "text": [
      "📰 뉴스 본문 크롤링 진행:  65%|██████▌   | 129/198 [11:57<03:31,  3.07s/it]"
     ]
    },
    {
     "name": "stdout",
     "output_type": "stream",
     "text": [
      "✅ 크롤링 완료: '한·미·프 3국에만 러브콜'···尹 브레인이 꼽은 8조 원전대전 '개막......\n"
     ]
    },
    {
     "name": "stderr",
     "output_type": "stream",
     "text": [
      "📰 뉴스 본문 크롤링 진행:  66%|██████▌   | 130/198 [12:00<03:28,  3.07s/it]"
     ]
    },
    {
     "name": "stdout",
     "output_type": "stream",
     "text": [
      "✅ 크롤링 완료: [SR산업] 한수원 \"체코 신규원전사업 수주 총력\"...\n"
     ]
    },
    {
     "name": "stderr",
     "output_type": "stream",
     "text": [
      "📰 뉴스 본문 크롤링 진행:  66%|██████▌   | 131/198 [12:01<02:46,  2.48s/it]"
     ]
    },
    {
     "name": "stdout",
     "output_type": "stream",
     "text": [
      "✅ 크롤링 완료: 원전업계, 새정부 힘 받아 해외수출 '총력'...\n"
     ]
    },
    {
     "name": "stderr",
     "output_type": "stream",
     "text": [
      "📰 뉴스 본문 크롤링 진행:  67%|██████▋   | 132/198 [12:02<02:18,  2.10s/it]"
     ]
    },
    {
     "name": "stdout",
     "output_type": "stream",
     "text": [
      "✅ 크롤링 완료: 한수원 \"체코 신규 원전 본입찰 참여\"…러·중 탈락...\n"
     ]
    },
    {
     "name": "stderr",
     "output_type": "stream",
     "text": [
      "📰 뉴스 본문 크롤링 진행:  67%|██████▋   | 133/198 [12:04<02:04,  1.92s/it]"
     ]
    },
    {
     "name": "stdout",
     "output_type": "stream",
     "text": [
      "✅ 크롤링 완료: 정재훈 한수원 사장, 체코 현지서 신규원전 수주 '진두지휘'...\n"
     ]
    },
    {
     "name": "stderr",
     "output_type": "stream",
     "text": [
      "📰 뉴스 본문 크롤링 진행:  68%|██████▊   | 134/198 [12:05<01:48,  1.70s/it]"
     ]
    },
    {
     "name": "stdout",
     "output_type": "stream",
     "text": [
      "✅ 크롤링 완료: 체코 신규원전사업 입찰 개시, 한수원 사업수주에 총력...\n"
     ]
    },
    {
     "name": "stderr",
     "output_type": "stream",
     "text": [
      "📰 뉴스 본문 크롤링 진행:  68%|██████▊   | 135/198 [12:06<01:38,  1.57s/it]"
     ]
    },
    {
     "name": "stdout",
     "output_type": "stream",
     "text": [
      "⚠ 본문을 가져오지 못해 Selenium으로 재시도: http://www.edaily.co.kr/news/newspath.asp?newsid=01357926632263648\n",
      "✅ 크롤링 완료: “원전 투자, 중장기 모멘텀 현실화 시점까지 중장기 접근”...\n"
     ]
    },
    {
     "name": "stderr",
     "output_type": "stream",
     "text": [
      "📰 뉴스 본문 크롤링 진행:  69%|██████▊   | 136/198 [12:12<02:49,  2.73s/it]"
     ]
    },
    {
     "name": "stdout",
     "output_type": "stream",
     "text": [
      "✅ 크롤링 완료: '한·미·프 3국에만 러브콜'···尹 브레인이 꼽은 8조 원전대전 '개막......\n"
     ]
    },
    {
     "name": "stderr",
     "output_type": "stream",
     "text": [
      "📰 뉴스 본문 크롤링 진행:  69%|██████▉   | 137/198 [12:13<02:26,  2.40s/it]"
     ]
    },
    {
     "name": "stdout",
     "output_type": "stream",
     "text": [
      "⚠ 본문을 가져오지 못해 Selenium으로 재시도: http://www.breaknews.com/879851\n",
      "✅ 크롤링 완료: 한수원, 체코 신규원전사업 수주에 총력...\n"
     ]
    },
    {
     "name": "stderr",
     "output_type": "stream",
     "text": [
      "📰 뉴스 본문 크롤링 진행:  70%|██████▉   | 138/198 [12:19<03:18,  3.32s/it]"
     ]
    },
    {
     "name": "stdout",
     "output_type": "stream",
     "text": [
      "✅ 크롤링 완료: [특징주] 한신기계, 콤프레샤 원천기술 보유…한수원 체코 원전 본입찰......\n"
     ]
    },
    {
     "name": "stderr",
     "output_type": "stream",
     "text": [
      "📰 뉴스 본문 크롤링 진행:  70%|███████   | 139/198 [12:20<02:37,  2.66s/it]"
     ]
    },
    {
     "name": "stdout",
     "output_type": "stream",
     "text": [
      "✅ 크롤링 완료: 한수원, '체코 신규원전 입찰 개시' 수주 총력...\n"
     ]
    },
    {
     "name": "stderr",
     "output_type": "stream",
     "text": [
      "📰 뉴스 본문 크롤링 진행:  71%|███████   | 140/198 [12:21<02:07,  2.21s/it]"
     ]
    },
    {
     "name": "stdout",
     "output_type": "stream",
     "text": [
      "✅ 크롤링 완료: 한수원, '체코 신규원전 입찰 개시' 수주 총력...\n"
     ]
    },
    {
     "name": "stderr",
     "output_type": "stream",
     "text": [
      "📰 뉴스 본문 크롤링 진행:  71%|███████   | 141/198 [12:22<01:47,  1.88s/it]"
     ]
    },
    {
     "name": "stdout",
     "output_type": "stream",
     "text": [
      "✅ 크롤링 완료: '8조 규모' 체코 원전 입찰 시작…한수원, 안보평가 통과하고 본입찰 참......\n"
     ]
    },
    {
     "name": "stderr",
     "output_type": "stream",
     "text": [
      "📰 뉴스 본문 크롤링 진행:  72%|███████▏  | 142/198 [12:23<01:33,  1.66s/it]"
     ]
    },
    {
     "name": "stdout",
     "output_type": "stream",
     "text": [
      "✅ 크롤링 완료: 신한울 3·4호기 외 추가 기대는 아직…원전 투자 긴호흡 필요 - 메리츠......\n"
     ]
    },
    {
     "name": "stderr",
     "output_type": "stream",
     "text": [
      "📰 뉴스 본문 크롤링 진행:  72%|███████▏  | 143/198 [12:25<01:24,  1.53s/it]"
     ]
    },
    {
     "name": "stdout",
     "output_type": "stream",
     "text": [
      "✅ 크롤링 완료: 8조원 규모 체코 원전사업 입찰 개시…한수원, 美·佛과 경쟁...\n"
     ]
    },
    {
     "name": "stderr",
     "output_type": "stream",
     "text": [
      "📰 뉴스 본문 크롤링 진행:  73%|███████▎  | 144/198 [12:26<01:21,  1.51s/it]"
     ]
    },
    {
     "name": "stdout",
     "output_type": "stream",
     "text": [
      "⚠ 본문을 가져오지 못해 Selenium으로 재시도: http://www.ksmnews.co.kr/default/index_view_page.php?idx=371864&part_idx=295\n",
      "✅ 크롤링 완료: 체코 신규 원전사업 입찰 개시…한수원 ‘사업수주’ 총력...\n"
     ]
    },
    {
     "name": "stderr",
     "output_type": "stream",
     "text": [
      "📰 뉴스 본문 크롤링 진행:  73%|███████▎  | 145/198 [12:30<02:01,  2.30s/it]"
     ]
    },
    {
     "name": "stdout",
     "output_type": "stream",
     "text": [
      "✅ 크롤링 완료: 외교부, 신규원전 입찰 개시한 체코에 국내 기업 참여 관심 당부...\n"
     ]
    },
    {
     "name": "stderr",
     "output_type": "stream",
     "text": [
      "📰 뉴스 본문 크롤링 진행:  74%|███████▎  | 146/198 [12:32<01:43,  2.00s/it]"
     ]
    },
    {
     "name": "stdout",
     "output_type": "stream",
     "text": [
      "⚠ 본문을 가져오지 못해 Selenium으로 재시도: https://www.theguru.co.kr/news/article.html?no=32540\n",
      "✅ 크롤링 완료: [여의옥] 체코, '8조' 두코바니 원전 입찰 막 오른다…윤석열 당선인 기......\n"
     ]
    },
    {
     "name": "stderr",
     "output_type": "stream",
     "text": [
      "📰 뉴스 본문 크롤링 진행:  74%|███████▍  | 147/198 [12:36<02:22,  2.79s/it]"
     ]
    },
    {
     "name": "stdout",
     "output_type": "stream",
     "text": [
      "⚠ 본문을 가져오지 못해 Selenium으로 재시도: https://www.theguru.co.kr/news/article.html?no=32458\n",
      "✅ 크롤링 완료: 체코, '8조' 두코바니 원전 입찰 막 오른다…윤석열 당선인 기대감↑...\n"
     ]
    },
    {
     "name": "stderr",
     "output_type": "stream",
     "text": [
      "📰 뉴스 본문 크롤링 진행:  75%|███████▍  | 148/198 [12:40<02:38,  3.18s/it]"
     ]
    },
    {
     "name": "stdout",
     "output_type": "stream",
     "text": [
      "⚠ 본문을 가져오지 못해 Selenium으로 재시도: http://www.weeklytrade.co.kr/news/view.html?section=1&category=3&item=&no=79605\n",
      "✅ 크롤링 완료: 한·체코, 에너지 시장 대응 논의… 원전 수출 협조 당부...\n"
     ]
    },
    {
     "name": "stderr",
     "output_type": "stream",
     "text": [
      "📰 뉴스 본문 크롤링 진행:  75%|███████▌  | 149/198 [12:45<03:01,  3.70s/it]"
     ]
    },
    {
     "name": "stdout",
     "output_type": "stream",
     "text": [
      "⚠ 본문을 가져오지 못해 Selenium으로 재시도: http://www.mediapen.com/news/view/709515\n",
      "✅ 크롤링 완료: 한수원, 원전·수소 앞세워 한전 '하드캐리' 강화...\n"
     ]
    },
    {
     "name": "stderr",
     "output_type": "stream",
     "text": [
      "📰 뉴스 본문 크롤링 진행:  76%|███████▌  | 150/198 [12:50<03:19,  4.17s/it]"
     ]
    },
    {
     "name": "stdout",
     "output_type": "stream",
     "text": [
      "⚠ 본문을 가져오지 못해 Selenium으로 재시도: https://www.theguru.co.kr/news/article.html?no=32458\n",
      "✅ 크롤링 완료: 체코, '8조' 두코바니 원전 입찰 막 오른다…윤석열 당선인 기대감↑...\n"
     ]
    },
    {
     "name": "stderr",
     "output_type": "stream",
     "text": [
      "📰 뉴스 본문 크롤링 진행:  76%|███████▋  | 151/198 [12:55<03:14,  4.14s/it]"
     ]
    },
    {
     "name": "stdout",
     "output_type": "stream",
     "text": [
      "⚠ 본문을 가져오지 못해 Selenium으로 재시도: https://www.viva100.com/main/view.php?key=20220315010003591\n",
      "✅ 크롤링 완료: 메리츠증권 “한국전력, 새 정부의 원전 이용률 개선에도 대규모 적자 ......\n"
     ]
    },
    {
     "name": "stderr",
     "output_type": "stream",
     "text": [
      "📰 뉴스 본문 크롤링 진행:  77%|███████▋  | 152/198 [12:59<03:17,  4.29s/it]"
     ]
    },
    {
     "name": "stdout",
     "output_type": "stream",
     "text": [
      "⚠ 본문을 가져오지 못해 Selenium으로 재시도: http://www.weeklytrade.co.kr/news/view.html?section=1&category=3&item=&no=79605\n",
      "✅ 크롤링 완료: 한·체코, 에너지 시장 대응 논의… 원전 수출 협조 당부...\n"
     ]
    },
    {
     "name": "stderr",
     "output_type": "stream",
     "text": [
      "📰 뉴스 본문 크롤링 진행:  77%|███████▋  | 153/198 [13:03<03:11,  4.25s/it]"
     ]
    },
    {
     "name": "stdout",
     "output_type": "stream",
     "text": [
      "⚠ 본문을 가져오지 못해 Selenium으로 재시도: http://www.mediapen.com/news/view/709515\n",
      "✅ 크롤링 완료: 한수원, 원전·수소 앞세워 한전 '하드캐리' 강화...\n"
     ]
    },
    {
     "name": "stderr",
     "output_type": "stream",
     "text": [
      "📰 뉴스 본문 크롤링 진행:  78%|███████▊  | 154/198 [13:08<03:07,  4.26s/it]"
     ]
    },
    {
     "name": "stdout",
     "output_type": "stream",
     "text": [
      "⚠ 본문을 가져오지 못해 Selenium으로 재시도: https://www.radiokorea.com/news/article.php?uid=384204\n",
      "✅ 크롤링 완료: 유럽, 에너지 위기속에 원전 활용으로 회귀 현상...\n"
     ]
    },
    {
     "name": "stderr",
     "output_type": "stream",
     "text": [
      "📰 뉴스 본문 크롤링 진행:  78%|███████▊  | 155/198 [13:22<05:09,  7.20s/it]"
     ]
    },
    {
     "name": "stdout",
     "output_type": "stream",
     "text": [
      "⚠ 본문을 가져오지 못해 Selenium으로 재시도: https://www.theguru.co.kr/news/article.html?no=32155\n",
      "✅ 크롤링 완료: \"경제성 분석 생략\" 체코 환경단체 반발…두코바니 원전 발목...\n"
     ]
    },
    {
     "name": "stderr",
     "output_type": "stream",
     "text": [
      "📰 뉴스 본문 크롤링 진행:  79%|███████▉  | 156/198 [13:26<04:25,  6.33s/it]"
     ]
    },
    {
     "name": "stdout",
     "output_type": "stream",
     "text": [
      "✅ 크롤링 완료: 중·러 탈락한 체코 원전사업에 당당히 입성한 '한국수력원자력' 경쟁자......\n"
     ]
    },
    {
     "name": "stderr",
     "output_type": "stream",
     "text": [
      "📰 뉴스 본문 크롤링 진행:  79%|███████▉  | 157/198 [13:27<03:16,  4.79s/it]"
     ]
    },
    {
     "name": "stdout",
     "output_type": "stream",
     "text": [
      "✅ 크롤링 완료: 정부, 스페인·노르웨이·체코와 에너지 공동연구에 48억원 지원...\n"
     ]
    },
    {
     "name": "stderr",
     "output_type": "stream",
     "text": [
      "📰 뉴스 본문 크롤링 진행:  80%|███████▉  | 158/198 [13:29<02:30,  3.76s/it]"
     ]
    },
    {
     "name": "stdout",
     "output_type": "stream",
     "text": [
      "⚠ 본문을 가져오지 못해 Selenium으로 재시도: http://www.fnnews.com/news/202203231814535308\n",
      "✅ 크롤링 완료: \"8조 원전 수주 올인\"… 체코로 간 한수원 사장...\n"
     ]
    },
    {
     "name": "stderr",
     "output_type": "stream",
     "text": [
      "📰 뉴스 본문 크롤링 진행:  80%|████████  | 159/198 [13:35<02:55,  4.49s/it]"
     ]
    },
    {
     "name": "stdout",
     "output_type": "stream",
     "text": [
      "⚠ 본문을 가져오지 못해 Selenium으로 재시도: https://www.theguru.co.kr/news/article.html?no=31857\n",
      "✅ 크롤링 완료: 체코, 두코바니 원전 입찰 준비 순항…2024년 후보 평가 완료...\n"
     ]
    },
    {
     "name": "stderr",
     "output_type": "stream",
     "text": [
      "📰 뉴스 본문 크롤링 진행:  81%|████████  | 160/198 [13:39<02:47,  4.42s/it]"
     ]
    },
    {
     "name": "stdout",
     "output_type": "stream",
     "text": [
      "⚠ 본문을 가져오지 못해 Selenium으로 재시도: https://www.theguru.co.kr/news/article.html?no=31193\n",
      "✅ 크롤링 완료: 체코 총리 \"두코바니 원전 입찰 곧 개시\"...\n"
     ]
    },
    {
     "name": "stderr",
     "output_type": "stream",
     "text": [
      "📰 뉴스 본문 크롤링 진행:  81%|████████▏ | 161/198 [13:43<02:38,  4.29s/it]"
     ]
    },
    {
     "name": "stdout",
     "output_type": "stream",
     "text": [
      "✅ 크롤링 완료: 산업부, 스페인·노르웨이·체코 공동 연구과제에 48억원 지원...\n"
     ]
    },
    {
     "name": "stderr",
     "output_type": "stream",
     "text": [
      "📰 뉴스 본문 크롤링 진행:  82%|████████▏ | 162/198 [13:44<02:00,  3.34s/it]"
     ]
    },
    {
     "name": "stdout",
     "output_type": "stream",
     "text": [
      "✅ 크롤링 완료: 체코, 원자력·신재생E 확대...\n"
     ]
    },
    {
     "name": "stderr",
     "output_type": "stream",
     "text": [
      "📰 뉴스 본문 크롤링 진행:  82%|████████▏ | 163/198 [13:45<01:34,  2.69s/it]"
     ]
    },
    {
     "name": "stdout",
     "output_type": "stream",
     "text": [
      "⚠ 본문을 가져오지 못해 Selenium으로 재시도: https://biz.chosun.com/stock/stock_general/2022/02/28/CAIMHUHEUZBEXBZXE5WHWUIZAA/?utm_source=naver&utm_medium=original&utm_campaign=biz\n",
      "✅ 크롤링 완료: 文대통령 “원전이 주력” 한마디에 시간 외 시총 1조 오른 원전주…증......\n"
     ]
    },
    {
     "name": "stderr",
     "output_type": "stream",
     "text": [
      "📰 뉴스 본문 크롤링 진행:  83%|████████▎ | 164/198 [13:51<01:58,  3.50s/it]"
     ]
    },
    {
     "name": "stdout",
     "output_type": "stream",
     "text": [
      "⚠ 본문을 가져오지 못해 Selenium으로 재시도: https://www.theguru.co.kr/news/article.html?no=31482\n",
      "✅ 크롤링 완료: 佛 \"원전 수주하면…체코, 프랑스 발전시장 진출 보장\"…한수원 예의주......\n"
     ]
    },
    {
     "name": "stderr",
     "output_type": "stream",
     "text": [
      "📰 뉴스 본문 크롤링 진행:  83%|████████▎ | 165/198 [13:55<02:01,  3.68s/it]"
     ]
    },
    {
     "name": "stdout",
     "output_type": "stream",
     "text": [
      "✅ 크롤링 완료: [에너지공기업의 무한변신ㅣ한국수력원자력]원전·신재생 해외 진출…한......\n"
     ]
    },
    {
     "name": "stderr",
     "output_type": "stream",
     "text": [
      "📰 뉴스 본문 크롤링 진행:  84%|████████▍ | 166/198 [13:56<01:36,  3.00s/it]"
     ]
    },
    {
     "name": "stdout",
     "output_type": "stream",
     "text": [
      "⚠ 본문을 가져오지 못해 Selenium으로 재시도: http://www.mediapen.com/news/view/700125\n",
      "✅ 크롤링 완료: [원전 르네상스②]탈원전 딛고 동유럽·중동서 수출 축포 쏠까...\n"
     ]
    },
    {
     "name": "stderr",
     "output_type": "stream",
     "text": [
      "📰 뉴스 본문 크롤링 진행:  84%|████████▍ | 167/198 [14:01<01:45,  3.41s/it]"
     ]
    },
    {
     "name": "stdout",
     "output_type": "stream",
     "text": [
      "⚠ 본문을 가져오지 못해 Selenium으로 재시도: https://www.theguru.co.kr/news/article.html?no=30386\n",
      "✅ 크롤링 완료: 웨스팅하우스, 체코 원전 수주전 보폭 확대…현지 기업 7곳 양해각서...\n"
     ]
    },
    {
     "name": "stderr",
     "output_type": "stream",
     "text": [
      "📰 뉴스 본문 크롤링 진행:  85%|████████▍ | 168/198 [14:05<01:48,  3.60s/it]"
     ]
    },
    {
     "name": "stdout",
     "output_type": "stream",
     "text": [
      "⚠ 본문을 가져오지 못해 Selenium으로 재시도: http://www.fnnews.com/news/202202041048500986\n",
      "✅ 크롤링 완료: '수출1호' UAE원전 전체 준공 눈앞...'원전 건설에서 운영' 중심 이동...\n"
     ]
    },
    {
     "name": "stderr",
     "output_type": "stream",
     "text": [
      "📰 뉴스 본문 크롤링 진행:  85%|████████▌ | 169/198 [14:10<02:01,  4.17s/it]"
     ]
    },
    {
     "name": "stdout",
     "output_type": "stream",
     "text": [
      "⚠ 본문을 가져오지 못해 Selenium으로 재시도: https://www.nocutnews.co.kr/news/5728893\n",
      "✅ 크롤링 완료: 탈원전 폐기…인수위 \"신한울 3·4호기 건설 재개\" 요구...\n"
     ]
    },
    {
     "name": "stderr",
     "output_type": "stream",
     "text": [
      "📰 뉴스 본문 크롤링 진행:  86%|████████▌ | 170/198 [14:16<02:12,  4.72s/it]"
     ]
    },
    {
     "name": "stdout",
     "output_type": "stream",
     "text": [
      "⚠ 본문을 가져오지 못해 Selenium으로 재시도: https://biz.chosun.com/stock/stock_general/2022/02/28/CAIMHUHEUZBEXBZXE5WHWUIZAA/?utm_source=naver&utm_medium=original&utm_campaign=biz\n",
      "✅ 크롤링 완료: 文대통령 “원전이 주력” 한마디에 시간 외 시총 1조 오른 원전주…증......\n"
     ]
    },
    {
     "name": "stderr",
     "output_type": "stream",
     "text": [
      "📰 뉴스 본문 크롤링 진행:  86%|████████▋ | 171/198 [14:20<02:04,  4.61s/it]"
     ]
    },
    {
     "name": "stdout",
     "output_type": "stream",
     "text": [
      "⚠ 본문을 가져오지 못해 Selenium으로 재시도: https://www.theguru.co.kr/news/article.html?no=31482\n",
      "✅ 크롤링 완료: 佛 \"원전 수주하면…체코, 프랑스 발전시장 진출 보장\"…한수원 예의주......\n"
     ]
    },
    {
     "name": "stderr",
     "output_type": "stream",
     "text": [
      "📰 뉴스 본문 크롤링 진행:  87%|████████▋ | 172/198 [14:25<01:56,  4.48s/it]"
     ]
    },
    {
     "name": "stdout",
     "output_type": "stream",
     "text": [
      "✅ 크롤링 완료: 올해 '에너지국제공동연구 과제' 3개국에 48억 지원...\n"
     ]
    },
    {
     "name": "stderr",
     "output_type": "stream",
     "text": [
      "📰 뉴스 본문 크롤링 진행:  87%|████████▋ | 173/198 [14:26<01:31,  3.64s/it]"
     ]
    },
    {
     "name": "stdout",
     "output_type": "stream",
     "text": [
      "✅ 크롤링 완료: [에너지공기업의 무한변신ㅣ한국수력원자력]원전·신재생 해외 진출…한......\n"
     ]
    },
    {
     "name": "stderr",
     "output_type": "stream",
     "text": [
      "📰 뉴스 본문 크롤링 진행:  88%|████████▊ | 174/198 [14:28<01:11,  2.98s/it]"
     ]
    },
    {
     "name": "stdout",
     "output_type": "stream",
     "text": [
      "⚠ 본문을 가져오지 못해 Selenium으로 재시도: http://www.mediapen.com/news/view/700125\n",
      "✅ 크롤링 완료: [원전 르네상스②]탈원전 딛고 동유럽·중동서 수출 축포 쏠까...\n"
     ]
    },
    {
     "name": "stderr",
     "output_type": "stream",
     "text": [
      "📰 뉴스 본문 크롤링 진행:  88%|████████▊ | 175/198 [14:32<01:18,  3.42s/it]"
     ]
    },
    {
     "name": "stdout",
     "output_type": "stream",
     "text": [
      "⚠ 본문을 가져오지 못해 Selenium으로 재시도: https://www.theguru.co.kr/news/article.html?no=30386\n",
      "✅ 크롤링 완료: 웨스팅하우스, 체코 원전 수주전 보폭 확대…현지 기업 7곳 양해각서...\n"
     ]
    },
    {
     "name": "stderr",
     "output_type": "stream",
     "text": [
      "📰 뉴스 본문 크롤링 진행:  89%|████████▉ | 176/198 [14:36<01:19,  3.63s/it]"
     ]
    },
    {
     "name": "stdout",
     "output_type": "stream",
     "text": [
      "⚠ 본문을 가져오지 못해 Selenium으로 재시도: http://www.fnnews.com/news/202202041048500986\n",
      "✅ 크롤링 완료: '수출1호' UAE원전 전체 준공 눈앞...'원전 건설에서 운영' 중심 이동...\n"
     ]
    },
    {
     "name": "stderr",
     "output_type": "stream",
     "text": [
      "📰 뉴스 본문 크롤링 진행:  89%|████████▉ | 177/198 [14:42<01:27,  4.16s/it]"
     ]
    },
    {
     "name": "stdout",
     "output_type": "stream",
     "text": [
      "⚠ 본문을 가져오지 못해 Selenium으로 재시도: https://www.nocutnews.co.kr/news/5728893\n",
      "✅ 크롤링 완료: 탈원전 폐기…인수위 \"신한울 3·4호기 건설 재개\" 요구...\n"
     ]
    },
    {
     "name": "stderr",
     "output_type": "stream",
     "text": [
      "📰 뉴스 본문 크롤링 진행:  90%|████████▉ | 178/198 [14:46<01:25,  4.30s/it]"
     ]
    },
    {
     "name": "stdout",
     "output_type": "stream",
     "text": [
      "✅ 크롤링 완료: 탈원전 5년간, 해외 수주 ‘0′…이집트 원전이 구세주 될까?...\n"
     ]
    },
    {
     "name": "stderr",
     "output_type": "stream",
     "text": [
      "📰 뉴스 본문 크롤링 진행:  90%|█████████ | 179/198 [14:48<01:04,  3.39s/it]"
     ]
    },
    {
     "name": "stdout",
     "output_type": "stream",
     "text": [
      "✅ 크롤링 완료: 전세계 원전 432기 건설 추진, ‘팀코리아’ 수주 총력전...\n"
     ]
    },
    {
     "name": "stderr",
     "output_type": "stream",
     "text": [
      "📰 뉴스 본문 크롤링 진행:  91%|█████████ | 180/198 [14:49<00:49,  2.75s/it]"
     ]
    },
    {
     "name": "stdout",
     "output_type": "stream",
     "text": [
      "✅ 크롤링 완료: 산업장관 \"사우디 원전 수주 재개 대비…체코·폴란드도 진행\"...\n"
     ]
    },
    {
     "name": "stderr",
     "output_type": "stream",
     "text": [
      "📰 뉴스 본문 크롤링 진행:  91%|█████████▏| 181/198 [14:50<00:40,  2.36s/it]"
     ]
    },
    {
     "name": "stdout",
     "output_type": "stream",
     "text": [
      "✅ 크롤링 완료: (원전수출 진단①) 한미 해외원전 진출 선언 이후…시장은 ‘각자도생’...\n"
     ]
    },
    {
     "name": "stderr",
     "output_type": "stream",
     "text": [
      "📰 뉴스 본문 크롤링 진행:  92%|█████████▏| 182/198 [14:52<00:32,  2.04s/it]"
     ]
    },
    {
     "name": "stdout",
     "output_type": "stream",
     "text": [
      "⚠ 본문을 가져오지 못해 Selenium으로 재시도: https://www.theguru.co.kr/news/article.html?no=31153\n",
      "✅ 크롤링 완료: 한수원·웨스팅하우스 체코서 세 불린다…프랑스 EDF도 사무소 신설...\n"
     ]
    },
    {
     "name": "stderr",
     "output_type": "stream",
     "text": [
      "📰 뉴스 본문 크롤링 진행:  92%|█████████▏| 183/198 [14:56<00:40,  2.70s/it]"
     ]
    },
    {
     "name": "stdout",
     "output_type": "stream",
     "text": [
      "⚠ 본문을 가져오지 못해 Selenium으로 재시도: http://dream.kotra.or.kr/kotranews/cms/news/actionKotraBoardDetail.do?SITE_NO=3&MENU_ID=410&CONTENTS_NO=1&bbsGbn=242&bbsSn=242&pNttSn=193341\n",
      "✅ 크롤링 완료: 체코 신임 정부 정책방향 및 전망...\n"
     ]
    },
    {
     "name": "stderr",
     "output_type": "stream",
     "text": [
      "📰 뉴스 본문 크롤링 진행:  93%|█████████▎| 184/198 [15:00<00:45,  3.24s/it]"
     ]
    },
    {
     "name": "stdout",
     "output_type": "stream",
     "text": [
      "✅ 크롤링 완료: 신한울 3·4호기 건설재개 가속도...\n"
     ]
    },
    {
     "name": "stderr",
     "output_type": "stream",
     "text": [
      "📰 뉴스 본문 크롤링 진행:  93%|█████████▎| 185/198 [15:02<00:34,  2.63s/it]"
     ]
    },
    {
     "name": "stdout",
     "output_type": "stream",
     "text": [
      "⚠ 본문을 가져오지 못해 Selenium으로 재시도: https://premium.mk.co.kr/view.php?no=31676\n",
      "✅ 크롤링 완료: 매경이 전하는 세상의 지식 (매-세-지, 3월 24일)...\n"
     ]
    },
    {
     "name": "stderr",
     "output_type": "stream",
     "text": [
      "📰 뉴스 본문 크롤링 진행:  94%|█████████▍| 186/198 [15:05<00:36,  3.02s/it]"
     ]
    },
    {
     "name": "stdout",
     "output_type": "stream",
     "text": [
      "✅ 크롤링 완료: ‘EU 택소노미’에 원전업계 기회 될까…눈여겨 볼 기업 어디...\n"
     ]
    },
    {
     "name": "stderr",
     "output_type": "stream",
     "text": [
      "📰 뉴스 본문 크롤링 진행:  94%|█████████▍| 187/198 [15:07<00:27,  2.54s/it]"
     ]
    },
    {
     "name": "stdout",
     "output_type": "stream",
     "text": [
      "✅ 크롤링 완료: 체코 원전 수주전 미국쪽으로 기우나...\n"
     ]
    },
    {
     "name": "stderr",
     "output_type": "stream",
     "text": [
      "📰 뉴스 본문 크롤링 진행:  95%|█████████▍| 188/198 [15:08<00:21,  2.17s/it]"
     ]
    },
    {
     "name": "stdout",
     "output_type": "stream",
     "text": [
      "✅ 크롤링 완료: [공기업, 미래 대전환]\"원전 활로, 수출로 뚫는다\"…한수원, 올해 '조 단......\n"
     ]
    },
    {
     "name": "stderr",
     "output_type": "stream",
     "text": [
      "📰 뉴스 본문 크롤링 진행:  95%|█████████▌| 189/198 [15:10<00:18,  2.07s/it]"
     ]
    },
    {
     "name": "stdout",
     "output_type": "stream",
     "text": [
      "⚠ 본문을 가져오지 못해 Selenium으로 재시도: https://www.businesspost.co.kr/BP?command=article_view&num=273174\n",
      "✅ 크롤링 완료: [Who Is ?] 박병석 국회의장...\n"
     ]
    },
    {
     "name": "stderr",
     "output_type": "stream",
     "text": [
      "📰 뉴스 본문 크롤링 진행:  96%|█████████▌| 190/198 [15:14<00:20,  2.59s/it]"
     ]
    },
    {
     "name": "stdout",
     "output_type": "stream",
     "text": [
      "⚠ 본문을 가져오지 못해 Selenium으로 재시도: https://www.businesspost.co.kr/BP?command=article_view&num=273174\n",
      "✅ 크롤링 완료: [Who Is ?] 박병석 국회의장...\n"
     ]
    },
    {
     "name": "stderr",
     "output_type": "stream",
     "text": [
      "📰 뉴스 본문 크롤링 진행:  96%|█████████▋| 191/198 [15:17<00:20,  2.88s/it]"
     ]
    },
    {
     "name": "stdout",
     "output_type": "stream",
     "text": [
      "⚠ 본문을 가져오지 못해 Selenium으로 재시도: https://www.businesspost.co.kr/BP?command=article_view&num=271044\n",
      "✅ 크롤링 완료: [데스크리포트] 2월 기업 동향과 전망 - 공기업...\n"
     ]
    },
    {
     "name": "stderr",
     "output_type": "stream",
     "text": [
      "📰 뉴스 본문 크롤링 진행:  97%|█████████▋| 192/198 [15:21<00:19,  3.18s/it]"
     ]
    },
    {
     "name": "stdout",
     "output_type": "stream",
     "text": [
      "✅ 크롤링 완료: 러시아發 에너지에 덴 유럽… 탈원전 ‘탈출 러시’...\n"
     ]
    },
    {
     "name": "stderr",
     "output_type": "stream",
     "text": [
      "📰 뉴스 본문 크롤링 진행:  97%|█████████▋| 193/198 [15:23<00:13,  2.68s/it]"
     ]
    },
    {
     "name": "stdout",
     "output_type": "stream",
     "text": [
      "✅ 크롤링 완료: [경제 톡톡톡]공동주택 공시가격 17% 올라…역대 3번째 상승...\n"
     ]
    },
    {
     "name": "stderr",
     "output_type": "stream",
     "text": [
      "📰 뉴스 본문 크롤링 진행:  98%|█████████▊| 194/198 [15:24<00:09,  2.30s/it]"
     ]
    },
    {
     "name": "stdout",
     "output_type": "stream",
     "text": [
      "⚠ 본문을 가져오지 못해 Selenium으로 재시도: http://www.fnnews.com/news/202201251752288852\n",
      "✅ 크롤링 완료: ‘신한울 3·4호기 재개’ 대선 공약에… 문승욱 \"재건설 없다\"...\n"
     ]
    },
    {
     "name": "stderr",
     "output_type": "stream",
     "text": [
      "📰 뉴스 본문 크롤링 진행:  98%|█████████▊| 195/198 [15:29<00:09,  3.19s/it]"
     ]
    },
    {
     "name": "stdout",
     "output_type": "stream",
     "text": [
      "⚠ 본문을 가져오지 못해 Selenium으로 재시도: http://www.fnnews.com/news/202201251503242837\n",
      "✅ 크롤링 완료: 문승욱 \"신한울 3, 4호기 건설 없다...사용후핵연료 해결안돼\"...\n"
     ]
    },
    {
     "name": "stderr",
     "output_type": "stream",
     "text": [
      "📰 뉴스 본문 크롤링 진행:  99%|█████████▉| 196/198 [15:35<00:07,  3.80s/it]"
     ]
    },
    {
     "name": "stdout",
     "output_type": "stream",
     "text": [
      "⚠ 본문을 가져오지 못해 Selenium으로 재시도: http://www.smartfn.co.kr/view.php?ud=2022032415121921954409b2f14f_46\n",
      "✅ 크롤링 완료: 국내 건설사, 코로나 위기 딛고 해외시장 박차...\n"
     ]
    },
    {
     "name": "stderr",
     "output_type": "stream",
     "text": [
      "📰 뉴스 본문 크롤링 진행:  99%|█████████▉| 197/198 [15:38<00:03,  3.64s/it]"
     ]
    },
    {
     "name": "stdout",
     "output_type": "stream",
     "text": [
      "✅ 크롤링 완료: [여의도 주식왕 2부] '아진엑스텍 vs 일진전기 vs LS' 여의도를 달굴 종......\n"
     ]
    },
    {
     "name": "stderr",
     "output_type": "stream",
     "text": [
      "📰 뉴스 본문 크롤링 진행: 100%|██████████| 198/198 [15:39<00:00,  4.75s/it]\n"
     ]
    },
    {
     "name": "stdout",
     "output_type": "stream",
     "text": [
      "🔍 검색 중: 두코바니 원전 (2022.04.01 ~ 2022.06.30)\n",
      "✅ 300개의 뉴스 기사 링크 및 날짜를 수집 완료! (2022.04.01 ~ 2022.06.30)\n"
     ]
    },
    {
     "name": "stderr",
     "output_type": "stream",
     "text": [
      "📰 뉴스 본문 크롤링 진행:   0%|          | 0/300 [00:00<?, ?it/s]"
     ]
    },
    {
     "name": "stdout",
     "output_type": "stream",
     "text": [
      "✅ 크롤링 완료: 윤 대통령, 한-체코 정상회담서 \"두코바니 원전에 한국기업 참여 요청\"...\n"
     ]
    },
    {
     "name": "stderr",
     "output_type": "stream",
     "text": [
      "📰 뉴스 본문 크롤링 진행:   0%|          | 1/300 [00:01<06:10,  1.24s/it]"
     ]
    },
    {
     "name": "stdout",
     "output_type": "stream",
     "text": [
      "⚠ 본문을 가져오지 못해 Selenium으로 재시도: http://www.munhwa.com/news/view.html?no=2022062901030303017001\n",
      "✅ 크롤링 완료: 체코와 原電협력 시동… 세계시장 공동진출 MOU...\n"
     ]
    },
    {
     "name": "stderr",
     "output_type": "stream",
     "text": [
      "📰 뉴스 본문 크롤링 진행:   1%|          | 2/300 [00:05<14:51,  2.99s/it]"
     ]
    },
    {
     "name": "stdout",
     "output_type": "stream",
     "text": [
      "✅ 크롤링 완료: 尹 정부, '원전 세일즈' 본격 나서… 체코서 수주활동...\n"
     ]
    },
    {
     "name": "stderr",
     "output_type": "stream",
     "text": [
      "📰 뉴스 본문 크롤링 진행:   1%|          | 3/300 [00:06<11:13,  2.27s/it]"
     ]
    },
    {
     "name": "stdout",
     "output_type": "stream",
     "text": [
      "✅ 크롤링 완료: 尹대통령, 정상들에게 홍보책자 직접 주며 '원전 세일즈'...\n"
     ]
    },
    {
     "name": "stderr",
     "output_type": "stream",
     "text": [
      "📰 뉴스 본문 크롤링 진행:   1%|▏         | 4/300 [00:07<08:51,  1.80s/it]"
     ]
    },
    {
     "name": "stdout",
     "output_type": "stream",
     "text": [
      "✅ 크롤링 완료: 원전·방산·전기차까지…尹, NATO 정상들과 숨가쁜 '세일즈 외교'...\n"
     ]
    },
    {
     "name": "stderr",
     "output_type": "stream",
     "text": [
      "📰 뉴스 본문 크롤링 진행:   2%|▏         | 5/300 [00:09<08:27,  1.72s/it]"
     ]
    },
    {
     "name": "stdout",
     "output_type": "stream",
     "text": [
      "⚠ 본문을 가져오지 못해 Selenium으로 재시도: http://www.edaily.co.kr/news/newspath.asp?newsid=04070486632366968\n",
      "✅ 크롤링 완료: 한수원, 체코 신규 원전 건설 예정지 찾아 ‘원전 세일즈’...\n"
     ]
    },
    {
     "name": "stderr",
     "output_type": "stream",
     "text": [
      "📰 뉴스 본문 크롤링 진행:   2%|▏         | 6/300 [00:15<15:06,  3.08s/it]"
     ]
    },
    {
     "name": "stdout",
     "output_type": "stream",
     "text": [
      "⚠ 본문을 가져오지 못해 Selenium으로 재시도: http://www.fnnews.com/news/202206291831484802\n",
      "✅ 크롤링 완료: 네덜란드 원전 세일즈, 폴란드 신공항 협력… 유럽시장 뚫는다 [尹대통......\n"
     ]
    },
    {
     "name": "stderr",
     "output_type": "stream",
     "text": [
      "📰 뉴스 본문 크롤링 진행:   2%|▏         | 7/300 [00:21<20:27,  4.19s/it]"
     ]
    },
    {
     "name": "stdout",
     "output_type": "stream",
     "text": [
      "✅ 크롤링 완료: 체코 간 이창양 산업장관, 배터리 지렛대 삼아 원전 잡는다...\n"
     ]
    },
    {
     "name": "stderr",
     "output_type": "stream",
     "text": [
      "📰 뉴스 본문 크롤링 진행:   3%|▎         | 8/300 [00:23<16:26,  3.38s/it]"
     ]
    },
    {
     "name": "stdout",
     "output_type": "stream",
     "text": [
      "✅ 크롤링 완료: 한전기술, 체코 TES사와 신규원전사업 MOU 체결...\n"
     ]
    },
    {
     "name": "stderr",
     "output_type": "stream",
     "text": [
      "📰 뉴스 본문 크롤링 진행:   3%|▎         | 9/300 [00:24<13:10,  2.72s/it]"
     ]
    },
    {
     "name": "stdout",
     "output_type": "stream",
     "text": [
      "⚠ 본문을 가져오지 못해 Selenium으로 재시도: http://www.breaknews.com/905726\n",
      "✅ 크롤링 완료: 윤석열 대통령, 체코에 '원전 수주·부산엑스포 유치지지' 요청...\n"
     ]
    },
    {
     "name": "stderr",
     "output_type": "stream",
     "text": [
      "📰 뉴스 본문 크롤링 진행:   3%|▎         | 10/300 [00:31<19:44,  4.09s/it]"
     ]
    },
    {
     "name": "stdout",
     "output_type": "stream",
     "text": [
      "⚠ 본문을 가져오지 못해 Selenium으로 재시도: https://www.dailian.co.kr/news/view/1127952/?sc=Naver\n",
      "✅ 크롤링 완료: 한전기술, 체코 TES사와 신규원전사업 협력 MOU 체결...\n"
     ]
    },
    {
     "name": "stderr",
     "output_type": "stream",
     "text": [
      "📰 뉴스 본문 크롤링 진행:   4%|▎         | 11/300 [00:36<21:03,  4.37s/it]"
     ]
    },
    {
     "name": "stdout",
     "output_type": "stream",
     "text": [
      "✅ 크롤링 완료: [특징주] 에이프로젠 MED, 백신특허·원전 테마 강세에 거래량 급증...주......\n"
     ]
    },
    {
     "name": "stderr",
     "output_type": "stream",
     "text": [
      "📰 뉴스 본문 크롤링 진행:   4%|▍         | 12/300 [00:38<16:50,  3.51s/it]"
     ]
    },
    {
     "name": "stdout",
     "output_type": "stream",
     "text": [
      "✅ 크롤링 완료: “유럽과 원전-방산-반도체 협력”… 中의존 줄여 경제안보 새판짜기...\n"
     ]
    },
    {
     "name": "stderr",
     "output_type": "stream",
     "text": [
      "📰 뉴스 본문 크롤링 진행:   4%|▍         | 13/300 [00:39<13:31,  2.83s/it]"
     ]
    },
    {
     "name": "stdout",
     "output_type": "stream",
     "text": [
      "⚠ 본문을 가져오지 못해 Selenium으로 재시도: http://www.fnnews.com/news/202206241928014955\n",
      "✅ 크롤링 완료: 이창양 첫 출장 체코·폴란드 방문 '원전 세일즈'...\n"
     ]
    },
    {
     "name": "stderr",
     "output_type": "stream",
     "text": [
      "📰 뉴스 본문 크롤링 진행:   5%|▍         | 14/300 [00:45<18:09,  3.81s/it]"
     ]
    },
    {
     "name": "stdout",
     "output_type": "stream",
     "text": [
      "⚠ 본문을 가져오지 못해 Selenium으로 재시도: http://www.breaknews.com/905726\n",
      "✅ 크롤링 완료: 윤석열 대통령, 체코에 '원전 수주·부산엑스포 유치지지' 요청...\n"
     ]
    },
    {
     "name": "stderr",
     "output_type": "stream",
     "text": [
      "📰 뉴스 본문 크롤링 진행:   5%|▌         | 15/300 [00:52<23:02,  4.85s/it]"
     ]
    },
    {
     "name": "stdout",
     "output_type": "stream",
     "text": [
      "✅ 크롤링 완료: [특징주] 우리기술, 원전 수출 본격화 기대에 주가 급등...\n"
     ]
    },
    {
     "name": "stderr",
     "output_type": "stream",
     "text": [
      "📰 뉴스 본문 크롤링 진행:   5%|▌         | 16/300 [00:54<17:45,  3.75s/it]"
     ]
    },
    {
     "name": "stdout",
     "output_type": "stream",
     "text": [
      "✅ 크롤링 완료: [EE칼럼] 원전 최강국 도전과 에너지 수출국의 꿈...\n"
     ]
    },
    {
     "name": "stderr",
     "output_type": "stream",
     "text": [
      "📰 뉴스 본문 크롤링 진행:   6%|▌         | 17/300 [00:55<14:06,  2.99s/it]"
     ]
    },
    {
     "name": "stdout",
     "output_type": "stream",
     "text": [
      "✅ 크롤링 완료: [특징주] '재료 많은' 현대건설, 원전·풍력 기대에 주가↑...4만원대 진......\n"
     ]
    },
    {
     "name": "stderr",
     "output_type": "stream",
     "text": [
      "📰 뉴스 본문 크롤링 진행:   6%|▌         | 18/300 [00:56<11:32,  2.45s/it]"
     ]
    },
    {
     "name": "stdout",
     "output_type": "stream",
     "text": [
      "✅ 크롤링 완료: 원전사업 부활 신호탄에 건설업계 ‘화색’...\n"
     ]
    },
    {
     "name": "stderr",
     "output_type": "stream",
     "text": [
      "📰 뉴스 본문 크롤링 진행:   6%|▋         | 19/300 [00:57<09:47,  2.09s/it]"
     ]
    },
    {
     "name": "stdout",
     "output_type": "stream",
     "text": [
      "⚠ 본문을 가져오지 못해 Selenium으로 재시도: https://www.news1.kr/articles/?4719133\n",
      "✅ 크롤링 완료: 원전부품사 40% 수주 제로…신한울 3·4호기 조기발주 '일감' 확보...\n"
     ]
    },
    {
     "name": "stderr",
     "output_type": "stream",
     "text": [
      "📰 뉴스 본문 크롤링 진행:   7%|▋         | 21/300 [01:06<13:09,  2.83s/it]"
     ]
    },
    {
     "name": "stdout",
     "output_type": "stream",
     "text": [
      "⚠ 오류 발생 (뉴스 크롤링 실패): http://www.sentv.co.kr/news/view/623229, 오류: HTTPSConnectionPool(host='www.sentv.co.kr', port=443): Max retries exceeded with url: /news/view/623229 (Caused by SSLError(SSLCertVerificationError(1, '[SSL: CERTIFICATE_VERIFY_FAILED] certificate verify failed: unable to get local issuer certificate (_ssl.c:1000)')))\n",
      "✅ 크롤링 완료: 산업부, ‘尹 정부 국정과제’ 원전수출전략추진단 설치...\n"
     ]
    },
    {
     "name": "stderr",
     "output_type": "stream",
     "text": [
      "📰 뉴스 본문 크롤링 진행:   7%|▋         | 22/300 [01:07<11:28,  2.48s/it]"
     ]
    },
    {
     "name": "stdout",
     "output_type": "stream",
     "text": [
      "⚠ 본문을 가져오지 못해 Selenium으로 재시도: https://www.asiatoday.co.kr/view.php?key=20220628010016078\n",
      "✅ 크롤링 완료: 윤대통령, 세일즈 외교 통할까…체코 원전·폴란드 방산에 주목...\n"
     ]
    },
    {
     "name": "stderr",
     "output_type": "stream",
     "text": [
      "📰 뉴스 본문 크롤링 진행:   8%|▊         | 23/300 [01:14<16:23,  3.55s/it]"
     ]
    },
    {
     "name": "stdout",
     "output_type": "stream",
     "text": [
      "✅ 크롤링 완료: '復원전 첫 승부처' 체코도 인정한 韓원전…승부는 尹이 쥐고 있다?...\n"
     ]
    },
    {
     "name": "stderr",
     "output_type": "stream",
     "text": [
      "📰 뉴스 본문 크롤링 진행:   8%|▊         | 24/300 [01:15<14:08,  3.08s/it]"
     ]
    },
    {
     "name": "stdout",
     "output_type": "stream",
     "text": [
      "⚠ 본문을 가져오지 못해 Selenium으로 재시도: https://biz.chosun.com/policy/policy_sub/2022/06/17/K34O2P5DG5FPVDQP6TVWY7SZ7A/?utm_source=naver&utm_medium=original&utm_campaign=biz\n",
      "✅ 크롤링 완료: 40兆 먹거리 공략…이창양 산업장관, 폴란드 원전 세일즈 간다...\n"
     ]
    },
    {
     "name": "stderr",
     "output_type": "stream",
     "text": [
      "📰 뉴스 본문 크롤링 진행:   8%|▊         | 25/300 [01:28<27:19,  5.96s/it]"
     ]
    },
    {
     "name": "stdout",
     "output_type": "stream",
     "text": [
      "✅ 크롤링 완료: 원전 업계 찾아 1조 일감 약속한 尹 \"탈원전은 바보같은 짓\"...\n"
     ]
    },
    {
     "name": "stderr",
     "output_type": "stream",
     "text": [
      "📰 뉴스 본문 크롤링 진행:   9%|▊         | 26/300 [01:30<20:54,  4.58s/it]"
     ]
    },
    {
     "name": "stdout",
     "output_type": "stream",
     "text": [
      "✅ 크롤링 완료: \"탈원전 시즌2?\" \"노 모어!\"…韓원전 전문가의 특별한 강연...\n"
     ]
    },
    {
     "name": "stderr",
     "output_type": "stream",
     "text": [
      "📰 뉴스 본문 크롤링 진행:   9%|▉         | 27/300 [01:31<16:48,  3.69s/it]"
     ]
    },
    {
     "name": "stdout",
     "output_type": "stream",
     "text": [
      "✅ 크롤링 완료: [尹대통령, 다자 외교무대 데뷔] 산업계, 원전·방산·반도체 수출 성과......\n"
     ]
    },
    {
     "name": "stderr",
     "output_type": "stream",
     "text": [
      "📰 뉴스 본문 크롤링 진행:   9%|▉         | 28/300 [01:32<13:20,  2.94s/it]"
     ]
    },
    {
     "name": "stdout",
     "output_type": "stream",
     "text": [
      "✅ 크롤링 완료: 대우건설, 차세대원전 SMR 참여 등 미래 원자력 경쟁력 강화...\n"
     ]
    },
    {
     "name": "stderr",
     "output_type": "stream",
     "text": [
      "📰 뉴스 본문 크롤링 진행:  10%|▉         | 29/300 [01:36<13:54,  3.08s/it]"
     ]
    },
    {
     "name": "stdout",
     "output_type": "stream",
     "text": [
      "✅ 크롤링 완료: [급등주]우진 상승, 정부 유럽국가와 원전 수출 논의 예정...\n"
     ]
    },
    {
     "name": "stderr",
     "output_type": "stream",
     "text": [
      "📰 뉴스 본문 크롤링 진행:  10%|█         | 30/300 [01:37<11:20,  2.52s/it]"
     ]
    },
    {
     "name": "stdout",
     "output_type": "stream",
     "text": [
      "⚠ 본문을 가져오지 못해 Selenium으로 재시도: http://www.munhwa.com/news/view.html?no=2022062301033403017001\n",
      "✅ 크롤링 완료: <뉴스와 시각>체코도 환영한 탈원전 폐기...\n"
     ]
    },
    {
     "name": "stderr",
     "output_type": "stream",
     "text": [
      "📰 뉴스 본문 크롤링 진행:  10%|█         | 31/300 [01:41<13:29,  3.01s/it]"
     ]
    },
    {
     "name": "stdout",
     "output_type": "stream",
     "text": [
      "✅ 크롤링 완료: \"원전 수출, 대통령이 나서야\"...첫 승부처 체코 \"韓기술 인정\"...\n"
     ]
    },
    {
     "name": "stderr",
     "output_type": "stream",
     "text": [
      "📰 뉴스 본문 크롤링 진행:  11%|█         | 32/300 [01:43<11:37,  2.60s/it]"
     ]
    },
    {
     "name": "stdout",
     "output_type": "stream",
     "text": [
      "✅ 크롤링 완료: [단독]尹정부 원전세일즈 시동…이창양 산업부 장관 8兆 원전 체코 간다...\n"
     ]
    },
    {
     "name": "stderr",
     "output_type": "stream",
     "text": [
      "📰 뉴스 본문 크롤링 진행:  11%|█         | 33/300 [01:45<10:33,  2.37s/it]"
     ]
    },
    {
     "name": "stdout",
     "output_type": "stream",
     "text": [
      "⚠ 본문을 가져오지 못해 Selenium으로 재시도: https://www.ktv.go.kr/content/view?content_id=650695\n",
      "✅ 크롤링 완료: 이창양 장관, 체코·폴란드 방문···'원전 세일즈' 시동...\n"
     ]
    },
    {
     "name": "stderr",
     "output_type": "stream",
     "text": [
      "📰 뉴스 본문 크롤링 진행:  11%|█▏        | 34/300 [01:49<13:29,  3.04s/it]"
     ]
    },
    {
     "name": "stdout",
     "output_type": "stream",
     "text": [
      "✅ 크롤링 완료: 윤석열 대통령, 나토 참석 키워드 '안보'와 '원전'...\n"
     ]
    },
    {
     "name": "stderr",
     "output_type": "stream",
     "text": [
      "📰 뉴스 본문 크롤링 진행:  12%|█▏        | 35/300 [01:50<11:02,  2.50s/it]"
     ]
    },
    {
     "name": "stdout",
     "output_type": "stream",
     "text": [
      "⚠ 본문을 가져오지 못해 Selenium으로 재시도: http://www.edaily.co.kr/news/newspath.asp?newsid=02735526632362704\n",
      "✅ 크롤링 완료: 대우건설, 차세대원전 SMR 참여로 경쟁력 강화한다...\n"
     ]
    },
    {
     "name": "stderr",
     "output_type": "stream",
     "text": [
      "📰 뉴스 본문 크롤링 진행:  12%|█▏        | 36/300 [01:56<15:21,  3.49s/it]"
     ]
    },
    {
     "name": "stdout",
     "output_type": "stream",
     "text": [
      "⚠ 본문을 가져오지 못해 Selenium으로 재시도: http://www.mediapen.com/news/view/731541\n",
      "✅ 크롤링 완료: 원전산업 강화에 범정부 지원 돌인...\n"
     ]
    },
    {
     "name": "stderr",
     "output_type": "stream",
     "text": [
      "📰 뉴스 본문 크롤링 진행:  12%|█▏        | 37/300 [02:01<17:26,  3.98s/it]"
     ]
    },
    {
     "name": "stdout",
     "output_type": "stream",
     "text": [
      "✅ 크롤링 완료: 정부 원전 협력업체 지원대책은?...\n"
     ]
    },
    {
     "name": "stderr",
     "output_type": "stream",
     "text": [
      "📰 뉴스 본문 크롤링 진행:  13%|█▎        | 38/300 [02:03<13:45,  3.15s/it]"
     ]
    },
    {
     "name": "stdout",
     "output_type": "stream",
     "text": [
      "✅ 크롤링 완료: '원전 세일즈' 시동 건 산업장관…48조 동유럽 시장 찾는다...\n"
     ]
    },
    {
     "name": "stderr",
     "output_type": "stream",
     "text": [
      "📰 뉴스 본문 크롤링 진행:  13%|█▎        | 39/300 [02:04<11:16,  2.59s/it]"
     ]
    },
    {
     "name": "stdout",
     "output_type": "stream",
     "text": [
      "⚠ 본문을 가져오지 못해 Selenium으로 재시도: http://news.mk.co.kr/newsRead.php?no=499861&year=2022\n",
      "✅ 크롤링 완료: [단독] 웨스팅하우스 사장단 극비 방한…탄력받는 '한미 원전동맹'...\n"
     ]
    },
    {
     "name": "stderr",
     "output_type": "stream",
     "text": [
      "📰 뉴스 본문 크롤링 진행:  13%|█▎        | 40/300 [02:10<15:36,  3.60s/it]"
     ]
    },
    {
     "name": "stdout",
     "output_type": "stream",
     "text": [
      "✅ 크롤링 완료: \"940조 원전시장 잡자\" 한미 원전동맹 첫발…주도권 누가?...\n"
     ]
    },
    {
     "name": "stderr",
     "output_type": "stream",
     "text": [
      "📰 뉴스 본문 크롤링 진행:  14%|█▎        | 41/300 [02:12<13:22,  3.10s/it]"
     ]
    },
    {
     "name": "stdout",
     "output_type": "stream",
     "text": [
      "⚠ 본문을 가져오지 못해 Selenium으로 재시도: https://hankookilbo.com/News/Read/A2022063016360003458?did=NA\n",
      "✅ 크롤링 완료: 한-영 정상, 협력 프레임워크 채택... 윤 대통령 나토 순방 마무리...\n"
     ]
    },
    {
     "name": "stderr",
     "output_type": "stream",
     "text": [
      "📰 뉴스 본문 크롤링 진행:  14%|█▍        | 42/300 [02:21<20:57,  4.88s/it]"
     ]
    },
    {
     "name": "stdout",
     "output_type": "stream",
     "text": [
      "✅ 크롤링 완료: [특징주] 원전 관련주 피코그램 주가 강세...'체코·폴란드 방문한다'...\n"
     ]
    },
    {
     "name": "stderr",
     "output_type": "stream",
     "text": [
      "📰 뉴스 본문 크롤링 진행:  14%|█▍        | 43/300 [02:22<16:15,  3.80s/it]"
     ]
    },
    {
     "name": "stdout",
     "output_type": "stream",
     "text": [
      "✅ 크롤링 완료: 美원전기업 웨스팅하우스 오늘 방한, 한전과 원전 수출 협의...\n"
     ]
    },
    {
     "name": "stderr",
     "output_type": "stream",
     "text": [
      "📰 뉴스 본문 크롤링 진행:  15%|█▍        | 44/300 [02:23<12:57,  3.04s/it]"
     ]
    },
    {
     "name": "stdout",
     "output_type": "stream",
     "text": [
      "⚠ 본문을 가져오지 못해 Selenium으로 재시도: http://www.yonhapnewstv.co.kr/MYH20220623016600641/?input=1825m\n",
      "✅ 크롤링 완료: 48조 규모 '원전 세일즈'…체코·폴란드 시장 공략...\n"
     ]
    },
    {
     "name": "stderr",
     "output_type": "stream",
     "text": [
      "📰 뉴스 본문 크롤링 진행:  15%|█▌        | 45/300 [02:31<18:14,  4.29s/it]"
     ]
    },
    {
     "name": "stdout",
     "output_type": "stream",
     "text": [
      "✅ 크롤링 완료: 원전 설계부터 해체까지 토털솔루션…대우건설 글로벌 원전시공강자 급......\n"
     ]
    },
    {
     "name": "stderr",
     "output_type": "stream",
     "text": [
      "📰 뉴스 본문 크롤링 진행:  15%|█▌        | 46/300 [02:32<14:46,  3.49s/it]"
     ]
    },
    {
     "name": "stdout",
     "output_type": "stream",
     "text": [
      "⚠ 본문을 가져오지 못해 Selenium으로 재시도: http://www.mediapen.com/news/view/729664\n",
      "✅ 크롤링 완료: 산업부, 범정부 지원으로 원전수주 추진...\n"
     ]
    },
    {
     "name": "stderr",
     "output_type": "stream",
     "text": [
      "📰 뉴스 본문 크롤링 진행:  16%|█▌        | 47/300 [02:37<15:54,  3.77s/it]"
     ]
    },
    {
     "name": "stdout",
     "output_type": "stream",
     "text": [
      "⚠ 본문을 가져오지 못해 Selenium으로 재시도: https://www.theguru.co.kr/news/article.html?no=37272\n",
      "✅ 크롤링 완료: \"체코 원전 현지화 70%만 정해졌을 뿐…韓·美·佛 승자 안개\"...\n"
     ]
    },
    {
     "name": "stderr",
     "output_type": "stream",
     "text": [
      "📰 뉴스 본문 크롤링 진행:  16%|█▌        | 48/300 [02:41<16:55,  4.03s/it]"
     ]
    },
    {
     "name": "stdout",
     "output_type": "stream",
     "text": [
      "✅ 크롤링 완료: 닻 올리는 한미 ‘원전 어벤저스’…‘실익 챙기기’는 관건...\n"
     ]
    },
    {
     "name": "stderr",
     "output_type": "stream",
     "text": [
      "📰 뉴스 본문 크롤링 진행:  16%|█▋        | 49/300 [02:43<13:26,  3.21s/it]"
     ]
    },
    {
     "name": "stdout",
     "output_type": "stream",
     "text": [
      "✅ 크롤링 완료: 삼성물산·현대건설, 나란히 '원전‧중동' 해외 수주 시장 정조준...\n"
     ]
    },
    {
     "name": "stderr",
     "output_type": "stream",
     "text": [
      "📰 뉴스 본문 크롤링 진행:  17%|█▋        | 50/300 [02:44<10:56,  2.63s/it]"
     ]
    },
    {
     "name": "stdout",
     "output_type": "stream",
     "text": [
      "⚠ 본문을 가져오지 못해 Selenium으로 재시도: https://www.theguru.co.kr/news/article.html?no=37314\n",
      "✅ 크롤링 완료: 정재훈 한수원 사장 \"체코 원전 1순위…SMR도 협력\"...\n"
     ]
    },
    {
     "name": "stderr",
     "output_type": "stream",
     "text": [
      "📰 뉴스 본문 크롤링 진행:  17%|█▋        | 51/300 [02:48<13:01,  3.14s/it]"
     ]
    },
    {
     "name": "stdout",
     "output_type": "stream",
     "text": [
      "✅ 크롤링 완료: [탈탈원전 한달] 원전 수출 속도 붙었다…한·미 협력 강화...\n"
     ]
    },
    {
     "name": "stderr",
     "output_type": "stream",
     "text": [
      "📰 뉴스 본문 크롤링 진행:  17%|█▋        | 52/300 [02:50<10:54,  2.64s/it]"
     ]
    },
    {
     "name": "stdout",
     "output_type": "stream",
     "text": [
      "⚠ 본문을 가져오지 못해 Selenium으로 재시도: http://www.munhwa.com/news/view.html?no=2022053101071903017001\n",
      "✅ 크롤링 완료: 한수원 사장 김준동·박기영 등 거론 “親원전 정책 전환·조직 재정비......\n"
     ]
    },
    {
     "name": "stderr",
     "output_type": "stream",
     "text": [
      "📰 뉴스 본문 크롤링 진행:  18%|█▊        | 53/300 [02:54<13:30,  3.28s/it]"
     ]
    },
    {
     "name": "stdout",
     "output_type": "stream",
     "text": [
      "✅ 크롤링 완료: 대한전선, 주가 상승…원전으로 수출과 탄소중립 잡는다...\n"
     ]
    },
    {
     "name": "stderr",
     "output_type": "stream",
     "text": [
      "📰 뉴스 본문 크롤링 진행:  18%|█▊        | 54/300 [02:56<11:03,  2.70s/it]"
     ]
    },
    {
     "name": "stdout",
     "output_type": "stream",
     "text": [
      "✅ 크롤링 완료: 유럽·동남아까지 원전 '훈풍'…韓 기업, 영토확장 총력전...\n"
     ]
    },
    {
     "name": "stderr",
     "output_type": "stream",
     "text": [
      "📰 뉴스 본문 크롤링 진행:  18%|█▊        | 55/300 [02:57<09:12,  2.25s/it]"
     ]
    },
    {
     "name": "stdout",
     "output_type": "stream",
     "text": [
      "✅ 크롤링 완료: [특징주] 서전기전, 체코·폴란드 '50조 규모' … 해외 원전 수주 가능성......\n"
     ]
    },
    {
     "name": "stderr",
     "output_type": "stream",
     "text": [
      "📰 뉴스 본문 크롤링 진행:  19%|█▊        | 56/300 [02:58<08:11,  2.01s/it]"
     ]
    },
    {
     "name": "stdout",
     "output_type": "stream",
     "text": [
      "✅ 크롤링 완료: 尹정부 '탈원전 지우기'...공기업 수장 물갈이에 원전 진흥 속도...\n"
     ]
    },
    {
     "name": "stderr",
     "output_type": "stream",
     "text": [
      "📰 뉴스 본문 크롤링 진행:  19%|█▉        | 57/300 [03:00<07:24,  1.83s/it]"
     ]
    },
    {
     "name": "stdout",
     "output_type": "stream",
     "text": [
      "⚠ 본문을 가져오지 못해 Selenium으로 재시도: https://www.theguru.co.kr/news/article.html?no=36455\n",
      "✅ 크롤링 완료: 체코 총리, 마크롱 대통령과 '원전 미팅'…한수원 예의주시...\n"
     ]
    },
    {
     "name": "stderr",
     "output_type": "stream",
     "text": [
      "📰 뉴스 본문 크롤링 진행:  19%|█▉        | 58/300 [03:04<10:18,  2.56s/it]"
     ]
    },
    {
     "name": "stdout",
     "output_type": "stream",
     "text": [
      "✅ 크롤링 완료: [특징주] 보성파워텍, 체코까지 원전 수주 뻗어갈까…주가 살펴보니...\n"
     ]
    },
    {
     "name": "stderr",
     "output_type": "stream",
     "text": [
      "📰 뉴스 본문 크롤링 진행:  20%|█▉        | 59/300 [03:05<08:41,  2.17s/it]"
     ]
    },
    {
     "name": "stdout",
     "output_type": "stream",
     "text": [
      "⚠ 본문을 가져오지 못해 Selenium으로 재시도: http://www.munhwa.com/news/view.html?no=2022053001031903017001\n",
      "✅ 크롤링 완료: 세계 최고수준 원전건설 기술… 체코 두코바니서 재현한다...\n"
     ]
    },
    {
     "name": "stderr",
     "output_type": "stream",
     "text": [
      "📰 뉴스 본문 크롤링 진행:  20%|██        | 60/300 [03:10<11:23,  2.85s/it]"
     ]
    },
    {
     "name": "stdout",
     "output_type": "stream",
     "text": [
      "✅ 크롤링 완료: 尹, 마지막까지 '세일즈 외교'…3박5일, 16건 외교일정 소화...\n"
     ]
    },
    {
     "name": "stderr",
     "output_type": "stream",
     "text": [
      "📰 뉴스 본문 크롤링 진행:  20%|██        | 61/300 [03:11<09:25,  2.36s/it]"
     ]
    },
    {
     "name": "stdout",
     "output_type": "stream",
     "text": [
      "⚠ 본문을 가져오지 못해 Selenium으로 재시도: https://www.theguru.co.kr/news/article.html?no=35720\n",
      "✅ 크롤링 완료: '한수원 눈독' 체코 두코바니·테멜린 원전 내진성능 평가 착수...\n"
     ]
    },
    {
     "name": "stderr",
     "output_type": "stream",
     "text": [
      "📰 뉴스 본문 크롤링 진행:  21%|██        | 62/300 [03:15<11:33,  2.91s/it]"
     ]
    },
    {
     "name": "stdout",
     "output_type": "stream",
     "text": [
      "✅ 크롤링 완료: (인터뷰)김창수 대한전기협회 KEPIC 본부장...\n"
     ]
    },
    {
     "name": "stderr",
     "output_type": "stream",
     "text": [
      "📰 뉴스 본문 크롤링 진행:  21%|██        | 63/300 [03:17<09:49,  2.49s/it]"
     ]
    },
    {
     "name": "stdout",
     "output_type": "stream",
     "text": [
      "✅ 크롤링 완료: [포토타임] 尹, 나토 일정 마치고 귀국길…3박 5일 세일즈 외교 펼쳐...\n"
     ]
    },
    {
     "name": "stderr",
     "output_type": "stream",
     "text": [
      "📰 뉴스 본문 크롤링 진행:  21%|██▏       | 64/300 [03:18<08:29,  2.16s/it]"
     ]
    },
    {
     "name": "stdout",
     "output_type": "stream",
     "text": [
      "✅ 크롤링 완료: 원전 체코 진출 전략 논의한 한수원…두코바니 원전 '수주전'...\n"
     ]
    },
    {
     "name": "stderr",
     "output_type": "stream",
     "text": [
      "📰 뉴스 본문 크롤링 진행:  22%|██▏       | 65/300 [03:19<07:17,  1.86s/it]"
     ]
    },
    {
     "name": "stdout",
     "output_type": "stream",
     "text": [
      "⚠ 본문을 가져오지 못해 Selenium으로 재시도: https://www.voakorea.com/a/6639444.html\n",
      "✅ 크롤링 완료: 윤석열 한국 대통령, 캐나다∙체코에 '북핵 협력' 당부...중국, 아태 4개......\n"
     ]
    },
    {
     "name": "stderr",
     "output_type": "stream",
     "text": [
      "📰 뉴스 본문 크롤링 진행:  22%|██▏       | 66/300 [03:25<12:18,  3.16s/it]"
     ]
    },
    {
     "name": "stdout",
     "output_type": "stream",
     "text": [
      "⚠ 본문을 가져오지 못해 Selenium으로 재시도: https://www.ktv.go.kr/content/view?content_id=650973\n",
      "✅ 크롤링 완료: 윤 대통령, 영국·체코와 정상회담···나토 총장 면담...\n"
     ]
    },
    {
     "name": "stderr",
     "output_type": "stream",
     "text": [
      "📰 뉴스 본문 크롤링 진행:  22%|██▏       | 67/300 [03:30<13:32,  3.49s/it]"
     ]
    },
    {
     "name": "stdout",
     "output_type": "stream",
     "text": [
      "✅ 크롤링 완료: 원전 수출 가능성 커진다… 13년 만에 낭보 울릴까...\n"
     ]
    },
    {
     "name": "stderr",
     "output_type": "stream",
     "text": [
      "📰 뉴스 본문 크롤링 진행:  23%|██▎       | 68/300 [03:31<11:07,  2.88s/it]"
     ]
    },
    {
     "name": "stdout",
     "output_type": "stream",
     "text": [
      "⚠ 본문을 가져오지 못해 Selenium으로 재시도: https://www.dnews.co.kr/uhtml/view.jsp?idxno=202206081211470490064\n",
      "✅ 크롤링 완료: [기획] 글로벌 원전시장 두드리는 한국…수주 역량 강화 방안은...\n"
     ]
    },
    {
     "name": "stderr",
     "output_type": "stream",
     "text": [
      "📰 뉴스 본문 크롤링 진행:  23%|██▎       | 69/300 [03:36<13:13,  3.43s/it]"
     ]
    },
    {
     "name": "stdout",
     "output_type": "stream",
     "text": [
      "✅ 크롤링 완료: [에너지 뉴스] 광해광업공단, 니켈·코발트 등 핵심광물 재자원화 산업......\n"
     ]
    },
    {
     "name": "stderr",
     "output_type": "stream",
     "text": [
      "📰 뉴스 본문 크롤링 진행:  23%|██▎       | 70/300 [03:37<10:45,  2.80s/it]"
     ]
    },
    {
     "name": "stdout",
     "output_type": "stream",
     "text": [
      "⚠ 본문을 가져오지 못해 Selenium으로 재시도: http://www.fnnews.com/news/202205291823389333\n",
      "✅ 크롤링 완료: 체코 8조·폴란드 40조 수주 정조준… ‘K원전 수출’ 붐 살린다 [한미 ......\n"
     ]
    },
    {
     "name": "stderr",
     "output_type": "stream",
     "text": [
      "📰 뉴스 본문 크롤링 진행:  24%|██▎       | 71/300 [03:43<14:00,  3.67s/it]"
     ]
    },
    {
     "name": "stdout",
     "output_type": "stream",
     "text": [
      "⚠ 본문을 가져오지 못해 Selenium으로 재시도: http://www.munhwa.com/news/view.html?no=2022053001031905000001\n",
      "✅ 크롤링 완료: 한수원, 이집트 원전 최종계약 체결 임박...\n"
     ]
    },
    {
     "name": "stderr",
     "output_type": "stream",
     "text": [
      "📰 뉴스 본문 크롤링 진행:  24%|██▍       | 72/300 [03:47<14:21,  3.78s/it]"
     ]
    },
    {
     "name": "stdout",
     "output_type": "stream",
     "text": [
      "✅ 크롤링 완료: 한미 원전동맹 강화…폴란드·체코 원전 수주 기대...\n"
     ]
    },
    {
     "name": "stderr",
     "output_type": "stream",
     "text": [
      "📰 뉴스 본문 크롤링 진행:  24%|██▍       | 73/300 [03:48<11:31,  3.05s/it]"
     ]
    },
    {
     "name": "stdout",
     "output_type": "stream",
     "text": [
      "⚠ 본문을 가져오지 못해 Selenium으로 재시도: http://www.munhwa.com/news/view.html?no=2022052301071403017001\n",
      "✅ 크롤링 완료: ‘原電’ 손잡은 韓·美… 차세대 SMR 시장 선도할 발판 마련...\n"
     ]
    },
    {
     "name": "stderr",
     "output_type": "stream",
     "text": [
      "📰 뉴스 본문 크롤링 진행:  25%|██▍       | 74/300 [03:53<13:07,  3.49s/it]"
     ]
    },
    {
     "name": "stdout",
     "output_type": "stream",
     "text": [
      "⚠ 본문을 가져오지 못해 Selenium으로 재시도: http://news.mk.co.kr/newsRead.php?no=451832&year=2022\n",
      "✅ 크롤링 완료: [단독] 한미 원전 협력, 유럽부터 공략한다…방산 원전주 쓸어담아야 하......\n"
     ]
    },
    {
     "name": "stderr",
     "output_type": "stream",
     "text": [
      "📰 뉴스 본문 크롤링 진행:  25%|██▌       | 75/300 [03:58<15:30,  4.13s/it]"
     ]
    },
    {
     "name": "stdout",
     "output_type": "stream",
     "text": [
      "⚠ 본문을 가져오지 못해 Selenium으로 재시도: http://www.mediapen.com/news/view/723766\n",
      "✅ 크롤링 완료: 5년간 막혔던 원전 수주 길 뚫릴까...\n"
     ]
    },
    {
     "name": "stderr",
     "output_type": "stream",
     "text": [
      "📰 뉴스 본문 크롤링 진행:  25%|██▌       | 76/300 [04:03<15:54,  4.26s/it]"
     ]
    },
    {
     "name": "stdout",
     "output_type": "stream",
     "text": [
      "⚠ 본문을 가져오지 못해 Selenium으로 재시도: http://www.fnnews.com/news/202206281755381772\n",
      "✅ 크롤링 완료: 대우건설, 국내 유일 원자력 종합솔루션 건설사 거듭...\n"
     ]
    },
    {
     "name": "stderr",
     "output_type": "stream",
     "text": [
      "📰 뉴스 본문 크롤링 진행:  26%|██▌       | 77/300 [04:09<17:57,  4.83s/it]"
     ]
    },
    {
     "name": "stdout",
     "output_type": "stream",
     "text": [
      "✅ 크롤링 완료: \"원전 2년에 1개씩 짓는다\"...유럽이 다시 원전에 꽂힌 이유...\n"
     ]
    },
    {
     "name": "stderr",
     "output_type": "stream",
     "text": [
      "📰 뉴스 본문 크롤링 진행:  26%|██▌       | 78/300 [04:11<14:24,  3.89s/it]"
     ]
    },
    {
     "name": "stdout",
     "output_type": "stream",
     "text": [
      "✅ 크롤링 완료: (2022 한국원자력연차대회) \"대형원전과 SMR 함께 가야…전력공급·도매......\n"
     ]
    },
    {
     "name": "stderr",
     "output_type": "stream",
     "text": [
      "📰 뉴스 본문 크롤링 진행:  26%|██▋       | 79/300 [04:12<11:36,  3.15s/it]"
     ]
    },
    {
     "name": "stdout",
     "output_type": "stream",
     "text": [
      "⚠ 본문을 가져오지 못해 Selenium으로 재시도: http://www.mediapen.com/news/view/719595\n",
      "✅ 크롤링 완료: \"원전, 에너지전환 게임체인저…탄소중립 기본 축\"...\n"
     ]
    },
    {
     "name": "stderr",
     "output_type": "stream",
     "text": [
      "📰 뉴스 본문 크롤링 진행:  27%|██▋       | 80/300 [04:16<12:38,  3.45s/it]"
     ]
    },
    {
     "name": "stdout",
     "output_type": "stream",
     "text": [
      "✅ 크롤링 완료: 한수원, \"체코이어 폴란드 신규원전사업 수주한다\"...\n"
     ]
    },
    {
     "name": "stderr",
     "output_type": "stream",
     "text": [
      "📰 뉴스 본문 크롤링 진행:  27%|██▋       | 81/300 [04:18<10:11,  2.79s/it]"
     ]
    },
    {
     "name": "stdout",
     "output_type": "stream",
     "text": [
      "✅ 크롤링 완료: 우리기술, 1분기 원전 수주 증가…혁신형 소형모듈원전 개발 참여 예정...\n"
     ]
    },
    {
     "name": "stderr",
     "output_type": "stream",
     "text": [
      "📰 뉴스 본문 크롤링 진행:  27%|██▋       | 82/300 [04:19<08:27,  2.33s/it]"
     ]
    },
    {
     "name": "stdout",
     "output_type": "stream",
     "text": [
      "⚠ 본문을 가져오지 못해 Selenium으로 재시도: http://www.edaily.co.kr/news/newspath.asp?newsid=02863446632298416\n",
      "✅ 크롤링 완료: K-원전 수출 수요 부활…조광ILI, 실적 개선 기대감...\n"
     ]
    },
    {
     "name": "stderr",
     "output_type": "stream",
     "text": [
      "📰 뉴스 본문 크롤링 진행:  28%|██▊       | 83/300 [04:25<12:22,  3.42s/it]"
     ]
    },
    {
     "name": "stdout",
     "output_type": "stream",
     "text": [
      "⚠ 본문을 가져오지 못해 Selenium으로 재시도: https://www.theguru.co.kr/news/article.html?no=33576\n",
      "✅ 크롤링 완료: [단독] 체코 CEZ \"테멜린 원전 부지 내 SMR 건설\"…두산중공업·현대건설......\n"
     ]
    },
    {
     "name": "stderr",
     "output_type": "stream",
     "text": [
      "📰 뉴스 본문 크롤링 진행:  28%|██▊       | 84/300 [04:29<13:19,  3.70s/it]"
     ]
    },
    {
     "name": "stdout",
     "output_type": "stream",
     "text": [
      "✅ 크롤링 완료: 러 침략에 원전 확대 기조…불 붙는 원전株·우라늄ETF...\n"
     ]
    },
    {
     "name": "stderr",
     "output_type": "stream",
     "text": [
      "📰 뉴스 본문 크롤링 진행:  28%|██▊       | 85/300 [04:30<10:31,  2.94s/it]"
     ]
    },
    {
     "name": "stdout",
     "output_type": "stream",
     "text": [
      "✅ 크롤링 완료: [특징주] '한전기술' 체코 원전 수주 회의로 장마감 강세보여...\n"
     ]
    },
    {
     "name": "stderr",
     "output_type": "stream",
     "text": [
      "📰 뉴스 본문 크롤링 진행:  29%|██▊       | 86/300 [04:32<08:39,  2.43s/it]"
     ]
    },
    {
     "name": "stdout",
     "output_type": "stream",
     "text": [
      "✅ 크롤링 완료: 비츠로테크, 원전사업으로 제2도약 꿈꾼다...\n"
     ]
    },
    {
     "name": "stderr",
     "output_type": "stream",
     "text": [
      "📰 뉴스 본문 크롤링 진행:  29%|██▉       | 87/300 [04:33<07:35,  2.14s/it]"
     ]
    },
    {
     "name": "stdout",
     "output_type": "stream",
     "text": [
      "⚠ 본문을 가져오지 못해 Selenium으로 재시도: https://www.businesspost.co.kr/BP?command=article_view&num=278863\n",
      "✅ 크롤링 완료: 한수원 해외수주 도전 이어져, 수주활동 이끌 사장 인선은 기약 없어...\n"
     ]
    },
    {
     "name": "stderr",
     "output_type": "stream",
     "text": [
      "📰 뉴스 본문 크롤링 진행:  29%|██▉       | 88/300 [04:38<10:14,  2.90s/it]"
     ]
    },
    {
     "name": "stdout",
     "output_type": "stream",
     "text": [
      "⚠ 본문을 가져오지 못해 Selenium으로 재시도: https://www.theguru.co.kr/news/article.html?no=36807\n",
      "✅ 크롤링 완료: 한수원, 체코 공대 SMR 컨퍼런스 참가...\n"
     ]
    },
    {
     "name": "stderr",
     "output_type": "stream",
     "text": [
      "📰 뉴스 본문 크롤링 진행:  30%|██▉       | 89/300 [04:42<11:40,  3.32s/it]"
     ]
    },
    {
     "name": "stdout",
     "output_type": "stream",
     "text": [
      "✅ 크롤링 완료: (2022년 원자력학회 춘계학술발표회) \"신한울 3·4호기, 원전수출 통한 ......\n"
     ]
    },
    {
     "name": "stderr",
     "output_type": "stream",
     "text": [
      "📰 뉴스 본문 크롤링 진행:  30%|███       | 90/300 [04:43<09:37,  2.75s/it]"
     ]
    },
    {
     "name": "stdout",
     "output_type": "stream",
     "text": [
      "⚠ 본문을 가져오지 못해 Selenium으로 재시도: http://www.naeil.com/news_view/?id_art=423512\n",
      "✅ 크롤링 완료: [탄소중립과 원자력 | ④ 수출 · SMR] 2030년까지 원전 10기 수출 … 원......\n"
     ]
    },
    {
     "name": "stderr",
     "output_type": "stream",
     "text": [
      "📰 뉴스 본문 크롤링 진행:  30%|███       | 91/300 [04:49<12:51,  3.69s/it]"
     ]
    },
    {
     "name": "stdout",
     "output_type": "stream",
     "text": [
      "✅ 크롤링 완료: 삼성물산·현대건설·대우건설, 원전사업 통해 세계로...\n"
     ]
    },
    {
     "name": "stderr",
     "output_type": "stream",
     "text": [
      "📰 뉴스 본문 크롤링 진행:  31%|███       | 92/300 [04:52<11:37,  3.35s/it]"
     ]
    },
    {
     "name": "stdout",
     "output_type": "stream",
     "text": [
      "✅ 크롤링 완료: 尹 ‘원전 최강국’ 본격 시동…힘 받는 원전업계...\n"
     ]
    },
    {
     "name": "stderr",
     "output_type": "stream",
     "text": [
      "📰 뉴스 본문 크롤링 진행:  31%|███       | 93/300 [04:54<09:46,  2.84s/it]"
     ]
    },
    {
     "name": "stdout",
     "output_type": "stream",
     "text": [
      "✅ 크롤링 완료: 尹 ‘원전 최강국’ 본격 시동…탈원전에 숨죽였던 기업들 환호 [비즈3......\n"
     ]
    },
    {
     "name": "stderr",
     "output_type": "stream",
     "text": [
      "📰 뉴스 본문 크롤링 진행:  31%|███▏      | 94/300 [04:55<08:18,  2.42s/it]"
     ]
    },
    {
     "name": "stdout",
     "output_type": "stream",
     "text": [
      "✅ 크롤링 완료: 국정과제에 포함된 '탈원전 폐기'…원전 시장은 어떻게...\n"
     ]
    },
    {
     "name": "stderr",
     "output_type": "stream",
     "text": [
      "📰 뉴스 본문 크롤링 진행:  32%|███▏      | 95/300 [04:56<07:17,  2.13s/it]"
     ]
    },
    {
     "name": "stdout",
     "output_type": "stream",
     "text": [
      "✅ 크롤링 완료: 한국, 원전강국으로 거듭난다…\"시장 확대 속도\"...\n"
     ]
    },
    {
     "name": "stderr",
     "output_type": "stream",
     "text": [
      "📰 뉴스 본문 크롤링 진행:  32%|███▏      | 96/300 [04:58<06:16,  1.85s/it]"
     ]
    },
    {
     "name": "stdout",
     "output_type": "stream",
     "text": [
      "✅ 크롤링 완료: [급등주] 서전기전 18% 상승 '한수원, 원전 수출 박차'...\n"
     ]
    },
    {
     "name": "stderr",
     "output_type": "stream",
     "text": [
      "📰 뉴스 본문 크롤링 진행:  32%|███▏      | 97/300 [04:59<05:36,  1.66s/it]"
     ]
    },
    {
     "name": "stdout",
     "output_type": "stream",
     "text": [
      "⚠ 본문을 가져오지 못해 Selenium으로 재시도: http://www.naeil.com/news_view/?id_art=421111\n",
      "✅ 크롤링 완료: 체코 폴란드로 한국형원전 수출 박차...\n"
     ]
    },
    {
     "name": "stderr",
     "output_type": "stream",
     "text": [
      "📰 뉴스 본문 크롤링 진행:  33%|███▎      | 98/300 [05:03<07:58,  2.37s/it]"
     ]
    },
    {
     "name": "stdout",
     "output_type": "stream",
     "text": [
      "⚠ 본문을 가져오지 못해 Selenium으로 재시도: https://hankookilbo.com/News/Read/A2022042114440005709?did=NA\n",
      "✅ 크롤링 완료: 원전수출 최강국 시험대? 한수원, 폴란드에 신규 원전사업 제안서 제출...\n"
     ]
    },
    {
     "name": "stderr",
     "output_type": "stream",
     "text": [
      "📰 뉴스 본문 크롤링 진행:  33%|███▎      | 99/300 [05:11<13:54,  4.15s/it]"
     ]
    },
    {
     "name": "stdout",
     "output_type": "stream",
     "text": [
      "✅ 크롤링 완료: 한신기계, 3거래일 연속 하락세 반전 성공…원전 수출 가능할까?...\n"
     ]
    },
    {
     "name": "stderr",
     "output_type": "stream",
     "text": [
      "📰 뉴스 본문 크롤링 진행:  33%|███▎      | 100/300 [05:13<11:19,  3.40s/it]"
     ]
    },
    {
     "name": "stdout",
     "output_type": "stream",
     "text": [
      "⚠ 본문을 가져오지 못해 Selenium으로 재시도: http://www.munhwa.com/news/view.html?no=2022062201070503017001\n",
      "✅ 크롤링 완료: ‘原電수출추진단’ 설치·운영안 행정예고...\n"
     ]
    },
    {
     "name": "stderr",
     "output_type": "stream",
     "text": [
      "📰 뉴스 본문 크롤링 진행:  34%|███▎      | 101/300 [05:18<12:47,  3.86s/it]"
     ]
    },
    {
     "name": "stdout",
     "output_type": "stream",
     "text": [
      "⚠ 본문을 가져오지 못해 Selenium으로 재시도: https://biz.chosun.com/policy/policy_sub/2022/06/17/K34O2P5DG5FPVDQP6TVWY7SZ7A/?utm_source=naver&utm_medium=original&utm_campaign=biz\n",
      "✅ 크롤링 완료: 40兆 먹거리 공략…이창양 산업장관, 폴란드 원전 세일즈 간다...\n"
     ]
    },
    {
     "name": "stderr",
     "output_type": "stream",
     "text": [
      "📰 뉴스 본문 크롤링 진행:  34%|███▍      | 102/300 [05:23<13:45,  4.17s/it]"
     ]
    },
    {
     "name": "stdout",
     "output_type": "stream",
     "text": [
      "✅ 크롤링 완료: 원전 업계 찾아 1조 일감 약속한 尹 \"탈원전은 바보같은 짓\"...\n"
     ]
    },
    {
     "name": "stderr",
     "output_type": "stream",
     "text": [
      "📰 뉴스 본문 크롤링 진행:  34%|███▍      | 103/300 [05:24<11:02,  3.36s/it]"
     ]
    },
    {
     "name": "stdout",
     "output_type": "stream",
     "text": [
      "✅ 크롤링 완료: \"탈원전 시즌2?\" \"노 모어!\"…韓원전 전문가의 특별한 강연...\n"
     ]
    },
    {
     "name": "stderr",
     "output_type": "stream",
     "text": [
      "📰 뉴스 본문 크롤링 진행:  35%|███▍      | 104/300 [05:26<09:15,  2.83s/it]"
     ]
    },
    {
     "name": "stdout",
     "output_type": "stream",
     "text": [
      "✅ 크롤링 완료: 이창양 산업장관, 취임 첫 해외 출장…체코·폴란드서 원전 세일즈...\n"
     ]
    },
    {
     "name": "stderr",
     "output_type": "stream",
     "text": [
      "📰 뉴스 본문 크롤링 진행:  35%|███▌      | 105/300 [05:27<07:33,  2.33s/it]"
     ]
    },
    {
     "name": "stdout",
     "output_type": "stream",
     "text": [
      "✅ 크롤링 완료: [尹대통령, 다자 외교무대 데뷔] 산업계, 원전·방산·반도체 수출 성과......\n"
     ]
    },
    {
     "name": "stderr",
     "output_type": "stream",
     "text": [
      "📰 뉴스 본문 크롤링 진행:  35%|███▌      | 106/300 [05:28<06:25,  1.99s/it]"
     ]
    },
    {
     "name": "stdout",
     "output_type": "stream",
     "text": [
      "✅ 크롤링 완료: 대우건설, 차세대원전 SMR 참여 등 미래 원자력 경쟁력 강화...\n"
     ]
    },
    {
     "name": "stderr",
     "output_type": "stream",
     "text": [
      "📰 뉴스 본문 크롤링 진행:  36%|███▌      | 107/300 [05:30<05:50,  1.82s/it]"
     ]
    },
    {
     "name": "stdout",
     "output_type": "stream",
     "text": [
      "✅ 크롤링 완료: 나토, 尹대통령 ‘눈 감은’→‘눈 뜬’ 사진으로 교체...\n"
     ]
    },
    {
     "name": "stderr",
     "output_type": "stream",
     "text": [
      "📰 뉴스 본문 크롤링 진행:  36%|███▌      | 108/300 [05:31<05:35,  1.75s/it]"
     ]
    },
    {
     "name": "stdout",
     "output_type": "stream",
     "text": [
      "✅ 크롤링 완료: [급등주]우진 상승, 정부 유럽국가와 원전 수출 논의 예정...\n"
     ]
    },
    {
     "name": "stderr",
     "output_type": "stream",
     "text": [
      "📰 뉴스 본문 크롤링 진행:  36%|███▋      | 109/300 [05:32<04:58,  1.56s/it]"
     ]
    },
    {
     "name": "stdout",
     "output_type": "stream",
     "text": [
      "⚠ 본문을 가져오지 못해 Selenium으로 재시도: http://www.munhwa.com/news/view.html?no=2022062301033403017001\n",
      "✅ 크롤링 완료: <뉴스와 시각>체코도 환영한 탈원전 폐기...\n"
     ]
    },
    {
     "name": "stderr",
     "output_type": "stream",
     "text": [
      "📰 뉴스 본문 크롤링 진행:  37%|███▋      | 110/300 [05:37<08:12,  2.59s/it]"
     ]
    },
    {
     "name": "stdout",
     "output_type": "stream",
     "text": [
      "✅ 크롤링 완료: 이창양 산업장관, 폴란드·체코 출장…'韓원전 세일즈' 속도낼 듯...\n"
     ]
    },
    {
     "name": "stderr",
     "output_type": "stream",
     "text": [
      "📰 뉴스 본문 크롤링 진행:  37%|███▋      | 111/300 [05:39<07:08,  2.27s/it]"
     ]
    },
    {
     "name": "stdout",
     "output_type": "stream",
     "text": [
      "⚠ 본문을 가져오지 못해 Selenium으로 재시도: http://www.munhwa.com/news/view.html?no=2022062301033403017001\n",
      "✅ 크롤링 완료: <뉴스와 시각>체코도 환영한 탈원전 폐기...\n"
     ]
    },
    {
     "name": "stderr",
     "output_type": "stream",
     "text": [
      "📰 뉴스 본문 크롤링 진행:  37%|███▋      | 112/300 [05:43<08:54,  2.84s/it]"
     ]
    },
    {
     "name": "stdout",
     "output_type": "stream",
     "text": [
      "✅ 크롤링 완료: \"원전 수출, 대통령이 나서야\"...첫 승부처 체코 \"韓기술 인정\"...\n"
     ]
    },
    {
     "name": "stderr",
     "output_type": "stream",
     "text": [
      "📰 뉴스 본문 크롤링 진행:  38%|███▊      | 113/300 [05:45<07:41,  2.47s/it]"
     ]
    },
    {
     "name": "stdout",
     "output_type": "stream",
     "text": [
      "✅ 크롤링 완료: [단독]尹정부 원전세일즈 시동…이창양 산업부 장관 8兆 원전 체코 간다...\n"
     ]
    },
    {
     "name": "stderr",
     "output_type": "stream",
     "text": [
      "📰 뉴스 본문 크롤링 진행:  38%|███▊      | 114/300 [05:46<06:41,  2.16s/it]"
     ]
    },
    {
     "name": "stdout",
     "output_type": "stream",
     "text": [
      "⚠ 본문을 가져오지 못해 Selenium으로 재시도: https://www.ktv.go.kr/content/view?content_id=650695\n",
      "✅ 크롤링 완료: 이창양 장관, 체코·폴란드 방문···'원전 세일즈' 시동...\n"
     ]
    },
    {
     "name": "stderr",
     "output_type": "stream",
     "text": [
      "📰 뉴스 본문 크롤링 진행:  38%|███▊      | 115/300 [05:50<08:25,  2.73s/it]"
     ]
    },
    {
     "name": "stdout",
     "output_type": "stream",
     "text": [
      "✅ 크롤링 완료: 윤석열 대통령, 나토 참석 키워드 '안보'와 '원전'...\n"
     ]
    },
    {
     "name": "stderr",
     "output_type": "stream",
     "text": [
      "📰 뉴스 본문 크롤링 진행:  39%|███▊      | 116/300 [05:51<07:03,  2.30s/it]"
     ]
    },
    {
     "name": "stdout",
     "output_type": "stream",
     "text": [
      "⚠ 본문을 가져오지 못해 Selenium으로 재시도: http://www.edaily.co.kr/news/newspath.asp?newsid=02735526632362704\n",
      "✅ 크롤링 완료: 대우건설, 차세대원전 SMR 참여로 경쟁력 강화한다...\n"
     ]
    },
    {
     "name": "stderr",
     "output_type": "stream",
     "text": [
      "📰 뉴스 본문 크롤링 진행:  39%|███▉      | 117/300 [05:57<09:53,  3.24s/it]"
     ]
    },
    {
     "name": "stdout",
     "output_type": "stream",
     "text": [
      "⚠ 본문을 가져오지 못해 Selenium으로 재시도: http://www.mediapen.com/news/view/732926\n",
      "✅ 크롤링 완료: 민관, 국내외서 원전 생태계 강화…수출 솔루션 만들까...\n"
     ]
    },
    {
     "name": "stderr",
     "output_type": "stream",
     "text": [
      "📰 뉴스 본문 크롤링 진행:  39%|███▉      | 118/300 [06:01<10:59,  3.62s/it]"
     ]
    },
    {
     "name": "stdout",
     "output_type": "stream",
     "text": [
      "⚠ 본문을 가져오지 못해 Selenium으로 재시도: http://www.mediapen.com/news/view/731541\n",
      "✅ 크롤링 완료: 원전산업 강화에 범정부 지원 돌인...\n"
     ]
    },
    {
     "name": "stderr",
     "output_type": "stream",
     "text": [
      "📰 뉴스 본문 크롤링 진행:  40%|███▉      | 119/300 [06:06<11:35,  3.84s/it]"
     ]
    },
    {
     "name": "stdout",
     "output_type": "stream",
     "text": [
      "✅ 크롤링 완료: 정부 원전 협력업체 지원대책은?...\n"
     ]
    },
    {
     "name": "stderr",
     "output_type": "stream",
     "text": [
      "📰 뉴스 본문 크롤링 진행:  40%|████      | 120/300 [06:07<09:09,  3.06s/it]"
     ]
    },
    {
     "name": "stdout",
     "output_type": "stream",
     "text": [
      "✅ 크롤링 완료: 이창양 산업장관 첫 해외출장지는 체코·폴란드…원전세일즈 스타트...\n"
     ]
    },
    {
     "name": "stderr",
     "output_type": "stream",
     "text": [
      "📰 뉴스 본문 크롤링 진행:  40%|████      | 121/300 [06:09<08:38,  2.90s/it]"
     ]
    },
    {
     "name": "stdout",
     "output_type": "stream",
     "text": [
      "⚠ 본문을 가져오지 못해 Selenium으로 재시도: http://www.mediapen.com/news/view/732926\n",
      "✅ 크롤링 완료: 민관, 국내외서 원전 생태계 강화…수출 솔루션 만들까...\n"
     ]
    },
    {
     "name": "stderr",
     "output_type": "stream",
     "text": [
      "📰 뉴스 본문 크롤링 진행:  41%|████      | 122/300 [06:13<09:38,  3.25s/it]"
     ]
    },
    {
     "name": "stdout",
     "output_type": "stream",
     "text": [
      "⚠ 본문을 가져오지 못해 Selenium으로 재시도: http://www.mediapen.com/news/view/731541\n",
      "✅ 크롤링 완료: 원전산업 강화에 범정부 지원 돌인...\n"
     ]
    },
    {
     "name": "stderr",
     "output_type": "stream",
     "text": [
      "📰 뉴스 본문 크롤링 진행:  41%|████      | 123/300 [06:17<10:17,  3.49s/it]"
     ]
    },
    {
     "name": "stdout",
     "output_type": "stream",
     "text": [
      "✅ 크롤링 완료: 대우건설, 차세대원전 SMR 참여로 경쟁력 강화한다...\n"
     ]
    },
    {
     "name": "stderr",
     "output_type": "stream",
     "text": [
      "📰 뉴스 본문 크롤링 진행:  41%|████▏     | 124/300 [06:19<08:10,  2.79s/it]"
     ]
    },
    {
     "name": "stdout",
     "output_type": "stream",
     "text": [
      "✅ 크롤링 완료: 정부 원전 협력업체 지원대책은?...\n"
     ]
    },
    {
     "name": "stderr",
     "output_type": "stream",
     "text": [
      "📰 뉴스 본문 크롤링 진행:  42%|████▏     | 125/300 [06:20<06:39,  2.28s/it]"
     ]
    },
    {
     "name": "stdout",
     "output_type": "stream",
     "text": [
      "✅ 크롤링 완료: '원전 세일즈' 시동 건 산업장관…48조 동유럽 시장 찾는다...\n"
     ]
    },
    {
     "name": "stderr",
     "output_type": "stream",
     "text": [
      "📰 뉴스 본문 크롤링 진행:  42%|████▏     | 126/300 [06:21<05:42,  1.97s/it]"
     ]
    },
    {
     "name": "stdout",
     "output_type": "stream",
     "text": [
      "⚠ 본문을 가져오지 못해 Selenium으로 재시도: http://news.mk.co.kr/newsRead.php?no=499861&year=2022\n",
      "✅ 크롤링 완료: [단독] 웨스팅하우스 사장단 극비 방한…탄력받는 '한미 원전동맹'...\n"
     ]
    },
    {
     "name": "stderr",
     "output_type": "stream",
     "text": [
      "📰 뉴스 본문 크롤링 진행:  42%|████▏     | 127/300 [06:25<07:36,  2.64s/it]"
     ]
    },
    {
     "name": "stdout",
     "output_type": "stream",
     "text": [
      "✅ 크롤링 완료: \"940조 원전시장 잡자\" 한미 원전동맹 첫발…주도권 누가?...\n"
     ]
    },
    {
     "name": "stderr",
     "output_type": "stream",
     "text": [
      "📰 뉴스 본문 크롤링 진행:  43%|████▎     | 128/300 [06:27<06:39,  2.32s/it]"
     ]
    },
    {
     "name": "stdout",
     "output_type": "stream",
     "text": [
      "⚠ 본문을 가져오지 못해 Selenium으로 재시도: https://hankookilbo.com/News/Read/A2022063016360003458?did=NA\n",
      "✅ 크롤링 완료: 한-영 정상, 협력 프레임워크 채택... 윤 대통령 나토 순방 마무리...\n"
     ]
    },
    {
     "name": "stderr",
     "output_type": "stream",
     "text": [
      "📰 뉴스 본문 크롤링 진행:  43%|████▎     | 129/300 [06:33<09:45,  3.43s/it]"
     ]
    },
    {
     "name": "stdout",
     "output_type": "stream",
     "text": [
      "✅ 크롤링 완료: [특징주] 원전 관련주 피코그램 주가 강세...'체코·폴란드 방문한다'...\n"
     ]
    },
    {
     "name": "stderr",
     "output_type": "stream",
     "text": [
      "📰 뉴스 본문 크롤링 진행:  43%|████▎     | 130/300 [06:34<07:48,  2.76s/it]"
     ]
    },
    {
     "name": "stdout",
     "output_type": "stream",
     "text": [
      "✅ 크롤링 완료: [특징주] 원전 관련주 피코그램 주가 강세...'체코·폴란드 방문한다'...\n"
     ]
    },
    {
     "name": "stderr",
     "output_type": "stream",
     "text": [
      "📰 뉴스 본문 크롤링 진행:  44%|████▎     | 131/300 [06:35<06:27,  2.29s/it]"
     ]
    },
    {
     "name": "stdout",
     "output_type": "stream",
     "text": [
      "✅ 크롤링 완료: 美원전기업 웨스팅하우스 오늘 방한, 한전과 원전 수출 협의...\n"
     ]
    },
    {
     "name": "stderr",
     "output_type": "stream",
     "text": [
      "📰 뉴스 본문 크롤링 진행:  44%|████▍     | 132/300 [06:36<05:30,  1.96s/it]"
     ]
    },
    {
     "name": "stdout",
     "output_type": "stream",
     "text": [
      "✅ 크롤링 완료: 이창양 산업장관, 체코·폴란드 방문…'원전 세일즈' 첫 해외출장...\n"
     ]
    },
    {
     "name": "stderr",
     "output_type": "stream",
     "text": [
      "📰 뉴스 본문 크롤링 진행:  44%|████▍     | 133/300 [06:38<04:52,  1.75s/it]"
     ]
    },
    {
     "name": "stdout",
     "output_type": "stream",
     "text": [
      "⚠ 본문을 가져오지 못해 Selenium으로 재시도: http://www.yonhapnewstv.co.kr/MYH20220623016600641/?input=1825m\n",
      "✅ 크롤링 완료: 48조 규모 '원전 세일즈'…체코·폴란드 시장 공략...\n"
     ]
    },
    {
     "name": "stderr",
     "output_type": "stream",
     "text": [
      "📰 뉴스 본문 크롤링 진행:  45%|████▍     | 134/300 [06:46<10:40,  3.86s/it]"
     ]
    },
    {
     "name": "stdout",
     "output_type": "stream",
     "text": [
      "✅ 크롤링 완료: 이창양 산업장관, '원전 세일즈' 시동···26일 체코·폴란드 출장...\n"
     ]
    },
    {
     "name": "stderr",
     "output_type": "stream",
     "text": [
      "📰 뉴스 본문 크롤링 진행:  45%|████▌     | 135/300 [06:48<08:20,  3.04s/it]"
     ]
    },
    {
     "name": "stdout",
     "output_type": "stream",
     "text": [
      "⚠ 본문을 가져오지 못해 Selenium으로 재시도: http://www.edaily.co.kr/news/newspath.asp?newsid=03476806632360080\n",
      "✅ 크롤링 완료: `경쟁자가 동반자로` 손잡은 한미 원전기업들…주도권 놓곤 샅바싸움...\n"
     ]
    },
    {
     "name": "stderr",
     "output_type": "stream",
     "text": [
      "📰 뉴스 본문 크롤링 진행:  45%|████▌     | 136/300 [06:56<13:07,  4.80s/it]"
     ]
    },
    {
     "name": "stdout",
     "output_type": "stream",
     "text": [
      "⚠ 본문을 가져오지 못해 Selenium으로 재시도: http://news.mk.co.kr/newsRead.php?no=499809&year=2022\n",
      "✅ 크롤링 완료: '원전 수출의 봄' 돌아올까…美 설계·韓 건설기술 협력 속도...\n"
     ]
    },
    {
     "name": "stderr",
     "output_type": "stream",
     "text": [
      "📰 뉴스 본문 크롤링 진행:  46%|████▌     | 137/300 [07:01<12:50,  4.73s/it]"
     ]
    },
    {
     "name": "stdout",
     "output_type": "stream",
     "text": [
      "✅ 크롤링 완료: 한-체코 정상회담 \"미래 산업 분야 협력 확대\"...\n"
     ]
    },
    {
     "name": "stderr",
     "output_type": "stream",
     "text": [
      "📰 뉴스 본문 크롤링 진행:  46%|████▌     | 138/300 [07:02<09:53,  3.66s/it]"
     ]
    },
    {
     "name": "stdout",
     "output_type": "stream",
     "text": [
      "✅ 크롤링 완료: 원전 설계부터 해체까지 토털솔루션…대우건설 글로벌 원전시공강자 급......\n"
     ]
    },
    {
     "name": "stderr",
     "output_type": "stream",
     "text": [
      "📰 뉴스 본문 크롤링 진행:  46%|████▋     | 139/300 [07:04<08:09,  3.04s/it]"
     ]
    },
    {
     "name": "stdout",
     "output_type": "stream",
     "text": [
      "⚠ 본문을 가져오지 못해 Selenium으로 재시도: http://www.mediapen.com/news/view/729664\n",
      "✅ 크롤링 완료: 산업부, 범정부 지원으로 원전수주 추진...\n"
     ]
    },
    {
     "name": "stderr",
     "output_type": "stream",
     "text": [
      "📰 뉴스 본문 크롤링 진행:  47%|████▋     | 140/300 [07:08<09:18,  3.49s/it]"
     ]
    },
    {
     "name": "stdout",
     "output_type": "stream",
     "text": [
      "⚠ 본문을 가져오지 못해 Selenium으로 재시도: http://www.mediapen.com/news/view/729664\n",
      "✅ 크롤링 완료: 산업부, 범정부 지원으로 원전수주 추진...\n"
     ]
    },
    {
     "name": "stderr",
     "output_type": "stream",
     "text": [
      "📰 뉴스 본문 크롤링 진행:  47%|████▋     | 141/300 [07:12<09:43,  3.67s/it]"
     ]
    },
    {
     "name": "stdout",
     "output_type": "stream",
     "text": [
      "⚠ 본문을 가져오지 못해 Selenium으로 재시도: https://www.theguru.co.kr/news/article.html?no=37272\n",
      "✅ 크롤링 완료: \"체코 원전 현지화 70%만 정해졌을 뿐…韓·美·佛 승자 안개\"...\n"
     ]
    },
    {
     "name": "stderr",
     "output_type": "stream",
     "text": [
      "📰 뉴스 본문 크롤링 진행:  47%|████▋     | 142/300 [07:17<10:04,  3.82s/it]"
     ]
    },
    {
     "name": "stdout",
     "output_type": "stream",
     "text": [
      "✅ 크롤링 완료: 닻 올리는 한미 ‘원전 어벤저스’…‘실익 챙기기’는 관건...\n"
     ]
    },
    {
     "name": "stderr",
     "output_type": "stream",
     "text": [
      "📰 뉴스 본문 크롤링 진행:  48%|████▊     | 143/300 [07:18<08:01,  3.07s/it]"
     ]
    },
    {
     "name": "stdout",
     "output_type": "stream",
     "text": [
      "✅ 크롤링 완료: ‘푸르지오만 있는 게 아니었네’…글로벌 원전 시장 강자로 부상하는......\n"
     ]
    },
    {
     "name": "stderr",
     "output_type": "stream",
     "text": [
      "📰 뉴스 본문 크롤링 진행:  48%|████▊     | 144/300 [07:19<06:41,  2.57s/it]"
     ]
    },
    {
     "name": "stdout",
     "output_type": "stream",
     "text": [
      "✅ 크롤링 완료: 삼성물산·현대건설, 나란히 '원전‧중동' 해외 수주 시장 정조준...\n"
     ]
    },
    {
     "name": "stderr",
     "output_type": "stream",
     "text": [
      "📰 뉴스 본문 크롤링 진행:  48%|████▊     | 145/300 [07:21<05:36,  2.17s/it]"
     ]
    },
    {
     "name": "stdout",
     "output_type": "stream",
     "text": [
      "✅ 크롤링 완료: 한전-웨스팅하우스, 원전 협력 '공동선언문' 보류···주도권 다툼?...\n"
     ]
    },
    {
     "name": "stderr",
     "output_type": "stream",
     "text": [
      "📰 뉴스 본문 크롤링 진행:  49%|████▊     | 146/300 [07:22<04:45,  1.86s/it]"
     ]
    },
    {
     "name": "stdout",
     "output_type": "stream",
     "text": [
      "✅ 크롤링 완료: 힘 실리는 원전 사업…건설사, 수주 실적 증가로 이어지나...\n"
     ]
    },
    {
     "name": "stderr",
     "output_type": "stream",
     "text": [
      "📰 뉴스 본문 크롤링 진행:  49%|████▉     | 147/300 [07:23<04:12,  1.65s/it]"
     ]
    },
    {
     "name": "stdout",
     "output_type": "stream",
     "text": [
      "✅ 크롤링 완료: 대우건설, 차세대원전 SMR 참여로 경쟁력 강화...\n"
     ]
    },
    {
     "name": "stderr",
     "output_type": "stream",
     "text": [
      "📰 뉴스 본문 크롤링 진행:  49%|████▉     | 148/300 [07:24<03:56,  1.55s/it]"
     ]
    },
    {
     "name": "stdout",
     "output_type": "stream",
     "text": [
      "⚠ 본문을 가져오지 못해 Selenium으로 재시도: https://www.theguru.co.kr/news/article.html?no=37314\n",
      "✅ 크롤링 완료: 정재훈 한수원 사장 \"체코 원전 1순위…SMR도 협력\"...\n"
     ]
    },
    {
     "name": "stderr",
     "output_type": "stream",
     "text": [
      "📰 뉴스 본문 크롤링 진행:  50%|████▉     | 149/300 [07:28<05:46,  2.29s/it]"
     ]
    },
    {
     "name": "stdout",
     "output_type": "stream",
     "text": [
      "✅ 크롤링 완료: [탈탈원전 한달] 원전 수출 속도 붙었다…한·미 협력 강화...\n"
     ]
    },
    {
     "name": "stderr",
     "output_type": "stream",
     "text": [
      "📰 뉴스 본문 크롤링 진행:  50%|█████     | 150/300 [07:30<05:01,  2.01s/it]"
     ]
    },
    {
     "name": "stdout",
     "output_type": "stream",
     "text": [
      "⚠ 본문을 가져오지 못해 Selenium으로 재시도: http://www.edaily.co.kr/news/newspath.asp?newsid=03781846632334496\n",
      "✅ 크롤링 완료: 체코·폴란드에 영국·사우디까지…한미 원전동맹 ‘시험대’...\n"
     ]
    },
    {
     "name": "stderr",
     "output_type": "stream",
     "text": [
      "📰 뉴스 본문 크롤링 진행:  50%|█████     | 151/300 [07:35<07:44,  3.12s/it]"
     ]
    },
    {
     "name": "stdout",
     "output_type": "stream",
     "text": [
      "✅ 크롤링 완료: 대우건설, 차세대원전 SMR 참여로 경쟁력 강화...\n"
     ]
    },
    {
     "name": "stderr",
     "output_type": "stream",
     "text": [
      "📰 뉴스 본문 크롤링 진행:  51%|█████     | 152/300 [07:36<06:16,  2.54s/it]"
     ]
    },
    {
     "name": "stdout",
     "output_type": "stream",
     "text": [
      "⚠ 본문을 가져오지 못해 Selenium으로 재시도: https://www.theguru.co.kr/news/article.html?no=37314\n",
      "✅ 크롤링 완료: 정재훈 한수원 사장 \"체코 원전 1순위…SMR도 협력\"...\n"
     ]
    },
    {
     "name": "stderr",
     "output_type": "stream",
     "text": [
      "📰 뉴스 본문 크롤링 진행:  51%|█████     | 153/300 [07:41<07:27,  3.04s/it]"
     ]
    },
    {
     "name": "stdout",
     "output_type": "stream",
     "text": [
      "✅ 크롤링 완료: 체코 8조원·폴란드 40조원…정부, `K-원전` 수출지원 나선다...\n"
     ]
    },
    {
     "name": "stderr",
     "output_type": "stream",
     "text": [
      "📰 뉴스 본문 크롤링 진행:  51%|█████▏    | 154/300 [07:42<05:59,  2.46s/it]"
     ]
    },
    {
     "name": "stdout",
     "output_type": "stream",
     "text": [
      "✅ 크롤링 완료: [탈탈원전 한달] 원전 수출 속도 붙었다…한·미 협력 강화...\n"
     ]
    },
    {
     "name": "stderr",
     "output_type": "stream",
     "text": [
      "📰 뉴스 본문 크롤링 진행:  52%|█████▏    | 155/300 [07:43<05:11,  2.15s/it]"
     ]
    },
    {
     "name": "stdout",
     "output_type": "stream",
     "text": [
      "✅ 크롤링 완료: [특징주] 보성파워텍, 워렌버핏 SMR 투자 박차에 주가 6연속 상승세...\n"
     ]
    },
    {
     "name": "stderr",
     "output_type": "stream",
     "text": [
      "📰 뉴스 본문 크롤링 진행:  52%|█████▏    | 156/300 [07:44<04:29,  1.87s/it]"
     ]
    },
    {
     "name": "stdout",
     "output_type": "stream",
     "text": [
      "⚠ 본문을 가져오지 못해 Selenium으로 재시도: http://www.munhwa.com/news/view.html?no=2022053101071903017001\n",
      "✅ 크롤링 완료: 한수원 사장 김준동·박기영 등 거론 “親원전 정책 전환·조직 재정비......\n"
     ]
    },
    {
     "name": "stderr",
     "output_type": "stream",
     "text": [
      "📰 뉴스 본문 크롤링 진행:  52%|█████▏    | 157/300 [07:49<06:07,  2.57s/it]"
     ]
    },
    {
     "name": "stdout",
     "output_type": "stream",
     "text": [
      "✅ 크롤링 완료: 대한전선, 주가 상승…원전으로 수출과 탄소중립 잡는다...\n"
     ]
    },
    {
     "name": "stderr",
     "output_type": "stream",
     "text": [
      "📰 뉴스 본문 크롤링 진행:  53%|█████▎    | 158/300 [07:50<05:08,  2.17s/it]"
     ]
    },
    {
     "name": "stdout",
     "output_type": "stream",
     "text": [
      "⚠ 본문을 가져오지 못해 Selenium으로 재시도: https://www.tfmedia.co.kr/news/article.html?no=127215\n",
      "✅ 크롤링 완료: 이창양 산업장관, 체코·폴란드 방문…'원전 세일즈' 첫 해외출장...\n"
     ]
    },
    {
     "name": "stderr",
     "output_type": "stream",
     "text": [
      "📰 뉴스 본문 크롤링 진행:  53%|█████▎    | 159/300 [07:55<07:18,  3.11s/it]"
     ]
    },
    {
     "name": "stdout",
     "output_type": "stream",
     "text": [
      "✅ 크롤링 완료: 유럽·동남아까지 원전 '훈풍'…韓 기업, 영토확장 총력전...\n"
     ]
    },
    {
     "name": "stderr",
     "output_type": "stream",
     "text": [
      "📰 뉴스 본문 크롤링 진행:  53%|█████▎    | 160/300 [07:56<05:52,  2.52s/it]"
     ]
    },
    {
     "name": "stdout",
     "output_type": "stream",
     "text": [
      "✅ 크롤링 완료: 이창양 산업부 장관, 폴란드·체코 출장…'한국 원전 세일즈' 속도...\n"
     ]
    },
    {
     "name": "stderr",
     "output_type": "stream",
     "text": [
      "📰 뉴스 본문 크롤링 진행:  54%|█████▎    | 161/300 [07:57<04:55,  2.12s/it]"
     ]
    },
    {
     "name": "stdout",
     "output_type": "stream",
     "text": [
      "⚠ 본문을 가져오지 못해 Selenium으로 재시도: http://www.mediapen.com/news/view/733701\n",
      "✅ 크롤링 완료: 이창양 산업부 장관, 동유럽서 산업·에너지 파트너십 강화...\n"
     ]
    },
    {
     "name": "stderr",
     "output_type": "stream",
     "text": [
      "📰 뉴스 본문 크롤링 진행:  54%|█████▍    | 162/300 [08:03<06:53,  3.00s/it]"
     ]
    },
    {
     "name": "stdout",
     "output_type": "stream",
     "text": [
      "✅ 크롤링 완료: [특징주] 서전기전, 체코·폴란드 '50조 규모' … 해외 원전 수주 가능성......\n"
     ]
    },
    {
     "name": "stderr",
     "output_type": "stream",
     "text": [
      "📰 뉴스 본문 크롤링 진행:  54%|█████▍    | 163/300 [08:04<05:45,  2.52s/it]"
     ]
    },
    {
     "name": "stdout",
     "output_type": "stream",
     "text": [
      "✅ 크롤링 완료: [원전 수주 총력전] 산업부 체코·폴란드 수주전 사활…민간 협력도 강......\n"
     ]
    },
    {
     "name": "stderr",
     "output_type": "stream",
     "text": [
      "📰 뉴스 본문 크롤링 진행:  55%|█████▍    | 164/300 [08:05<05:01,  2.22s/it]"
     ]
    },
    {
     "name": "stdout",
     "output_type": "stream",
     "text": [
      "✅ 크롤링 완료: 尹정부 '탈원전 지우기'...공기업 수장 물갈이에 원전 진흥 속도...\n"
     ]
    },
    {
     "name": "stderr",
     "output_type": "stream",
     "text": [
      "📰 뉴스 본문 크롤링 진행:  55%|█████▌    | 165/300 [08:07<04:28,  1.99s/it]"
     ]
    },
    {
     "name": "stdout",
     "output_type": "stream",
     "text": [
      "✅ 크롤링 완료: 윤 대통령, ‘8조 원전 수요’ 체코 정상에 “우리 기업 참여토록”...\n"
     ]
    },
    {
     "name": "stderr",
     "output_type": "stream",
     "text": [
      "📰 뉴스 본문 크롤링 진행:  55%|█████▌    | 166/300 [08:08<03:53,  1.74s/it]"
     ]
    },
    {
     "name": "stdout",
     "output_type": "stream",
     "text": [
      "⚠ 본문을 가져오지 못해 Selenium으로 재시도: https://www.theguru.co.kr/news/article.html?no=36455\n",
      "✅ 크롤링 완료: 체코 총리, 마크롱 대통령과 '원전 미팅'…한수원 예의주시...\n"
     ]
    },
    {
     "name": "stderr",
     "output_type": "stream",
     "text": [
      "📰 뉴스 본문 크롤링 진행:  56%|█████▌    | 167/300 [08:12<05:28,  2.47s/it]"
     ]
    },
    {
     "name": "stdout",
     "output_type": "stream",
     "text": [
      "✅ 크롤링 완료: [특징주] 보성파워텍, 체코까지 원전 수주 뻗어갈까…주가 살펴보니...\n"
     ]
    },
    {
     "name": "stderr",
     "output_type": "stream",
     "text": [
      "📰 뉴스 본문 크롤링 진행:  56%|█████▌    | 168/300 [08:13<04:34,  2.08s/it]"
     ]
    },
    {
     "name": "stdout",
     "output_type": "stream",
     "text": [
      "⚠ 본문을 가져오지 못해 Selenium으로 재시도: http://www.munhwa.com/news/view.html?no=2022053001031903017001\n",
      "✅ 크롤링 완료: 세계 최고수준 원전건설 기술… 체코 두코바니서 재현한다...\n"
     ]
    },
    {
     "name": "stderr",
     "output_type": "stream",
     "text": [
      "📰 뉴스 본문 크롤링 진행:  56%|█████▋    | 169/300 [08:17<05:46,  2.64s/it]"
     ]
    },
    {
     "name": "stdout",
     "output_type": "stream",
     "text": [
      "✅ 크롤링 완료: 尹, 마지막까지 '세일즈 외교'…3박5일, 16건 외교일정 소화...\n"
     ]
    },
    {
     "name": "stderr",
     "output_type": "stream",
     "text": [
      "📰 뉴스 본문 크롤링 진행:  57%|█████▋    | 170/300 [08:19<04:49,  2.22s/it]"
     ]
    },
    {
     "name": "stdout",
     "output_type": "stream",
     "text": [
      "✅ 크롤링 완료: 尹, 마지막까지 '세일즈 외교'…3박5일, 16건 외교일정 소화...\n"
     ]
    },
    {
     "name": "stderr",
     "output_type": "stream",
     "text": [
      "📰 뉴스 본문 크롤링 진행:  57%|█████▋    | 171/300 [08:20<04:10,  1.94s/it]"
     ]
    },
    {
     "name": "stdout",
     "output_type": "stream",
     "text": [
      "⚠ 본문을 가져오지 못해 Selenium으로 재시도: https://www.theguru.co.kr/news/article.html?no=35720\n",
      "✅ 크롤링 완료: '한수원 눈독' 체코 두코바니·테멜린 원전 내진성능 평가 착수...\n"
     ]
    },
    {
     "name": "stderr",
     "output_type": "stream",
     "text": [
      "📰 뉴스 본문 크롤링 진행:  57%|█████▋    | 172/300 [08:24<05:32,  2.60s/it]"
     ]
    },
    {
     "name": "stdout",
     "output_type": "stream",
     "text": [
      "✅ 크롤링 완료: 한국-체코 산업부장관, 소형모듈원자로 시장 공동진출 합의...\n"
     ]
    },
    {
     "name": "stderr",
     "output_type": "stream",
     "text": [
      "📰 뉴스 본문 크롤링 진행:  58%|█████▊    | 173/300 [08:25<04:39,  2.20s/it]"
     ]
    },
    {
     "name": "stdout",
     "output_type": "stream",
     "text": [
      "✅ 크롤링 완료: (인터뷰)김창수 대한전기협회 KEPIC 본부장...\n"
     ]
    },
    {
     "name": "stderr",
     "output_type": "stream",
     "text": [
      "📰 뉴스 본문 크롤링 진행:  58%|█████▊    | 174/300 [08:26<03:57,  1.88s/it]"
     ]
    },
    {
     "name": "stdout",
     "output_type": "stream",
     "text": [
      "✅ 크롤링 완료: [포토타임] 尹, 나토 일정 마치고 귀국길…3박 5일 세일즈 외교 펼쳐...\n"
     ]
    },
    {
     "name": "stderr",
     "output_type": "stream",
     "text": [
      "📰 뉴스 본문 크롤링 진행:  58%|█████▊    | 175/300 [08:28<03:33,  1.70s/it]"
     ]
    },
    {
     "name": "stdout",
     "output_type": "stream",
     "text": [
      "✅ 크롤링 완료: 원전 체코 진출 전략 논의한 한수원…두코바니 원전 '수주전'...\n"
     ]
    },
    {
     "name": "stderr",
     "output_type": "stream",
     "text": [
      "📰 뉴스 본문 크롤링 진행:  59%|█████▊    | 176/300 [08:29<03:12,  1.55s/it]"
     ]
    },
    {
     "name": "stdout",
     "output_type": "stream",
     "text": [
      "⚠ 본문을 가져오지 못해 Selenium으로 재시도: https://www.voakorea.com/a/6639444.html\n",
      "✅ 크롤링 완료: 윤석열 한국 대통령, 캐나다∙체코에 '북핵 협력' 당부...중국, 아태 4개......\n"
     ]
    },
    {
     "name": "stderr",
     "output_type": "stream",
     "text": [
      "📰 뉴스 본문 크롤링 진행:  59%|█████▉    | 177/300 [08:34<05:16,  2.58s/it]"
     ]
    },
    {
     "name": "stdout",
     "output_type": "stream",
     "text": [
      "⚠ 본문을 가져오지 못해 Selenium으로 재시도: https://www.ktv.go.kr/content/view?content_id=650973\n",
      "✅ 크롤링 완료: 윤 대통령, 영국·체코와 정상회담···나토 총장 면담...\n"
     ]
    },
    {
     "name": "stderr",
     "output_type": "stream",
     "text": [
      "📰 뉴스 본문 크롤링 진행:  59%|█████▉    | 178/300 [08:38<06:24,  3.16s/it]"
     ]
    },
    {
     "name": "stdout",
     "output_type": "stream",
     "text": [
      "✅ 크롤링 완료: 원전 수출 가능성 커진다… 13년 만에 낭보 울릴까...\n"
     ]
    },
    {
     "name": "stderr",
     "output_type": "stream",
     "text": [
      "📰 뉴스 본문 크롤링 진행:  60%|█████▉    | 179/300 [08:39<05:08,  2.55s/it]"
     ]
    },
    {
     "name": "stdout",
     "output_type": "stream",
     "text": [
      "✅ 크롤링 완료: [르포]“尹 ‘친원전’ 정책, K-원전 신뢰 높여”…체코 ‘8조 수주 잭팟......\n"
     ]
    },
    {
     "name": "stderr",
     "output_type": "stream",
     "text": [
      "📰 뉴스 본문 크롤링 진행:  60%|██████    | 180/300 [08:41<04:19,  2.16s/it]"
     ]
    },
    {
     "name": "stdout",
     "output_type": "stream",
     "text": [
      "✅ 크롤링 완료: [르포]\"방사능이 시내보다 적어요\"...꽃밭속 체코 원전 가보니...\n"
     ]
    },
    {
     "name": "stderr",
     "output_type": "stream",
     "text": [
      "📰 뉴스 본문 크롤링 진행:  60%|██████    | 181/300 [08:43<04:06,  2.07s/it]"
     ]
    },
    {
     "name": "stdout",
     "output_type": "stream",
     "text": [
      "⚠ 본문을 가져오지 못해 Selenium으로 재시도: https://www.dnews.co.kr/uhtml/view.jsp?idxno=202206081211470490064\n",
      "✅ 크롤링 완료: [기획] 글로벌 원전시장 두드리는 한국…수주 역량 강화 방안은...\n"
     ]
    },
    {
     "name": "stderr",
     "output_type": "stream",
     "text": [
      "📰 뉴스 본문 크롤링 진행:  61%|██████    | 182/300 [08:47<05:31,  2.81s/it]"
     ]
    },
    {
     "name": "stdout",
     "output_type": "stream",
     "text": [
      "✅ 크롤링 완료: [에너지 뉴스] 광해광업공단, 니켈·코발트 등 핵심광물 재자원화 산업......\n"
     ]
    },
    {
     "name": "stderr",
     "output_type": "stream",
     "text": [
      "📰 뉴스 본문 크롤링 진행:  61%|██████    | 183/300 [08:48<04:36,  2.37s/it]"
     ]
    },
    {
     "name": "stdout",
     "output_type": "stream",
     "text": [
      "⚠ 본문을 가져오지 못해 Selenium으로 재시도: http://www.fnnews.com/news/202205291823389333\n",
      "✅ 크롤링 완료: 체코 8조·폴란드 40조 수주 정조준… ‘K원전 수출’ 붐 살린다 [한미 ......\n"
     ]
    },
    {
     "name": "stderr",
     "output_type": "stream",
     "text": [
      "📰 뉴스 본문 크롤링 진행:  61%|██████▏   | 184/300 [08:55<07:04,  3.66s/it]"
     ]
    },
    {
     "name": "stdout",
     "output_type": "stream",
     "text": [
      "⚠ 본문을 가져오지 못해 Selenium으로 재시도: http://www.munhwa.com/news/view.html?no=2022053001031905000001\n",
      "✅ 크롤링 완료: 한수원, 이집트 원전 최종계약 체결 임박...\n"
     ]
    },
    {
     "name": "stderr",
     "output_type": "stream",
     "text": [
      "📰 뉴스 본문 크롤링 진행:  62%|██████▏   | 185/300 [09:00<07:39,  3.99s/it]"
     ]
    },
    {
     "name": "stdout",
     "output_type": "stream",
     "text": [
      "✅ 크롤링 완료: 한미 원전동맹 강화…폴란드·체코 원전 수주 기대...\n"
     ]
    },
    {
     "name": "stderr",
     "output_type": "stream",
     "text": [
      "📰 뉴스 본문 크롤링 진행:  62%|██████▏   | 186/300 [09:01<06:05,  3.20s/it]"
     ]
    },
    {
     "name": "stdout",
     "output_type": "stream",
     "text": [
      "⚠ 본문을 가져오지 못해 Selenium으로 재시도: http://www.munhwa.com/news/view.html?no=2022052301071403017001\n",
      "✅ 크롤링 완료: ‘原電’ 손잡은 韓·美… 차세대 SMR 시장 선도할 발판 마련...\n"
     ]
    },
    {
     "name": "stderr",
     "output_type": "stream",
     "text": [
      "📰 뉴스 본문 크롤링 진행:  62%|██████▏   | 187/300 [09:05<06:31,  3.46s/it]"
     ]
    },
    {
     "name": "stdout",
     "output_type": "stream",
     "text": [
      "⚠ 본문을 가져오지 못해 Selenium으로 재시도: http://news.mk.co.kr/newsRead.php?no=451832&year=2022\n",
      "✅ 크롤링 완료: [단독] 한미 원전 협력, 유럽부터 공략한다…방산 원전주 쓸어담아야 하......\n"
     ]
    },
    {
     "name": "stderr",
     "output_type": "stream",
     "text": [
      "📰 뉴스 본문 크롤링 진행:  63%|██████▎   | 188/300 [09:10<06:57,  3.73s/it]"
     ]
    },
    {
     "name": "stdout",
     "output_type": "stream",
     "text": [
      "⚠ 본문을 가져오지 못해 Selenium으로 재시도: http://www.mediapen.com/news/view/723766\n",
      "✅ 크롤링 완료: 5년간 막혔던 원전 수주 길 뚫릴까...\n"
     ]
    },
    {
     "name": "stderr",
     "output_type": "stream",
     "text": [
      "📰 뉴스 본문 크롤링 진행:  63%|██████▎   | 189/300 [09:14<07:12,  3.90s/it]"
     ]
    },
    {
     "name": "stdout",
     "output_type": "stream",
     "text": [
      "⚠ 본문을 가져오지 못해 Selenium으로 재시도: http://www.fnnews.com/news/202206281755381772\n",
      "✅ 크롤링 완료: 대우건설, 국내 유일 원자력 종합솔루션 건설사 거듭...\n"
     ]
    },
    {
     "name": "stderr",
     "output_type": "stream",
     "text": [
      "📰 뉴스 본문 크롤링 진행:  63%|██████▎   | 190/300 [09:19<07:55,  4.32s/it]"
     ]
    },
    {
     "name": "stdout",
     "output_type": "stream",
     "text": [
      "⚠ 본문을 가져오지 못해 Selenium으로 재시도: http://www.munhwa.com/news/view.html?no=2022052301071403017001\n",
      "✅ 크롤링 완료: ‘原電’ 손잡은 韓·美… 차세대 SMR 시장 선도할 발판 마련...\n"
     ]
    },
    {
     "name": "stderr",
     "output_type": "stream",
     "text": [
      "📰 뉴스 본문 크롤링 진행:  64%|██████▎   | 191/300 [09:23<07:42,  4.25s/it]"
     ]
    },
    {
     "name": "stdout",
     "output_type": "stream",
     "text": [
      "⚠ 본문을 가져오지 못해 Selenium으로 재시도: http://news.mk.co.kr/newsRead.php?no=451832&year=2022\n",
      "✅ 크롤링 완료: [단독] 한미 원전 협력, 유럽부터 공략한다…방산 원전주 쓸어담아야 하......\n"
     ]
    },
    {
     "name": "stderr",
     "output_type": "stream",
     "text": [
      "📰 뉴스 본문 크롤링 진행:  64%|██████▍   | 192/300 [09:28<07:36,  4.23s/it]"
     ]
    },
    {
     "name": "stdout",
     "output_type": "stream",
     "text": [
      "⚠ 본문을 가져오지 못해 Selenium으로 재시도: http://www.mediapen.com/news/view/723766\n",
      "✅ 크롤링 완료: 5년간 막혔던 원전 수주 길 뚫릴까...\n"
     ]
    },
    {
     "name": "stderr",
     "output_type": "stream",
     "text": [
      "📰 뉴스 본문 크롤링 진행:  64%|██████▍   | 193/300 [09:33<07:57,  4.46s/it]"
     ]
    },
    {
     "name": "stdout",
     "output_type": "stream",
     "text": [
      "⚠ 본문을 가져오지 못해 Selenium으로 재시도: http://www.fnnews.com/news/202206281755381772\n",
      "✅ 크롤링 완료: 대우건설, 국내 유일 원자력 종합솔루션 건설사 거듭...\n"
     ]
    },
    {
     "name": "stderr",
     "output_type": "stream",
     "text": [
      "📰 뉴스 본문 크롤링 진행:  65%|██████▍   | 194/300 [09:39<08:49,  5.00s/it]"
     ]
    },
    {
     "name": "stdout",
     "output_type": "stream",
     "text": [
      "✅ 크롤링 완료: \"원전 2년에 1개씩 짓는다\"...유럽이 다시 원전에 꽂힌 이유...\n"
     ]
    },
    {
     "name": "stderr",
     "output_type": "stream",
     "text": [
      "📰 뉴스 본문 크롤링 진행:  65%|██████▌   | 195/300 [09:40<06:58,  3.99s/it]"
     ]
    },
    {
     "name": "stdout",
     "output_type": "stream",
     "text": [
      "⚠ 본문을 가져오지 못해 Selenium으로 재시도: http://www.edaily.co.kr/news/newspath.asp?newsid=03378406632293824\n",
      "✅ 크롤링 완료: 체코 원전사업 수주 위한 ‘팀코리아’ 본격 가동한다...\n"
     ]
    },
    {
     "name": "stderr",
     "output_type": "stream",
     "text": [
      "📰 뉴스 본문 크롤링 진행:  65%|██████▌   | 196/300 [09:46<07:44,  4.47s/it]"
     ]
    },
    {
     "name": "stdout",
     "output_type": "stream",
     "text": [
      "✅ 크롤링 완료: (2022 한국원자력연차대회) \"대형원전과 SMR 함께 가야…전력공급·도매......\n"
     ]
    },
    {
     "name": "stderr",
     "output_type": "stream",
     "text": [
      "📰 뉴스 본문 크롤링 진행:  66%|██████▌   | 197/300 [09:47<05:57,  3.47s/it]"
     ]
    },
    {
     "name": "stdout",
     "output_type": "stream",
     "text": [
      "⚠ 본문을 가져오지 못해 Selenium으로 재시도: http://www.mediapen.com/news/view/719595\n",
      "✅ 크롤링 완료: \"원전, 에너지전환 게임체인저…탄소중립 기본 축\"...\n"
     ]
    },
    {
     "name": "stderr",
     "output_type": "stream",
     "text": [
      "📰 뉴스 본문 크롤링 진행:  66%|██████▌   | 198/300 [09:52<06:21,  3.74s/it]"
     ]
    },
    {
     "name": "stdout",
     "output_type": "stream",
     "text": [
      "✅ 크롤링 완료: 한수원, \"체코이어 폴란드 신규원전사업 수주한다\"...\n"
     ]
    },
    {
     "name": "stderr",
     "output_type": "stream",
     "text": [
      "📰 뉴스 본문 크롤링 진행:  66%|██████▋   | 199/300 [09:53<05:00,  2.97s/it]"
     ]
    },
    {
     "name": "stdout",
     "output_type": "stream",
     "text": [
      "✅ 크롤링 완료: 우리기술, 1분기 원전 수주 증가…혁신형 소형모듈원전 개발 참여 예정...\n"
     ]
    },
    {
     "name": "stderr",
     "output_type": "stream",
     "text": [
      "📰 뉴스 본문 크롤링 진행:  67%|██████▋   | 200/300 [09:54<04:02,  2.43s/it]"
     ]
    },
    {
     "name": "stdout",
     "output_type": "stream",
     "text": [
      "✅ 크롤링 완료: 우리기술, 1Q 원전 수주 전년比 18.2% ↑...\"친원전 정책 수혜 기대\"...\n"
     ]
    },
    {
     "name": "stderr",
     "output_type": "stream",
     "text": [
      "📰 뉴스 본문 크롤링 진행:  67%|██████▋   | 201/300 [09:55<03:30,  2.12s/it]"
     ]
    },
    {
     "name": "stdout",
     "output_type": "stream",
     "text": [
      "⚠ 본문을 가져오지 못해 Selenium으로 재시도: http://www.edaily.co.kr/news/newspath.asp?newsid=02863446632298416\n",
      "✅ 크롤링 완료: K-원전 수출 수요 부활…조광ILI, 실적 개선 기대감...\n"
     ]
    },
    {
     "name": "stderr",
     "output_type": "stream",
     "text": [
      "📰 뉴스 본문 크롤링 진행:  67%|██████▋   | 202/300 [10:01<05:03,  3.09s/it]"
     ]
    },
    {
     "name": "stdout",
     "output_type": "stream",
     "text": [
      "⚠ 본문을 가져오지 못해 Selenium으로 재시도: https://www.theguru.co.kr/news/article.html?no=33576\n",
      "✅ 크롤링 완료: [단독] 체코 CEZ \"테멜린 원전 부지 내 SMR 건설\"…두산중공업·현대건설......\n"
     ]
    },
    {
     "name": "stderr",
     "output_type": "stream",
     "text": [
      "📰 뉴스 본문 크롤링 진행:  68%|██████▊   | 203/300 [10:05<05:35,  3.46s/it]"
     ]
    },
    {
     "name": "stdout",
     "output_type": "stream",
     "text": [
      "✅ 크롤링 완료: 러 침략에 원전 확대 기조…불 붙는 원전株·우라늄ETF...\n"
     ]
    },
    {
     "name": "stderr",
     "output_type": "stream",
     "text": [
      "📰 뉴스 본문 크롤링 진행:  68%|██████▊   | 204/300 [10:06<04:26,  2.78s/it]"
     ]
    },
    {
     "name": "stdout",
     "output_type": "stream",
     "text": [
      "✅ 크롤링 완료: [특징주] '한전기술' 체코 원전 수주 회의로 장마감 강세보여...\n"
     ]
    },
    {
     "name": "stderr",
     "output_type": "stream",
     "text": [
      "📰 뉴스 본문 크롤링 진행:  68%|██████▊   | 205/300 [10:07<03:37,  2.29s/it]"
     ]
    },
    {
     "name": "stdout",
     "output_type": "stream",
     "text": [
      "✅ 크롤링 완료: 비츠로테크, 원전사업으로 제2도약 꿈꾼다...\n"
     ]
    },
    {
     "name": "stderr",
     "output_type": "stream",
     "text": [
      "📰 뉴스 본문 크롤링 진행:  69%|██████▊   | 206/300 [10:08<03:02,  1.94s/it]"
     ]
    },
    {
     "name": "stdout",
     "output_type": "stream",
     "text": [
      "⚠ 본문을 가져오지 못해 Selenium으로 재시도: https://www.businesspost.co.kr/BP?command=article_view&num=278863\n",
      "✅ 크롤링 완료: 한수원 해외수주 도전 이어져, 수주활동 이끌 사장 인선은 기약 없어...\n"
     ]
    },
    {
     "name": "stderr",
     "output_type": "stream",
     "text": [
      "📰 뉴스 본문 크롤링 진행:  69%|██████▉   | 207/300 [10:13<04:14,  2.74s/it]"
     ]
    },
    {
     "name": "stdout",
     "output_type": "stream",
     "text": [
      "⚠ 본문을 가져오지 못해 Selenium으로 재시도: https://www.theguru.co.kr/news/article.html?no=36807\n",
      "✅ 크롤링 완료: 한수원, 체코 공대 SMR 컨퍼런스 참가...\n"
     ]
    },
    {
     "name": "stderr",
     "output_type": "stream",
     "text": [
      "📰 뉴스 본문 크롤링 진행:  69%|██████▉   | 208/300 [10:17<04:53,  3.19s/it]"
     ]
    },
    {
     "name": "stdout",
     "output_type": "stream",
     "text": [
      "✅ 크롤링 완료: 대우건설, 소형원자로 사업 글로벌 시장 공략 가속...\n"
     ]
    },
    {
     "name": "stderr",
     "output_type": "stream",
     "text": [
      "📰 뉴스 본문 크롤링 진행:  70%|██████▉   | 209/300 [10:18<03:55,  2.59s/it]"
     ]
    },
    {
     "name": "stdout",
     "output_type": "stream",
     "text": [
      "✅ 크롤링 완료: (2022년 원자력학회 춘계학술발표회) \"신한울 3·4호기, 원전수출 통한 ......\n"
     ]
    },
    {
     "name": "stderr",
     "output_type": "stream",
     "text": [
      "📰 뉴스 본문 크롤링 진행:  70%|███████   | 210/300 [10:20<03:13,  2.15s/it]"
     ]
    },
    {
     "name": "stdout",
     "output_type": "stream",
     "text": [
      "✅ 크롤링 완료: 대우건설, 소형원자로 사업 글로벌 시장 공략 가속...\n"
     ]
    },
    {
     "name": "stderr",
     "output_type": "stream",
     "text": [
      "📰 뉴스 본문 크롤링 진행:  70%|███████   | 211/300 [10:21<02:43,  1.84s/it]"
     ]
    },
    {
     "name": "stdout",
     "output_type": "stream",
     "text": [
      "✅ 크롤링 완료: (2022년 원자력학회 춘계학술발표회) \"신한울 3·4호기, 원전수출 통한 ......\n"
     ]
    },
    {
     "name": "stderr",
     "output_type": "stream",
     "text": [
      "📰 뉴스 본문 크롤링 진행:  71%|███████   | 212/300 [10:22<02:23,  1.63s/it]"
     ]
    },
    {
     "name": "stdout",
     "output_type": "stream",
     "text": [
      "⚠ 본문을 가져오지 못해 Selenium으로 재시도: http://www.naeil.com/news_view/?id_art=423512\n",
      "✅ 크롤링 완료: [탄소중립과 원자력 | ④ 수출 · SMR] 2030년까지 원전 10기 수출 … 원......\n"
     ]
    },
    {
     "name": "stderr",
     "output_type": "stream",
     "text": [
      "📰 뉴스 본문 크롤링 진행:  71%|███████   | 213/300 [10:27<03:55,  2.71s/it]"
     ]
    },
    {
     "name": "stdout",
     "output_type": "stream",
     "text": [
      "✅ 크롤링 완료: 삼성물산·현대건설·대우건설, 원전사업 통해 세계로...\n"
     ]
    },
    {
     "name": "stderr",
     "output_type": "stream",
     "text": [
      "📰 뉴스 본문 크롤링 진행:  71%|███████▏  | 214/300 [10:29<03:22,  2.35s/it]"
     ]
    },
    {
     "name": "stdout",
     "output_type": "stream",
     "text": [
      "✅ 크롤링 완료: 尹 ‘원전 최강국’ 본격 시동…힘 받는 원전업계...\n"
     ]
    },
    {
     "name": "stderr",
     "output_type": "stream",
     "text": [
      "📰 뉴스 본문 크롤링 진행:  72%|███████▏  | 215/300 [10:30<02:55,  2.07s/it]"
     ]
    },
    {
     "name": "stdout",
     "output_type": "stream",
     "text": [
      "✅ 크롤링 완료: 尹 ‘원전 최강국’ 본격 시동…탈원전에 숨죽였던 기업들 환호 [비즈3......\n"
     ]
    },
    {
     "name": "stderr",
     "output_type": "stream",
     "text": [
      "📰 뉴스 본문 크롤링 진행:  72%|███████▏  | 216/300 [10:31<02:37,  1.88s/it]"
     ]
    },
    {
     "name": "stdout",
     "output_type": "stream",
     "text": [
      "✅ 크롤링 완료: 국정과제에 포함된 '탈원전 폐기'…원전 시장은 어떻게...\n"
     ]
    },
    {
     "name": "stderr",
     "output_type": "stream",
     "text": [
      "📰 뉴스 본문 크롤링 진행:  72%|███████▏  | 217/300 [10:33<02:23,  1.72s/it]"
     ]
    },
    {
     "name": "stdout",
     "output_type": "stream",
     "text": [
      "⚠ 본문을 가져오지 못해 Selenium으로 재시도: http://www.munhwa.com/news/view.html?no=2022042501032503017001\n",
      "✅ 크롤링 완료: 한수원, 신규 원전 수출 ‘잰걸음’… 체코 이어 폴란드 ‘공략’...\n"
     ]
    },
    {
     "name": "stderr",
     "output_type": "stream",
     "text": [
      "📰 뉴스 본문 크롤링 진행:  73%|███████▎  | 218/300 [10:38<03:53,  2.85s/it]"
     ]
    },
    {
     "name": "stdout",
     "output_type": "stream",
     "text": [
      "✅ 크롤링 완료: 한국, 원전강국으로 거듭난다…\"시장 확대 속도\"...\n"
     ]
    },
    {
     "name": "stderr",
     "output_type": "stream",
     "text": [
      "📰 뉴스 본문 크롤링 진행:  73%|███████▎  | 219/300 [10:39<03:10,  2.35s/it]"
     ]
    },
    {
     "name": "stdout",
     "output_type": "stream",
     "text": [
      "✅ 크롤링 완료: [급등주] 서전기전 18% 상승 '한수원, 원전 수출 박차'...\n"
     ]
    },
    {
     "name": "stderr",
     "output_type": "stream",
     "text": [
      "📰 뉴스 본문 크롤링 진행:  73%|███████▎  | 220/300 [10:41<02:38,  1.98s/it]"
     ]
    },
    {
     "name": "stdout",
     "output_type": "stream",
     "text": [
      "✅ 크롤링 완료: [급등주] 서전기전 18% 상승 '한수원, 원전 수출 박차'...\n"
     ]
    },
    {
     "name": "stderr",
     "output_type": "stream",
     "text": [
      "📰 뉴스 본문 크롤링 진행:  74%|███████▎  | 221/300 [10:42<02:16,  1.73s/it]"
     ]
    },
    {
     "name": "stdout",
     "output_type": "stream",
     "text": [
      "⚠ 본문을 가져오지 못해 Selenium으로 재시도: http://www.naeil.com/news_view/?id_art=421111\n",
      "✅ 크롤링 완료: 체코 폴란드로 한국형원전 수출 박차...\n"
     ]
    },
    {
     "name": "stderr",
     "output_type": "stream",
     "text": [
      "📰 뉴스 본문 크롤링 진행:  74%|███████▍  | 222/300 [10:46<03:18,  2.54s/it]"
     ]
    },
    {
     "name": "stdout",
     "output_type": "stream",
     "text": [
      "⚠ 본문을 가져오지 못해 Selenium으로 재시도: https://hankookilbo.com/News/Read/A2022042114440005709?did=NA\n",
      "✅ 크롤링 완료: 원전수출 최강국 시험대? 한수원, 폴란드에 신규 원전사업 제안서 제출...\n"
     ]
    },
    {
     "name": "stderr",
     "output_type": "stream",
     "text": [
      "📰 뉴스 본문 크롤링 진행:  74%|███████▍  | 223/300 [10:56<06:04,  4.74s/it]"
     ]
    },
    {
     "name": "stdout",
     "output_type": "stream",
     "text": [
      "✅ 크롤링 완료: 한신기계, 3거래일 연속 하락세 반전 성공…원전 수출 가능할까?...\n"
     ]
    },
    {
     "name": "stderr",
     "output_type": "stream",
     "text": [
      "📰 뉴스 본문 크롤링 진행:  75%|███████▍  | 224/300 [10:57<04:45,  3.75s/it]"
     ]
    },
    {
     "name": "stdout",
     "output_type": "stream",
     "text": [
      "✅ 크롤링 완료: 두산중공업, 윤석열 정부 '원전 시대' 이룰까?…주가 상승세로 마쳐...\n"
     ]
    },
    {
     "name": "stderr",
     "output_type": "stream",
     "text": [
      "📰 뉴스 본문 크롤링 진행:  75%|███████▌  | 225/300 [10:59<03:50,  3.07s/it]"
     ]
    },
    {
     "name": "stdout",
     "output_type": "stream",
     "text": [
      "✅ 크롤링 완료: 두산중공업, 체코 원전 수출 파란불…주가 소폭 상승...\n"
     ]
    },
    {
     "name": "stderr",
     "output_type": "stream",
     "text": [
      "📰 뉴스 본문 크롤링 진행:  75%|███████▌  | 226/300 [11:01<03:14,  2.62s/it]"
     ]
    },
    {
     "name": "stdout",
     "output_type": "stream",
     "text": [
      "⚠ 본문을 가져오지 못해 Selenium으로 재시도: https://www.asiatime.co.kr/article/20220412500141\n",
      "✅ 크롤링 완료: 새정부 출범에 '원전 어게인'…SK·두산·삼성·등 대기업도 ’군침‘...\n"
     ]
    },
    {
     "name": "stderr",
     "output_type": "stream",
     "text": [
      "📰 뉴스 본문 크롤링 진행:  76%|███████▌  | 227/300 [11:07<04:40,  3.84s/it]"
     ]
    },
    {
     "name": "stdout",
     "output_type": "stream",
     "text": [
      "⚠ 본문을 가져오지 못해 Selenium으로 재시도: http://www.fntimes.com/html/view.php?ud=202204082204112508dd55077bc2_18\n",
      "✅ 크롤링 완료: 삼성·현대·대우건설, ‘원전’ 시장 공략 나선다...\n"
     ]
    },
    {
     "name": "stderr",
     "output_type": "stream",
     "text": [
      "📰 뉴스 본문 크롤링 진행:  76%|███████▌  | 228/300 [11:14<05:43,  4.77s/it]"
     ]
    },
    {
     "name": "stdout",
     "output_type": "stream",
     "text": [
      "✅ 크롤링 완료: 한수원, 체코신규원전사업 '팀코리아 공동협력 협의회' 개최...\n"
     ]
    },
    {
     "name": "stderr",
     "output_type": "stream",
     "text": [
      "📰 뉴스 본문 크롤링 진행:  76%|███████▋  | 229/300 [11:16<04:25,  3.75s/it]"
     ]
    },
    {
     "name": "stdout",
     "output_type": "stream",
     "text": [
      "✅ 크롤링 완료: 해외 원전사업 명맥 잇는다…체코 신규원전 수주 집중...\n"
     ]
    },
    {
     "name": "stderr",
     "output_type": "stream",
     "text": [
      "📰 뉴스 본문 크롤링 진행:  77%|███████▋  | 230/300 [11:17<03:34,  3.06s/it]"
     ]
    },
    {
     "name": "stdout",
     "output_type": "stream",
     "text": [
      "✅ 크롤링 완료: 원전 사업에 꽂힌 건설업계...현대·대우 등 시장 공략 나서...\n"
     ]
    },
    {
     "name": "stderr",
     "output_type": "stream",
     "text": [
      "📰 뉴스 본문 크롤링 진행:  77%|███████▋  | 231/300 [11:18<02:58,  2.59s/it]"
     ]
    },
    {
     "name": "stdout",
     "output_type": "stream",
     "text": [
      "✅ 크롤링 완료: 해외 원전사업 명맥 잇는다…체코 신규원전 수주 집중...\n"
     ]
    },
    {
     "name": "stderr",
     "output_type": "stream",
     "text": [
      "📰 뉴스 본문 크롤링 진행:  77%|███████▋  | 232/300 [11:20<02:27,  2.17s/it]"
     ]
    },
    {
     "name": "stdout",
     "output_type": "stream",
     "text": [
      "✅ 크롤링 완료: 두산중공업, 4월 둘째 주 주가 상승세 보여…윤석열 정부 원전정책 어떻......\n"
     ]
    },
    {
     "name": "stderr",
     "output_type": "stream",
     "text": [
      "📰 뉴스 본문 크롤링 진행:  78%|███████▊  | 233/300 [11:21<02:12,  1.98s/it]"
     ]
    },
    {
     "name": "stdout",
     "output_type": "stream",
     "text": [
      "✅ 크롤링 완료: 한수원, 체코신규원전사업 '팀코리아 공동협력 협의회' 개최...\n"
     ]
    },
    {
     "name": "stderr",
     "output_type": "stream",
     "text": [
      "📰 뉴스 본문 크롤링 진행:  78%|███████▊  | 234/300 [11:23<02:02,  1.85s/it]"
     ]
    },
    {
     "name": "stdout",
     "output_type": "stream",
     "text": [
      "✅ 크롤링 완료: 한신기계, 두산·삼성·현대 원전 사업 확대 발표…주가 상승세 마감...\n"
     ]
    },
    {
     "name": "stderr",
     "output_type": "stream",
     "text": [
      "📰 뉴스 본문 크롤링 진행:  78%|███████▊  | 235/300 [11:24<01:49,  1.68s/it]"
     ]
    },
    {
     "name": "stdout",
     "output_type": "stream",
     "text": [
      "⚠ 본문을 가져오지 못해 Selenium으로 재시도: http://www.wsobi.com/news/articleView.html?idxno=158569\n",
      "✅ 크롤링 완료: 원전업계, 새 정부 출범 앞두고 사업 확대 나서...\n"
     ]
    },
    {
     "name": "stderr",
     "output_type": "stream",
     "text": [
      "📰 뉴스 본문 크롤링 진행:  79%|███████▊  | 236/300 [11:29<02:45,  2.59s/it]"
     ]
    },
    {
     "name": "stdout",
     "output_type": "stream",
     "text": [
      "✅ 크롤링 완료: 한신기계, 尹 정부에서는 원전 수출 기지개 편다…주가 상승세...\n"
     ]
    },
    {
     "name": "stderr",
     "output_type": "stream",
     "text": [
      "📰 뉴스 본문 크롤링 진행:  79%|███████▉  | 237/300 [11:30<02:19,  2.22s/it]"
     ]
    },
    {
     "name": "stdout",
     "output_type": "stream",
     "text": [
      "✅ 크롤링 완료: \"원전 다시 뜬다\"…두산·삼성重, 尹 정책 맞춰 원자력 사업 확대...\n"
     ]
    },
    {
     "name": "stderr",
     "output_type": "stream",
     "text": [
      "📰 뉴스 본문 크롤링 진행:  79%|███████▉  | 238/300 [11:32<02:04,  2.00s/it]"
     ]
    },
    {
     "name": "stdout",
     "output_type": "stream",
     "text": [
      "✅ 크롤링 완료: 한수원, 체코 신규원전 수주 총력…'팀코리아 공동협력 협의회' 개최...\n"
     ]
    },
    {
     "name": "stderr",
     "output_type": "stream",
     "text": [
      "📰 뉴스 본문 크롤링 진행:  80%|███████▉  | 239/300 [11:33<01:49,  1.79s/it]"
     ]
    },
    {
     "name": "stdout",
     "output_type": "stream",
     "text": [
      "⚠ 본문을 가져오지 못해 Selenium으로 재시도: https://biz.sbs.co.kr/article_hub/20000066061?division=NAVER\n",
      "✅ 크롤링 완료: [김대호 박사의 오늘 기업·사람] 웨스팅하우스·BYD·LG화학·엔솔·포스......\n"
     ]
    },
    {
     "name": "stderr",
     "output_type": "stream",
     "text": [
      "📰 뉴스 본문 크롤링 진행:  80%|████████  | 240/300 [11:39<03:01,  3.03s/it]"
     ]
    },
    {
     "name": "stdout",
     "output_type": "stream",
     "text": [
      "✅ 크롤링 완료: 한수원, 체코원전 수주 경쟁력 확보 총력전...\n"
     ]
    },
    {
     "name": "stderr",
     "output_type": "stream",
     "text": [
      "📰 뉴스 본문 크롤링 진행:  80%|████████  | 241/300 [11:40<02:32,  2.59s/it]"
     ]
    },
    {
     "name": "stdout",
     "output_type": "stream",
     "text": [
      "✅ 크롤링 완료: \"원전 다시 뜬다\"…두산·삼성重, 尹 정책 맞춰 원자력 사업 확대...\n"
     ]
    },
    {
     "name": "stderr",
     "output_type": "stream",
     "text": [
      "📰 뉴스 본문 크롤링 진행:  81%|████████  | 242/300 [11:42<02:09,  2.24s/it]"
     ]
    },
    {
     "name": "stdout",
     "output_type": "stream",
     "text": [
      "✅ 크롤링 완료: 한수원, 체코 신규원전 수주 총력…'팀코리아 공동협력 협의회' 개최...\n"
     ]
    },
    {
     "name": "stderr",
     "output_type": "stream",
     "text": [
      "📰 뉴스 본문 크롤링 진행:  81%|████████  | 243/300 [11:43<01:52,  1.97s/it]"
     ]
    },
    {
     "name": "stdout",
     "output_type": "stream",
     "text": [
      "⚠ 본문을 가져오지 못해 Selenium으로 재시도: https://biz.sbs.co.kr/article_hub/20000066061?division=NAVER\n",
      "✅ 크롤링 완료: [김대호 박사의 오늘 기업·사람] 웨스팅하우스·BYD·LG화학·엔솔·포스......\n"
     ]
    },
    {
     "name": "stderr",
     "output_type": "stream",
     "text": [
      "📰 뉴스 본문 크롤링 진행:  81%|████████▏ | 244/300 [11:48<02:45,  2.96s/it]"
     ]
    },
    {
     "name": "stdout",
     "output_type": "stream",
     "text": [
      "⚠ 본문을 가져오지 못해 Selenium으로 재시도: https://www.theguru.co.kr/news/article.html?no=33299\n",
      "✅ 크롤링 완료: [단독] 뉴스케일파워·두산중공업, 체코 SMR 진출 시동…美, 원전 무역사......\n"
     ]
    },
    {
     "name": "stderr",
     "output_type": "stream",
     "text": [
      "📰 뉴스 본문 크롤링 진행:  82%|████████▏ | 245/300 [11:53<03:07,  3.41s/it]"
     ]
    },
    {
     "name": "stdout",
     "output_type": "stream",
     "text": [
      "✅ 크롤링 완료: 48조 원전 시장 공약 본격화…이창양 산업부 26일 체코·폴란드 출장...\n"
     ]
    },
    {
     "name": "stderr",
     "output_type": "stream",
     "text": [
      "📰 뉴스 본문 크롤링 진행:  82%|████████▏ | 246/300 [11:54<02:29,  2.77s/it]"
     ]
    },
    {
     "name": "stdout",
     "output_type": "stream",
     "text": [
      "⚠ 본문을 가져오지 못해 Selenium으로 재시도: https://www.theguru.co.kr/news/article.html?no=34202\n",
      "✅ 크롤링 완료: 웨스팅하우스, 체코 기업 9곳과 추가 MOU...\n"
     ]
    },
    {
     "name": "stderr",
     "output_type": "stream",
     "text": [
      "📰 뉴스 본문 크롤링 진행:  82%|████████▏ | 247/300 [11:58<02:51,  3.24s/it]"
     ]
    },
    {
     "name": "stdout",
     "output_type": "stream",
     "text": [
      "✅ 크롤링 완료: 대우건설, 수익성 높아진 해외사업 증가…이익률 증가세 이어지나...\n"
     ]
    },
    {
     "name": "stderr",
     "output_type": "stream",
     "text": [
      "📰 뉴스 본문 크롤링 진행:  83%|████████▎ | 248/300 [12:00<02:17,  2.64s/it]"
     ]
    },
    {
     "name": "stdout",
     "output_type": "stream",
     "text": [
      "✅ 크롤링 완료: 두산에너빌리티, 3일 연속 강세…이유는?...\n"
     ]
    },
    {
     "name": "stderr",
     "output_type": "stream",
     "text": [
      "📰 뉴스 본문 크롤링 진행:  83%|████████▎ | 249/300 [12:01<01:54,  2.24s/it]"
     ]
    },
    {
     "name": "stdout",
     "output_type": "stream",
     "text": [
      "⚠ 본문을 가져오지 못해 Selenium으로 재시도: http://www.mediapen.com/news/view/724433\n",
      "✅ 크롤링 완료: 한수원, 삼중수소·해외 발전사업 강화…수익성 향상 나서...\n"
     ]
    },
    {
     "name": "stderr",
     "output_type": "stream",
     "text": [
      "📰 뉴스 본문 크롤링 진행:  83%|████████▎ | 250/300 [12:06<02:33,  3.08s/it]"
     ]
    },
    {
     "name": "stdout",
     "output_type": "stream",
     "text": [
      "✅ 크롤링 완료: 한수원, 체코 신규원전사업 '팀코리아 공동협력 협의회' 개최...\n"
     ]
    },
    {
     "name": "stderr",
     "output_type": "stream",
     "text": [
      "📰 뉴스 본문 크롤링 진행:  84%|████████▎ | 251/300 [12:07<02:04,  2.54s/it]"
     ]
    },
    {
     "name": "stdout",
     "output_type": "stream",
     "text": [
      "⚠ 본문을 가져오지 못해 Selenium으로 재시도: https://biz.sbs.co.kr/article_hub/20000066061?division=NAVER\n",
      "✅ 크롤링 완료: [김대호 박사의 오늘 기업·사람] 웨스팅하우스·BYD·LG화학·엔솔·포스......\n"
     ]
    },
    {
     "name": "stderr",
     "output_type": "stream",
     "text": [
      "📰 뉴스 본문 크롤링 진행:  84%|████████▍ | 252/300 [12:12<02:35,  3.25s/it]"
     ]
    },
    {
     "name": "stdout",
     "output_type": "stream",
     "text": [
      "⚠ 본문을 가져오지 못해 Selenium으로 재시도: https://www.theguru.co.kr/news/article.html?no=33299\n",
      "✅ 크롤링 완료: [단독] 뉴스케일파워·두산중공업, 체코 SMR 진출 시동…美, 원전 무역사......\n"
     ]
    },
    {
     "name": "stderr",
     "output_type": "stream",
     "text": [
      "📰 뉴스 본문 크롤링 진행:  84%|████████▍ | 253/300 [12:16<02:44,  3.50s/it]"
     ]
    },
    {
     "name": "stdout",
     "output_type": "stream",
     "text": [
      "✅ 크롤링 완료: 48조 원전 시장 공약 본격화…이창양 산업부 26일 체코·폴란드 출장...\n"
     ]
    },
    {
     "name": "stderr",
     "output_type": "stream",
     "text": [
      "📰 뉴스 본문 크롤링 진행:  85%|████████▍ | 254/300 [12:18<02:17,  3.00s/it]"
     ]
    },
    {
     "name": "stdout",
     "output_type": "stream",
     "text": [
      "⚠ 본문을 가져오지 못해 Selenium으로 재시도: https://www.theguru.co.kr/news/article.html?no=34202\n",
      "✅ 크롤링 완료: 웨스팅하우스, 체코 기업 9곳과 추가 MOU...\n"
     ]
    },
    {
     "name": "stderr",
     "output_type": "stream",
     "text": [
      "📰 뉴스 본문 크롤링 진행:  85%|████████▌ | 255/300 [12:22<02:28,  3.31s/it]"
     ]
    },
    {
     "name": "stdout",
     "output_type": "stream",
     "text": [
      "✅ 크롤링 완료: 대우건설, 수익성 높아진 해외사업 증가…이익률 증가세 이어지나...\n"
     ]
    },
    {
     "name": "stderr",
     "output_type": "stream",
     "text": [
      "📰 뉴스 본문 크롤링 진행:  85%|████████▌ | 256/300 [12:23<01:56,  2.65s/it]"
     ]
    },
    {
     "name": "stdout",
     "output_type": "stream",
     "text": [
      "✅ 크롤링 완료: 두산에너빌리티, 3일 연속 강세…이유는?...\n"
     ]
    },
    {
     "name": "stderr",
     "output_type": "stream",
     "text": [
      "📰 뉴스 본문 크롤링 진행:  86%|████████▌ | 257/300 [12:24<01:35,  2.21s/it]"
     ]
    },
    {
     "name": "stdout",
     "output_type": "stream",
     "text": [
      "⚠ 본문을 가져오지 못해 Selenium으로 재시도: http://www.mediapen.com/news/view/724433\n",
      "✅ 크롤링 완료: 한수원, 삼중수소·해외 발전사업 강화…수익성 향상 나서...\n"
     ]
    },
    {
     "name": "stderr",
     "output_type": "stream",
     "text": [
      "📰 뉴스 본문 크롤링 진행:  86%|████████▌ | 258/300 [12:29<02:00,  2.86s/it]"
     ]
    },
    {
     "name": "stdout",
     "output_type": "stream",
     "text": [
      "⚠ 본문을 가져오지 못해 Selenium으로 재시도: http://www.edaily.co.kr/news/newspath.asp?newsid=04077046632293496\n",
      "✅ 크롤링 완료: 한수원, 올해 첫 원자력 유관기관 대표 간담회 개최...\n"
     ]
    },
    {
     "name": "stderr",
     "output_type": "stream",
     "text": [
      "📰 뉴스 본문 크롤링 진행:  86%|████████▋ | 259/300 [12:35<02:33,  3.73s/it]"
     ]
    },
    {
     "name": "stdout",
     "output_type": "stream",
     "text": [
      "⚠ 본문을 가져오지 못해 Selenium으로 재시도: http://www.edaily.co.kr/news/newspath.asp?newsid=04155766632292840\n",
      "✅ 크롤링 완료: 한수원 사장 재연임 없이 임기종료…文-尹 인사권 타협?...\n"
     ]
    },
    {
     "name": "stderr",
     "output_type": "stream",
     "text": [
      "📰 뉴스 본문 크롤링 진행:  87%|████████▋ | 261/300 [12:41<02:00,  3.09s/it]"
     ]
    },
    {
     "name": "stdout",
     "output_type": "stream",
     "text": [
      "⚠ 오류 발생 (뉴스 크롤링 실패): http://www.sentv.co.kr/news/view/616382, 오류: HTTPSConnectionPool(host='www.sentv.co.kr', port=443): Max retries exceeded with url: /news/view/616382 (Caused by SSLError(SSLCertVerificationError(1, '[SSL: CERTIFICATE_VERIFY_FAILED] certificate verify failed: unable to get local issuer certificate (_ssl.c:1000)')))\n",
      "⚠ 본문을 가져오지 못해 Selenium으로 재시도: https://biz.sbs.co.kr/article_hub/20000066061?division=NAVER\n",
      "✅ 크롤링 완료: [김대호 박사의 오늘 기업·사람] 웨스팅하우스·BYD·LG화학·엔솔·포스......\n"
     ]
    },
    {
     "name": "stderr",
     "output_type": "stream",
     "text": [
      "📰 뉴스 본문 크롤링 진행:  87%|████████▋ | 262/300 [12:46<02:20,  3.69s/it]"
     ]
    },
    {
     "name": "stdout",
     "output_type": "stream",
     "text": [
      "⚠ 본문을 가져오지 못해 Selenium으로 재시도: https://www.theguru.co.kr/news/article.html?no=33299\n",
      "✅ 크롤링 완료: [단독] 뉴스케일파워·두산중공업, 체코 SMR 진출 시동…美, 원전 무역사......\n"
     ]
    },
    {
     "name": "stderr",
     "output_type": "stream",
     "text": [
      "📰 뉴스 본문 크롤링 진행:  88%|████████▊ | 263/300 [12:50<02:21,  3.82s/it]"
     ]
    },
    {
     "name": "stdout",
     "output_type": "stream",
     "text": [
      "✅ 크롤링 완료: 48조 원전 시장 공약 본격화…이창양 산업부 26일 체코·폴란드 출장...\n"
     ]
    },
    {
     "name": "stderr",
     "output_type": "stream",
     "text": [
      "📰 뉴스 본문 크롤링 진행:  88%|████████▊ | 264/300 [12:51<01:50,  3.07s/it]"
     ]
    },
    {
     "name": "stdout",
     "output_type": "stream",
     "text": [
      "⚠ 본문을 가져오지 못해 Selenium으로 재시도: https://www.theguru.co.kr/news/article.html?no=34202\n",
      "✅ 크롤링 완료: 웨스팅하우스, 체코 기업 9곳과 추가 MOU...\n"
     ]
    },
    {
     "name": "stderr",
     "output_type": "stream",
     "text": [
      "📰 뉴스 본문 크롤링 진행:  88%|████████▊ | 265/300 [12:55<01:56,  3.34s/it]"
     ]
    },
    {
     "name": "stdout",
     "output_type": "stream",
     "text": [
      "✅ 크롤링 완료: 대우건설, 수익성 높아진 해외사업 증가…이익률 증가세 이어지나...\n"
     ]
    },
    {
     "name": "stderr",
     "output_type": "stream",
     "text": [
      "📰 뉴스 본문 크롤링 진행:  89%|████████▊ | 266/300 [12:56<01:30,  2.67s/it]"
     ]
    },
    {
     "name": "stdout",
     "output_type": "stream",
     "text": [
      "✅ 크롤링 완료: 두산에너빌리티, 3일 연속 강세…이유는?...\n"
     ]
    },
    {
     "name": "stderr",
     "output_type": "stream",
     "text": [
      "📰 뉴스 본문 크롤링 진행:  89%|████████▉ | 267/300 [12:57<01:13,  2.22s/it]"
     ]
    },
    {
     "name": "stdout",
     "output_type": "stream",
     "text": [
      "⚠ 본문을 가져오지 못해 Selenium으로 재시도: http://www.mediapen.com/news/view/724433\n",
      "✅ 크롤링 완료: 한수원, 삼중수소·해외 발전사업 강화…수익성 향상 나서...\n"
     ]
    },
    {
     "name": "stderr",
     "output_type": "stream",
     "text": [
      "📰 뉴스 본문 크롤링 진행:  89%|████████▉ | 268/300 [13:02<01:33,  2.91s/it]"
     ]
    },
    {
     "name": "stdout",
     "output_type": "stream",
     "text": [
      "⚠ 본문을 가져오지 못해 Selenium으로 재시도: http://www.edaily.co.kr/news/newspath.asp?newsid=04077046632293496\n",
      "✅ 크롤링 완료: 한수원, 올해 첫 원자력 유관기관 대표 간담회 개최...\n"
     ]
    },
    {
     "name": "stderr",
     "output_type": "stream",
     "text": [
      "📰 뉴스 본문 크롤링 진행:  90%|████████▉ | 269/300 [13:07<01:48,  3.51s/it]"
     ]
    },
    {
     "name": "stdout",
     "output_type": "stream",
     "text": [
      "⚠ 본문을 가져오지 못해 Selenium으로 재시도: http://www.edaily.co.kr/news/newspath.asp?newsid=04155766632292840\n",
      "✅ 크롤링 완료: 한수원 사장 재연임 없이 임기종료…文-尹 인사권 타협?...\n"
     ]
    },
    {
     "name": "stderr",
     "output_type": "stream",
     "text": [
      "📰 뉴스 본문 크롤링 진행:  90%|█████████ | 270/300 [13:13<02:07,  4.26s/it]"
     ]
    },
    {
     "name": "stdout",
     "output_type": "stream",
     "text": [
      "✅ 크롤링 완료: 한수원, '팀코리아' 가동…체코 신규원전사업 수주 자신감...\n"
     ]
    },
    {
     "name": "stderr",
     "output_type": "stream",
     "text": [
      "📰 뉴스 본문 크롤링 진행:  90%|█████████ | 271/300 [13:14<01:37,  3.37s/it]"
     ]
    },
    {
     "name": "stdout",
     "output_type": "stream",
     "text": [
      "⚠ 본문을 가져오지 못해 Selenium으로 재시도: https://biz.sbs.co.kr/article_hub/20000066061?division=NAVER\n",
      "✅ 크롤링 완료: [김대호 박사의 오늘 기업·사람] 웨스팅하우스·BYD·LG화학·엔솔·포스......\n"
     ]
    },
    {
     "name": "stderr",
     "output_type": "stream",
     "text": [
      "📰 뉴스 본문 크롤링 진행:  91%|█████████ | 272/300 [13:19<01:47,  3.85s/it]"
     ]
    },
    {
     "name": "stdout",
     "output_type": "stream",
     "text": [
      "⚠ 본문을 가져오지 못해 Selenium으로 재시도: https://www.theguru.co.kr/news/article.html?no=33299\n",
      "✅ 크롤링 완료: [단독] 뉴스케일파워·두산중공업, 체코 SMR 진출 시동…美, 원전 무역사......\n"
     ]
    },
    {
     "name": "stderr",
     "output_type": "stream",
     "text": [
      "📰 뉴스 본문 크롤링 진행:  91%|█████████ | 273/300 [13:23<01:46,  3.93s/it]"
     ]
    },
    {
     "name": "stdout",
     "output_type": "stream",
     "text": [
      "✅ 크롤링 완료: 48조 원전 시장 공약 본격화…이창양 산업부 26일 체코·폴란드 출장...\n"
     ]
    },
    {
     "name": "stderr",
     "output_type": "stream",
     "text": [
      "📰 뉴스 본문 크롤링 진행:  91%|█████████▏| 274/300 [13:24<01:22,  3.16s/it]"
     ]
    },
    {
     "name": "stdout",
     "output_type": "stream",
     "text": [
      "⚠ 본문을 가져오지 못해 Selenium으로 재시도: https://www.theguru.co.kr/news/article.html?no=34202\n",
      "✅ 크롤링 완료: 웨스팅하우스, 체코 기업 9곳과 추가 MOU...\n"
     ]
    },
    {
     "name": "stderr",
     "output_type": "stream",
     "text": [
      "📰 뉴스 본문 크롤링 진행:  92%|█████████▏| 275/300 [13:29<01:25,  3.43s/it]"
     ]
    },
    {
     "name": "stdout",
     "output_type": "stream",
     "text": [
      "✅ 크롤링 완료: 대우건설, 수익성 높아진 해외사업 증가…이익률 증가세 이어지나...\n"
     ]
    },
    {
     "name": "stderr",
     "output_type": "stream",
     "text": [
      "📰 뉴스 본문 크롤링 진행:  92%|█████████▏| 276/300 [13:30<01:05,  2.74s/it]"
     ]
    },
    {
     "name": "stdout",
     "output_type": "stream",
     "text": [
      "✅ 크롤링 완료: 두산에너빌리티, 3일 연속 강세…이유는?...\n"
     ]
    },
    {
     "name": "stderr",
     "output_type": "stream",
     "text": [
      "📰 뉴스 본문 크롤링 진행:  92%|█████████▏| 277/300 [13:31<00:52,  2.29s/it]"
     ]
    },
    {
     "name": "stdout",
     "output_type": "stream",
     "text": [
      "⚠ 본문을 가져오지 못해 Selenium으로 재시도: http://www.mediapen.com/news/view/724433\n",
      "✅ 크롤링 완료: 한수원, 삼중수소·해외 발전사업 강화…수익성 향상 나서...\n"
     ]
    },
    {
     "name": "stderr",
     "output_type": "stream",
     "text": [
      "📰 뉴스 본문 크롤링 진행:  93%|█████████▎| 278/300 [13:35<01:05,  2.98s/it]"
     ]
    },
    {
     "name": "stdout",
     "output_type": "stream",
     "text": [
      "⚠ 본문을 가져오지 못해 Selenium으로 재시도: http://www.edaily.co.kr/news/newspath.asp?newsid=04077046632293496\n",
      "✅ 크롤링 완료: 한수원, 올해 첫 원자력 유관기관 대표 간담회 개최...\n"
     ]
    },
    {
     "name": "stderr",
     "output_type": "stream",
     "text": [
      "📰 뉴스 본문 크롤링 진행:  93%|█████████▎| 279/300 [13:41<01:20,  3.82s/it]"
     ]
    },
    {
     "name": "stdout",
     "output_type": "stream",
     "text": [
      "⚠ 본문을 가져오지 못해 Selenium으로 재시도: http://www.edaily.co.kr/news/newspath.asp?newsid=04155766632292840\n",
      "✅ 크롤링 완료: 한수원 사장 재연임 없이 임기종료…文-尹 인사권 타협?...\n"
     ]
    },
    {
     "name": "stderr",
     "output_type": "stream",
     "text": [
      "📰 뉴스 본문 크롤링 진행:  93%|█████████▎| 280/300 [13:46<01:23,  4.17s/it]"
     ]
    },
    {
     "name": "stdout",
     "output_type": "stream",
     "text": [
      "✅ 크롤링 완료: 대우건설, 수익성 높아진 해외사업 증가…이익률 증가세 이어지나...\n"
     ]
    },
    {
     "name": "stderr",
     "output_type": "stream",
     "text": [
      "📰 뉴스 본문 크롤링 진행:  94%|█████████▎| 281/300 [13:47<01:01,  3.25s/it]"
     ]
    },
    {
     "name": "stdout",
     "output_type": "stream",
     "text": [
      "✅ 크롤링 완료: 두산에너빌리티, 3일 연속 강세…이유는?...\n"
     ]
    },
    {
     "name": "stderr",
     "output_type": "stream",
     "text": [
      "📰 뉴스 본문 크롤링 진행:  94%|█████████▍| 282/300 [13:49<00:47,  2.63s/it]"
     ]
    },
    {
     "name": "stdout",
     "output_type": "stream",
     "text": [
      "⚠ 본문을 가져오지 못해 Selenium으로 재시도: http://www.mediapen.com/news/view/724433\n",
      "✅ 크롤링 완료: 한수원, 삼중수소·해외 발전사업 강화…수익성 향상 나서...\n"
     ]
    },
    {
     "name": "stderr",
     "output_type": "stream",
     "text": [
      "📰 뉴스 본문 크롤링 진행:  94%|█████████▍| 283/300 [13:53<00:53,  3.14s/it]"
     ]
    },
    {
     "name": "stdout",
     "output_type": "stream",
     "text": [
      "⚠ 본문을 가져오지 못해 Selenium으로 재시도: http://www.edaily.co.kr/news/newspath.asp?newsid=04077046632293496\n",
      "✅ 크롤링 완료: 한수원, 올해 첫 원자력 유관기관 대표 간담회 개최...\n"
     ]
    },
    {
     "name": "stderr",
     "output_type": "stream",
     "text": [
      "📰 뉴스 본문 크롤링 진행:  95%|█████████▍| 284/300 [13:58<00:58,  3.68s/it]"
     ]
    },
    {
     "name": "stdout",
     "output_type": "stream",
     "text": [
      "⚠ 본문을 가져오지 못해 Selenium으로 재시도: http://www.edaily.co.kr/news/newspath.asp?newsid=04155766632292840\n",
      "✅ 크롤링 완료: 한수원 사장 재연임 없이 임기종료…文-尹 인사권 타협?...\n"
     ]
    },
    {
     "name": "stderr",
     "output_type": "stream",
     "text": [
      "📰 뉴스 본문 크롤링 진행:  95%|█████████▌| 285/300 [14:03<01:00,  4.01s/it]"
     ]
    },
    {
     "name": "stdout",
     "output_type": "stream",
     "text": [
      "⚠ 본문을 가져오지 못해 Selenium으로 재시도: https://www.businesspost.co.kr/BP?command=article_view&num=276819\n",
      "✅ 크롤링 완료: [데스크리포트 4월] 거리두기 종료 기대에 공기업 화색, 한전은 시름...\n"
     ]
    },
    {
     "name": "stderr",
     "output_type": "stream",
     "text": [
      "📰 뉴스 본문 크롤링 진행:  95%|█████████▌| 286/300 [14:07<00:58,  4.18s/it]"
     ]
    },
    {
     "name": "stdout",
     "output_type": "stream",
     "text": [
      "✅ 크롤링 완료: 산업부, 스페인‧노르웨이‧체코와의 에너지 공동 연구에 48억원 투입...\n"
     ]
    },
    {
     "name": "stderr",
     "output_type": "stream",
     "text": [
      "📰 뉴스 본문 크롤링 진행:  96%|█████████▌| 287/300 [14:09<00:43,  3.33s/it]"
     ]
    },
    {
     "name": "stdout",
     "output_type": "stream",
     "text": [
      "✅ 크롤링 완료: 두산에너빌리티, 3일만에 주가 '상승'…무슨 이슈 있나...\n"
     ]
    },
    {
     "name": "stderr",
     "output_type": "stream",
     "text": [
      "📰 뉴스 본문 크롤링 진행:  96%|█████████▌| 288/300 [14:10<00:32,  2.71s/it]"
     ]
    },
    {
     "name": "stdout",
     "output_type": "stream",
     "text": [
      "⚠ 본문을 가져오지 못해 Selenium으로 재시도: http://www.mediapen.com/news/view/730142\n",
      "✅ 크롤링 완료: 신한울 1호기, 최초 계통연결…하계 전력 공급 지원...\n"
     ]
    },
    {
     "name": "stderr",
     "output_type": "stream",
     "text": [
      "📰 뉴스 본문 크롤링 진행:  96%|█████████▋| 289/300 [14:14<00:35,  3.21s/it]"
     ]
    },
    {
     "name": "stdout",
     "output_type": "stream",
     "text": [
      "⚠ 본문을 가져오지 못해 Selenium으로 재시도: http://www.kbsm.net/news/view.php?idx=351739\n",
      "✅ 크롤링 완료: 탈원전 버린 尹정부, 공기업 수장 물갈이 속도...\n"
     ]
    },
    {
     "name": "stderr",
     "output_type": "stream",
     "text": [
      "📰 뉴스 본문 크롤링 진행:  97%|█████████▋| 290/300 [14:21<00:41,  4.18s/it]"
     ]
    },
    {
     "name": "stdout",
     "output_type": "stream",
     "text": [
      "⚠ 본문을 가져오지 못해 Selenium으로 재시도: https://www.businesspost.co.kr/BP?command=article_view&num=279835\n",
      "✅ 크롤링 완료: [데스크리포트 5월] 전국 공항에 봄바람, 국민연금·한수원 리더십 혼란...\n"
     ]
    },
    {
     "name": "stderr",
     "output_type": "stream",
     "text": [
      "📰 뉴스 본문 크롤링 진행:  97%|█████████▋| 291/300 [14:25<00:36,  4.11s/it]"
     ]
    },
    {
     "name": "stdout",
     "output_type": "stream",
     "text": [
      "✅ 크롤링 완료: 두산중공업, 시간외 주가 약세…원전주 힘빠졌나...\n"
     ]
    },
    {
     "name": "stderr",
     "output_type": "stream",
     "text": [
      "📰 뉴스 본문 크롤링 진행:  97%|█████████▋| 292/300 [14:26<00:26,  3.34s/it]"
     ]
    },
    {
     "name": "stdout",
     "output_type": "stream",
     "text": [
      "✅ 크롤링 완료: 두산중공업, 4월 셋째 주 상승세 보여…무엇 때문에?...\n"
     ]
    },
    {
     "name": "stderr",
     "output_type": "stream",
     "text": [
      "📰 뉴스 본문 크롤링 진행:  98%|█████████▊| 293/300 [14:28<00:19,  2.77s/it]"
     ]
    },
    {
     "name": "stdout",
     "output_type": "stream",
     "text": [
      "✅ 크롤링 완료: 시동 걸린 탈원전 폐기 드라이브… 수혜 기업은 어디?...\n"
     ]
    },
    {
     "name": "stderr",
     "output_type": "stream",
     "text": [
      "📰 뉴스 본문 크롤링 진행:  98%|█████████▊| 294/300 [14:29<00:14,  2.37s/it]"
     ]
    },
    {
     "name": "stdout",
     "output_type": "stream",
     "text": [
      "✅ 크롤링 완료: 두산중공업, 주가 널뛰기 양상…어떤 이슈있나?...\n"
     ]
    },
    {
     "name": "stderr",
     "output_type": "stream",
     "text": [
      "📰 뉴스 본문 크롤링 진행:  98%|█████████▊| 295/300 [14:30<00:10,  2.09s/it]"
     ]
    },
    {
     "name": "stdout",
     "output_type": "stream",
     "text": [
      "✅ 크롤링 완료: 두산중공업, 주가 상승세 전환…무슨일?...\n"
     ]
    },
    {
     "name": "stderr",
     "output_type": "stream",
     "text": [
      "📰 뉴스 본문 크롤링 진행:  99%|█████████▊| 296/300 [14:32<00:07,  1.85s/it]"
     ]
    },
    {
     "name": "stdout",
     "output_type": "stream",
     "text": [
      "✅ 크롤링 완료: 삼성중공우, 주가 훨훨…원자력 발전사업 확대...\n"
     ]
    },
    {
     "name": "stderr",
     "output_type": "stream",
     "text": [
      "📰 뉴스 본문 크롤링 진행:  99%|█████████▉| 297/300 [14:33<00:05,  1.67s/it]"
     ]
    },
    {
     "name": "stdout",
     "output_type": "stream",
     "text": [
      "✅ 크롤링 완료: 두산중공업, 주가 반등 성공…무슨일?...\n"
     ]
    },
    {
     "name": "stderr",
     "output_type": "stream",
     "text": [
      "📰 뉴스 본문 크롤링 진행:  99%|█████████▉| 298/300 [14:34<00:03,  1.57s/it]"
     ]
    },
    {
     "name": "stdout",
     "output_type": "stream",
     "text": [
      "✅ 크롤링 완료: 한국수력원자력, 팀코리아 공동협력 협의회 개최...\n"
     ]
    },
    {
     "name": "stderr",
     "output_type": "stream",
     "text": [
      "📰 뉴스 본문 크롤링 진행: 100%|█████████▉| 299/300 [14:36<00:01,  1.48s/it]"
     ]
    },
    {
     "name": "stdout",
     "output_type": "stream",
     "text": [
      "✅ 크롤링 완료: [5대 관전 포인트] 尹 '나토행' 美 중심 글로벌 가치동맹 강화 행보···......\n"
     ]
    },
    {
     "name": "stderr",
     "output_type": "stream",
     "text": [
      "📰 뉴스 본문 크롤링 진행: 100%|██████████| 300/300 [14:37<00:00,  2.93s/it]\n"
     ]
    },
    {
     "name": "stdout",
     "output_type": "stream",
     "text": [
      "🔍 검색 중: 두코바니 원전 (2022.07.01 ~ 2022.09.30)\n",
      "✅ 242개의 뉴스 기사 링크 및 날짜를 수집 완료! (2022.07.01 ~ 2022.09.30)\n"
     ]
    },
    {
     "name": "stderr",
     "output_type": "stream",
     "text": [
      "📰 뉴스 본문 크롤링 진행:   0%|          | 0/242 [00:00<?, ?it/s]"
     ]
    },
    {
     "name": "stdout",
     "output_type": "stream",
     "text": [
      "⚠ 본문을 가져오지 못해 Selenium으로 재시도: http://news.mk.co.kr/newsRead.php?no=863758&year=2022\n",
      "✅ 크롤링 완료: [기고] 에너지안보 위기, 원전 수출 기회다...\n"
     ]
    },
    {
     "name": "stderr",
     "output_type": "stream",
     "text": [
      "📰 뉴스 본문 크롤링 진행:   0%|          | 1/242 [00:05<20:36,  5.13s/it]"
     ]
    },
    {
     "name": "stdout",
     "output_type": "stream",
     "text": [
      "⚠ 본문을 가져오지 못해 Selenium으로 재시도: https://biz.chosun.com/industry/company/2022/09/21/YHPKRMNGPJBPDI2KQCSSGKZO5M/?utm_source=naver&utm_medium=original&utm_campaign=biz\n",
      "✅ 크롤링 완료: 8조→30조원대로 커진 체코 원전 사업… “韓·美 공조하면 승산”...\n"
     ]
    },
    {
     "name": "stderr",
     "output_type": "stream",
     "text": [
      "📰 뉴스 본문 크롤링 진행:   1%|          | 2/242 [00:11<23:26,  5.86s/it]"
     ]
    },
    {
     "name": "stdout",
     "output_type": "stream",
     "text": [
      "✅ 크롤링 완료: 박진, 체코·폴란드·필리핀 외교회담…원전·방산 논의(종합)...\n"
     ]
    },
    {
     "name": "stderr",
     "output_type": "stream",
     "text": [
      "📰 뉴스 본문 크롤링 진행:   1%|          | 3/242 [00:12<14:56,  3.75s/it]"
     ]
    },
    {
     "name": "stdout",
     "output_type": "stream",
     "text": [
      "✅ 크롤링 완료: 황주호 한수원 사장, 체코·폴란드서 '원전 세일즈' 광폭 행보...\n"
     ]
    },
    {
     "name": "stderr",
     "output_type": "stream",
     "text": [
      "📰 뉴스 본문 크롤링 진행:   2%|▏         | 4/242 [00:13<10:54,  2.75s/it]"
     ]
    },
    {
     "name": "stdout",
     "output_type": "stream",
     "text": [
      "✅ 크롤링 완료: 황주호 한수원 사장, 원전수출 광폭 행보...\n"
     ]
    },
    {
     "name": "stderr",
     "output_type": "stream",
     "text": [
      "📰 뉴스 본문 크롤링 진행:   2%|▏         | 5/242 [00:15<08:36,  2.18s/it]"
     ]
    },
    {
     "name": "stdout",
     "output_type": "stream",
     "text": [
      "⚠ 본문을 가져오지 못해 Selenium으로 재시도: http://www.breaknews.com/925806\n",
      "✅ 크롤링 완료: 황주호 한수원 사장, 원전 수출에 광폭 행보 ‘눈에 띄네’...\n"
     ]
    },
    {
     "name": "stderr",
     "output_type": "stream",
     "text": [
      "📰 뉴스 본문 크롤링 진행:   2%|▏         | 6/242 [00:22<16:02,  4.08s/it]"
     ]
    },
    {
     "name": "stdout",
     "output_type": "stream",
     "text": [
      "⚠ 본문을 가져오지 못해 Selenium으로 재시도: https://www.theguru.co.kr/news/article.html?no=42396\n",
      "✅ 크롤링 완료: 체코 소형원전 도입 공식화...전담 공기업 설립...\n"
     ]
    },
    {
     "name": "stderr",
     "output_type": "stream",
     "text": [
      "📰 뉴스 본문 크롤링 진행:   3%|▎         | 7/242 [00:27<16:30,  4.21s/it]"
     ]
    },
    {
     "name": "stdout",
     "output_type": "stream",
     "text": [
      "✅ 크롤링 완료: 국내 건설사, 해외수주 300억 달러 보인다…텃밭 중동·원전 수주 기대......\n"
     ]
    },
    {
     "name": "stderr",
     "output_type": "stream",
     "text": [
      "📰 뉴스 본문 크롤링 진행:   3%|▎         | 8/242 [00:30<14:38,  3.75s/it]"
     ]
    },
    {
     "name": "stdout",
     "output_type": "stream",
     "text": [
      "⚠ 본문을 가져오지 못해 Selenium으로 재시도: http://news.mk.co.kr/newsRead.php?no=823094&year=2022\n",
      "✅ 크롤링 완료: [단독] 현장 날아간 한수원 사장…체코·폴란드 원전수출 잰걸음...\n"
     ]
    },
    {
     "name": "stderr",
     "output_type": "stream",
     "text": [
      "📰 뉴스 본문 크롤링 진행:   4%|▎         | 9/242 [00:34<15:53,  4.09s/it]"
     ]
    },
    {
     "name": "stdout",
     "output_type": "stream",
     "text": [
      "⚠ 본문을 가져오지 못해 Selenium으로 재시도: http://www.munhwa.com/news/view.html?no=2022092201039905017001\n",
      "✅ 크롤링 완료: 황주호 한수원 사장, 체코·폴란드서 ‘원전 세일즈’...\n"
     ]
    },
    {
     "name": "stderr",
     "output_type": "stream",
     "text": [
      "📰 뉴스 본문 크롤링 진행:   4%|▍         | 10/242 [00:39<16:36,  4.30s/it]"
     ]
    },
    {
     "name": "stdout",
     "output_type": "stream",
     "text": [
      "✅ 크롤링 완료: 한국 원자력 산업 ‘제2르네상스’ 열까 원천기술·금융 도약 없인 K원전......\n"
     ]
    },
    {
     "name": "stderr",
     "output_type": "stream",
     "text": [
      "📰 뉴스 본문 크롤링 진행:   5%|▍         | 11/242 [00:40<12:51,  3.34s/it]"
     ]
    },
    {
     "name": "stdout",
     "output_type": "stream",
     "text": [
      "⚠ 본문을 가져오지 못해 Selenium으로 재시도: https://www.theguru.co.kr/news/article.html?no=42396\n",
      "✅ 크롤링 완료: 체코 소형원전 도입 공식화...전담 공기업 설립...\n"
     ]
    },
    {
     "name": "stderr",
     "output_type": "stream",
     "text": [
      "📰 뉴스 본문 크롤링 진행:   5%|▍         | 12/242 [00:44<13:40,  3.57s/it]"
     ]
    },
    {
     "name": "stdout",
     "output_type": "stream",
     "text": [
      "✅ 크롤링 완료: 국내 건설사, 해외수주 300억 달러 보인다…텃밭 중동·원전 수주 기대......\n"
     ]
    },
    {
     "name": "stderr",
     "output_type": "stream",
     "text": [
      "📰 뉴스 본문 크롤링 진행:   5%|▌         | 13/242 [00:46<11:06,  2.91s/it]"
     ]
    },
    {
     "name": "stdout",
     "output_type": "stream",
     "text": [
      "⚠ 본문을 가져오지 못해 Selenium으로 재시도: https://www.wowtv.co.kr/NewsCenter/News/Read?articleId=A202208310113&t=NNv\n",
      "✅ 크롤링 완료: [단독] `원전 대장주` 한전기술, 3조 엘다바 원전 참여 안해...\n"
     ]
    },
    {
     "name": "stderr",
     "output_type": "stream",
     "text": [
      "📰 뉴스 본문 크롤링 진행:   6%|▌         | 14/242 [01:01<24:39,  6.49s/it]"
     ]
    },
    {
     "name": "stdout",
     "output_type": "stream",
     "text": [
      "✅ 크롤링 완료: 1635조 글로벌 시장 잡아라…현대건설·대우건설, 원전 사업 역량 발휘...\n"
     ]
    },
    {
     "name": "stderr",
     "output_type": "stream",
     "text": [
      "📰 뉴스 본문 크롤링 진행:   6%|▌         | 15/242 [01:04<20:47,  5.50s/it]"
     ]
    },
    {
     "name": "stdout",
     "output_type": "stream",
     "text": [
      "✅ 크롤링 완료: 대형건설사, 글로벌 원전 시장 정조준…'조' 단위 수주 노린다...\n"
     ]
    },
    {
     "name": "stderr",
     "output_type": "stream",
     "text": [
      "📰 뉴스 본문 크롤링 진행:   7%|▋         | 16/242 [01:05<16:17,  4.33s/it]"
     ]
    },
    {
     "name": "stdout",
     "output_type": "stream",
     "text": [
      "✅ 크롤링 완료: 두산에너빌리티, 국내외서 호재 잇따라… ‘K-원전’ 부활 본격화...\n"
     ]
    },
    {
     "name": "stderr",
     "output_type": "stream",
     "text": [
      "📰 뉴스 본문 크롤링 진행:   7%|▋         | 17/242 [01:07<12:38,  3.37s/it]"
     ]
    },
    {
     "name": "stdout",
     "output_type": "stream",
     "text": [
      "✅ 크롤링 완료: 尹대통령, 체코와 정상회담서…\"두코바니 원전, 韓참여에 관심 가져달라......\n"
     ]
    },
    {
     "name": "stderr",
     "output_type": "stream",
     "text": [
      "📰 뉴스 본문 크롤링 진행:   7%|▋         | 18/242 [01:08<10:14,  2.74s/it]"
     ]
    },
    {
     "name": "stdout",
     "output_type": "stream",
     "text": [
      "⚠ 본문을 가져오지 못해 Selenium으로 재시도: http://www.fnnews.com/news/202208291813075210\n",
      "✅ 크롤링 완료: 이집트 3조 수주 K원전, 폴란드·체코·사우디서도 '청신호' [K원전 유럽......\n"
     ]
    },
    {
     "name": "stderr",
     "output_type": "stream",
     "text": [
      "📰 뉴스 본문 크롤링 진행:   8%|▊         | 19/242 [01:15<14:53,  4.00s/it]"
     ]
    },
    {
     "name": "stdout",
     "output_type": "stream",
     "text": [
      "⚠ 본문을 가져오지 못해 Selenium으로 재시도: https://www.viva100.com/main/view.php?key=20220829010007424\n",
      "✅ 크롤링 완료: 한수원, 3조원대 이집트 원전 건설사업 수주…원전 수주 탄력 받나...\n"
     ]
    },
    {
     "name": "stderr",
     "output_type": "stream",
     "text": [
      "📰 뉴스 본문 크롤링 진행:   8%|▊         | 20/242 [01:20<15:46,  4.27s/it]"
     ]
    },
    {
     "name": "stdout",
     "output_type": "stream",
     "text": [
      "⚠ 본문을 가져오지 못해 Selenium으로 재시도: https://www.businesspost.co.kr/BP?command=article_view&num=291202\n",
      "✅ 크롤링 완료: 한수원 K-원전 수주 부활하나, 두산에너빌리티 원전사업 햇빛 든다...\n"
     ]
    },
    {
     "name": "stderr",
     "output_type": "stream",
     "text": [
      "📰 뉴스 본문 크롤링 진행:   9%|▊         | 21/242 [01:24<16:12,  4.40s/it]"
     ]
    },
    {
     "name": "stdout",
     "output_type": "stream",
     "text": [
      "⚠ 본문을 가져오지 못해 Selenium으로 재시도: http://www.munhwa.com/news/view.html?no=2022082601071403017001\n",
      "✅ 크롤링 완료: 세계 에너지 위기 속… 가성비·안전성 최고 ‘K-원전’ 뜬다...\n"
     ]
    },
    {
     "name": "stderr",
     "output_type": "stream",
     "text": [
      "📰 뉴스 본문 크롤링 진행:   9%|▉         | 22/242 [01:29<16:30,  4.50s/it]"
     ]
    },
    {
     "name": "stdout",
     "output_type": "stream",
     "text": [
      "✅ 크롤링 완료: [특징주] 조광ILI 주가 상승 '한수원 3조 규모 원전 수주 성공'...\n"
     ]
    },
    {
     "name": "stderr",
     "output_type": "stream",
     "text": [
      "📰 뉴스 본문 크롤링 진행:  10%|▉         | 23/242 [01:30<12:56,  3.55s/it]"
     ]
    },
    {
     "name": "stdout",
     "output_type": "stream",
     "text": [
      "✅ 크롤링 완료: 원전 수출 10기 '한 걸음' 뗀 尹정부…이집트 이어 체코·폴란드 집중 공......\n"
     ]
    },
    {
     "name": "stderr",
     "output_type": "stream",
     "text": [
      "📰 뉴스 본문 크롤링 진행:  10%|▉         | 24/242 [01:32<10:38,  2.93s/it]"
     ]
    },
    {
     "name": "stdout",
     "output_type": "stream",
     "text": [
      "⚠ 본문을 가져오지 못해 Selenium으로 재시도: https://biz.chosun.com/policy/policy_sub/2022/08/25/63XB5YVGE5AWNBQX3VG3GSMHQ4/?utm_source=naver&utm_medium=original&utm_campaign=biz\n",
      "✅ 크롤링 완료: 韓, 3兆 규모 이집트 원전 사업 수주…尹정부, 원전 수출 물꼬 텄다...\n"
     ]
    },
    {
     "name": "stderr",
     "output_type": "stream",
     "text": [
      "📰 뉴스 본문 크롤링 진행:  10%|█         | 25/242 [01:39<15:30,  4.29s/it]"
     ]
    },
    {
     "name": "stdout",
     "output_type": "stream",
     "text": [
      "⚠ 본문을 가져오지 못해 Selenium으로 재시도: https://news.kbs.co.kr/news/view.do?ncd=5544996&ref=A\n",
      "✅ 크롤링 완료: [ET] 사막 원전 경험으로 이집트 뚫었다…60조 원전 시장 잡아라!...\n"
     ]
    },
    {
     "name": "stderr",
     "output_type": "stream",
     "text": [
      "📰 뉴스 본문 크롤링 진행:  11%|█         | 26/242 [01:44<16:05,  4.47s/it]"
     ]
    },
    {
     "name": "stdout",
     "output_type": "stream",
     "text": [
      "✅ 크롤링 완료: [특징주] 원전 관련주 지투파워, 주가 '오름세' 마감…30일 1일간 투자주......\n"
     ]
    },
    {
     "name": "stderr",
     "output_type": "stream",
     "text": [
      "📰 뉴스 본문 크롤링 진행:  11%|█         | 27/242 [01:46<12:30,  3.49s/it]"
     ]
    },
    {
     "name": "stdout",
     "output_type": "stream",
     "text": [
      "✅ 크롤링 완료: 닻올린 원전수출 추진위, 주요 수출대상국 당면 현안은...\n"
     ]
    },
    {
     "name": "stderr",
     "output_type": "stream",
     "text": [
      "📰 뉴스 본문 크롤링 진행:  12%|█▏        | 28/242 [01:47<10:18,  2.89s/it]"
     ]
    },
    {
     "name": "stdout",
     "output_type": "stream",
     "text": [
      "✅ 크롤링 완료: [뒷북경제] 뒤늦은 한수원 사장 선임…‘원전 세일즈’에 힘 실릴까...\n"
     ]
    },
    {
     "name": "stderr",
     "output_type": "stream",
     "text": [
      "📰 뉴스 본문 크롤링 진행:  12%|█▏        | 29/242 [01:48<08:40,  2.45s/it]"
     ]
    },
    {
     "name": "stdout",
     "output_type": "stream",
     "text": [
      "⚠ 본문을 가져오지 못해 Selenium으로 재시도: http://news.mk.co.kr/newsRead.php?no=757372&year=2022\n",
      "✅ 크롤링 완료: 이창양 산업부 장관 \"체코·폴란드 원전사업, 한국 수주전망 밝아\"...\n"
     ]
    },
    {
     "name": "stderr",
     "output_type": "stream",
     "text": [
      "📰 뉴스 본문 크롤링 진행:  12%|█▏        | 30/242 [01:54<11:34,  3.27s/it]"
     ]
    },
    {
     "name": "stdout",
     "output_type": "stream",
     "text": [
      "✅ 크롤링 완료: 탈원전 버리니 해외 원전 수출 '순풍'...윤 정부 임기동안 10기도 가능...\n"
     ]
    },
    {
     "name": "stderr",
     "output_type": "stream",
     "text": [
      "📰 뉴스 본문 크롤링 진행:  13%|█▎        | 31/242 [01:55<09:25,  2.68s/it]"
     ]
    },
    {
     "name": "stdout",
     "output_type": "stream",
     "text": [
      "⚠ 본문을 가져오지 못해 Selenium으로 재시도: https://www.dnews.co.kr/uhtml/view.jsp?idxno=202208250241328850564\n",
      "✅ 크롤링 완료: [e대경 에너지전략포럼] 국내 원전 건설 재개하고, SMR 개발 속도내야...\n"
     ]
    },
    {
     "name": "stderr",
     "output_type": "stream",
     "text": [
      "📰 뉴스 본문 크롤링 진행:  13%|█▎        | 32/242 [02:00<11:47,  3.37s/it]"
     ]
    },
    {
     "name": "stdout",
     "output_type": "stream",
     "text": [
      "⚠ 본문을 가져오지 못해 Selenium으로 재시도: http://news.mk.co.kr/newsRead.php?no=753805&year=2022\n",
      "✅ 크롤링 완료: K원전 13년만에 부활…이집트 엘다바 3조 건설사업 수주...\n"
     ]
    },
    {
     "name": "stderr",
     "output_type": "stream",
     "text": [
      "📰 뉴스 본문 크롤링 진행:  14%|█▎        | 33/242 [02:05<13:09,  3.78s/it]"
     ]
    },
    {
     "name": "stdout",
     "output_type": "stream",
     "text": [
      "✅ 크롤링 완료: 제일테크노스 \"국내 유일 원전 하이데크 생산...60조 해외 원전 수주 독......\n"
     ]
    },
    {
     "name": "stderr",
     "output_type": "stream",
     "text": [
      "📰 뉴스 본문 크롤링 진행:  14%|█▍        | 34/242 [02:06<10:30,  3.03s/it]"
     ]
    },
    {
     "name": "stdout",
     "output_type": "stream",
     "text": [
      "✅ 크롤링 완료: 원전 르네상스 시대 열렸다...'원전 수출'부터 'SMR'까지...\n"
     ]
    },
    {
     "name": "stderr",
     "output_type": "stream",
     "text": [
      "📰 뉴스 본문 크롤링 진행:  14%|█▍        | 35/242 [02:07<08:49,  2.56s/it]"
     ]
    },
    {
     "name": "stdout",
     "output_type": "stream",
     "text": [
      "✅ 크롤링 완료: 황주호 한수원 신임 사장 취임…원전 수출·혁신형 SMR 탄력받나...\n"
     ]
    },
    {
     "name": "stderr",
     "output_type": "stream",
     "text": [
      "📰 뉴스 본문 크롤링 진행:  15%|█▍        | 36/242 [02:09<07:42,  2.25s/it]"
     ]
    },
    {
     "name": "stdout",
     "output_type": "stream",
     "text": [
      "⚠ 본문을 가져오지 못해 Selenium으로 재시도: https://www.businesspost.co.kr/BP?command=article_view&num=290593\n",
      "✅ 크롤링 완료: [오늘Who] 한수원 황주호 사장 취임 일성, “원전 10기 수출”...\n"
     ]
    },
    {
     "name": "stderr",
     "output_type": "stream",
     "text": [
      "📰 뉴스 본문 크롤링 진행:  15%|█▌        | 37/242 [02:13<09:34,  2.80s/it]"
     ]
    },
    {
     "name": "stdout",
     "output_type": "stream",
     "text": [
      "⚠ 본문을 가져오지 못해 Selenium으로 재시도: https://biz.chosun.com/policy/policy_sub/2022/08/11/LNSHJNBA3RFC7ETAQEOOYDQBDU/?utm_source=naver&utm_medium=original&utm_campaign=biz\n",
      "✅ 크롤링 완료: “원전 수출 낭보 임박했나”…‘논스톱 금융서비스’ 갖춘 장관급 원전......\n"
     ]
    },
    {
     "name": "stderr",
     "output_type": "stream",
     "text": [
      "📰 뉴스 본문 크롤링 진행:  16%|█▌        | 38/242 [02:19<13:13,  3.89s/it]"
     ]
    },
    {
     "name": "stdout",
     "output_type": "stream",
     "text": [
      "✅ 크롤링 완료: 한수원, 이집트 원전 계약 임박…원전 수출 물꼬 틀까...\n"
     ]
    },
    {
     "name": "stderr",
     "output_type": "stream",
     "text": [
      "📰 뉴스 본문 크롤링 진행:  16%|█▌        | 39/242 [02:21<10:30,  3.11s/it]"
     ]
    },
    {
     "name": "stdout",
     "output_type": "stream",
     "text": [
      "✅ 크롤링 완료: [원전강국 부활②] 한수원 정재훈·두산 박지원, 수출 주역된다...\n"
     ]
    },
    {
     "name": "stderr",
     "output_type": "stream",
     "text": [
      "📰 뉴스 본문 크롤링 진행:  17%|█▋        | 40/242 [02:22<08:27,  2.51s/it]"
     ]
    },
    {
     "name": "stdout",
     "output_type": "stream",
     "text": [
      "✅ 크롤링 완료: '원전수출전략 추진위' 출범…\"2022년, 원전 수출 새로운 원년\" 선포...\n"
     ]
    },
    {
     "name": "stderr",
     "output_type": "stream",
     "text": [
      "📰 뉴스 본문 크롤링 진행:  17%|█▋        | 41/242 [02:23<07:13,  2.16s/it]"
     ]
    },
    {
     "name": "stdout",
     "output_type": "stream",
     "text": [
      "✅ 크롤링 완료: 방산·원전 힘 싣는 尹 정부…\"치적 넘어 국가산업으로\"...\n"
     ]
    },
    {
     "name": "stderr",
     "output_type": "stream",
     "text": [
      "📰 뉴스 본문 크롤링 진행:  17%|█▋        | 42/242 [02:25<06:29,  1.95s/it]"
     ]
    },
    {
     "name": "stdout",
     "output_type": "stream",
     "text": [
      "✅ 크롤링 완료: K-원전 13년만 쾌거…힘 실리는 ‘60조’ 수주전...\n"
     ]
    },
    {
     "name": "stderr",
     "output_type": "stream",
     "text": [
      "📰 뉴스 본문 크롤링 진행:  18%|█▊        | 43/242 [02:26<05:47,  1.74s/it]"
     ]
    },
    {
     "name": "stdout",
     "output_type": "stream",
     "text": [
      "⚠ 본문을 가져오지 못해 Selenium으로 재시도: http://www.fnnews.com/news/202208121517494791\n",
      "✅ 크롤링 완료: 이창양, 관료·학계 거친 '혁신통'..원전 회복 성과[취임 100일 성적]...\n"
     ]
    },
    {
     "name": "stderr",
     "output_type": "stream",
     "text": [
      "📰 뉴스 본문 크롤링 진행:  18%|█▊        | 44/242 [02:33<10:53,  3.30s/it]"
     ]
    },
    {
     "name": "stdout",
     "output_type": "stream",
     "text": [
      "✅ 크롤링 완료: 한수원, 체코 원자력계와 MOU 체결…SMR·대형원전 등 협력...\n"
     ]
    },
    {
     "name": "stderr",
     "output_type": "stream",
     "text": [
      "📰 뉴스 본문 크롤링 진행:  19%|█▊        | 45/242 [02:34<08:59,  2.74s/it]"
     ]
    },
    {
     "name": "stdout",
     "output_type": "stream",
     "text": [
      "✅ 크롤링 완료: '원자력' 훈풍 탄 건설업계…대우·두산, 원전사업 전면에...\n"
     ]
    },
    {
     "name": "stderr",
     "output_type": "stream",
     "text": [
      "📰 뉴스 본문 크롤링 진행:  19%|█▉        | 46/242 [02:38<09:35,  2.94s/it]"
     ]
    },
    {
     "name": "stdout",
     "output_type": "stream",
     "text": [
      "⚠ 본문을 가져오지 못해 Selenium으로 재시도: http://www.fnnews.com/news/202208091432326170\n",
      "✅ 크롤링 완료: 원전 패권 재도전 나서는 한수원..잃어버린 5년 되찾을수 있나...\n"
     ]
    },
    {
     "name": "stderr",
     "output_type": "stream",
     "text": [
      "📰 뉴스 본문 크롤링 진행:  19%|█▉        | 47/242 [02:43<11:58,  3.69s/it]"
     ]
    },
    {
     "name": "stdout",
     "output_type": "stream",
     "text": [
      "✅ 크롤링 완료: 정부, '2030년까지 원전 10기 수출' 목표...전담 조직 신설 추진...\n"
     ]
    },
    {
     "name": "stderr",
     "output_type": "stream",
     "text": [
      "📰 뉴스 본문 크롤링 진행:  20%|█▉        | 48/242 [02:45<09:44,  3.01s/it]"
     ]
    },
    {
     "name": "stdout",
     "output_type": "stream",
     "text": [
      "⚠ 본문을 가져오지 못해 Selenium으로 재시도: http://news.mk.co.kr/newsRead.php?no=623349&year=2022\n",
      "✅ 크롤링 완료: 한국수력원자력, 유럽 원전시장 집중공략…체코·폴란드 신규 수주 총력...\n"
     ]
    },
    {
     "name": "stderr",
     "output_type": "stream",
     "text": [
      "📰 뉴스 본문 크롤링 진행:  20%|██        | 49/242 [02:50<11:38,  3.62s/it]"
     ]
    },
    {
     "name": "stdout",
     "output_type": "stream",
     "text": [
      "✅ 크롤링 완료: 대한전기협회, 원전 수출 관련 국내외 현황 공유...\n"
     ]
    },
    {
     "name": "stderr",
     "output_type": "stream",
     "text": [
      "📰 뉴스 본문 크롤링 진행:  21%|██        | 50/242 [02:51<09:44,  3.05s/it]"
     ]
    },
    {
     "name": "stdout",
     "output_type": "stream",
     "text": [
      "✅ 크롤링 완료: [SR건설부동산] 건설사 '차세대 원전' SMR 해외시장 진출 본격화...\n"
     ]
    },
    {
     "name": "stderr",
     "output_type": "stream",
     "text": [
      "📰 뉴스 본문 크롤링 진행:  21%|██        | 51/242 [02:53<07:58,  2.50s/it]"
     ]
    },
    {
     "name": "stdout",
     "output_type": "stream",
     "text": [
      "⚠ 본문을 가져오지 못해 Selenium으로 재시도: https://www.asiatime.co.kr/article/20220704500101\n",
      "✅ 크롤링 완료: '초고유가' 속 힘 받는 원전…尹 '세일즈 외교'로 수출 탄력받나...\n"
     ]
    },
    {
     "name": "stderr",
     "output_type": "stream",
     "text": [
      "📰 뉴스 본문 크롤링 진행:  21%|██▏       | 52/242 [02:59<11:42,  3.70s/it]"
     ]
    },
    {
     "name": "stdout",
     "output_type": "stream",
     "text": [
      "⚠ 본문을 가져오지 못해 Selenium으로 재시도: http://www.mediapen.com/news/view/735568\n",
      "✅ 크롤링 완료: K-방산·원전, 정부 지원사격 힘입어 글로벌 비즈니스 박차...\n"
     ]
    },
    {
     "name": "stderr",
     "output_type": "stream",
     "text": [
      "📰 뉴스 본문 크롤링 진행:  22%|██▏       | 53/242 [03:03<12:20,  3.92s/it]"
     ]
    },
    {
     "name": "stdout",
     "output_type": "stream",
     "text": [
      "✅ 크롤링 완료: ‘탈원전 유턴’ EU택소노미, 원전 친환경 포함…원전株·원전ETF 영향은......\n"
     ]
    },
    {
     "name": "stderr",
     "output_type": "stream",
     "text": [
      "📰 뉴스 본문 크롤링 진행:  22%|██▏       | 54/242 [03:05<09:40,  3.09s/it]"
     ]
    },
    {
     "name": "stdout",
     "output_type": "stream",
     "text": [
      "⚠ 본문을 가져오지 못해 Selenium으로 재시도: http://www.kookje.co.kr/news2011/asp/newsbody.asp?code=0100&key=20220701.33004008855\n",
      "✅ 크롤링 완료: 윤 대통령, 한미일 안보협력 복원…체코·영국 정상 만나 ‘원전 세일즈......\n"
     ]
    },
    {
     "name": "stderr",
     "output_type": "stream",
     "text": [
      "📰 뉴스 본문 크롤링 진행:  23%|██▎       | 55/242 [03:09<11:07,  3.57s/it]"
     ]
    },
    {
     "name": "stdout",
     "output_type": "stream",
     "text": [
      "⚠ 본문을 가져오지 못해 Selenium으로 재시도: https://www.khan.co.kr/opinion/contribution/article/202207130300015\n",
      "✅ 크롤링 완료: [기고] 원전 기자재 중소기업의 수출 열쇠는 보증지원에 있다...\n"
     ]
    },
    {
     "name": "stderr",
     "output_type": "stream",
     "text": [
      "📰 뉴스 본문 크롤링 진행:  23%|██▎       | 56/242 [03:19<16:50,  5.43s/it]"
     ]
    },
    {
     "name": "stdout",
     "output_type": "stream",
     "text": [
      "✅ 크롤링 완료: 두산에너빌리티, 유럽 원전 시장 개척 선봉 나서...\n"
     ]
    },
    {
     "name": "stderr",
     "output_type": "stream",
     "text": [
      "📰 뉴스 본문 크롤링 진행:  24%|██▎       | 57/242 [03:20<13:03,  4.24s/it]"
     ]
    },
    {
     "name": "stdout",
     "output_type": "stream",
     "text": [
      "✅ 크롤링 완료: 윤 대통령 \"체코 원전 참여할 수 있도록 특별히 관심 써 달라\"...\n"
     ]
    },
    {
     "name": "stderr",
     "output_type": "stream",
     "text": [
      "📰 뉴스 본문 크롤링 진행:  24%|██▍       | 58/242 [03:22<10:11,  3.32s/it]"
     ]
    },
    {
     "name": "stdout",
     "output_type": "stream",
     "text": [
      "⚠ 본문을 가져오지 못해 Selenium으로 재시도: http://www.fnnews.com/news/202207031838568399\n",
      "✅ 크롤링 완료: EU는 주력 수출시장… 방산·원전 '세일즈 외교' 결실 보인다 [尹대통령......\n"
     ]
    },
    {
     "name": "stderr",
     "output_type": "stream",
     "text": [
      "📰 뉴스 본문 크롤링 진행:  24%|██▍       | 59/242 [03:27<11:57,  3.92s/it]"
     ]
    },
    {
     "name": "stdout",
     "output_type": "stream",
     "text": [
      "✅ 크롤링 완료: 대통령이 밀어주는 원전 어디에 투자? \"종목 찾지말고 여기 담아라\"...\n"
     ]
    },
    {
     "name": "stderr",
     "output_type": "stream",
     "text": [
      "📰 뉴스 본문 크롤링 진행:  25%|██▍       | 60/242 [03:29<09:49,  3.24s/it]"
     ]
    },
    {
     "name": "stdout",
     "output_type": "stream",
     "text": [
      "✅ 크롤링 완료: [에너지 뉴스] 한전기술, 체코·폴란드 신규원전사업 협력 추진 外...\n"
     ]
    },
    {
     "name": "stderr",
     "output_type": "stream",
     "text": [
      "📰 뉴스 본문 크롤링 진행:  25%|██▌       | 61/242 [03:30<07:56,  2.63s/it]"
     ]
    },
    {
     "name": "stdout",
     "output_type": "stream",
     "text": [
      "✅ 크롤링 완료: [윤석열 대통령 나토行 성과와 과제①] 외교 무대 데뷔전..원전·방산 세......\n"
     ]
    },
    {
     "name": "stderr",
     "output_type": "stream",
     "text": [
      "📰 뉴스 본문 크롤링 진행:  26%|██▌       | 62/242 [03:31<06:37,  2.21s/it]"
     ]
    },
    {
     "name": "stdout",
     "output_type": "stream",
     "text": [
      "⚠ 본문을 가져오지 못해 Selenium으로 재시도: http://www.mbn.co.kr/pages/news/newsView.php?news_seq_no=4795595\n",
      "✅ 크롤링 완료: 원전·방산 세일즈 '성과'…대중국 외교 '과제'...\n"
     ]
    },
    {
     "name": "stderr",
     "output_type": "stream",
     "text": [
      "📰 뉴스 본문 크롤링 진행:  26%|██▌       | 63/242 [03:38<10:39,  3.58s/it]"
     ]
    },
    {
     "name": "stdout",
     "output_type": "stream",
     "text": [
      "⚠ 본문을 가져오지 못해 Selenium으로 재시도: https://www.ytn.co.kr/_ln/0101_202207010013595109\n",
      "✅ 크롤링 완료: 尹, 체코 회담서 '원전 세일즈'...나토 총장 면담으로 마무리...\n"
     ]
    },
    {
     "name": "stderr",
     "output_type": "stream",
     "text": [
      "📰 뉴스 본문 크롤링 진행:  26%|██▋       | 64/242 [03:44<12:40,  4.27s/it]"
     ]
    },
    {
     "name": "stdout",
     "output_type": "stream",
     "text": [
      "⚠ 본문을 가져오지 못해 Selenium으로 재시도: https://www.businesspost.co.kr/BP?command=article_view&num=293877\n",
      "✅ 크롤링 완료: [Who Is ?] 황주호 한국수력원자력 사장...\n"
     ]
    },
    {
     "name": "stderr",
     "output_type": "stream",
     "text": [
      "📰 뉴스 본문 크롤링 진행:  27%|██▋       | 65/242 [03:48<12:22,  4.20s/it]"
     ]
    },
    {
     "name": "stdout",
     "output_type": "stream",
     "text": [
      "⚠ 본문을 가져오지 못해 Selenium으로 재시도: http://www.yonhapnewstv.co.kr/MYH20220828000900641/?input=1825m\n",
      "✅ 크롤링 완료: 줄잇는 원전 발주…체코·폴란드도 수주 '기대'...\n"
     ]
    },
    {
     "name": "stderr",
     "output_type": "stream",
     "text": [
      "📰 뉴스 본문 크롤링 진행:  27%|██▋       | 66/242 [03:54<13:40,  4.66s/it]"
     ]
    },
    {
     "name": "stdout",
     "output_type": "stream",
     "text": [
      "⚠ 본문을 가져오지 못해 Selenium으로 재시도: https://www.khan.co.kr/economy/business/article/202208252225015\n",
      "✅ 크롤링 완료: 한수원, 3조원 규모 이집트 원전 건설 수주...\n"
     ]
    },
    {
     "name": "stderr",
     "output_type": "stream",
     "text": [
      "📰 뉴스 본문 크롤링 진행:  28%|██▊       | 67/242 [04:09<23:13,  7.96s/it]"
     ]
    },
    {
     "name": "stdout",
     "output_type": "stream",
     "text": [
      "✅ 크롤링 완료: 한수원, 황주호 신임 사장 22일 취임…해외원전 세일즈 기대...\n"
     ]
    },
    {
     "name": "stderr",
     "output_type": "stream",
     "text": [
      "📰 뉴스 본문 크롤링 진행:  28%|██▊       | 68/242 [04:10<17:16,  5.96s/it]"
     ]
    },
    {
     "name": "stdout",
     "output_type": "stream",
     "text": [
      "✅ 크롤링 완료: 한수원 신임 사장에 황주호 전 교수…원전 수주·기술개발 현안 과제(종......\n"
     ]
    },
    {
     "name": "stderr",
     "output_type": "stream",
     "text": [
      "📰 뉴스 본문 크롤링 진행:  29%|██▊       | 69/242 [04:12<13:12,  4.58s/it]"
     ]
    },
    {
     "name": "stdout",
     "output_type": "stream",
     "text": [
      "✅ 크롤링 완료: [尹정부 출범 100일] 원전에 '올인'한 정부…에너지 시장 '요동'...\n"
     ]
    },
    {
     "name": "stderr",
     "output_type": "stream",
     "text": [
      "📰 뉴스 본문 크롤링 진행:  29%|██▉       | 70/242 [04:13<10:14,  3.58s/it]"
     ]
    },
    {
     "name": "stdout",
     "output_type": "stream",
     "text": [
      "✅ 크롤링 완료: [에너지 뉴스] 한수원, 체코 봉사활동 재개…원전사업 지역에 봉사단 파......\n"
     ]
    },
    {
     "name": "stderr",
     "output_type": "stream",
     "text": [
      "📰 뉴스 본문 크롤링 진행:  29%|██▉       | 71/242 [04:14<08:15,  2.90s/it]"
     ]
    },
    {
     "name": "stdout",
     "output_type": "stream",
     "text": [
      "✅ 크롤링 완료: [K-원전 리바이벌]① 바라카로 증명한 '기술력'…체코서 재현될까?...\n"
     ]
    },
    {
     "name": "stderr",
     "output_type": "stream",
     "text": [
      "📰 뉴스 본문 크롤링 진행:  30%|██▉       | 72/242 [04:16<06:44,  2.38s/it]"
     ]
    },
    {
     "name": "stdout",
     "output_type": "stream",
     "text": [
      "✅ 크롤링 완료: 원전수출전략추진단→원전수출위로 격상…이달 중 출범 예정...\n"
     ]
    },
    {
     "name": "stderr",
     "output_type": "stream",
     "text": [
      "📰 뉴스 본문 크롤링 진행:  30%|███       | 73/242 [04:17<05:54,  2.10s/it]"
     ]
    },
    {
     "name": "stdout",
     "output_type": "stream",
     "text": [
      "⚠ 본문을 가져오지 못해 Selenium으로 재시도: http://www.edaily.co.kr/news/newspath.asp?newsid=01328406632458152\n",
      "✅ 크롤링 완료: 대우건설, 수익성 높은 해외현장 보유…적극 매수할 때 -한국...\n"
     ]
    },
    {
     "name": "stderr",
     "output_type": "stream",
     "text": [
      "📰 뉴스 본문 크롤링 진행:  31%|███       | 74/242 [04:23<09:15,  3.31s/it]"
     ]
    },
    {
     "name": "stdout",
     "output_type": "stream",
     "text": [
      "✅ 크롤링 완료: 한신기계, 주가 오름세 나타내…산업부, '원전수출국' 출범 예고...\n"
     ]
    },
    {
     "name": "stderr",
     "output_type": "stream",
     "text": [
      "📰 뉴스 본문 크롤링 진행:  31%|███       | 75/242 [04:24<07:31,  2.70s/it]"
     ]
    },
    {
     "name": "stdout",
     "output_type": "stream",
     "text": [
      "⚠ 본문을 가져오지 못해 Selenium으로 재시도: http://www.wsobi.com/news/articleView.html?idxno=168728\n",
      "✅ 크롤링 완료: 정부 '수출조직강화, 친환경 지정'...산업계 원전 생태계 회복 기대감 커......\n"
     ]
    },
    {
     "name": "stderr",
     "output_type": "stream",
     "text": [
      "📰 뉴스 본문 크롤링 진행:  31%|███▏      | 76/242 [04:28<08:34,  3.10s/it]"
     ]
    },
    {
     "name": "stdout",
     "output_type": "stream",
     "text": [
      "✅ 크롤링 완료: 산업부, 원전 수출 조직 강화…새 정부 국정과제 이행 속도...\n"
     ]
    },
    {
     "name": "stderr",
     "output_type": "stream",
     "text": [
      "📰 뉴스 본문 크롤링 진행:  32%|███▏      | 77/242 [04:30<07:07,  2.59s/it]"
     ]
    },
    {
     "name": "stdout",
     "output_type": "stream",
     "text": [
      "⚠ 본문을 가져오지 못해 Selenium으로 재시도: http://www.fntimes.com/html/view.php?ud=202207160529409666dd55077bc2_18\n",
      "✅ 크롤링 완료: 백정완 대우건설 사장 “원전 전 사이클 소화하는 유일한 건설사” [건......\n"
     ]
    },
    {
     "name": "stderr",
     "output_type": "stream",
     "text": [
      "📰 뉴스 본문 크롤링 진행:  32%|███▏      | 78/242 [04:36<10:22,  3.80s/it]"
     ]
    },
    {
     "name": "stdout",
     "output_type": "stream",
     "text": [
      "✅ 크롤링 완료: [사설] 해외 신규원전 수주, 출발점에 서다...\n"
     ]
    },
    {
     "name": "stderr",
     "output_type": "stream",
     "text": [
      "📰 뉴스 본문 크롤링 진행:  33%|███▎      | 79/242 [04:38<08:11,  3.01s/it]"
     ]
    },
    {
     "name": "stdout",
     "output_type": "stream",
     "text": [
      "✅ 크롤링 완료: [이창양 취임 50일] 원전세일즈·한미동맹 강화 성과…무역적자는 과제...\n"
     ]
    },
    {
     "name": "stderr",
     "output_type": "stream",
     "text": [
      "📰 뉴스 본문 크롤링 진행:  33%|███▎      | 80/242 [04:39<06:51,  2.54s/it]"
     ]
    },
    {
     "name": "stdout",
     "output_type": "stream",
     "text": [
      "✅ 크롤링 완료: [공기UP, 현장에서]기자재 기업 수주기회 제공…\"일감 가뭄에 단비\"...\n"
     ]
    },
    {
     "name": "stderr",
     "output_type": "stream",
     "text": [
      "📰 뉴스 본문 크롤링 진행:  33%|███▎      | 81/242 [04:40<05:50,  2.17s/it]"
     ]
    },
    {
     "name": "stdout",
     "output_type": "stream",
     "text": [
      "✅ 크롤링 완료: '탈원전 폐기' 공식화…원전비중 확대에 업계 기대감-환경단체 반대...\n"
     ]
    },
    {
     "name": "stderr",
     "output_type": "stream",
     "text": [
      "📰 뉴스 본문 크롤링 진행:  34%|███▍      | 82/242 [04:42<05:06,  1.92s/it]"
     ]
    },
    {
     "name": "stdout",
     "output_type": "stream",
     "text": [
      "✅ 크롤링 완료: [새정부 에너지정책] 에너지업계 희비교차…원전 ‘기대감’ 재생에너......\n"
     ]
    },
    {
     "name": "stderr",
     "output_type": "stream",
     "text": [
      "📰 뉴스 본문 크롤링 진행:  34%|███▍      | 83/242 [04:43<04:30,  1.70s/it]"
     ]
    },
    {
     "name": "stdout",
     "output_type": "stream",
     "text": [
      "⚠ 본문을 가져오지 못해 Selenium으로 재시도: http://www.mediapen.com/news/view/735846\n",
      "✅ 크롤링 완료: '탈원전 백지화'에 건설업계 원전 신사업 확대 '본격화'...\n"
     ]
    },
    {
     "name": "stderr",
     "output_type": "stream",
     "text": [
      "📰 뉴스 본문 크롤링 진행:  35%|███▍      | 84/242 [04:48<06:50,  2.60s/it]"
     ]
    },
    {
     "name": "stdout",
     "output_type": "stream",
     "text": [
      "✅ 크롤링 완료: 경제태풍 속 전장ㆍ로봇 등 ‘미래먹거리 5총사’로 수출부진 타개...\n"
     ]
    },
    {
     "name": "stderr",
     "output_type": "stream",
     "text": [
      "📰 뉴스 본문 크롤링 진행:  35%|███▌      | 85/242 [04:49<05:45,  2.20s/it]"
     ]
    },
    {
     "name": "stdout",
     "output_type": "stream",
     "text": [
      "✅ 크롤링 완료: [이슈분석] 한수원 새 사장 선임 '지지부진'서 '일사천리'로 바뀐 배경은......\n"
     ]
    },
    {
     "name": "stderr",
     "output_type": "stream",
     "text": [
      "📰 뉴스 본문 크롤링 진행:  36%|███▌      | 86/242 [04:50<04:56,  1.90s/it]"
     ]
    },
    {
     "name": "stdout",
     "output_type": "stream",
     "text": [
      "⚠ 본문을 가져오지 못해 Selenium으로 재시도: https://www.theguru.co.kr/news/article.html?no=40302\n",
      "✅ 크롤링 완료: 한수원, 체코 봉사활동 2년 만에 재개…물밑 수주전...\n"
     ]
    },
    {
     "name": "stderr",
     "output_type": "stream",
     "text": [
      "📰 뉴스 본문 크롤링 진행:  36%|███▌      | 87/242 [04:55<07:09,  2.77s/it]"
     ]
    },
    {
     "name": "stdout",
     "output_type": "stream",
     "text": [
      "✅ 크롤링 완료: 윤, 탈원전 지운다… 2030년까지 10기 수출 추진, 전담조직 신설...\n"
     ]
    },
    {
     "name": "stderr",
     "output_type": "stream",
     "text": [
      "📰 뉴스 본문 크롤링 진행:  36%|███▋      | 88/242 [04:56<06:04,  2.37s/it]"
     ]
    },
    {
     "name": "stdout",
     "output_type": "stream",
     "text": [
      "✅ 크롤링 완료: 우리기술 시간외거래까지 상승세?...7거래일 연속 상승...\n"
     ]
    },
    {
     "name": "stderr",
     "output_type": "stream",
     "text": [
      "📰 뉴스 본문 크롤링 진행:  37%|███▋      | 89/242 [04:58<05:27,  2.14s/it]"
     ]
    },
    {
     "name": "stdout",
     "output_type": "stream",
     "text": [
      "✅ 크롤링 완료: [김경민의 이코노믹스] 원자로 한번 수출하면 100년 넘게 돈 벌어...\n"
     ]
    },
    {
     "name": "stderr",
     "output_type": "stream",
     "text": [
      "📰 뉴스 본문 크롤링 진행:  37%|███▋      | 90/242 [04:59<04:44,  1.87s/it]"
     ]
    },
    {
     "name": "stdout",
     "output_type": "stream",
     "text": [
      "✅ 크롤링 완료: 두산에너빌리티 주가, 주춤했다 다시 상승세...호재 총정리 및 새로운 ......\n"
     ]
    },
    {
     "name": "stderr",
     "output_type": "stream",
     "text": [
      "📰 뉴스 본문 크롤링 진행:  38%|███▊      | 91/242 [05:00<04:16,  1.70s/it]"
     ]
    },
    {
     "name": "stdout",
     "output_type": "stream",
     "text": [
      "✅ 크롤링 완료: 두산에너빌리티 주가 왜 계속 오를까...호재 총정리...\n"
     ]
    },
    {
     "name": "stderr",
     "output_type": "stream",
     "text": [
      "📰 뉴스 본문 크롤링 진행:  38%|███▊      | 92/242 [05:02<03:55,  1.57s/it]"
     ]
    },
    {
     "name": "stdout",
     "output_type": "stream",
     "text": [
      "✅ 크롤링 완료: [특징주] 두산에너빌리티 주가 '상승세' 지속...새로운 호재는?...\n"
     ]
    },
    {
     "name": "stderr",
     "output_type": "stream",
     "text": [
      "📰 뉴스 본문 크롤링 진행:  38%|███▊      | 93/242 [05:03<03:38,  1.47s/it]"
     ]
    },
    {
     "name": "stdout",
     "output_type": "stream",
     "text": [
      "✅ 크롤링 완료: [특징주] 두산에너빌리티 주가 상승 '60조 원전 수주전 기대감'...\n"
     ]
    },
    {
     "name": "stderr",
     "output_type": "stream",
     "text": [
      "📰 뉴스 본문 크롤링 진행:  39%|███▉      | 94/242 [05:04<03:28,  1.41s/it]"
     ]
    },
    {
     "name": "stdout",
     "output_type": "stream",
     "text": [
      "✅ 크롤링 완료: [尹정부 출범 100일] 'Y노믹스' 초기 성적표는---시장경제, 민간주도 성......\n"
     ]
    },
    {
     "name": "stderr",
     "output_type": "stream",
     "text": [
      "📰 뉴스 본문 크롤링 진행:  39%|███▉      | 95/242 [05:05<03:20,  1.36s/it]"
     ]
    },
    {
     "name": "stdout",
     "output_type": "stream",
     "text": [
      "✅ 크롤링 완료: 아파트만 짓는 것은 옛말, 건설사 새 먹거리 발굴 분주...\n"
     ]
    },
    {
     "name": "stderr",
     "output_type": "stream",
     "text": [
      "📰 뉴스 본문 크롤링 진행:  40%|███▉      | 96/242 [05:07<03:16,  1.34s/it]"
     ]
    },
    {
     "name": "stdout",
     "output_type": "stream",
     "text": [
      "⚠ 본문을 가져오지 못해 Selenium으로 재시도: http://news.mk.co.kr/newsRead.php?no=623308&year=2022\n",
      "✅ 크롤링 완료: \"여름철 국민 편의 최우선\"…팔 걷어붙인 공기업...\n"
     ]
    },
    {
     "name": "stderr",
     "output_type": "stream",
     "text": [
      "📰 뉴스 본문 크롤링 진행:  40%|████      | 97/242 [05:11<05:30,  2.28s/it]"
     ]
    },
    {
     "name": "stdout",
     "output_type": "stream",
     "text": [
      "✅ 크롤링 완료: 유럽 ‘50조 원전’ 수주전… 韓 기술력 vs 美佛 외교력...\n"
     ]
    },
    {
     "name": "stderr",
     "output_type": "stream",
     "text": [
      "📰 뉴스 본문 크롤링 진행:  40%|████      | 98/242 [05:12<04:43,  1.97s/it]"
     ]
    },
    {
     "name": "stdout",
     "output_type": "stream",
     "text": [
      "✅ 크롤링 완료: [인터뷰-김창수 대한전기협회 KEPIC본부장] KEPIC 글로벌 표준화로 제2 ......\n"
     ]
    },
    {
     "name": "stderr",
     "output_type": "stream",
     "text": [
      "📰 뉴스 본문 크롤링 진행:  41%|████      | 99/242 [05:14<04:05,  1.71s/it]"
     ]
    },
    {
     "name": "stdout",
     "output_type": "stream",
     "text": [
      "⚠ 본문을 가져오지 못해 Selenium으로 재시도: http://www.yonhapnewstv.co.kr/MYH20220701006100038/?input=1825m\n",
      "✅ 크롤링 완료: 윤대통령, 스페인 방문 마치고 오전 귀국…마지막날도 세일즈 외교...\n"
     ]
    },
    {
     "name": "stderr",
     "output_type": "stream",
     "text": [
      "📰 뉴스 본문 크롤링 진행:  41%|████▏     | 100/242 [05:19<06:45,  2.85s/it]"
     ]
    },
    {
     "name": "stdout",
     "output_type": "stream",
     "text": [
      "✅ 크롤링 완료: 방산·원전 힘 싣는 尹 정부…\"치적 넘어 국가산업으로\"...\n"
     ]
    },
    {
     "name": "stderr",
     "output_type": "stream",
     "text": [
      "📰 뉴스 본문 크롤링 진행:  42%|████▏     | 101/242 [05:20<05:29,  2.34s/it]"
     ]
    },
    {
     "name": "stdout",
     "output_type": "stream",
     "text": [
      "✅ 크롤링 완료: K택소노미 긴급진단(하), \"원전 짓게 돈 좀 다오\"…유럽 요구 이렇게 대......\n"
     ]
    },
    {
     "name": "stderr",
     "output_type": "stream",
     "text": [
      "📰 뉴스 본문 크롤링 진행:  42%|████▏     | 102/242 [05:22<04:52,  2.09s/it]"
     ]
    },
    {
     "name": "stdout",
     "output_type": "stream",
     "text": [
      "✅ 크롤링 완료: K-원전 13년만 쾌거…힘 실리는 ‘60조’ 수주전...\n"
     ]
    },
    {
     "name": "stderr",
     "output_type": "stream",
     "text": [
      "📰 뉴스 본문 크롤링 진행:  43%|████▎     | 103/242 [05:23<04:15,  1.83s/it]"
     ]
    },
    {
     "name": "stdout",
     "output_type": "stream",
     "text": [
      "⚠ 본문을 가져오지 못해 Selenium으로 재시도: http://www.fnnews.com/news/202208121517494791\n",
      "✅ 크롤링 완료: 이창양, 관료·학계 거친 '혁신통'..원전 회복 성과[취임 100일 성적]...\n"
     ]
    },
    {
     "name": "stderr",
     "output_type": "stream",
     "text": [
      "📰 뉴스 본문 크롤링 진행:  43%|████▎     | 104/242 [05:29<06:47,  2.96s/it]"
     ]
    },
    {
     "name": "stdout",
     "output_type": "stream",
     "text": [
      "✅ 크롤링 완료: 한수원, 체코 원자력계와 MOU 체결…SMR·대형원전 등 협력...\n"
     ]
    },
    {
     "name": "stderr",
     "output_type": "stream",
     "text": [
      "📰 뉴스 본문 크롤링 진행:  43%|████▎     | 105/242 [05:30<05:50,  2.56s/it]"
     ]
    },
    {
     "name": "stdout",
     "output_type": "stream",
     "text": [
      "✅ 크롤링 완료: '원자력' 훈풍 탄 건설업계…대우·두산, 원전사업 전면에...\n"
     ]
    },
    {
     "name": "stderr",
     "output_type": "stream",
     "text": [
      "📰 뉴스 본문 크롤링 진행:  44%|████▍     | 106/242 [05:32<05:03,  2.23s/it]"
     ]
    },
    {
     "name": "stdout",
     "output_type": "stream",
     "text": [
      "⚠ 본문을 가져오지 못해 Selenium으로 재시도: http://www.fnnews.com/news/202208091432326170\n",
      "✅ 크롤링 완료: 원전 패권 재도전 나서는 한수원..잃어버린 5년 되찾을수 있나...\n"
     ]
    },
    {
     "name": "stderr",
     "output_type": "stream",
     "text": [
      "📰 뉴스 본문 크롤링 진행:  44%|████▍     | 107/242 [05:37<07:19,  3.26s/it]"
     ]
    },
    {
     "name": "stdout",
     "output_type": "stream",
     "text": [
      "✅ 크롤링 완료: 정부, '2030년까지 원전 10기 수출' 목표...전담 조직 신설 추진...\n"
     ]
    },
    {
     "name": "stderr",
     "output_type": "stream",
     "text": [
      "📰 뉴스 본문 크롤링 진행:  45%|████▍     | 108/242 [05:39<06:02,  2.71s/it]"
     ]
    },
    {
     "name": "stdout",
     "output_type": "stream",
     "text": [
      "⚠ 본문을 가져오지 못해 Selenium으로 재시도: http://news.mk.co.kr/newsRead.php?no=623349&year=2022\n",
      "✅ 크롤링 완료: 한국수력원자력, 유럽 원전시장 집중공략…체코·폴란드 신규 수주 총력...\n"
     ]
    },
    {
     "name": "stderr",
     "output_type": "stream",
     "text": [
      "📰 뉴스 본문 크롤링 진행:  45%|████▌     | 109/242 [05:43<07:03,  3.18s/it]"
     ]
    },
    {
     "name": "stdout",
     "output_type": "stream",
     "text": [
      "✅ 크롤링 완료: 대한전기협회, 원전 수출 관련 국내외 현황 공유...\n"
     ]
    },
    {
     "name": "stderr",
     "output_type": "stream",
     "text": [
      "📰 뉴스 본문 크롤링 진행:  45%|████▌     | 110/242 [05:44<05:38,  2.56s/it]"
     ]
    },
    {
     "name": "stdout",
     "output_type": "stream",
     "text": [
      "✅ 크롤링 완료: [SR건설부동산] 건설사 '차세대 원전' SMR 해외시장 진출 본격화...\n"
     ]
    },
    {
     "name": "stderr",
     "output_type": "stream",
     "text": [
      "📰 뉴스 본문 크롤링 진행:  46%|████▌     | 111/242 [05:45<04:43,  2.17s/it]"
     ]
    },
    {
     "name": "stdout",
     "output_type": "stream",
     "text": [
      "⚠ 본문을 가져오지 못해 Selenium으로 재시도: https://www.asiatime.co.kr/article/20220704500101\n",
      "✅ 크롤링 완료: '초고유가' 속 힘 받는 원전…尹 '세일즈 외교'로 수출 탄력받나...\n"
     ]
    },
    {
     "name": "stderr",
     "output_type": "stream",
     "text": [
      "📰 뉴스 본문 크롤링 진행:  46%|████▋     | 112/242 [05:51<06:49,  3.15s/it]"
     ]
    },
    {
     "name": "stdout",
     "output_type": "stream",
     "text": [
      "⚠ 본문을 가져오지 못해 Selenium으로 재시도: http://www.mediapen.com/news/view/735568\n",
      "✅ 크롤링 완료: K-방산·원전, 정부 지원사격 힘입어 글로벌 비즈니스 박차...\n"
     ]
    },
    {
     "name": "stderr",
     "output_type": "stream",
     "text": [
      "📰 뉴스 본문 크롤링 진행:  47%|████▋     | 113/242 [05:55<07:40,  3.57s/it]"
     ]
    },
    {
     "name": "stdout",
     "output_type": "stream",
     "text": [
      "✅ 크롤링 완료: ‘탈원전 유턴’ EU택소노미, 원전 친환경 포함…원전株·원전ETF 영향은......\n"
     ]
    },
    {
     "name": "stderr",
     "output_type": "stream",
     "text": [
      "📰 뉴스 본문 크롤링 진행:  47%|████▋     | 114/242 [05:57<06:03,  2.84s/it]"
     ]
    },
    {
     "name": "stdout",
     "output_type": "stream",
     "text": [
      "⚠ 본문을 가져오지 못해 Selenium으로 재시도: http://www.kookje.co.kr/news2011/asp/newsbody.asp?code=0100&key=20220701.33004008855\n",
      "✅ 크롤링 완료: 윤 대통령, 한미일 안보협력 복원…체코·영국 정상 만나 ‘원전 세일즈......\n"
     ]
    },
    {
     "name": "stderr",
     "output_type": "stream",
     "text": [
      "📰 뉴스 본문 크롤링 진행:  48%|████▊     | 115/242 [06:00<06:40,  3.15s/it]"
     ]
    },
    {
     "name": "stdout",
     "output_type": "stream",
     "text": [
      "⚠ 본문을 가져오지 못해 Selenium으로 재시도: https://www.khan.co.kr/opinion/contribution/article/202207130300015\n",
      "✅ 크롤링 완료: [기고] 원전 기자재 중소기업의 수출 열쇠는 보증지원에 있다...\n"
     ]
    },
    {
     "name": "stderr",
     "output_type": "stream",
     "text": [
      "📰 뉴스 본문 크롤링 진행:  48%|████▊     | 116/242 [06:13<12:52,  6.13s/it]"
     ]
    },
    {
     "name": "stdout",
     "output_type": "stream",
     "text": [
      "✅ 크롤링 완료: 두산에너빌리티, 유럽 원전 시장 개척 선봉 나서...\n"
     ]
    },
    {
     "name": "stderr",
     "output_type": "stream",
     "text": [
      "📰 뉴스 본문 크롤링 진행:  48%|████▊     | 117/242 [06:15<09:39,  4.64s/it]"
     ]
    },
    {
     "name": "stdout",
     "output_type": "stream",
     "text": [
      "✅ 크롤링 완료: 윤 대통령 \"체코 원전 참여할 수 있도록 특별히 관심 써 달라\"...\n"
     ]
    },
    {
     "name": "stderr",
     "output_type": "stream",
     "text": [
      "📰 뉴스 본문 크롤링 진행:  49%|████▉     | 118/242 [06:16<07:25,  3.59s/it]"
     ]
    },
    {
     "name": "stdout",
     "output_type": "stream",
     "text": [
      "⚠ 본문을 가져오지 못해 Selenium으로 재시도: http://www.fnnews.com/news/202207031838568399\n",
      "✅ 크롤링 완료: EU는 주력 수출시장… 방산·원전 '세일즈 외교' 결실 보인다 [尹대통령......\n"
     ]
    },
    {
     "name": "stderr",
     "output_type": "stream",
     "text": [
      "📰 뉴스 본문 크롤링 진행:  49%|████▉     | 119/242 [06:22<09:10,  4.47s/it]"
     ]
    },
    {
     "name": "stdout",
     "output_type": "stream",
     "text": [
      "✅ 크롤링 완료: 대통령이 밀어주는 원전 어디에 투자? \"종목 찾지말고 여기 담아라\"...\n"
     ]
    },
    {
     "name": "stderr",
     "output_type": "stream",
     "text": [
      "📰 뉴스 본문 크롤링 진행:  50%|████▉     | 120/242 [06:24<07:19,  3.60s/it]"
     ]
    },
    {
     "name": "stdout",
     "output_type": "stream",
     "text": [
      "✅ 크롤링 완료: 대통령이 밀어주는 원전 어디에 투자? \"종목 찾지말고 여기 담아라\"...\n"
     ]
    },
    {
     "name": "stderr",
     "output_type": "stream",
     "text": [
      "📰 뉴스 본문 크롤링 진행:  50%|█████     | 121/242 [06:27<06:45,  3.36s/it]"
     ]
    },
    {
     "name": "stdout",
     "output_type": "stream",
     "text": [
      "✅ 크롤링 완료: [에너지 뉴스] 한전기술, 체코·폴란드 신규원전사업 협력 추진 外...\n"
     ]
    },
    {
     "name": "stderr",
     "output_type": "stream",
     "text": [
      "📰 뉴스 본문 크롤링 진행:  50%|█████     | 122/242 [06:28<05:27,  2.73s/it]"
     ]
    },
    {
     "name": "stdout",
     "output_type": "stream",
     "text": [
      "✅ 크롤링 완료: [윤석열 대통령 나토行 성과와 과제①] 외교 무대 데뷔전..원전·방산 세......\n"
     ]
    },
    {
     "name": "stderr",
     "output_type": "stream",
     "text": [
      "📰 뉴스 본문 크롤링 진행:  51%|█████     | 123/242 [06:29<04:26,  2.24s/it]"
     ]
    },
    {
     "name": "stdout",
     "output_type": "stream",
     "text": [
      "⚠ 본문을 가져오지 못해 Selenium으로 재시도: https://news.kmib.co.kr/article/view.asp?arcid=0924253135&code=11121600&cp=nv\n",
      "✅ 크롤링 완료: 尹, 영국·체코와 원전 협력 논의… 마지막날까지 세일즈 외교...\n"
     ]
    },
    {
     "name": "stderr",
     "output_type": "stream",
     "text": [
      "📰 뉴스 본문 크롤링 진행:  51%|█████     | 124/242 [06:34<06:12,  3.16s/it]"
     ]
    },
    {
     "name": "stdout",
     "output_type": "stream",
     "text": [
      "⚠ 본문을 가져오지 못해 Selenium으로 재시도: http://www.mbn.co.kr/pages/news/newsView.php?news_seq_no=4795595\n",
      "✅ 크롤링 완료: 원전·방산 세일즈 '성과'…대중국 외교 '과제'...\n"
     ]
    },
    {
     "name": "stderr",
     "output_type": "stream",
     "text": [
      "📰 뉴스 본문 크롤링 진행:  52%|█████▏    | 125/242 [06:42<08:35,  4.41s/it]"
     ]
    },
    {
     "name": "stdout",
     "output_type": "stream",
     "text": [
      "⚠ 본문을 가져오지 못해 Selenium으로 재시도: https://www.ytn.co.kr/_ln/0101_202207010013595109\n",
      "✅ 크롤링 완료: 尹, 체코 회담서 '원전 세일즈'...나토 총장 면담으로 마무리...\n"
     ]
    },
    {
     "name": "stderr",
     "output_type": "stream",
     "text": [
      "📰 뉴스 본문 크롤링 진행:  52%|█████▏    | 126/242 [06:51<11:39,  6.03s/it]"
     ]
    },
    {
     "name": "stdout",
     "output_type": "stream",
     "text": [
      "✅ 크롤링 완료: 윤 대통령, 체코와 \"원전·전기차·수소 산업 협력 강화\"...\n"
     ]
    },
    {
     "name": "stderr",
     "output_type": "stream",
     "text": [
      "📰 뉴스 본문 크롤링 진행:  52%|█████▏    | 127/242 [06:53<08:50,  4.61s/it]"
     ]
    },
    {
     "name": "stdout",
     "output_type": "stream",
     "text": [
      "✅ 크롤링 완료: 황주호 한수원 사장, 취임 1개월만에 체코·폴란드 방문…핵심인사 면담...\n"
     ]
    },
    {
     "name": "stderr",
     "output_type": "stream",
     "text": [
      "📰 뉴스 본문 크롤링 진행:  53%|█████▎    | 128/242 [06:54<06:47,  3.57s/it]"
     ]
    },
    {
     "name": "stdout",
     "output_type": "stream",
     "text": [
      "⚠ 본문을 가져오지 못해 Selenium으로 재시도: https://www.businesspost.co.kr/BP?command=article_view&num=293877\n",
      "✅ 크롤링 완료: [Who Is ?] 황주호 한국수력원자력 사장...\n"
     ]
    },
    {
     "name": "stderr",
     "output_type": "stream",
     "text": [
      "📰 뉴스 본문 크롤링 진행:  53%|█████▎    | 129/242 [06:59<07:18,  3.88s/it]"
     ]
    },
    {
     "name": "stdout",
     "output_type": "stream",
     "text": [
      "✅ 크롤링 완료: 황주호 한수원 사장, 취임 1개월만에 체코·폴란드 방문…핵심인사 '면......\n"
     ]
    },
    {
     "name": "stderr",
     "output_type": "stream",
     "text": [
      "📰 뉴스 본문 크롤링 진행:  54%|█████▎    | 130/242 [07:00<05:43,  3.07s/it]"
     ]
    },
    {
     "name": "stdout",
     "output_type": "stream",
     "text": [
      "⚠ 본문을 가져오지 못해 Selenium으로 재시도: https://www.businesspost.co.kr/BP?command=article_view&num=293877\n",
      "✅ 크롤링 완료: [Who Is ?] 황주호 한국수력원자력 사장...\n"
     ]
    },
    {
     "name": "stderr",
     "output_type": "stream",
     "text": [
      "📰 뉴스 본문 크롤링 진행:  54%|█████▍    | 131/242 [07:03<05:55,  3.20s/it]"
     ]
    },
    {
     "name": "stdout",
     "output_type": "stream",
     "text": [
      "✅ 크롤링 완료: 황주호 한수원 사장, 취임 1개월만에 체코·폴란드 방문…핵심인사 '면......\n"
     ]
    },
    {
     "name": "stderr",
     "output_type": "stream",
     "text": [
      "📰 뉴스 본문 크롤링 진행:  55%|█████▍    | 132/242 [07:04<04:46,  2.61s/it]"
     ]
    },
    {
     "name": "stdout",
     "output_type": "stream",
     "text": [
      "⚠ 본문을 가져오지 못해 Selenium으로 재시도: https://idsn.co.kr/news/view/1065578403997584\n",
      "✅ 크롤링 완료: 한수원 황주호 사장, 취임 1개월만에 체코 폴란드 방문... 핵심인사들과......\n"
     ]
    },
    {
     "name": "stderr",
     "output_type": "stream",
     "text": [
      "📰 뉴스 본문 크롤링 진행:  55%|█████▍    | 133/242 [07:10<06:28,  3.56s/it]"
     ]
    },
    {
     "name": "stdout",
     "output_type": "stream",
     "text": [
      "⚠ 본문을 가져오지 못해 Selenium으로 재시도: http://www.yonhapnewstv.co.kr/MYH20220828000900641/?input=1825m\n",
      "✅ 크롤링 완료: 줄잇는 원전 발주…체코·폴란드도 수주 '기대'...\n"
     ]
    },
    {
     "name": "stderr",
     "output_type": "stream",
     "text": [
      "📰 뉴스 본문 크롤링 진행:  55%|█████▌    | 134/242 [07:19<09:18,  5.17s/it]"
     ]
    },
    {
     "name": "stdout",
     "output_type": "stream",
     "text": [
      "✅ 크롤링 완료: 13년만에 수출 물꼬 튼 'K원전' 부활의 경쟁력...\n"
     ]
    },
    {
     "name": "stderr",
     "output_type": "stream",
     "text": [
      "📰 뉴스 본문 크롤링 진행:  56%|█████▌    | 135/242 [07:20<07:11,  4.03s/it]"
     ]
    },
    {
     "name": "stdout",
     "output_type": "stream",
     "text": [
      "✅ 크롤링 완료: 이집트 엘다바 원전 건설 3조원 수주…UAE 바라카 이후 13년 만의 쾌거(......\n"
     ]
    },
    {
     "name": "stderr",
     "output_type": "stream",
     "text": [
      "📰 뉴스 본문 크롤링 진행:  56%|█████▌    | 136/242 [07:22<05:45,  3.26s/it]"
     ]
    },
    {
     "name": "stdout",
     "output_type": "stream",
     "text": [
      "✅ 크롤링 완료: '원전 세일즈' 첫 신호탄 쏜 尹 정부…\"체코·폴란드 수주 모멘텀 확보......\n"
     ]
    },
    {
     "name": "stderr",
     "output_type": "stream",
     "text": [
      "📰 뉴스 본문 크롤링 진행:  57%|█████▋    | 137/242 [07:24<04:59,  2.85s/it]"
     ]
    },
    {
     "name": "stdout",
     "output_type": "stream",
     "text": [
      "⚠ 본문을 가져오지 못해 Selenium으로 재시도: https://www.khan.co.kr/economy/business/article/202208252225015\n",
      "✅ 크롤링 완료: 한수원, 3조원 규모 이집트 원전 건설 수주...\n"
     ]
    },
    {
     "name": "stderr",
     "output_type": "stream",
     "text": [
      "📰 뉴스 본문 크롤링 진행:  57%|█████▋    | 138/242 [07:38<11:04,  6.39s/it]"
     ]
    },
    {
     "name": "stdout",
     "output_type": "stream",
     "text": [
      "✅ 크롤링 완료: '황주호號' 한수원 출범… 해외 원전 수출 속도 낸다...\n"
     ]
    },
    {
     "name": "stderr",
     "output_type": "stream",
     "text": [
      "📰 뉴스 본문 크롤링 진행:  57%|█████▋    | 139/242 [07:40<08:18,  4.84s/it]"
     ]
    },
    {
     "name": "stdout",
     "output_type": "stream",
     "text": [
      "✅ 크롤링 완료: 한수원, 황주호 신임 사장 22일 취임…해외원전 세일즈 기대...\n"
     ]
    },
    {
     "name": "stderr",
     "output_type": "stream",
     "text": [
      "📰 뉴스 본문 크롤링 진행:  58%|█████▊    | 140/242 [07:41<06:24,  3.77s/it]"
     ]
    },
    {
     "name": "stdout",
     "output_type": "stream",
     "text": [
      "⚠ 본문을 가져오지 못해 Selenium으로 재시도: https://www.khan.co.kr/economy/industry-trade/article/202208251900001\n",
      "✅ 크롤링 완료: 한수원, 3조원 규모 이집트 엘다바 원전 건설 프로젝트 수주...\n"
     ]
    },
    {
     "name": "stderr",
     "output_type": "stream",
     "text": [
      "📰 뉴스 본문 크롤링 진행:  58%|█████▊    | 141/242 [07:53<10:42,  6.36s/it]"
     ]
    },
    {
     "name": "stdout",
     "output_type": "stream",
     "text": [
      "✅ 크롤링 완료: '황주호號' 한수원 출범… 해외 원전 수출 속도 낸다...\n"
     ]
    },
    {
     "name": "stderr",
     "output_type": "stream",
     "text": [
      "📰 뉴스 본문 크롤링 진행:  59%|█████▊    | 142/242 [07:55<07:58,  4.79s/it]"
     ]
    },
    {
     "name": "stdout",
     "output_type": "stream",
     "text": [
      "✅ 크롤링 완료: 한수원, 황주호 신임 사장 22일 취임…해외원전 세일즈 기대...\n"
     ]
    },
    {
     "name": "stderr",
     "output_type": "stream",
     "text": [
      "📰 뉴스 본문 크롤링 진행:  59%|█████▉    | 143/242 [07:56<06:07,  3.72s/it]"
     ]
    },
    {
     "name": "stdout",
     "output_type": "stream",
     "text": [
      "✅ 크롤링 완료: 한수원 신임 사장에 황주호 전 교수…원전 수주·기술개발 현안 과제(종......\n"
     ]
    },
    {
     "name": "stderr",
     "output_type": "stream",
     "text": [
      "📰 뉴스 본문 크롤링 진행:  60%|█████▉    | 144/242 [07:57<04:56,  3.03s/it]"
     ]
    },
    {
     "name": "stdout",
     "output_type": "stream",
     "text": [
      "✅ 크롤링 완료: [尹정부 출범 100일] 원전에 '올인'한 정부…에너지 시장 '요동'...\n"
     ]
    },
    {
     "name": "stderr",
     "output_type": "stream",
     "text": [
      "📰 뉴스 본문 크롤링 진행:  60%|█████▉    | 145/242 [07:58<04:01,  2.49s/it]"
     ]
    },
    {
     "name": "stdout",
     "output_type": "stream",
     "text": [
      "✅ 크롤링 완료: [에너지 뉴스] 한수원, 체코 봉사활동 재개…원전사업 지역에 봉사단 파......\n"
     ]
    },
    {
     "name": "stderr",
     "output_type": "stream",
     "text": [
      "📰 뉴스 본문 크롤링 진행:  60%|██████    | 146/242 [08:00<03:23,  2.12s/it]"
     ]
    },
    {
     "name": "stdout",
     "output_type": "stream",
     "text": [
      "✅ 크롤링 완료: 'K-원전' 글로벌 진출 가속화한다…원전수출전략추진위 출범 초읽기...\n"
     ]
    },
    {
     "name": "stderr",
     "output_type": "stream",
     "text": [
      "📰 뉴스 본문 크롤링 진행:  61%|██████    | 147/242 [08:01<02:55,  1.84s/it]"
     ]
    },
    {
     "name": "stdout",
     "output_type": "stream",
     "text": [
      "✅ 크롤링 완료: [K-원전 리바이벌]① 바라카로 증명한 '기술력'…체코서 재현될까?...\n"
     ]
    },
    {
     "name": "stderr",
     "output_type": "stream",
     "text": [
      "📰 뉴스 본문 크롤링 진행:  61%|██████    | 148/242 [08:02<02:34,  1.65s/it]"
     ]
    },
    {
     "name": "stdout",
     "output_type": "stream",
     "text": [
      "✅ 크롤링 완료: 원전수출전략추진단→원전수출위로 격상…이달 중 출범 예정...\n"
     ]
    },
    {
     "name": "stderr",
     "output_type": "stream",
     "text": [
      "📰 뉴스 본문 크롤링 진행:  62%|██████▏   | 149/242 [08:03<02:26,  1.57s/it]"
     ]
    },
    {
     "name": "stdout",
     "output_type": "stream",
     "text": [
      "⚠ 본문을 가져오지 못해 Selenium으로 재시도: http://www.edaily.co.kr/news/newspath.asp?newsid=01328406632458152\n",
      "✅ 크롤링 완료: 대우건설, 수익성 높은 해외현장 보유…적극 매수할 때 -한국...\n"
     ]
    },
    {
     "name": "stderr",
     "output_type": "stream",
     "text": [
      "📰 뉴스 본문 크롤링 진행:  62%|██████▏   | 150/242 [08:09<04:25,  2.89s/it]"
     ]
    },
    {
     "name": "stdout",
     "output_type": "stream",
     "text": [
      "✅ 크롤링 완료: 한수원, 체코 봉사활동 재개…원전사업 지역에 봉사단 파견...\n"
     ]
    },
    {
     "name": "stderr",
     "output_type": "stream",
     "text": [
      "📰 뉴스 본문 크롤링 진행:  62%|██████▏   | 151/242 [08:11<03:37,  2.39s/it]"
     ]
    },
    {
     "name": "stdout",
     "output_type": "stream",
     "text": [
      "✅ 크롤링 완료: 'K-원전' 글로벌 진출 가속화한다…원전수출전략추진위 출범 초읽기...\n"
     ]
    },
    {
     "name": "stderr",
     "output_type": "stream",
     "text": [
      "📰 뉴스 본문 크롤링 진행:  63%|██████▎   | 152/242 [08:12<03:04,  2.06s/it]"
     ]
    },
    {
     "name": "stdout",
     "output_type": "stream",
     "text": [
      "✅ 크롤링 완료: [K-원전 리바이벌]① 바라카로 증명한 '기술력'…체코서 재현될까?...\n"
     ]
    },
    {
     "name": "stderr",
     "output_type": "stream",
     "text": [
      "📰 뉴스 본문 크롤링 진행:  63%|██████▎   | 153/242 [08:13<02:38,  1.78s/it]"
     ]
    },
    {
     "name": "stdout",
     "output_type": "stream",
     "text": [
      "✅ 크롤링 완료: 원전수출전략추진단→원전수출위로 격상…이달 중 출범 예정...\n"
     ]
    },
    {
     "name": "stderr",
     "output_type": "stream",
     "text": [
      "📰 뉴스 본문 크롤링 진행:  64%|██████▎   | 154/242 [08:14<02:27,  1.67s/it]"
     ]
    },
    {
     "name": "stdout",
     "output_type": "stream",
     "text": [
      "⚠ 본문을 가져오지 못해 Selenium으로 재시도: http://www.edaily.co.kr/news/newspath.asp?newsid=01328406632458152\n",
      "✅ 크롤링 완료: 대우건설, 수익성 높은 해외현장 보유…적극 매수할 때 -한국...\n"
     ]
    },
    {
     "name": "stderr",
     "output_type": "stream",
     "text": [
      "📰 뉴스 본문 크롤링 진행:  64%|██████▍   | 155/242 [08:19<03:47,  2.61s/it]"
     ]
    },
    {
     "name": "stdout",
     "output_type": "stream",
     "text": [
      "✅ 크롤링 완료: 비에이치아이, 주가 오름세 나타내…산업부, 원전 수출에 힘 싣는다...\n"
     ]
    },
    {
     "name": "stderr",
     "output_type": "stream",
     "text": [
      "📰 뉴스 본문 크롤링 진행:  64%|██████▍   | 156/242 [08:21<03:17,  2.30s/it]"
     ]
    },
    {
     "name": "stdout",
     "output_type": "stream",
     "text": [
      "⚠ 본문을 가져오지 못해 Selenium으로 재시도: http://www.wsobi.com/news/articleView.html?idxno=168728\n",
      "✅ 크롤링 완료: 정부 '수출조직강화, 친환경 지정'...산업계 원전 생태계 회복 기대감 커......\n"
     ]
    },
    {
     "name": "stderr",
     "output_type": "stream",
     "text": [
      "📰 뉴스 본문 크롤링 진행:  65%|██████▍   | 157/242 [08:25<03:59,  2.81s/it]"
     ]
    },
    {
     "name": "stdout",
     "output_type": "stream",
     "text": [
      "✅ 크롤링 완료: 산업부, 원전 수출 조직 강화…새 정부 국정과제 이행 속도...\n"
     ]
    },
    {
     "name": "stderr",
     "output_type": "stream",
     "text": [
      "📰 뉴스 본문 크롤링 진행:  65%|██████▌   | 158/242 [08:26<03:22,  2.41s/it]"
     ]
    },
    {
     "name": "stdout",
     "output_type": "stream",
     "text": [
      "⚠ 본문을 가져오지 못해 Selenium으로 재시도: http://www.fntimes.com/html/view.php?ud=202207160529409666dd55077bc2_18\n",
      "✅ 크롤링 완료: 백정완 대우건설 사장 “원전 전 사이클 소화하는 유일한 건설사” [건......\n"
     ]
    },
    {
     "name": "stderr",
     "output_type": "stream",
     "text": [
      "📰 뉴스 본문 크롤링 진행:  66%|██████▌   | 159/242 [08:33<05:00,  3.62s/it]"
     ]
    },
    {
     "name": "stdout",
     "output_type": "stream",
     "text": [
      "✅ 크롤링 완료: [탈원전에서 위드원전으로] (중)한수원, 이제는 수출이다...\n"
     ]
    },
    {
     "name": "stderr",
     "output_type": "stream",
     "text": [
      "📰 뉴스 본문 크롤링 진행:  66%|██████▌   | 160/242 [08:34<03:59,  2.92s/it]"
     ]
    },
    {
     "name": "stdout",
     "output_type": "stream",
     "text": [
      "⚠ 본문을 가져오지 못해 Selenium으로 재시도: http://www.edaily.co.kr/news/newspath.asp?newsid=01328406632458152\n",
      "✅ 크롤링 완료: 대우건설, 수익성 높은 해외현장 보유…적극 매수할 때 -한국...\n"
     ]
    },
    {
     "name": "stderr",
     "output_type": "stream",
     "text": [
      "📰 뉴스 본문 크롤링 진행:  67%|██████▋   | 161/242 [08:39<04:55,  3.64s/it]"
     ]
    },
    {
     "name": "stdout",
     "output_type": "stream",
     "text": [
      "✅ 크롤링 완료: 지투파워, 주가 강세…산업부, 원전수출 위한 '국' 만든다...\n"
     ]
    },
    {
     "name": "stderr",
     "output_type": "stream",
     "text": [
      "📰 뉴스 본문 크롤링 진행:  67%|██████▋   | 162/242 [08:41<03:57,  2.96s/it]"
     ]
    },
    {
     "name": "stdout",
     "output_type": "stream",
     "text": [
      "⚠ 본문을 가져오지 못해 Selenium으로 재시도: http://www.wsobi.com/news/articleView.html?idxno=168728\n",
      "✅ 크롤링 완료: 정부 '수출조직강화, 친환경 지정'...산업계 원전 생태계 회복 기대감 커......\n"
     ]
    },
    {
     "name": "stderr",
     "output_type": "stream",
     "text": [
      "📰 뉴스 본문 크롤링 진행:  67%|██████▋   | 163/242 [08:45<04:16,  3.24s/it]"
     ]
    },
    {
     "name": "stdout",
     "output_type": "stream",
     "text": [
      "✅ 크롤링 완료: 산업부, 원전 수출 조직 강화…새 정부 국정과제 이행 속도...\n"
     ]
    },
    {
     "name": "stderr",
     "output_type": "stream",
     "text": [
      "📰 뉴스 본문 크롤링 진행:  68%|██████▊   | 164/242 [08:46<03:30,  2.70s/it]"
     ]
    },
    {
     "name": "stdout",
     "output_type": "stream",
     "text": [
      "⚠ 본문을 가져오지 못해 Selenium으로 재시도: http://www.fntimes.com/html/view.php?ud=202207160529409666dd55077bc2_18\n",
      "✅ 크롤링 완료: 백정완 대우건설 사장 “원전 전 사이클 소화하는 유일한 건설사” [건......\n"
     ]
    },
    {
     "name": "stderr",
     "output_type": "stream",
     "text": [
      "📰 뉴스 본문 크롤링 진행:  68%|██████▊   | 165/242 [08:52<04:42,  3.67s/it]"
     ]
    },
    {
     "name": "stdout",
     "output_type": "stream",
     "text": [
      "✅ 크롤링 완료: [탈원전에서 위드원전으로] (중)한수원, 이제는 수출이다...\n"
     ]
    },
    {
     "name": "stderr",
     "output_type": "stream",
     "text": [
      "📰 뉴스 본문 크롤링 진행:  69%|██████▊   | 166/242 [08:53<03:43,  2.94s/it]"
     ]
    },
    {
     "name": "stdout",
     "output_type": "stream",
     "text": [
      "✅ 크롤링 완료: [사설] 해외 신규원전 수주, 출발점에 서다...\n"
     ]
    },
    {
     "name": "stderr",
     "output_type": "stream",
     "text": [
      "📰 뉴스 본문 크롤링 진행:  69%|██████▉   | 167/242 [08:54<02:59,  2.39s/it]"
     ]
    },
    {
     "name": "stdout",
     "output_type": "stream",
     "text": [
      "✅ 크롤링 완료: [이창양 취임 50일] 원전세일즈·한미동맹 강화 성과…무역적자는 과제...\n"
     ]
    },
    {
     "name": "stderr",
     "output_type": "stream",
     "text": [
      "📰 뉴스 본문 크롤링 진행:  69%|██████▉   | 168/242 [08:56<02:33,  2.08s/it]"
     ]
    },
    {
     "name": "stdout",
     "output_type": "stream",
     "text": [
      "✅ 크롤링 완료: [공기UP, 현장에서]기자재 기업 수주기회 제공…\"일감 가뭄에 단비\"...\n"
     ]
    },
    {
     "name": "stderr",
     "output_type": "stream",
     "text": [
      "📰 뉴스 본문 크롤링 진행:  70%|██████▉   | 169/242 [08:57<02:15,  1.85s/it]"
     ]
    },
    {
     "name": "stdout",
     "output_type": "stream",
     "text": [
      "✅ 크롤링 완료: '탈원전 폐기' 공식화…원전비중 확대에 업계 기대감-환경단체 반대...\n"
     ]
    },
    {
     "name": "stderr",
     "output_type": "stream",
     "text": [
      "📰 뉴스 본문 크롤링 진행:  70%|███████   | 170/242 [08:58<01:58,  1.65s/it]"
     ]
    },
    {
     "name": "stdout",
     "output_type": "stream",
     "text": [
      "⚠ 본문을 가져오지 못해 Selenium으로 재시도: http://www.fntimes.com/html/view.php?ud=202207160529409666dd55077bc2_18\n",
      "✅ 크롤링 완료: 백정완 대우건설 사장 “원전 전 사이클 소화하는 유일한 건설사” [건......\n"
     ]
    },
    {
     "name": "stderr",
     "output_type": "stream",
     "text": [
      "📰 뉴스 본문 크롤링 진행:  71%|███████   | 171/242 [09:03<03:13,  2.73s/it]"
     ]
    },
    {
     "name": "stdout",
     "output_type": "stream",
     "text": [
      "✅ 크롤링 완료: [탈원전에서 위드원전으로] (중)한수원, 이제는 수출이다...\n"
     ]
    },
    {
     "name": "stderr",
     "output_type": "stream",
     "text": [
      "📰 뉴스 본문 크롤링 진행:  71%|███████   | 172/242 [09:05<02:40,  2.30s/it]"
     ]
    },
    {
     "name": "stdout",
     "output_type": "stream",
     "text": [
      "✅ 크롤링 완료: [클릭 e종목]대우건설, 국내 유일 LNG 플랜트 EPC \"최선호주, 매수할 때......\n"
     ]
    },
    {
     "name": "stderr",
     "output_type": "stream",
     "text": [
      "📰 뉴스 본문 크롤링 진행:  71%|███████▏  | 173/242 [09:06<02:17,  2.00s/it]"
     ]
    },
    {
     "name": "stdout",
     "output_type": "stream",
     "text": [
      "✅ 크롤링 완료: [사설] 해외 신규원전 수주, 출발점에 서다...\n"
     ]
    },
    {
     "name": "stderr",
     "output_type": "stream",
     "text": [
      "📰 뉴스 본문 크롤링 진행:  72%|███████▏  | 174/242 [09:07<01:57,  1.72s/it]"
     ]
    },
    {
     "name": "stdout",
     "output_type": "stream",
     "text": [
      "✅ 크롤링 완료: [이창양 취임 50일] 원전세일즈·한미동맹 강화 성과…무역적자는 과제...\n"
     ]
    },
    {
     "name": "stderr",
     "output_type": "stream",
     "text": [
      "📰 뉴스 본문 크롤링 진행:  72%|███████▏  | 175/242 [09:09<02:01,  1.82s/it]"
     ]
    },
    {
     "name": "stdout",
     "output_type": "stream",
     "text": [
      "✅ 크롤링 완료: [공기UP, 현장에서]기자재 기업 수주기회 제공…\"일감 가뭄에 단비\"...\n"
     ]
    },
    {
     "name": "stderr",
     "output_type": "stream",
     "text": [
      "📰 뉴스 본문 크롤링 진행:  73%|███████▎  | 176/242 [09:10<01:48,  1.64s/it]"
     ]
    },
    {
     "name": "stdout",
     "output_type": "stream",
     "text": [
      "✅ 크롤링 완료: '탈원전 폐기' 공식화…원전비중 확대에 업계 기대감-환경단체 반대...\n"
     ]
    },
    {
     "name": "stderr",
     "output_type": "stream",
     "text": [
      "📰 뉴스 본문 크롤링 진행:  73%|███████▎  | 177/242 [09:12<01:38,  1.51s/it]"
     ]
    },
    {
     "name": "stdout",
     "output_type": "stream",
     "text": [
      "✅ 크롤링 완료: [새정부 에너지정책] 에너지업계 희비교차…원전 ‘기대감’ 재생에너......\n"
     ]
    },
    {
     "name": "stderr",
     "output_type": "stream",
     "text": [
      "📰 뉴스 본문 크롤링 진행:  74%|███████▎  | 178/242 [09:13<01:29,  1.39s/it]"
     ]
    },
    {
     "name": "stdout",
     "output_type": "stream",
     "text": [
      "⚠ 본문을 가져오지 못해 Selenium으로 재시도: http://www.mediapen.com/news/view/735846\n",
      "✅ 크롤링 완료: '탈원전 백지화'에 건설업계 원전 신사업 확대 '본격화'...\n"
     ]
    },
    {
     "name": "stderr",
     "output_type": "stream",
     "text": [
      "📰 뉴스 본문 크롤링 진행:  74%|███████▍  | 179/242 [09:19<02:56,  2.80s/it]"
     ]
    },
    {
     "name": "stdout",
     "output_type": "stream",
     "text": [
      "✅ 크롤링 완료: 영국·체코와 원전협력 논의‥귀국길 올라...\n"
     ]
    },
    {
     "name": "stderr",
     "output_type": "stream",
     "text": [
      "📰 뉴스 본문 크롤링 진행:  74%|███████▍  | 180/242 [09:20<02:25,  2.35s/it]"
     ]
    },
    {
     "name": "stdout",
     "output_type": "stream",
     "text": [
      "✅ 크롤링 완료: 영국·체코와 원전협력 논의‥귀국길 올라...\n"
     ]
    },
    {
     "name": "stderr",
     "output_type": "stream",
     "text": [
      "📰 뉴스 본문 크롤링 진행:  75%|███████▍  | 181/242 [09:21<02:02,  2.01s/it]"
     ]
    },
    {
     "name": "stdout",
     "output_type": "stream",
     "text": [
      "✅ 크롤링 완료: 경제태풍 속 전장ㆍ로봇 등 ‘미래먹거리 5총사’로 수출부진 타개...\n"
     ]
    },
    {
     "name": "stderr",
     "output_type": "stream",
     "text": [
      "📰 뉴스 본문 크롤링 진행:  75%|███████▌  | 182/242 [09:22<01:45,  1.75s/it]"
     ]
    },
    {
     "name": "stdout",
     "output_type": "stream",
     "text": [
      "⚠ 본문을 가져오지 못해 Selenium으로 재시도: https://news.kmib.co.kr/article/view.asp?arcid=0017408021&code=61141411&cp=nv\n",
      "✅ 크롤링 완료: 이집트 다음은 사우디? 체코·폴란드까지 추가 수주 기대감...\n"
     ]
    },
    {
     "name": "stderr",
     "output_type": "stream",
     "text": [
      "📰 뉴스 본문 크롤링 진행:  76%|███████▌  | 183/242 [09:27<02:32,  2.59s/it]"
     ]
    },
    {
     "name": "stdout",
     "output_type": "stream",
     "text": [
      "✅ 크롤링 완료: 국내 최고 '원자력 전문가' 황주호 신임 한수원 사장 내일 취임...\n"
     ]
    },
    {
     "name": "stderr",
     "output_type": "stream",
     "text": [
      "📰 뉴스 본문 크롤링 진행:  76%|███████▌  | 184/242 [09:29<02:15,  2.34s/it]"
     ]
    },
    {
     "name": "stdout",
     "output_type": "stream",
     "text": [
      "✅ 크롤링 완료: [이슈분석] 한수원 새 사장 선임 '지지부진'서 '일사천리'로 바뀐 배경은......\n"
     ]
    },
    {
     "name": "stderr",
     "output_type": "stream",
     "text": [
      "📰 뉴스 본문 크롤링 진행:  76%|███████▋  | 185/242 [09:30<01:52,  1.98s/it]"
     ]
    },
    {
     "name": "stdout",
     "output_type": "stream",
     "text": [
      "✅ 크롤링 완료: 한수원, 체코 글로벌 봉사활동 재개…韓-체코 교류협력 강화...\n"
     ]
    },
    {
     "name": "stderr",
     "output_type": "stream",
     "text": [
      "📰 뉴스 본문 크롤링 진행:  77%|███████▋  | 186/242 [09:31<01:41,  1.81s/it]"
     ]
    },
    {
     "name": "stdout",
     "output_type": "stream",
     "text": [
      "⚠ 본문을 가져오지 못해 Selenium으로 재시도: https://www.theguru.co.kr/news/article.html?no=40302\n",
      "✅ 크롤링 완료: 한수원, 체코 봉사활동 2년 만에 재개…물밑 수주전...\n"
     ]
    },
    {
     "name": "stderr",
     "output_type": "stream",
     "text": [
      "📰 뉴스 본문 크롤링 진행:  77%|███████▋  | 187/242 [09:36<02:23,  2.61s/it]"
     ]
    },
    {
     "name": "stdout",
     "output_type": "stream",
     "text": [
      "✅ 크롤링 완료: 윤, 탈원전 지운다… 2030년까지 10기 수출 추진, 전담조직 신설...\n"
     ]
    },
    {
     "name": "stderr",
     "output_type": "stream",
     "text": [
      "📰 뉴스 본문 크롤링 진행:  78%|███████▊  | 188/242 [09:37<02:01,  2.26s/it]"
     ]
    },
    {
     "name": "stdout",
     "output_type": "stream",
     "text": [
      "✅ 크롤링 완료: 친원전 건설업계도 '방긋'…현대건설·삼성물산·대우건설 본격 드라이......\n"
     ]
    },
    {
     "name": "stderr",
     "output_type": "stream",
     "text": [
      "📰 뉴스 본문 크롤링 진행:  78%|███████▊  | 189/242 [09:38<01:42,  1.93s/it]"
     ]
    },
    {
     "name": "stdout",
     "output_type": "stream",
     "text": [
      "✅ 크롤링 완료: 우리기술 시간외거래까지 상승세?...7거래일 연속 상승...\n"
     ]
    },
    {
     "name": "stderr",
     "output_type": "stream",
     "text": [
      "📰 뉴스 본문 크롤링 진행:  79%|███████▊  | 190/242 [09:40<01:33,  1.79s/it]"
     ]
    },
    {
     "name": "stdout",
     "output_type": "stream",
     "text": [
      "✅ 크롤링 완료: 우리기술 시간외거래까지 상승세?...7거래일 연속 상승...\n"
     ]
    },
    {
     "name": "stderr",
     "output_type": "stream",
     "text": [
      "📰 뉴스 본문 크롤링 진행:  79%|███████▉  | 191/242 [09:41<01:23,  1.63s/it]"
     ]
    },
    {
     "name": "stdout",
     "output_type": "stream",
     "text": [
      "⚠ 본문을 가져오지 못해 Selenium으로 재시도: https://www.khan.co.kr/politics/president/article/202206302359001\n",
      "✅ 크롤링 완료: 돌아오는 윤 대통령… “정상 세일즈 외교 본격 시작했다”...\n"
     ]
    },
    {
     "name": "stderr",
     "output_type": "stream",
     "text": [
      "📰 뉴스 본문 크롤링 진행:  79%|███████▉  | 192/242 [09:50<03:15,  3.90s/it]"
     ]
    },
    {
     "name": "stdout",
     "output_type": "stream",
     "text": [
      "✅ 크롤링 완료: 대우건설, 국내 유일 LNG플랜트 EPC 사업자...\n"
     ]
    },
    {
     "name": "stderr",
     "output_type": "stream",
     "text": [
      "📰 뉴스 본문 크롤링 진행:  80%|███████▉  | 193/242 [09:52<02:31,  3.09s/it]"
     ]
    },
    {
     "name": "stdout",
     "output_type": "stream",
     "text": [
      "✅ 크롤링 완료: [김경민의 이코노믹스] 원자로 한번 수출하면 100년 넘게 돈 벌어...\n"
     ]
    },
    {
     "name": "stderr",
     "output_type": "stream",
     "text": [
      "📰 뉴스 본문 크롤링 진행:  80%|████████  | 194/242 [09:53<02:02,  2.56s/it]"
     ]
    },
    {
     "name": "stdout",
     "output_type": "stream",
     "text": [
      "✅ 크롤링 완료: [특징주] 지투파워 주가 '상승세'...배경은?...\n"
     ]
    },
    {
     "name": "stderr",
     "output_type": "stream",
     "text": [
      "📰 뉴스 본문 크롤링 진행:  81%|████████  | 195/242 [09:54<01:41,  2.15s/it]"
     ]
    },
    {
     "name": "stdout",
     "output_type": "stream",
     "text": [
      "✅ 크롤링 완료: [특징주] 조광ILI 주가 '상승세'...배경은?...\n"
     ]
    },
    {
     "name": "stderr",
     "output_type": "stream",
     "text": [
      "📰 뉴스 본문 크롤링 진행:  81%|████████  | 196/242 [09:55<01:25,  1.87s/it]"
     ]
    },
    {
     "name": "stdout",
     "output_type": "stream",
     "text": [
      "✅ 크롤링 완료: 두산에너빌리티 주가, 주춤했다 다시 상승세...호재 총정리 및 새로운 ......\n"
     ]
    },
    {
     "name": "stderr",
     "output_type": "stream",
     "text": [
      "📰 뉴스 본문 크롤링 진행:  81%|████████▏ | 197/242 [09:56<01:15,  1.68s/it]"
     ]
    },
    {
     "name": "stdout",
     "output_type": "stream",
     "text": [
      "✅ 크롤링 완료: 두산에너빌리티 주가 왜 계속 오를까...호재 총정리...\n"
     ]
    },
    {
     "name": "stderr",
     "output_type": "stream",
     "text": [
      "📰 뉴스 본문 크롤링 진행:  82%|████████▏ | 198/242 [09:58<01:06,  1.52s/it]"
     ]
    },
    {
     "name": "stdout",
     "output_type": "stream",
     "text": [
      "✅ 크롤링 완료: [특징주] 두산에너빌리티 주가 '상승세' 지속...새로운 호재는?...\n"
     ]
    },
    {
     "name": "stderr",
     "output_type": "stream",
     "text": [
      "📰 뉴스 본문 크롤링 진행:  82%|████████▏ | 199/242 [09:59<01:00,  1.41s/it]"
     ]
    },
    {
     "name": "stdout",
     "output_type": "stream",
     "text": [
      "✅ 크롤링 완료: [특징주] 두산에너빌리티 주가 상승 '60조 원전 수주전 기대감'...\n"
     ]
    },
    {
     "name": "stderr",
     "output_type": "stream",
     "text": [
      "📰 뉴스 본문 크롤링 진행:  83%|████████▎ | 200/242 [10:00<00:55,  1.32s/it]"
     ]
    },
    {
     "name": "stdout",
     "output_type": "stream",
     "text": [
      "⚠ 본문을 가져오지 못해 Selenium으로 재시도: http://www.edaily.co.kr/news/newspath.asp?newsid=04198406632428304\n",
      "✅ 크롤링 완료: 한수원, 3년 만에 체코 대학생 봉사단 활동 재개...\n"
     ]
    },
    {
     "name": "stderr",
     "output_type": "stream",
     "text": [
      "📰 뉴스 본문 크롤링 진행:  83%|████████▎ | 201/242 [10:06<01:55,  2.82s/it]"
     ]
    },
    {
     "name": "stdout",
     "output_type": "stream",
     "text": [
      "✅ 크롤링 완료: [尹정부 출범 100일] 'Y노믹스' 초기 성적표는---시장경제, 민간주도 성......\n"
     ]
    },
    {
     "name": "stderr",
     "output_type": "stream",
     "text": [
      "📰 뉴스 본문 크롤링 진행:  83%|████████▎ | 202/242 [10:07<01:32,  2.32s/it]"
     ]
    },
    {
     "name": "stdout",
     "output_type": "stream",
     "text": [
      "✅ 크롤링 완료: 아파트만 짓는 것은 옛말, 건설사 새 먹거리 발굴 분주...\n"
     ]
    },
    {
     "name": "stderr",
     "output_type": "stream",
     "text": [
      "📰 뉴스 본문 크롤링 진행:  84%|████████▍ | 203/242 [10:09<01:17,  2.00s/it]"
     ]
    },
    {
     "name": "stdout",
     "output_type": "stream",
     "text": [
      "⚠ 본문을 가져오지 못해 Selenium으로 재시도: http://news.mk.co.kr/newsRead.php?no=623308&year=2022\n",
      "✅ 크롤링 완료: \"여름철 국민 편의 최우선\"…팔 걷어붙인 공기업...\n"
     ]
    },
    {
     "name": "stderr",
     "output_type": "stream",
     "text": [
      "📰 뉴스 본문 크롤링 진행:  84%|████████▍ | 204/242 [10:13<01:43,  2.73s/it]"
     ]
    },
    {
     "name": "stdout",
     "output_type": "stream",
     "text": [
      "✅ 크롤링 완료: 유럽 ‘50조 원전’ 수주전… 韓 기술력 vs 美佛 외교력...\n"
     ]
    },
    {
     "name": "stderr",
     "output_type": "stream",
     "text": [
      "📰 뉴스 본문 크롤링 진행:  85%|████████▍ | 205/242 [10:14<01:24,  2.28s/it]"
     ]
    },
    {
     "name": "stdout",
     "output_type": "stream",
     "text": [
      "✅ 크롤링 완료: [인터뷰-김창수 대한전기협회 KEPIC본부장] KEPIC 글로벌 표준화로 제2 ......\n"
     ]
    },
    {
     "name": "stderr",
     "output_type": "stream",
     "text": [
      "📰 뉴스 본문 크롤링 진행:  85%|████████▌ | 206/242 [10:15<01:10,  1.95s/it]"
     ]
    },
    {
     "name": "stdout",
     "output_type": "stream",
     "text": [
      "✅ 크롤링 완료: 尹대통령 다자 외교무대 데뷔…경제 성과는...\n"
     ]
    },
    {
     "name": "stderr",
     "output_type": "stream",
     "text": [
      "📰 뉴스 본문 크롤링 진행:  86%|████████▌ | 207/242 [10:17<00:59,  1.71s/it]"
     ]
    },
    {
     "name": "stdout",
     "output_type": "stream",
     "text": [
      "⚠ 본문을 가져오지 못해 Selenium으로 재시도: https://news.kbs.co.kr/news/view.do?ncd=5499022&ref=A\n",
      "✅ 크롤링 완료: 윤 대통령 오늘 정오 귀국…3박5일 첫 다자외교 마무리...\n"
     ]
    },
    {
     "name": "stderr",
     "output_type": "stream",
     "text": [
      "📰 뉴스 본문 크롤링 진행:  86%|████████▌ | 208/242 [10:21<01:24,  2.47s/it]"
     ]
    },
    {
     "name": "stdout",
     "output_type": "stream",
     "text": [
      "⚠ 본문을 가져오지 못해 Selenium으로 재시도: http://www.yonhapnewstv.co.kr/MYH20220701006100038/?input=1825m\n",
      "✅ 크롤링 완료: 윤대통령, 스페인 방문 마치고 오전 귀국…마지막날도 세일즈 외교...\n"
     ]
    },
    {
     "name": "stderr",
     "output_type": "stream",
     "text": [
      "📰 뉴스 본문 크롤링 진행:  86%|████████▋ | 209/242 [10:29<02:20,  4.25s/it]"
     ]
    },
    {
     "name": "stdout",
     "output_type": "stream",
     "text": [
      "✅ 크롤링 완료: 한수원 신임 사장에 황주호 전 경희대 원자력공학과 교수(종합)...\n"
     ]
    },
    {
     "name": "stderr",
     "output_type": "stream",
     "text": [
      "📰 뉴스 본문 크롤링 진행:  87%|████████▋ | 210/242 [10:30<01:46,  3.34s/it]"
     ]
    },
    {
     "name": "stdout",
     "output_type": "stream",
     "text": [
      "✅ 크롤링 완료: 한수원 신임 사장에 황주호 전 경희대 원자력공학과 교수(종합)...\n"
     ]
    },
    {
     "name": "stderr",
     "output_type": "stream",
     "text": [
      "📰 뉴스 본문 크롤링 진행:  87%|████████▋ | 211/242 [10:32<01:23,  2.70s/it]"
     ]
    },
    {
     "name": "stdout",
     "output_type": "stream",
     "text": [
      "✅ 크롤링 완료: 한수원, 체코 봉사활동 재개∙∙체코 시장 \"우호 여론 정부에 전달할 것......\n"
     ]
    },
    {
     "name": "stderr",
     "output_type": "stream",
     "text": [
      "📰 뉴스 본문 크롤링 진행:  88%|████████▊ | 212/242 [10:33<01:11,  2.38s/it]"
     ]
    },
    {
     "name": "stdout",
     "output_type": "stream",
     "text": [
      "✅ 크롤링 완료: 한수원, 체코 글로벌 봉사활동 재개...\n"
     ]
    },
    {
     "name": "stderr",
     "output_type": "stream",
     "text": [
      "📰 뉴스 본문 크롤링 진행:  88%|████████▊ | 213/242 [10:35<00:58,  2.03s/it]"
     ]
    },
    {
     "name": "stdout",
     "output_type": "stream",
     "text": [
      "✅ 크롤링 완료: 한국수력원자력, 체코 글로벌 봉사활동 재개...\n"
     ]
    },
    {
     "name": "stderr",
     "output_type": "stream",
     "text": [
      "📰 뉴스 본문 크롤링 진행:  88%|████████▊ | 214/242 [10:36<00:52,  1.88s/it]"
     ]
    },
    {
     "name": "stdout",
     "output_type": "stream",
     "text": [
      "⚠ 본문을 가져오지 못해 Selenium으로 재시도: http://www.fntimes.com/html/view.php?ud=202207300257051810dd55077bc2_18\n",
      "✅ 크롤링 완료: 가성비 떨어진 해외건설, GS·대우 등 ‘팀 코리아’로 돌파구...\n"
     ]
    },
    {
     "name": "stderr",
     "output_type": "stream",
     "text": [
      "📰 뉴스 본문 크롤링 진행:  89%|████████▉ | 215/242 [10:42<01:26,  3.20s/it]"
     ]
    },
    {
     "name": "stdout",
     "output_type": "stream",
     "text": [
      "⚠ 본문을 가져오지 못해 Selenium으로 재시도: http://www.thebell.co.kr/front/free/contents/news/article_view.asp?key=202207281350164520105222\n",
      "✅ 크롤링 완료: [더벨][건설리포트]대우건설, 영업이익 급감에도 플랜트 수주 확대 '위안......\n"
     ]
    },
    {
     "name": "stderr",
     "output_type": "stream",
     "text": [
      "📰 뉴스 본문 크롤링 진행:  89%|████████▉ | 216/242 [10:46<01:29,  3.45s/it]"
     ]
    },
    {
     "name": "stdout",
     "output_type": "stream",
     "text": [
      "✅ 크롤링 완료: (2022 KEPIC-Week) \"팀코리아, 체코·폴란드 등 유럽시장 공략한다\"...\n"
     ]
    },
    {
     "name": "stderr",
     "output_type": "stream",
     "text": [
      "📰 뉴스 본문 크롤링 진행:  90%|████████▉ | 217/242 [10:48<01:11,  2.84s/it]"
     ]
    },
    {
     "name": "stdout",
     "output_type": "stream",
     "text": [
      "✅ 크롤링 완료: [건설-상반기 결산] 중동 지고 아시아 뜨고…해외수주 기대·우려 교차...\n"
     ]
    },
    {
     "name": "stderr",
     "output_type": "stream",
     "text": [
      "📰 뉴스 본문 크롤링 진행:  90%|█████████ | 218/242 [10:50<01:06,  2.78s/it]"
     ]
    },
    {
     "name": "stdout",
     "output_type": "stream",
     "text": [
      "⚠ 본문을 가져오지 못해 Selenium으로 재시도: https://www.theguru.co.kr/news/article.html?no=37987\n",
      "✅ 크롤링 완료: [단독] 한전원자력연료 \"핵원료 체코생산\"…8조 원전 수주전 '히든카드......\n"
     ]
    },
    {
     "name": "stderr",
     "output_type": "stream",
     "text": [
      "📰 뉴스 본문 크롤링 진행:  90%|█████████ | 219/242 [10:55<01:16,  3.33s/it]"
     ]
    },
    {
     "name": "stdout",
     "output_type": "stream",
     "text": [
      "⚠ 본문을 가져오지 못해 Selenium으로 재시도: https://biz.chosun.com/stock/stock_general/2022/07/01/UXPZBQT5CJGNTBYHWFEUKDFYPU/?utm_source=naver&utm_medium=original&utm_campaign=biz\n",
      "✅ 크롤링 완료: 일주일만에 10% 오른 건설주… 해외사업 수주 기대감 영향...\n"
     ]
    },
    {
     "name": "stderr",
     "output_type": "stream",
     "text": [
      "📰 뉴스 본문 크롤링 진행:  91%|█████████ | 220/242 [11:02<01:37,  4.45s/it]"
     ]
    },
    {
     "name": "stdout",
     "output_type": "stream",
     "text": [
      "✅ 크롤링 완료: 한수원, '체코 글로벌 봉사활동' 재개...\n"
     ]
    },
    {
     "name": "stderr",
     "output_type": "stream",
     "text": [
      "📰 뉴스 본문 크롤링 진행:  91%|█████████▏| 221/242 [11:04<01:14,  3.57s/it]"
     ]
    },
    {
     "name": "stdout",
     "output_type": "stream",
     "text": [
      "✅ 크롤링 완료: 한수원, 체코 글로벌 봉사활동 재개…대학생 봉사단 파견...\n"
     ]
    },
    {
     "name": "stderr",
     "output_type": "stream",
     "text": [
      "📰 뉴스 본문 크롤링 진행:  92%|█████████▏| 222/242 [11:05<01:01,  3.06s/it]"
     ]
    },
    {
     "name": "stdout",
     "output_type": "stream",
     "text": [
      "✅ 크롤링 완료: 한수원, 체코 글로벌 봉사활동 재개...\n"
     ]
    },
    {
     "name": "stderr",
     "output_type": "stream",
     "text": [
      "📰 뉴스 본문 크롤링 진행:  92%|█████████▏| 223/242 [11:07<00:47,  2.52s/it]"
     ]
    },
    {
     "name": "stdout",
     "output_type": "stream",
     "text": [
      "✅ 크롤링 완료: 한국수력원자력, 체코 글로벌 봉사활동 재개...\n"
     ]
    },
    {
     "name": "stderr",
     "output_type": "stream",
     "text": [
      "📰 뉴스 본문 크롤링 진행:  93%|█████████▎| 224/242 [11:08<00:37,  2.09s/it]"
     ]
    },
    {
     "name": "stdout",
     "output_type": "stream",
     "text": [
      "⚠ 본문을 가져오지 못해 Selenium으로 재시도: http://www.fntimes.com/html/view.php?ud=202207300257051810dd55077bc2_18\n",
      "✅ 크롤링 완료: 가성비 떨어진 해외건설, GS·대우 등 ‘팀 코리아’로 돌파구...\n"
     ]
    },
    {
     "name": "stderr",
     "output_type": "stream",
     "text": [
      "📰 뉴스 본문 크롤링 진행:  93%|█████████▎| 225/242 [11:15<01:01,  3.60s/it]"
     ]
    },
    {
     "name": "stdout",
     "output_type": "stream",
     "text": [
      "⚠ 본문을 가져오지 못해 Selenium으로 재시도: http://www.thebell.co.kr/front/free/contents/news/article_view.asp?key=202207281350164520105222\n",
      "✅ 크롤링 완료: [더벨][건설리포트]대우건설, 영업이익 급감에도 플랜트 수주 확대 '위안......\n"
     ]
    },
    {
     "name": "stderr",
     "output_type": "stream",
     "text": [
      "📰 뉴스 본문 크롤링 진행:  93%|█████████▎| 226/242 [11:23<01:20,  5.05s/it]"
     ]
    },
    {
     "name": "stdout",
     "output_type": "stream",
     "text": [
      "✅ 크롤링 완료: (2022 KEPIC-Week) \"팀코리아, 체코·폴란드 등 유럽시장 공략한다\"...\n"
     ]
    },
    {
     "name": "stderr",
     "output_type": "stream",
     "text": [
      "📰 뉴스 본문 크롤링 진행:  94%|█████████▍| 227/242 [11:25<00:58,  3.89s/it]"
     ]
    },
    {
     "name": "stdout",
     "output_type": "stream",
     "text": [
      "✅ 크롤링 완료: [건설-상반기 결산] 중동 지고 아시아 뜨고…해외수주 기대·우려 교차...\n"
     ]
    },
    {
     "name": "stderr",
     "output_type": "stream",
     "text": [
      "📰 뉴스 본문 크롤링 진행:  94%|█████████▍| 228/242 [11:26<00:44,  3.15s/it]"
     ]
    },
    {
     "name": "stdout",
     "output_type": "stream",
     "text": [
      "⚠ 본문을 가져오지 못해 Selenium으로 재시도: https://www.theguru.co.kr/news/article.html?no=37987\n",
      "✅ 크롤링 완료: [단독] 한전원자력연료 \"핵원료 체코생산\"…8조 원전 수주전 '히든카드......\n"
     ]
    },
    {
     "name": "stderr",
     "output_type": "stream",
     "text": [
      "📰 뉴스 본문 크롤링 진행:  95%|█████████▍| 229/242 [11:30<00:45,  3.50s/it]"
     ]
    },
    {
     "name": "stdout",
     "output_type": "stream",
     "text": [
      "⚠ 본문을 가져오지 못해 Selenium으로 재시도: https://biz.chosun.com/stock/stock_general/2022/07/01/UXPZBQT5CJGNTBYHWFEUKDFYPU/?utm_source=naver&utm_medium=original&utm_campaign=biz\n",
      "✅ 크롤링 완료: 일주일만에 10% 오른 건설주… 해외사업 수주 기대감 영향...\n"
     ]
    },
    {
     "name": "stderr",
     "output_type": "stream",
     "text": [
      "📰 뉴스 본문 크롤링 진행:  95%|█████████▌| 230/242 [11:35<00:45,  3.77s/it]"
     ]
    },
    {
     "name": "stdout",
     "output_type": "stream",
     "text": [
      "✅ 크롤링 완료: 한수원, '체코 글로벌 봉사활동' 3년 만에 재개…대학생 봉사단 파견...\n"
     ]
    },
    {
     "name": "stderr",
     "output_type": "stream",
     "text": [
      "📰 뉴스 본문 크롤링 진행:  95%|█████████▌| 231/242 [11:36<00:34,  3.11s/it]"
     ]
    },
    {
     "name": "stdout",
     "output_type": "stream",
     "text": [
      "✅ 크롤링 완료: 한수원, 체코 글로벌 봉사활동 재개…대학생 봉사단 파견...\n"
     ]
    },
    {
     "name": "stderr",
     "output_type": "stream",
     "text": [
      "📰 뉴스 본문 크롤링 진행:  96%|█████████▌| 232/242 [11:38<00:25,  2.57s/it]"
     ]
    },
    {
     "name": "stdout",
     "output_type": "stream",
     "text": [
      "✅ 크롤링 완료: 한수원, 체코 글로벌 봉사활동 재개...\n"
     ]
    },
    {
     "name": "stderr",
     "output_type": "stream",
     "text": [
      "📰 뉴스 본문 크롤링 진행:  96%|█████████▋| 233/242 [11:39<00:19,  2.13s/it]"
     ]
    },
    {
     "name": "stdout",
     "output_type": "stream",
     "text": [
      "✅ 크롤링 완료: 한국수력원자력, 체코 글로벌 봉사활동 재개...\n"
     ]
    },
    {
     "name": "stderr",
     "output_type": "stream",
     "text": [
      "📰 뉴스 본문 크롤링 진행:  97%|█████████▋| 234/242 [11:40<00:14,  1.84s/it]"
     ]
    },
    {
     "name": "stdout",
     "output_type": "stream",
     "text": [
      "⚠ 본문을 가져오지 못해 Selenium으로 재시도: http://www.fntimes.com/html/view.php?ud=202207300257051810dd55077bc2_18\n",
      "✅ 크롤링 완료: 가성비 떨어진 해외건설, GS·대우 등 ‘팀 코리아’로 돌파구...\n"
     ]
    },
    {
     "name": "stderr",
     "output_type": "stream",
     "text": [
      "📰 뉴스 본문 크롤링 진행:  97%|█████████▋| 235/242 [11:47<00:24,  3.49s/it]"
     ]
    },
    {
     "name": "stdout",
     "output_type": "stream",
     "text": [
      "⚠ 본문을 가져오지 못해 Selenium으로 재시도: http://www.thebell.co.kr/front/free/contents/news/article_view.asp?key=202207281350164520105222\n",
      "✅ 크롤링 완료: [더벨][건설리포트]대우건설, 영업이익 급감에도 플랜트 수주 확대 '위안......\n"
     ]
    },
    {
     "name": "stderr",
     "output_type": "stream",
     "text": [
      "📰 뉴스 본문 크롤링 진행:  98%|█████████▊| 236/242 [11:51<00:20,  3.49s/it]"
     ]
    },
    {
     "name": "stdout",
     "output_type": "stream",
     "text": [
      "✅ 크롤링 완료: (2022 KEPIC-Week) \"팀코리아, 체코·폴란드 등 유럽시장 공략한다\"...\n"
     ]
    },
    {
     "name": "stderr",
     "output_type": "stream",
     "text": [
      "📰 뉴스 본문 크롤링 진행:  98%|█████████▊| 237/242 [11:52<00:13,  2.78s/it]"
     ]
    },
    {
     "name": "stdout",
     "output_type": "stream",
     "text": [
      "✅ 크롤링 완료: [건설-상반기 결산] 중동 지고 아시아 뜨고…해외수주 기대·우려 교차...\n"
     ]
    },
    {
     "name": "stderr",
     "output_type": "stream",
     "text": [
      "📰 뉴스 본문 크롤링 진행:  98%|█████████▊| 238/242 [11:53<00:09,  2.38s/it]"
     ]
    },
    {
     "name": "stdout",
     "output_type": "stream",
     "text": [
      "⚠ 본문을 가져오지 못해 Selenium으로 재시도: https://www.theguru.co.kr/news/article.html?no=37987\n",
      "✅ 크롤링 완료: [단독] 한전원자력연료 \"핵원료 체코생산\"…8조 원전 수주전 '히든카드......\n"
     ]
    },
    {
     "name": "stderr",
     "output_type": "stream",
     "text": [
      "📰 뉴스 본문 크롤링 진행:  99%|█████████▉| 239/242 [11:57<00:08,  2.90s/it]"
     ]
    },
    {
     "name": "stdout",
     "output_type": "stream",
     "text": [
      "⚠ 본문을 가져오지 못해 Selenium으로 재시도: https://biz.chosun.com/stock/stock_general/2022/07/01/UXPZBQT5CJGNTBYHWFEUKDFYPU/?utm_source=naver&utm_medium=original&utm_campaign=biz\n",
      "✅ 크롤링 완료: 일주일만에 10% 오른 건설주… 해외사업 수주 기대감 영향...\n"
     ]
    },
    {
     "name": "stderr",
     "output_type": "stream",
     "text": [
      "📰 뉴스 본문 크롤링 진행:  99%|█████████▉| 240/242 [12:02<00:06,  3.30s/it]"
     ]
    },
    {
     "name": "stdout",
     "output_type": "stream",
     "text": [
      "⚠ 본문을 가져오지 못해 Selenium으로 재시도: https://www.theguru.co.kr/news/article.html?no=37987\n",
      "✅ 크롤링 완료: [단독] 한전원자력연료 \"핵원료 체코생산\"…8조 원전 수주전 '히든카드......\n"
     ]
    },
    {
     "name": "stderr",
     "output_type": "stream",
     "text": [
      "📰 뉴스 본문 크롤링 진행: 100%|█████████▉| 241/242 [12:06<00:03,  3.54s/it]"
     ]
    },
    {
     "name": "stdout",
     "output_type": "stream",
     "text": [
      "⚠ 본문을 가져오지 못해 Selenium으로 재시도: https://biz.chosun.com/stock/stock_general/2022/07/01/UXPZBQT5CJGNTBYHWFEUKDFYPU/?utm_source=naver&utm_medium=original&utm_campaign=biz\n",
      "✅ 크롤링 완료: 일주일만에 10% 오른 건설주… 해외사업 수주 기대감 영향...\n"
     ]
    },
    {
     "name": "stderr",
     "output_type": "stream",
     "text": [
      "📰 뉴스 본문 크롤링 진행: 100%|██████████| 242/242 [12:11<00:00,  3.02s/it]\n"
     ]
    },
    {
     "name": "stdout",
     "output_type": "stream",
     "text": [
      "🔍 검색 중: 두코바니 원전 (2022.10.01 ~ 2022.12.31)\n",
      "✅ 150개의 뉴스 기사 링크 및 날짜를 수집 완료! (2022.10.01 ~ 2022.12.31)\n"
     ]
    },
    {
     "name": "stderr",
     "output_type": "stream",
     "text": [
      "📰 뉴스 본문 크롤링 진행:   0%|          | 0/150 [00:00<?, ?it/s]"
     ]
    },
    {
     "name": "stdout",
     "output_type": "stream",
     "text": [
      "✅ 크롤링 완료: 원전강국 재도약 나선다...\n"
     ]
    },
    {
     "name": "stderr",
     "output_type": "stream",
     "text": [
      "📰 뉴스 본문 크롤링 진행:   1%|          | 1/150 [00:01<03:27,  1.40s/it]"
     ]
    },
    {
     "name": "stdout",
     "output_type": "stream",
     "text": [
      "✅ 크롤링 완료: 체코·폴란드 찍고 중동·아시아로 영토 확장…'K원전' 깃발 꽂을 후보......\n"
     ]
    },
    {
     "name": "stderr",
     "output_type": "stream",
     "text": [
      "📰 뉴스 본문 크롤링 진행:   1%|▏         | 2/150 [00:02<03:32,  1.44s/it]"
     ]
    },
    {
     "name": "stdout",
     "output_type": "stream",
     "text": [
      "✅ 크롤링 완료: 한전, 튀르키예와 수십조원대 원전 건설 협력 논의(종합)...\n"
     ]
    },
    {
     "name": "stderr",
     "output_type": "stream",
     "text": [
      "📰 뉴스 본문 크롤링 진행:   2%|▏         | 3/150 [00:04<03:18,  1.35s/it]"
     ]
    },
    {
     "name": "stdout",
     "output_type": "stream",
     "text": [
      "⚠ 본문을 가져오지 못해 Selenium으로 재시도: https://biz.chosun.com/industry/company/2022/12/01/M243DO26YZHUVJCNC47ALUYI2I/?utm_source=naver&utm_medium=original&utm_campaign=biz\n",
      "✅ 크롤링 완료: 한수원, 체코 두코바니 신규원전사업 입찰서 제출...\n"
     ]
    },
    {
     "name": "stderr",
     "output_type": "stream",
     "text": [
      "📰 뉴스 본문 크롤링 진행:   3%|▎         | 4/150 [00:10<07:57,  3.27s/it]"
     ]
    },
    {
     "name": "stdout",
     "output_type": "stream",
     "text": [
      "✅ 크롤링 완료: 한수원, 체코 두코바니 신규 원전 입찰서 최종 제출...\n"
     ]
    },
    {
     "name": "stderr",
     "output_type": "stream",
     "text": [
      "📰 뉴스 본문 크롤링 진행:   3%|▎         | 5/150 [00:11<06:18,  2.61s/it]"
     ]
    },
    {
     "name": "stdout",
     "output_type": "stream",
     "text": [
      "⚠ 본문을 가져오지 못해 Selenium으로 재시도: http://www.munhwa.com/news/view.html?no=2022121501039905017001\n",
      "✅ 크롤링 완료: 한전, 튀르키예와 수십조원대 원전 건설 협력 논의...\n"
     ]
    },
    {
     "name": "stderr",
     "output_type": "stream",
     "text": [
      "📰 뉴스 본문 크롤링 진행:   4%|▍         | 6/150 [00:16<07:40,  3.20s/it]"
     ]
    },
    {
     "name": "stdout",
     "output_type": "stream",
     "text": [
      "✅ 크롤링 완료: 탄소중립·에너지안보 '대세'…호기 맞은 K-원전...\n"
     ]
    },
    {
     "name": "stderr",
     "output_type": "stream",
     "text": [
      "📰 뉴스 본문 크롤링 진행:   5%|▍         | 7/150 [00:17<06:01,  2.53s/it]"
     ]
    },
    {
     "name": "stdout",
     "output_type": "stream",
     "text": [
      "✅ 크롤링 완료: 겨울철 에너지난에 '원전'이 제격…韓도, EU도 원전이 구원투수...\n"
     ]
    },
    {
     "name": "stderr",
     "output_type": "stream",
     "text": [
      "📰 뉴스 본문 크롤링 진행:   5%|▌         | 8/150 [00:18<05:22,  2.27s/it]"
     ]
    },
    {
     "name": "stdout",
     "output_type": "stream",
     "text": [
      "⚠ 본문을 가져오지 못해 Selenium으로 재시도: https://www.theguru.co.kr/news/article.html?no=46884\n",
      "✅ 크롤링 완료: 두산에너빌리티, 체코 원전 파트너십 확대...\n"
     ]
    },
    {
     "name": "stderr",
     "output_type": "stream",
     "text": [
      "📰 뉴스 본문 크롤링 진행:   6%|▌         | 9/150 [00:23<06:47,  2.89s/it]"
     ]
    },
    {
     "name": "stdout",
     "output_type": "stream",
     "text": [
      "⚠ 본문을 가져오지 못해 Selenium으로 재시도: https://www.asiatoday.co.kr/view.php?key=20221207010003449\n",
      "✅ 크롤링 완료: 황주호 한수원 사장 \"美웨스팅하우스 소송…길게 끌면 서로 손해\"...\n"
     ]
    },
    {
     "name": "stderr",
     "output_type": "stream",
     "text": [
      "📰 뉴스 본문 크롤링 진행:   7%|▋         | 10/150 [00:31<10:19,  4.43s/it]"
     ]
    },
    {
     "name": "stdout",
     "output_type": "stream",
     "text": [
      "⚠ 본문을 가져오지 못해 Selenium으로 재시도: http://www.breaknews.com/936711\n",
      "✅ 크롤링 완료: 한수원, 체코 신규원전 입찰서 제출....\"수주에 총력\"...\n"
     ]
    },
    {
     "name": "stderr",
     "output_type": "stream",
     "text": [
      "📰 뉴스 본문 크롤링 진행:   7%|▋         | 11/150 [00:38<12:17,  5.31s/it]"
     ]
    },
    {
     "name": "stdout",
     "output_type": "stream",
     "text": [
      "⚠ 본문을 가져오지 못해 Selenium으로 재시도: http://www.naeil.com/news_view/?id_art=443803\n",
      "✅ 크롤링 완료: 한수원, 체코원전 입찰서 제출...\n"
     ]
    },
    {
     "name": "stderr",
     "output_type": "stream",
     "text": [
      "📰 뉴스 본문 크롤링 진행:   8%|▊         | 12/150 [00:43<11:56,  5.19s/it]"
     ]
    },
    {
     "name": "stdout",
     "output_type": "stream",
     "text": [
      "✅ 크롤링 완료: 한국형 원전 ‘APR1400’ 완전 국산화…이집트·폴란드·체코 원전 수출...\n"
     ]
    },
    {
     "name": "stderr",
     "output_type": "stream",
     "text": [
      "📰 뉴스 본문 크롤링 진행:   9%|▊         | 13/150 [00:44<09:10,  4.02s/it]"
     ]
    },
    {
     "name": "stdout",
     "output_type": "stream",
     "text": [
      "✅ 크롤링 완료: 한수원, \"체코 신규원전 수주 본격 뛰어들었다\"...\n"
     ]
    },
    {
     "name": "stderr",
     "output_type": "stream",
     "text": [
      "📰 뉴스 본문 크롤링 진행:   9%|▉         | 14/150 [00:46<07:20,  3.24s/it]"
     ]
    },
    {
     "name": "stdout",
     "output_type": "stream",
     "text": [
      "✅ 크롤링 완료: 체코 두코바니 원전 최신 원자로 건설에 한·미·佛 3국 경쟁...\n"
     ]
    },
    {
     "name": "stderr",
     "output_type": "stream",
     "text": [
      "📰 뉴스 본문 크롤링 진행:  10%|█         | 15/150 [00:47<06:01,  2.68s/it]"
     ]
    },
    {
     "name": "stdout",
     "output_type": "stream",
     "text": [
      "⚠ 본문을 가져오지 못해 Selenium으로 재시도: https://www.theguru.co.kr/news/article.html?no=46546\n",
      "✅ 크롤링 완료: 佛 EDF, 체코서 원전 알렸다…폴란드 설욕전 채비...\n"
     ]
    },
    {
     "name": "stderr",
     "output_type": "stream",
     "text": [
      "📰 뉴스 본문 크롤링 진행:  11%|█         | 16/150 [00:51<07:13,  3.23s/it]"
     ]
    },
    {
     "name": "stdout",
     "output_type": "stream",
     "text": [
      "✅ 크롤링 완료: 탈원전서 빛 못본 신한울 1호기, 착공 11년 만에 이달 중순 가동...\n"
     ]
    },
    {
     "name": "stderr",
     "output_type": "stream",
     "text": [
      "📰 뉴스 본문 크롤링 진행:  11%|█▏        | 17/150 [00:53<05:50,  2.64s/it]"
     ]
    },
    {
     "name": "stdout",
     "output_type": "stream",
     "text": [
      "⚠ 본문을 가져오지 못해 Selenium으로 재시도: https://www.theguru.co.kr/news/article.html?no=45895\n",
      "✅ 크롤링 완료: 美, 안보동맹 내세워 동유럽 원전 싹쓸이 하나…폴란드·체코 이어 루마......\n"
     ]
    },
    {
     "name": "stderr",
     "output_type": "stream",
     "text": [
      "📰 뉴스 본문 크롤링 진행:  12%|█▏        | 18/150 [00:57<06:49,  3.10s/it]"
     ]
    },
    {
     "name": "stdout",
     "output_type": "stream",
     "text": [
      "⚠ 본문을 가져오지 못해 Selenium으로 재시도: http://www.kookje.co.kr/news2011/asp/newsbody.asp?code=1700&key=20221128.22022007854\n",
      "✅ 크롤링 완료: [세상읽기] 생태계 회복 계기돼야 할 폴란드 원전 수출...\n"
     ]
    },
    {
     "name": "stderr",
     "output_type": "stream",
     "text": [
      "📰 뉴스 본문 크롤링 진행:  13%|█▎        | 19/150 [01:01<07:16,  3.33s/it]"
     ]
    },
    {
     "name": "stdout",
     "output_type": "stream",
     "text": [
      "⚠ 본문을 가져오지 못해 Selenium으로 재시도: https://www.theguru.co.kr/news/article.html?no=44811\n",
      "✅ 크롤링 완료: [단독] 美 웨스팅하우스, 한수원 또 태클…폴란드 이어 체코 원전 수주......\n"
     ]
    },
    {
     "name": "stderr",
     "output_type": "stream",
     "text": [
      "📰 뉴스 본문 크롤링 진행:  13%|█▎        | 20/150 [01:05<07:55,  3.65s/it]"
     ]
    },
    {
     "name": "stdout",
     "output_type": "stream",
     "text": [
      "✅ 크롤링 완료: \"체코 원전도 수주 희망 밝다\"…에너지 민간 차원 힘 보탠다...\n"
     ]
    },
    {
     "name": "stderr",
     "output_type": "stream",
     "text": [
      "📰 뉴스 본문 크롤링 진행:  14%|█▍        | 21/150 [01:06<06:17,  2.92s/it]"
     ]
    },
    {
     "name": "stdout",
     "output_type": "stream",
     "text": [
      "✅ 크롤링 완료: [스페셜리포트]원전 수출 확대 과제는…\"체코·사우디 수주 위한 재정 ......\n"
     ]
    },
    {
     "name": "stderr",
     "output_type": "stream",
     "text": [
      "📰 뉴스 본문 크롤링 진행:  15%|█▍        | 22/150 [01:08<05:05,  2.39s/it]"
     ]
    },
    {
     "name": "stdout",
     "output_type": "stream",
     "text": [
      "⚠ 본문을 가져오지 못해 Selenium으로 재시도: https://www.theguru.co.kr/news/article.html?no=44520\n",
      "✅ 크롤링 완료: [단독] 체코 외교부 차관, 극비리에 신고리 원전 찾아…동유럽발 '원전......\n"
     ]
    },
    {
     "name": "stderr",
     "output_type": "stream",
     "text": [
      "📰 뉴스 본문 크롤링 진행:  15%|█▌        | 23/150 [01:12<06:08,  2.90s/it]"
     ]
    },
    {
     "name": "stdout",
     "output_type": "stream",
     "text": [
      "⚠ 본문을 가져오지 못해 Selenium으로 재시도: http://www.munhwa.com/news/view.html?no=2022110101072705017001\n",
      "✅ 크롤링 완료: 다음엔 체코… K-원전 수출 청신호...\n"
     ]
    },
    {
     "name": "stderr",
     "output_type": "stream",
     "text": [
      "📰 뉴스 본문 크롤링 진행:  16%|█▌        | 24/150 [01:16<07:19,  3.48s/it]"
     ]
    },
    {
     "name": "stdout",
     "output_type": "stream",
     "text": [
      "✅ 크롤링 완료: '폴란드 러브콜' 유럽 수출 물꼬 튼 韓 원전…앞으로 과제는...\n"
     ]
    },
    {
     "name": "stderr",
     "output_type": "stream",
     "text": [
      "📰 뉴스 본문 크롤링 진행:  17%|█▋        | 25/150 [01:18<06:06,  2.94s/it]"
     ]
    },
    {
     "name": "stdout",
     "output_type": "stream",
     "text": [
      "✅ 크롤링 완료: 두산에너빌리티 ‘원전 경쟁력’ 빛 본다… 韓 넘어 글로벌 무대서 활약...\n"
     ]
    },
    {
     "name": "stderr",
     "output_type": "stream",
     "text": [
      "📰 뉴스 본문 크롤링 진행:  17%|█▋        | 26/150 [01:19<04:57,  2.40s/it]"
     ]
    },
    {
     "name": "stdout",
     "output_type": "stream",
     "text": [
      "⚠ 본문을 가져오지 못해 Selenium으로 재시도: https://www.theguru.co.kr/news/article.html?no=44800\n",
      "✅ 크롤링 완료: [영상] 현대차, 전고체 배터리 기술력 확보 나서ㅣ미국향 철강수출, 중......\n"
     ]
    },
    {
     "name": "stderr",
     "output_type": "stream",
     "text": [
      "📰 뉴스 본문 크롤링 진행:  18%|█▊        | 27/150 [01:24<06:07,  2.99s/it]"
     ]
    },
    {
     "name": "stdout",
     "output_type": "stream",
     "text": [
      "✅ 크롤링 완료: [기획] 한수원, 원전 수출 선봉에…제2 도약 발판...\n"
     ]
    },
    {
     "name": "stderr",
     "output_type": "stream",
     "text": [
      "📰 뉴스 본문 크롤링 진행:  19%|█▊        | 28/150 [01:25<04:59,  2.45s/it]"
     ]
    },
    {
     "name": "stdout",
     "output_type": "stream",
     "text": [
      "✅ 크롤링 완료: 원전건설 계획 체코 총리 \"한국과 원자력 협력 원해\"...\n"
     ]
    },
    {
     "name": "stderr",
     "output_type": "stream",
     "text": [
      "📰 뉴스 본문 크롤링 진행:  19%|█▉        | 29/150 [01:26<04:12,  2.09s/it]"
     ]
    },
    {
     "name": "stdout",
     "output_type": "stream",
     "text": [
      "✅ 크롤링 완료: ‘40조 잭팟’ 폴란드 원전, 장밋빛 전망 속 약간은 불안한 이유...\n"
     ]
    },
    {
     "name": "stderr",
     "output_type": "stream",
     "text": [
      "📰 뉴스 본문 크롤링 진행:  20%|██        | 30/150 [01:27<03:45,  1.88s/it]"
     ]
    },
    {
     "name": "stdout",
     "output_type": "stream",
     "text": [
      "⚠ 본문을 가져오지 못해 Selenium으로 재시도: http://www.munhwa.com/news/view.html?no=2022110501039910017001\n",
      "✅ 크롤링 완료: K-원전 르네상스 시대 개막에 대비한 과제[세종관록]...\n"
     ]
    },
    {
     "name": "stderr",
     "output_type": "stream",
     "text": [
      "📰 뉴스 본문 크롤링 진행:  21%|██        | 31/150 [01:32<05:00,  2.53s/it]"
     ]
    },
    {
     "name": "stdout",
     "output_type": "stream",
     "text": [
      "✅ 크롤링 완료: 폴란드도 찾는 韓 원전…다음 목표 체코·사우디 수출에 호재...\n"
     ]
    },
    {
     "name": "stderr",
     "output_type": "stream",
     "text": [
      "📰 뉴스 본문 크롤링 진행:  21%|██▏       | 32/150 [01:33<04:25,  2.25s/it]"
     ]
    },
    {
     "name": "stdout",
     "output_type": "stream",
     "text": [
      "⚠ 본문을 가져오지 못해 Selenium으로 재시도: https://www.news1.kr/articles/4839623\n",
      "✅ 크롤링 완료: 폴란드 원전 수주 임박 \"원전 세일즈 빛봤다\"…다음은 8兆 체코 원전...\n"
     ]
    },
    {
     "name": "stderr",
     "output_type": "stream",
     "text": [
      "📰 뉴스 본문 크롤링 진행:  22%|██▏       | 33/150 [01:46<10:42,  5.49s/it]"
     ]
    },
    {
     "name": "stdout",
     "output_type": "stream",
     "text": [
      "✅ 크롤링 완료: 폴란드 원전 수출 물꼬 트였다… 두산에너빌리티, 수혜 기대감 커져...\n"
     ]
    },
    {
     "name": "stderr",
     "output_type": "stream",
     "text": [
      "📰 뉴스 본문 크롤링 진행:  23%|██▎       | 34/150 [01:47<08:06,  4.20s/it]"
     ]
    },
    {
     "name": "stdout",
     "output_type": "stream",
     "text": [
      "✅ 크롤링 완료: 한수원, 원전 수출 탄력받나 싶더니 또 암초...\n"
     ]
    },
    {
     "name": "stderr",
     "output_type": "stream",
     "text": [
      "📰 뉴스 본문 크롤링 진행:  23%|██▎       | 35/150 [01:49<06:29,  3.38s/it]"
     ]
    },
    {
     "name": "stdout",
     "output_type": "stream",
     "text": [
      "⚠ 본문을 가져오지 못해 Selenium으로 재시도: https://news.kmib.co.kr/article/view.asp?arcid=0924266742&code=11151400&cp=nv\n",
      "✅ 크롤링 완료: ‘동유럽 원전시장 관문’된 체코 시골마을… 한·미·프랑스 각축...\n"
     ]
    },
    {
     "name": "stderr",
     "output_type": "stream",
     "text": [
      "📰 뉴스 본문 크롤링 진행:  24%|██▍       | 36/150 [01:53<06:58,  3.67s/it]"
     ]
    },
    {
     "name": "stdout",
     "output_type": "stream",
     "text": [
      "✅ 크롤링 완료: 폴란드 손잡은 K-원전, 사상 첫 유럽 수출 보인다...\n"
     ]
    },
    {
     "name": "stderr",
     "output_type": "stream",
     "text": [
      "📰 뉴스 본문 크롤링 진행:  25%|██▍       | 37/150 [01:54<05:35,  2.97s/it]"
     ]
    },
    {
     "name": "stdout",
     "output_type": "stream",
     "text": [
      "✅ 크롤링 완료: [한국 원전 유럽진출 유력] 한·폴란드 정부·기업 간 협력...\n"
     ]
    },
    {
     "name": "stderr",
     "output_type": "stream",
     "text": [
      "📰 뉴스 본문 크롤링 진행:  25%|██▌       | 38/150 [01:56<04:33,  2.44s/it]"
     ]
    },
    {
     "name": "stdout",
     "output_type": "stream",
     "text": [
      "⚠ 본문을 가져오지 못해 Selenium으로 재시도: https://biz.chosun.com/industry/company/2022/10/31/UMN4XROHTFEE5EGCOH5C7P7D7I/?utm_source=naver&utm_medium=original&utm_campaign=biz\n",
      "✅ 크롤링 완료: 폴란드 원전 수주 첫 단추 뀄지만… 美 견제는 풀어야 할 숙제...\n"
     ]
    },
    {
     "name": "stderr",
     "output_type": "stream",
     "text": [
      "📰 뉴스 본문 크롤링 진행:  26%|██▌       | 39/150 [02:02<06:50,  3.70s/it]"
     ]
    },
    {
     "name": "stdout",
     "output_type": "stream",
     "text": [
      "⚠ 본문을 가져오지 못해 Selenium으로 재시도: https://news.kmib.co.kr/article/view.asp?arcid=0017530196&code=61141111&cp=nv\n",
      "✅ 크롤링 완료: [르포] 한수원이 주목하는 체코 포도밭?…알고 보면 유럽 원전시장 발판...\n"
     ]
    },
    {
     "name": "stderr",
     "output_type": "stream",
     "text": [
      "📰 뉴스 본문 크롤링 진행:  27%|██▋       | 40/150 [02:06<07:00,  3.82s/it]"
     ]
    },
    {
     "name": "stdout",
     "output_type": "stream",
     "text": [
      "⚠ 본문을 가져오지 못해 Selenium으로 재시도: https://www.theguru.co.kr/news/article.html?no=42951\n",
      "✅ 크롤링 완료: 체코, 원전 비중 50% 이상…한수원 수주 이목...\n"
     ]
    },
    {
     "name": "stderr",
     "output_type": "stream",
     "text": [
      "📰 뉴스 본문 크롤링 진행:  27%|██▋       | 41/150 [02:11<07:17,  4.01s/it]"
     ]
    },
    {
     "name": "stdout",
     "output_type": "stream",
     "text": [
      "✅ 크롤링 완료: 폴란드 '패트누브 원전' 수출 파란불…31일 한국서 협력의향서 체결 예......\n"
     ]
    },
    {
     "name": "stderr",
     "output_type": "stream",
     "text": [
      "📰 뉴스 본문 크롤링 진행:  28%|██▊       | 42/150 [02:12<05:46,  3.20s/it]"
     ]
    },
    {
     "name": "stdout",
     "output_type": "stream",
     "text": [
      "⚠ 본문을 가져오지 못해 Selenium으로 재시도: https://www.chosun.com/opinion/editorial/2022/10/21/OWD7WCF6OFACRM4FV5KVXQZYNM/?utm_source=naver&utm_medium=referral&utm_campaign=naver-news\n",
      "✅ 크롤링 완료: [사설] 폴란드 ‘원전 수출 가능성’ 소식, 원전 주도국 재출발이길...\n"
     ]
    },
    {
     "name": "stderr",
     "output_type": "stream",
     "text": [
      "📰 뉴스 본문 크롤링 진행:  29%|██▊       | 43/150 [02:20<07:59,  4.48s/it]"
     ]
    },
    {
     "name": "stdout",
     "output_type": "stream",
     "text": [
      "✅ 크롤링 완료: 韓, 폴란드 원전 수주 '청신호'…2030년까지 10기 수출 '탄력'...\n"
     ]
    },
    {
     "name": "stderr",
     "output_type": "stream",
     "text": [
      "📰 뉴스 본문 크롤링 진행:  29%|██▉       | 44/150 [02:21<06:19,  3.58s/it]"
     ]
    },
    {
     "name": "stdout",
     "output_type": "stream",
     "text": [
      "✅ 크롤링 완료: \"한수원, 2주내 원전 신축 사업 서명\"…폴란드 수출 첫발 내딛나...\n"
     ]
    },
    {
     "name": "stderr",
     "output_type": "stream",
     "text": [
      "📰 뉴스 본문 크롤링 진행:  30%|███       | 45/150 [02:22<05:04,  2.90s/it]"
     ]
    },
    {
     "name": "stdout",
     "output_type": "stream",
     "text": [
      "✅ 크롤링 완료: [2022 산업계 핫이슈] 경기 침체, IRA까지... 힘든 한해 보내...\n"
     ]
    },
    {
     "name": "stderr",
     "output_type": "stream",
     "text": [
      "📰 뉴스 본문 크롤링 진행:  31%|███       | 46/150 [02:24<04:14,  2.45s/it]"
     ]
    },
    {
     "name": "stdout",
     "output_type": "stream",
     "text": [
      "✅ 크롤링 완료: [이슈대담] 중국, 대한항공·아시아나 합병 승인...\n"
     ]
    },
    {
     "name": "stderr",
     "output_type": "stream",
     "text": [
      "📰 뉴스 본문 크롤링 진행:  31%|███▏      | 47/150 [02:25<03:35,  2.09s/it]"
     ]
    },
    {
     "name": "stdout",
     "output_type": "stream",
     "text": [
      "⚠ 본문을 가져오지 못해 Selenium으로 재시도: https://www.theguru.co.kr/news/article.html?no=45762\n",
      "✅ 크롤링 완료: 체코, 원전 후보군 본격 저울질…신고리 이어 美 보글 원전 방문...\n"
     ]
    },
    {
     "name": "stderr",
     "output_type": "stream",
     "text": [
      "📰 뉴스 본문 크롤링 진행:  32%|███▏      | 48/150 [02:29<04:41,  2.76s/it]"
     ]
    },
    {
     "name": "stdout",
     "output_type": "stream",
     "text": [
      "✅ 크롤링 완료: 건설업계, SMR 개발 기대감에 '화색'…尹 \"4천억 투자\"...\n"
     ]
    },
    {
     "name": "stderr",
     "output_type": "stream",
     "text": [
      "📰 뉴스 본문 크롤링 진행:  33%|███▎      | 49/150 [02:31<03:53,  2.31s/it]"
     ]
    },
    {
     "name": "stdout",
     "output_type": "stream",
     "text": [
      "⚠ 본문을 가져오지 못해 Selenium으로 재시도: https://www.theguru.co.kr/news/article.html?no=45237\n",
      "✅ 크롤링 완료: '한수원·현대건설 참여' 체코 원전, 인접 국가 반발...\n"
     ]
    },
    {
     "name": "stderr",
     "output_type": "stream",
     "text": [
      "📰 뉴스 본문 크롤링 진행:  33%|███▎      | 50/150 [02:35<04:43,  2.84s/it]"
     ]
    },
    {
     "name": "stdout",
     "output_type": "stream",
     "text": [
      "✅ 크롤링 완료: 체코 정부, 바라카 원전 찾았다…‘8兆’ 수주전 본격화...\n"
     ]
    },
    {
     "name": "stderr",
     "output_type": "stream",
     "text": [
      "📰 뉴스 본문 크롤링 진행:  34%|███▍      | 51/150 [02:36<03:55,  2.38s/it]"
     ]
    },
    {
     "name": "stdout",
     "output_type": "stream",
     "text": [
      "⚠ 본문을 가져오지 못해 Selenium으로 재시도: https://www.theguru.co.kr/news/article.html?no=44980\n",
      "✅ 크롤링 완료: [단독] 한수원, 폴란드 원전 자금 49% 지원 고수…현지기업 5곳 추가 MOU...\n"
     ]
    },
    {
     "name": "stderr",
     "output_type": "stream",
     "text": [
      "📰 뉴스 본문 크롤링 진행:  35%|███▍      | 52/150 [02:40<04:45,  2.91s/it]"
     ]
    },
    {
     "name": "stdout",
     "output_type": "stream",
     "text": [
      "⚠ 본문을 가져오지 못해 Selenium으로 재시도: https://www.dnews.co.kr/uhtml/view.jsp?idxno=202210250944303980759\n",
      "✅ 크롤링 완료: 삐걱대는 韓-美 원전 동맹…해외 수주전략 '비상등'...\n"
     ]
    },
    {
     "name": "stderr",
     "output_type": "stream",
     "text": [
      "📰 뉴스 본문 크롤링 진행:  35%|███▌      | 53/150 [02:45<05:39,  3.50s/it]"
     ]
    },
    {
     "name": "stdout",
     "output_type": "stream",
     "text": [
      "✅ 크롤링 완료: 원전업계 \"폴란드 원전 美소송, 韓이 앞선다는 증거\"…두산에너빌 기대......\n"
     ]
    },
    {
     "name": "stderr",
     "output_type": "stream",
     "text": [
      "📰 뉴스 본문 크롤링 진행:  36%|███▌      | 54/150 [02:46<04:29,  2.80s/it]"
     ]
    },
    {
     "name": "stdout",
     "output_type": "stream",
     "text": [
      "✅ 크롤링 완료: 백정완 대우건설 대표, ‘정비사업 5조’ 수주 신기록 쓰며 최대 실적 ......\n"
     ]
    },
    {
     "name": "stderr",
     "output_type": "stream",
     "text": [
      "📰 뉴스 본문 크롤링 진행:  37%|███▋      | 55/150 [02:48<03:47,  2.39s/it]"
     ]
    },
    {
     "name": "stdout",
     "output_type": "stream",
     "text": [
      "⚠ 본문을 가져오지 못해 Selenium으로 재시도: https://news.kmib.co.kr/article/view.asp?arcid=0017552415&code=61141111&cp=nv\n",
      "✅ 크롤링 완료: 1년 새 70% 오른 전기료…원전으로 ‘에너지 안정’ 꿈꾸는 체코...\n"
     ]
    },
    {
     "name": "stderr",
     "output_type": "stream",
     "text": [
      "📰 뉴스 본문 크롤링 진행:  37%|███▋      | 56/150 [02:52<04:31,  2.89s/it]"
     ]
    },
    {
     "name": "stdout",
     "output_type": "stream",
     "text": [
      "✅ 크롤링 완료: \"美 한수원 소송, 오래 끌면 中·러만 좋아\"...\n"
     ]
    },
    {
     "name": "stderr",
     "output_type": "stream",
     "text": [
      "📰 뉴스 본문 크롤링 진행:  38%|███▊      | 57/150 [02:53<03:48,  2.46s/it]"
     ]
    },
    {
     "name": "stdout",
     "output_type": "stream",
     "text": [
      "✅ 크롤링 완료: '한국형 원자로' 놓고 韓·美 분쟁…KCAB에 중재도 제기...\n"
     ]
    },
    {
     "name": "stderr",
     "output_type": "stream",
     "text": [
      "📰 뉴스 본문 크롤링 진행:  39%|███▊      | 58/150 [02:55<03:14,  2.11s/it]"
     ]
    },
    {
     "name": "stdout",
     "output_type": "stream",
     "text": [
      "⚠ 본문을 가져오지 못해 Selenium으로 재시도: http://www.munhwa.com/news/view.html?no=2022120801070205017003\n",
      "✅ 크롤링 완료: “수출도 성과 내도록 안전하게 운영할 것”...\n"
     ]
    },
    {
     "name": "stderr",
     "output_type": "stream",
     "text": [
      "📰 뉴스 본문 크롤링 진행:  39%|███▉      | 59/150 [02:59<04:08,  2.73s/it]"
     ]
    },
    {
     "name": "stdout",
     "output_type": "stream",
     "text": [
      "✅ 크롤링 완료: 폴란드 신규수주설에 웃는 원전주…\"관건은 규모·지속성\"...\n"
     ]
    },
    {
     "name": "stderr",
     "output_type": "stream",
     "text": [
      "📰 뉴스 본문 크롤링 진행:  40%|████      | 60/150 [03:00<03:28,  2.32s/it]"
     ]
    },
    {
     "name": "stdout",
     "output_type": "stream",
     "text": [
      "⚠ 본문을 가져오지 못해 Selenium으로 재시도: https://economist.co.kr/2022/11/10/realEstate/erection/20221110070005425.html\n",
      "✅ 크롤링 완료: “SMR 선점하라” 국내 건설사들 기술 네트워크 구축 각축전 [친환경에......\n"
     ]
    },
    {
     "name": "stderr",
     "output_type": "stream",
     "text": [
      "📰 뉴스 본문 크롤링 진행:  41%|████      | 61/150 [03:05<04:26,  3.00s/it]"
     ]
    },
    {
     "name": "stdout",
     "output_type": "stream",
     "text": [
      "✅ 크롤링 완료: 13년만에 'K원자로' 수출 간다…폴란드와 손잡고 2~4기 추진...\n"
     ]
    },
    {
     "name": "stderr",
     "output_type": "stream",
     "text": [
      "📰 뉴스 본문 크롤링 진행:  41%|████▏     | 62/150 [03:06<03:37,  2.47s/it]"
     ]
    },
    {
     "name": "stdout",
     "output_type": "stream",
     "text": [
      "✅ 크롤링 완료: 안덕근 통상본부장, 동유럽 3국과 경제통상 협력 논의...\n"
     ]
    },
    {
     "name": "stderr",
     "output_type": "stream",
     "text": [
      "📰 뉴스 본문 크롤링 진행:  42%|████▏     | 63/150 [03:07<03:11,  2.21s/it]"
     ]
    },
    {
     "name": "stdout",
     "output_type": "stream",
     "text": [
      "✅ 크롤링 완료: 통상본부장, 동유럽 3개국 방문…2030엑스포 지지 요청...\n"
     ]
    },
    {
     "name": "stderr",
     "output_type": "stream",
     "text": [
      "📰 뉴스 본문 크롤링 진행:  43%|████▎     | 64/150 [03:10<03:19,  2.32s/it]"
     ]
    },
    {
     "name": "stdout",
     "output_type": "stream",
     "text": [
      "✅ 크롤링 완료: 안덕근 통상본부장, 헝가리·체코 등 유럽 3개국 방문…협력 방안 논의...\n"
     ]
    },
    {
     "name": "stderr",
     "output_type": "stream",
     "text": [
      "📰 뉴스 본문 크롤링 진행:  43%|████▎     | 65/150 [03:12<02:58,  2.10s/it]"
     ]
    },
    {
     "name": "stdout",
     "output_type": "stream",
     "text": [
      "✅ 크롤링 완료: 통상본부장, 대통령 특사로 헝가리·리투아니아·체코 방문...\n"
     ]
    },
    {
     "name": "stderr",
     "output_type": "stream",
     "text": [
      "📰 뉴스 본문 크롤링 진행:  44%|████▍     | 66/150 [03:13<02:35,  1.85s/it]"
     ]
    },
    {
     "name": "stdout",
     "output_type": "stream",
     "text": [
      "✅ 크롤링 완료: 통상교섭본부장, 동유럽 방문...\"부산 세계박람회 지지 요청\"...\n"
     ]
    },
    {
     "name": "stderr",
     "output_type": "stream",
     "text": [
      "📰 뉴스 본문 크롤링 진행:  45%|████▍     | 67/150 [03:14<02:15,  1.63s/it]"
     ]
    },
    {
     "name": "stdout",
     "output_type": "stream",
     "text": [
      "⚠ 본문을 가져오지 못해 Selenium으로 재시도: http://www.edaily.co.kr/news/newspath.asp?newsid=02899526632496856\n",
      "✅ 크롤링 완료: 통상본부장, 동유럽 3개국 방문…부산엑스포 지지 요청...\n"
     ]
    },
    {
     "name": "stderr",
     "output_type": "stream",
     "text": [
      "📰 뉴스 본문 크롤링 진행:  45%|████▌     | 68/150 [03:20<03:58,  2.91s/it]"
     ]
    },
    {
     "name": "stdout",
     "output_type": "stream",
     "text": [
      "⚠ 본문을 가져오지 못해 Selenium으로 재시도: http://www.fnnews.com/news/202210261117554408\n",
      "✅ 크롤링 완료: 안덕근 통상본부장, 동유럽 3국과 경제통상 협력 논의...\n"
     ]
    },
    {
     "name": "stderr",
     "output_type": "stream",
     "text": [
      "📰 뉴스 본문 크롤링 진행:  46%|████▌     | 69/150 [03:26<05:24,  4.01s/it]"
     ]
    },
    {
     "name": "stdout",
     "output_type": "stream",
     "text": [
      "⚠ 본문을 가져오지 못해 Selenium으로 재시도: https://news.kbs.co.kr/news/view.do?ncd=5589714&ref=A\n",
      "✅ 크롤링 완료: 체코 총리 “한국과 원자력 협력 원해”...\n"
     ]
    },
    {
     "name": "stderr",
     "output_type": "stream",
     "text": [
      "📰 뉴스 본문 크롤링 진행:  47%|████▋     | 70/150 [03:31<05:20,  4.01s/it]"
     ]
    },
    {
     "name": "stdout",
     "output_type": "stream",
     "text": [
      "✅ 크롤링 완료: 안덕근 통상본부장, 동유럽 3국과 경제통상 협력 논의...\n"
     ]
    },
    {
     "name": "stderr",
     "output_type": "stream",
     "text": [
      "📰 뉴스 본문 크롤링 진행:  47%|████▋     | 71/150 [03:32<04:14,  3.23s/it]"
     ]
    },
    {
     "name": "stdout",
     "output_type": "stream",
     "text": [
      "⚠ 본문을 가져오지 못해 Selenium으로 재시도: https://www.viva100.com/main/view.php?key=20221026010006530\n",
      "✅ 크롤링 완료: 한·헝가리, 공급망·청정에너지 분야 무역·투자 촉진 프레임워크 체결......\n"
     ]
    },
    {
     "name": "stderr",
     "output_type": "stream",
     "text": [
      "📰 뉴스 본문 크롤링 진행:  48%|████▊     | 72/150 [03:37<04:45,  3.66s/it]"
     ]
    },
    {
     "name": "stdout",
     "output_type": "stream",
     "text": [
      "✅ 크롤링 완료: 안덕근 통상교섭본부장, 대통령 특사로 헝가리·리투아니아·체코 방문...\n"
     ]
    },
    {
     "name": "stderr",
     "output_type": "stream",
     "text": [
      "📰 뉴스 본문 크롤링 진행:  49%|████▊     | 73/150 [03:38<03:44,  2.91s/it]"
     ]
    },
    {
     "name": "stdout",
     "output_type": "stream",
     "text": [
      "✅ 크롤링 완료: 통상본부장, 동유럽 3개국 방문…2030엑스포 지지 요청...\n"
     ]
    },
    {
     "name": "stderr",
     "output_type": "stream",
     "text": [
      "📰 뉴스 본문 크롤링 진행:  49%|████▉     | 74/150 [03:40<03:17,  2.60s/it]"
     ]
    },
    {
     "name": "stdout",
     "output_type": "stream",
     "text": [
      "✅ 크롤링 완료: 안덕근 통상본부장, 헝가리·체코 등 유럽 3개국 방문…협력 방안 논의...\n"
     ]
    },
    {
     "name": "stderr",
     "output_type": "stream",
     "text": [
      "📰 뉴스 본문 크롤링 진행:  50%|█████     | 75/150 [03:41<02:42,  2.17s/it]"
     ]
    },
    {
     "name": "stdout",
     "output_type": "stream",
     "text": [
      "✅ 크롤링 완료: 통상본부장, 대통령 특사로 헝가리·리투아니아·체코 방문...\n"
     ]
    },
    {
     "name": "stderr",
     "output_type": "stream",
     "text": [
      "📰 뉴스 본문 크롤링 진행:  51%|█████     | 76/150 [03:42<02:19,  1.88s/it]"
     ]
    },
    {
     "name": "stdout",
     "output_type": "stream",
     "text": [
      "✅ 크롤링 완료: 통상교섭본부장, 동유럽 방문...\"부산 세계박람회 지지 요청\"...\n"
     ]
    },
    {
     "name": "stderr",
     "output_type": "stream",
     "text": [
      "📰 뉴스 본문 크롤링 진행:  51%|█████▏    | 77/150 [03:43<02:00,  1.65s/it]"
     ]
    },
    {
     "name": "stdout",
     "output_type": "stream",
     "text": [
      "⚠ 본문을 가져오지 못해 Selenium으로 재시도: http://www.edaily.co.kr/news/newspath.asp?newsid=02899526632496856\n",
      "✅ 크롤링 완료: 통상본부장, 동유럽 3개국 방문…부산엑스포 지지 요청...\n"
     ]
    },
    {
     "name": "stderr",
     "output_type": "stream",
     "text": [
      "📰 뉴스 본문 크롤링 진행:  52%|█████▏    | 78/150 [03:49<03:25,  2.85s/it]"
     ]
    },
    {
     "name": "stdout",
     "output_type": "stream",
     "text": [
      "⚠ 본문을 가져오지 못해 Selenium으로 재시도: http://www.fnnews.com/news/202210261117554408\n",
      "✅ 크롤링 완료: 안덕근 통상본부장, 동유럽 3국과 경제통상 협력 논의...\n"
     ]
    },
    {
     "name": "stderr",
     "output_type": "stream",
     "text": [
      "📰 뉴스 본문 크롤링 진행:  53%|█████▎    | 79/150 [03:54<04:13,  3.57s/it]"
     ]
    },
    {
     "name": "stdout",
     "output_type": "stream",
     "text": [
      "⚠ 본문을 가져오지 못해 Selenium으로 재시도: https://news.kbs.co.kr/news/view.do?ncd=5589714&ref=A\n",
      "✅ 크롤링 완료: 체코 총리 “한국과 원자력 협력 원해”...\n"
     ]
    },
    {
     "name": "stderr",
     "output_type": "stream",
     "text": [
      "📰 뉴스 본문 크롤링 진행:  53%|█████▎    | 80/150 [03:58<04:23,  3.76s/it]"
     ]
    },
    {
     "name": "stdout",
     "output_type": "stream",
     "text": [
      "✅ 크롤링 완료: 안덕근 통상본부장, 동유럽 3국과 경제통상 협력 논의...\n"
     ]
    },
    {
     "name": "stderr",
     "output_type": "stream",
     "text": [
      "📰 뉴스 본문 크롤링 진행:  54%|█████▍    | 81/150 [04:00<03:28,  3.03s/it]"
     ]
    },
    {
     "name": "stdout",
     "output_type": "stream",
     "text": [
      "⚠ 본문을 가져오지 못해 Selenium으로 재시도: https://www.viva100.com/main/view.php?key=20221026010006530\n",
      "✅ 크롤링 완료: 한·헝가리, 공급망·청정에너지 분야 무역·투자 촉진 프레임워크 체결......\n"
     ]
    },
    {
     "name": "stderr",
     "output_type": "stream",
     "text": [
      "📰 뉴스 본문 크롤링 진행:  55%|█████▍    | 82/150 [04:04<03:45,  3.32s/it]"
     ]
    },
    {
     "name": "stdout",
     "output_type": "stream",
     "text": [
      "✅ 크롤링 완료: 안덕근 통상교섭본부장, 대통령 특사로 헝가리·리투아니아·체코 방문...\n"
     ]
    },
    {
     "name": "stderr",
     "output_type": "stream",
     "text": [
      "📰 뉴스 본문 크롤링 진행:  55%|█████▌    | 83/150 [04:05<02:58,  2.66s/it]"
     ]
    },
    {
     "name": "stdout",
     "output_type": "stream",
     "text": [
      "✅ 크롤링 완료: 통상본부장, 동유럽 3개국 방문…2030엑스포 지지 요청...\n"
     ]
    },
    {
     "name": "stderr",
     "output_type": "stream",
     "text": [
      "📰 뉴스 본문 크롤링 진행:  56%|█████▌    | 84/150 [04:06<02:30,  2.28s/it]"
     ]
    },
    {
     "name": "stdout",
     "output_type": "stream",
     "text": [
      "✅ 크롤링 완료: 안덕근 통상본부장, 헝가리·체코 등 유럽 3개국 방문…협력 방안 논의...\n"
     ]
    },
    {
     "name": "stderr",
     "output_type": "stream",
     "text": [
      "📰 뉴스 본문 크롤링 진행:  57%|█████▋    | 85/150 [04:07<02:07,  1.96s/it]"
     ]
    },
    {
     "name": "stdout",
     "output_type": "stream",
     "text": [
      "⚠ 본문을 가져오지 못해 Selenium으로 재시도: http://www.edaily.co.kr/news/newspath.asp?newsid=02899526632496856\n",
      "✅ 크롤링 완료: 통상본부장, 동유럽 3개국 방문…부산엑스포 지지 요청...\n"
     ]
    },
    {
     "name": "stderr",
     "output_type": "stream",
     "text": [
      "📰 뉴스 본문 크롤링 진행:  57%|█████▋    | 86/150 [04:12<03:05,  2.90s/it]"
     ]
    },
    {
     "name": "stdout",
     "output_type": "stream",
     "text": [
      "✅ 크롤링 완료: 통상교섭본부장, 동유럽 방문...\"부산 세계박람회 지지 요청\"...\n"
     ]
    },
    {
     "name": "stderr",
     "output_type": "stream",
     "text": [
      "📰 뉴스 본문 크롤링 진행:  58%|█████▊    | 87/150 [04:13<02:28,  2.36s/it]"
     ]
    },
    {
     "name": "stdout",
     "output_type": "stream",
     "text": [
      "✅ 크롤링 완료: 통상본부장, 대통령 특사로 헝가리·리투아니아·체코 방문...\n"
     ]
    },
    {
     "name": "stderr",
     "output_type": "stream",
     "text": [
      "📰 뉴스 본문 크롤링 진행:  59%|█████▊    | 88/150 [04:15<02:03,  2.00s/it]"
     ]
    },
    {
     "name": "stdout",
     "output_type": "stream",
     "text": [
      "⚠ 본문을 가져오지 못해 Selenium으로 재시도: http://www.fnnews.com/news/202210261117554408\n",
      "✅ 크롤링 완료: 안덕근 통상본부장, 동유럽 3국과 경제통상 협력 논의...\n"
     ]
    },
    {
     "name": "stderr",
     "output_type": "stream",
     "text": [
      "📰 뉴스 본문 크롤링 진행:  59%|█████▉    | 89/150 [04:20<03:06,  3.05s/it]"
     ]
    },
    {
     "name": "stdout",
     "output_type": "stream",
     "text": [
      "⚠ 본문을 가져오지 못해 Selenium으로 재시도: https://news.kbs.co.kr/news/view.do?ncd=5589714&ref=A\n",
      "✅ 크롤링 완료: 체코 총리 “한국과 원자력 협력 원해”...\n"
     ]
    },
    {
     "name": "stderr",
     "output_type": "stream",
     "text": [
      "📰 뉴스 본문 크롤링 진행:  60%|██████    | 90/150 [04:24<03:12,  3.20s/it]"
     ]
    },
    {
     "name": "stdout",
     "output_type": "stream",
     "text": [
      "✅ 크롤링 완료: 안덕근 통상본부장, 동유럽 3국과 경제통상 협력 논의...\n"
     ]
    },
    {
     "name": "stderr",
     "output_type": "stream",
     "text": [
      "📰 뉴스 본문 크롤링 진행:  61%|██████    | 91/150 [04:25<02:37,  2.66s/it]"
     ]
    },
    {
     "name": "stdout",
     "output_type": "stream",
     "text": [
      "⚠ 본문을 가져오지 못해 Selenium으로 재시도: https://www.viva100.com/main/view.php?key=20221026010006530\n",
      "✅ 크롤링 완료: 한·헝가리, 공급망·청정에너지 분야 무역·투자 촉진 프레임워크 체결......\n"
     ]
    },
    {
     "name": "stderr",
     "output_type": "stream",
     "text": [
      "📰 뉴스 본문 크롤링 진행:  61%|██████▏   | 92/150 [04:29<03:03,  3.16s/it]"
     ]
    },
    {
     "name": "stdout",
     "output_type": "stream",
     "text": [
      "✅ 크롤링 완료: 안덕근 통상교섭본부장, 대통령 특사로 헝가리·리투아니아·체코 방문...\n"
     ]
    },
    {
     "name": "stderr",
     "output_type": "stream",
     "text": [
      "📰 뉴스 본문 크롤링 진행:  62%|██████▏   | 93/150 [04:31<02:26,  2.57s/it]"
     ]
    },
    {
     "name": "stdout",
     "output_type": "stream",
     "text": [
      "✅ 크롤링 완료: 통상본부장, 동유럽 3개국 방문…2030엑스포 지지 요청...\n"
     ]
    },
    {
     "name": "stderr",
     "output_type": "stream",
     "text": [
      "📰 뉴스 본문 크롤링 진행:  63%|██████▎   | 94/150 [04:32<02:04,  2.23s/it]"
     ]
    },
    {
     "name": "stdout",
     "output_type": "stream",
     "text": [
      "✅ 크롤링 완료: 안덕근 통상본부장, 헝가리·체코 등 유럽 3개국 방문…협력 방안 논의...\n"
     ]
    },
    {
     "name": "stderr",
     "output_type": "stream",
     "text": [
      "📰 뉴스 본문 크롤링 진행:  63%|██████▎   | 95/150 [04:33<01:44,  1.90s/it]"
     ]
    },
    {
     "name": "stdout",
     "output_type": "stream",
     "text": [
      "⚠ 본문을 가져오지 못해 Selenium으로 재시도: http://www.edaily.co.kr/news/newspath.asp?newsid=02899526632496856\n",
      "✅ 크롤링 완료: 통상본부장, 동유럽 3개국 방문…부산엑스포 지지 요청...\n"
     ]
    },
    {
     "name": "stderr",
     "output_type": "stream",
     "text": [
      "📰 뉴스 본문 크롤링 진행:  64%|██████▍   | 96/150 [04:38<02:37,  2.92s/it]"
     ]
    },
    {
     "name": "stdout",
     "output_type": "stream",
     "text": [
      "✅ 크롤링 완료: 통상교섭본부장, 동유럽 방문...\"부산 세계박람회 지지 요청\"...\n"
     ]
    },
    {
     "name": "stderr",
     "output_type": "stream",
     "text": [
      "📰 뉴스 본문 크롤링 진행:  65%|██████▍   | 97/150 [04:40<02:06,  2.38s/it]"
     ]
    },
    {
     "name": "stdout",
     "output_type": "stream",
     "text": [
      "✅ 크롤링 완료: 통상본부장, 대통령 특사로 헝가리·리투아니아·체코 방문...\n"
     ]
    },
    {
     "name": "stderr",
     "output_type": "stream",
     "text": [
      "📰 뉴스 본문 크롤링 진행:  65%|██████▌   | 98/150 [04:41<01:44,  2.01s/it]"
     ]
    },
    {
     "name": "stdout",
     "output_type": "stream",
     "text": [
      "⚠ 본문을 가져오지 못해 Selenium으로 재시도: http://www.fnnews.com/news/202210261117554408\n",
      "✅ 크롤링 완료: 안덕근 통상본부장, 동유럽 3국과 경제통상 협력 논의...\n"
     ]
    },
    {
     "name": "stderr",
     "output_type": "stream",
     "text": [
      "📰 뉴스 본문 크롤링 진행:  66%|██████▌   | 99/150 [04:46<02:32,  2.98s/it]"
     ]
    },
    {
     "name": "stdout",
     "output_type": "stream",
     "text": [
      "⚠ 본문을 가져오지 못해 Selenium으로 재시도: https://news.kbs.co.kr/news/view.do?ncd=5589714&ref=A\n",
      "✅ 크롤링 완료: 체코 총리 “한국과 원자력 협력 원해”...\n"
     ]
    },
    {
     "name": "stderr",
     "output_type": "stream",
     "text": [
      "📰 뉴스 본문 크롤링 진행:  67%|██████▋   | 100/150 [04:50<02:40,  3.22s/it]"
     ]
    },
    {
     "name": "stdout",
     "output_type": "stream",
     "text": [
      "⚠ 본문을 가져오지 못해 Selenium으로 재시도: https://www.news1.kr/articles/4839623\n",
      "✅ 크롤링 완료: 폴란드 원전 수주 임박 \"원전 세일즈 빛봤다\"…다음은 8兆 체코 원전...\n"
     ]
    },
    {
     "name": "stderr",
     "output_type": "stream",
     "text": [
      "📰 뉴스 본문 크롤링 진행:  67%|██████▋   | 101/150 [04:57<03:32,  4.34s/it]"
     ]
    },
    {
     "name": "stdout",
     "output_type": "stream",
     "text": [
      "✅ 크롤링 완료: 폴란드 원전 수출 물꼬 트였다… 두산에너빌리티, 수혜 기대감 커져...\n"
     ]
    },
    {
     "name": "stderr",
     "output_type": "stream",
     "text": [
      "📰 뉴스 본문 크롤링 진행:  68%|██████▊   | 102/150 [04:58<02:42,  3.38s/it]"
     ]
    },
    {
     "name": "stdout",
     "output_type": "stream",
     "text": [
      "✅ 크롤링 완료: 한수원, 원전 수출 탄력받나 싶더니 또 암초...\n"
     ]
    },
    {
     "name": "stderr",
     "output_type": "stream",
     "text": [
      "📰 뉴스 본문 크롤링 진행:  69%|██████▊   | 103/150 [04:59<02:11,  2.79s/it]"
     ]
    },
    {
     "name": "stdout",
     "output_type": "stream",
     "text": [
      "⚠ 본문을 가져오지 못해 Selenium으로 재시도: https://news.kmib.co.kr/article/view.asp?arcid=0924266742&code=11151400&cp=nv\n",
      "✅ 크롤링 완료: ‘동유럽 원전시장 관문’된 체코 시골마을… 한·미·프랑스 각축...\n"
     ]
    },
    {
     "name": "stderr",
     "output_type": "stream",
     "text": [
      "📰 뉴스 본문 크롤링 진행:  69%|██████▉   | 104/150 [05:04<02:32,  3.31s/it]"
     ]
    },
    {
     "name": "stdout",
     "output_type": "stream",
     "text": [
      "✅ 크롤링 완료: 폴란드 손잡은 K-원전, 사상 첫 유럽 수출 보인다...\n"
     ]
    },
    {
     "name": "stderr",
     "output_type": "stream",
     "text": [
      "📰 뉴스 본문 크롤링 진행:  70%|███████   | 105/150 [05:05<02:01,  2.70s/it]"
     ]
    },
    {
     "name": "stdout",
     "output_type": "stream",
     "text": [
      "✅ 크롤링 완료: [한국 원전 유럽진출 유력] 한·폴란드 정부·기업 간 협력...\n"
     ]
    },
    {
     "name": "stderr",
     "output_type": "stream",
     "text": [
      "📰 뉴스 본문 크롤링 진행:  71%|███████   | 106/150 [05:06<01:38,  2.23s/it]"
     ]
    },
    {
     "name": "stdout",
     "output_type": "stream",
     "text": [
      "⚠ 본문을 가져오지 못해 Selenium으로 재시도: https://biz.chosun.com/industry/company/2022/10/31/UMN4XROHTFEE5EGCOH5C7P7D7I/?utm_source=naver&utm_medium=original&utm_campaign=biz\n",
      "✅ 크롤링 완료: 폴란드 원전 수주 첫 단추 뀄지만… 美 견제는 풀어야 할 숙제...\n"
     ]
    },
    {
     "name": "stderr",
     "output_type": "stream",
     "text": [
      "📰 뉴스 본문 크롤링 진행:  71%|███████▏  | 107/150 [05:11<02:09,  3.01s/it]"
     ]
    },
    {
     "name": "stdout",
     "output_type": "stream",
     "text": [
      "⚠ 본문을 가져오지 못해 Selenium으로 재시도: https://news.kmib.co.kr/article/view.asp?arcid=0017530196&code=61141111&cp=nv\n",
      "✅ 크롤링 완료: [르포] 한수원이 주목하는 체코 포도밭?…알고 보면 유럽 원전시장 발판...\n"
     ]
    },
    {
     "name": "stderr",
     "output_type": "stream",
     "text": [
      "📰 뉴스 본문 크롤링 진행:  72%|███████▏  | 108/150 [05:15<02:20,  3.35s/it]"
     ]
    },
    {
     "name": "stdout",
     "output_type": "stream",
     "text": [
      "⚠ 본문을 가져오지 못해 Selenium으로 재시도: https://www.theguru.co.kr/news/article.html?no=42951\n",
      "✅ 크롤링 완료: 체코, 원전 비중 50% 이상…한수원 수주 이목...\n"
     ]
    },
    {
     "name": "stderr",
     "output_type": "stream",
     "text": [
      "📰 뉴스 본문 크롤링 진행:  73%|███████▎  | 109/150 [05:20<02:31,  3.69s/it]"
     ]
    },
    {
     "name": "stdout",
     "output_type": "stream",
     "text": [
      "✅ 크롤링 완료: 폴란드 '패트누브 원전' 수출 파란불…31일 한국서 협력의향서 체결 예......\n"
     ]
    },
    {
     "name": "stderr",
     "output_type": "stream",
     "text": [
      "📰 뉴스 본문 크롤링 진행:  73%|███████▎  | 110/150 [05:21<01:57,  2.94s/it]"
     ]
    },
    {
     "name": "stdout",
     "output_type": "stream",
     "text": [
      "✅ 크롤링 완료: 폴란드 '패트누브 원전' 수출 파란불…31일 한국서 협력의향서 체결 예......\n"
     ]
    },
    {
     "name": "stderr",
     "output_type": "stream",
     "text": [
      "📰 뉴스 본문 크롤링 진행:  74%|███████▍  | 111/150 [05:22<01:34,  2.42s/it]"
     ]
    },
    {
     "name": "stdout",
     "output_type": "stream",
     "text": [
      "⚠ 본문을 가져오지 못해 Selenium으로 재시도: https://www.chosun.com/opinion/editorial/2022/10/21/OWD7WCF6OFACRM4FV5KVXQZYNM/?utm_source=naver&utm_medium=referral&utm_campaign=naver-news\n",
      "✅ 크롤링 완료: [사설] 폴란드 ‘원전 수출 가능성’ 소식, 원전 주도국 재출발이길...\n"
     ]
    },
    {
     "name": "stderr",
     "output_type": "stream",
     "text": [
      "📰 뉴스 본문 크롤링 진행:  75%|███████▍  | 112/150 [05:28<02:08,  3.39s/it]"
     ]
    },
    {
     "name": "stdout",
     "output_type": "stream",
     "text": [
      "✅ 크롤링 완료: 韓, 폴란드 원전 수주 '청신호'…2030년까지 10기 수출 '탄력'...\n"
     ]
    },
    {
     "name": "stderr",
     "output_type": "stream",
     "text": [
      "📰 뉴스 본문 크롤링 진행:  75%|███████▌  | 113/150 [05:29<01:42,  2.76s/it]"
     ]
    },
    {
     "name": "stdout",
     "output_type": "stream",
     "text": [
      "✅ 크롤링 완료: \"한수원, 2주내 원전 신축 사업 서명\"…폴란드 수출 첫발 내딛나...\n"
     ]
    },
    {
     "name": "stderr",
     "output_type": "stream",
     "text": [
      "📰 뉴스 본문 크롤링 진행:  76%|███████▌  | 114/150 [05:30<01:22,  2.30s/it]"
     ]
    },
    {
     "name": "stdout",
     "output_type": "stream",
     "text": [
      "✅ 크롤링 완료: 황주호 한수원 사장 \"美소송 길게 끌면 서로 손해…한미 협력이 최선\"...\n"
     ]
    },
    {
     "name": "stderr",
     "output_type": "stream",
     "text": [
      "📰 뉴스 본문 크롤링 진행:  77%|███████▋  | 115/150 [05:31<01:08,  1.96s/it]"
     ]
    },
    {
     "name": "stdout",
     "output_type": "stream",
     "text": [
      "✅ 크롤링 완료: [2022 산업계 핫이슈] 경기 침체, IRA까지... 힘든 한해 보내...\n"
     ]
    },
    {
     "name": "stderr",
     "output_type": "stream",
     "text": [
      "📰 뉴스 본문 크롤링 진행:  77%|███████▋  | 116/150 [05:33<00:58,  1.72s/it]"
     ]
    },
    {
     "name": "stdout",
     "output_type": "stream",
     "text": [
      "✅ 크롤링 완료: [울산24시] 울산 동구, 치매안심가맹점 5개소 추가 지정...\n"
     ]
    },
    {
     "name": "stderr",
     "output_type": "stream",
     "text": [
      "📰 뉴스 본문 크롤링 진행:  78%|███████▊  | 117/150 [05:34<00:55,  1.68s/it]"
     ]
    },
    {
     "name": "stdout",
     "output_type": "stream",
     "text": [
      "✅ 크롤링 완료: [이슈대담] 중국, 대한항공·아시아나 합병 승인...\n"
     ]
    },
    {
     "name": "stderr",
     "output_type": "stream",
     "text": [
      "📰 뉴스 본문 크롤링 진행:  79%|███████▊  | 118/150 [05:35<00:48,  1.52s/it]"
     ]
    },
    {
     "name": "stdout",
     "output_type": "stream",
     "text": [
      "⚠ 본문을 가져오지 못해 Selenium으로 재시도: https://www.theguru.co.kr/news/article.html?no=45762\n",
      "✅ 크롤링 완료: 체코, 원전 후보군 본격 저울질…신고리 이어 美 보글 원전 방문...\n"
     ]
    },
    {
     "name": "stderr",
     "output_type": "stream",
     "text": [
      "📰 뉴스 본문 크롤링 진행:  79%|███████▉  | 119/150 [05:39<01:12,  2.32s/it]"
     ]
    },
    {
     "name": "stdout",
     "output_type": "stream",
     "text": [
      "✅ 크롤링 완료: 건설업계, SMR 개발 기대감에 '화색'…尹 \"4천억 투자\"...\n"
     ]
    },
    {
     "name": "stderr",
     "output_type": "stream",
     "text": [
      "📰 뉴스 본문 크롤링 진행:  80%|████████  | 120/150 [05:41<00:59,  1.98s/it]"
     ]
    },
    {
     "name": "stdout",
     "output_type": "stream",
     "text": [
      "⚠ 본문을 가져오지 못해 Selenium으로 재시도: https://www.theguru.co.kr/news/article.html?no=45762\n",
      "✅ 크롤링 완료: 체코, 원전 후보군 본격 저울질…신고리 이어 美 보글 원전 방문...\n"
     ]
    },
    {
     "name": "stderr",
     "output_type": "stream",
     "text": [
      "📰 뉴스 본문 크롤링 진행:  81%|████████  | 121/150 [05:45<01:15,  2.60s/it]"
     ]
    },
    {
     "name": "stdout",
     "output_type": "stream",
     "text": [
      "✅ 크롤링 완료: 건설업계, SMR 개발 기대감에 '화색'…尹 \"4천억 투자\"...\n"
     ]
    },
    {
     "name": "stderr",
     "output_type": "stream",
     "text": [
      "📰 뉴스 본문 크롤링 진행:  81%|████████▏ | 122/150 [05:46<01:00,  2.15s/it]"
     ]
    },
    {
     "name": "stdout",
     "output_type": "stream",
     "text": [
      "⚠ 본문을 가져오지 못해 Selenium으로 재시도: https://www.theguru.co.kr/news/article.html?no=45237\n",
      "✅ 크롤링 완료: '한수원·현대건설 참여' 체코 원전, 인접 국가 반발...\n"
     ]
    },
    {
     "name": "stderr",
     "output_type": "stream",
     "text": [
      "📰 뉴스 본문 크롤링 진행:  82%|████████▏ | 123/150 [05:50<01:13,  2.73s/it]"
     ]
    },
    {
     "name": "stdout",
     "output_type": "stream",
     "text": [
      "✅ 크롤링 완료: 체코 정부, 바라카 원전 찾았다…‘8兆’ 수주전 본격화...\n"
     ]
    },
    {
     "name": "stderr",
     "output_type": "stream",
     "text": [
      "📰 뉴스 본문 크롤링 진행:  83%|████████▎ | 124/150 [05:51<00:59,  2.28s/it]"
     ]
    },
    {
     "name": "stdout",
     "output_type": "stream",
     "text": [
      "⚠ 본문을 가져오지 못해 Selenium으로 재시도: https://www.theguru.co.kr/news/article.html?no=44980\n",
      "✅ 크롤링 완료: [단독] 한수원, 폴란드 원전 자금 49% 지원 고수…현지기업 5곳 추가 MOU...\n"
     ]
    },
    {
     "name": "stderr",
     "output_type": "stream",
     "text": [
      "📰 뉴스 본문 크롤링 진행:  83%|████████▎ | 125/150 [05:55<01:10,  2.82s/it]"
     ]
    },
    {
     "name": "stdout",
     "output_type": "stream",
     "text": [
      "✅ 크롤링 완료: 황주호 한수원 사장 \"한·미 원자력은 협력하는 것이 최선\"...\n"
     ]
    },
    {
     "name": "stderr",
     "output_type": "stream",
     "text": [
      "📰 뉴스 본문 크롤링 진행:  84%|████████▍ | 126/150 [05:57<00:57,  2.39s/it]"
     ]
    },
    {
     "name": "stdout",
     "output_type": "stream",
     "text": [
      "⚠ 본문을 가져오지 못해 Selenium으로 재시도: https://www.dnews.co.kr/uhtml/view.jsp?idxno=202210250944303980759\n",
      "✅ 크롤링 완료: 삐걱대는 韓-美 원전 동맹…해외 수주전략 '비상등'...\n"
     ]
    },
    {
     "name": "stderr",
     "output_type": "stream",
     "text": [
      "📰 뉴스 본문 크롤링 진행:  85%|████████▍ | 127/150 [06:01<01:09,  3.02s/it]"
     ]
    },
    {
     "name": "stdout",
     "output_type": "stream",
     "text": [
      "✅ 크롤링 완료: 원전업계 \"폴란드 원전 美소송, 韓이 앞선다는 증거\"…두산에너빌 기대......\n"
     ]
    },
    {
     "name": "stderr",
     "output_type": "stream",
     "text": [
      "📰 뉴스 본문 크롤링 진행:  85%|████████▌ | 128/150 [06:02<00:54,  2.46s/it]"
     ]
    },
    {
     "name": "stdout",
     "output_type": "stream",
     "text": [
      "⚠ 본문을 가져오지 못해 Selenium으로 재시도: http://www.munhwa.com/news/view.html?no=2022102001072403017001\n",
      "✅ 크롤링 완료: 한국, ‘K-방산’ 수출 이어…폴란드 신규 원전 수주 ‘청신호’...\n"
     ]
    },
    {
     "name": "stderr",
     "output_type": "stream",
     "text": [
      "📰 뉴스 본문 크롤링 진행:  86%|████████▌ | 129/150 [06:07<01:04,  3.09s/it]"
     ]
    },
    {
     "name": "stdout",
     "output_type": "stream",
     "text": [
      "✅ 크롤링 완료: 백정완 대우건설 대표, ‘정비사업 5조’ 수주 신기록 쓰며 최대 실적 ......\n"
     ]
    },
    {
     "name": "stderr",
     "output_type": "stream",
     "text": [
      "📰 뉴스 본문 크롤링 진행:  87%|████████▋ | 130/150 [06:08<00:51,  2.56s/it]"
     ]
    },
    {
     "name": "stdout",
     "output_type": "stream",
     "text": [
      "✅ 크롤링 완료: 백정완 대우건설 대표, ‘정비사업 5조’ 수주 신기록 쓰며 최대 실적 ......\n"
     ]
    },
    {
     "name": "stderr",
     "output_type": "stream",
     "text": [
      "📰 뉴스 본문 크롤링 진행:  87%|████████▋ | 131/150 [06:09<00:41,  2.17s/it]"
     ]
    },
    {
     "name": "stdout",
     "output_type": "stream",
     "text": [
      "⚠ 본문을 가져오지 못해 Selenium으로 재시도: https://news.kmib.co.kr/article/view.asp?arcid=0017552415&code=61141111&cp=nv\n",
      "✅ 크롤링 완료: 1년 새 70% 오른 전기료…원전으로 ‘에너지 안정’ 꿈꾸는 체코...\n"
     ]
    },
    {
     "name": "stderr",
     "output_type": "stream",
     "text": [
      "📰 뉴스 본문 크롤링 진행:  88%|████████▊ | 132/150 [06:13<00:49,  2.73s/it]"
     ]
    },
    {
     "name": "stdout",
     "output_type": "stream",
     "text": [
      "✅ 크롤링 완료: \"美 한수원 소송, 오래 끌면 中·러만 좋아\"...\n"
     ]
    },
    {
     "name": "stderr",
     "output_type": "stream",
     "text": [
      "📰 뉴스 본문 크롤링 진행:  89%|████████▊ | 133/150 [06:15<00:39,  2.30s/it]"
     ]
    },
    {
     "name": "stdout",
     "output_type": "stream",
     "text": [
      "✅ 크롤링 완료: '한국형 원자로' 놓고 韓·美 분쟁…KCAB에 중재도 제기...\n"
     ]
    },
    {
     "name": "stderr",
     "output_type": "stream",
     "text": [
      "📰 뉴스 본문 크롤링 진행:  89%|████████▉ | 134/150 [06:16<00:32,  2.01s/it]"
     ]
    },
    {
     "name": "stdout",
     "output_type": "stream",
     "text": [
      "✅ 크롤링 완료: 황주호 한수원 사장 \"한미 원자력 협력해야…소송 길게 끌면 서로 손해......\n"
     ]
    },
    {
     "name": "stderr",
     "output_type": "stream",
     "text": [
      "📰 뉴스 본문 크롤링 진행:  90%|█████████ | 135/150 [06:17<00:26,  1.75s/it]"
     ]
    },
    {
     "name": "stdout",
     "output_type": "stream",
     "text": [
      "⚠ 본문을 가져오지 못해 Selenium으로 재시도: http://www.munhwa.com/news/view.html?no=2022120801070205017003\n",
      "✅ 크롤링 완료: “수출도 성과 내도록 안전하게 운영할 것”...\n"
     ]
    },
    {
     "name": "stderr",
     "output_type": "stream",
     "text": [
      "📰 뉴스 본문 크롤링 진행:  91%|█████████ | 136/150 [06:23<00:39,  2.83s/it]"
     ]
    },
    {
     "name": "stdout",
     "output_type": "stream",
     "text": [
      "✅ 크롤링 완료: 폴란드 신규수주설에 웃는 원전주…\"관건은 규모·지속성\"...\n"
     ]
    },
    {
     "name": "stderr",
     "output_type": "stream",
     "text": [
      "📰 뉴스 본문 크롤링 진행:  91%|█████████▏| 137/150 [06:24<00:30,  2.36s/it]"
     ]
    },
    {
     "name": "stdout",
     "output_type": "stream",
     "text": [
      "⚠ 본문을 가져오지 못해 Selenium으로 재시도: https://economist.co.kr/2022/11/10/realEstate/erection/20221110070005425.html\n",
      "✅ 크롤링 완료: “SMR 선점하라” 국내 건설사들 기술 네트워크 구축 각축전 [친환경에......\n"
     ]
    },
    {
     "name": "stderr",
     "output_type": "stream",
     "text": [
      "📰 뉴스 본문 크롤링 진행:  92%|█████████▏| 138/150 [06:28<00:35,  2.94s/it]"
     ]
    },
    {
     "name": "stdout",
     "output_type": "stream",
     "text": [
      "✅ 크롤링 완료: 13년만에 'K원자로' 수출 간다…폴란드와 손잡고 2~4기 추진...\n"
     ]
    },
    {
     "name": "stderr",
     "output_type": "stream",
     "text": [
      "📰 뉴스 본문 크롤링 진행:  93%|█████████▎| 139/150 [06:29<00:26,  2.44s/it]"
     ]
    },
    {
     "name": "stdout",
     "output_type": "stream",
     "text": [
      "✅ 크롤링 완료: 안덕근 통상본부장, 동유럽 3국과 경제통상 협력 논의...\n"
     ]
    },
    {
     "name": "stderr",
     "output_type": "stream",
     "text": [
      "📰 뉴스 본문 크롤링 진행:  93%|█████████▎| 140/150 [06:31<00:21,  2.11s/it]"
     ]
    },
    {
     "name": "stdout",
     "output_type": "stream",
     "text": [
      "✅ 크롤링 완료: 안덕근 통상본부장, 동유럽 3국과 경제통상 협력 논의...\n"
     ]
    },
    {
     "name": "stderr",
     "output_type": "stream",
     "text": [
      "📰 뉴스 본문 크롤링 진행:  94%|█████████▍| 141/150 [06:32<00:16,  1.87s/it]"
     ]
    },
    {
     "name": "stdout",
     "output_type": "stream",
     "text": [
      "⚠ 본문을 가져오지 못해 Selenium으로 재시도: https://www.viva100.com/main/view.php?key=20221026010006530\n",
      "✅ 크롤링 완료: 한·헝가리, 공급망·청정에너지 분야 무역·투자 촉진 프레임워크 체결......\n"
     ]
    },
    {
     "name": "stderr",
     "output_type": "stream",
     "text": [
      "📰 뉴스 본문 크롤링 진행:  95%|█████████▍| 142/150 [06:37<00:21,  2.68s/it]"
     ]
    },
    {
     "name": "stdout",
     "output_type": "stream",
     "text": [
      "✅ 크롤링 완료: 안덕근 통상교섭본부장, 대통령 특사로 헝가리·리투아니아·체코 방문...\n"
     ]
    },
    {
     "name": "stderr",
     "output_type": "stream",
     "text": [
      "📰 뉴스 본문 크롤링 진행:  95%|█████████▌| 143/150 [06:38<00:15,  2.21s/it]"
     ]
    },
    {
     "name": "stdout",
     "output_type": "stream",
     "text": [
      "✅ 크롤링 완료: 통상본부장, 동유럽 3개국 방문…2030엑스포 지지 요청...\n"
     ]
    },
    {
     "name": "stderr",
     "output_type": "stream",
     "text": [
      "📰 뉴스 본문 크롤링 진행:  96%|█████████▌| 144/150 [06:39<00:11,  1.97s/it]"
     ]
    },
    {
     "name": "stdout",
     "output_type": "stream",
     "text": [
      "✅ 크롤링 완료: 안덕근 통상본부장, 헝가리·체코 등 유럽 3개국 방문…협력 방안 논의...\n"
     ]
    },
    {
     "name": "stderr",
     "output_type": "stream",
     "text": [
      "📰 뉴스 본문 크롤링 진행:  97%|█████████▋| 145/150 [06:40<00:08,  1.74s/it]"
     ]
    },
    {
     "name": "stdout",
     "output_type": "stream",
     "text": [
      "✅ 크롤링 완료: 통상본부장, 대통령 특사로 헝가리·리투아니아·체코 방문...\n"
     ]
    },
    {
     "name": "stderr",
     "output_type": "stream",
     "text": [
      "📰 뉴스 본문 크롤링 진행:  97%|█████████▋| 146/150 [06:42<00:06,  1.60s/it]"
     ]
    },
    {
     "name": "stdout",
     "output_type": "stream",
     "text": [
      "⚠ 본문을 가져오지 못해 Selenium으로 재시도: http://www.edaily.co.kr/news/newspath.asp?newsid=02899526632496856\n",
      "✅ 크롤링 완료: 통상본부장, 동유럽 3개국 방문…부산엑스포 지지 요청...\n"
     ]
    },
    {
     "name": "stderr",
     "output_type": "stream",
     "text": [
      "📰 뉴스 본문 크롤링 진행:  98%|█████████▊| 147/150 [06:47<00:08,  2.75s/it]"
     ]
    },
    {
     "name": "stdout",
     "output_type": "stream",
     "text": [
      "✅ 크롤링 완료: 통상교섭본부장, 동유럽 방문...\"부산 세계박람회 지지 요청\"...\n"
     ]
    },
    {
     "name": "stderr",
     "output_type": "stream",
     "text": [
      "📰 뉴스 본문 크롤링 진행:  99%|█████████▊| 148/150 [06:48<00:04,  2.26s/it]"
     ]
    },
    {
     "name": "stdout",
     "output_type": "stream",
     "text": [
      "⚠ 본문을 가져오지 못해 Selenium으로 재시도: http://www.fnnews.com/news/202210261117554408\n",
      "✅ 크롤링 완료: 안덕근 통상본부장, 동유럽 3국과 경제통상 협력 논의...\n"
     ]
    },
    {
     "name": "stderr",
     "output_type": "stream",
     "text": [
      "📰 뉴스 본문 크롤링 진행:  99%|█████████▉| 149/150 [06:54<00:03,  3.48s/it]"
     ]
    },
    {
     "name": "stdout",
     "output_type": "stream",
     "text": [
      "⚠ 본문을 가져오지 못해 Selenium으로 재시도: https://news.kbs.co.kr/news/view.do?ncd=5589714&ref=A\n",
      "✅ 크롤링 완료: 체코 총리 “한국과 원자력 협력 원해”...\n"
     ]
    },
    {
     "name": "stderr",
     "output_type": "stream",
     "text": [
      "📰 뉴스 본문 크롤링 진행: 100%|██████████| 150/150 [06:58<00:00,  2.79s/it]\n"
     ]
    },
    {
     "name": "stdout",
     "output_type": "stream",
     "text": [
      "🔍 검색 중: 두코바니 원전 (2023.01.01 ~ 2023.03.31)\n",
      "✅ 144개의 뉴스 기사 링크 및 날짜를 수집 완료! (2023.01.01 ~ 2023.03.31)\n"
     ]
    },
    {
     "name": "stderr",
     "output_type": "stream",
     "text": [
      "📰 뉴스 본문 크롤링 진행:   0%|          | 0/144 [00:00<?, ?it/s]"
     ]
    },
    {
     "name": "stdout",
     "output_type": "stream",
     "text": [
      "✅ 크롤링 완료: 한총리, 체코 하원의장 면담…\"두코바니 원전 韓 참여에 관심을\"...\n"
     ]
    },
    {
     "name": "stderr",
     "output_type": "stream",
     "text": [
      "📰 뉴스 본문 크롤링 진행:   1%|          | 1/144 [00:01<02:56,  1.23s/it]"
     ]
    },
    {
     "name": "stdout",
     "output_type": "stream",
     "text": [
      "✅ 크롤링 완료: 김진표, 체코 하원의장 면담…두코바니 원전 韓 수주·부산엑스포 유치......\n"
     ]
    },
    {
     "name": "stderr",
     "output_type": "stream",
     "text": [
      "📰 뉴스 본문 크롤링 진행:   1%|▏         | 2/144 [00:02<03:09,  1.33s/it]"
     ]
    },
    {
     "name": "stdout",
     "output_type": "stream",
     "text": [
      "⚠ 본문을 가져오지 못해 Selenium으로 재시도: https://www.nocutnews.co.kr/news/5915189\n",
      "✅ 크롤링 완료: 주낙영 경주시장, 동유럽서 '원전 세일즈·협력 강화'...\n"
     ]
    },
    {
     "name": "stderr",
     "output_type": "stream",
     "text": [
      "📰 뉴스 본문 크롤링 진행:   2%|▏         | 3/144 [00:08<07:36,  3.24s/it]"
     ]
    },
    {
     "name": "stdout",
     "output_type": "stream",
     "text": [
      "⚠ 본문을 가져오지 못해 Selenium으로 재시도: https://hankookilbo.com/News/Read/A2023032608450001476?did=NA\n",
      "✅ 크롤링 완료: SMR국가산단 품은 경주시, 체코서 '한수원 수주' 원전 세일즈...\n"
     ]
    },
    {
     "name": "stderr",
     "output_type": "stream",
     "text": [
      "📰 뉴스 본문 크롤링 진행:   3%|▎         | 4/144 [00:18<14:19,  6.14s/it]"
     ]
    },
    {
     "name": "stdout",
     "output_type": "stream",
     "text": [
      "✅ 크롤링 완료: 주낙영 경주시장, 체코 등 동유럽서 '원전 세일즈·협력 강화'...\n"
     ]
    },
    {
     "name": "stderr",
     "output_type": "stream",
     "text": [
      "📰 뉴스 본문 크롤링 진행:   3%|▎         | 5/144 [00:19<10:07,  4.37s/it]"
     ]
    },
    {
     "name": "stdout",
     "output_type": "stream",
     "text": [
      "✅ 크롤링 완료: [단독]두산에너빌리티, 2.9조 원전계약…신한울 3·4호기 수주성공...\n"
     ]
    },
    {
     "name": "stderr",
     "output_type": "stream",
     "text": [
      "📰 뉴스 본문 크롤링 진행:   4%|▍         | 6/144 [00:21<08:00,  3.49s/it]"
     ]
    },
    {
     "name": "stdout",
     "output_type": "stream",
     "text": [
      "✅ 크롤링 완료: 주낙영 경주시장, 동유럽 3개국 방문...원전 수출 지원...\n"
     ]
    },
    {
     "name": "stderr",
     "output_type": "stream",
     "text": [
      "📰 뉴스 본문 크롤링 진행:   5%|▍         | 7/144 [00:23<06:37,  2.90s/it]"
     ]
    },
    {
     "name": "stdout",
     "output_type": "stream",
     "text": [
      "✅ 크롤링 완료: 주낙영 경주시장, K-원전 체코 수주활동에 힘 보태...\n"
     ]
    },
    {
     "name": "stderr",
     "output_type": "stream",
     "text": [
      "📰 뉴스 본문 크롤링 진행:   6%|▌         | 8/144 [00:25<05:38,  2.49s/it]"
     ]
    },
    {
     "name": "stdout",
     "output_type": "stream",
     "text": [
      "⚠ 본문을 가져오지 못해 Selenium으로 재시도: https://www.wikitree.co.kr/articles/837829\n",
      "✅ 크롤링 완료: 주낙영 경주시장, 체코 K-원전 수주에 힘 보태...\n"
     ]
    },
    {
     "name": "stderr",
     "output_type": "stream",
     "text": [
      "📰 뉴스 본문 크롤링 진행:   6%|▋         | 9/144 [00:32<08:57,  3.98s/it]"
     ]
    },
    {
     "name": "stdout",
     "output_type": "stream",
     "text": [
      "⚠ 본문을 가져오지 못해 Selenium으로 재시도: https://news.kbs.co.kr/news/view.do?ncd=7629198&ref=A\n",
      "✅ 크롤링 완료: EU “보조금 받으면 입찰 제한”…원전 수출도 영향?...\n"
     ]
    },
    {
     "name": "stderr",
     "output_type": "stream",
     "text": [
      "📰 뉴스 본문 크롤링 진행:   7%|▋         | 10/144 [00:36<09:05,  4.07s/it]"
     ]
    },
    {
     "name": "stdout",
     "output_type": "stream",
     "text": [
      "✅ 크롤링 완료: K-원전 체코 수출 지원 나선 경주시, 우호협력 의향서 체결 '성과'...\n"
     ]
    },
    {
     "name": "stderr",
     "output_type": "stream",
     "text": [
      "📰 뉴스 본문 크롤링 진행:   8%|▊         | 11/144 [00:37<07:05,  3.20s/it]"
     ]
    },
    {
     "name": "stdout",
     "output_type": "stream",
     "text": [
      "⚠ 본문을 가져오지 못해 Selenium으로 재시도: https://news.kbs.co.kr/news/view.do?ncd=7629524&ref=A\n",
      "✅ 크롤링 완료: EU “보조금 받으면 입찰 제한”…원전 수출도 영향?...\n"
     ]
    },
    {
     "name": "stderr",
     "output_type": "stream",
     "text": [
      "📰 뉴스 본문 크롤링 진행:   8%|▊         | 12/144 [00:41<07:23,  3.36s/it]"
     ]
    },
    {
     "name": "stdout",
     "output_type": "stream",
     "text": [
      "✅ 크롤링 완료: 김진표 의장, 체코 하원의장 만나 원전·수소 협력 논의...\n"
     ]
    },
    {
     "name": "stderr",
     "output_type": "stream",
     "text": [
      "📰 뉴스 본문 크롤링 진행:   9%|▉         | 13/144 [00:42<06:00,  2.75s/it]"
     ]
    },
    {
     "name": "stdout",
     "output_type": "stream",
     "text": [
      "⚠ 본문을 가져오지 못해 Selenium으로 재시도: http://www.breaknews.com/955242\n",
      "✅ 크롤링 완료: 주낙영 경주시장, 동유럽 3개국 방문 마치고 귀국길 올라...K-원전 수주......\n"
     ]
    },
    {
     "name": "stderr",
     "output_type": "stream",
     "text": [
      "📰 뉴스 본문 크롤링 진행:  10%|▉         | 14/144 [00:50<08:51,  4.09s/it]"
     ]
    },
    {
     "name": "stdout",
     "output_type": "stream",
     "text": [
      "✅ 크롤링 완료: 경주시-시의회 원전 수출 지원에 나선다…체코에 원전 수출 지원...\n"
     ]
    },
    {
     "name": "stderr",
     "output_type": "stream",
     "text": [
      "📰 뉴스 본문 크롤링 진행:  10%|█         | 15/144 [00:51<06:54,  3.21s/it]"
     ]
    },
    {
     "name": "stdout",
     "output_type": "stream",
     "text": [
      "⚠ 본문을 가져오지 못해 Selenium으로 재시도: https://www.theguru.co.kr/news/article.html?no=50538\n",
      "✅ 크롤링 완료: 웨스팅하우스, 체코기업 대상 원전설명회 개최…현지 공급망 확대 박차...\n"
     ]
    },
    {
     "name": "stderr",
     "output_type": "stream",
     "text": [
      "📰 뉴스 본문 크롤링 진행:  11%|█         | 16/144 [00:55<07:41,  3.61s/it]"
     ]
    },
    {
     "name": "stdout",
     "output_type": "stream",
     "text": [
      "⚠ 본문을 가져오지 못해 Selenium으로 재시도: https://www.theguru.co.kr/news/article.html?no=50155\n",
      "✅ 크롤링 완료: [단독] 체코, 韓美佛 대상 '원전' 릴레이 협상 돌입…9월 최종 입찰제안...\n"
     ]
    },
    {
     "name": "stderr",
     "output_type": "stream",
     "text": [
      "📰 뉴스 본문 크롤링 진행:  12%|█▏        | 17/144 [00:59<08:00,  3.79s/it]"
     ]
    },
    {
     "name": "stdout",
     "output_type": "stream",
     "text": [
      "⚠ 본문을 가져오지 못해 Selenium으로 재시도: https://www.theguru.co.kr/news/article.html?no=50020\n",
      "✅ 크롤링 완료: [단독] 한미, 체코 원전 공동수주 물 건너갔다…\"사업자 1곳만 선정\"...\n"
     ]
    },
    {
     "name": "stderr",
     "output_type": "stream",
     "text": [
      "📰 뉴스 본문 크롤링 진행:  12%|█▎        | 18/144 [01:04<08:20,  3.97s/it]"
     ]
    },
    {
     "name": "stdout",
     "output_type": "stream",
     "text": [
      "⚠ 본문을 가져오지 못해 Selenium으로 재시도: https://www.theguru.co.kr/news/article.html?no=50004\n",
      "✅ 크롤링 완료: 美, 체코에 2억 달러 방위비 지원…\"원전 수주전 우위 포석\"...\n"
     ]
    },
    {
     "name": "stderr",
     "output_type": "stream",
     "text": [
      "📰 뉴스 본문 크롤링 진행:  13%|█▎        | 19/144 [01:08<08:29,  4.08s/it]"
     ]
    },
    {
     "name": "stdout",
     "output_type": "stream",
     "text": [
      "✅ 크롤링 완료: 폴란드, 이르면 7월 원전 타당성조사…체코·영국·튀르키예 등 원전 수......\n"
     ]
    },
    {
     "name": "stderr",
     "output_type": "stream",
     "text": [
      "📰 뉴스 본문 크롤링 진행:  14%|█▍        | 20/144 [01:09<06:35,  3.19s/it]"
     ]
    },
    {
     "name": "stdout",
     "output_type": "stream",
     "text": [
      "⚠ 본문을 가져오지 못해 Selenium으로 재시도: http://www.edaily.co.kr/news/newspath.asp?newsid=03939286635513472\n",
      "✅ 크롤링 완료: 한수원, 체코·폴란드 원전 수출 '총력전'...\n"
     ]
    },
    {
     "name": "stderr",
     "output_type": "stream",
     "text": [
      "📰 뉴스 본문 크롤링 진행:  15%|█▍        | 21/144 [01:15<08:00,  3.90s/it]"
     ]
    },
    {
     "name": "stdout",
     "output_type": "stream",
     "text": [
      "⚠ 본문을 가져오지 못해 Selenium으로 재시도: https://www.theguru.co.kr/news/article.html?no=49925\n",
      "✅ 크롤링 완료: 웨스팅하우스, 체코 거점 수장에 현지인 선임…원전 수주전 우위 확보...\n"
     ]
    },
    {
     "name": "stderr",
     "output_type": "stream",
     "text": [
      "📰 뉴스 본문 크롤링 진행:  15%|█▌        | 22/144 [01:19<08:16,  4.07s/it]"
     ]
    },
    {
     "name": "stdout",
     "output_type": "stream",
     "text": [
      "⚠ 본문을 가져오지 못해 Selenium으로 재시도: https://www.theguru.co.kr/news/article.html?no=48797\n",
      "✅ 크롤링 완료: 체코 산업부 장관 \"원전 4기 필요, 속도감 있게 진행해야\"…한수원 기대......\n"
     ]
    },
    {
     "name": "stderr",
     "output_type": "stream",
     "text": [
      "📰 뉴스 본문 크롤링 진행:  16%|█▌        | 23/144 [01:24<08:18,  4.12s/it]"
     ]
    },
    {
     "name": "stdout",
     "output_type": "stream",
     "text": [
      "✅ 크롤링 완료: [특징주]소룩스, 윤석열 정부 원전 기술개발 적극 지원...세계 최초 원전......\n"
     ]
    },
    {
     "name": "stderr",
     "output_type": "stream",
     "text": [
      "📰 뉴스 본문 크롤링 진행:  17%|█▋        | 24/144 [01:25<06:33,  3.28s/it]"
     ]
    },
    {
     "name": "stdout",
     "output_type": "stream",
     "text": [
      "⚠ 본문을 가져오지 못해 Selenium으로 재시도: http://www.fnnews.com/news/202302121829388884\n",
      "✅ 크롤링 완료: 원전 수출 '팀 코리아'...제2 바라카 신화 쓴다...\n"
     ]
    },
    {
     "name": "stderr",
     "output_type": "stream",
     "text": [
      "📰 뉴스 본문 크롤링 진행:  17%|█▋        | 25/144 [01:31<08:04,  4.07s/it]"
     ]
    },
    {
     "name": "stdout",
     "output_type": "stream",
     "text": [
      "✅ 크롤링 완료: \"좋은 원전, 빠르고 싸게\"...다보스서 '원전 세일즈' 나선 산업장관...\n"
     ]
    },
    {
     "name": "stderr",
     "output_type": "stream",
     "text": [
      "📰 뉴스 본문 크롤링 진행:  18%|█▊        | 26/144 [01:33<06:39,  3.38s/it]"
     ]
    },
    {
     "name": "stdout",
     "output_type": "stream",
     "text": [
      "✅ 크롤링 완료: 韓 원전 해외수출 속도…원전 中企 \"하나만 성사돼도 숨통\"...\n"
     ]
    },
    {
     "name": "stderr",
     "output_type": "stream",
     "text": [
      "📰 뉴스 본문 크롤링 진행:  19%|█▉        | 27/144 [01:34<05:32,  2.85s/it]"
     ]
    },
    {
     "name": "stdout",
     "output_type": "stream",
     "text": [
      "⚠ 본문을 가져오지 못해 Selenium으로 재시도: https://www.munhwa.com/news/view.html?no=2023013101031905017001\n",
      "✅ 크롤링 완료: 한전, 튀르키예 원전사업 예비제안서 제출...\n"
     ]
    },
    {
     "name": "stderr",
     "output_type": "stream",
     "text": [
      "📰 뉴스 본문 크롤링 진행:  19%|█▉        | 28/144 [01:39<06:45,  3.50s/it]"
     ]
    },
    {
     "name": "stdout",
     "output_type": "stream",
     "text": [
      "✅ 크롤링 완료: 20조 바라카 넘는 튀르키예 원전수주 노린다…한전, 제안서 제출(종합)...\n"
     ]
    },
    {
     "name": "stderr",
     "output_type": "stream",
     "text": [
      "📰 뉴스 본문 크롤링 진행:  20%|██        | 29/144 [01:40<05:24,  2.82s/it]"
     ]
    },
    {
     "name": "stdout",
     "output_type": "stream",
     "text": [
      "⚠ 본문을 가져오지 못해 Selenium으로 재시도: https://www.theguru.co.kr/news/article.html?no=48443\n",
      "✅ 크롤링 완료: [단독] 황주호 한수원 사장, 다보스서 주제발표…'尹 원전 수출' 날개...\n"
     ]
    },
    {
     "name": "stderr",
     "output_type": "stream",
     "text": [
      "📰 뉴스 본문 크롤링 진행:  21%|██        | 30/144 [01:45<06:08,  3.23s/it]"
     ]
    },
    {
     "name": "stdout",
     "output_type": "stream",
     "text": [
      "✅ 크롤링 완료: 침체 원전 생태계에 변화의 바람 ... 'K-원전 세일즈'에 일감 공급 기대......\n"
     ]
    },
    {
     "name": "stderr",
     "output_type": "stream",
     "text": [
      "📰 뉴스 본문 크롤링 진행:  22%|██▏       | 31/144 [01:46<05:03,  2.68s/it]"
     ]
    },
    {
     "name": "stdout",
     "output_type": "stream",
     "text": [
      "⚠ 본문을 가져오지 못해 Selenium으로 재시도: https://www.dnews.co.kr/uhtml/view.jsp?idxno=202301191329479080941\n",
      "✅ 크롤링 완료: 정부, 다보스포럼서 풍력ㆍ원전 등 성과내기 박차...\n"
     ]
    },
    {
     "name": "stderr",
     "output_type": "stream",
     "text": [
      "📰 뉴스 본문 크롤링 진행:  22%|██▏       | 32/144 [01:51<06:14,  3.35s/it]"
     ]
    },
    {
     "name": "stdout",
     "output_type": "stream",
     "text": [
      "✅ 크롤링 완료: 1조→46조…尹의 8개월간 '원전 수출' 그래프...\n"
     ]
    },
    {
     "name": "stderr",
     "output_type": "stream",
     "text": [
      "📰 뉴스 본문 크롤링 진행:  23%|██▎       | 33/144 [01:52<04:58,  2.69s/it]"
     ]
    },
    {
     "name": "stdout",
     "output_type": "stream",
     "text": [
      "✅ 크롤링 완료: \"반도체 공백 메워라\"…원전·방산 급부상...\n"
     ]
    },
    {
     "name": "stderr",
     "output_type": "stream",
     "text": [
      "📰 뉴스 본문 크롤링 진행:  24%|██▎       | 34/144 [01:53<04:12,  2.29s/it]"
     ]
    },
    {
     "name": "stdout",
     "output_type": "stream",
     "text": [
      "⚠ 본문을 가져오지 못해 Selenium으로 재시도: http://www.munhwa.com/news/view.html?no=2023011301070505017001\n",
      "✅ 크롤링 완료: 산업부 “체코·필리핀 등 전략채널 강화… 원전 수주 가능성 높일것”...\n"
     ]
    },
    {
     "name": "stderr",
     "output_type": "stream",
     "text": [
      "📰 뉴스 본문 크롤링 진행:  24%|██▍       | 35/144 [01:57<05:06,  2.81s/it]"
     ]
    },
    {
     "name": "stdout",
     "output_type": "stream",
     "text": [
      "✅ 크롤링 완료: 러 로사톰이 K-원전에 주는 교훈…\"사업개발 역량 장착은 필수\"...\n"
     ]
    },
    {
     "name": "stderr",
     "output_type": "stream",
     "text": [
      "📰 뉴스 본문 크롤링 진행:  25%|██▌       | 36/144 [01:59<04:24,  2.45s/it]"
     ]
    },
    {
     "name": "stdout",
     "output_type": "stream",
     "text": [
      "⚠ 본문을 가져오지 못해 Selenium으로 재시도: https://www.seoul.co.kr/news/newsView.php?id=20230109023013&wlog_tag3=naver\n",
      "✅ 크롤링 완료: [단독] “원전은 전기료 구원투수… 태양광보다 탄소배출 적은 블루수소......\n"
     ]
    },
    {
     "name": "stderr",
     "output_type": "stream",
     "text": [
      "📰 뉴스 본문 크롤링 진행:  26%|██▌       | 37/144 [02:06<06:42,  3.76s/it]"
     ]
    },
    {
     "name": "stdout",
     "output_type": "stream",
     "text": [
      "✅ 크롤링 완료: 황주호 한수원 사장 \"원전수출 모델 무궁무진…계속운전 등에 역량 집중......\n"
     ]
    },
    {
     "name": "stderr",
     "output_type": "stream",
     "text": [
      "📰 뉴스 본문 크롤링 진행:  26%|██▋       | 38/144 [02:07<05:27,  3.09s/it]"
     ]
    },
    {
     "name": "stdout",
     "output_type": "stream",
     "text": [
      "✅ 크롤링 완료: \"온 타임 온 버짓만 능사 아냐\"…금융이 결정짓는 원전수출...\n"
     ]
    },
    {
     "name": "stderr",
     "output_type": "stream",
     "text": [
      "📰 뉴스 본문 크롤링 진행:  27%|██▋       | 39/144 [02:09<04:33,  2.61s/it]"
     ]
    },
    {
     "name": "stdout",
     "output_type": "stream",
     "text": [
      "✅ 크롤링 완료: \"한국에 투자하세요\"…尹대통령·재계 일제히 'Buy Korea'...\n"
     ]
    },
    {
     "name": "stderr",
     "output_type": "stream",
     "text": [
      "📰 뉴스 본문 크롤링 진행:  28%|██▊       | 40/144 [02:10<03:51,  2.22s/it]"
     ]
    },
    {
     "name": "stdout",
     "output_type": "stream",
     "text": [
      "✅ 크롤링 완료: KINGS 유학생- 에디타 마시에이(폴란드), 얀 후루시코비치(체코)...\n"
     ]
    },
    {
     "name": "stderr",
     "output_type": "stream",
     "text": [
      "📰 뉴스 본문 크롤링 진행:  28%|██▊       | 41/144 [02:12<03:24,  1.99s/it]"
     ]
    },
    {
     "name": "stdout",
     "output_type": "stream",
     "text": [
      "✅ 크롤링 완료: 경주시, 동유럽 순방서 선물보따리 잔뜩...\n"
     ]
    },
    {
     "name": "stderr",
     "output_type": "stream",
     "text": [
      "📰 뉴스 본문 크롤링 진행:  29%|██▉       | 42/144 [02:13<03:00,  1.77s/it]"
     ]
    },
    {
     "name": "stdout",
     "output_type": "stream",
     "text": [
      "✅ 크롤링 완료: [분석] 경주지역과 한수원, 불편한 동거 7년째···세일즈 외교로 해소......\n"
     ]
    },
    {
     "name": "stderr",
     "output_type": "stream",
     "text": [
      "📰 뉴스 본문 크롤링 진행:  30%|██▉       | 43/144 [02:14<02:42,  1.61s/it]"
     ]
    },
    {
     "name": "stdout",
     "output_type": "stream",
     "text": [
      "⚠ 본문을 가져오지 못해 Selenium으로 재시도: https://www.asiatoday.co.kr/view.php?key=20230213010007081\n",
      "✅ 크롤링 완료: 원전 수출 나서는 '팀 코리아'…사용후핵연료·생태계 복원은 숙제...\n"
     ]
    },
    {
     "name": "stderr",
     "output_type": "stream",
     "text": [
      "📰 뉴스 본문 크롤링 진행:  31%|███       | 44/144 [02:22<05:37,  3.37s/it]"
     ]
    },
    {
     "name": "stdout",
     "output_type": "stream",
     "text": [
      "⚠ 본문을 가져오지 못해 Selenium으로 재시도: https://news.imaeil.com/page/view/2023020710321798969\n",
      "✅ 크롤링 완료: \"2030년까지 원전 10기 수출\" 한수원, 컨설팅 용역 착수회...\n"
     ]
    },
    {
     "name": "stderr",
     "output_type": "stream",
     "text": [
      "📰 뉴스 본문 크롤링 진행:  31%|███▏      | 45/144 [02:30<08:03,  4.88s/it]"
     ]
    },
    {
     "name": "stdout",
     "output_type": "stream",
     "text": [
      "✅ 크롤링 완료: 신한울 3·4호기 주기기 제작 착수…한수원 원전생태계 복원·활성화 힘......\n"
     ]
    },
    {
     "name": "stderr",
     "output_type": "stream",
     "text": [
      "📰 뉴스 본문 크롤링 진행:  32%|███▏      | 46/144 [02:31<06:10,  3.78s/it]"
     ]
    },
    {
     "name": "stdout",
     "output_type": "stream",
     "text": [
      "✅ 크롤링 완료: 위기의 건설업계, 새 먹거리 '원전 사업'에 방점 찍는다...\n"
     ]
    },
    {
     "name": "stderr",
     "output_type": "stream",
     "text": [
      "📰 뉴스 본문 크롤링 진행:  33%|███▎      | 47/144 [02:33<04:53,  3.02s/it]"
     ]
    },
    {
     "name": "stdout",
     "output_type": "stream",
     "text": [
      "⚠ 본문을 가져오지 못해 Selenium으로 재시도: https://www.seoul.co.kr/news/newsView.php?id=20230109001010&wlog_tag3=naver\n",
      "✅ 크롤링 완료: [단독] “네덜란드·카자흐에 맞춤형 원전 패키지”...\n"
     ]
    },
    {
     "name": "stderr",
     "output_type": "stream",
     "text": [
      "📰 뉴스 본문 크롤링 진행:  33%|███▎      | 48/144 [02:38<05:53,  3.69s/it]"
     ]
    },
    {
     "name": "stdout",
     "output_type": "stream",
     "text": [
      "✅ 크롤링 완료: [단독] 황주호 “네덜란드 등에 맞춤형 원전 수주 제안…원전 ‘청정수......\n"
     ]
    },
    {
     "name": "stderr",
     "output_type": "stream",
     "text": [
      "📰 뉴스 본문 크롤링 진행:  34%|███▍      | 49/144 [02:39<04:52,  3.07s/it]"
     ]
    },
    {
     "name": "stdout",
     "output_type": "stream",
     "text": [
      "✅ 크롤링 완료: [신년기획]혹한기 들어선 반도체…원전·방산 수출 힘준다...\n"
     ]
    },
    {
     "name": "stderr",
     "output_type": "stream",
     "text": [
      "📰 뉴스 본문 크롤링 진행:  35%|███▍      | 50/144 [02:41<04:04,  2.60s/it]"
     ]
    },
    {
     "name": "stdout",
     "output_type": "stream",
     "text": [
      "✅ 크롤링 완료: 수주 목표 올린 두산에너빌리티, 올해 잭팟 기대감 커진다...\n"
     ]
    },
    {
     "name": "stderr",
     "output_type": "stream",
     "text": [
      "📰 뉴스 본문 크롤링 진행:  35%|███▌      | 51/144 [02:42<03:23,  2.19s/it]"
     ]
    },
    {
     "name": "stdout",
     "output_type": "stream",
     "text": [
      "⚠ 본문을 가져오지 못해 Selenium으로 재시도: http://www.naeil.com/news_view/?id_art=450436\n",
      "✅ 크롤링 완료: 올해 건설수주 국내보다는 해외...\n"
     ]
    },
    {
     "name": "stderr",
     "output_type": "stream",
     "text": [
      "📰 뉴스 본문 크롤링 진행:  36%|███▌      | 52/144 [02:47<04:38,  3.03s/it]"
     ]
    },
    {
     "name": "stdout",
     "output_type": "stream",
     "text": [
      "⚠ 본문을 가져오지 못해 Selenium으로 재시도: https://www.munhwa.com/news/view.html?no=2023020601033005017001\n",
      "✅ 크롤링 완료: [뉴스와 시각]중산층 난방비 지원 역효과...\n"
     ]
    },
    {
     "name": "stderr",
     "output_type": "stream",
     "text": [
      "📰 뉴스 본문 크롤링 진행:  37%|███▋      | 53/144 [02:51<05:10,  3.41s/it]"
     ]
    },
    {
     "name": "stdout",
     "output_type": "stream",
     "text": [
      "⚠ 본문을 가져오지 못해 Selenium으로 재시도: http://www.g-enews.com/ko-kr/news/article/news_all/2023020215184967607bdb7041ec_1/article.html\n",
      "✅ 크롤링 완료: 넥센타이어 체코공장 파업, 완성차 넘어 한국기업으로 불똥 튀나...\n"
     ]
    },
    {
     "name": "stderr",
     "output_type": "stream",
     "text": [
      "📰 뉴스 본문 크롤링 진행:  38%|███▊      | 54/144 [02:57<05:59,  3.99s/it]"
     ]
    },
    {
     "name": "stdout",
     "output_type": "stream",
     "text": [
      "⚠ 본문을 가져오지 못해 Selenium으로 재시도: http://www.wsobi.com/news/articleView.html?idxno=187704\n",
      "✅ 크롤링 완료: 현대건설-대우건설-삼성물산-DL이앤씨, 신규 먹거리로 SMR 낙점...\n"
     ]
    },
    {
     "name": "stderr",
     "output_type": "stream",
     "text": [
      "📰 뉴스 본문 크롤링 진행:  38%|███▊      | 55/144 [03:01<05:55,  3.99s/it]"
     ]
    },
    {
     "name": "stdout",
     "output_type": "stream",
     "text": [
      "✅ 크롤링 완료: [신년 기획] 해외 저변 확대로 내실 경영 '강화'...\n"
     ]
    },
    {
     "name": "stderr",
     "output_type": "stream",
     "text": [
      "📰 뉴스 본문 크롤링 진행:  39%|███▉      | 56/144 [03:02<04:37,  3.15s/it]"
     ]
    },
    {
     "name": "stdout",
     "output_type": "stream",
     "text": [
      "⚠ 본문을 가져오지 못해 Selenium으로 재시도: http://www.munhwa.com/news/view.html?no=2023010201032005017001\n",
      "✅ 크롤링 완료: 고리 2·3·4호기 현역연장 순항… 에너지 위기속 구원투수로...\n"
     ]
    },
    {
     "name": "stderr",
     "output_type": "stream",
     "text": [
      "📰 뉴스 본문 크롤링 진행:  40%|███▉      | 57/144 [03:07<05:14,  3.62s/it]"
     ]
    },
    {
     "name": "stdout",
     "output_type": "stream",
     "text": [
      "✅ 크롤링 완료: [초점] 한국전력기술 - 내일을 위한 에너지 기술...\n"
     ]
    },
    {
     "name": "stderr",
     "output_type": "stream",
     "text": [
      "📰 뉴스 본문 크롤링 진행:  40%|████      | 58/144 [03:08<04:08,  2.89s/it]"
     ]
    },
    {
     "name": "stdout",
     "output_type": "stream",
     "text": [
      "✅ 크롤링 완료: 힘차게 뛰는 토끼처럼…대한민국의 도약을 위해 우리가 앞장서 달리겠습......\n"
     ]
    },
    {
     "name": "stderr",
     "output_type": "stream",
     "text": [
      "📰 뉴스 본문 크롤링 진행:  41%|████      | 59/144 [03:09<03:30,  2.47s/it]"
     ]
    },
    {
     "name": "stdout",
     "output_type": "stream",
     "text": [
      "⚠ 본문을 가져오지 못해 Selenium으로 재시도: https://www.dnews.co.kr/uhtml/view.jsp?idxno=202303131137447000890\n",
      "✅ 크롤링 완료: [中 리오프닝] 해외수주 버팀목 될까…폴란드·우크라 ‘新시장’ 유망...\n"
     ]
    },
    {
     "name": "stderr",
     "output_type": "stream",
     "text": [
      "📰 뉴스 본문 크롤링 진행:  42%|████▏     | 60/144 [03:14<04:20,  3.10s/it]"
     ]
    },
    {
     "name": "stdout",
     "output_type": "stream",
     "text": [
      "⚠ 본문을 가져오지 못해 Selenium으로 재시도: https://www.dailian.co.kr/news/view/1194257/?sc=Naver\n",
      "✅ 크롤링 완료: 이창양 산업부 장관, 폴란드·체코와 첨단산업·투자유치 협력 확대...\n"
     ]
    },
    {
     "name": "stderr",
     "output_type": "stream",
     "text": [
      "📰 뉴스 본문 크롤링 진행:  42%|████▏     | 61/144 [03:19<05:15,  3.80s/it]"
     ]
    },
    {
     "name": "stdout",
     "output_type": "stream",
     "text": [
      "⚠ 본문을 가져오지 못해 Selenium으로 재시도: https://www.dnews.co.kr/uhtml/view.jsp?idxno=202301181555126690659\n",
      "✅ 크롤링 완료: 이창양 산업부 장관, 다보스 포럼 계기 첨단산업 협력...\n"
     ]
    },
    {
     "name": "stderr",
     "output_type": "stream",
     "text": [
      "📰 뉴스 본문 크롤링 진행:  43%|████▎     | 62/144 [03:24<05:22,  3.93s/it]"
     ]
    },
    {
     "name": "stdout",
     "output_type": "stream",
     "text": [
      "⚠ 본문을 가져오지 못해 Selenium으로 재시도: http://www.wsobi.com/news/articleView.html?idxno=187704\n",
      "✅ 크롤링 완료: 현대건설-대우건설-삼성물산-DL이앤씨, 신규 먹거리로 SMR 낙점...\n"
     ]
    },
    {
     "name": "stderr",
     "output_type": "stream",
     "text": [
      "📰 뉴스 본문 크롤링 진행:  44%|████▍     | 63/144 [03:27<05:15,  3.89s/it]"
     ]
    },
    {
     "name": "stdout",
     "output_type": "stream",
     "text": [
      "✅ 크롤링 완료: [신년 기획] 해외 저변 확대로 내실 경영 '강화'...\n"
     ]
    },
    {
     "name": "stderr",
     "output_type": "stream",
     "text": [
      "📰 뉴스 본문 크롤링 진행:  44%|████▍     | 64/144 [03:28<04:04,  3.05s/it]"
     ]
    },
    {
     "name": "stdout",
     "output_type": "stream",
     "text": [
      "⚠ 본문을 가져오지 못해 Selenium으로 재시도: http://www.munhwa.com/news/view.html?no=2023010201032005017001\n",
      "✅ 크롤링 완료: 고리 2·3·4호기 현역연장 순항… 에너지 위기속 구원투수로...\n"
     ]
    },
    {
     "name": "stderr",
     "output_type": "stream",
     "text": [
      "📰 뉴스 본문 크롤링 진행:  45%|████▌     | 65/144 [03:33<04:30,  3.42s/it]"
     ]
    },
    {
     "name": "stdout",
     "output_type": "stream",
     "text": [
      "✅ 크롤링 완료: [초점] 한국전력기술 - 내일을 위한 에너지 기술...\n"
     ]
    },
    {
     "name": "stderr",
     "output_type": "stream",
     "text": [
      "📰 뉴스 본문 크롤링 진행:  46%|████▌     | 66/144 [03:34<03:32,  2.72s/it]"
     ]
    },
    {
     "name": "stdout",
     "output_type": "stream",
     "text": [
      "✅ 크롤링 완료: 힘차게 뛰는 토끼처럼…대한민국의 도약을 위해 우리가 앞장서 달리겠습......\n"
     ]
    },
    {
     "name": "stderr",
     "output_type": "stream",
     "text": [
      "📰 뉴스 본문 크롤링 진행:  47%|████▋     | 67/144 [03:35<02:56,  2.30s/it]"
     ]
    },
    {
     "name": "stdout",
     "output_type": "stream",
     "text": [
      "⚠ 본문을 가져오지 못해 Selenium으로 재시도: https://www.dnews.co.kr/uhtml/view.jsp?idxno=202303131137447000890\n",
      "✅ 크롤링 완료: [中 리오프닝] 해외수주 버팀목 될까…폴란드·우크라 ‘新시장’ 유망...\n"
     ]
    },
    {
     "name": "stderr",
     "output_type": "stream",
     "text": [
      "📰 뉴스 본문 크롤링 진행:  47%|████▋     | 68/144 [03:40<03:41,  2.91s/it]"
     ]
    },
    {
     "name": "stdout",
     "output_type": "stream",
     "text": [
      "✅ 크롤링 완료: [SR산업] 황주호 한수원 사장, 현장경영 '속도'…고리3·4호기 계속운전......\n"
     ]
    },
    {
     "name": "stderr",
     "output_type": "stream",
     "text": [
      "📰 뉴스 본문 크롤링 진행:  48%|████▊     | 69/144 [03:41<03:02,  2.43s/it]"
     ]
    },
    {
     "name": "stdout",
     "output_type": "stream",
     "text": [
      "⚠ 본문을 가져오지 못해 Selenium으로 재시도: https://www.asiatoday.co.kr/view.php?key=20230206010003066\n",
      "✅ 크롤링 완료: 한수원, '수출강화' 초점 맞춘 조직개편 단행…상임이사에 수출본부장 ......\n"
     ]
    },
    {
     "name": "stderr",
     "output_type": "stream",
     "text": [
      "📰 뉴스 본문 크롤링 진행:  49%|████▊     | 70/144 [03:48<04:47,  3.89s/it]"
     ]
    },
    {
     "name": "stdout",
     "output_type": "stream",
     "text": [
      "⚠ 본문을 가져오지 못해 Selenium으로 재시도: https://www.dailian.co.kr/news/view/1194257/?sc=Naver\n",
      "✅ 크롤링 완료: 이창양 산업부 장관, 폴란드·체코와 첨단산업·투자유치 협력 확대...\n"
     ]
    },
    {
     "name": "stderr",
     "output_type": "stream",
     "text": [
      "📰 뉴스 본문 크롤링 진행:  49%|████▉     | 71/144 [03:53<05:04,  4.16s/it]"
     ]
    },
    {
     "name": "stdout",
     "output_type": "stream",
     "text": [
      "⚠ 본문을 가져오지 못해 Selenium으로 재시도: https://www.dnews.co.kr/uhtml/view.jsp?idxno=202301181555126690659\n",
      "✅ 크롤링 완료: 이창양 산업부 장관, 다보스 포럼 계기 첨단산업 협력...\n"
     ]
    },
    {
     "name": "stderr",
     "output_type": "stream",
     "text": [
      "📰 뉴스 본문 크롤링 진행:  50%|█████     | 72/144 [03:57<05:05,  4.24s/it]"
     ]
    },
    {
     "name": "stdout",
     "output_type": "stream",
     "text": [
      "⚠ 본문을 가져오지 못해 Selenium으로 재시도: http://www.wsobi.com/news/articleView.html?idxno=187704\n",
      "✅ 크롤링 완료: 현대건설-대우건설-삼성물산-DL이앤씨, 신규 먹거리로 SMR 낙점...\n"
     ]
    },
    {
     "name": "stderr",
     "output_type": "stream",
     "text": [
      "📰 뉴스 본문 크롤링 진행:  51%|█████     | 73/144 [04:01<04:46,  4.03s/it]"
     ]
    },
    {
     "name": "stdout",
     "output_type": "stream",
     "text": [
      "✅ 크롤링 완료: [신년 기획] 해외 저변 확대로 내실 경영 '강화'...\n"
     ]
    },
    {
     "name": "stderr",
     "output_type": "stream",
     "text": [
      "📰 뉴스 본문 크롤링 진행:  51%|█████▏    | 74/144 [04:02<03:41,  3.16s/it]"
     ]
    },
    {
     "name": "stdout",
     "output_type": "stream",
     "text": [
      "⚠ 본문을 가져오지 못해 Selenium으로 재시도: http://www.munhwa.com/news/view.html?no=2023010201032005017001\n",
      "✅ 크롤링 완료: 고리 2·3·4호기 현역연장 순항… 에너지 위기속 구원투수로...\n"
     ]
    },
    {
     "name": "stderr",
     "output_type": "stream",
     "text": [
      "📰 뉴스 본문 크롤링 진행:  52%|█████▏    | 75/144 [04:06<04:03,  3.52s/it]"
     ]
    },
    {
     "name": "stdout",
     "output_type": "stream",
     "text": [
      "✅ 크롤링 완료: [초점] 한국전력기술 - 내일을 위한 에너지 기술...\n"
     ]
    },
    {
     "name": "stderr",
     "output_type": "stream",
     "text": [
      "📰 뉴스 본문 크롤링 진행:  53%|█████▎    | 76/144 [04:08<03:12,  2.82s/it]"
     ]
    },
    {
     "name": "stdout",
     "output_type": "stream",
     "text": [
      "✅ 크롤링 완료: 힘차게 뛰는 토끼처럼…대한민국의 도약을 위해 우리가 앞장서 달리겠습......\n"
     ]
    },
    {
     "name": "stderr",
     "output_type": "stream",
     "text": [
      "📰 뉴스 본문 크롤링 진행:  53%|█████▎    | 77/144 [04:09<02:37,  2.35s/it]"
     ]
    },
    {
     "name": "stdout",
     "output_type": "stream",
     "text": [
      "⚠ 본문을 가져오지 못해 Selenium으로 재시도: https://www.dnews.co.kr/uhtml/view.jsp?idxno=202303131137447000890\n",
      "✅ 크롤링 완료: [中 리오프닝] 해외수주 버팀목 될까…폴란드·우크라 ‘新시장’ 유망...\n"
     ]
    },
    {
     "name": "stderr",
     "output_type": "stream",
     "text": [
      "📰 뉴스 본문 크롤링 진행:  54%|█████▍    | 78/144 [04:13<03:11,  2.91s/it]"
     ]
    },
    {
     "name": "stdout",
     "output_type": "stream",
     "text": [
      "✅ 크롤링 완료: [SR산업] 황주호 한수원 사장, 현장경영 '속도'…고리3·4호기 계속운전......\n"
     ]
    },
    {
     "name": "stderr",
     "output_type": "stream",
     "text": [
      "📰 뉴스 본문 크롤링 진행:  55%|█████▍    | 79/144 [04:14<02:34,  2.37s/it]"
     ]
    },
    {
     "name": "stdout",
     "output_type": "stream",
     "text": [
      "⚠ 본문을 가져오지 못해 Selenium으로 재시도: https://www.asiatoday.co.kr/view.php?key=20230206010003066\n",
      "✅ 크롤링 완료: 한수원, '수출강화' 초점 맞춘 조직개편 단행…상임이사에 수출본부장 ......\n"
     ]
    },
    {
     "name": "stderr",
     "output_type": "stream",
     "text": [
      "📰 뉴스 본문 크롤링 진행:  56%|█████▌    | 80/144 [04:19<03:28,  3.25s/it]"
     ]
    },
    {
     "name": "stdout",
     "output_type": "stream",
     "text": [
      "⚠ 본문을 가져오지 못해 Selenium으로 재시도: https://www.dailian.co.kr/news/view/1194257/?sc=Naver\n",
      "✅ 크롤링 완료: 이창양 산업부 장관, 폴란드·체코와 첨단산업·투자유치 협력 확대...\n"
     ]
    },
    {
     "name": "stderr",
     "output_type": "stream",
     "text": [
      "📰 뉴스 본문 크롤링 진행:  56%|█████▋    | 81/144 [04:25<03:59,  3.80s/it]"
     ]
    },
    {
     "name": "stdout",
     "output_type": "stream",
     "text": [
      "⚠ 본문을 가져오지 못해 Selenium으로 재시도: https://www.dnews.co.kr/uhtml/view.jsp?idxno=202301181555126690659\n",
      "✅ 크롤링 완료: 이창양 산업부 장관, 다보스 포럼 계기 첨단산업 협력...\n"
     ]
    },
    {
     "name": "stderr",
     "output_type": "stream",
     "text": [
      "📰 뉴스 본문 크롤링 진행:  57%|█████▋    | 82/144 [04:29<04:03,  3.93s/it]"
     ]
    },
    {
     "name": "stdout",
     "output_type": "stream",
     "text": [
      "⚠ 본문을 가져오지 못해 Selenium으로 재시도: http://www.wsobi.com/news/articleView.html?idxno=187704\n",
      "✅ 크롤링 완료: 현대건설-대우건설-삼성물산-DL이앤씨, 신규 먹거리로 SMR 낙점...\n"
     ]
    },
    {
     "name": "stderr",
     "output_type": "stream",
     "text": [
      "📰 뉴스 본문 크롤링 진행:  58%|█████▊    | 83/144 [04:32<03:55,  3.86s/it]"
     ]
    },
    {
     "name": "stdout",
     "output_type": "stream",
     "text": [
      "✅ 크롤링 완료: [신년 기획] 해외 저변 확대로 내실 경영 '강화'...\n"
     ]
    },
    {
     "name": "stderr",
     "output_type": "stream",
     "text": [
      "📰 뉴스 본문 크롤링 진행:  58%|█████▊    | 84/144 [04:34<03:02,  3.04s/it]"
     ]
    },
    {
     "name": "stdout",
     "output_type": "stream",
     "text": [
      "⚠ 본문을 가져오지 못해 Selenium으로 재시도: http://www.munhwa.com/news/view.html?no=2023010201032005017001\n",
      "✅ 크롤링 완료: 고리 2·3·4호기 현역연장 순항… 에너지 위기속 구원투수로...\n"
     ]
    },
    {
     "name": "stderr",
     "output_type": "stream",
     "text": [
      "📰 뉴스 본문 크롤링 진행:  59%|█████▉    | 85/144 [04:38<03:21,  3.41s/it]"
     ]
    },
    {
     "name": "stdout",
     "output_type": "stream",
     "text": [
      "✅ 크롤링 완료: [초점] 한국전력기술 - 내일을 위한 에너지 기술...\n"
     ]
    },
    {
     "name": "stderr",
     "output_type": "stream",
     "text": [
      "📰 뉴스 본문 크롤링 진행:  60%|█████▉    | 86/144 [04:39<02:38,  2.73s/it]"
     ]
    },
    {
     "name": "stdout",
     "output_type": "stream",
     "text": [
      "✅ 크롤링 완료: 힘차게 뛰는 토끼처럼…대한민국의 도약을 위해 우리가 앞장서 달리겠습......\n"
     ]
    },
    {
     "name": "stderr",
     "output_type": "stream",
     "text": [
      "📰 뉴스 본문 크롤링 진행:  60%|██████    | 87/144 [04:40<02:13,  2.34s/it]"
     ]
    },
    {
     "name": "stdout",
     "output_type": "stream",
     "text": [
      "⚠ 본문을 가져오지 못해 Selenium으로 재시도: https://www.dnews.co.kr/uhtml/view.jsp?idxno=202303131137447000890\n",
      "✅ 크롤링 완료: [中 리오프닝] 해외수주 버팀목 될까…폴란드·우크라 ‘新시장’ 유망...\n"
     ]
    },
    {
     "name": "stderr",
     "output_type": "stream",
     "text": [
      "📰 뉴스 본문 크롤링 진행:  61%|██████    | 88/144 [04:45<02:43,  2.92s/it]"
     ]
    },
    {
     "name": "stdout",
     "output_type": "stream",
     "text": [
      "✅ 크롤링 완료: [SR산업] 황주호 한수원 사장, 현장경영 '속도'…고리3·4호기 계속운전......\n"
     ]
    },
    {
     "name": "stderr",
     "output_type": "stream",
     "text": [
      "📰 뉴스 본문 크롤링 진행:  62%|██████▏   | 89/144 [04:46<02:11,  2.39s/it]"
     ]
    },
    {
     "name": "stdout",
     "output_type": "stream",
     "text": [
      "⚠ 본문을 가져오지 못해 Selenium으로 재시도: https://www.asiatoday.co.kr/view.php?key=20230206010003066\n",
      "✅ 크롤링 완료: 한수원, '수출강화' 초점 맞춘 조직개편 단행…상임이사에 수출본부장 ......\n"
     ]
    },
    {
     "name": "stderr",
     "output_type": "stream",
     "text": [
      "📰 뉴스 본문 크롤링 진행:  62%|██████▎   | 90/144 [04:53<03:29,  3.88s/it]"
     ]
    },
    {
     "name": "stdout",
     "output_type": "stream",
     "text": [
      "⚠ 본문을 가져오지 못해 Selenium으로 재시도: https://www.dailian.co.kr/news/view/1194257/?sc=Naver\n",
      "✅ 크롤링 완료: 이창양 산업부 장관, 폴란드·체코와 첨단산업·투자유치 협력 확대...\n"
     ]
    },
    {
     "name": "stderr",
     "output_type": "stream",
     "text": [
      "📰 뉴스 본문 크롤링 진행:  63%|██████▎   | 91/144 [04:58<03:42,  4.19s/it]"
     ]
    },
    {
     "name": "stdout",
     "output_type": "stream",
     "text": [
      "⚠ 본문을 가져오지 못해 Selenium으로 재시도: https://www.dnews.co.kr/uhtml/view.jsp?idxno=202301181555126690659\n",
      "✅ 크롤링 완료: 이창양 산업부 장관, 다보스 포럼 계기 첨단산업 협력...\n"
     ]
    },
    {
     "name": "stderr",
     "output_type": "stream",
     "text": [
      "📰 뉴스 본문 크롤링 진행:  64%|██████▍   | 92/144 [05:02<03:39,  4.23s/it]"
     ]
    },
    {
     "name": "stdout",
     "output_type": "stream",
     "text": [
      "⚠ 본문을 가져오지 못해 Selenium으로 재시도: http://www.wsobi.com/news/articleView.html?idxno=187704\n",
      "✅ 크롤링 완료: 현대건설-대우건설-삼성물산-DL이앤씨, 신규 먹거리로 SMR 낙점...\n"
     ]
    },
    {
     "name": "stderr",
     "output_type": "stream",
     "text": [
      "📰 뉴스 본문 크롤링 진행:  65%|██████▍   | 93/144 [05:06<03:30,  4.12s/it]"
     ]
    },
    {
     "name": "stdout",
     "output_type": "stream",
     "text": [
      "✅ 크롤링 완료: [신년 기획] 해외 저변 확대로 내실 경영 '강화'...\n"
     ]
    },
    {
     "name": "stderr",
     "output_type": "stream",
     "text": [
      "📰 뉴스 본문 크롤링 진행:  65%|██████▌   | 94/144 [05:07<02:40,  3.22s/it]"
     ]
    },
    {
     "name": "stdout",
     "output_type": "stream",
     "text": [
      "⚠ 본문을 가져오지 못해 Selenium으로 재시도: http://www.munhwa.com/news/view.html?no=2023010201032005017001\n",
      "✅ 크롤링 완료: 고리 2·3·4호기 현역연장 순항… 에너지 위기속 구원투수로...\n"
     ]
    },
    {
     "name": "stderr",
     "output_type": "stream",
     "text": [
      "📰 뉴스 본문 크롤링 진행:  66%|██████▌   | 95/144 [05:12<02:55,  3.59s/it]"
     ]
    },
    {
     "name": "stdout",
     "output_type": "stream",
     "text": [
      "✅ 크롤링 완료: [초점] 한국전력기술 - 내일을 위한 에너지 기술...\n"
     ]
    },
    {
     "name": "stderr",
     "output_type": "stream",
     "text": [
      "📰 뉴스 본문 크롤링 진행:  67%|██████▋   | 96/144 [05:13<02:17,  2.86s/it]"
     ]
    },
    {
     "name": "stdout",
     "output_type": "stream",
     "text": [
      "✅ 크롤링 완료: 힘차게 뛰는 토끼처럼…대한민국의 도약을 위해 우리가 앞장서 달리겠습......\n"
     ]
    },
    {
     "name": "stderr",
     "output_type": "stream",
     "text": [
      "📰 뉴스 본문 크롤링 진행:  67%|██████▋   | 97/144 [05:14<01:54,  2.43s/it]"
     ]
    },
    {
     "name": "stdout",
     "output_type": "stream",
     "text": [
      "⚠ 본문을 가져오지 못해 Selenium으로 재시도: https://www.dnews.co.kr/uhtml/view.jsp?idxno=202303131137447000890\n",
      "✅ 크롤링 완료: [中 리오프닝] 해외수주 버팀목 될까…폴란드·우크라 ‘新시장’ 유망...\n"
     ]
    },
    {
     "name": "stderr",
     "output_type": "stream",
     "text": [
      "📰 뉴스 본문 크롤링 진행:  68%|██████▊   | 98/144 [05:19<02:15,  2.94s/it]"
     ]
    },
    {
     "name": "stdout",
     "output_type": "stream",
     "text": [
      "✅ 크롤링 완료: [SR산업] 황주호 한수원 사장, 현장경영 '속도'…고리3·4호기 계속운전......\n"
     ]
    },
    {
     "name": "stderr",
     "output_type": "stream",
     "text": [
      "📰 뉴스 본문 크롤링 진행:  69%|██████▉   | 99/144 [05:22<02:18,  3.07s/it]"
     ]
    },
    {
     "name": "stdout",
     "output_type": "stream",
     "text": [
      "⚠ 본문을 가져오지 못해 Selenium으로 재시도: https://www.asiatoday.co.kr/view.php?key=20230206010003066\n",
      "✅ 크롤링 완료: 한수원, '수출강화' 초점 맞춘 조직개편 단행…상임이사에 수출본부장 ......\n"
     ]
    },
    {
     "name": "stderr",
     "output_type": "stream",
     "text": [
      "📰 뉴스 본문 크롤링 진행:  69%|██████▉   | 100/144 [05:28<02:48,  3.83s/it]"
     ]
    },
    {
     "name": "stdout",
     "output_type": "stream",
     "text": [
      "✅ 크롤링 완료: \"반도체 공백 메워라\"…원전·방산 급부상...\n"
     ]
    },
    {
     "name": "stderr",
     "output_type": "stream",
     "text": [
      "📰 뉴스 본문 크롤링 진행:  70%|███████   | 101/144 [05:29<02:13,  3.11s/it]"
     ]
    },
    {
     "name": "stdout",
     "output_type": "stream",
     "text": [
      "⚠ 본문을 가져오지 못해 Selenium으로 재시도: http://www.munhwa.com/news/view.html?no=2023011301070505017001\n",
      "✅ 크롤링 완료: 산업부 “체코·필리핀 등 전략채널 강화… 원전 수주 가능성 높일것”...\n"
     ]
    },
    {
     "name": "stderr",
     "output_type": "stream",
     "text": [
      "📰 뉴스 본문 크롤링 진행:  71%|███████   | 102/144 [05:33<02:23,  3.41s/it]"
     ]
    },
    {
     "name": "stdout",
     "output_type": "stream",
     "text": [
      "✅ 크롤링 완료: 러 로사톰이 K-원전에 주는 교훈…\"사업개발 역량 장착은 필수\"...\n"
     ]
    },
    {
     "name": "stderr",
     "output_type": "stream",
     "text": [
      "📰 뉴스 본문 크롤링 진행:  72%|███████▏  | 103/144 [05:34<01:51,  2.73s/it]"
     ]
    },
    {
     "name": "stdout",
     "output_type": "stream",
     "text": [
      "⚠ 본문을 가져오지 못해 Selenium으로 재시도: https://www.seoul.co.kr/news/newsView.php?id=20230109023013&wlog_tag3=naver\n",
      "✅ 크롤링 완료: [단독] “원전은 전기료 구원투수… 태양광보다 탄소배출 적은 블루수소......\n"
     ]
    },
    {
     "name": "stderr",
     "output_type": "stream",
     "text": [
      "📰 뉴스 본문 크롤링 진행:  72%|███████▏  | 104/144 [05:40<02:19,  3.49s/it]"
     ]
    },
    {
     "name": "stdout",
     "output_type": "stream",
     "text": [
      "✅ 크롤링 완료: 황주호 한수원 사장 \"원전수출 모델 무궁무진…계속운전 등에 역량 집중......\n"
     ]
    },
    {
     "name": "stderr",
     "output_type": "stream",
     "text": [
      "📰 뉴스 본문 크롤링 진행:  73%|███████▎  | 105/144 [05:41<01:50,  2.83s/it]"
     ]
    },
    {
     "name": "stdout",
     "output_type": "stream",
     "text": [
      "✅ 크롤링 완료: \"온 타임 온 버짓만 능사 아냐\"…금융이 결정짓는 원전수출...\n"
     ]
    },
    {
     "name": "stderr",
     "output_type": "stream",
     "text": [
      "📰 뉴스 본문 크롤링 진행:  74%|███████▎  | 106/144 [05:42<01:28,  2.32s/it]"
     ]
    },
    {
     "name": "stdout",
     "output_type": "stream",
     "text": [
      "✅ 크롤링 완료: \"한국에 투자하세요\"…尹대통령·재계 일제히 'Buy Korea'...\n"
     ]
    },
    {
     "name": "stderr",
     "output_type": "stream",
     "text": [
      "📰 뉴스 본문 크롤링 진행:  74%|███████▍  | 107/144 [05:43<01:17,  2.09s/it]"
     ]
    },
    {
     "name": "stdout",
     "output_type": "stream",
     "text": [
      "✅ 크롤링 완료: KINGS 유학생- 에디타 마시에이(폴란드), 얀 후루시코비치(체코)...\n"
     ]
    },
    {
     "name": "stderr",
     "output_type": "stream",
     "text": [
      "📰 뉴스 본문 크롤링 진행:  75%|███████▌  | 108/144 [05:45<01:06,  1.84s/it]"
     ]
    },
    {
     "name": "stdout",
     "output_type": "stream",
     "text": [
      "⚠ 본문을 가져오지 못해 Selenium으로 재시도: http://www.metroseoul.co.kr/article/20230323500285\n",
      "✅ 크롤링 완료: 주낙영 경주시장, 8박 10일 출장 마치고 귀국길 올라...\n"
     ]
    },
    {
     "name": "stderr",
     "output_type": "stream",
     "text": [
      "📰 뉴스 본문 크롤링 진행:  76%|███████▌  | 109/144 [05:50<01:43,  2.95s/it]"
     ]
    },
    {
     "name": "stdout",
     "output_type": "stream",
     "text": [
      "⚠ 본문을 가져오지 못해 Selenium으로 재시도: http://www.lawissue.co.kr/view.php?ud=202303231946161481f4ab64559d_12\n",
      "✅ 크롤링 완료: 김진표 의장, 아다모바 체코 하원의장과 회담...\n"
     ]
    },
    {
     "name": "stderr",
     "output_type": "stream",
     "text": [
      "📰 뉴스 본문 크롤링 진행:  76%|███████▋  | 110/144 [05:56<02:10,  3.84s/it]"
     ]
    },
    {
     "name": "stdout",
     "output_type": "stream",
     "text": [
      "✅ 크롤링 완료: 한덕수 국무총리, 체코 하원의장 면담...\n"
     ]
    },
    {
     "name": "stderr",
     "output_type": "stream",
     "text": [
      "📰 뉴스 본문 크롤링 진행:  77%|███████▋  | 111/144 [05:57<01:40,  3.05s/it]"
     ]
    },
    {
     "name": "stdout",
     "output_type": "stream",
     "text": [
      "✅ 크롤링 완료: 주낙영 경주시장, 동유럽 3개국 세일즈 외교 잘했다...\n"
     ]
    },
    {
     "name": "stderr",
     "output_type": "stream",
     "text": [
      "📰 뉴스 본문 크롤링 진행:  78%|███████▊  | 112/144 [05:59<01:22,  2.57s/it]"
     ]
    },
    {
     "name": "stdout",
     "output_type": "stream",
     "text": [
      "⚠ 본문을 가져오지 못해 Selenium으로 재시도: https://www.dnews.co.kr/uhtml/view.jsp?idxno=202303232118144360284\n",
      "✅ 크롤링 완료: 주낙영 경주시장, 동유럽 3개국 방문… 24일 귀국길 올라...\n"
     ]
    },
    {
     "name": "stderr",
     "output_type": "stream",
     "text": [
      "📰 뉴스 본문 크롤링 진행:  78%|███████▊  | 113/144 [06:04<01:39,  3.20s/it]"
     ]
    },
    {
     "name": "stdout",
     "output_type": "stream",
     "text": [
      "✅ 크롤링 완료: 김진표 의장, 아다모바 체코 하원의장과 회담...\n"
     ]
    },
    {
     "name": "stderr",
     "output_type": "stream",
     "text": [
      "📰 뉴스 본문 크롤링 진행:  79%|███████▉  | 114/144 [06:05<01:17,  2.59s/it]"
     ]
    },
    {
     "name": "stdout",
     "output_type": "stream",
     "text": [
      "✅ 크롤링 완료: 경주시, 동유럽 순방서 선물보따리 잔뜩...\n"
     ]
    },
    {
     "name": "stderr",
     "output_type": "stream",
     "text": [
      "📰 뉴스 본문 크롤링 진행:  80%|███████▉  | 115/144 [06:06<01:07,  2.34s/it]"
     ]
    },
    {
     "name": "stdout",
     "output_type": "stream",
     "text": [
      "⚠ 본문을 가져오지 못해 Selenium으로 재시도: http://www.kbsm.net/news/view.php?idx=384921\n",
      "✅ 크롤링 완료: 경주시-체코 트레비치시, 우호협력 의향서 체결...\n"
     ]
    },
    {
     "name": "stderr",
     "output_type": "stream",
     "text": [
      "📰 뉴스 본문 크롤링 진행:  81%|████████  | 116/144 [06:11<01:22,  2.96s/it]"
     ]
    },
    {
     "name": "stdout",
     "output_type": "stream",
     "text": [
      "✅ 크롤링 완료: [분석] 경주지역과 한수원, 불편한 동거 7년째···세일즈 외교로 해소......\n"
     ]
    },
    {
     "name": "stderr",
     "output_type": "stream",
     "text": [
      "📰 뉴스 본문 크롤링 진행:  81%|████████▏ | 117/144 [06:12<01:06,  2.47s/it]"
     ]
    },
    {
     "name": "stdout",
     "output_type": "stream",
     "text": [
      "⚠ 본문을 가져오지 못해 Selenium으로 재시도: https://www.asiatoday.co.kr/view.php?key=20230213010007081\n",
      "✅ 크롤링 완료: 원전 수출 나서는 '팀 코리아'…사용후핵연료·생태계 복원은 숙제...\n"
     ]
    },
    {
     "name": "stderr",
     "output_type": "stream",
     "text": [
      "📰 뉴스 본문 크롤링 진행:  82%|████████▏ | 118/144 [06:19<01:41,  3.91s/it]"
     ]
    },
    {
     "name": "stdout",
     "output_type": "stream",
     "text": [
      "⚠ 본문을 가져오지 못해 Selenium으로 재시도: https://news.imaeil.com/page/view/2023020710321798969\n",
      "✅ 크롤링 완료: \"2030년까지 원전 10기 수출\" 한수원, 컨설팅 용역 착수회...\n"
     ]
    },
    {
     "name": "stderr",
     "output_type": "stream",
     "text": [
      "📰 뉴스 본문 크롤링 진행:  83%|████████▎ | 119/144 [06:24<01:41,  4.05s/it]"
     ]
    },
    {
     "name": "stdout",
     "output_type": "stream",
     "text": [
      "✅ 크롤링 완료: 신한울 3·4호기 주기기 제작 착수…한수원 원전생태계 복원·활성화 힘......\n"
     ]
    },
    {
     "name": "stderr",
     "output_type": "stream",
     "text": [
      "📰 뉴스 본문 크롤링 진행:  83%|████████▎ | 120/144 [06:25<01:17,  3.21s/it]"
     ]
    },
    {
     "name": "stdout",
     "output_type": "stream",
     "text": [
      "✅ 크롤링 완료: [분석] 경주지역과 한수원, 불편한 동거 7년째···세일즈 외교로 해소......\n"
     ]
    },
    {
     "name": "stderr",
     "output_type": "stream",
     "text": [
      "📰 뉴스 본문 크롤링 진행:  84%|████████▍ | 121/144 [06:26<01:01,  2.66s/it]"
     ]
    },
    {
     "name": "stdout",
     "output_type": "stream",
     "text": [
      "⚠ 본문을 가져오지 못해 Selenium으로 재시도: https://www.asiatoday.co.kr/view.php?key=20230213010007081\n",
      "✅ 크롤링 완료: 원전 수출 나서는 '팀 코리아'…사용후핵연료·생태계 복원은 숙제...\n"
     ]
    },
    {
     "name": "stderr",
     "output_type": "stream",
     "text": [
      "📰 뉴스 본문 크롤링 진행:  85%|████████▍ | 122/144 [06:34<01:33,  4.25s/it]"
     ]
    },
    {
     "name": "stdout",
     "output_type": "stream",
     "text": [
      "⚠ 본문을 가져오지 못해 Selenium으로 재시도: https://news.imaeil.com/page/view/2023020710321798969\n",
      "✅ 크롤링 완료: \"2030년까지 원전 10기 수출\" 한수원, 컨설팅 용역 착수회...\n"
     ]
    },
    {
     "name": "stderr",
     "output_type": "stream",
     "text": [
      "📰 뉴스 본문 크롤링 진행:  85%|████████▌ | 123/144 [06:39<01:30,  4.29s/it]"
     ]
    },
    {
     "name": "stdout",
     "output_type": "stream",
     "text": [
      "✅ 크롤링 완료: 신한울 3·4호기 주기기 제작 착수…한수원 원전생태계 복원·활성화 힘......\n"
     ]
    },
    {
     "name": "stderr",
     "output_type": "stream",
     "text": [
      "📰 뉴스 본문 크롤링 진행:  86%|████████▌ | 124/144 [06:40<01:08,  3.40s/it]"
     ]
    },
    {
     "name": "stdout",
     "output_type": "stream",
     "text": [
      "✅ 크롤링 완료: 위기의 건설업계, 새 먹거리 '원전 사업'에 방점 찍는다...\n"
     ]
    },
    {
     "name": "stderr",
     "output_type": "stream",
     "text": [
      "📰 뉴스 본문 크롤링 진행:  87%|████████▋ | 125/144 [06:41<00:52,  2.75s/it]"
     ]
    },
    {
     "name": "stdout",
     "output_type": "stream",
     "text": [
      "⚠ 본문을 가져오지 못해 Selenium으로 재시도: https://www.seoul.co.kr/news/newsView.php?id=20230109001010&wlog_tag3=naver\n",
      "✅ 크롤링 완료: [단독] “네덜란드·카자흐에 맞춤형 원전 패키지”...\n"
     ]
    },
    {
     "name": "stderr",
     "output_type": "stream",
     "text": [
      "📰 뉴스 본문 크롤링 진행:  88%|████████▊ | 126/144 [06:46<01:02,  3.45s/it]"
     ]
    },
    {
     "name": "stdout",
     "output_type": "stream",
     "text": [
      "✅ 크롤링 완료: [단독] 황주호 “네덜란드 등에 맞춤형 원전 수주 제안…원전 ‘청정수......\n"
     ]
    },
    {
     "name": "stderr",
     "output_type": "stream",
     "text": [
      "📰 뉴스 본문 크롤링 진행:  88%|████████▊ | 127/144 [06:48<00:48,  2.84s/it]"
     ]
    },
    {
     "name": "stdout",
     "output_type": "stream",
     "text": [
      "✅ 크롤링 완료: [신년기획]혹한기 들어선 반도체…원전·방산 수출 힘준다...\n"
     ]
    },
    {
     "name": "stderr",
     "output_type": "stream",
     "text": [
      "📰 뉴스 본문 크롤링 진행:  89%|████████▉ | 128/144 [06:49<00:38,  2.43s/it]"
     ]
    },
    {
     "name": "stdout",
     "output_type": "stream",
     "text": [
      "✅ 크롤링 완료: 수주 목표 올린 두산에너빌리티, 올해 잭팟 기대감 커진다...\n"
     ]
    },
    {
     "name": "stderr",
     "output_type": "stream",
     "text": [
      "📰 뉴스 본문 크롤링 진행:  90%|████████▉ | 129/144 [06:51<00:30,  2.05s/it]"
     ]
    },
    {
     "name": "stdout",
     "output_type": "stream",
     "text": [
      "⚠ 본문을 가져오지 못해 Selenium으로 재시도: http://www.naeil.com/news_view/?id_art=450436\n",
      "✅ 크롤링 완료: 올해 건설수주 국내보다는 해외...\n"
     ]
    },
    {
     "name": "stderr",
     "output_type": "stream",
     "text": [
      "📰 뉴스 본문 크롤링 진행:  90%|█████████ | 130/144 [06:56<00:42,  3.03s/it]"
     ]
    },
    {
     "name": "stdout",
     "output_type": "stream",
     "text": [
      "⚠ 본문을 가져오지 못해 Selenium으로 재시도: https://www.munhwa.com/news/view.html?no=2023020601033005017001\n",
      "✅ 크롤링 완료: [뉴스와 시각]중산층 난방비 지원 역효과...\n"
     ]
    },
    {
     "name": "stderr",
     "output_type": "stream",
     "text": [
      "📰 뉴스 본문 크롤링 진행:  91%|█████████ | 131/144 [07:00<00:45,  3.49s/it]"
     ]
    },
    {
     "name": "stdout",
     "output_type": "stream",
     "text": [
      "⚠ 본문을 가져오지 못해 Selenium으로 재시도: http://www.g-enews.com/ko-kr/news/article/news_all/2023020215184967607bdb7041ec_1/article.html\n",
      "✅ 크롤링 완료: 넥센타이어 체코공장 파업, 완성차 넘어 한국기업으로 불똥 튀나...\n"
     ]
    },
    {
     "name": "stderr",
     "output_type": "stream",
     "text": [
      "📰 뉴스 본문 크롤링 진행:  92%|█████████▏| 132/144 [07:05<00:47,  3.98s/it]"
     ]
    },
    {
     "name": "stdout",
     "output_type": "stream",
     "text": [
      "✅ 크롤링 완료: 이창양 산업부 장관, 폴란드·체코 관료들과 연이어 양자 면담 진행...\n"
     ]
    },
    {
     "name": "stderr",
     "output_type": "stream",
     "text": [
      "📰 뉴스 본문 크롤링 진행:  92%|█████████▏| 133/144 [07:07<00:34,  3.17s/it]"
     ]
    },
    {
     "name": "stdout",
     "output_type": "stream",
     "text": [
      "⚠ 본문을 가져오지 못해 Selenium으로 재시도: https://www.dnews.co.kr/uhtml/view.jsp?idxno=202301181555126690659\n",
      "✅ 크롤링 완료: 이창양 산업부 장관, 다보스 포럼 계기 첨단산업 협력...\n"
     ]
    },
    {
     "name": "stderr",
     "output_type": "stream",
     "text": [
      "📰 뉴스 본문 크롤링 진행:  93%|█████████▎| 134/144 [07:12<00:36,  3.66s/it]"
     ]
    },
    {
     "name": "stdout",
     "output_type": "stream",
     "text": [
      "⚠ 본문을 가져오지 못해 Selenium으로 재시도: http://www.wsobi.com/news/articleView.html?idxno=187704\n",
      "✅ 크롤링 완료: 현대건설-대우건설-삼성물산-DL이앤씨, 신규 먹거리로 SMR 낙점...\n"
     ]
    },
    {
     "name": "stderr",
     "output_type": "stream",
     "text": [
      "📰 뉴스 본문 크롤링 진행:  94%|█████████▍| 135/144 [07:15<00:32,  3.64s/it]"
     ]
    },
    {
     "name": "stdout",
     "output_type": "stream",
     "text": [
      "✅ 크롤링 완료: [신년 기획] 해외 저변 확대로 내실 경영 '강화'...\n"
     ]
    },
    {
     "name": "stderr",
     "output_type": "stream",
     "text": [
      "📰 뉴스 본문 크롤링 진행:  94%|█████████▍| 136/144 [07:16<00:23,  2.90s/it]"
     ]
    },
    {
     "name": "stdout",
     "output_type": "stream",
     "text": [
      "⚠ 본문을 가져오지 못해 Selenium으로 재시도: http://www.munhwa.com/news/view.html?no=2023010201032005017001\n",
      "✅ 크롤링 완료: 고리 2·3·4호기 현역연장 순항… 에너지 위기속 구원투수로...\n"
     ]
    },
    {
     "name": "stderr",
     "output_type": "stream",
     "text": [
      "📰 뉴스 본문 크롤링 진행:  95%|█████████▌| 137/144 [07:20<00:22,  3.26s/it]"
     ]
    },
    {
     "name": "stdout",
     "output_type": "stream",
     "text": [
      "✅ 크롤링 완료: [초점] 한국전력기술 - 내일을 위한 에너지 기술...\n"
     ]
    },
    {
     "name": "stderr",
     "output_type": "stream",
     "text": [
      "📰 뉴스 본문 크롤링 진행:  96%|█████████▌| 138/144 [07:22<00:15,  2.61s/it]"
     ]
    },
    {
     "name": "stdout",
     "output_type": "stream",
     "text": [
      "✅ 크롤링 완료: 힘차게 뛰는 토끼처럼…대한민국의 도약을 위해 우리가 앞장서 달리겠습......\n"
     ]
    },
    {
     "name": "stderr",
     "output_type": "stream",
     "text": [
      "📰 뉴스 본문 크롤링 진행:  97%|█████████▋| 139/144 [07:23<00:11,  2.24s/it]"
     ]
    },
    {
     "name": "stdout",
     "output_type": "stream",
     "text": [
      "⚠ 본문을 가져오지 못해 Selenium으로 재시도: https://www.dnews.co.kr/uhtml/view.jsp?idxno=202303131137447000890\n",
      "✅ 크롤링 완료: [中 리오프닝] 해외수주 버팀목 될까…폴란드·우크라 ‘新시장’ 유망...\n"
     ]
    },
    {
     "name": "stderr",
     "output_type": "stream",
     "text": [
      "📰 뉴스 본문 크롤링 진행:  97%|█████████▋| 140/144 [07:27<00:11,  2.88s/it]"
     ]
    },
    {
     "name": "stdout",
     "output_type": "stream",
     "text": [
      "✅ 크롤링 완료: 힘차게 뛰는 토끼처럼…대한민국의 도약을 위해 우리가 앞장서 달리겠습......\n"
     ]
    },
    {
     "name": "stderr",
     "output_type": "stream",
     "text": [
      "📰 뉴스 본문 크롤링 진행:  98%|█████████▊| 141/144 [07:29<00:07,  2.41s/it]"
     ]
    },
    {
     "name": "stdout",
     "output_type": "stream",
     "text": [
      "⚠ 본문을 가져오지 못해 Selenium으로 재시도: https://www.dnews.co.kr/uhtml/view.jsp?idxno=202303131137447000890\n",
      "✅ 크롤링 완료: [中 리오프닝] 해외수주 버팀목 될까…폴란드·우크라 ‘新시장’ 유망...\n"
     ]
    },
    {
     "name": "stderr",
     "output_type": "stream",
     "text": [
      "📰 뉴스 본문 크롤링 진행:  99%|█████████▊| 142/144 [07:33<00:05,  2.93s/it]"
     ]
    },
    {
     "name": "stdout",
     "output_type": "stream",
     "text": [
      "✅ 크롤링 완료: [SR산업] 황주호 한수원 사장, 현장경영 '속도'…고리3·4호기 계속운전......\n"
     ]
    },
    {
     "name": "stderr",
     "output_type": "stream",
     "text": [
      "📰 뉴스 본문 크롤링 진행:  99%|█████████▉| 143/144 [07:34<00:02,  2.46s/it]"
     ]
    },
    {
     "name": "stdout",
     "output_type": "stream",
     "text": [
      "⚠ 본문을 가져오지 못해 Selenium으로 재시도: https://www.asiatoday.co.kr/view.php?key=20230206010003066\n",
      "✅ 크롤링 완료: 한수원, '수출강화' 초점 맞춘 조직개편 단행…상임이사에 수출본부장 ......\n"
     ]
    },
    {
     "name": "stderr",
     "output_type": "stream",
     "text": [
      "📰 뉴스 본문 크롤링 진행: 100%|██████████| 144/144 [07:41<00:00,  3.21s/it]\n"
     ]
    },
    {
     "name": "stdout",
     "output_type": "stream",
     "text": [
      "🔍 검색 중: 두코바니 원전 (2023.04.01 ~ 2023.06.30)\n",
      "✅ 115개의 뉴스 기사 링크 및 날짜를 수집 완료! (2023.04.01 ~ 2023.06.30)\n"
     ]
    },
    {
     "name": "stderr",
     "output_type": "stream",
     "text": [
      "📰 뉴스 본문 크롤링 진행:   0%|          | 0/115 [00:00<?, ?it/s]"
     ]
    },
    {
     "name": "stdout",
     "output_type": "stream",
     "text": [
      "⚠ 본문을 가져오지 못해 Selenium으로 재시도: https://www.chosun.com/economy/industry-company/2023/06/27/LSGXGB4Q25AM5MO55B77K3647M/?utm_source=naver&utm_medium=referral&utm_campaign=naver-news\n",
      "✅ 크롤링 완료: 루마니아에 2600억원 규모 원전 설비 수출... 尹정부 두번째...\n"
     ]
    },
    {
     "name": "stderr",
     "output_type": "stream",
     "text": [
      "📰 뉴스 본문 크롤링 진행:   1%|          | 1/115 [00:06<12:33,  6.61s/it]"
     ]
    },
    {
     "name": "stdout",
     "output_type": "stream",
     "text": [
      "✅ 크롤링 완료: 폴란드·체코·튀르키예에 수출 공들이는 한국형 원전...\n"
     ]
    },
    {
     "name": "stderr",
     "output_type": "stream",
     "text": [
      "📰 뉴스 본문 크롤링 진행:   2%|▏         | 2/115 [00:07<06:33,  3.48s/it]"
     ]
    },
    {
     "name": "stdout",
     "output_type": "stream",
     "text": [
      "✅ 크롤링 완료: 박지원 두산에너빌리티 회장, 국내외 수주 호재 잇따라…‘K-원전 신화......\n"
     ]
    },
    {
     "name": "stderr",
     "output_type": "stream",
     "text": [
      "📰 뉴스 본문 크롤링 진행:   3%|▎         | 3/115 [00:09<04:44,  2.54s/it]"
     ]
    },
    {
     "name": "stdout",
     "output_type": "stream",
     "text": [
      "✅ 크롤링 완료: 한수원, 2600억 규모 루마니아 원전 설비 수주...\n"
     ]
    },
    {
     "name": "stderr",
     "output_type": "stream",
     "text": [
      "📰 뉴스 본문 크롤링 진행:   3%|▎         | 4/115 [00:10<03:43,  2.01s/it]"
     ]
    },
    {
     "name": "stdout",
     "output_type": "stream",
     "text": [
      "⚠ 본문을 가져오지 못해 Selenium으로 재시도: https://www.theguru.co.kr/news/article.html?no=56063\n",
      "✅ 크롤링 완료: \"네덜란드 新원전 사업자, 2025년 하반기 결정\"…'한·미·프' 대진표 확......\n"
     ]
    },
    {
     "name": "stderr",
     "output_type": "stream",
     "text": [
      "📰 뉴스 본문 크롤링 진행:   4%|▍         | 5/115 [00:15<05:23,  2.94s/it]"
     ]
    },
    {
     "name": "stdout",
     "output_type": "stream",
     "text": [
      "⚠ 본문을 가져오지 못해 Selenium으로 재시도: https://www.viva100.com/main/view.php?key=20230629010008575\n",
      "✅ 크롤링 완료: “물꼬 텄다”…韓 원전, 루마니아 이어 동유럽 진출 ‘청신호’...\n"
     ]
    },
    {
     "name": "stderr",
     "output_type": "stream",
     "text": [
      "📰 뉴스 본문 크롤링 진행:   5%|▌         | 6/115 [00:19<06:28,  3.57s/it]"
     ]
    },
    {
     "name": "stdout",
     "output_type": "stream",
     "text": [
      "✅ 크롤링 완료: 원전 '국가대표' 현대건설, 소형부터 대형까지 준비 완료...\n"
     ]
    },
    {
     "name": "stderr",
     "output_type": "stream",
     "text": [
      "📰 뉴스 본문 크롤링 진행:   6%|▌         | 7/115 [00:21<05:01,  2.80s/it]"
     ]
    },
    {
     "name": "stdout",
     "output_type": "stream",
     "text": [
      "✅ 크롤링 완료: \"원전 수출 줄줄이 막힐 판\"…한국, 가장 먼저 풀어야 할 변수...\n"
     ]
    },
    {
     "name": "stderr",
     "output_type": "stream",
     "text": [
      "📰 뉴스 본문 크롤링 진행:   7%|▋         | 8/115 [00:22<04:05,  2.30s/it]"
     ]
    },
    {
     "name": "stdout",
     "output_type": "stream",
     "text": [
      "✅ 크롤링 완료: [K원전 르네상스]한수원, 원전 이용률 견인…에너지 안보·탄소중립 포......\n"
     ]
    },
    {
     "name": "stderr",
     "output_type": "stream",
     "text": [
      "📰 뉴스 본문 크롤링 진행:   8%|▊         | 9/115 [00:23<03:24,  1.93s/it]"
     ]
    },
    {
     "name": "stdout",
     "output_type": "stream",
     "text": [
      "✅ 크롤링 완료: 김의장, 헝가리·체코 순방서 배터리·원전 협력 집중...\n"
     ]
    },
    {
     "name": "stderr",
     "output_type": "stream",
     "text": [
      "📰 뉴스 본문 크롤링 진행:   9%|▊         | 10/115 [00:24<03:00,  1.72s/it]"
     ]
    },
    {
     "name": "stdout",
     "output_type": "stream",
     "text": [
      "✅ 크롤링 완료: 김의장, 체코 상·하원의장 회담…\"韓원전, 美·佛보다 우수\"...\n"
     ]
    },
    {
     "name": "stderr",
     "output_type": "stream",
     "text": [
      "📰 뉴스 본문 크롤링 진행:  10%|▉         | 11/115 [00:25<02:43,  1.57s/it]"
     ]
    },
    {
     "name": "stdout",
     "output_type": "stream",
     "text": [
      "⚠ 본문을 가져오지 못해 Selenium으로 재시도: https://www.munhwa.com/news/view.html?no=2023060901071405017002\n",
      "✅ 크롤링 완료: 바라카 원전 4호기도 운영준비… 전체 가동땐 UAE 전력 25% 생산...\n"
     ]
    },
    {
     "name": "stderr",
     "output_type": "stream",
     "text": [
      "📰 뉴스 본문 크롤링 진행:  10%|█         | 12/115 [00:30<04:29,  2.61s/it]"
     ]
    },
    {
     "name": "stdout",
     "output_type": "stream",
     "text": [
      "✅ 크롤링 완료: 김의장, 헝가리·체코 공식방문…배터리·원전 협력 모색...\n"
     ]
    },
    {
     "name": "stderr",
     "output_type": "stream",
     "text": [
      "📰 뉴스 본문 크롤링 진행:  11%|█▏        | 13/115 [00:32<03:44,  2.20s/it]"
     ]
    },
    {
     "name": "stdout",
     "output_type": "stream",
     "text": [
      "✅ 크롤링 완료: 김진표, 체코서 원전세일즈…“우선협상대상자 지지 당부”...\n"
     ]
    },
    {
     "name": "stderr",
     "output_type": "stream",
     "text": [
      "📰 뉴스 본문 크롤링 진행:  12%|█▏        | 14/115 [00:33<03:19,  1.97s/it]"
     ]
    },
    {
     "name": "stdout",
     "output_type": "stream",
     "text": [
      "⚠ 본문을 가져오지 못해 Selenium으로 재시도: https://www.natv.go.kr/natv/news/newsView.do?newsId=506453\n",
      "✅ 크롤링 완료: 김 의장, 헝가리·체코 순방 '배터리·원전 협력' 확대...\n"
     ]
    },
    {
     "name": "stderr",
     "output_type": "stream",
     "text": [
      "📰 뉴스 본문 크롤링 진행:  13%|█▎        | 15/115 [00:39<05:07,  3.08s/it]"
     ]
    },
    {
     "name": "stdout",
     "output_type": "stream",
     "text": [
      "⚠ 본문을 가져오지 못해 Selenium으로 재시도: https://www.theguru.co.kr/news/article.html?no=55224\n",
      "✅ 크롤링 완료: 두산에너빌리티 체코 자회사 두산스코다 \"원전 누가 수주해도 우리가 터......\n"
     ]
    },
    {
     "name": "stderr",
     "output_type": "stream",
     "text": [
      "📰 뉴스 본문 크롤링 진행:  14%|█▍        | 16/115 [00:43<05:34,  3.38s/it]"
     ]
    },
    {
     "name": "stdout",
     "output_type": "stream",
     "text": [
      "⚠ 본문을 가져오지 못해 Selenium으로 재시도: https://www.theguru.co.kr/news/article.html?no=54733\n",
      "✅ 크롤링 완료: 美·체코, 원전 실무협상 진행...두산에너빌리티 자회사 동석...\n"
     ]
    },
    {
     "name": "stderr",
     "output_type": "stream",
     "text": [
      "📰 뉴스 본문 크롤링 진행:  15%|█▍        | 17/115 [00:47<05:51,  3.58s/it]"
     ]
    },
    {
     "name": "stdout",
     "output_type": "stream",
     "text": [
      "✅ 크롤링 완료: [단독] 체코 원전 입찰 조건에 '재처리' 끼웠다···IAEA 비공개 문건 ......\n"
     ]
    },
    {
     "name": "stderr",
     "output_type": "stream",
     "text": [
      "📰 뉴스 본문 크롤링 진행:  16%|█▌        | 18/115 [00:48<04:41,  2.90s/it]"
     ]
    },
    {
     "name": "stdout",
     "output_type": "stream",
     "text": [
      "⚠ 본문을 가져오지 못해 Selenium으로 재시도: https://www.theguru.co.kr/news/article.html?no=53054\n",
      "✅ 크롤링 완료: 체코 원전 책임자, 두코바니 신규 원전 추가 검토…두산·한수원 '새 기......\n"
     ]
    },
    {
     "name": "stderr",
     "output_type": "stream",
     "text": [
      "📰 뉴스 본문 크롤링 진행:  17%|█▋        | 19/115 [00:52<05:12,  3.26s/it]"
     ]
    },
    {
     "name": "stdout",
     "output_type": "stream",
     "text": [
      "✅ 크롤링 완료: 박진, 체코 두코바니 원전 우선협상대상자에 한수원 선정 당부...\n"
     ]
    },
    {
     "name": "stderr",
     "output_type": "stream",
     "text": [
      "📰 뉴스 본문 크롤링 진행:  17%|█▋        | 20/115 [00:54<04:13,  2.66s/it]"
     ]
    },
    {
     "name": "stdout",
     "output_type": "stream",
     "text": [
      "✅ 크롤링 완료: [5월 특집] 한국형 원전 세계로, SMR 선점 '박차'...\n"
     ]
    },
    {
     "name": "stderr",
     "output_type": "stream",
     "text": [
      "📰 뉴스 본문 크롤링 진행:  18%|█▊        | 21/115 [00:55<03:32,  2.26s/it]"
     ]
    },
    {
     "name": "stdout",
     "output_type": "stream",
     "text": [
      "✅ 크롤링 완료: 완공 앞둔 새울 원전 3·4호기…'K원전' 수출전진기지 위용 드러냈다...\n"
     ]
    },
    {
     "name": "stderr",
     "output_type": "stream",
     "text": [
      "📰 뉴스 본문 크롤링 진행:  19%|█▉        | 22/115 [00:56<03:08,  2.03s/it]"
     ]
    },
    {
     "name": "stdout",
     "output_type": "stream",
     "text": [
      "✅ 크롤링 완료: [단독]동유럽 원전 공략 위해 결단…\"韓이 전략적 양보\" 평가도...\n"
     ]
    },
    {
     "name": "stderr",
     "output_type": "stream",
     "text": [
      "📰 뉴스 본문 크롤링 진행:  20%|██        | 23/115 [00:58<02:46,  1.81s/it]"
     ]
    },
    {
     "name": "stdout",
     "output_type": "stream",
     "text": [
      "⚠ 본문을 가져오지 못해 Selenium으로 재시도: https://www.theguru.co.kr/news/article.html?no=52226\n",
      "✅ 크롤링 완료: 주한체코대사 \"韓 원전 수주 시 현지 기업 대거 참여\"...\n"
     ]
    },
    {
     "name": "stderr",
     "output_type": "stream",
     "text": [
      "📰 뉴스 본문 크롤링 진행:  21%|██        | 24/115 [01:02<03:53,  2.56s/it]"
     ]
    },
    {
     "name": "stdout",
     "output_type": "stream",
     "text": [
      "⚠ 본문을 가져오지 못해 Selenium으로 재시도: https://www.mk.co.kr/article/10723659\n",
      "✅ 크롤링 완료: 韓美 원전협력 확대 … \"법적 분쟁 조속히 해결해야\"...\n"
     ]
    },
    {
     "name": "stderr",
     "output_type": "stream",
     "text": [
      "📰 뉴스 본문 크롤링 진행:  22%|██▏       | 25/115 [01:08<05:13,  3.48s/it]"
     ]
    },
    {
     "name": "stdout",
     "output_type": "stream",
     "text": [
      "✅ 크롤링 완료: '체코 원전'만 수출신고 반려당한 K-원전…큰 영향 없다는데, 왜?...\n"
     ]
    },
    {
     "name": "stderr",
     "output_type": "stream",
     "text": [
      "📰 뉴스 본문 크롤링 진행:  23%|██▎       | 26/115 [01:09<04:14,  2.86s/it]"
     ]
    },
    {
     "name": "stdout",
     "output_type": "stream",
     "text": [
      "✅ 크롤링 완료: 원자력, 에너지 중심 '우뚝'…'K-원전' 수출 박차...\n"
     ]
    },
    {
     "name": "stderr",
     "output_type": "stream",
     "text": [
      "📰 뉴스 본문 크롤링 진행:  23%|██▎       | 27/115 [01:10<03:25,  2.34s/it]"
     ]
    },
    {
     "name": "stdout",
     "output_type": "stream",
     "text": [
      "⚠ 본문을 가져오지 못해 Selenium으로 재시도: https://www.munhwa.com/news/view.html?no=2023040501071405017001\n",
      "✅ 크롤링 완료: 미 법원 ‘체코 원전수출’ 제동에… 한수원, 웨스팅하우스에 ‘논의’......\n"
     ]
    },
    {
     "name": "stderr",
     "output_type": "stream",
     "text": [
      "📰 뉴스 본문 크롤링 진행:  24%|██▍       | 28/115 [01:14<04:13,  2.92s/it]"
     ]
    },
    {
     "name": "stdout",
     "output_type": "stream",
     "text": [
      "✅ 크롤링 완료: [관점뉴스] 한미정상회담, 한수원의 '체코 원전' 수출신고 반려건을 논......\n"
     ]
    },
    {
     "name": "stderr",
     "output_type": "stream",
     "text": [
      "📰 뉴스 본문 크롤링 진행:  25%|██▌       | 29/115 [01:16<03:27,  2.41s/it]"
     ]
    },
    {
     "name": "stdout",
     "output_type": "stream",
     "text": [
      "⚠ 본문을 가져오지 못해 Selenium으로 재시도: https://www.dnews.co.kr/uhtml/view.jsp?idxno=202304181854511040771\n",
      "✅ 크롤링 완료: 박진 외교부 장관, 체코에 '원전 수주 세일즈' 나서...\n"
     ]
    },
    {
     "name": "stderr",
     "output_type": "stream",
     "text": [
      "📰 뉴스 본문 크롤링 진행:  26%|██▌       | 30/115 [01:20<04:13,  2.98s/it]"
     ]
    },
    {
     "name": "stdout",
     "output_type": "stream",
     "text": [
      "⚠ 본문을 가져오지 못해 Selenium으로 재시도: https://www.munhwa.com/news/view.html?no=2023042201039910017001\n",
      "✅ 크롤링 완료: 한·미 정상회담서 원전 소송전 실타래 풀릴까...\n"
     ]
    },
    {
     "name": "stderr",
     "output_type": "stream",
     "text": [
      "📰 뉴스 본문 크롤링 진행:  27%|██▋       | 31/115 [01:24<04:36,  3.30s/it]"
     ]
    },
    {
     "name": "stdout",
     "output_type": "stream",
     "text": [
      "⚠ 본문을 가져오지 못해 Selenium으로 재시도: https://www.chosun.com/economy/industry-company/2023/04/05/JGCMJ7RFRZEVXHQJMZQXOWBRTE/?utm_source=naver&utm_medium=referral&utm_campaign=naver-news\n",
      "✅ 크롤링 완료: 미국, 한국의 체코 원전 수출에 제동 걸었다...\n"
     ]
    },
    {
     "name": "stderr",
     "output_type": "stream",
     "text": [
      "📰 뉴스 본문 크롤링 진행:  28%|██▊       | 32/115 [01:30<05:52,  4.24s/it]"
     ]
    },
    {
     "name": "stdout",
     "output_type": "stream",
     "text": [
      "⚠ 본문을 가져오지 못해 Selenium으로 재시도: https://www.munhwa.com/news/view.html?no=2023041201032005017001\n",
      "✅ 크롤링 완료: “K-원전, 기술력·경제성 세계 최고… 미국과 경쟁하는 ‘체코 수주’......\n"
     ]
    },
    {
     "name": "stderr",
     "output_type": "stream",
     "text": [
      "📰 뉴스 본문 크롤링 진행:  29%|██▊       | 33/115 [01:35<05:52,  4.30s/it]"
     ]
    },
    {
     "name": "stdout",
     "output_type": "stream",
     "text": [
      "✅ 크롤링 완료: [소형원자로 전쟁] ⑥ 한수원 이집트 원전 수주···美 역린 건드렸나...\n"
     ]
    },
    {
     "name": "stderr",
     "output_type": "stream",
     "text": [
      "📰 뉴스 본문 크롤링 진행:  30%|██▉       | 34/115 [01:36<04:35,  3.40s/it]"
     ]
    },
    {
     "name": "stdout",
     "output_type": "stream",
     "text": [
      "⚠ 본문을 가져오지 못해 Selenium으로 재시도: https://www.munhwa.com/news/view.html?no=2023040301031805017002\n",
      "✅ 크롤링 완료: “‘온 타임·온 버짓’ 한국 원전산업, 탄소중립 핵심이자 국부창출 주......\n"
     ]
    },
    {
     "name": "stderr",
     "output_type": "stream",
     "text": [
      "📰 뉴스 본문 크롤링 진행:  30%|███       | 35/115 [01:40<04:52,  3.66s/it]"
     ]
    },
    {
     "name": "stdout",
     "output_type": "stream",
     "text": [
      "⚠ 본문을 가져오지 못해 Selenium으로 재시도: https://www.theguru.co.kr/news/article.html?no=52141\n",
      "✅ 크롤링 완료: 한수원에 태클 건 웨스팅하우스, 체코 밀월 강화...\n"
     ]
    },
    {
     "name": "stderr",
     "output_type": "stream",
     "text": [
      "📰 뉴스 본문 크롤링 진행:  31%|███▏      | 36/115 [01:45<05:07,  3.89s/it]"
     ]
    },
    {
     "name": "stdout",
     "output_type": "stream",
     "text": [
      "✅ 크롤링 완료: 김진표 의장, 헝가리·체코 공식 방문...\n"
     ]
    },
    {
     "name": "stderr",
     "output_type": "stream",
     "text": [
      "📰 뉴스 본문 크롤링 진행:  32%|███▏      | 37/115 [01:48<04:48,  3.69s/it]"
     ]
    },
    {
     "name": "stdout",
     "output_type": "stream",
     "text": [
      "✅ 크롤링 완료: 김의장, '재외국민투표 개선' 교민 건의에 \"대안 찾아야\"...\n"
     ]
    },
    {
     "name": "stderr",
     "output_type": "stream",
     "text": [
      "📰 뉴스 본문 크롤링 진행:  33%|███▎      | 38/115 [01:49<03:47,  2.96s/it]"
     ]
    },
    {
     "name": "stdout",
     "output_type": "stream",
     "text": [
      "✅ 크롤링 완료: [클로즈업] '경제통' 김진표, 헝가리·체코 순방...동유럽 실질 투자 물......\n"
     ]
    },
    {
     "name": "stderr",
     "output_type": "stream",
     "text": [
      "📰 뉴스 본문 크롤링 진행:  34%|███▍      | 39/115 [01:51<03:06,  2.45s/it]"
     ]
    },
    {
     "name": "stdout",
     "output_type": "stream",
     "text": [
      "✅ 크롤링 완료: [소형원자로전쟁] ⑧ EU 덮친 核 재처리 쓰나미···脫 푸틴 가속화...\n"
     ]
    },
    {
     "name": "stderr",
     "output_type": "stream",
     "text": [
      "📰 뉴스 본문 크롤링 진행:  35%|███▍      | 40/115 [01:52<02:38,  2.11s/it]"
     ]
    },
    {
     "name": "stdout",
     "output_type": "stream",
     "text": [
      "✅ 크롤링 완료: 에기평, 폴란드·체코와 원자력 기술포럼...\n"
     ]
    },
    {
     "name": "stderr",
     "output_type": "stream",
     "text": [
      "📰 뉴스 본문 크롤링 진행:  36%|███▌      | 41/115 [01:53<02:16,  1.84s/it]"
     ]
    },
    {
     "name": "stdout",
     "output_type": "stream",
     "text": [
      "✅ 크롤링 완료: 에기평, 폴란드·체코와 원자력 기술협력 포럼 열어...\n"
     ]
    },
    {
     "name": "stderr",
     "output_type": "stream",
     "text": [
      "📰 뉴스 본문 크롤링 진행:  37%|███▋      | 42/115 [01:54<01:59,  1.64s/it]"
     ]
    },
    {
     "name": "stdout",
     "output_type": "stream",
     "text": [
      "✅ 크롤링 완료: [이번 주 국회에서는] 박민식 보훈장관 후보자 인사청문실시계획 채택건......\n"
     ]
    },
    {
     "name": "stderr",
     "output_type": "stream",
     "text": [
      "📰 뉴스 본문 크롤링 진행:  37%|███▋      | 43/115 [01:58<02:37,  2.19s/it]"
     ]
    },
    {
     "name": "stdout",
     "output_type": "stream",
     "text": [
      "✅ 크롤링 완료: NPT 공조가 최종 核병기 배치 불렀다···무색해진 자체 핵무장론...\n"
     ]
    },
    {
     "name": "stderr",
     "output_type": "stream",
     "text": [
      "📰 뉴스 본문 크롤링 진행:  38%|███▊      | 44/115 [01:59<02:21,  2.00s/it]"
     ]
    },
    {
     "name": "stdout",
     "output_type": "stream",
     "text": [
      "✅ 크롤링 완료: 탈탄소화·해외 수주 기대감에 다시 살아나는 원자력 ETF...\n"
     ]
    },
    {
     "name": "stderr",
     "output_type": "stream",
     "text": [
      "📰 뉴스 본문 크롤링 진행:  39%|███▉      | 45/115 [02:02<02:26,  2.09s/it]"
     ]
    },
    {
     "name": "stdout",
     "output_type": "stream",
     "text": [
      "✅ 크롤링 완료: 한미 정상회담 스타트…원전주 시간 다가오나...\n"
     ]
    },
    {
     "name": "stderr",
     "output_type": "stream",
     "text": [
      "📰 뉴스 본문 크롤링 진행:  40%|████      | 46/115 [02:03<02:13,  1.94s/it]"
     ]
    },
    {
     "name": "stdout",
     "output_type": "stream",
     "text": [
      "✅ 크롤링 완료: 한-체코, 미래산업 교류 강화...\n"
     ]
    },
    {
     "name": "stderr",
     "output_type": "stream",
     "text": [
      "📰 뉴스 본문 크롤링 진행:  41%|████      | 47/115 [02:04<01:56,  1.72s/it]"
     ]
    },
    {
     "name": "stdout",
     "output_type": "stream",
     "text": [
      "⚠ 본문을 가져오지 못해 Selenium으로 재시도: https://www.theguru.co.kr/news/article.html?no=52268\n",
      "✅ 크롤링 완료: [단독] 주한체코대사 \"韓 배터리 3사와 투자 논의\"…CEZ 유휴지 활용 추......\n"
     ]
    },
    {
     "name": "stderr",
     "output_type": "stream",
     "text": [
      "📰 뉴스 본문 크롤링 진행:  42%|████▏     | 48/115 [02:09<02:43,  2.44s/it]"
     ]
    },
    {
     "name": "stdout",
     "output_type": "stream",
     "text": [
      "✅ 크롤링 완료: 美, 한수원 단독 체코수출 제동…'웨스팅과 손잡아라' 우회 압박...\n"
     ]
    },
    {
     "name": "stderr",
     "output_type": "stream",
     "text": [
      "📰 뉴스 본문 크롤링 진행:  43%|████▎     | 49/115 [02:10<02:18,  2.10s/it]"
     ]
    },
    {
     "name": "stdout",
     "output_type": "stream",
     "text": [
      "✅ 크롤링 완료: 논란의 원자력 발전은 왜 르네상스일까[딥다이브]...\n"
     ]
    },
    {
     "name": "stderr",
     "output_type": "stream",
     "text": [
      "📰 뉴스 본문 크롤링 진행:  43%|████▎     | 50/115 [02:11<02:04,  1.91s/it]"
     ]
    },
    {
     "name": "stdout",
     "output_type": "stream",
     "text": [
      "✅ 크롤링 완료: [이번 주 국회에서는] 박민식 보훈장관 후보자 인사청문실시계획 채택건......\n"
     ]
    },
    {
     "name": "stderr",
     "output_type": "stream",
     "text": [
      "📰 뉴스 본문 크롤링 진행:  44%|████▍     | 51/115 [02:13<01:49,  1.70s/it]"
     ]
    },
    {
     "name": "stdout",
     "output_type": "stream",
     "text": [
      "✅ 크롤링 완료: NPT 공조가 최종 核병기 배치 불렀다···무색해진 자체 핵무장론...\n"
     ]
    },
    {
     "name": "stderr",
     "output_type": "stream",
     "text": [
      "📰 뉴스 본문 크롤링 진행:  45%|████▌     | 52/115 [02:14<01:38,  1.56s/it]"
     ]
    },
    {
     "name": "stdout",
     "output_type": "stream",
     "text": [
      "✅ 크롤링 완료: 탈탄소화·해외 수주 기대감에 다시 살아나는 원자력 ETF...\n"
     ]
    },
    {
     "name": "stderr",
     "output_type": "stream",
     "text": [
      "📰 뉴스 본문 크롤링 진행:  46%|████▌     | 53/115 [02:15<01:37,  1.58s/it]"
     ]
    },
    {
     "name": "stdout",
     "output_type": "stream",
     "text": [
      "✅ 크롤링 완료: 한미 정상회담 스타트…원전주 시간 다가오나...\n"
     ]
    },
    {
     "name": "stderr",
     "output_type": "stream",
     "text": [
      "📰 뉴스 본문 크롤링 진행:  47%|████▋     | 54/115 [02:17<01:31,  1.50s/it]"
     ]
    },
    {
     "name": "stdout",
     "output_type": "stream",
     "text": [
      "✅ 크롤링 완료: 한-체코, 미래산업 교류 강화...\n"
     ]
    },
    {
     "name": "stderr",
     "output_type": "stream",
     "text": [
      "📰 뉴스 본문 크롤링 진행:  48%|████▊     | 55/115 [02:18<01:27,  1.45s/it]"
     ]
    },
    {
     "name": "stdout",
     "output_type": "stream",
     "text": [
      "⚠ 본문을 가져오지 못해 Selenium으로 재시도: https://www.theguru.co.kr/news/article.html?no=52268\n",
      "✅ 크롤링 완료: [단독] 주한체코대사 \"韓 배터리 3사와 투자 논의\"…CEZ 유휴지 활용 추......\n"
     ]
    },
    {
     "name": "stderr",
     "output_type": "stream",
     "text": [
      "📰 뉴스 본문 크롤링 진행:  49%|████▊     | 56/115 [02:22<02:11,  2.23s/it]"
     ]
    },
    {
     "name": "stdout",
     "output_type": "stream",
     "text": [
      "✅ 크롤링 완료: 한-체코 외교장관 통화…미래산업 분야 양국 협력 강화...\n"
     ]
    },
    {
     "name": "stderr",
     "output_type": "stream",
     "text": [
      "📰 뉴스 본문 크롤링 진행:  50%|████▉     | 57/115 [02:23<01:52,  1.94s/it]"
     ]
    },
    {
     "name": "stdout",
     "output_type": "stream",
     "text": [
      "✅ 크롤링 완료: 한-체코 외교장관 통화…박진 \"전기차·수소 등 협력강화 희망\"...\n"
     ]
    },
    {
     "name": "stderr",
     "output_type": "stream",
     "text": [
      "📰 뉴스 본문 크롤링 진행:  50%|█████     | 58/115 [02:25<01:39,  1.74s/it]"
     ]
    },
    {
     "name": "stdout",
     "output_type": "stream",
     "text": [
      "✅ 크롤링 완료: 美, 한수원 단독 체코수출 제동…'웨스팅과 손잡아라' 우회 압박...\n"
     ]
    },
    {
     "name": "stderr",
     "output_type": "stream",
     "text": [
      "📰 뉴스 본문 크롤링 진행:  51%|█████▏    | 59/115 [02:26<01:28,  1.59s/it]"
     ]
    },
    {
     "name": "stdout",
     "output_type": "stream",
     "text": [
      "✅ 크롤링 완료: 논란의 원자력 발전은 왜 르네상스일까[딥다이브]...\n"
     ]
    },
    {
     "name": "stderr",
     "output_type": "stream",
     "text": [
      "📰 뉴스 본문 크롤링 진행:  52%|█████▏    | 60/115 [02:27<01:26,  1.57s/it]"
     ]
    },
    {
     "name": "stdout",
     "output_type": "stream",
     "text": [
      "✅ 크롤링 완료: [이번 주 국회에서는] 박민식 보훈장관 후보자 인사청문실시계획 채택건......\n"
     ]
    },
    {
     "name": "stderr",
     "output_type": "stream",
     "text": [
      "📰 뉴스 본문 크롤링 진행:  53%|█████▎    | 61/115 [02:29<01:17,  1.44s/it]"
     ]
    },
    {
     "name": "stdout",
     "output_type": "stream",
     "text": [
      "✅ 크롤링 완료: NPT 공조가 최종 核병기 배치 불렀다···무색해진 자체 핵무장론...\n"
     ]
    },
    {
     "name": "stderr",
     "output_type": "stream",
     "text": [
      "📰 뉴스 본문 크롤링 진행:  54%|█████▍    | 62/115 [02:30<01:11,  1.36s/it]"
     ]
    },
    {
     "name": "stdout",
     "output_type": "stream",
     "text": [
      "✅ 크롤링 완료: 탈탄소화·해외 수주 기대감에 다시 살아나는 원자력 ETF...\n"
     ]
    },
    {
     "name": "stderr",
     "output_type": "stream",
     "text": [
      "📰 뉴스 본문 크롤링 진행:  55%|█████▍    | 63/115 [02:31<01:14,  1.44s/it]"
     ]
    },
    {
     "name": "stdout",
     "output_type": "stream",
     "text": [
      "✅ 크롤링 완료: 한미 정상회담 스타트…원전주 시간 다가오나...\n"
     ]
    },
    {
     "name": "stderr",
     "output_type": "stream",
     "text": [
      "📰 뉴스 본문 크롤링 진행:  56%|█████▌    | 64/115 [02:33<01:12,  1.42s/it]"
     ]
    },
    {
     "name": "stdout",
     "output_type": "stream",
     "text": [
      "✅ 크롤링 완료: 한-체코, 미래산업 교류 강화...\n"
     ]
    },
    {
     "name": "stderr",
     "output_type": "stream",
     "text": [
      "📰 뉴스 본문 크롤링 진행:  57%|█████▋    | 65/115 [02:34<01:06,  1.32s/it]"
     ]
    },
    {
     "name": "stdout",
     "output_type": "stream",
     "text": [
      "⚠ 본문을 가져오지 못해 Selenium으로 재시도: https://www.theguru.co.kr/news/article.html?no=52268\n",
      "✅ 크롤링 완료: [단독] 주한체코대사 \"韓 배터리 3사와 투자 논의\"…CEZ 유휴지 활용 추......\n"
     ]
    },
    {
     "name": "stderr",
     "output_type": "stream",
     "text": [
      "📰 뉴스 본문 크롤링 진행:  57%|█████▋    | 66/115 [02:38<01:45,  2.15s/it]"
     ]
    },
    {
     "name": "stdout",
     "output_type": "stream",
     "text": [
      "✅ 크롤링 완료: 한-체코 외교장관 통화…미래산업 분야 양국 협력 강화...\n"
     ]
    },
    {
     "name": "stderr",
     "output_type": "stream",
     "text": [
      "📰 뉴스 본문 크롤링 진행:  58%|█████▊    | 67/115 [02:39<01:29,  1.87s/it]"
     ]
    },
    {
     "name": "stdout",
     "output_type": "stream",
     "text": [
      "✅ 크롤링 완료: 한-체코 외교장관 통화…박진 \"전기차·수소 등 협력강화 희망\"...\n"
     ]
    },
    {
     "name": "stderr",
     "output_type": "stream",
     "text": [
      "📰 뉴스 본문 크롤링 진행:  59%|█████▉    | 68/115 [02:40<01:17,  1.66s/it]"
     ]
    },
    {
     "name": "stdout",
     "output_type": "stream",
     "text": [
      "✅ 크롤링 완료: 美, 한수원 단독 체코수출 제동…'웨스팅과 손잡아라' 우회 압박...\n"
     ]
    },
    {
     "name": "stderr",
     "output_type": "stream",
     "text": [
      "📰 뉴스 본문 크롤링 진행:  60%|██████    | 69/115 [02:42<01:10,  1.54s/it]"
     ]
    },
    {
     "name": "stdout",
     "output_type": "stream",
     "text": [
      "✅ 크롤링 완료: 논란의 원자력 발전은 왜 르네상스일까[딥다이브]...\n"
     ]
    },
    {
     "name": "stderr",
     "output_type": "stream",
     "text": [
      "📰 뉴스 본문 크롤링 진행:  61%|██████    | 70/115 [02:43<01:07,  1.50s/it]"
     ]
    },
    {
     "name": "stdout",
     "output_type": "stream",
     "text": [
      "✅ 크롤링 완료: [이번 주 국회에서는] 박민식 보훈장관 후보자 인사청문실시계획 채택건......\n"
     ]
    },
    {
     "name": "stderr",
     "output_type": "stream",
     "text": [
      "📰 뉴스 본문 크롤링 진행:  62%|██████▏   | 71/115 [02:44<01:02,  1.41s/it]"
     ]
    },
    {
     "name": "stdout",
     "output_type": "stream",
     "text": [
      "✅ 크롤링 완료: NPT 공조가 최종 核병기 배치 불렀다···무색해진 자체 핵무장론...\n"
     ]
    },
    {
     "name": "stderr",
     "output_type": "stream",
     "text": [
      "📰 뉴스 본문 크롤링 진행:  63%|██████▎   | 72/115 [02:45<00:57,  1.34s/it]"
     ]
    },
    {
     "name": "stdout",
     "output_type": "stream",
     "text": [
      "✅ 크롤링 완료: 탈탄소화·해외 수주 기대감에 다시 살아나는 원자력 ETF...\n"
     ]
    },
    {
     "name": "stderr",
     "output_type": "stream",
     "text": [
      "📰 뉴스 본문 크롤링 진행:  63%|██████▎   | 73/115 [02:47<00:59,  1.43s/it]"
     ]
    },
    {
     "name": "stdout",
     "output_type": "stream",
     "text": [
      "✅ 크롤링 완료: 한미 정상회담 스타트…원전주 시간 다가오나...\n"
     ]
    },
    {
     "name": "stderr",
     "output_type": "stream",
     "text": [
      "📰 뉴스 본문 크롤링 진행:  64%|██████▍   | 74/115 [02:48<00:57,  1.41s/it]"
     ]
    },
    {
     "name": "stdout",
     "output_type": "stream",
     "text": [
      "✅ 크롤링 완료: 한-체코, 미래산업 교류 강화...\n"
     ]
    },
    {
     "name": "stderr",
     "output_type": "stream",
     "text": [
      "📰 뉴스 본문 크롤링 진행:  65%|██████▌   | 75/115 [02:49<00:53,  1.33s/it]"
     ]
    },
    {
     "name": "stdout",
     "output_type": "stream",
     "text": [
      "⚠ 본문을 가져오지 못해 Selenium으로 재시도: https://www.theguru.co.kr/news/article.html?no=52268\n",
      "✅ 크롤링 완료: [단독] 주한체코대사 \"韓 배터리 3사와 투자 논의\"…CEZ 유휴지 활용 추......\n"
     ]
    },
    {
     "name": "stderr",
     "output_type": "stream",
     "text": [
      "📰 뉴스 본문 크롤링 진행:  66%|██████▌   | 76/115 [02:53<01:23,  2.14s/it]"
     ]
    },
    {
     "name": "stdout",
     "output_type": "stream",
     "text": [
      "✅ 크롤링 완료: 한-체코 외교장관 통화…미래산업 분야 양국 협력 강화...\n"
     ]
    },
    {
     "name": "stderr",
     "output_type": "stream",
     "text": [
      "📰 뉴스 본문 크롤링 진행:  67%|██████▋   | 77/115 [02:55<01:09,  1.84s/it]"
     ]
    },
    {
     "name": "stdout",
     "output_type": "stream",
     "text": [
      "✅ 크롤링 완료: 한-체코 외교장관 통화…박진 \"전기차·수소 등 협력강화 희망\"...\n"
     ]
    },
    {
     "name": "stderr",
     "output_type": "stream",
     "text": [
      "📰 뉴스 본문 크롤링 진행:  68%|██████▊   | 78/115 [02:56<01:00,  1.64s/it]"
     ]
    },
    {
     "name": "stdout",
     "output_type": "stream",
     "text": [
      "✅ 크롤링 완료: 美, 한수원 단독 체코수출 제동…'웨스팅과 손잡아라' 우회 압박...\n"
     ]
    },
    {
     "name": "stderr",
     "output_type": "stream",
     "text": [
      "📰 뉴스 본문 크롤링 진행:  69%|██████▊   | 79/115 [02:57<00:54,  1.52s/it]"
     ]
    },
    {
     "name": "stdout",
     "output_type": "stream",
     "text": [
      "✅ 크롤링 완료: 논란의 원자력 발전은 왜 르네상스일까[딥다이브]...\n"
     ]
    },
    {
     "name": "stderr",
     "output_type": "stream",
     "text": [
      "📰 뉴스 본문 크롤링 진행:  70%|██████▉   | 80/115 [02:58<00:50,  1.43s/it]"
     ]
    },
    {
     "name": "stdout",
     "output_type": "stream",
     "text": [
      "✅ 크롤링 완료: [이번 주 국회에서는] 박민식 보훈장관 후보자 인사청문실시계획 채택건......\n"
     ]
    },
    {
     "name": "stderr",
     "output_type": "stream",
     "text": [
      "📰 뉴스 본문 크롤링 진행:  70%|███████   | 81/115 [02:59<00:45,  1.35s/it]"
     ]
    },
    {
     "name": "stdout",
     "output_type": "stream",
     "text": [
      "✅ 크롤링 완료: NPT 공조가 최종 核병기 배치 불렀다···무색해진 자체 핵무장론...\n"
     ]
    },
    {
     "name": "stderr",
     "output_type": "stream",
     "text": [
      "📰 뉴스 본문 크롤링 진행:  71%|███████▏  | 82/115 [03:01<00:43,  1.33s/it]"
     ]
    },
    {
     "name": "stdout",
     "output_type": "stream",
     "text": [
      "✅ 크롤링 완료: 탈탄소화·해외 수주 기대감에 다시 살아나는 원자력 ETF...\n"
     ]
    },
    {
     "name": "stderr",
     "output_type": "stream",
     "text": [
      "📰 뉴스 본문 크롤링 진행:  72%|███████▏  | 83/115 [03:02<00:45,  1.43s/it]"
     ]
    },
    {
     "name": "stdout",
     "output_type": "stream",
     "text": [
      "✅ 크롤링 완료: 한미 정상회담 스타트…원전주 시간 다가오나...\n"
     ]
    },
    {
     "name": "stderr",
     "output_type": "stream",
     "text": [
      "📰 뉴스 본문 크롤링 진행:  73%|███████▎  | 84/115 [03:04<00:43,  1.42s/it]"
     ]
    },
    {
     "name": "stdout",
     "output_type": "stream",
     "text": [
      "✅ 크롤링 완료: 한-체코, 미래산업 교류 강화...\n"
     ]
    },
    {
     "name": "stderr",
     "output_type": "stream",
     "text": [
      "📰 뉴스 본문 크롤링 진행:  74%|███████▍  | 85/115 [03:05<00:39,  1.32s/it]"
     ]
    },
    {
     "name": "stdout",
     "output_type": "stream",
     "text": [
      "⚠ 본문을 가져오지 못해 Selenium으로 재시도: https://www.theguru.co.kr/news/article.html?no=52268\n",
      "✅ 크롤링 완료: [단독] 주한체코대사 \"韓 배터리 3사와 투자 논의\"…CEZ 유휴지 활용 추......\n"
     ]
    },
    {
     "name": "stderr",
     "output_type": "stream",
     "text": [
      "📰 뉴스 본문 크롤링 진행:  75%|███████▍  | 86/115 [03:09<01:01,  2.13s/it]"
     ]
    },
    {
     "name": "stdout",
     "output_type": "stream",
     "text": [
      "✅ 크롤링 완료: 한-체코 외교장관 통화…미래산업 분야 양국 협력 강화...\n"
     ]
    },
    {
     "name": "stderr",
     "output_type": "stream",
     "text": [
      "📰 뉴스 본문 크롤링 진행:  76%|███████▌  | 87/115 [03:10<00:51,  1.83s/it]"
     ]
    },
    {
     "name": "stdout",
     "output_type": "stream",
     "text": [
      "✅ 크롤링 완료: 한-체코 외교장관 통화…박진 \"전기차·수소 등 협력강화 희망\"...\n"
     ]
    },
    {
     "name": "stderr",
     "output_type": "stream",
     "text": [
      "📰 뉴스 본문 크롤링 진행:  77%|███████▋  | 88/115 [03:11<00:43,  1.63s/it]"
     ]
    },
    {
     "name": "stdout",
     "output_type": "stream",
     "text": [
      "✅ 크롤링 완료: 美, 한수원 단독 체코수출 제동…'웨스팅과 손잡아라' 우회 압박...\n"
     ]
    },
    {
     "name": "stderr",
     "output_type": "stream",
     "text": [
      "📰 뉴스 본문 크롤링 진행:  77%|███████▋  | 89/115 [03:12<00:39,  1.51s/it]"
     ]
    },
    {
     "name": "stdout",
     "output_type": "stream",
     "text": [
      "✅ 크롤링 완료: 논란의 원자력 발전은 왜 르네상스일까[딥다이브]...\n"
     ]
    },
    {
     "name": "stderr",
     "output_type": "stream",
     "text": [
      "📰 뉴스 본문 크롤링 진행:  78%|███████▊  | 90/115 [03:14<00:37,  1.50s/it]"
     ]
    },
    {
     "name": "stdout",
     "output_type": "stream",
     "text": [
      "✅ 크롤링 완료: [이번 주 국회에서는] 박민식 보훈장관 후보자 인사청문실시계획 채택건......\n"
     ]
    },
    {
     "name": "stderr",
     "output_type": "stream",
     "text": [
      "📰 뉴스 본문 크롤링 진행:  79%|███████▉  | 91/115 [03:15<00:34,  1.42s/it]"
     ]
    },
    {
     "name": "stdout",
     "output_type": "stream",
     "text": [
      "✅ 크롤링 완료: NPT 공조가 최종 核병기 배치 불렀다···무색해진 자체 핵무장론...\n"
     ]
    },
    {
     "name": "stderr",
     "output_type": "stream",
     "text": [
      "📰 뉴스 본문 크롤링 진행:  80%|████████  | 92/115 [03:16<00:31,  1.36s/it]"
     ]
    },
    {
     "name": "stdout",
     "output_type": "stream",
     "text": [
      "✅ 크롤링 완료: 탈탄소화·해외 수주 기대감에 다시 살아나는 원자력 ETF...\n"
     ]
    },
    {
     "name": "stderr",
     "output_type": "stream",
     "text": [
      "📰 뉴스 본문 크롤링 진행:  81%|████████  | 93/115 [03:18<00:35,  1.60s/it]"
     ]
    },
    {
     "name": "stdout",
     "output_type": "stream",
     "text": [
      "✅ 크롤링 완료: 한미 정상회담 스타트…원전주 시간 다가오나...\n"
     ]
    },
    {
     "name": "stderr",
     "output_type": "stream",
     "text": [
      "📰 뉴스 본문 크롤링 진행:  82%|████████▏ | 94/115 [03:20<00:32,  1.53s/it]"
     ]
    },
    {
     "name": "stdout",
     "output_type": "stream",
     "text": [
      "✅ 크롤링 완료: 한-체코, 미래산업 교류 강화...\n"
     ]
    },
    {
     "name": "stderr",
     "output_type": "stream",
     "text": [
      "📰 뉴스 본문 크롤링 진행:  83%|████████▎ | 95/115 [03:21<00:28,  1.40s/it]"
     ]
    },
    {
     "name": "stdout",
     "output_type": "stream",
     "text": [
      "⚠ 본문을 가져오지 못해 Selenium으로 재시도: https://www.theguru.co.kr/news/article.html?no=52268\n",
      "✅ 크롤링 완료: [단독] 주한체코대사 \"韓 배터리 3사와 투자 논의\"…CEZ 유휴지 활용 추......\n"
     ]
    },
    {
     "name": "stderr",
     "output_type": "stream",
     "text": [
      "📰 뉴스 본문 크롤링 진행:  83%|████████▎ | 96/115 [03:25<00:41,  2.20s/it]"
     ]
    },
    {
     "name": "stdout",
     "output_type": "stream",
     "text": [
      "✅ 크롤링 완료: 한-체코 외교장관 통화…미래산업 분야 양국 협력 강화...\n"
     ]
    },
    {
     "name": "stderr",
     "output_type": "stream",
     "text": [
      "📰 뉴스 본문 크롤링 진행:  84%|████████▍ | 97/115 [03:26<00:33,  1.88s/it]"
     ]
    },
    {
     "name": "stdout",
     "output_type": "stream",
     "text": [
      "✅ 크롤링 완료: 한-체코 외교장관 통화…박진 \"전기차·수소 등 협력강화 희망\"...\n"
     ]
    },
    {
     "name": "stderr",
     "output_type": "stream",
     "text": [
      "📰 뉴스 본문 크롤링 진행:  85%|████████▌ | 98/115 [03:27<00:28,  1.68s/it]"
     ]
    },
    {
     "name": "stdout",
     "output_type": "stream",
     "text": [
      "✅ 크롤링 완료: 美, 한수원 단독 체코수출 제동…'웨스팅과 손잡아라' 우회 압박...\n"
     ]
    },
    {
     "name": "stderr",
     "output_type": "stream",
     "text": [
      "📰 뉴스 본문 크롤링 진행:  86%|████████▌ | 99/115 [03:29<00:24,  1.54s/it]"
     ]
    },
    {
     "name": "stdout",
     "output_type": "stream",
     "text": [
      "✅ 크롤링 완료: 논란의 원자력 발전은 왜 르네상스일까[딥다이브]...\n"
     ]
    },
    {
     "name": "stderr",
     "output_type": "stream",
     "text": [
      "📰 뉴스 본문 크롤링 진행:  87%|████████▋ | 100/115 [03:30<00:21,  1.45s/it]"
     ]
    },
    {
     "name": "stdout",
     "output_type": "stream",
     "text": [
      "✅ 크롤링 완료: 에기평, 폴란드·체코와 원자력 포럼 개최...\n"
     ]
    },
    {
     "name": "stderr",
     "output_type": "stream",
     "text": [
      "📰 뉴스 본문 크롤링 진행:  88%|████████▊ | 101/115 [03:31<00:19,  1.39s/it]"
     ]
    },
    {
     "name": "stdout",
     "output_type": "stream",
     "text": [
      "✅ 크롤링 완료: [이번 주 국회에서는] 박민식 보훈장관 후보자 인사청문실시계획 채택건......\n"
     ]
    },
    {
     "name": "stderr",
     "output_type": "stream",
     "text": [
      "📰 뉴스 본문 크롤링 진행:  89%|████████▊ | 102/115 [03:32<00:17,  1.32s/it]"
     ]
    },
    {
     "name": "stdout",
     "output_type": "stream",
     "text": [
      "✅ 크롤링 완료: NPT 공조가 최종 核병기 배치 불렀다···무색해진 자체 핵무장론...\n"
     ]
    },
    {
     "name": "stderr",
     "output_type": "stream",
     "text": [
      "📰 뉴스 본문 크롤링 진행:  90%|████████▉ | 103/115 [03:33<00:15,  1.27s/it]"
     ]
    },
    {
     "name": "stdout",
     "output_type": "stream",
     "text": [
      "✅ 크롤링 완료: 탈탄소화·해외 수주 기대감에 다시 살아나는 원자력 ETF...\n"
     ]
    },
    {
     "name": "stderr",
     "output_type": "stream",
     "text": [
      "📰 뉴스 본문 크롤링 진행:  90%|█████████ | 104/115 [03:35<00:15,  1.37s/it]"
     ]
    },
    {
     "name": "stdout",
     "output_type": "stream",
     "text": [
      "✅ 크롤링 완료: 한미 정상회담 스타트…원전주 시간 다가오나...\n"
     ]
    },
    {
     "name": "stderr",
     "output_type": "stream",
     "text": [
      "📰 뉴스 본문 크롤링 진행:  91%|█████████▏| 105/115 [03:36<00:13,  1.38s/it]"
     ]
    },
    {
     "name": "stdout",
     "output_type": "stream",
     "text": [
      "✅ 크롤링 완료: 한-체코, 미래산업 교류 강화...\n"
     ]
    },
    {
     "name": "stderr",
     "output_type": "stream",
     "text": [
      "📰 뉴스 본문 크롤링 진행:  92%|█████████▏| 106/115 [03:37<00:11,  1.30s/it]"
     ]
    },
    {
     "name": "stdout",
     "output_type": "stream",
     "text": [
      "⚠ 본문을 가져오지 못해 Selenium으로 재시도: https://www.theguru.co.kr/news/article.html?no=52268\n",
      "✅ 크롤링 완료: [단독] 주한체코대사 \"韓 배터리 3사와 투자 논의\"…CEZ 유휴지 활용 추......\n"
     ]
    },
    {
     "name": "stderr",
     "output_type": "stream",
     "text": [
      "📰 뉴스 본문 크롤링 진행:  93%|█████████▎| 107/115 [03:42<00:17,  2.14s/it]"
     ]
    },
    {
     "name": "stdout",
     "output_type": "stream",
     "text": [
      "✅ 크롤링 완료: 한-체코 외교장관 통화…미래산업 분야 양국 협력 강화...\n"
     ]
    },
    {
     "name": "stderr",
     "output_type": "stream",
     "text": [
      "📰 뉴스 본문 크롤링 진행:  94%|█████████▍| 108/115 [03:43<00:13,  1.88s/it]"
     ]
    },
    {
     "name": "stdout",
     "output_type": "stream",
     "text": [
      "✅ 크롤링 완료: 美, 한수원 단독 체코수출 제동…'웨스팅과 손잡아라' 우회 압박...\n"
     ]
    },
    {
     "name": "stderr",
     "output_type": "stream",
     "text": [
      "📰 뉴스 본문 크롤링 진행:  95%|█████████▍| 109/115 [03:44<00:10,  1.71s/it]"
     ]
    },
    {
     "name": "stdout",
     "output_type": "stream",
     "text": [
      "✅ 크롤링 완료: 논란의 원자력 발전은 왜 르네상스일까[딥다이브]...\n"
     ]
    },
    {
     "name": "stderr",
     "output_type": "stream",
     "text": [
      "📰 뉴스 본문 크롤링 진행:  96%|█████████▌| 110/115 [03:46<00:08,  1.68s/it]"
     ]
    },
    {
     "name": "stdout",
     "output_type": "stream",
     "text": [
      "⚠ 본문을 가져오지 못해 Selenium으로 재시도: https://www.theguru.co.kr/news/article.html?no=52268\n",
      "✅ 크롤링 완료: [단독] 주한체코대사 \"韓 배터리 3사와 투자 논의\"…CEZ 유휴지 활용 추......\n"
     ]
    },
    {
     "name": "stderr",
     "output_type": "stream",
     "text": [
      "📰 뉴스 본문 크롤링 진행:  97%|█████████▋| 111/115 [03:50<00:09,  2.38s/it]"
     ]
    },
    {
     "name": "stdout",
     "output_type": "stream",
     "text": [
      "✅ 크롤링 완료: 한-체코 외교장관 통화…미래산업 분야 양국 협력 강화...\n"
     ]
    },
    {
     "name": "stderr",
     "output_type": "stream",
     "text": [
      "📰 뉴스 본문 크롤링 진행:  97%|█████████▋| 112/115 [03:51<00:06,  2.03s/it]"
     ]
    },
    {
     "name": "stdout",
     "output_type": "stream",
     "text": [
      "✅ 크롤링 완료: 한-체코 외교장관 통화…박진 \"전기차·수소 등 협력강화 희망\"...\n"
     ]
    },
    {
     "name": "stderr",
     "output_type": "stream",
     "text": [
      "📰 뉴스 본문 크롤링 진행:  98%|█████████▊| 113/115 [03:52<00:03,  1.77s/it]"
     ]
    },
    {
     "name": "stdout",
     "output_type": "stream",
     "text": [
      "✅ 크롤링 완료: 美, 한수원 단독 체코수출 제동…'웨스팅과 손잡아라' 우회 압박...\n"
     ]
    },
    {
     "name": "stderr",
     "output_type": "stream",
     "text": [
      "📰 뉴스 본문 크롤링 진행:  99%|█████████▉| 114/115 [03:53<00:01,  1.63s/it]"
     ]
    },
    {
     "name": "stdout",
     "output_type": "stream",
     "text": [
      "✅ 크롤링 완료: 논란의 원자력 발전은 왜 르네상스일까[딥다이브]...\n"
     ]
    },
    {
     "name": "stderr",
     "output_type": "stream",
     "text": [
      "📰 뉴스 본문 크롤링 진행: 100%|██████████| 115/115 [03:55<00:00,  2.05s/it]\n"
     ]
    },
    {
     "name": "stdout",
     "output_type": "stream",
     "text": [
      "🔍 검색 중: 두코바니 원전 (2023.07.01 ~ 2023.09.30)\n",
      "✅ 162개의 뉴스 기사 링크 및 날짜를 수집 완료! (2023.07.01 ~ 2023.09.30)\n"
     ]
    },
    {
     "name": "stderr",
     "output_type": "stream",
     "text": [
      "📰 뉴스 본문 크롤링 진행:   0%|          | 0/162 [00:00<?, ?it/s]"
     ]
    },
    {
     "name": "stdout",
     "output_type": "stream",
     "text": [
      "⚠ 본문을 가져오지 못해 Selenium으로 재시도: https://biz.chosun.com/policy/politics/2023/09/19/QCU4RTJWCJHEHKY3JCJ3LJL3ZE/?utm_source=naver&utm_medium=original&utm_campaign=biz\n",
      "✅ 크롤링 완료: 尹대통령, 체코 대통령과 정상회담...“두코바니 신규 원전에 韓 기업 ......\n"
     ]
    },
    {
     "name": "stderr",
     "output_type": "stream",
     "text": [
      "📰 뉴스 본문 크롤링 진행:   1%|          | 1/162 [00:07<18:48,  7.01s/it]"
     ]
    },
    {
     "name": "stdout",
     "output_type": "stream",
     "text": [
      "✅ 크롤링 완료: 한수원, 체코 기업들과 신규 원전 수출 협력 협의...\n"
     ]
    },
    {
     "name": "stderr",
     "output_type": "stream",
     "text": [
      "📰 뉴스 본문 크롤링 진행:   1%|          | 2/162 [00:08<09:37,  3.61s/it]"
     ]
    },
    {
     "name": "stdout",
     "output_type": "stream",
     "text": [
      "✅ 크롤링 완료: 웨스팅하우스와 소송전서 먼저 웃은 한수원…K-원전 수출 '청신호'...\n"
     ]
    },
    {
     "name": "stderr",
     "output_type": "stream",
     "text": [
      "📰 뉴스 본문 크롤링 진행:   2%|▏         | 3/162 [00:10<08:02,  3.04s/it]"
     ]
    },
    {
     "name": "stdout",
     "output_type": "stream",
     "text": [
      "⚠ 본문을 가져오지 못해 Selenium으로 재시도: https://www.mk.co.kr/article/10833375\n",
      "✅ 크롤링 완료: K원전 법적 리스크 해소 … 尹, 체코에 \"韓기업 참여\" 요청...\n"
     ]
    },
    {
     "name": "stderr",
     "output_type": "stream",
     "text": [
      "📰 뉴스 본문 크롤링 진행:   2%|▏         | 4/162 [00:15<09:35,  3.64s/it]"
     ]
    },
    {
     "name": "stdout",
     "output_type": "stream",
     "text": [
      "✅ 크롤링 완료: 尹, 뉴욕서 릴레이 정상회담…원전 등 각국 맞춤형 협력 논의...\n"
     ]
    },
    {
     "name": "stderr",
     "output_type": "stream",
     "text": [
      "📰 뉴스 본문 크롤링 진행:   3%|▎         | 5/162 [00:16<07:15,  2.78s/it]"
     ]
    },
    {
     "name": "stdout",
     "output_type": "stream",
     "text": [
      "✅ 크롤링 완료: 尹, 순방 첫날부터 9개국 연쇄 회담… 원전 등 경제협력 외연 확장...\n"
     ]
    },
    {
     "name": "stderr",
     "output_type": "stream",
     "text": [
      "📰 뉴스 본문 크롤링 진행:   4%|▎         | 6/162 [00:17<05:47,  2.23s/it]"
     ]
    },
    {
     "name": "stdout",
     "output_type": "stream",
     "text": [
      "⚠ 본문을 가져오지 못해 Selenium으로 재시도: https://www.theguru.co.kr/news/article.html?no=60147\n",
      "✅ 크롤링 완료: '체코 원전' 입찰 제안서 마감 2주 연장…내달 2일까지...\n"
     ]
    },
    {
     "name": "stderr",
     "output_type": "stream",
     "text": [
      "📰 뉴스 본문 크롤링 진행:   4%|▍         | 7/162 [00:21<07:36,  2.94s/it]"
     ]
    },
    {
     "name": "stdout",
     "output_type": "stream",
     "text": [
      "✅ 크롤링 완료: 尹, 체코와 원전‧고속철도 협력키로···부룬디와는 농업‧보건 구축...\n"
     ]
    },
    {
     "name": "stderr",
     "output_type": "stream",
     "text": [
      "📰 뉴스 본문 크롤링 진행:   5%|▍         | 8/162 [00:23<06:11,  2.41s/it]"
     ]
    },
    {
     "name": "stdout",
     "output_type": "stream",
     "text": [
      "✅ 크롤링 완료: 신한울 2호기 운영 허가...원전 생태계 복원 탄력...\n"
     ]
    },
    {
     "name": "stderr",
     "output_type": "stream",
     "text": [
      "📰 뉴스 본문 크롤링 진행:   6%|▌         | 9/162 [00:25<05:47,  2.27s/it]"
     ]
    },
    {
     "name": "stdout",
     "output_type": "stream",
     "text": [
      "⚠ 본문을 가져오지 못해 Selenium으로 재시도: http://www.breaknews.com/988278\n",
      "✅ 크롤링 완료: 윤석열 대통령, 체코 대통령 만나 '체코 신규 원전, 한국 기업 참여 요청......\n"
     ]
    },
    {
     "name": "stderr",
     "output_type": "stream",
     "text": [
      "📰 뉴스 본문 크롤링 진행:   6%|▌         | 10/162 [00:32<09:39,  3.81s/it]"
     ]
    },
    {
     "name": "stdout",
     "output_type": "stream",
     "text": [
      "✅ 크롤링 완료: 한덕수 총리, 11일 체코·폴란드 순방...'원전 외교' 총력전...\n"
     ]
    },
    {
     "name": "stderr",
     "output_type": "stream",
     "text": [
      "📰 뉴스 본문 크롤링 진행:   7%|▋         | 11/162 [00:33<07:39,  3.04s/it]"
     ]
    },
    {
     "name": "stdout",
     "output_type": "stream",
     "text": [
      "⚠ 본문을 가져오지 못해 Selenium으로 재시도: https://www.munhwa.com/news/view.html?no=2023090601070205017001\n",
      "✅ 크롤링 완료: ‘원전 정상화’ 신한울 2호기, 전력공급 4% 책임진다...\n"
     ]
    },
    {
     "name": "stderr",
     "output_type": "stream",
     "text": [
      "📰 뉴스 본문 크롤링 진행:   7%|▋         | 12/162 [00:37<08:27,  3.38s/it]"
     ]
    },
    {
     "name": "stdout",
     "output_type": "stream",
     "text": [
      "✅ 크롤링 완료: 산마리노 집정관까지 만난 尹… 7시간만에 9개 회담 초강행군(종합)...\n"
     ]
    },
    {
     "name": "stderr",
     "output_type": "stream",
     "text": [
      "📰 뉴스 본문 크롤링 진행:   8%|▊         | 13/162 [00:39<06:51,  2.76s/it]"
     ]
    },
    {
     "name": "stdout",
     "output_type": "stream",
     "text": [
      "⚠ 본문을 가져오지 못해 Selenium으로 재시도: https://www.theguru.co.kr/news/article.html?no=58717\n",
      "✅ 크롤링 완료: 한수원 \"체코 원전 잠재 파트너 200곳\"…사업비 인상 전망...\n"
     ]
    },
    {
     "name": "stderr",
     "output_type": "stream",
     "text": [
      "📰 뉴스 본문 크롤링 진행:   9%|▊         | 14/162 [00:43<08:00,  3.24s/it]"
     ]
    },
    {
     "name": "stdout",
     "output_type": "stream",
     "text": [
      "✅ 크롤링 완료: 경주시, 체코 트레비치시와 우호협정...한수원 원전 수출 ‘한몫’...\n"
     ]
    },
    {
     "name": "stderr",
     "output_type": "stream",
     "text": [
      "📰 뉴스 본문 크롤링 진행:   9%|▉         | 15/162 [00:45<06:37,  2.71s/it]"
     ]
    },
    {
     "name": "stdout",
     "output_type": "stream",
     "text": [
      "⚠ 본문을 가져오지 못해 Selenium으로 재시도: https://www.munhwa.com/news/view.html?no=2023082801031805017004\n",
      "✅ 크롤링 완료: 체코와 기술교류·폴란드 시장 공략… 동유럽 누비는 ‘K-원전’...\n"
     ]
    },
    {
     "name": "stderr",
     "output_type": "stream",
     "text": [
      "📰 뉴스 본문 크롤링 진행:  10%|▉         | 16/162 [00:49<08:10,  3.36s/it]"
     ]
    },
    {
     "name": "stdout",
     "output_type": "stream",
     "text": [
      "⚠ 본문을 가져오지 못해 Selenium으로 재시도: https://www.theguru.co.kr/news/article.html?no=59092\n",
      "✅ 크롤링 완료: [영상] 체코 싱크탱크 대변인 \"한수원 원전 계약 확률 UP\"...\n"
     ]
    },
    {
     "name": "stderr",
     "output_type": "stream",
     "text": [
      "📰 뉴스 본문 크롤링 진행:  10%|█         | 17/162 [00:54<08:57,  3.71s/it]"
     ]
    },
    {
     "name": "stdout",
     "output_type": "stream",
     "text": [
      "⚠ 본문을 가져오지 못해 Selenium으로 재시도: https://www.theguru.co.kr/news/article.html?no=59009\n",
      "✅ 크롤링 완료: 체코 싱크탱크 대변인 \"한수원, 원전 수주전 계약 가능성 높다\"...\n"
     ]
    },
    {
     "name": "stderr",
     "output_type": "stream",
     "text": [
      "📰 뉴스 본문 크롤링 진행:  11%|█         | 18/162 [00:58<09:10,  3.83s/it]"
     ]
    },
    {
     "name": "stdout",
     "output_type": "stream",
     "text": [
      "✅ 크롤링 완료: 경주시-체코 트레비치시 우호도시 협정, 'K-원전 수출 탄력'...\n"
     ]
    },
    {
     "name": "stderr",
     "output_type": "stream",
     "text": [
      "📰 뉴스 본문 크롤링 진행:  12%|█▏        | 19/162 [00:59<07:15,  3.05s/it]"
     ]
    },
    {
     "name": "stdout",
     "output_type": "stream",
     "text": [
      "✅ 크롤링 완료: K-원전 수출 지원 나선 경주시, 체코 트레비치와 우호도시 협정 체결...\n"
     ]
    },
    {
     "name": "stderr",
     "output_type": "stream",
     "text": [
      "📰 뉴스 본문 크롤링 진행:  12%|█▏        | 20/162 [01:01<05:55,  2.51s/it]"
     ]
    },
    {
     "name": "stdout",
     "output_type": "stream",
     "text": [
      "⚠ 본문을 가져오지 못해 Selenium으로 재시도: https://www.theguru.co.kr/news/article.html?no=57917\n",
      "✅ 크롤링 완료: 체코 원전 '적극 확대'...팀코리아 수주 가능성 높아지나...\n"
     ]
    },
    {
     "name": "stderr",
     "output_type": "stream",
     "text": [
      "📰 뉴스 본문 크롤링 진행:  13%|█▎        | 21/162 [01:05<06:58,  2.97s/it]"
     ]
    },
    {
     "name": "stdout",
     "output_type": "stream",
     "text": [
      "✅ 크롤링 완료: [이슈] 대우건설, 신한울 3·4호기 수주 적극 참여...해외 원전사업도 추......\n"
     ]
    },
    {
     "name": "stderr",
     "output_type": "stream",
     "text": [
      "📰 뉴스 본문 크롤링 진행:  14%|█▎        | 22/162 [01:06<05:38,  2.42s/it]"
     ]
    },
    {
     "name": "stdout",
     "output_type": "stream",
     "text": [
      "⚠ 본문을 가져오지 못해 Selenium으로 재시도: https://www.mk.co.kr/article/10807829\n",
      "✅ 크롤링 완료: 폴란드·체코·UAE서 잭팟 기대 … 정부 '원전 영업사원' 대거 파견...\n"
     ]
    },
    {
     "name": "stderr",
     "output_type": "stream",
     "text": [
      "📰 뉴스 본문 크롤링 진행:  14%|█▍        | 23/162 [01:11<07:20,  3.17s/it]"
     ]
    },
    {
     "name": "stdout",
     "output_type": "stream",
     "text": [
      "⚠ 본문을 가져오지 못해 Selenium으로 재시도: https://www.theguru.co.kr/news/article.html?no=56888\n",
      "✅ 크롤링 완료: 로사톰, 체코서 철수…원전 수주전 배제...\n"
     ]
    },
    {
     "name": "stderr",
     "output_type": "stream",
     "text": [
      "📰 뉴스 본문 크롤링 진행:  15%|█▍        | 24/162 [01:15<08:02,  3.49s/it]"
     ]
    },
    {
     "name": "stdout",
     "output_type": "stream",
     "text": [
      "⚠ 본문을 가져오지 못해 Selenium으로 재시도: https://www.mk.co.kr/article/10801923\n",
      "✅ 크롤링 완료: UAE서 또 K원전…10기 수출목표 '순항'...\n"
     ]
    },
    {
     "name": "stderr",
     "output_type": "stream",
     "text": [
      "📰 뉴스 본문 크롤링 진행:  15%|█▌        | 25/162 [01:26<13:18,  5.83s/it]"
     ]
    },
    {
     "name": "stdout",
     "output_type": "stream",
     "text": [
      "✅ 크롤링 완료: 부산엑스포 유치 막판 스퍼트…尹, 38개국 정상 만난다...\n"
     ]
    },
    {
     "name": "stderr",
     "output_type": "stream",
     "text": [
      "📰 뉴스 본문 크롤링 진행:  16%|█▌        | 26/162 [01:27<10:01,  4.42s/it]"
     ]
    },
    {
     "name": "stdout",
     "output_type": "stream",
     "text": [
      "⚠ 본문을 가져오지 못해 Selenium으로 재시도: https://www.mk.co.kr/article/10833376\n",
      "✅ 크롤링 완료: 美 법원 \"경쟁사는 소송자격 없다\" 각하...\n"
     ]
    },
    {
     "name": "stderr",
     "output_type": "stream",
     "text": [
      "📰 뉴스 본문 크롤링 진행:  17%|█▋        | 27/162 [01:36<12:30,  5.56s/it]"
     ]
    },
    {
     "name": "stdout",
     "output_type": "stream",
     "text": [
      "⚠ 본문을 가져오지 못해 Selenium으로 재시도: https://www.hankookilbo.com/News/Read/A2023091905130004474?did=NA\n",
      "✅ 크롤링 완료: 윤 대통령, 스리랑카 시작으로 ‘부산엑스포 유치' 양자회담 돌입...\n"
     ]
    },
    {
     "name": "stderr",
     "output_type": "stream",
     "text": [
      "📰 뉴스 본문 크롤링 진행:  17%|█▋        | 28/162 [01:42<13:19,  5.97s/it]"
     ]
    },
    {
     "name": "stdout",
     "output_type": "stream",
     "text": [
      "⚠ 본문을 가져오지 못해 Selenium으로 재시도: https://news.kbs.co.kr/news/view.do?ncd=7776847&ref=A\n",
      "✅ 크롤링 완료: 윤 대통령, 뉴욕 첫날 9개국 연쇄회담…부산엑스포 지지 요청...\n"
     ]
    },
    {
     "name": "stderr",
     "output_type": "stream",
     "text": [
      "📰 뉴스 본문 크롤링 진행:  18%|█▊        | 29/162 [01:47<12:31,  5.65s/it]"
     ]
    },
    {
     "name": "stdout",
     "output_type": "stream",
     "text": [
      "✅ 크롤링 완료: 한수원, 수출막는 미 업체에 승소…유럽수주 숨통...\n"
     ]
    },
    {
     "name": "stderr",
     "output_type": "stream",
     "text": [
      "📰 뉴스 본문 크롤링 진행:  19%|█▊        | 30/162 [01:49<09:31,  4.33s/it]"
     ]
    },
    {
     "name": "stdout",
     "output_type": "stream",
     "text": [
      "⚠ 본문을 가져오지 못해 Selenium으로 재시도: http://www.wowtv.co.kr/NewsCenter/News/Read?articleId=A202309220191&t=NN\n",
      "✅ 크롤링 완료: 양자회담 강행군…'엑스포·경제' 두마리 토끼 잡는다['통(統)'의 경제]...\n"
     ]
    },
    {
     "name": "stderr",
     "output_type": "stream",
     "text": [
      "📰 뉴스 본문 크롤링 진행:  19%|█▉        | 31/162 [02:08<19:37,  8.99s/it]"
     ]
    },
    {
     "name": "stdout",
     "output_type": "stream",
     "text": [
      "⚠ 본문을 가져오지 못해 Selenium으로 재시도: https://www.dailian.co.kr/news/view/1275197/?sc=Naver\n",
      "✅ 크롤링 완료: \"'회담 기계'로 생각하라\"…부산엑스포에 사활 尹, 방미 첫날 9개국과 정......\n"
     ]
    },
    {
     "name": "stderr",
     "output_type": "stream",
     "text": [
      "📰 뉴스 본문 크롤링 진행:  20%|█▉        | 32/162 [02:13<16:52,  7.79s/it]"
     ]
    },
    {
     "name": "stdout",
     "output_type": "stream",
     "text": [
      "✅ 크롤링 완료: 엑스포 총력전…윤 대통령, 인구 3만 산마리노 집정관도 만나...\n"
     ]
    },
    {
     "name": "stderr",
     "output_type": "stream",
     "text": [
      "📰 뉴스 본문 크롤링 진행:  20%|██        | 33/162 [02:15<12:31,  5.83s/it]"
     ]
    },
    {
     "name": "stdout",
     "output_type": "stream",
     "text": [
      "✅ 크롤링 완료: 윤대통령, 러북에 경고 던지고 부산엑스포 유치 앞장...\n"
     ]
    },
    {
     "name": "stderr",
     "output_type": "stream",
     "text": [
      "📰 뉴스 본문 크롤링 진행:  21%|██        | 34/162 [02:16<09:24,  4.41s/it]"
     ]
    },
    {
     "name": "stdout",
     "output_type": "stream",
     "text": [
      "⚠ 본문을 가져오지 못해 Selenium으로 재시도: https://www.asiatoday.co.kr/view.php?key=20230922010014062\n",
      "✅ 크롤링 완료: \"많이 만나길 잘했다\"…4박6일 41개국 회담 강행군에 엑스포 판세 기울......\n"
     ]
    },
    {
     "name": "stderr",
     "output_type": "stream",
     "text": [
      "📰 뉴스 본문 크롤링 진행:  22%|██▏       | 35/162 [02:23<11:16,  5.32s/it]"
     ]
    },
    {
     "name": "stdout",
     "output_type": "stream",
     "text": [
      "✅ 크롤링 완료: 수출시장 확대 총력 尹대통령…외교로 돌파구 마련...\n"
     ]
    },
    {
     "name": "stderr",
     "output_type": "stream",
     "text": [
      "📰 뉴스 본문 크롤링 진행:  22%|██▏       | 36/162 [02:24<08:34,  4.08s/it]"
     ]
    },
    {
     "name": "stdout",
     "output_type": "stream",
     "text": [
      "⚠ 본문을 가져오지 못해 Selenium으로 재시도: http://www.kookje.co.kr/news2011/asp/newsbody.asp?code=0200&key=20230829.99099009264\n",
      "✅ 크롤링 완료: [한수원 소식] 원전 수출기업과 'i-SMR 협력 체계' 강화...\n"
     ]
    },
    {
     "name": "stderr",
     "output_type": "stream",
     "text": [
      "📰 뉴스 본문 크롤링 진행:  23%|██▎       | 37/162 [02:28<08:28,  4.06s/it]"
     ]
    },
    {
     "name": "stdout",
     "output_type": "stream",
     "text": [
      "⚠ 본문을 가져오지 못해 Selenium으로 재시도: https://www.asiatoday.co.kr/view.php?key=20230922010014065\n",
      "✅ 크롤링 완료: 윤 대통령, 유엔 191개국 중 20% 넘는 41개국과 회담 완수...경제 협력 성......\n"
     ]
    },
    {
     "name": "stderr",
     "output_type": "stream",
     "text": [
      "📰 뉴스 본문 크롤링 진행:  23%|██▎       | 38/162 [02:33<08:51,  4.29s/it]"
     ]
    },
    {
     "name": "stdout",
     "output_type": "stream",
     "text": [
      "✅ 크롤링 완료: 원전 설비 넘어 한국형 원전 수출은 언제쯤?…수주전에 총력...\n"
     ]
    },
    {
     "name": "stderr",
     "output_type": "stream",
     "text": [
      "📰 뉴스 본문 크롤링 진행:  24%|██▍       | 39/162 [02:35<07:00,  3.42s/it]"
     ]
    },
    {
     "name": "stdout",
     "output_type": "stream",
     "text": [
      "✅ 크롤링 완료: '체코 원전 수주' 노리는 한수원, ‘체코문화 특별전’ 개최...\n"
     ]
    },
    {
     "name": "stderr",
     "output_type": "stream",
     "text": [
      "📰 뉴스 본문 크롤링 진행:  25%|██▍       | 40/162 [02:36<05:37,  2.77s/it]"
     ]
    },
    {
     "name": "stdout",
     "output_type": "stream",
     "text": [
      "⚠ 본문을 가져오지 못해 Selenium으로 재시도: http://www.g-enews.com/ko-kr/news/article/news_all/2023082415165497290e6e8fd97b_1/article.html\n",
      "✅ 크롤링 완료: 한수원, 체코 산학연과 연구 협력 ‘박차’…사고저항성핵연료 개발 등...\n"
     ]
    },
    {
     "name": "stderr",
     "output_type": "stream",
     "text": [
      "📰 뉴스 본문 크롤링 진행:  25%|██▌       | 41/162 [02:41<06:48,  3.37s/it]"
     ]
    },
    {
     "name": "stdout",
     "output_type": "stream",
     "text": [
      "⚠ 본문을 가져오지 못해 Selenium으로 재시도: http://www.ksmnews.co.kr/default/index_view_page.php?idx=443969&part_idx=238\n",
      "✅ 크롤링 완료: 울진 신한울 2호기가 경북경제 살린다...\n"
     ]
    },
    {
     "name": "stderr",
     "output_type": "stream",
     "text": [
      "📰 뉴스 본문 크롤링 진행:  26%|██▌       | 42/162 [02:45<07:27,  3.73s/it]"
     ]
    },
    {
     "name": "stdout",
     "output_type": "stream",
     "text": [
      "⚠ 본문을 가져오지 못해 Selenium으로 재시도: https://www.wowtv.co.kr/NewsCenter/News/Read?articleId=A202307170148&t=NNv\n",
      "✅ 크롤링 완료: '첫 한국형' 새울 3·4호기…수출 기대감 '들썩'...\n"
     ]
    },
    {
     "name": "stderr",
     "output_type": "stream",
     "text": [
      "📰 뉴스 본문 크롤링 진행:  27%|██▋       | 43/162 [03:03<15:49,  7.98s/it]"
     ]
    },
    {
     "name": "stdout",
     "output_type": "stream",
     "text": [
      "✅ 크롤링 완료: 한수원, '2023년도 체코 글로벌 봉사' 시행...\n"
     ]
    },
    {
     "name": "stderr",
     "output_type": "stream",
     "text": [
      "📰 뉴스 본문 크롤링 진행:  27%|██▋       | 44/162 [03:04<11:42,  5.96s/it]"
     ]
    },
    {
     "name": "stdout",
     "output_type": "stream",
     "text": [
      "✅ 크롤링 완료: 한수원, 2023년도 체코 글로벌 봉사 시행...\n"
     ]
    },
    {
     "name": "stderr",
     "output_type": "stream",
     "text": [
      "📰 뉴스 본문 크롤링 진행:  28%|██▊       | 45/162 [03:06<08:51,  4.55s/it]"
     ]
    },
    {
     "name": "stdout",
     "output_type": "stream",
     "text": [
      "⚠ 본문을 가져오지 못해 Selenium으로 재시도: https://www.asiatoday.co.kr/view.php?key=20230829010015693\n",
      "✅ 크롤링 완료: 한수원, 2023년도 체코 글로벌 봉사 시행...\n"
     ]
    },
    {
     "name": "stderr",
     "output_type": "stream",
     "text": [
      "📰 뉴스 본문 크롤링 진행:  28%|██▊       | 46/162 [03:11<09:11,  4.75s/it]"
     ]
    },
    {
     "name": "stdout",
     "output_type": "stream",
     "text": [
      "✅ 크롤링 완료: 한수원, 체코 글로벌 봉사...한국대학사회봉사협의회와 공동...\n"
     ]
    },
    {
     "name": "stderr",
     "output_type": "stream",
     "text": [
      "📰 뉴스 본문 크롤링 진행:  29%|██▉       | 47/162 [03:12<07:16,  3.80s/it]"
     ]
    },
    {
     "name": "stdout",
     "output_type": "stream",
     "text": [
      "⚠ 본문을 가져오지 못해 Selenium으로 재시도: https://www.businesspost.co.kr/BP?command=article_view&num=323757\n",
      "✅ 크롤링 완료: [Who Is ?] 황주호 한국수력원자력 사장...\n"
     ]
    },
    {
     "name": "stderr",
     "output_type": "stream",
     "text": [
      "📰 뉴스 본문 크롤링 진행:  30%|██▉       | 48/162 [03:17<07:35,  3.99s/it]"
     ]
    },
    {
     "name": "stdout",
     "output_type": "stream",
     "text": [
      "✅ 크롤링 완료: 한수원, '체코문화 특별전' 개막...\n"
     ]
    },
    {
     "name": "stderr",
     "output_type": "stream",
     "text": [
      "📰 뉴스 본문 크롤링 진행:  30%|███       | 49/162 [03:18<05:53,  3.13s/it]"
     ]
    },
    {
     "name": "stdout",
     "output_type": "stream",
     "text": [
      "⚠ 본문을 가져오지 못해 Selenium으로 재시도: http://www.naeil.com/news_view/?id_art=466843\n",
      "✅ 크롤링 완료: 한수원, 체코문화 특별전 개최...\n"
     ]
    },
    {
     "name": "stderr",
     "output_type": "stream",
     "text": [
      "📰 뉴스 본문 크롤링 진행:  31%|███       | 50/162 [03:24<07:19,  3.92s/it]"
     ]
    },
    {
     "name": "stdout",
     "output_type": "stream",
     "text": [
      "✅ 크롤링 완료: 한수원, 체코서 글로벌 봉사 진행...\n"
     ]
    },
    {
     "name": "stderr",
     "output_type": "stream",
     "text": [
      "📰 뉴스 본문 크롤링 진행:  31%|███▏      | 51/162 [03:25<05:46,  3.12s/it]"
     ]
    },
    {
     "name": "stdout",
     "output_type": "stream",
     "text": [
      "✅ 크롤링 완료: 한국수력원자력, 2023년도 체코 글로벌 봉사 시행...\n"
     ]
    },
    {
     "name": "stderr",
     "output_type": "stream",
     "text": [
      "📰 뉴스 본문 크롤링 진행:  32%|███▏      | 52/162 [03:26<04:36,  2.52s/it]"
     ]
    },
    {
     "name": "stdout",
     "output_type": "stream",
     "text": [
      "⚠ 본문을 가져오지 못해 Selenium으로 재시도: http://www.fnnews.com/news/202308291537206084\n",
      "✅ 크롤링 완료: 한수원, 2023년도 체코 글로벌 봉사 시행...\n"
     ]
    },
    {
     "name": "stderr",
     "output_type": "stream",
     "text": [
      "📰 뉴스 본문 크롤링 진행:  33%|███▎      | 53/162 [03:33<06:56,  3.82s/it]"
     ]
    },
    {
     "name": "stdout",
     "output_type": "stream",
     "text": [
      "✅ 크롤링 완료: 한국수력원자력, 체코 문화교류 및 환경정화 활동...\n"
     ]
    },
    {
     "name": "stderr",
     "output_type": "stream",
     "text": [
      "📰 뉴스 본문 크롤링 진행:  33%|███▎      | 54/162 [03:34<05:31,  3.07s/it]"
     ]
    },
    {
     "name": "stdout",
     "output_type": "stream",
     "text": [
      "✅ 크롤링 완료: 한수원, 2023년도 체코 글로벌 봉사 시행...\n"
     ]
    },
    {
     "name": "stderr",
     "output_type": "stream",
     "text": [
      "📰 뉴스 본문 크롤링 진행:  34%|███▍      | 55/162 [03:36<04:29,  2.52s/it]"
     ]
    },
    {
     "name": "stdout",
     "output_type": "stream",
     "text": [
      "⚠ 본문을 가져오지 못해 Selenium으로 재시도: https://www.asiatoday.co.kr/view.php?key=20230829010015693\n",
      "✅ 크롤링 완료: 한수원, 2023년도 체코 글로벌 봉사 시행...\n"
     ]
    },
    {
     "name": "stderr",
     "output_type": "stream",
     "text": [
      "📰 뉴스 본문 크롤링 진행:  35%|███▍      | 56/162 [03:43<07:15,  4.11s/it]"
     ]
    },
    {
     "name": "stdout",
     "output_type": "stream",
     "text": [
      "✅ 크롤링 완료: 한수원, 체코 글로벌 봉사...한국대학사회봉사협의회와 공동...\n"
     ]
    },
    {
     "name": "stderr",
     "output_type": "stream",
     "text": [
      "📰 뉴스 본문 크롤링 진행:  35%|███▌      | 57/162 [03:44<05:36,  3.20s/it]"
     ]
    },
    {
     "name": "stdout",
     "output_type": "stream",
     "text": [
      "⚠ 본문을 가져오지 못해 Selenium으로 재시도: https://www.businesspost.co.kr/BP?command=article_view&num=323757\n",
      "✅ 크롤링 완료: [Who Is ?] 황주호 한국수력원자력 사장...\n"
     ]
    },
    {
     "name": "stderr",
     "output_type": "stream",
     "text": [
      "📰 뉴스 본문 크롤링 진행:  36%|███▌      | 58/162 [03:48<05:42,  3.30s/it]"
     ]
    },
    {
     "name": "stdout",
     "output_type": "stream",
     "text": [
      "✅ 크롤링 완료: 한수원, '체코문화 특별전' 개막...\n"
     ]
    },
    {
     "name": "stderr",
     "output_type": "stream",
     "text": [
      "📰 뉴스 본문 크롤링 진행:  36%|███▋      | 59/162 [03:53<06:21,  3.70s/it]"
     ]
    },
    {
     "name": "stdout",
     "output_type": "stream",
     "text": [
      "⚠ 본문을 가져오지 못해 Selenium으로 재시도: http://www.naeil.com/news_view/?id_art=466843\n",
      "✅ 크롤링 완료: 한수원, 체코문화 특별전 개최...\n"
     ]
    },
    {
     "name": "stderr",
     "output_type": "stream",
     "text": [
      "📰 뉴스 본문 크롤링 진행:  37%|███▋      | 60/162 [03:57<06:48,  4.01s/it]"
     ]
    },
    {
     "name": "stdout",
     "output_type": "stream",
     "text": [
      "✅ 크롤링 완료: 한국수력원자력, 체코 문화교류 및 환경정화 활동...\n"
     ]
    },
    {
     "name": "stderr",
     "output_type": "stream",
     "text": [
      "📰 뉴스 본문 크롤링 진행:  38%|███▊      | 62/162 [03:59<03:48,  2.29s/it]"
     ]
    },
    {
     "name": "stdout",
     "output_type": "stream",
     "text": [
      "⚠ 오류 발생 (뉴스 크롤링 실패): http://www.sentv.co.kr/news/view/666666, 오류: HTTPSConnectionPool(host='www.sentv.co.kr', port=443): Max retries exceeded with url: /news/view/666666 (Caused by SSLError(SSLCertVerificationError(1, '[SSL: CERTIFICATE_VERIFY_FAILED] certificate verify failed: unable to get local issuer certificate (_ssl.c:1000)')))\n",
      "✅ 크롤링 완료: 한국수력원자력, 2023년도 체코 글로벌 봉사 시행...\n"
     ]
    },
    {
     "name": "stderr",
     "output_type": "stream",
     "text": [
      "📰 뉴스 본문 크롤링 진행:  39%|███▉      | 63/162 [04:00<03:10,  1.93s/it]"
     ]
    },
    {
     "name": "stdout",
     "output_type": "stream",
     "text": [
      "✅ 크롤링 완료: 한수원, 체코서 글로벌 봉사 진행...\n"
     ]
    },
    {
     "name": "stderr",
     "output_type": "stream",
     "text": [
      "📰 뉴스 본문 크롤링 진행:  40%|███▉      | 64/162 [04:01<02:45,  1.68s/it]"
     ]
    },
    {
     "name": "stdout",
     "output_type": "stream",
     "text": [
      "✅ 크롤링 완료: 한수원, 2023년도 체코 글로벌 봉사 시행...\n"
     ]
    },
    {
     "name": "stderr",
     "output_type": "stream",
     "text": [
      "📰 뉴스 본문 크롤링 진행:  40%|████      | 65/162 [04:02<02:27,  1.52s/it]"
     ]
    },
    {
     "name": "stdout",
     "output_type": "stream",
     "text": [
      "⚠ 본문을 가져오지 못해 Selenium으로 재시도: https://www.asiatoday.co.kr/view.php?key=20230829010015693\n",
      "✅ 크롤링 완료: 한수원, 2023년도 체코 글로벌 봉사 시행...\n"
     ]
    },
    {
     "name": "stderr",
     "output_type": "stream",
     "text": [
      "📰 뉴스 본문 크롤링 진행:  41%|████      | 66/162 [04:12<06:11,  3.87s/it]"
     ]
    },
    {
     "name": "stdout",
     "output_type": "stream",
     "text": [
      "✅ 크롤링 완료: 한수원, 체코 글로벌 봉사...한국대학사회봉사협의회와 공동...\n"
     ]
    },
    {
     "name": "stderr",
     "output_type": "stream",
     "text": [
      "📰 뉴스 본문 크롤링 진행:  41%|████▏     | 67/162 [04:13<04:49,  3.05s/it]"
     ]
    },
    {
     "name": "stdout",
     "output_type": "stream",
     "text": [
      "⚠ 본문을 가져오지 못해 Selenium으로 재시도: https://www.businesspost.co.kr/BP?command=article_view&num=323757\n",
      "✅ 크롤링 완료: [Who Is ?] 황주호 한국수력원자력 사장...\n"
     ]
    },
    {
     "name": "stderr",
     "output_type": "stream",
     "text": [
      "📰 뉴스 본문 크롤링 진행:  42%|████▏     | 68/162 [04:16<05:08,  3.28s/it]"
     ]
    },
    {
     "name": "stdout",
     "output_type": "stream",
     "text": [
      "✅ 크롤링 완료: 한수원, '체코문화 특별전' 개막...\n"
     ]
    },
    {
     "name": "stderr",
     "output_type": "stream",
     "text": [
      "📰 뉴스 본문 크롤링 진행:  43%|████▎     | 69/162 [04:20<05:24,  3.49s/it]"
     ]
    },
    {
     "name": "stdout",
     "output_type": "stream",
     "text": [
      "⚠ 본문을 가져오지 못해 Selenium으로 재시도: http://www.naeil.com/news_view/?id_art=466843\n",
      "✅ 크롤링 완료: 한수원, 체코문화 특별전 개최...\n"
     ]
    },
    {
     "name": "stderr",
     "output_type": "stream",
     "text": [
      "📰 뉴스 본문 크롤링 진행:  43%|████▎     | 70/162 [04:25<05:49,  3.80s/it]"
     ]
    },
    {
     "name": "stdout",
     "output_type": "stream",
     "text": [
      "✅ 크롤링 완료: 한수원, 체코서 글로벌 봉사 진행...\n"
     ]
    },
    {
     "name": "stderr",
     "output_type": "stream",
     "text": [
      "📰 뉴스 본문 크롤링 진행:  44%|████▍     | 71/162 [04:26<04:33,  3.00s/it]"
     ]
    },
    {
     "name": "stdout",
     "output_type": "stream",
     "text": [
      "⚠ 본문을 가져오지 못해 Selenium으로 재시도: http://www.fnnews.com/news/202308291537206084\n",
      "✅ 크롤링 완료: 한수원, 2023년도 체코 글로벌 봉사 시행...\n"
     ]
    },
    {
     "name": "stderr",
     "output_type": "stream",
     "text": [
      "📰 뉴스 본문 크롤링 진행:  45%|████▌     | 73/162 [04:32<04:08,  2.79s/it]"
     ]
    },
    {
     "name": "stdout",
     "output_type": "stream",
     "text": [
      "⚠ 오류 발생 (뉴스 크롤링 실패): http://www.sentv.co.kr/news/view/666666, 오류: HTTPSConnectionPool(host='www.sentv.co.kr', port=443): Max retries exceeded with url: /news/view/666666 (Caused by SSLError(SSLCertVerificationError(1, '[SSL: CERTIFICATE_VERIFY_FAILED] certificate verify failed: unable to get local issuer certificate (_ssl.c:1000)')))\n",
      "✅ 크롤링 완료: 한국수력원자력, 체코 문화교류 및 환경정화 활동...\n"
     ]
    },
    {
     "name": "stderr",
     "output_type": "stream",
     "text": [
      "📰 뉴스 본문 크롤링 진행:  46%|████▌     | 74/162 [04:34<03:22,  2.31s/it]"
     ]
    },
    {
     "name": "stdout",
     "output_type": "stream",
     "text": [
      "✅ 크롤링 완료: 한수원, 2023년도 체코 글로벌 봉사 시행...\n"
     ]
    },
    {
     "name": "stderr",
     "output_type": "stream",
     "text": [
      "📰 뉴스 본문 크롤링 진행:  46%|████▋     | 75/162 [04:35<02:50,  1.96s/it]"
     ]
    },
    {
     "name": "stdout",
     "output_type": "stream",
     "text": [
      "⚠ 본문을 가져오지 못해 Selenium으로 재시도: https://www.asiatoday.co.kr/view.php?key=20230829010015693\n",
      "✅ 크롤링 완료: 한수원, 2023년도 체코 글로벌 봉사 시행...\n"
     ]
    },
    {
     "name": "stderr",
     "output_type": "stream",
     "text": [
      "📰 뉴스 본문 크롤링 진행:  47%|████▋     | 76/162 [04:40<04:09,  2.90s/it]"
     ]
    },
    {
     "name": "stdout",
     "output_type": "stream",
     "text": [
      "✅ 크롤링 완료: 한수원, 체코 글로벌 봉사...한국대학사회봉사협의회와 공동...\n"
     ]
    },
    {
     "name": "stderr",
     "output_type": "stream",
     "text": [
      "📰 뉴스 본문 크롤링 진행:  48%|████▊     | 77/162 [04:41<03:26,  2.43s/it]"
     ]
    },
    {
     "name": "stdout",
     "output_type": "stream",
     "text": [
      "⚠ 본문을 가져오지 못해 Selenium으로 재시도: https://www.businesspost.co.kr/BP?command=article_view&num=323757\n",
      "✅ 크롤링 완료: [Who Is ?] 황주호 한국수력원자력 사장...\n"
     ]
    },
    {
     "name": "stderr",
     "output_type": "stream",
     "text": [
      "📰 뉴스 본문 크롤링 진행:  48%|████▊     | 78/162 [04:45<03:51,  2.76s/it]"
     ]
    },
    {
     "name": "stdout",
     "output_type": "stream",
     "text": [
      "✅ 크롤링 완료: 한수원, '체코문화 특별전' 개막...\n"
     ]
    },
    {
     "name": "stderr",
     "output_type": "stream",
     "text": [
      "📰 뉴스 본문 크롤링 진행:  49%|████▉     | 79/162 [04:49<04:25,  3.20s/it]"
     ]
    },
    {
     "name": "stdout",
     "output_type": "stream",
     "text": [
      "⚠ 본문을 가져오지 못해 Selenium으로 재시도: http://www.naeil.com/news_view/?id_art=466843\n",
      "✅ 크롤링 완료: 한수원, 체코문화 특별전 개최...\n"
     ]
    },
    {
     "name": "stderr",
     "output_type": "stream",
     "text": [
      "📰 뉴스 본문 크롤링 진행:  49%|████▉     | 80/162 [04:53<04:53,  3.58s/it]"
     ]
    },
    {
     "name": "stdout",
     "output_type": "stream",
     "text": [
      "✅ 크롤링 완료: 한국수력원자력, 체코 문화교류 및 환경정화 활동...\n"
     ]
    },
    {
     "name": "stderr",
     "output_type": "stream",
     "text": [
      "📰 뉴스 본문 크롤링 진행:  50%|█████     | 81/162 [04:55<03:51,  2.86s/it]"
     ]
    },
    {
     "name": "stdout",
     "output_type": "stream",
     "text": [
      "✅ 크롤링 완료: 한국수력원자력, 2023년도 체코 글로벌 봉사 시행...\n"
     ]
    },
    {
     "name": "stderr",
     "output_type": "stream",
     "text": [
      "📰 뉴스 본문 크롤링 진행:  51%|█████     | 82/162 [04:56<03:09,  2.37s/it]"
     ]
    },
    {
     "name": "stdout",
     "output_type": "stream",
     "text": [
      "✅ 크롤링 완료: 한수원, 체코서 글로벌 봉사 진행...\n"
     ]
    },
    {
     "name": "stderr",
     "output_type": "stream",
     "text": [
      "📰 뉴스 본문 크롤링 진행:  51%|█████     | 83/162 [04:57<02:40,  2.03s/it]"
     ]
    },
    {
     "name": "stdout",
     "output_type": "stream",
     "text": [
      "⚠ 본문을 가져오지 못해 Selenium으로 재시도: http://www.fnnews.com/news/202308291537206084\n",
      "✅ 크롤링 완료: 한수원, 2023년도 체코 글로벌 봉사 시행...\n"
     ]
    },
    {
     "name": "stderr",
     "output_type": "stream",
     "text": [
      "📰 뉴스 본문 크롤링 진행:  52%|█████▏    | 84/162 [05:02<03:57,  3.05s/it]"
     ]
    },
    {
     "name": "stdout",
     "output_type": "stream",
     "text": [
      "✅ 크롤링 완료: 한수원, 2023년도 체코 글로벌 봉사 시행...\n"
     ]
    },
    {
     "name": "stderr",
     "output_type": "stream",
     "text": [
      "📰 뉴스 본문 크롤링 진행:  52%|█████▏    | 85/162 [05:04<03:10,  2.48s/it]"
     ]
    },
    {
     "name": "stdout",
     "output_type": "stream",
     "text": [
      "⚠ 본문을 가져오지 못해 Selenium으로 재시도: https://www.asiatoday.co.kr/view.php?key=20230829010015693\n",
      "✅ 크롤링 완료: 한수원, 2023년도 체코 글로벌 봉사 시행...\n"
     ]
    },
    {
     "name": "stderr",
     "output_type": "stream",
     "text": [
      "📰 뉴스 본문 크롤링 진행:  53%|█████▎    | 86/162 [05:12<05:35,  4.41s/it]"
     ]
    },
    {
     "name": "stdout",
     "output_type": "stream",
     "text": [
      "✅ 크롤링 완료: 한수원, 체코 글로벌 봉사...한국대학사회봉사협의회와 공동...\n"
     ]
    },
    {
     "name": "stderr",
     "output_type": "stream",
     "text": [
      "📰 뉴스 본문 크롤링 진행:  54%|█████▎    | 87/162 [05:14<04:16,  3.42s/it]"
     ]
    },
    {
     "name": "stdout",
     "output_type": "stream",
     "text": [
      "⚠ 본문을 가져오지 못해 Selenium으로 재시도: https://www.businesspost.co.kr/BP?command=article_view&num=323757\n",
      "✅ 크롤링 완료: [Who Is ?] 황주호 한국수력원자력 사장...\n"
     ]
    },
    {
     "name": "stderr",
     "output_type": "stream",
     "text": [
      "📰 뉴스 본문 크롤링 진행:  54%|█████▍    | 88/162 [05:17<04:22,  3.55s/it]"
     ]
    },
    {
     "name": "stdout",
     "output_type": "stream",
     "text": [
      "✅ 크롤링 완료: 한수원, '체코문화 특별전' 개막...\n"
     ]
    },
    {
     "name": "stderr",
     "output_type": "stream",
     "text": [
      "📰 뉴스 본문 크롤링 진행:  55%|█████▍    | 89/162 [05:21<04:22,  3.60s/it]"
     ]
    },
    {
     "name": "stdout",
     "output_type": "stream",
     "text": [
      "⚠ 본문을 가져오지 못해 Selenium으로 재시도: http://www.naeil.com/news_view/?id_art=466843\n",
      "✅ 크롤링 완료: 한수원, 체코문화 특별전 개최...\n"
     ]
    },
    {
     "name": "stderr",
     "output_type": "stream",
     "text": [
      "📰 뉴스 본문 크롤링 진행:  56%|█████▌    | 91/162 [05:26<03:22,  2.86s/it]"
     ]
    },
    {
     "name": "stdout",
     "output_type": "stream",
     "text": [
      "⚠ 오류 발생 (뉴스 크롤링 실패): http://www.sentv.co.kr/news/view/666666, 오류: HTTPSConnectionPool(host='www.sentv.co.kr', port=443): Max retries exceeded with url: /news/view/666666 (Caused by SSLError(SSLCertVerificationError(1, '[SSL: CERTIFICATE_VERIFY_FAILED] certificate verify failed: unable to get local issuer certificate (_ssl.c:1000)')))\n",
      "⚠ 본문을 가져오지 못해 Selenium으로 재시도: http://www.fnnews.com/news/202308291537206084\n",
      "✅ 크롤링 완료: 한수원, 2023년도 체코 글로벌 봉사 시행...\n"
     ]
    },
    {
     "name": "stderr",
     "output_type": "stream",
     "text": [
      "📰 뉴스 본문 크롤링 진행:  57%|█████▋    | 92/162 [05:32<04:18,  3.69s/it]"
     ]
    },
    {
     "name": "stdout",
     "output_type": "stream",
     "text": [
      "✅ 크롤링 완료: 한국수력원자력, 2023년도 체코 글로벌 봉사 시행...\n"
     ]
    },
    {
     "name": "stderr",
     "output_type": "stream",
     "text": [
      "📰 뉴스 본문 크롤링 진행:  57%|█████▋    | 93/162 [05:33<03:20,  2.91s/it]"
     ]
    },
    {
     "name": "stdout",
     "output_type": "stream",
     "text": [
      "✅ 크롤링 완료: 한수원, 체코서 글로벌 봉사 진행...\n"
     ]
    },
    {
     "name": "stderr",
     "output_type": "stream",
     "text": [
      "📰 뉴스 본문 크롤링 진행:  58%|█████▊    | 94/162 [05:34<02:42,  2.39s/it]"
     ]
    },
    {
     "name": "stdout",
     "output_type": "stream",
     "text": [
      "✅ 크롤링 완료: 한수원, 2023년도 체코 글로벌 봉사 시행...\n"
     ]
    },
    {
     "name": "stderr",
     "output_type": "stream",
     "text": [
      "📰 뉴스 본문 크롤링 진행:  59%|█████▊    | 95/162 [05:35<02:15,  2.02s/it]"
     ]
    },
    {
     "name": "stdout",
     "output_type": "stream",
     "text": [
      "⚠ 본문을 가져오지 못해 Selenium으로 재시도: https://www.asiatoday.co.kr/view.php?key=20230829010015693\n",
      "✅ 크롤링 완료: 한수원, 2023년도 체코 글로벌 봉사 시행...\n"
     ]
    },
    {
     "name": "stderr",
     "output_type": "stream",
     "text": [
      "📰 뉴스 본문 크롤링 진행:  59%|█████▉    | 96/162 [05:45<04:52,  4.43s/it]"
     ]
    },
    {
     "name": "stdout",
     "output_type": "stream",
     "text": [
      "✅ 크롤링 완료: 한수원, 체코 글로벌 봉사...한국대학사회봉사협의회와 공동...\n"
     ]
    },
    {
     "name": "stderr",
     "output_type": "stream",
     "text": [
      "📰 뉴스 본문 크롤링 진행:  60%|█████▉    | 97/162 [05:46<03:43,  3.43s/it]"
     ]
    },
    {
     "name": "stdout",
     "output_type": "stream",
     "text": [
      "⚠ 본문을 가져오지 못해 Selenium으로 재시도: https://www.businesspost.co.kr/BP?command=article_view&num=323757\n",
      "✅ 크롤링 완료: [Who Is ?] 황주호 한국수력원자력 사장...\n"
     ]
    },
    {
     "name": "stderr",
     "output_type": "stream",
     "text": [
      "📰 뉴스 본문 크롤링 진행:  60%|██████    | 98/162 [05:50<03:43,  3.50s/it]"
     ]
    },
    {
     "name": "stdout",
     "output_type": "stream",
     "text": [
      "✅ 크롤링 완료: 한수원, '체코문화 특별전' 개막...\n"
     ]
    },
    {
     "name": "stderr",
     "output_type": "stream",
     "text": [
      "📰 뉴스 본문 크롤링 진행:  61%|██████    | 99/162 [05:53<03:35,  3.42s/it]"
     ]
    },
    {
     "name": "stdout",
     "output_type": "stream",
     "text": [
      "⚠ 본문을 가져오지 못해 Selenium으로 재시도: http://www.naeil.com/news_view/?id_art=466843\n",
      "✅ 크롤링 완료: 한수원, 체코문화 특별전 개최...\n"
     ]
    },
    {
     "name": "stderr",
     "output_type": "stream",
     "text": [
      "📰 뉴스 본문 크롤링 진행:  62%|██████▏   | 100/162 [05:58<03:55,  3.80s/it]"
     ]
    },
    {
     "name": "stdout",
     "output_type": "stream",
     "text": [
      "⚠ 본문을 가져오지 못해 Selenium으로 재시도: https://www.kpinews.kr/newsView/1065574460327825\n",
      "✅ 크롤링 완료: 尹, 방미 첫날 9개국과 정상회담…'엑스포·경제' 총력전...\n"
     ]
    },
    {
     "name": "stderr",
     "output_type": "stream",
     "text": [
      "📰 뉴스 본문 크롤링 진행:  62%|██████▏   | 101/162 [06:03<04:22,  4.30s/it]"
     ]
    },
    {
     "name": "stdout",
     "output_type": "stream",
     "text": [
      "⚠ 본문을 가져오지 못해 Selenium으로 재시도: https://news.kmib.co.kr/article/view.asp?arcid=0018682980&code=61111211&cp=nv\n",
      "✅ 크롤링 완료: 尹, 뉴욕 도착 직후 6개국 정상 만나 “부산 엑스포 총력전”...\n"
     ]
    },
    {
     "name": "stderr",
     "output_type": "stream",
     "text": [
      "📰 뉴스 본문 크롤링 진행:  63%|██████▎   | 102/162 [06:08<04:24,  4.41s/it]"
     ]
    },
    {
     "name": "stdout",
     "output_type": "stream",
     "text": [
      "✅ 크롤링 완료: 윤대통령, 러북에 경고 던지고 부산엑스포 유치 앞장...\n"
     ]
    },
    {
     "name": "stderr",
     "output_type": "stream",
     "text": [
      "📰 뉴스 본문 크롤링 진행:  64%|██████▎   | 103/162 [06:10<03:28,  3.54s/it]"
     ]
    },
    {
     "name": "stdout",
     "output_type": "stream",
     "text": [
      "✅ 크롤링 완료: 윤 대통령, 체코 페트르 파벨 대통령과 정상회담...\n"
     ]
    },
    {
     "name": "stderr",
     "output_type": "stream",
     "text": [
      "📰 뉴스 본문 크롤링 진행:  64%|██████▍   | 104/162 [06:11<02:45,  2.84s/it]"
     ]
    },
    {
     "name": "stdout",
     "output_type": "stream",
     "text": [
      "✅ 크롤링 완료: 윤석열 대통령, 9개국 정상 만나 '엑스포 총력전'...\n"
     ]
    },
    {
     "name": "stderr",
     "output_type": "stream",
     "text": [
      "📰 뉴스 본문 크롤링 진행:  65%|██████▍   | 105/162 [06:12<02:14,  2.37s/it]"
     ]
    },
    {
     "name": "stdout",
     "output_type": "stream",
     "text": [
      "⚠ 본문을 가져오지 못해 Selenium으로 재시도: https://www.asiatoday.co.kr/view.php?key=20230922010014062\n",
      "✅ 크롤링 완료: \"많이 만나길 잘했다\"…4박6일 41개국 회담 강행군에 엑스포 판세 기울......\n"
     ]
    },
    {
     "name": "stderr",
     "output_type": "stream",
     "text": [
      "📰 뉴스 본문 크롤링 진행:  65%|██████▌   | 106/162 [06:19<03:22,  3.62s/it]"
     ]
    },
    {
     "name": "stdout",
     "output_type": "stream",
     "text": [
      "⚠ 본문을 가져오지 못해 Selenium으로 재시도: http://www.kookje.co.kr/news2011/asp/newsbody.asp?code=0100&key=20230920.22003006078\n",
      "✅ 크롤링 완료: 인구 3만 소국도 만났다…尹, 9개국 ‘엑스포 회담’ 강행군(종합)...\n"
     ]
    },
    {
     "name": "stderr",
     "output_type": "stream",
     "text": [
      "📰 뉴스 본문 크롤링 진행:  66%|██████▌   | 107/162 [06:23<03:24,  3.72s/it]"
     ]
    },
    {
     "name": "stdout",
     "output_type": "stream",
     "text": [
      "✅ 크롤링 완료: 수출시장 확대 총력 尹대통령…외교로 돌파구 마련...\n"
     ]
    },
    {
     "name": "stderr",
     "output_type": "stream",
     "text": [
      "📰 뉴스 본문 크롤링 진행:  67%|██████▋   | 108/162 [06:24<02:41,  3.00s/it]"
     ]
    },
    {
     "name": "stdout",
     "output_type": "stream",
     "text": [
      "⚠ 본문을 가져오지 못해 Selenium으로 재시도: http://www.kookje.co.kr/news2011/asp/newsbody.asp?code=0200&key=20230829.99099009264\n",
      "✅ 크롤링 완료: [한수원 소식] 원전 수출기업과 'i-SMR 협력 체계' 강화...\n"
     ]
    },
    {
     "name": "stderr",
     "output_type": "stream",
     "text": [
      "📰 뉴스 본문 크롤링 진행:  67%|██████▋   | 109/162 [06:28<02:50,  3.21s/it]"
     ]
    },
    {
     "name": "stdout",
     "output_type": "stream",
     "text": [
      "⚠ 본문을 가져오지 못해 Selenium으로 재시도: https://www.asiatoday.co.kr/view.php?key=20230922010014065\n",
      "✅ 크롤링 완료: 윤 대통령, 유엔 191개국 중 20% 넘는 41개국과 회담 완수...경제 협력 성......\n"
     ]
    },
    {
     "name": "stderr",
     "output_type": "stream",
     "text": [
      "📰 뉴스 본문 크롤링 진행:  68%|██████▊   | 110/162 [06:37<04:30,  5.20s/it]"
     ]
    },
    {
     "name": "stdout",
     "output_type": "stream",
     "text": [
      "⚠ 본문을 가져오지 못해 Selenium으로 재시도: https://www.businesspost.co.kr/BP?command=article_view&num=327733\n",
      "✅ 크롤링 완료: 윤석열 뉴욕 도착 첫날 9연속 양자회담 소화, 부산엑스포 유치 총력...\n"
     ]
    },
    {
     "name": "stderr",
     "output_type": "stream",
     "text": [
      "📰 뉴스 본문 크롤링 진행:  69%|██████▊   | 111/162 [06:42<04:16,  5.02s/it]"
     ]
    },
    {
     "name": "stdout",
     "output_type": "stream",
     "text": [
      "✅ 크롤링 완료: 尹, 방미 첫날 9개국 정상과 연쇄 회담…\"엑스포 유치 총력\"...\n"
     ]
    },
    {
     "name": "stderr",
     "output_type": "stream",
     "text": [
      "📰 뉴스 본문 크롤링 진행:  69%|██████▉   | 112/162 [06:43<03:15,  3.91s/it]"
     ]
    },
    {
     "name": "stdout",
     "output_type": "stream",
     "text": [
      "✅ 크롤링 완료: 윤석열 대통령, 9개국 정상 만나 '엑스포 총력전'...\n"
     ]
    },
    {
     "name": "stderr",
     "output_type": "stream",
     "text": [
      "📰 뉴스 본문 크롤링 진행:  70%|██████▉   | 113/162 [06:44<02:30,  3.07s/it]"
     ]
    },
    {
     "name": "stdout",
     "output_type": "stream",
     "text": [
      "⚠ 본문을 가져오지 못해 Selenium으로 재시도: https://www.asiatoday.co.kr/view.php?key=20230922010014062\n",
      "✅ 크롤링 완료: \"많이 만나길 잘했다\"…4박6일 41개국 회담 강행군에 엑스포 판세 기울......\n"
     ]
    },
    {
     "name": "stderr",
     "output_type": "stream",
     "text": [
      "📰 뉴스 본문 크롤링 진행:  70%|███████   | 114/162 [06:52<03:30,  4.38s/it]"
     ]
    },
    {
     "name": "stdout",
     "output_type": "stream",
     "text": [
      "⚠ 본문을 가져오지 못해 Selenium으로 재시도: http://www.kookje.co.kr/news2011/asp/newsbody.asp?code=0100&key=20230920.22003006078\n",
      "✅ 크롤링 완료: 인구 3만 소국도 만났다…尹, 9개국 ‘엑스포 회담’ 강행군(종합)...\n"
     ]
    },
    {
     "name": "stderr",
     "output_type": "stream",
     "text": [
      "📰 뉴스 본문 크롤링 진행:  71%|███████   | 115/162 [06:55<03:14,  4.13s/it]"
     ]
    },
    {
     "name": "stdout",
     "output_type": "stream",
     "text": [
      "✅ 크롤링 완료: 수출시장 확대 총력 尹대통령…외교로 돌파구 마련...\n"
     ]
    },
    {
     "name": "stderr",
     "output_type": "stream",
     "text": [
      "📰 뉴스 본문 크롤링 진행:  72%|███████▏  | 116/162 [06:57<02:28,  3.23s/it]"
     ]
    },
    {
     "name": "stdout",
     "output_type": "stream",
     "text": [
      "⚠ 본문을 가져오지 못해 Selenium으로 재시도: http://www.kookje.co.kr/news2011/asp/newsbody.asp?code=0200&key=20230829.99099009264\n",
      "✅ 크롤링 완료: [한수원 소식] 원전 수출기업과 'i-SMR 협력 체계' 강화...\n"
     ]
    },
    {
     "name": "stderr",
     "output_type": "stream",
     "text": [
      "📰 뉴스 본문 크롤링 진행:  72%|███████▏  | 117/162 [07:00<02:31,  3.37s/it]"
     ]
    },
    {
     "name": "stdout",
     "output_type": "stream",
     "text": [
      "⚠ 본문을 가져오지 못해 Selenium으로 재시도: https://www.asiatoday.co.kr/view.php?key=20230922010014065\n",
      "✅ 크롤링 완료: 윤 대통령, 유엔 191개국 중 20% 넘는 41개국과 회담 완수...경제 협력 성......\n"
     ]
    },
    {
     "name": "stderr",
     "output_type": "stream",
     "text": [
      "📰 뉴스 본문 크롤링 진행:  73%|███████▎  | 118/162 [07:09<03:39,  4.98s/it]"
     ]
    },
    {
     "name": "stdout",
     "output_type": "stream",
     "text": [
      "✅ 크롤링 완료: 원전 설비 넘어 한국형 원전 수출은 언제쯤?…수주전에 총력...\n"
     ]
    },
    {
     "name": "stderr",
     "output_type": "stream",
     "text": [
      "📰 뉴스 본문 크롤링 진행:  73%|███████▎  | 119/162 [07:10<02:44,  3.83s/it]"
     ]
    },
    {
     "name": "stdout",
     "output_type": "stream",
     "text": [
      "✅ 크롤링 완료: '체코 원전 수주' 노리는 한수원, ‘체코문화 특별전’ 개최...\n"
     ]
    },
    {
     "name": "stderr",
     "output_type": "stream",
     "text": [
      "📰 뉴스 본문 크롤링 진행:  74%|███████▍  | 120/162 [07:11<02:07,  3.03s/it]"
     ]
    },
    {
     "name": "stdout",
     "output_type": "stream",
     "text": [
      "✅ 크롤링 완료: 한수원, 체코 글로벌 봉사 시행…K-원전 호감도↑...\n"
     ]
    },
    {
     "name": "stderr",
     "output_type": "stream",
     "text": [
      "📰 뉴스 본문 크롤링 진행:  75%|███████▍  | 121/162 [07:13<01:44,  2.54s/it]"
     ]
    },
    {
     "name": "stdout",
     "output_type": "stream",
     "text": [
      "✅ 크롤링 완료: 尹대통령, 방미 첫날 '9개국 연쇄 정상회담'…엑스포 유치 총력...\n"
     ]
    },
    {
     "name": "stderr",
     "output_type": "stream",
     "text": [
      "📰 뉴스 본문 크롤링 진행:  75%|███████▌  | 122/162 [07:14<01:25,  2.15s/it]"
     ]
    },
    {
     "name": "stdout",
     "output_type": "stream",
     "text": [
      "⚠ 본문을 가져오지 못해 Selenium으로 재시도: https://www.asiatoday.co.kr/view.php?key=20230922010014065\n",
      "✅ 크롤링 완료: 윤 대통령, 유엔 191개국 중 20% 넘는 41개국과 회담 완수...경제 협력 성......\n"
     ]
    },
    {
     "name": "stderr",
     "output_type": "stream",
     "text": [
      "📰 뉴스 본문 크롤링 진행:  76%|███████▌  | 123/162 [07:21<02:24,  3.70s/it]"
     ]
    },
    {
     "name": "stdout",
     "output_type": "stream",
     "text": [
      "✅ 크롤링 완료: 尹대통령, 뉴욕 도착 6시간 만에 6개국 정상과 회담...\n"
     ]
    },
    {
     "name": "stderr",
     "output_type": "stream",
     "text": [
      "📰 뉴스 본문 크롤링 진행:  77%|███████▋  | 124/162 [07:23<01:52,  2.97s/it]"
     ]
    },
    {
     "name": "stdout",
     "output_type": "stream",
     "text": [
      "✅ 크롤링 완료: 원전 설비 넘어 한국형 원전 수출은 언제쯤?…수주전에 총력...\n"
     ]
    },
    {
     "name": "stderr",
     "output_type": "stream",
     "text": [
      "📰 뉴스 본문 크롤링 진행:  77%|███████▋  | 125/162 [07:24<01:29,  2.42s/it]"
     ]
    },
    {
     "name": "stdout",
     "output_type": "stream",
     "text": [
      "✅ 크롤링 완료: '체코 원전 수주' 노리는 한수원, ‘체코문화 특별전’ 개최...\n"
     ]
    },
    {
     "name": "stderr",
     "output_type": "stream",
     "text": [
      "📰 뉴스 본문 크롤링 진행:  78%|███████▊  | 126/162 [07:25<01:13,  2.05s/it]"
     ]
    },
    {
     "name": "stdout",
     "output_type": "stream",
     "text": [
      "⚠ 본문을 가져오지 못해 Selenium으로 재시도: http://www.g-enews.com/ko-kr/news/article/news_all/2023082415165497290e6e8fd97b_1/article.html\n",
      "✅ 크롤링 완료: 한수원, 체코 산학연과 연구 협력 ‘박차’…사고저항성핵연료 개발 등...\n"
     ]
    },
    {
     "name": "stderr",
     "output_type": "stream",
     "text": [
      "📰 뉴스 본문 크롤링 진행:  78%|███████▊  | 127/162 [07:30<01:45,  3.00s/it]"
     ]
    },
    {
     "name": "stdout",
     "output_type": "stream",
     "text": [
      "✅ 크롤링 완료: [사설] 탈원전 상징이었던 신한울 2호기 다시 살아났다...\n"
     ]
    },
    {
     "name": "stderr",
     "output_type": "stream",
     "text": [
      "📰 뉴스 본문 크롤링 진행:  79%|███████▉  | 128/162 [07:32<01:26,  2.54s/it]"
     ]
    },
    {
     "name": "stdout",
     "output_type": "stream",
     "text": [
      "⚠ 본문을 가져오지 못해 Selenium으로 재시도: http://www.ksmnews.co.kr/default/index_view_page.php?idx=443969&part_idx=238\n",
      "✅ 크롤링 완료: 울진 신한울 2호기가 경북경제 살린다...\n"
     ]
    },
    {
     "name": "stderr",
     "output_type": "stream",
     "text": [
      "📰 뉴스 본문 크롤링 진행:  80%|███████▉  | 129/162 [07:36<01:41,  3.07s/it]"
     ]
    },
    {
     "name": "stdout",
     "output_type": "stream",
     "text": [
      "✅ 크롤링 완료: 경주시, 체코 트레비치와 우호도시 협정 체결...\n"
     ]
    },
    {
     "name": "stderr",
     "output_type": "stream",
     "text": [
      "📰 뉴스 본문 크롤링 진행:  80%|████████  | 130/162 [07:37<01:20,  2.51s/it]"
     ]
    },
    {
     "name": "stdout",
     "output_type": "stream",
     "text": [
      "✅ 크롤링 완료: [종합]尹대통령, 9개국 정상과 릴레이 정상회담..'부산엑스포 유치'‧'협......\n"
     ]
    },
    {
     "name": "stderr",
     "output_type": "stream",
     "text": [
      "📰 뉴스 본문 크롤링 진행:  81%|████████  | 131/162 [07:38<01:07,  2.16s/it]"
     ]
    },
    {
     "name": "stdout",
     "output_type": "stream",
     "text": [
      "⚠ 본문을 가져오지 못해 Selenium으로 재시도: https://www.korea.kr/news/policyNewsView.do?newsId=148920425&call_from=naver_news\n",
      "✅ 크롤링 완료: 대통령, 유엔총회 계기 미국 방문 첫날부터 부산 세계박람회 유치 총력...\n"
     ]
    },
    {
     "name": "stderr",
     "output_type": "stream",
     "text": [
      "📰 뉴스 본문 크롤링 진행:  81%|████████▏ | 132/162 [07:44<01:37,  3.25s/it]"
     ]
    },
    {
     "name": "stdout",
     "output_type": "stream",
     "text": [
      "⚠ 본문을 가져오지 못해 Selenium으로 재시도: http://www.g-enews.com/ko-kr/news/article/news_all/2023082415165497290e6e8fd97b_1/article.html\n",
      "✅ 크롤링 완료: 한수원, 체코 산학연과 연구 협력 ‘박차’…사고저항성핵연료 개발 등...\n"
     ]
    },
    {
     "name": "stderr",
     "output_type": "stream",
     "text": [
      "📰 뉴스 본문 크롤링 진행:  82%|████████▏ | 133/162 [07:49<01:45,  3.64s/it]"
     ]
    },
    {
     "name": "stdout",
     "output_type": "stream",
     "text": [
      "✅ 크롤링 완료: [사설] 탈원전 상징이었던 신한울 2호기 다시 살아났다...\n"
     ]
    },
    {
     "name": "stderr",
     "output_type": "stream",
     "text": [
      "📰 뉴스 본문 크롤링 진행:  83%|████████▎ | 134/162 [07:50<01:21,  2.89s/it]"
     ]
    },
    {
     "name": "stdout",
     "output_type": "stream",
     "text": [
      "⚠ 본문을 가져오지 못해 Selenium으로 재시도: http://www.ksmnews.co.kr/default/index_view_page.php?idx=443969&part_idx=238\n",
      "✅ 크롤링 완료: 울진 신한울 2호기가 경북경제 살린다...\n"
     ]
    },
    {
     "name": "stderr",
     "output_type": "stream",
     "text": [
      "📰 뉴스 본문 크롤링 진행:  83%|████████▎ | 135/162 [07:54<01:26,  3.19s/it]"
     ]
    },
    {
     "name": "stdout",
     "output_type": "stream",
     "text": [
      "✅ 크롤링 완료: 경주시, 체코 트레비치와 우호도시 협정 체결...\n"
     ]
    },
    {
     "name": "stderr",
     "output_type": "stream",
     "text": [
      "📰 뉴스 본문 크롤링 진행:  84%|████████▍ | 136/162 [07:55<01:06,  2.57s/it]"
     ]
    },
    {
     "name": "stdout",
     "output_type": "stream",
     "text": [
      "⚠ 본문을 가져오지 못해 Selenium으로 재시도: https://ilyo.co.kr/?ac=article_view&entry_id=457574\n",
      "✅ 크롤링 완료: [경주시정] 체코 트레비치와 우호도시 협정 체결 外...\n"
     ]
    },
    {
     "name": "stderr",
     "output_type": "stream",
     "text": [
      "📰 뉴스 본문 크롤링 진행:  85%|████████▍ | 137/162 [08:00<01:25,  3.42s/it]"
     ]
    },
    {
     "name": "stdout",
     "output_type": "stream",
     "text": [
      "⚠ 본문을 가져오지 못해 Selenium으로 재시도: https://www.wowtv.co.kr/NewsCenter/News/Read?articleId=A202307170148&t=NNv\n",
      "✅ 크롤링 완료: '첫 한국형' 새울 3·4호기…수출 기대감 '들썩'...\n"
     ]
    },
    {
     "name": "stderr",
     "output_type": "stream",
     "text": [
      "📰 뉴스 본문 크롤링 진행:  85%|████████▌ | 138/162 [08:18<03:06,  7.77s/it]"
     ]
    },
    {
     "name": "stdout",
     "output_type": "stream",
     "text": [
      "✅ 크롤링 완료: [에너지공기업 데일리 이슈] 한수원 사장, 협력기업과 i-SMR 기술개발 협......\n"
     ]
    },
    {
     "name": "stderr",
     "output_type": "stream",
     "text": [
      "📰 뉴스 본문 크롤링 진행:  86%|████████▌ | 139/162 [08:20<02:17,  5.96s/it]"
     ]
    },
    {
     "name": "stdout",
     "output_type": "stream",
     "text": [
      "✅ 크롤링 완료: 한수원, '2023년도 체코 글로벌 봉사' 시행...\n"
     ]
    },
    {
     "name": "stderr",
     "output_type": "stream",
     "text": [
      "📰 뉴스 본문 크롤링 진행:  86%|████████▋ | 140/162 [08:21<01:39,  4.53s/it]"
     ]
    },
    {
     "name": "stdout",
     "output_type": "stream",
     "text": [
      "✅ 크롤링 완료: 경주시, 체코 트레비치시와 MOU...\n"
     ]
    },
    {
     "name": "stderr",
     "output_type": "stream",
     "text": [
      "📰 뉴스 본문 크롤링 진행:  88%|████████▊ | 142/162 [08:23<00:51,  2.57s/it]"
     ]
    },
    {
     "name": "stdout",
     "output_type": "stream",
     "text": [
      "⚠ 오류 발생 (뉴스 크롤링 실패): http://www.phmbc.co.kr/www/news/desk_news?idx=187156&mode=view, 오류: ('Received response with content-encoding: gzip, but failed to decode it.', error('Error -3 while decompressing data: incorrect data check'))\n",
      "⚠ 본문을 가져오지 못해 Selenium으로 재시도: https://www.wowtv.co.kr/NewsCenter/News/Read?articleId=A202307170148&t=NNv\n",
      "✅ 크롤링 완료: '첫 한국형' 새울 3·4호기…수출 기대감 '들썩'...\n"
     ]
    },
    {
     "name": "stderr",
     "output_type": "stream",
     "text": [
      "📰 뉴스 본문 크롤링 진행:  88%|████████▊ | 143/162 [08:40<02:11,  6.93s/it]"
     ]
    },
    {
     "name": "stdout",
     "output_type": "stream",
     "text": [
      "✅ 크롤링 완료: [에너지공기업 데일리 이슈] 한수원 사장, 협력기업과 i-SMR 기술개발 협......\n"
     ]
    },
    {
     "name": "stderr",
     "output_type": "stream",
     "text": [
      "📰 뉴스 본문 크롤링 진행:  89%|████████▉ | 144/162 [08:41<01:33,  5.20s/it]"
     ]
    },
    {
     "name": "stdout",
     "output_type": "stream",
     "text": [
      "✅ 크롤링 완료: 한수원, '2023년도 체코 글로벌 봉사' 시행...\n"
     ]
    },
    {
     "name": "stderr",
     "output_type": "stream",
     "text": [
      "📰 뉴스 본문 크롤링 진행:  90%|████████▉ | 145/162 [08:42<01:07,  3.99s/it]"
     ]
    },
    {
     "name": "stdout",
     "output_type": "stream",
     "text": [
      "⚠ 본문을 가져오지 못해 Selenium으로 재시도: https://www.asiatoday.co.kr/view.php?key=20230829010015693\n",
      "✅ 크롤링 완료: 한수원, 2023년도 체코 글로벌 봉사 시행...\n"
     ]
    },
    {
     "name": "stderr",
     "output_type": "stream",
     "text": [
      "📰 뉴스 본문 크롤링 진행:  90%|█████████ | 146/162 [08:50<01:22,  5.19s/it]"
     ]
    },
    {
     "name": "stdout",
     "output_type": "stream",
     "text": [
      "✅ 크롤링 완료: 한수원, 체코 글로벌 봉사...한국대학사회봉사협의회와 공동...\n"
     ]
    },
    {
     "name": "stderr",
     "output_type": "stream",
     "text": [
      "📰 뉴스 본문 크롤링 진행:  91%|█████████ | 147/162 [08:51<01:00,  4.02s/it]"
     ]
    },
    {
     "name": "stdout",
     "output_type": "stream",
     "text": [
      "⚠ 본문을 가져오지 못해 Selenium으로 재시도: https://www.businesspost.co.kr/BP?command=article_view&num=323757\n",
      "✅ 크롤링 완료: [Who Is ?] 황주호 한국수력원자력 사장...\n"
     ]
    },
    {
     "name": "stderr",
     "output_type": "stream",
     "text": [
      "📰 뉴스 본문 크롤링 진행:  91%|█████████▏| 148/162 [08:55<00:54,  3.89s/it]"
     ]
    },
    {
     "name": "stdout",
     "output_type": "stream",
     "text": [
      "✅ 크롤링 완료: 한수원, '체코문화 특별전' 개막...\n"
     ]
    },
    {
     "name": "stderr",
     "output_type": "stream",
     "text": [
      "📰 뉴스 본문 크롤링 진행:  92%|█████████▏| 149/162 [08:56<00:39,  3.07s/it]"
     ]
    },
    {
     "name": "stdout",
     "output_type": "stream",
     "text": [
      "⚠ 본문을 가져오지 못해 Selenium으로 재시도: http://www.naeil.com/news_view/?id_art=466843\n",
      "✅ 크롤링 완료: 한수원, 체코문화 특별전 개최...\n"
     ]
    },
    {
     "name": "stderr",
     "output_type": "stream",
     "text": [
      "📰 뉴스 본문 크롤링 진행:  93%|█████████▎| 150/162 [09:01<00:44,  3.73s/it]"
     ]
    },
    {
     "name": "stdout",
     "output_type": "stream",
     "text": [
      "✅ 크롤링 완료: 한국수력원자력, 체코 글로벌 봉사 활동 진행...\n"
     ]
    },
    {
     "name": "stderr",
     "output_type": "stream",
     "text": [
      "📰 뉴스 본문 크롤링 진행:  94%|█████████▍| 152/162 [09:03<00:21,  2.12s/it]"
     ]
    },
    {
     "name": "stdout",
     "output_type": "stream",
     "text": [
      "⚠ 오류 발생 (뉴스 크롤링 실패): http://www.sentv.co.kr/news/view/666666, 오류: HTTPSConnectionPool(host='www.sentv.co.kr', port=443): Max retries exceeded with url: /news/view/666666 (Caused by SSLError(SSLCertVerificationError(1, '[SSL: CERTIFICATE_VERIFY_FAILED] certificate verify failed: unable to get local issuer certificate (_ssl.c:1000)')))\n",
      "✅ 크롤링 완료: 한국수력원자력, 2023년도 체코 글로벌 봉사 시행...\n"
     ]
    },
    {
     "name": "stderr",
     "output_type": "stream",
     "text": [
      "📰 뉴스 본문 크롤링 진행:  94%|█████████▍| 153/162 [09:04<00:16,  1.81s/it]"
     ]
    },
    {
     "name": "stdout",
     "output_type": "stream",
     "text": [
      "✅ 크롤링 완료: 한수원, 체코서 글로벌 봉사 진행...\n"
     ]
    },
    {
     "name": "stderr",
     "output_type": "stream",
     "text": [
      "📰 뉴스 본문 크롤링 진행:  95%|█████████▌| 154/162 [09:05<00:13,  1.70s/it]"
     ]
    },
    {
     "name": "stdout",
     "output_type": "stream",
     "text": [
      "✅ 크롤링 완료: 한수원, 2023년도 체코 글로벌 봉사 시행...\n"
     ]
    },
    {
     "name": "stderr",
     "output_type": "stream",
     "text": [
      "📰 뉴스 본문 크롤링 진행:  96%|█████████▌| 155/162 [09:06<00:10,  1.54s/it]"
     ]
    },
    {
     "name": "stdout",
     "output_type": "stream",
     "text": [
      "⚠ 본문을 가져오지 못해 Selenium으로 재시도: https://www.asiatoday.co.kr/view.php?key=20230829010015693\n",
      "✅ 크롤링 완료: 한수원, 2023년도 체코 글로벌 봉사 시행...\n"
     ]
    },
    {
     "name": "stderr",
     "output_type": "stream",
     "text": [
      "📰 뉴스 본문 크롤링 진행:  96%|█████████▋| 156/162 [09:13<00:18,  3.02s/it]"
     ]
    },
    {
     "name": "stdout",
     "output_type": "stream",
     "text": [
      "✅ 크롤링 완료: 한수원, 체코 글로벌 봉사...한국대학사회봉사협의회와 공동...\n"
     ]
    },
    {
     "name": "stderr",
     "output_type": "stream",
     "text": [
      "📰 뉴스 본문 크롤링 진행:  97%|█████████▋| 157/162 [09:14<00:12,  2.49s/it]"
     ]
    },
    {
     "name": "stdout",
     "output_type": "stream",
     "text": [
      "⚠ 본문을 가져오지 못해 Selenium으로 재시도: https://www.businesspost.co.kr/BP?command=article_view&num=323757\n",
      "✅ 크롤링 완료: [Who Is ?] 황주호 한국수력원자력 사장...\n"
     ]
    },
    {
     "name": "stderr",
     "output_type": "stream",
     "text": [
      "📰 뉴스 본문 크롤링 진행:  98%|█████████▊| 158/162 [09:18<00:11,  2.80s/it]"
     ]
    },
    {
     "name": "stdout",
     "output_type": "stream",
     "text": [
      "✅ 크롤링 완료: 한수원, '체코문화 특별전' 개막...\n"
     ]
    },
    {
     "name": "stderr",
     "output_type": "stream",
     "text": [
      "📰 뉴스 본문 크롤링 진행:  98%|█████████▊| 159/162 [09:19<00:06,  2.29s/it]"
     ]
    },
    {
     "name": "stdout",
     "output_type": "stream",
     "text": [
      "⚠ 본문을 가져오지 못해 Selenium으로 재시도: http://www.naeil.com/news_view/?id_art=466843\n",
      "✅ 크롤링 완료: 한수원, 체코문화 특별전 개최...\n"
     ]
    },
    {
     "name": "stderr",
     "output_type": "stream",
     "text": [
      "📰 뉴스 본문 크롤링 진행:  99%|█████████▉| 160/162 [09:23<00:05,  2.94s/it]"
     ]
    },
    {
     "name": "stdout",
     "output_type": "stream",
     "text": [
      "✅ 크롤링 완료: 한수원, '체코문화 특별전' 개막...\n"
     ]
    },
    {
     "name": "stderr",
     "output_type": "stream",
     "text": [
      "📰 뉴스 본문 크롤링 진행:  99%|█████████▉| 161/162 [09:24<00:02,  2.42s/it]"
     ]
    },
    {
     "name": "stdout",
     "output_type": "stream",
     "text": [
      "⚠ 본문을 가져오지 못해 Selenium으로 재시도: http://www.naeil.com/news_view/?id_art=466843\n",
      "✅ 크롤링 완료: 한수원, 체코문화 특별전 개최...\n"
     ]
    },
    {
     "name": "stderr",
     "output_type": "stream",
     "text": [
      "📰 뉴스 본문 크롤링 진행: 100%|██████████| 162/162 [09:28<00:00,  3.51s/it]\n"
     ]
    },
    {
     "name": "stdout",
     "output_type": "stream",
     "text": [
      "🔍 검색 중: 두코바니 원전 (2023.10.01 ~ 2023.12.31)\n",
      "✅ 143개의 뉴스 기사 링크 및 날짜를 수집 완료! (2023.10.01 ~ 2023.12.31)\n"
     ]
    },
    {
     "name": "stderr",
     "output_type": "stream",
     "text": [
      "📰 뉴스 본문 크롤링 진행:   0%|          | 0/143 [00:00<?, ?it/s]"
     ]
    },
    {
     "name": "stdout",
     "output_type": "stream",
     "text": [
      "⚠ 본문을 가져오지 못해 Selenium으로 재시도: https://www.theguru.co.kr/news/article.html?no=64133\n",
      "✅ 크롤링 완료: 한수원 네덜란드 신규 원전 타당성 조사 내달 착수...\n"
     ]
    },
    {
     "name": "stderr",
     "output_type": "stream",
     "text": [
      "📰 뉴스 본문 크롤링 진행:   1%|          | 1/143 [00:04<11:18,  4.78s/it]"
     ]
    },
    {
     "name": "stdout",
     "output_type": "stream",
     "text": [
      "✅ 크롤링 완료: 한수원 vs 한전기술···집안싸움에 흔들리는 'K원전'...\n"
     ]
    },
    {
     "name": "stderr",
     "output_type": "stream",
     "text": [
      "📰 뉴스 본문 크롤링 진행:   1%|▏         | 2/143 [00:05<06:16,  2.67s/it]"
     ]
    },
    {
     "name": "stdout",
     "output_type": "stream",
     "text": [
      "⚠ 본문을 가져오지 못해 Selenium으로 재시도: http://www.wsobi.com/news/articleView.html?idxno=224883\n",
      "✅ 크롤링 완료: 현대ENG-현대건설-두산에너빌-포스코이앤씨, 원전 수출 기대감 속 SMR 사......\n"
     ]
    },
    {
     "name": "stderr",
     "output_type": "stream",
     "text": [
      "📰 뉴스 본문 크롤링 진행:   2%|▏         | 3/143 [00:10<08:09,  3.50s/it]"
     ]
    },
    {
     "name": "stdout",
     "output_type": "stream",
     "text": [
      "⚠ 본문을 가져오지 못해 Selenium으로 재시도: http://www.g-enews.com/ko-kr/news/article/news_all/2023110111233744670e6e8fd97b_1/article.html\n",
      "✅ 크롤링 완료: 한수원, 체코 두코바니 신규원전 사업 최종 입찰서 제출...\n"
     ]
    },
    {
     "name": "stderr",
     "output_type": "stream",
     "text": [
      "📰 뉴스 본문 크롤링 진행:   3%|▎         | 4/143 [00:16<09:58,  4.31s/it]"
     ]
    },
    {
     "name": "stdout",
     "output_type": "stream",
     "text": [
      "✅ 크롤링 완료: 한국수력원자력, 체코 두코바니 신규 원전 최종 입찰서 제출...\n"
     ]
    },
    {
     "name": "stderr",
     "output_type": "stream",
     "text": [
      "📰 뉴스 본문 크롤링 진행:   3%|▎         | 5/143 [00:17<07:20,  3.20s/it]"
     ]
    },
    {
     "name": "stdout",
     "output_type": "stream",
     "text": [
      "✅ 크롤링 완료: EU의회, 넷제로법 '원자력' 포함···K원전, 유럽 수출 순풍...\n"
     ]
    },
    {
     "name": "stderr",
     "output_type": "stream",
     "text": [
      "📰 뉴스 본문 크롤링 진행:   4%|▍         | 6/143 [00:18<05:44,  2.51s/it]"
     ]
    },
    {
     "name": "stdout",
     "output_type": "stream",
     "text": [
      "⚠ 본문을 가져오지 못해 Selenium으로 재시도: https://www.theguru.co.kr/news/article.html?no=63033\n",
      "✅ 크롤링 완료: 체코 원전 입찰 '한수원 지재권·웨스팅하우스 민간·EDF 역량' 리스크...\n"
     ]
    },
    {
     "name": "stderr",
     "output_type": "stream",
     "text": [
      "📰 뉴스 본문 크롤링 진행:   5%|▍         | 7/143 [00:22<06:57,  3.07s/it]"
     ]
    },
    {
     "name": "stdout",
     "output_type": "stream",
     "text": [
      "⚠ 본문을 가져오지 못해 Selenium으로 재시도: https://www.theguru.co.kr/news/article.html?no=62996\n",
      "✅ 크롤링 완료: 한수원, 두산에너빌리티와 체코 원전 협력사 사업 역량 확인...\n"
     ]
    },
    {
     "name": "stderr",
     "output_type": "stream",
     "text": [
      "📰 뉴스 본문 크롤링 진행:   6%|▌         | 8/143 [00:26<07:36,  3.38s/it]"
     ]
    },
    {
     "name": "stdout",
     "output_type": "stream",
     "text": [
      "✅ 크롤링 완료: [NBNTV 특별취재] 체코에서 만난 'K-에너지'…K-POP·기업·원전의 '하모......\n"
     ]
    },
    {
     "name": "stderr",
     "output_type": "stream",
     "text": [
      "📰 뉴스 본문 크롤링 진행:   6%|▋         | 9/143 [00:28<06:07,  2.75s/it]"
     ]
    },
    {
     "name": "stdout",
     "output_type": "stream",
     "text": [
      "⚠ 본문을 가져오지 못해 Selenium으로 재시도: http://www.kbsm.net/news/view.php?idx=411195\n",
      "✅ 크롤링 완료: '체코 원전 3파전' 와중에... 트레비치시 대표단, 8일 경주시 방문...\n"
     ]
    },
    {
     "name": "stderr",
     "output_type": "stream",
     "text": [
      "📰 뉴스 본문 크롤링 진행:   7%|▋         | 10/143 [00:32<07:19,  3.30s/it]"
     ]
    },
    {
     "name": "stdout",
     "output_type": "stream",
     "text": [
      "⚠ 본문을 가져오지 못해 Selenium으로 재시도: https://www.theguru.co.kr/news/article.html?no=62512\n",
      "✅ 크롤링 완료: 체코, 원전 평가 첫 마감일 2월 중순…입찰가는?...\n"
     ]
    },
    {
     "name": "stderr",
     "output_type": "stream",
     "text": [
      "📰 뉴스 본문 크롤링 진행:   8%|▊         | 11/143 [00:36<07:57,  3.62s/it]"
     ]
    },
    {
     "name": "stdout",
     "output_type": "stream",
     "text": [
      "✅ 크롤링 완료: 한수원 원전 수주도시 체코 트레비치 대표단, 경주시 방문...\n"
     ]
    },
    {
     "name": "stderr",
     "output_type": "stream",
     "text": [
      "📰 뉴스 본문 크롤링 진행:   8%|▊         | 12/143 [00:38<06:20,  2.90s/it]"
     ]
    },
    {
     "name": "stdout",
     "output_type": "stream",
     "text": [
      "⚠ 본문을 가져오지 못해 Selenium으로 재시도: http://www.edaily.co.kr/news/newspath.asp?newsid=01213606635801784\n",
      "✅ 크롤링 완료: 8조 체코 원전 수주 韓·美·佛 3파전 가닥...\n"
     ]
    },
    {
     "name": "stderr",
     "output_type": "stream",
     "text": [
      "📰 뉴스 본문 크롤링 진행:   9%|▉         | 13/143 [00:44<08:21,  3.86s/it]"
     ]
    },
    {
     "name": "stdout",
     "output_type": "stream",
     "text": [
      "⚠ 본문을 가져오지 못해 Selenium으로 재시도: https://www.munhwa.com/news/view.html?no=2023110601032405017002\n",
      "✅ 크롤링 완료: 신규건설·해체 ‘두 토끼’ 잡기… ‘K-원전’ 글로벌 영토 넓힌다...\n"
     ]
    },
    {
     "name": "stderr",
     "output_type": "stream",
     "text": [
      "📰 뉴스 본문 크롤링 진행:  10%|▉         | 14/143 [00:48<08:47,  4.09s/it]"
     ]
    },
    {
     "name": "stdout",
     "output_type": "stream",
     "text": [
      "⚠ 본문을 가져오지 못해 Selenium으로 재시도: https://www.theguru.co.kr/news/article.html?no=63031\n",
      "✅ 크롤링 완료: 스웨덴, 대규모 추가 원전 건설 착수 계획…한수원 '눈독'...\n"
     ]
    },
    {
     "name": "stderr",
     "output_type": "stream",
     "text": [
      "📰 뉴스 본문 크롤링 진행:  10%|█         | 15/143 [00:53<08:52,  4.16s/it]"
     ]
    },
    {
     "name": "stdout",
     "output_type": "stream",
     "text": [
      "⚠ 본문을 가져오지 못해 Selenium으로 재시도: https://www.theguru.co.kr/news/article.html?no=60995\n",
      "✅ 크롤링 완료: 체코 원전 최종 입찰서 마감일 또 연기...\n"
     ]
    },
    {
     "name": "stderr",
     "output_type": "stream",
     "text": [
      "📰 뉴스 본문 크롤링 진행:  11%|█         | 16/143 [00:57<08:45,  4.13s/it]"
     ]
    },
    {
     "name": "stdout",
     "output_type": "stream",
     "text": [
      "⚠ 본문을 가져오지 못해 Selenium으로 재시도: https://biz.chosun.com/industry/company/2023/11/01/O2PMCNLOG5GY5E7OZGZXR35J5A/?utm_source=naver&utm_medium=original&utm_campaign=biz\n",
      "✅ 크롤링 완료: 네덜란드 경제사절단에 한수원 참여… 원전 수출 노린다...\n"
     ]
    },
    {
     "name": "stderr",
     "output_type": "stream",
     "text": [
      "📰 뉴스 본문 크롤링 진행:  12%|█▏        | 17/143 [01:03<10:10,  4.85s/it]"
     ]
    },
    {
     "name": "stdout",
     "output_type": "stream",
     "text": [
      "⚠ 본문을 가져오지 못해 Selenium으로 재시도: https://www.dnews.co.kr/uhtml/view.jsp?idxno=202310261111071450829\n",
      "✅ 크롤링 완료: 두산에너빌리티, 내년에도 원전 수주 기대감…회계처리 이슈 불씨...\n"
     ]
    },
    {
     "name": "stderr",
     "output_type": "stream",
     "text": [
      "📰 뉴스 본문 크롤링 진행:  13%|█▎        | 18/143 [01:08<10:04,  4.83s/it]"
     ]
    },
    {
     "name": "stdout",
     "output_type": "stream",
     "text": [
      "⚠ 본문을 가져오지 못해 Selenium으로 재시도: https://www.munhwa.com/news/view.html?no=2023102501032105017001\n",
      "✅ 크롤링 완료: “에너지 관료 변화 없어… 점수 못매길 정도… 탄소중립 위해 신규 원......\n"
     ]
    },
    {
     "name": "stderr",
     "output_type": "stream",
     "text": [
      "📰 뉴스 본문 크롤링 진행:  13%|█▎        | 19/143 [01:12<09:33,  4.62s/it]"
     ]
    },
    {
     "name": "stdout",
     "output_type": "stream",
     "text": [
      "✅ 크롤링 완료: [부활하는 K-원전]① 다시 오는 호황기?…원전업계 '성과 기대감'...\n"
     ]
    },
    {
     "name": "stderr",
     "output_type": "stream",
     "text": [
      "📰 뉴스 본문 크롤링 진행:  14%|█▍        | 20/143 [01:14<07:26,  3.63s/it]"
     ]
    },
    {
     "name": "stdout",
     "output_type": "stream",
     "text": [
      "✅ 크롤링 완료: 1조 원 루마니아 원전 리모델링 수주 ‘눈 앞’…K원전 수출 확대...\n"
     ]
    },
    {
     "name": "stderr",
     "output_type": "stream",
     "text": [
      "📰 뉴스 본문 크롤링 진행:  15%|█▍        | 21/143 [01:15<05:59,  2.95s/it]"
     ]
    },
    {
     "name": "stdout",
     "output_type": "stream",
     "text": [
      "⚠ 본문을 가져오지 못해 Selenium으로 재시도: http://www.g-enews.com/ko-kr/news/article/news_all/2023101310321389934a01bf698f_1/article.html\n",
      "✅ 크롤링 완료: [김대호 진단] 루마니아 체르나보다 원전 1호기 리모델링 컨소시엄 출범...\n"
     ]
    },
    {
     "name": "stderr",
     "output_type": "stream",
     "text": [
      "📰 뉴스 본문 크롤링 진행:  15%|█▌        | 22/143 [01:20<06:58,  3.46s/it]"
     ]
    },
    {
     "name": "stdout",
     "output_type": "stream",
     "text": [
      "⚠ 본문을 가져오지 못해 Selenium으로 재시도: https://www.chosun.com/economy/industry-company/2023/10/12/ZZR3GJJMKJFJTDA6NMTO5UJ23Y/?utm_source=naver&utm_medium=referral&utm_campaign=naver-news\n",
      "✅ 크롤링 완료: 1조 루마니아 원전, 한국이 수주… 탈원전 폐기후 잇단 잭팟...\n"
     ]
    },
    {
     "name": "stderr",
     "output_type": "stream",
     "text": [
      "📰 뉴스 본문 크롤링 진행:  16%|█▌        | 23/143 [01:25<08:25,  4.21s/it]"
     ]
    },
    {
     "name": "stdout",
     "output_type": "stream",
     "text": [
      "✅ 크롤링 완료: 한국, 영국과 원전 관련 MOU 9건 체결...유럽 원전 수출 기대감↑...\n"
     ]
    },
    {
     "name": "stderr",
     "output_type": "stream",
     "text": [
      "📰 뉴스 본문 크롤링 진행:  17%|█▋        | 24/143 [01:27<06:35,  3.32s/it]"
     ]
    },
    {
     "name": "stdout",
     "output_type": "stream",
     "text": [
      "✅ 크롤링 완료: [CEO 뷰] 황주호 한수원 사장, 원전산업 경쟁력 제고 '온힘'… 실적 개선......\n"
     ]
    },
    {
     "name": "stderr",
     "output_type": "stream",
     "text": [
      "📰 뉴스 본문 크롤링 진행:  17%|█▋        | 25/143 [01:28<05:23,  2.74s/it]"
     ]
    },
    {
     "name": "stdout",
     "output_type": "stream",
     "text": [
      "✅ 크롤링 완료: 8조 체코 원전 수주 전쟁…韓·美·佛 3파전 격돌...\n"
     ]
    },
    {
     "name": "stderr",
     "output_type": "stream",
     "text": [
      "📰 뉴스 본문 크롤링 진행:  18%|█▊        | 26/143 [01:29<04:26,  2.28s/it]"
     ]
    },
    {
     "name": "stdout",
     "output_type": "stream",
     "text": [
      "⚠ 본문을 가져오지 못해 Selenium으로 재시도: https://www.asiatoday.co.kr/view.php?key=20231102010001673\n",
      "✅ 크롤링 완료: 한전KPS, 체코 원전 수주에 촉각... K-원전 수혜...\n"
     ]
    },
    {
     "name": "stderr",
     "output_type": "stream",
     "text": [
      "📰 뉴스 본문 크롤링 진행:  19%|█▉        | 27/143 [01:34<05:54,  3.06s/it]"
     ]
    },
    {
     "name": "stdout",
     "output_type": "stream",
     "text": [
      "✅ 크롤링 완료: [에너지공기업 데일리 이슈] 한수원, 중수로 원전 해체 전문성 높인다 ......\n"
     ]
    },
    {
     "name": "stderr",
     "output_type": "stream",
     "text": [
      "📰 뉴스 본문 크롤링 진행:  20%|█▉        | 28/143 [01:35<04:49,  2.52s/it]"
     ]
    },
    {
     "name": "stdout",
     "output_type": "stream",
     "text": [
      "⚠ 본문을 가져오지 못해 Selenium으로 재시도: http://www.breaknews.com/995706\n",
      "✅ 크롤링 완료: 한수원, 체코 신규원전 사업 최종 입찰서 제출...\n"
     ]
    },
    {
     "name": "stderr",
     "output_type": "stream",
     "text": [
      "📰 뉴스 본문 크롤링 진행:  20%|██        | 29/143 [01:43<07:47,  4.10s/it]"
     ]
    },
    {
     "name": "stdout",
     "output_type": "stream",
     "text": [
      "⚠ 본문을 가져오지 못해 Selenium으로 재시도: https://www.mediapen.com/news/view/862918\n",
      "✅ 크롤링 완료: 탈원전 폐기 후 살아나는 원전 경쟁력…유럽 수주·SMR 활성화...\n"
     ]
    },
    {
     "name": "stderr",
     "output_type": "stream",
     "text": [
      "📰 뉴스 본문 크롤링 진행:  21%|██        | 30/143 [01:48<08:02,  4.27s/it]"
     ]
    },
    {
     "name": "stdout",
     "output_type": "stream",
     "text": [
      "✅ 크롤링 완료: ‘尹 정부 핵심과제 원전수출’ 담당조직, 1년마다 간판 새로 달아야 살......\n"
     ]
    },
    {
     "name": "stderr",
     "output_type": "stream",
     "text": [
      "📰 뉴스 본문 크롤링 진행:  22%|██▏       | 31/143 [01:49<06:26,  3.45s/it]"
     ]
    },
    {
     "name": "stdout",
     "output_type": "stream",
     "text": [
      "⚠ 본문을 가져오지 못해 Selenium으로 재시도: https://www.businesspost.co.kr/BP?command=article_view&num=336327\n",
      "✅ 크롤링 완료: 해외건설 수주 4년째 300억 달러 돌파, 목표 '350억 달러'는 끝까지 가봐......\n"
     ]
    },
    {
     "name": "stderr",
     "output_type": "stream",
     "text": [
      "📰 뉴스 본문 크롤링 진행:  22%|██▏       | 32/143 [01:55<07:20,  3.97s/it]"
     ]
    },
    {
     "name": "stdout",
     "output_type": "stream",
     "text": [
      "✅ 크롤링 완료: [경주24시] 8조원대 '큰 손' 체코 트레비치시 대표단, 경주 방문...\n"
     ]
    },
    {
     "name": "stderr",
     "output_type": "stream",
     "text": [
      "📰 뉴스 본문 크롤링 진행:  23%|██▎       | 33/143 [01:56<05:47,  3.16s/it]"
     ]
    },
    {
     "name": "stdout",
     "output_type": "stream",
     "text": [
      "⚠ 본문을 가져오지 못해 Selenium으로 재시도: http://www.g-enews.com/ko-kr/news/article/news_all/202311010531404718e8b8a793f7_1/article.html\n",
      "✅ 크롤링 완료: [모닝픽] 화신, 조지아에 전기차 섀시 부품 공장 설립...\n"
     ]
    },
    {
     "name": "stderr",
     "output_type": "stream",
     "text": [
      "📰 뉴스 본문 크롤링 진행:  24%|██▍       | 34/143 [02:01<06:32,  3.60s/it]"
     ]
    },
    {
     "name": "stdout",
     "output_type": "stream",
     "text": [
      "⚠ 본문을 가져오지 못해 Selenium으로 재시도: https://www.mk.co.kr/article/10881199\n",
      "✅ 크롤링 완료: 한국수력원자력, Net Zero 시대를 선도하는 글로벌 에너지 리더...\n"
     ]
    },
    {
     "name": "stderr",
     "output_type": "stream",
     "text": [
      "📰 뉴스 본문 크롤링 진행:  24%|██▍       | 35/143 [02:05<07:07,  3.96s/it]"
     ]
    },
    {
     "name": "stdout",
     "output_type": "stream",
     "text": [
      "⚠ 본문을 가져오지 못해 Selenium으로 재시도: https://www.thebell.co.kr/free/content/ArticleView.asp?key=202311211551142280102741\n",
      "✅ 크롤링 완료: [더벨]현대건설, 우크라이나·폴란드 지사 설립 '가시화'...\n"
     ]
    },
    {
     "name": "stderr",
     "output_type": "stream",
     "text": [
      "📰 뉴스 본문 크롤링 진행:  25%|██▌       | 36/143 [02:09<06:55,  3.88s/it]"
     ]
    },
    {
     "name": "stdout",
     "output_type": "stream",
     "text": [
      "✅ 크롤링 완료: 건설업계, 원자력 해외수주 '올인'…유럽·북미로 보폭 확대...\n"
     ]
    },
    {
     "name": "stderr",
     "output_type": "stream",
     "text": [
      "📰 뉴스 본문 크롤링 진행:  26%|██▌       | 37/143 [02:10<05:26,  3.08s/it]"
     ]
    },
    {
     "name": "stdout",
     "output_type": "stream",
     "text": [
      "⚠ 본문을 가져오지 못해 Selenium으로 재시도: http://www.skyedaily.com/news/news_view.html?ID=209257\n",
      "✅ 크롤링 완료: [사설] 윤석열정부의 ‘탈원전 폐기 정책’ 세계가 인정...\n"
     ]
    },
    {
     "name": "stderr",
     "output_type": "stream",
     "text": [
      "📰 뉴스 본문 크롤링 진행:  27%|██▋       | 38/143 [02:16<06:48,  3.89s/it]"
     ]
    },
    {
     "name": "stdout",
     "output_type": "stream",
     "text": [
      "⚠ 본문을 가져오지 못해 Selenium으로 재시도: https://www.munhwa.com/news/view.html?no=2023112901033805017001\n",
      "✅ 크롤링 완료: 망국적 ‘탈원전 시즌2’ 폭주[뉴스와 시각]...\n"
     ]
    },
    {
     "name": "stderr",
     "output_type": "stream",
     "text": [
      "📰 뉴스 본문 크롤링 진행:  27%|██▋       | 39/143 [02:21<07:15,  4.18s/it]"
     ]
    },
    {
     "name": "stdout",
     "output_type": "stream",
     "text": [
      "⚠ 본문을 가져오지 못해 Selenium으로 재시도: https://www.businesspost.co.kr/BP?command=article_view&num=332017\n",
      "✅ 크롤링 완료: 대우건설 중앙아시아 개척 본격화, 정원주 해외사업 키워 '100년 기업' 밑......\n"
     ]
    },
    {
     "name": "stderr",
     "output_type": "stream",
     "text": [
      "📰 뉴스 본문 크롤링 진행:  28%|██▊       | 40/143 [02:25<07:01,  4.09s/it]"
     ]
    },
    {
     "name": "stdout",
     "output_type": "stream",
     "text": [
      "⚠ 본문을 가져오지 못해 Selenium으로 재시도: https://www.thebell.co.kr/free/content/ArticleView.asp?key=202311211551142280102741\n",
      "✅ 크롤링 완료: [더벨]현대건설, 우크라이나·폴란드 지사 설립 '가시화'...\n"
     ]
    },
    {
     "name": "stderr",
     "output_type": "stream",
     "text": [
      "📰 뉴스 본문 크롤링 진행:  29%|██▊       | 41/143 [02:28<06:40,  3.93s/it]"
     ]
    },
    {
     "name": "stdout",
     "output_type": "stream",
     "text": [
      "✅ 크롤링 완료: 건설업계, 원자력 해외수주 '올인'…유럽·북미로 보폭 확대...\n"
     ]
    },
    {
     "name": "stderr",
     "output_type": "stream",
     "text": [
      "📰 뉴스 본문 크롤링 진행:  29%|██▉       | 42/143 [02:30<05:16,  3.13s/it]"
     ]
    },
    {
     "name": "stdout",
     "output_type": "stream",
     "text": [
      "⚠ 본문을 가져오지 못해 Selenium으로 재시도: http://www.skyedaily.com/news/news_view.html?ID=209257\n",
      "✅ 크롤링 완료: [사설] 윤석열정부의 ‘탈원전 폐기 정책’ 세계가 인정...\n"
     ]
    },
    {
     "name": "stderr",
     "output_type": "stream",
     "text": [
      "📰 뉴스 본문 크롤링 진행:  30%|███       | 43/143 [02:34<05:44,  3.44s/it]"
     ]
    },
    {
     "name": "stdout",
     "output_type": "stream",
     "text": [
      "⚠ 본문을 가져오지 못해 Selenium으로 재시도: https://www.munhwa.com/news/view.html?no=2023112901033805017001\n",
      "✅ 크롤링 완료: 망국적 ‘탈원전 시즌2’ 폭주[뉴스와 시각]...\n"
     ]
    },
    {
     "name": "stderr",
     "output_type": "stream",
     "text": [
      "📰 뉴스 본문 크롤링 진행:  31%|███       | 44/143 [02:39<06:31,  3.95s/it]"
     ]
    },
    {
     "name": "stdout",
     "output_type": "stream",
     "text": [
      "⚠ 본문을 가져오지 못해 Selenium으로 재시도: https://www.nocutnews.co.kr/news/6043723\n",
      "✅ 크롤링 완료: 경주 찾은 체코 트레비치시 \"APEC 정상회의 개최 응원\"...\n"
     ]
    },
    {
     "name": "stderr",
     "output_type": "stream",
     "text": [
      "📰 뉴스 본문 크롤링 진행:  31%|███▏      | 45/143 [02:45<07:20,  4.49s/it]"
     ]
    },
    {
     "name": "stdout",
     "output_type": "stream",
     "text": [
      "⚠ 본문을 가져오지 못해 Selenium으로 재시도: https://www.viva100.com/main/view.php?key=20231109010002872\n",
      "✅ 크롤링 완료: 체코 트레비치 대표단 경북 경주시 방문...\n"
     ]
    },
    {
     "name": "stderr",
     "output_type": "stream",
     "text": [
      "📰 뉴스 본문 크롤링 진행:  32%|███▏      | 46/143 [02:49<07:21,  4.55s/it]"
     ]
    },
    {
     "name": "stdout",
     "output_type": "stream",
     "text": [
      "⚠ 본문을 가져오지 못해 Selenium으로 재시도: https://www.businesspost.co.kr/BP?command=article_view&num=332017\n",
      "✅ 크롤링 완료: 대우건설 중앙아시아 개척 본격화, 정원주 해외사업 키워 '100년 기업' 밑......\n"
     ]
    },
    {
     "name": "stderr",
     "output_type": "stream",
     "text": [
      "📰 뉴스 본문 크롤링 진행:  33%|███▎      | 47/143 [02:53<07:01,  4.39s/it]"
     ]
    },
    {
     "name": "stdout",
     "output_type": "stream",
     "text": [
      "⚠ 본문을 가져오지 못해 Selenium으로 재시도: http://www.g-enews.com/ko-kr/news/article/news_all/2023102407362932536b49b9d1da_1/article.html\n",
      "✅ 크롤링 완료: ﻿美 웨스팅하우스, 법원의 한수원 상대 소송 각하 판결에 항소...\n"
     ]
    },
    {
     "name": "stderr",
     "output_type": "stream",
     "text": [
      "📰 뉴스 본문 크롤링 진행:  34%|███▎      | 48/143 [02:58<07:09,  4.52s/it]"
     ]
    },
    {
     "name": "stdout",
     "output_type": "stream",
     "text": [
      "✅ 크롤링 완료: “두산에너빌리티, 한수원의 루마니아 수주 수혜”...\n"
     ]
    },
    {
     "name": "stderr",
     "output_type": "stream",
     "text": [
      "📰 뉴스 본문 크롤링 진행:  34%|███▍      | 49/143 [02:59<05:32,  3.54s/it]"
     ]
    },
    {
     "name": "stdout",
     "output_type": "stream",
     "text": [
      "⚠ 본문을 가져오지 못해 Selenium으로 재시도: http://www.edaily.co.kr/news/newspath.asp?newsid=01439926635773904\n",
      "✅ 크롤링 완료: 두산에너빌리티, 회계처리 논란에도 중장기 수주 확대 기대-NH...\n"
     ]
    },
    {
     "name": "stderr",
     "output_type": "stream",
     "text": [
      "📰 뉴스 본문 크롤링 진행:  35%|███▍      | 50/143 [03:06<06:49,  4.40s/it]"
     ]
    },
    {
     "name": "stdout",
     "output_type": "stream",
     "text": [
      "⚠ 본문을 가져오지 못해 Selenium으로 재시도: https://www.thebell.co.kr/free/content/ArticleView.asp?key=202311211551142280102741\n",
      "✅ 크롤링 완료: [더벨]현대건설, 우크라이나·폴란드 지사 설립 '가시화'...\n"
     ]
    },
    {
     "name": "stderr",
     "output_type": "stream",
     "text": [
      "📰 뉴스 본문 크롤링 진행:  36%|███▌      | 51/143 [03:11<07:02,  4.60s/it]"
     ]
    },
    {
     "name": "stdout",
     "output_type": "stream",
     "text": [
      "✅ 크롤링 완료: 건설업계, 원자력 해외수주 '올인'…유럽·북미로 보폭 확대...\n"
     ]
    },
    {
     "name": "stderr",
     "output_type": "stream",
     "text": [
      "📰 뉴스 본문 크롤링 진행:  36%|███▋      | 52/143 [03:12<05:23,  3.56s/it]"
     ]
    },
    {
     "name": "stdout",
     "output_type": "stream",
     "text": [
      "⚠ 본문을 가져오지 못해 Selenium으로 재시도: http://www.skyedaily.com/news/news_view.html?ID=209257\n",
      "✅ 크롤링 완료: [사설] 윤석열정부의 ‘탈원전 폐기 정책’ 세계가 인정...\n"
     ]
    },
    {
     "name": "stderr",
     "output_type": "stream",
     "text": [
      "📰 뉴스 본문 크롤링 진행:  37%|███▋      | 53/143 [03:16<05:32,  3.70s/it]"
     ]
    },
    {
     "name": "stdout",
     "output_type": "stream",
     "text": [
      "⚠ 본문을 가져오지 못해 Selenium으로 재시도: https://www.munhwa.com/news/view.html?no=2023112901033805017001\n",
      "✅ 크롤링 완료: 망국적 ‘탈원전 시즌2’ 폭주[뉴스와 시각]...\n"
     ]
    },
    {
     "name": "stderr",
     "output_type": "stream",
     "text": [
      "📰 뉴스 본문 크롤링 진행:  38%|███▊      | 54/143 [03:21<06:12,  4.19s/it]"
     ]
    },
    {
     "name": "stdout",
     "output_type": "stream",
     "text": [
      "⚠ 본문을 가져오지 못해 Selenium으로 재시도: https://www.nocutnews.co.kr/news/6043723\n",
      "✅ 크롤링 완료: 경주 찾은 체코 트레비치시 \"APEC 정상회의 개최 응원\"...\n"
     ]
    },
    {
     "name": "stderr",
     "output_type": "stream",
     "text": [
      "📰 뉴스 본문 크롤링 진행:  38%|███▊      | 55/143 [03:26<06:20,  4.32s/it]"
     ]
    },
    {
     "name": "stdout",
     "output_type": "stream",
     "text": [
      "⚠ 본문을 가져오지 못해 Selenium으로 재시도: https://www.viva100.com/main/view.php?key=20231109010002872\n",
      "✅ 크롤링 완료: 체코 트레비치 대표단 경북 경주시 방문...\n"
     ]
    },
    {
     "name": "stderr",
     "output_type": "stream",
     "text": [
      "📰 뉴스 본문 크롤링 진행:  39%|███▉      | 56/143 [03:31<06:24,  4.42s/it]"
     ]
    },
    {
     "name": "stdout",
     "output_type": "stream",
     "text": [
      "⚠ 본문을 가져오지 못해 Selenium으로 재시도: https://www.businesspost.co.kr/BP?command=article_view&num=332017\n",
      "✅ 크롤링 완료: 대우건설 중앙아시아 개척 본격화, 정원주 해외사업 키워 '100년 기업' 밑......\n"
     ]
    },
    {
     "name": "stderr",
     "output_type": "stream",
     "text": [
      "📰 뉴스 본문 크롤링 진행:  40%|███▉      | 57/143 [03:35<06:22,  4.45s/it]"
     ]
    },
    {
     "name": "stdout",
     "output_type": "stream",
     "text": [
      "⚠ 본문을 가져오지 못해 Selenium으로 재시도: http://www.g-enews.com/ko-kr/news/article/news_all/2023102407362932536b49b9d1da_1/article.html\n",
      "✅ 크롤링 완료: ﻿美 웨스팅하우스, 법원의 한수원 상대 소송 각하 판결에 항소...\n"
     ]
    },
    {
     "name": "stderr",
     "output_type": "stream",
     "text": [
      "📰 뉴스 본문 크롤링 진행:  41%|████      | 58/143 [03:40<06:27,  4.55s/it]"
     ]
    },
    {
     "name": "stdout",
     "output_type": "stream",
     "text": [
      "✅ 크롤링 완료: “두산에너빌리티, 한수원의 루마니아 수주 수혜”...\n"
     ]
    },
    {
     "name": "stderr",
     "output_type": "stream",
     "text": [
      "📰 뉴스 본문 크롤링 진행:  41%|████▏     | 59/143 [03:41<04:56,  3.53s/it]"
     ]
    },
    {
     "name": "stdout",
     "output_type": "stream",
     "text": [
      "⚠ 본문을 가져오지 못해 Selenium으로 재시도: http://www.edaily.co.kr/news/newspath.asp?newsid=01439926635773904\n",
      "✅ 크롤링 완료: 두산에너빌리티, 회계처리 논란에도 중장기 수주 확대 기대-NH...\n"
     ]
    },
    {
     "name": "stderr",
     "output_type": "stream",
     "text": [
      "📰 뉴스 본문 크롤링 진행:  42%|████▏     | 60/143 [03:46<05:26,  3.93s/it]"
     ]
    },
    {
     "name": "stdout",
     "output_type": "stream",
     "text": [
      "⚠ 본문을 가져오지 못해 Selenium으로 재시도: https://www.thebell.co.kr/free/content/ArticleView.asp?key=202311211551142280102741\n",
      "✅ 크롤링 완료: [더벨]현대건설, 우크라이나·폴란드 지사 설립 '가시화'...\n"
     ]
    },
    {
     "name": "stderr",
     "output_type": "stream",
     "text": [
      "📰 뉴스 본문 크롤링 진행:  43%|████▎     | 61/143 [03:50<05:15,  3.85s/it]"
     ]
    },
    {
     "name": "stdout",
     "output_type": "stream",
     "text": [
      "✅ 크롤링 완료: 건설업계, 원자력 해외수주 '올인'…유럽·북미로 보폭 확대...\n"
     ]
    },
    {
     "name": "stderr",
     "output_type": "stream",
     "text": [
      "📰 뉴스 본문 크롤링 진행:  43%|████▎     | 62/143 [03:51<04:04,  3.02s/it]"
     ]
    },
    {
     "name": "stdout",
     "output_type": "stream",
     "text": [
      "⚠ 본문을 가져오지 못해 Selenium으로 재시도: http://www.skyedaily.com/news/news_view.html?ID=209257\n",
      "✅ 크롤링 완료: [사설] 윤석열정부의 ‘탈원전 폐기 정책’ 세계가 인정...\n"
     ]
    },
    {
     "name": "stderr",
     "output_type": "stream",
     "text": [
      "📰 뉴스 본문 크롤링 진행:  44%|████▍     | 63/143 [03:55<04:27,  3.35s/it]"
     ]
    },
    {
     "name": "stdout",
     "output_type": "stream",
     "text": [
      "⚠ 본문을 가져오지 못해 Selenium으로 재시도: https://www.munhwa.com/news/view.html?no=2023112901033805017001\n",
      "✅ 크롤링 완료: 망국적 ‘탈원전 시즌2’ 폭주[뉴스와 시각]...\n"
     ]
    },
    {
     "name": "stderr",
     "output_type": "stream",
     "text": [
      "📰 뉴스 본문 크롤링 진행:  45%|████▍     | 64/143 [03:59<04:49,  3.67s/it]"
     ]
    },
    {
     "name": "stdout",
     "output_type": "stream",
     "text": [
      "⚠ 본문을 가져오지 못해 Selenium으로 재시도: https://www.nocutnews.co.kr/news/6043723\n",
      "✅ 크롤링 완료: 경주 찾은 체코 트레비치시 \"APEC 정상회의 개최 응원\"...\n"
     ]
    },
    {
     "name": "stderr",
     "output_type": "stream",
     "text": [
      "📰 뉴스 본문 크롤링 진행:  45%|████▌     | 65/143 [04:04<05:18,  4.08s/it]"
     ]
    },
    {
     "name": "stdout",
     "output_type": "stream",
     "text": [
      "⚠ 본문을 가져오지 못해 Selenium으로 재시도: https://www.viva100.com/main/view.php?key=20231109010002872\n",
      "✅ 크롤링 완료: 체코 트레비치 대표단 경북 경주시 방문...\n"
     ]
    },
    {
     "name": "stderr",
     "output_type": "stream",
     "text": [
      "📰 뉴스 본문 크롤링 진행:  46%|████▌     | 66/143 [04:09<05:22,  4.19s/it]"
     ]
    },
    {
     "name": "stdout",
     "output_type": "stream",
     "text": [
      "⚠ 본문을 가져오지 못해 Selenium으로 재시도: https://www.businesspost.co.kr/BP?command=article_view&num=332017\n",
      "✅ 크롤링 완료: 대우건설 중앙아시아 개척 본격화, 정원주 해외사업 키워 '100년 기업' 밑......\n"
     ]
    },
    {
     "name": "stderr",
     "output_type": "stream",
     "text": [
      "📰 뉴스 본문 크롤링 진행:  47%|████▋     | 67/143 [04:13<05:11,  4.10s/it]"
     ]
    },
    {
     "name": "stdout",
     "output_type": "stream",
     "text": [
      "⚠ 본문을 가져오지 못해 Selenium으로 재시도: http://www.g-enews.com/ko-kr/news/article/news_all/2023102407362932536b49b9d1da_1/article.html\n",
      "✅ 크롤링 완료: ﻿美 웨스팅하우스, 법원의 한수원 상대 소송 각하 판결에 항소...\n"
     ]
    },
    {
     "name": "stderr",
     "output_type": "stream",
     "text": [
      "📰 뉴스 본문 크롤링 진행:  48%|████▊     | 68/143 [04:17<05:23,  4.31s/it]"
     ]
    },
    {
     "name": "stdout",
     "output_type": "stream",
     "text": [
      "✅ 크롤링 완료: “두산에너빌리티, 한수원의 루마니아 수주 수혜”...\n"
     ]
    },
    {
     "name": "stderr",
     "output_type": "stream",
     "text": [
      "📰 뉴스 본문 크롤링 진행:  48%|████▊     | 69/143 [04:19<04:10,  3.38s/it]"
     ]
    },
    {
     "name": "stdout",
     "output_type": "stream",
     "text": [
      "⚠ 본문을 가져오지 못해 Selenium으로 재시도: http://www.edaily.co.kr/news/newspath.asp?newsid=01439926635773904\n",
      "✅ 크롤링 완료: 두산에너빌리티, 회계처리 논란에도 중장기 수주 확대 기대-NH...\n"
     ]
    },
    {
     "name": "stderr",
     "output_type": "stream",
     "text": [
      "📰 뉴스 본문 크롤링 진행:  49%|████▉     | 70/143 [04:24<04:44,  3.90s/it]"
     ]
    },
    {
     "name": "stdout",
     "output_type": "stream",
     "text": [
      "⚠ 본문을 가져오지 못해 Selenium으로 재시도: https://www.thebell.co.kr/free/content/ArticleView.asp?key=202311211551142280102741\n",
      "✅ 크롤링 완료: [더벨]현대건설, 우크라이나·폴란드 지사 설립 '가시화'...\n"
     ]
    },
    {
     "name": "stderr",
     "output_type": "stream",
     "text": [
      "📰 뉴스 본문 크롤링 진행:  50%|████▉     | 71/143 [04:27<04:33,  3.80s/it]"
     ]
    },
    {
     "name": "stdout",
     "output_type": "stream",
     "text": [
      "✅ 크롤링 완료: 건설업계, 원자력 해외수주 '올인'…유럽·북미로 보폭 확대...\n"
     ]
    },
    {
     "name": "stderr",
     "output_type": "stream",
     "text": [
      "📰 뉴스 본문 크롤링 진행:  50%|█████     | 72/143 [04:28<03:33,  3.00s/it]"
     ]
    },
    {
     "name": "stdout",
     "output_type": "stream",
     "text": [
      "⚠ 본문을 가져오지 못해 Selenium으로 재시도: http://www.skyedaily.com/news/news_view.html?ID=209257\n",
      "✅ 크롤링 완료: [사설] 윤석열정부의 ‘탈원전 폐기 정책’ 세계가 인정...\n"
     ]
    },
    {
     "name": "stderr",
     "output_type": "stream",
     "text": [
      "📰 뉴스 본문 크롤링 진행:  51%|█████     | 73/143 [04:33<03:59,  3.43s/it]"
     ]
    },
    {
     "name": "stdout",
     "output_type": "stream",
     "text": [
      "⚠ 본문을 가져오지 못해 Selenium으로 재시도: https://www.munhwa.com/news/view.html?no=2023112901033805017001\n",
      "✅ 크롤링 완료: 망국적 ‘탈원전 시즌2’ 폭주[뉴스와 시각]...\n"
     ]
    },
    {
     "name": "stderr",
     "output_type": "stream",
     "text": [
      "📰 뉴스 본문 크롤링 진행:  52%|█████▏    | 74/143 [04:37<04:11,  3.65s/it]"
     ]
    },
    {
     "name": "stdout",
     "output_type": "stream",
     "text": [
      "⚠ 본문을 가져오지 못해 Selenium으로 재시도: https://www.nocutnews.co.kr/news/6043723\n",
      "✅ 크롤링 완료: 경주 찾은 체코 트레비치시 \"APEC 정상회의 개최 응원\"...\n"
     ]
    },
    {
     "name": "stderr",
     "output_type": "stream",
     "text": [
      "📰 뉴스 본문 크롤링 진행:  52%|█████▏    | 75/143 [04:42<04:32,  4.00s/it]"
     ]
    },
    {
     "name": "stdout",
     "output_type": "stream",
     "text": [
      "⚠ 본문을 가져오지 못해 Selenium으로 재시도: https://www.viva100.com/main/view.php?key=20231109010002872\n",
      "✅ 크롤링 완료: 체코 트레비치 대표단 경북 경주시 방문...\n"
     ]
    },
    {
     "name": "stderr",
     "output_type": "stream",
     "text": [
      "📰 뉴스 본문 크롤링 진행:  53%|█████▎    | 76/143 [04:46<04:37,  4.14s/it]"
     ]
    },
    {
     "name": "stdout",
     "output_type": "stream",
     "text": [
      "⚠ 본문을 가져오지 못해 Selenium으로 재시도: https://www.businesspost.co.kr/BP?command=article_view&num=332017\n",
      "✅ 크롤링 완료: 대우건설 중앙아시아 개척 본격화, 정원주 해외사업 키워 '100년 기업' 밑......\n"
     ]
    },
    {
     "name": "stderr",
     "output_type": "stream",
     "text": [
      "📰 뉴스 본문 크롤링 진행:  54%|█████▍    | 77/143 [04:50<04:27,  4.06s/it]"
     ]
    },
    {
     "name": "stdout",
     "output_type": "stream",
     "text": [
      "⚠ 본문을 가져오지 못해 Selenium으로 재시도: http://www.g-enews.com/ko-kr/news/article/news_all/2023102407362932536b49b9d1da_1/article.html\n",
      "✅ 크롤링 완료: ﻿美 웨스팅하우스, 법원의 한수원 상대 소송 각하 판결에 항소...\n"
     ]
    },
    {
     "name": "stderr",
     "output_type": "stream",
     "text": [
      "📰 뉴스 본문 크롤링 진행:  55%|█████▍    | 78/143 [04:55<04:29,  4.15s/it]"
     ]
    },
    {
     "name": "stdout",
     "output_type": "stream",
     "text": [
      "✅ 크롤링 완료: “두산에너빌리티, 한수원의 루마니아 수주 수혜”...\n"
     ]
    },
    {
     "name": "stderr",
     "output_type": "stream",
     "text": [
      "📰 뉴스 본문 크롤링 진행:  55%|█████▌    | 79/143 [04:56<03:27,  3.25s/it]"
     ]
    },
    {
     "name": "stdout",
     "output_type": "stream",
     "text": [
      "⚠ 본문을 가져오지 못해 Selenium으로 재시도: http://www.edaily.co.kr/news/newspath.asp?newsid=01439926635773904\n",
      "✅ 크롤링 완료: 두산에너빌리티, 회계처리 논란에도 중장기 수주 확대 기대-NH...\n"
     ]
    },
    {
     "name": "stderr",
     "output_type": "stream",
     "text": [
      "📰 뉴스 본문 크롤링 진행:  56%|█████▌    | 80/143 [05:01<03:54,  3.72s/it]"
     ]
    },
    {
     "name": "stdout",
     "output_type": "stream",
     "text": [
      "⚠ 본문을 가져오지 못해 Selenium으로 재시도: https://www.thebell.co.kr/free/content/ArticleView.asp?key=202311211551142280102741\n",
      "✅ 크롤링 완료: [더벨]현대건설, 우크라이나·폴란드 지사 설립 '가시화'...\n"
     ]
    },
    {
     "name": "stderr",
     "output_type": "stream",
     "text": [
      "📰 뉴스 본문 크롤링 진행:  57%|█████▋    | 81/143 [05:04<03:47,  3.67s/it]"
     ]
    },
    {
     "name": "stdout",
     "output_type": "stream",
     "text": [
      "✅ 크롤링 완료: 건설업계, 원자력 해외수주 '올인'…유럽·북미로 보폭 확대...\n"
     ]
    },
    {
     "name": "stderr",
     "output_type": "stream",
     "text": [
      "📰 뉴스 본문 크롤링 진행:  57%|█████▋    | 82/143 [05:05<02:56,  2.90s/it]"
     ]
    },
    {
     "name": "stdout",
     "output_type": "stream",
     "text": [
      "⚠ 본문을 가져오지 못해 Selenium으로 재시도: http://www.skyedaily.com/news/news_view.html?ID=209257\n",
      "✅ 크롤링 완료: [사설] 윤석열정부의 ‘탈원전 폐기 정책’ 세계가 인정...\n"
     ]
    },
    {
     "name": "stderr",
     "output_type": "stream",
     "text": [
      "📰 뉴스 본문 크롤링 진행:  58%|█████▊    | 83/143 [05:09<03:13,  3.22s/it]"
     ]
    },
    {
     "name": "stdout",
     "output_type": "stream",
     "text": [
      "⚠ 본문을 가져오지 못해 Selenium으로 재시도: https://www.munhwa.com/news/view.html?no=2023112901033805017001\n",
      "✅ 크롤링 완료: 망국적 ‘탈원전 시즌2’ 폭주[뉴스와 시각]...\n"
     ]
    },
    {
     "name": "stderr",
     "output_type": "stream",
     "text": [
      "📰 뉴스 본문 크롤링 진행:  59%|█████▊    | 84/143 [05:14<03:46,  3.83s/it]"
     ]
    },
    {
     "name": "stdout",
     "output_type": "stream",
     "text": [
      "⚠ 본문을 가져오지 못해 Selenium으로 재시도: https://www.nocutnews.co.kr/news/6043723\n",
      "✅ 크롤링 완료: 경주 찾은 체코 트레비치시 \"APEC 정상회의 개최 응원\"...\n"
     ]
    },
    {
     "name": "stderr",
     "output_type": "stream",
     "text": [
      "📰 뉴스 본문 크롤링 진행:  59%|█████▉    | 85/143 [05:19<03:57,  4.09s/it]"
     ]
    },
    {
     "name": "stdout",
     "output_type": "stream",
     "text": [
      "⚠ 본문을 가져오지 못해 Selenium으로 재시도: https://www.viva100.com/main/view.php?key=20231109010002872\n",
      "✅ 크롤링 완료: 체코 트레비치 대표단 경북 경주시 방문...\n"
     ]
    },
    {
     "name": "stderr",
     "output_type": "stream",
     "text": [
      "📰 뉴스 본문 크롤링 진행:  60%|██████    | 86/143 [05:23<03:56,  4.14s/it]"
     ]
    },
    {
     "name": "stdout",
     "output_type": "stream",
     "text": [
      "⚠ 본문을 가져오지 못해 Selenium으로 재시도: https://www.businesspost.co.kr/BP?command=article_view&num=332017\n",
      "✅ 크롤링 완료: 대우건설 중앙아시아 개척 본격화, 정원주 해외사업 키워 '100년 기업' 밑......\n"
     ]
    },
    {
     "name": "stderr",
     "output_type": "stream",
     "text": [
      "📰 뉴스 본문 크롤링 진행:  61%|██████    | 87/143 [05:28<03:55,  4.20s/it]"
     ]
    },
    {
     "name": "stdout",
     "output_type": "stream",
     "text": [
      "⚠ 본문을 가져오지 못해 Selenium으로 재시도: http://www.g-enews.com/ko-kr/news/article/news_all/2023102407362932536b49b9d1da_1/article.html\n",
      "✅ 크롤링 완료: ﻿美 웨스팅하우스, 법원의 한수원 상대 소송 각하 판결에 항소...\n"
     ]
    },
    {
     "name": "stderr",
     "output_type": "stream",
     "text": [
      "📰 뉴스 본문 크롤링 진행:  62%|██████▏   | 88/143 [05:33<04:02,  4.41s/it]"
     ]
    },
    {
     "name": "stdout",
     "output_type": "stream",
     "text": [
      "✅ 크롤링 완료: “두산에너빌리티, 한수원의 루마니아 수주 수혜”...\n"
     ]
    },
    {
     "name": "stderr",
     "output_type": "stream",
     "text": [
      "📰 뉴스 본문 크롤링 진행:  62%|██████▏   | 89/143 [05:34<03:05,  3.43s/it]"
     ]
    },
    {
     "name": "stdout",
     "output_type": "stream",
     "text": [
      "⚠ 본문을 가져오지 못해 Selenium으로 재시도: http://www.edaily.co.kr/news/newspath.asp?newsid=01439926635773904\n",
      "✅ 크롤링 완료: 두산에너빌리티, 회계처리 논란에도 중장기 수주 확대 기대-NH...\n"
     ]
    },
    {
     "name": "stderr",
     "output_type": "stream",
     "text": [
      "📰 뉴스 본문 크롤링 진행:  63%|██████▎   | 90/143 [05:39<03:23,  3.85s/it]"
     ]
    },
    {
     "name": "stdout",
     "output_type": "stream",
     "text": [
      "⚠ 본문을 가져오지 못해 Selenium으로 재시도: https://www.thebell.co.kr/free/content/ArticleView.asp?key=202311211551142280102741\n",
      "✅ 크롤링 완료: [더벨]현대건설, 우크라이나·폴란드 지사 설립 '가시화'...\n"
     ]
    },
    {
     "name": "stderr",
     "output_type": "stream",
     "text": [
      "📰 뉴스 본문 크롤링 진행:  64%|██████▎   | 91/143 [05:42<03:18,  3.81s/it]"
     ]
    },
    {
     "name": "stdout",
     "output_type": "stream",
     "text": [
      "✅ 크롤링 완료: 건설업계, 원자력 해외수주 '올인'…유럽·북미로 보폭 확대...\n"
     ]
    },
    {
     "name": "stderr",
     "output_type": "stream",
     "text": [
      "📰 뉴스 본문 크롤링 진행:  64%|██████▍   | 92/143 [05:43<02:32,  2.99s/it]"
     ]
    },
    {
     "name": "stdout",
     "output_type": "stream",
     "text": [
      "⚠ 본문을 가져오지 못해 Selenium으로 재시도: http://www.skyedaily.com/news/news_view.html?ID=209257\n",
      "✅ 크롤링 완료: [사설] 윤석열정부의 ‘탈원전 폐기 정책’ 세계가 인정...\n"
     ]
    },
    {
     "name": "stderr",
     "output_type": "stream",
     "text": [
      "📰 뉴스 본문 크롤링 진행:  65%|██████▌   | 93/143 [05:47<02:44,  3.30s/it]"
     ]
    },
    {
     "name": "stdout",
     "output_type": "stream",
     "text": [
      "⚠ 본문을 가져오지 못해 Selenium으로 재시도: https://www.munhwa.com/news/view.html?no=2023112901033805017001\n",
      "✅ 크롤링 완료: 망국적 ‘탈원전 시즌2’ 폭주[뉴스와 시각]...\n"
     ]
    },
    {
     "name": "stderr",
     "output_type": "stream",
     "text": [
      "📰 뉴스 본문 크롤링 진행:  66%|██████▌   | 94/143 [05:52<03:02,  3.72s/it]"
     ]
    },
    {
     "name": "stdout",
     "output_type": "stream",
     "text": [
      "⚠ 본문을 가져오지 못해 Selenium으로 재시도: https://www.nocutnews.co.kr/news/6043723\n",
      "✅ 크롤링 완료: 경주 찾은 체코 트레비치시 \"APEC 정상회의 개최 응원\"...\n"
     ]
    },
    {
     "name": "stderr",
     "output_type": "stream",
     "text": [
      "📰 뉴스 본문 크롤링 진행:  66%|██████▋   | 95/143 [05:57<03:14,  4.05s/it]"
     ]
    },
    {
     "name": "stdout",
     "output_type": "stream",
     "text": [
      "⚠ 본문을 가져오지 못해 Selenium으로 재시도: https://www.viva100.com/main/view.php?key=20231109010002872\n",
      "✅ 크롤링 완료: 체코 트레비치 대표단 경북 경주시 방문...\n"
     ]
    },
    {
     "name": "stderr",
     "output_type": "stream",
     "text": [
      "📰 뉴스 본문 크롤링 진행:  67%|██████▋   | 96/143 [06:01<03:15,  4.15s/it]"
     ]
    },
    {
     "name": "stdout",
     "output_type": "stream",
     "text": [
      "⚠ 본문을 가져오지 못해 Selenium으로 재시도: https://www.businesspost.co.kr/BP?command=article_view&num=332017\n",
      "✅ 크롤링 완료: 대우건설 중앙아시아 개척 본격화, 정원주 해외사업 키워 '100년 기업' 밑......\n"
     ]
    },
    {
     "name": "stderr",
     "output_type": "stream",
     "text": [
      "📰 뉴스 본문 크롤링 진행:  68%|██████▊   | 97/143 [06:06<03:13,  4.20s/it]"
     ]
    },
    {
     "name": "stdout",
     "output_type": "stream",
     "text": [
      "⚠ 본문을 가져오지 못해 Selenium으로 재시도: http://www.g-enews.com/ko-kr/news/article/news_all/2023102407362932536b49b9d1da_1/article.html\n",
      "✅ 크롤링 완료: ﻿美 웨스팅하우스, 법원의 한수원 상대 소송 각하 판결에 항소...\n"
     ]
    },
    {
     "name": "stderr",
     "output_type": "stream",
     "text": [
      "📰 뉴스 본문 크롤링 진행:  69%|██████▊   | 98/143 [06:10<03:16,  4.36s/it]"
     ]
    },
    {
     "name": "stdout",
     "output_type": "stream",
     "text": [
      "✅ 크롤링 완료: “두산에너빌리티, 한수원의 루마니아 수주 수혜”...\n"
     ]
    },
    {
     "name": "stderr",
     "output_type": "stream",
     "text": [
      "📰 뉴스 본문 크롤링 진행:  69%|██████▉   | 99/143 [06:12<02:29,  3.39s/it]"
     ]
    },
    {
     "name": "stdout",
     "output_type": "stream",
     "text": [
      "⚠ 본문을 가져오지 못해 Selenium으로 재시도: http://www.edaily.co.kr/news/newspath.asp?newsid=01439926635773904\n",
      "✅ 크롤링 완료: 두산에너빌리티, 회계처리 논란에도 중장기 수주 확대 기대-NH...\n"
     ]
    },
    {
     "name": "stderr",
     "output_type": "stream",
     "text": [
      "📰 뉴스 본문 크롤링 진행:  70%|██████▉   | 100/143 [06:16<02:44,  3.83s/it]"
     ]
    },
    {
     "name": "stdout",
     "output_type": "stream",
     "text": [
      "✅ 크롤링 완료: 한국수력원자력, 체코 신규원전 사업 최종입찰서 제출...\n"
     ]
    },
    {
     "name": "stderr",
     "output_type": "stream",
     "text": [
      "📰 뉴스 본문 크롤링 진행:  71%|███████   | 101/143 [06:18<02:08,  3.05s/it]"
     ]
    },
    {
     "name": "stdout",
     "output_type": "stream",
     "text": [
      "✅ 크롤링 완료: 한수원, 체코 신규 원전 최종입찰서 제출…\"내년 말 계약체결 목표\"...\n"
     ]
    },
    {
     "name": "stderr",
     "output_type": "stream",
     "text": [
      "📰 뉴스 본문 크롤링 진행:  71%|███████▏  | 102/143 [06:19<01:41,  2.48s/it]"
     ]
    },
    {
     "name": "stdout",
     "output_type": "stream",
     "text": [
      "⚠ 본문을 가져오지 못해 Selenium으로 재시도: https://www.mediapen.com/news/view/862918\n",
      "✅ 크롤링 완료: 탈원전 폐기 후 살아나는 원전 경쟁력…유럽 수주·SMR 활성화...\n"
     ]
    },
    {
     "name": "stderr",
     "output_type": "stream",
     "text": [
      "📰 뉴스 본문 크롤링 진행:  72%|███████▏  | 103/143 [06:24<02:11,  3.29s/it]"
     ]
    },
    {
     "name": "stdout",
     "output_type": "stream",
     "text": [
      "✅ 크롤링 완료: ‘尹 정부 핵심과제 원전수출’ 담당조직, 1년마다 간판 새로 달아야 살......\n"
     ]
    },
    {
     "name": "stderr",
     "output_type": "stream",
     "text": [
      "📰 뉴스 본문 크롤링 진행:  73%|███████▎  | 104/143 [06:26<01:49,  2.80s/it]"
     ]
    },
    {
     "name": "stdout",
     "output_type": "stream",
     "text": [
      "✅ 크롤링 완료: 루마니아 중수로도 뚫었다…국내 원전 생태계 복원 ‘가속’...\n"
     ]
    },
    {
     "name": "stderr",
     "output_type": "stream",
     "text": [
      "📰 뉴스 본문 크롤링 진행:  73%|███████▎  | 105/143 [06:27<01:29,  2.36s/it]"
     ]
    },
    {
     "name": "stdout",
     "output_type": "stream",
     "text": [
      "✅ 크롤링 완료: 설비 수출로 뻗어나간 K원전…유럽 신규원전 '수주 잭폿'도 기대...\n"
     ]
    },
    {
     "name": "stderr",
     "output_type": "stream",
     "text": [
      "📰 뉴스 본문 크롤링 진행:  74%|███████▍  | 106/143 [06:28<01:15,  2.03s/it]"
     ]
    },
    {
     "name": "stdout",
     "output_type": "stream",
     "text": [
      "⚠ 본문을 가져오지 못해 Selenium으로 재시도: https://www.businesspost.co.kr/BP?command=article_view&num=336327\n",
      "✅ 크롤링 완료: 해외건설 수주 4년째 300억 달러 돌파, 목표 '350억 달러'는 끝까지 가봐......\n"
     ]
    },
    {
     "name": "stderr",
     "output_type": "stream",
     "text": [
      "📰 뉴스 본문 크롤링 진행:  75%|███████▍  | 107/143 [06:32<01:37,  2.71s/it]"
     ]
    },
    {
     "name": "stdout",
     "output_type": "stream",
     "text": [
      "✅ 크롤링 완료: [경주24시] 8조원대 '큰 손' 체코 트레비치시 대표단, 경주 방문...\n"
     ]
    },
    {
     "name": "stderr",
     "output_type": "stream",
     "text": [
      "📰 뉴스 본문 크롤링 진행:  76%|███████▌  | 108/143 [06:34<01:22,  2.36s/it]"
     ]
    },
    {
     "name": "stdout",
     "output_type": "stream",
     "text": [
      "✅ 크롤링 완료: [경주소식] 체코 트레비치시 파벨 파찰 시장 \"APEC 정상회의 개최 응원\"......\n"
     ]
    },
    {
     "name": "stderr",
     "output_type": "stream",
     "text": [
      "📰 뉴스 본문 크롤링 진행:  76%|███████▌  | 109/143 [06:35<01:09,  2.05s/it]"
     ]
    },
    {
     "name": "stdout",
     "output_type": "stream",
     "text": [
      "⚠ 본문을 가져오지 못해 Selenium으로 재시도: http://www.g-enews.com/ko-kr/news/article/news_all/202311010531404718e8b8a793f7_1/article.html\n",
      "✅ 크롤링 완료: [모닝픽] 화신, 조지아에 전기차 섀시 부품 공장 설립...\n"
     ]
    },
    {
     "name": "stderr",
     "output_type": "stream",
     "text": [
      "📰 뉴스 본문 크롤링 진행:  77%|███████▋  | 110/143 [06:40<01:36,  2.91s/it]"
     ]
    },
    {
     "name": "stdout",
     "output_type": "stream",
     "text": [
      "✅ 크롤링 완료: 1년 새 2번 간판 바꾼 원전수출과...\n"
     ]
    },
    {
     "name": "stderr",
     "output_type": "stream",
     "text": [
      "📰 뉴스 본문 크롤링 진행:  78%|███████▊  | 111/143 [06:42<01:19,  2.49s/it]"
     ]
    },
    {
     "name": "stdout",
     "output_type": "stream",
     "text": [
      "⚠ 본문을 가져오지 못해 Selenium으로 재시도: https://www.dnews.co.kr/uhtml/view.jsp?idxno=202310131555098890755\n",
      "✅ 크롤링 완료: K-원전 수출 청신호…폴란드·체코 등 신규 수주 기대감...\n"
     ]
    },
    {
     "name": "stderr",
     "output_type": "stream",
     "text": [
      "📰 뉴스 본문 크롤링 진행:  78%|███████▊  | 112/143 [06:47<01:39,  3.20s/it]"
     ]
    },
    {
     "name": "stdout",
     "output_type": "stream",
     "text": [
      "✅ 크롤링 완료: 루마니아 중수로도 뚫었다…국내 원전 생태계 복원 ‘가속’...\n"
     ]
    },
    {
     "name": "stderr",
     "output_type": "stream",
     "text": [
      "📰 뉴스 본문 크롤링 진행:  79%|███████▉  | 113/143 [06:48<01:18,  2.61s/it]"
     ]
    },
    {
     "name": "stdout",
     "output_type": "stream",
     "text": [
      "✅ 크롤링 완료: 설비 수출로 뻗어나간 K원전…유럽 신규원전 '수주 잭폿'도 기대...\n"
     ]
    },
    {
     "name": "stderr",
     "output_type": "stream",
     "text": [
      "📰 뉴스 본문 크롤링 진행:  80%|███████▉  | 114/143 [06:49<01:03,  2.17s/it]"
     ]
    },
    {
     "name": "stdout",
     "output_type": "stream",
     "text": [
      "⚠ 본문을 가져오지 못해 Selenium으로 재시도: https://www.businesspost.co.kr/BP?command=article_view&num=336327\n",
      "✅ 크롤링 완료: 해외건설 수주 4년째 300억 달러 돌파, 목표 '350억 달러'는 끝까지 가봐......\n"
     ]
    },
    {
     "name": "stderr",
     "output_type": "stream",
     "text": [
      "📰 뉴스 본문 크롤링 진행:  80%|████████  | 115/143 [06:53<01:18,  2.79s/it]"
     ]
    },
    {
     "name": "stdout",
     "output_type": "stream",
     "text": [
      "✅ 크롤링 완료: [경주24시] 8조원대 '큰 손' 체코 트레비치시 대표단, 경주 방문...\n"
     ]
    },
    {
     "name": "stderr",
     "output_type": "stream",
     "text": [
      "📰 뉴스 본문 크롤링 진행:  81%|████████  | 116/143 [06:55<01:03,  2.35s/it]"
     ]
    },
    {
     "name": "stdout",
     "output_type": "stream",
     "text": [
      "✅ 크롤링 완료: [경주소식] 체코 트레비치시 파벨 파찰 시장 \"APEC 정상회의 개최 응원\"......\n"
     ]
    },
    {
     "name": "stderr",
     "output_type": "stream",
     "text": [
      "📰 뉴스 본문 크롤링 진행:  82%|████████▏ | 117/143 [06:56<00:52,  2.01s/it]"
     ]
    },
    {
     "name": "stdout",
     "output_type": "stream",
     "text": [
      "⚠ 본문을 가져오지 못해 Selenium으로 재시도: http://www.g-enews.com/ko-kr/news/article/news_all/202311010531404718e8b8a793f7_1/article.html\n",
      "✅ 크롤링 완료: [모닝픽] 화신, 조지아에 전기차 섀시 부품 공장 설립...\n"
     ]
    },
    {
     "name": "stderr",
     "output_type": "stream",
     "text": [
      "📰 뉴스 본문 크롤링 진행:  83%|████████▎ | 118/143 [07:00<01:09,  2.80s/it]"
     ]
    },
    {
     "name": "stdout",
     "output_type": "stream",
     "text": [
      "⚠ 본문을 가져오지 못해 Selenium으로 재시도: https://www.mk.co.kr/article/10881199\n",
      "✅ 크롤링 완료: 한국수력원자력, Net Zero 시대를 선도하는 글로벌 에너지 리더...\n"
     ]
    },
    {
     "name": "stderr",
     "output_type": "stream",
     "text": [
      "📰 뉴스 본문 크롤링 진행:  83%|████████▎ | 119/143 [07:06<01:24,  3.54s/it]"
     ]
    },
    {
     "name": "stdout",
     "output_type": "stream",
     "text": [
      "⚠ 본문을 가져오지 못해 Selenium으로 재시도: https://www.thebell.co.kr/free/content/ArticleView.asp?key=202311211551142280102741\n",
      "✅ 크롤링 완료: [더벨]현대건설, 우크라이나·폴란드 지사 설립 '가시화'...\n"
     ]
    },
    {
     "name": "stderr",
     "output_type": "stream",
     "text": [
      "📰 뉴스 본문 크롤링 진행:  84%|████████▍ | 120/143 [07:09<01:22,  3.57s/it]"
     ]
    },
    {
     "name": "stdout",
     "output_type": "stream",
     "text": [
      "✅ 크롤링 완료: [경주소식] 체코 트레비치시 파벨 파찰 시장 \"APEC 정상회의 개최 응원\"......\n"
     ]
    },
    {
     "name": "stderr",
     "output_type": "stream",
     "text": [
      "📰 뉴스 본문 크롤링 진행:  85%|████████▍ | 121/143 [07:11<01:02,  2.86s/it]"
     ]
    },
    {
     "name": "stdout",
     "output_type": "stream",
     "text": [
      "⚠ 본문을 가져오지 못해 Selenium으로 재시도: http://www.g-enews.com/ko-kr/news/article/news_all/202311010531404718e8b8a793f7_1/article.html\n",
      "✅ 크롤링 완료: [모닝픽] 화신, 조지아에 전기차 섀시 부품 공장 설립...\n"
     ]
    },
    {
     "name": "stderr",
     "output_type": "stream",
     "text": [
      "📰 뉴스 본문 크롤링 진행:  85%|████████▌ | 122/143 [07:15<01:11,  3.41s/it]"
     ]
    },
    {
     "name": "stdout",
     "output_type": "stream",
     "text": [
      "⚠ 본문을 가져오지 못해 Selenium으로 재시도: https://www.mk.co.kr/article/10881199\n",
      "✅ 크롤링 완료: 한국수력원자력, Net Zero 시대를 선도하는 글로벌 에너지 리더...\n"
     ]
    },
    {
     "name": "stderr",
     "output_type": "stream",
     "text": [
      "📰 뉴스 본문 크롤링 진행:  86%|████████▌ | 123/143 [07:21<01:19,  3.97s/it]"
     ]
    },
    {
     "name": "stdout",
     "output_type": "stream",
     "text": [
      "⚠ 본문을 가져오지 못해 Selenium으로 재시도: https://www.thebell.co.kr/free/content/ArticleView.asp?key=202311211551142280102741\n",
      "✅ 크롤링 완료: [더벨]현대건설, 우크라이나·폴란드 지사 설립 '가시화'...\n"
     ]
    },
    {
     "name": "stderr",
     "output_type": "stream",
     "text": [
      "📰 뉴스 본문 크롤링 진행:  87%|████████▋ | 124/143 [07:24<01:13,  3.89s/it]"
     ]
    },
    {
     "name": "stdout",
     "output_type": "stream",
     "text": [
      "✅ 크롤링 완료: 건설업계, 원자력 해외수주 '올인'…유럽·북미로 보폭 확대...\n"
     ]
    },
    {
     "name": "stderr",
     "output_type": "stream",
     "text": [
      "📰 뉴스 본문 크롤링 진행:  87%|████████▋ | 125/143 [07:25<00:55,  3.07s/it]"
     ]
    },
    {
     "name": "stdout",
     "output_type": "stream",
     "text": [
      "⚠ 본문을 가져오지 못해 Selenium으로 재시도: http://www.skyedaily.com/news/news_view.html?ID=209257\n",
      "✅ 크롤링 완료: [사설] 윤석열정부의 ‘탈원전 폐기 정책’ 세계가 인정...\n"
     ]
    },
    {
     "name": "stderr",
     "output_type": "stream",
     "text": [
      "📰 뉴스 본문 크롤링 진행:  88%|████████▊ | 126/143 [07:30<00:57,  3.39s/it]"
     ]
    },
    {
     "name": "stdout",
     "output_type": "stream",
     "text": [
      "⚠ 본문을 가져오지 못해 Selenium으로 재시도: https://www.munhwa.com/news/view.html?no=2023112901033805017001\n",
      "✅ 크롤링 완료: 망국적 ‘탈원전 시즌2’ 폭주[뉴스와 시각]...\n"
     ]
    },
    {
     "name": "stderr",
     "output_type": "stream",
     "text": [
      "📰 뉴스 본문 크롤링 진행:  89%|████████▉ | 127/143 [07:34<00:59,  3.70s/it]"
     ]
    },
    {
     "name": "stdout",
     "output_type": "stream",
     "text": [
      "⚠ 본문을 가져오지 못해 Selenium으로 재시도: https://www.businesspost.co.kr/BP?command=article_view&num=332017\n",
      "✅ 크롤링 완료: 대우건설 중앙아시아 개척 본격화, 정원주 해외사업 키워 '100년 기업' 밑......\n"
     ]
    },
    {
     "name": "stderr",
     "output_type": "stream",
     "text": [
      "📰 뉴스 본문 크롤링 진행:  90%|████████▉ | 128/143 [07:38<00:58,  3.91s/it]"
     ]
    },
    {
     "name": "stdout",
     "output_type": "stream",
     "text": [
      "⚠ 본문을 가져오지 못해 Selenium으로 재시도: http://www.g-enews.com/ko-kr/news/article/news_all/2023102407362932536b49b9d1da_1/article.html\n",
      "✅ 크롤링 완료: ﻿美 웨스팅하우스, 법원의 한수원 상대 소송 각하 판결에 항소...\n"
     ]
    },
    {
     "name": "stderr",
     "output_type": "stream",
     "text": [
      "📰 뉴스 본문 크롤링 진행:  90%|█████████ | 129/143 [07:43<00:58,  4.15s/it]"
     ]
    },
    {
     "name": "stdout",
     "output_type": "stream",
     "text": [
      "✅ 크롤링 완료: “두산에너빌리티, 한수원의 루마니아 수주 수혜”...\n"
     ]
    },
    {
     "name": "stderr",
     "output_type": "stream",
     "text": [
      "📰 뉴스 본문 크롤링 진행:  91%|█████████ | 130/143 [07:44<00:42,  3.25s/it]"
     ]
    },
    {
     "name": "stdout",
     "output_type": "stream",
     "text": [
      "✅ 크롤링 완료: 체코 트레비치시 파벨 파찰 시장, 경주 찾아 APEC 정상회의 개최 응원...\n"
     ]
    },
    {
     "name": "stderr",
     "output_type": "stream",
     "text": [
      "📰 뉴스 본문 크롤링 진행:  92%|█████████▏| 131/143 [07:45<00:31,  2.65s/it]"
     ]
    },
    {
     "name": "stdout",
     "output_type": "stream",
     "text": [
      "⚠ 본문을 가져오지 못해 Selenium으로 재시도: http://www.g-enews.com/ko-kr/news/article/news_all/202311010531404718e8b8a793f7_1/article.html\n",
      "✅ 크롤링 완료: [모닝픽] 화신, 조지아에 전기차 섀시 부품 공장 설립...\n"
     ]
    },
    {
     "name": "stderr",
     "output_type": "stream",
     "text": [
      "📰 뉴스 본문 크롤링 진행:  92%|█████████▏| 132/143 [07:50<00:34,  3.18s/it]"
     ]
    },
    {
     "name": "stdout",
     "output_type": "stream",
     "text": [
      "⚠ 본문을 가져오지 못해 Selenium으로 재시도: https://www.mk.co.kr/article/10881199\n",
      "✅ 크롤링 완료: 한국수력원자력, Net Zero 시대를 선도하는 글로벌 에너지 리더...\n"
     ]
    },
    {
     "name": "stderr",
     "output_type": "stream",
     "text": [
      "📰 뉴스 본문 크롤링 진행:  93%|█████████▎| 133/143 [07:55<00:36,  3.64s/it]"
     ]
    },
    {
     "name": "stdout",
     "output_type": "stream",
     "text": [
      "⚠ 본문을 가져오지 못해 Selenium으로 재시도: https://www.thebell.co.kr/free/content/ArticleView.asp?key=202311211551142280102741\n",
      "✅ 크롤링 완료: [더벨]현대건설, 우크라이나·폴란드 지사 설립 '가시화'...\n"
     ]
    },
    {
     "name": "stderr",
     "output_type": "stream",
     "text": [
      "📰 뉴스 본문 크롤링 진행:  94%|█████████▎| 134/143 [07:58<00:32,  3.67s/it]"
     ]
    },
    {
     "name": "stdout",
     "output_type": "stream",
     "text": [
      "✅ 크롤링 완료: 건설업계, 원자력 해외수주 '올인'…유럽·북미로 보폭 확대...\n"
     ]
    },
    {
     "name": "stderr",
     "output_type": "stream",
     "text": [
      "📰 뉴스 본문 크롤링 진행:  94%|█████████▍| 135/143 [07:59<00:23,  2.91s/it]"
     ]
    },
    {
     "name": "stdout",
     "output_type": "stream",
     "text": [
      "⚠ 본문을 가져오지 못해 Selenium으로 재시도: http://www.skyedaily.com/news/news_view.html?ID=209257\n",
      "✅ 크롤링 완료: [사설] 윤석열정부의 ‘탈원전 폐기 정책’ 세계가 인정...\n"
     ]
    },
    {
     "name": "stderr",
     "output_type": "stream",
     "text": [
      "📰 뉴스 본문 크롤링 진행:  95%|█████████▌| 136/143 [08:04<00:22,  3.25s/it]"
     ]
    },
    {
     "name": "stdout",
     "output_type": "stream",
     "text": [
      "⚠ 본문을 가져오지 못해 Selenium으로 재시도: https://www.munhwa.com/news/view.html?no=2023112901033805017001\n",
      "✅ 크롤링 완료: 망국적 ‘탈원전 시즌2’ 폭주[뉴스와 시각]...\n"
     ]
    },
    {
     "name": "stderr",
     "output_type": "stream",
     "text": [
      "📰 뉴스 본문 크롤링 진행:  96%|█████████▌| 137/143 [08:09<00:23,  3.87s/it]"
     ]
    },
    {
     "name": "stdout",
     "output_type": "stream",
     "text": [
      "⚠ 본문을 가져오지 못해 Selenium으로 재시도: https://www.businesspost.co.kr/BP?command=article_view&num=332017\n",
      "✅ 크롤링 완료: 대우건설 중앙아시아 개척 본격화, 정원주 해외사업 키워 '100년 기업' 밑......\n"
     ]
    },
    {
     "name": "stderr",
     "output_type": "stream",
     "text": [
      "📰 뉴스 본문 크롤링 진행:  97%|█████████▋| 138/143 [08:13<00:20,  4.01s/it]"
     ]
    },
    {
     "name": "stdout",
     "output_type": "stream",
     "text": [
      "⚠ 본문을 가져오지 못해 Selenium으로 재시도: http://www.g-enews.com/ko-kr/news/article/news_all/2023102407362932536b49b9d1da_1/article.html\n",
      "✅ 크롤링 완료: ﻿美 웨스팅하우스, 법원의 한수원 상대 소송 각하 판결에 항소...\n"
     ]
    },
    {
     "name": "stderr",
     "output_type": "stream",
     "text": [
      "📰 뉴스 본문 크롤링 진행:  97%|█████████▋| 139/143 [08:18<00:16,  4.17s/it]"
     ]
    },
    {
     "name": "stdout",
     "output_type": "stream",
     "text": [
      "✅ 크롤링 완료: “두산에너빌리티, 한수원의 루마니아 수주 수혜”...\n"
     ]
    },
    {
     "name": "stderr",
     "output_type": "stream",
     "text": [
      "📰 뉴스 본문 크롤링 진행:  98%|█████████▊| 140/143 [08:19<00:09,  3.27s/it]"
     ]
    },
    {
     "name": "stdout",
     "output_type": "stream",
     "text": [
      "⚠ 본문을 가져오지 못해 Selenium으로 재시도: http://www.g-enews.com/ko-kr/news/article/news_all/2023102407362932536b49b9d1da_1/article.html\n",
      "✅ 크롤링 완료: ﻿美 웨스팅하우스, 법원의 한수원 상대 소송 각하 판결에 항소...\n"
     ]
    },
    {
     "name": "stderr",
     "output_type": "stream",
     "text": [
      "📰 뉴스 본문 크롤링 진행:  99%|█████████▊| 141/143 [08:23<00:07,  3.63s/it]"
     ]
    },
    {
     "name": "stdout",
     "output_type": "stream",
     "text": [
      "✅ 크롤링 완료: “두산에너빌리티, 한수원의 루마니아 수주 수혜”...\n"
     ]
    },
    {
     "name": "stderr",
     "output_type": "stream",
     "text": [
      "📰 뉴스 본문 크롤링 진행:  99%|█████████▉| 142/143 [08:25<00:02,  2.90s/it]"
     ]
    },
    {
     "name": "stdout",
     "output_type": "stream",
     "text": [
      "⚠ 본문을 가져오지 못해 Selenium으로 재시도: http://www.edaily.co.kr/news/newspath.asp?newsid=01439926635773904\n",
      "✅ 크롤링 완료: 두산에너빌리티, 회계처리 논란에도 중장기 수주 확대 기대-NH...\n"
     ]
    },
    {
     "name": "stderr",
     "output_type": "stream",
     "text": [
      "📰 뉴스 본문 크롤링 진행: 100%|██████████| 143/143 [08:30<00:00,  3.57s/it]\n"
     ]
    },
    {
     "name": "stdout",
     "output_type": "stream",
     "text": [
      "🔍 검색 중: 두코바니 원전 (2024.01.01 ~ 2024.03.31)\n",
      "✅ 167개의 뉴스 기사 링크 및 날짜를 수집 완료! (2024.01.01 ~ 2024.03.31)\n"
     ]
    },
    {
     "name": "stderr",
     "output_type": "stream",
     "text": [
      "📰 뉴스 본문 크롤링 진행:   0%|          | 0/167 [00:00<?, ?it/s]"
     ]
    },
    {
     "name": "stdout",
     "output_type": "stream",
     "text": [
      "✅ 크롤링 완료: 우수한 운영 실적으로 글로벌 원전 시장서 경쟁력 확보...\n"
     ]
    },
    {
     "name": "stderr",
     "output_type": "stream",
     "text": [
      "📰 뉴스 본문 크롤링 진행:   1%|          | 1/167 [00:01<03:44,  1.35s/it]"
     ]
    },
    {
     "name": "stdout",
     "output_type": "stream",
     "text": [
      "✅ 크롤링 완료: 외교차관, 체코 차관 면담…\"원전사업에 韓기업 참여 지원 당부\"...\n"
     ]
    },
    {
     "name": "stderr",
     "output_type": "stream",
     "text": [
      "📰 뉴스 본문 크롤링 진행:   1%|          | 2/167 [00:02<03:37,  1.32s/it]"
     ]
    },
    {
     "name": "stdout",
     "output_type": "stream",
     "text": [
      "⚠ 본문을 가져오지 못해 Selenium으로 재시도: https://www.mk.co.kr/article/10972802\n",
      "✅ 크롤링 완료: 한국수력원자력, 이집트·루마니아·폴란드 … K원전 글로벌 시장서 광......\n"
     ]
    },
    {
     "name": "stderr",
     "output_type": "stream",
     "text": [
      "📰 뉴스 본문 크롤링 진행:   2%|▏         | 3/167 [00:07<07:50,  2.87s/it]"
     ]
    },
    {
     "name": "stdout",
     "output_type": "stream",
     "text": [
      "⚠ 본문을 가져오지 못해 Selenium으로 재시도: https://biz.chosun.com/industry/company/2024/03/05/TUSE5TOL3REW3CEDFHZCZTACAM/?utm_source=naver&utm_medium=original&utm_campaign=biz\n",
      "✅ 크롤링 완료: 정권 교체에도 원전 선택한 폴란드… 韓, 유럽 확장 나선다...\n"
     ]
    },
    {
     "name": "stderr",
     "output_type": "stream",
     "text": [
      "📰 뉴스 본문 크롤링 진행:   2%|▏         | 4/167 [00:15<13:12,  4.86s/it]"
     ]
    },
    {
     "name": "stdout",
     "output_type": "stream",
     "text": [
      "✅ 크롤링 완료: 두산에너빌리티, 가스터빈 이끌고 원전 뒷받친다...\n"
     ]
    },
    {
     "name": "stderr",
     "output_type": "stream",
     "text": [
      "📰 뉴스 본문 크롤링 진행:   3%|▎         | 5/167 [00:16<09:34,  3.55s/it]"
     ]
    },
    {
     "name": "stdout",
     "output_type": "stream",
     "text": [
      "⚠ 본문을 가져오지 못해 Selenium으로 재시도: https://www.theguru.co.kr/news/article.html?no=68530\n",
      "✅ 크롤링 완료: 브뤼셀 찾은 황주호 한수원 사장, 체코 원전 '열매' 따고 유럽 진출 포부...\n"
     ]
    },
    {
     "name": "stderr",
     "output_type": "stream",
     "text": [
      "📰 뉴스 본문 크롤링 진행:   4%|▎         | 6/167 [00:21<10:29,  3.91s/it]"
     ]
    },
    {
     "name": "stdout",
     "output_type": "stream",
     "text": [
      "⚠ 본문을 가져오지 못해 Selenium으로 재시도: https://www.theguru.co.kr/news/article.html?no=67579\n",
      "✅ 크롤링 완료: 마크롱 원전 세일즈 '재 뿌린' 체코 언론 \"가격 비싸\"...한수원 '가성비......\n"
     ]
    },
    {
     "name": "stderr",
     "output_type": "stream",
     "text": [
      "📰 뉴스 본문 크롤링 진행:   4%|▍         | 7/167 [00:25<10:42,  4.02s/it]"
     ]
    },
    {
     "name": "stdout",
     "output_type": "stream",
     "text": [
      "✅ 크롤링 완료: 황주호 한수원 사장, 체코서 두코바니 신규 원전 수주 활동 나서...\n"
     ]
    },
    {
     "name": "stderr",
     "output_type": "stream",
     "text": [
      "📰 뉴스 본문 크롤링 진행:   5%|▍         | 8/167 [00:26<08:13,  3.11s/it]"
     ]
    },
    {
     "name": "stdout",
     "output_type": "stream",
     "text": [
      "✅ 크롤링 완료: 황주호 한수원 사장, 체코 '두코바니 신규원전 사업' 수주 활동 펼쳐...\n"
     ]
    },
    {
     "name": "stderr",
     "output_type": "stream",
     "text": [
      "📰 뉴스 본문 크롤링 진행:   5%|▌         | 9/167 [00:27<06:41,  2.54s/it]"
     ]
    },
    {
     "name": "stdout",
     "output_type": "stream",
     "text": [
      "✅ 크롤링 완료: 한수원, 체코서 '두코바니 신규원전사업' 수주 추진...\n"
     ]
    },
    {
     "name": "stderr",
     "output_type": "stream",
     "text": [
      "📰 뉴스 본문 크롤링 진행:   6%|▌         | 10/167 [00:29<05:36,  2.14s/it]"
     ]
    },
    {
     "name": "stdout",
     "output_type": "stream",
     "text": [
      "✅ 크롤링 완료: 대우건설, 비주택부문 수주 집중…\"원전 수주도 기대\"...\n"
     ]
    },
    {
     "name": "stderr",
     "output_type": "stream",
     "text": [
      "📰 뉴스 본문 크롤링 진행:   7%|▋         | 11/167 [00:30<04:50,  1.86s/it]"
     ]
    },
    {
     "name": "stdout",
     "output_type": "stream",
     "text": [
      "✅ 크롤링 완료: K-원전 수출 체코·폴란드 확장 기대감...\n"
     ]
    },
    {
     "name": "stderr",
     "output_type": "stream",
     "text": [
      "📰 뉴스 본문 크롤링 진행:   7%|▋         | 12/167 [00:31<04:35,  1.77s/it]"
     ]
    },
    {
     "name": "stdout",
     "output_type": "stream",
     "text": [
      "✅ 크롤링 완료: 불가리아 이어 체코·폴란드·네덜란드…커지는 K-원전 수출 기대감 [비......\n"
     ]
    },
    {
     "name": "stderr",
     "output_type": "stream",
     "text": [
      "📰 뉴스 본문 크롤링 진행:   8%|▊         | 13/167 [00:33<04:18,  1.68s/it]"
     ]
    },
    {
     "name": "stdout",
     "output_type": "stream",
     "text": [
      "✅ 크롤링 완료: '약진' K원전, 불가리아 이어 체코서도 낭보 전할까...\n"
     ]
    },
    {
     "name": "stderr",
     "output_type": "stream",
     "text": [
      "📰 뉴스 본문 크롤링 진행:   8%|▊         | 14/167 [00:34<03:57,  1.55s/it]"
     ]
    },
    {
     "name": "stdout",
     "output_type": "stream",
     "text": [
      "⚠ 본문을 가져오지 못해 Selenium으로 재시도: http://www.edaily.co.kr/news/newspath.asp?newsid=01164406638795440\n",
      "✅ 크롤링 완료: 한전KPS, 해외 원전社들과 광폭 교류..'제 2의 바라카 신화' 주역되나...\n"
     ]
    },
    {
     "name": "stderr",
     "output_type": "stream",
     "text": [
      "📰 뉴스 본문 크롤링 진행:   9%|▉         | 15/167 [00:41<07:48,  3.08s/it]"
     ]
    },
    {
     "name": "stdout",
     "output_type": "stream",
     "text": [
      "✅ 크롤링 완료: 체코정부 자금난에 美 소송전까지…한수원, 원전수주 '가시밭길'...\n"
     ]
    },
    {
     "name": "stderr",
     "output_type": "stream",
     "text": [
      "📰 뉴스 본문 크롤링 진행:  10%|▉         | 16/167 [00:42<06:21,  2.52s/it]"
     ]
    },
    {
     "name": "stdout",
     "output_type": "stream",
     "text": [
      "⚠ 본문을 가져오지 못해 Selenium으로 재시도: https://news.kbs.co.kr/news/pc/view/view.do?ncd=7899794&ref=A\n",
      "✅ 크롤링 완료: 유럽 시장 물꼬?…K-원전 재도약할까...\n"
     ]
    },
    {
     "name": "stderr",
     "output_type": "stream",
     "text": [
      "📰 뉴스 본문 크롤링 진행:  10%|█         | 17/167 [00:47<07:57,  3.19s/it]"
     ]
    },
    {
     "name": "stdout",
     "output_type": "stream",
     "text": [
      "⚠ 본문을 가져오지 못해 Selenium으로 재시도: https://www.chosun.com/economy/industry-company/2024/02/26/GE45SPJRLFHWDI6EGZYE6IJNAM/?utm_source=naver&utm_medium=referral&utm_campaign=naver-news\n",
      "✅ 크롤링 완료: 폴란드·체코와도 원전 협상… “일감 쏟아질 것, 채용 2배로 늘릴 것”...\n"
     ]
    },
    {
     "name": "stderr",
     "output_type": "stream",
     "text": [
      "📰 뉴스 본문 크롤링 진행:  11%|█         | 18/167 [00:53<10:28,  4.22s/it]"
     ]
    },
    {
     "name": "stdout",
     "output_type": "stream",
     "text": [
      "✅ 크롤링 완료: \"150억 투자·사람 뽑겠다\"…원전 훈풍에 중소기업 투자 늘린다...\n"
     ]
    },
    {
     "name": "stderr",
     "output_type": "stream",
     "text": [
      "📰 뉴스 본문 크롤링 진행:  11%|█▏        | 19/167 [00:55<08:18,  3.37s/it]"
     ]
    },
    {
     "name": "stdout",
     "output_type": "stream",
     "text": [
      "✅ 크롤링 완료: 원전·도시개발 막힌혈 뚫렸다…해외건설 400억달러 '청신호'...\n"
     ]
    },
    {
     "name": "stderr",
     "output_type": "stream",
     "text": [
      "📰 뉴스 본문 크롤링 진행:  12%|█▏        | 20/167 [00:56<06:37,  2.71s/it]"
     ]
    },
    {
     "name": "stdout",
     "output_type": "stream",
     "text": [
      "⚠ 본문을 가져오지 못해 Selenium으로 재시도: https://www.dnews.co.kr/uhtml/view.jsp?idxno=202402221542565250738\n",
      "✅ 크롤링 완료: [데스크칼럼] 올 상반기 달굴 원전 3대 이슈...\n"
     ]
    },
    {
     "name": "stderr",
     "output_type": "stream",
     "text": [
      "📰 뉴스 본문 크롤링 진행:  13%|█▎        | 21/167 [01:00<07:58,  3.28s/it]"
     ]
    },
    {
     "name": "stdout",
     "output_type": "stream",
     "text": [
      "✅ 크롤링 완료: 체코서 美·佛 떨게 한 K원전···최종 수주는 '지뢰밭'...\n"
     ]
    },
    {
     "name": "stderr",
     "output_type": "stream",
     "text": [
      "📰 뉴스 본문 크롤링 진행:  13%|█▎        | 22/167 [01:02<06:27,  2.67s/it]"
     ]
    },
    {
     "name": "stdout",
     "output_type": "stream",
     "text": [
      "✅ 크롤링 완료: 팀코리아, 체코 원전 '로키 전략' 총력전…\"경제효과 30조원+α\"...\n"
     ]
    },
    {
     "name": "stderr",
     "output_type": "stream",
     "text": [
      "📰 뉴스 본문 크롤링 진행:  14%|█▍        | 23/167 [01:03<05:47,  2.41s/it]"
     ]
    },
    {
     "name": "stdout",
     "output_type": "stream",
     "text": [
      "✅ 크롤링 완료: 脫원전 5년에… 원전中企, 아직도 ‘일감 보릿고개’...\n"
     ]
    },
    {
     "name": "stderr",
     "output_type": "stream",
     "text": [
      "📰 뉴스 본문 크롤링 진행:  14%|█▍        | 24/167 [01:05<04:57,  2.08s/it]"
     ]
    },
    {
     "name": "stdout",
     "output_type": "stream",
     "text": [
      "⚠ 본문을 가져오지 못해 Selenium으로 재시도: https://www.theguru.co.kr/news/article.html?no=66383\n",
      "✅ 크롤링 완료: 폴란드 이어 체코 날아간 한수원, 원전 4기 '싹쓸이 수주' 노린다...\n"
     ]
    },
    {
     "name": "stderr",
     "output_type": "stream",
     "text": [
      "📰 뉴스 본문 크롤링 진행:  15%|█▍        | 25/167 [01:09<06:26,  2.72s/it]"
     ]
    },
    {
     "name": "stdout",
     "output_type": "stream",
     "text": [
      "⚠ 본문을 가져오지 못해 Selenium으로 재시도: https://www.dnews.co.kr/uhtml/view.jsp?idxno=202402011641108580976\n",
      "✅ 크롤링 완료: K-원전, 체코에서 원전 수출 역사 새로 쓰나...\n"
     ]
    },
    {
     "name": "stderr",
     "output_type": "stream",
     "text": [
      "📰 뉴스 본문 크롤링 진행:  16%|█▌        | 26/167 [01:13<07:28,  3.18s/it]"
     ]
    },
    {
     "name": "stdout",
     "output_type": "stream",
     "text": [
      "⚠ 본문을 가져오지 못해 Selenium으로 재시도: http://www.g-enews.com/ko-kr/news/article/news_all/202402011340416992e8b8a793f7_1/article.html\n",
      "✅ 크롤링 완료: 한수원, 체코 원전 4기 수주 가능성 고조…프랑스 EDF와 '2파전'...\n"
     ]
    },
    {
     "name": "stderr",
     "output_type": "stream",
     "text": [
      "📰 뉴스 본문 크롤링 진행:  16%|█▌        | 27/167 [01:18<08:38,  3.71s/it]"
     ]
    },
    {
     "name": "stdout",
     "output_type": "stream",
     "text": [
      "⚠ 본문을 가져오지 못해 Selenium으로 재시도: https://www.cwn.kr/news/articleView.html?idxno=27239\n",
      "✅ 크롤링 완료: 'EU판 IRA' 도입, 원전업계 '호재'로 작용하나...\n"
     ]
    },
    {
     "name": "stderr",
     "output_type": "stream",
     "text": [
      "📰 뉴스 본문 크롤링 진행:  17%|█▋        | 28/167 [01:24<09:44,  4.21s/it]"
     ]
    },
    {
     "name": "stdout",
     "output_type": "stream",
     "text": [
      "✅ 크롤링 완료: 30조원 체코 원전 4월 재입찰…한방 먹은 美, K원전과 동맹 맺나...\n"
     ]
    },
    {
     "name": "stderr",
     "output_type": "stream",
     "text": [
      "📰 뉴스 본문 크롤링 진행:  17%|█▋        | 29/167 [01:25<07:47,  3.39s/it]"
     ]
    },
    {
     "name": "stdout",
     "output_type": "stream",
     "text": [
      "✅ 크롤링 완료: 체코, 신규 원전 계획 1기→4기로 확대…한국수력원자력-프랑스 EDF '2파......\n"
     ]
    },
    {
     "name": "stderr",
     "output_type": "stream",
     "text": [
      "📰 뉴스 본문 크롤링 진행:  18%|█▊        | 30/167 [01:26<06:13,  2.73s/it]"
     ]
    },
    {
     "name": "stdout",
     "output_type": "stream",
     "text": [
      "✅ 크롤링 완료: K-원전, 체코·폴란드 유럽 수출 기대감 커진다…왜?...\n"
     ]
    },
    {
     "name": "stderr",
     "output_type": "stream",
     "text": [
      "📰 뉴스 본문 크롤링 진행:  19%|█▊        | 31/167 [01:29<06:09,  2.71s/it]"
     ]
    },
    {
     "name": "stdout",
     "output_type": "stream",
     "text": [
      "✅ 크롤링 완료: 탈원전 폐기 3년 차 '원전 설비만 수주'…10기 수출 가능하나...\n"
     ]
    },
    {
     "name": "stderr",
     "output_type": "stream",
     "text": [
      "📰 뉴스 본문 크롤링 진행:  19%|█▉        | 32/167 [01:30<05:13,  2.32s/it]"
     ]
    },
    {
     "name": "stdout",
     "output_type": "stream",
     "text": [
      "✅ 크롤링 완료: 9조 체코 원전 수주전 '사활' 건 한국…'K-원전 수출 분수령'...\n"
     ]
    },
    {
     "name": "stderr",
     "output_type": "stream",
     "text": [
      "📰 뉴스 본문 크롤링 진행:  20%|█▉        | 33/167 [01:32<04:27,  2.00s/it]"
     ]
    },
    {
     "name": "stdout",
     "output_type": "stream",
     "text": [
      "✅ 크롤링 완료: 9조 체코 원전 수주전 '사활' 건 한국…'K-원전 수출 분수령'...\n"
     ]
    },
    {
     "name": "stderr",
     "output_type": "stream",
     "text": [
      "📰 뉴스 본문 크롤링 진행:  20%|██        | 34/167 [01:33<04:09,  1.88s/it]"
     ]
    },
    {
     "name": "stdout",
     "output_type": "stream",
     "text": [
      "✅ 크롤링 완료: K-원전, 국내외서 운신 폭 넓어진다...\n"
     ]
    },
    {
     "name": "stderr",
     "output_type": "stream",
     "text": [
      "📰 뉴스 본문 크롤링 진행:  21%|██        | 35/167 [01:34<03:43,  1.69s/it]"
     ]
    },
    {
     "name": "stdout",
     "output_type": "stream",
     "text": [
      "✅ 크롤링 완료: 한수원, 해외 원전 수출 위한 잰걸음...\n"
     ]
    },
    {
     "name": "stderr",
     "output_type": "stream",
     "text": [
      "📰 뉴스 본문 크롤링 진행:  22%|██▏       | 36/167 [01:36<03:24,  1.56s/it]"
     ]
    },
    {
     "name": "stdout",
     "output_type": "stream",
     "text": [
      "✅ 크롤링 완료: [시론]2024년은 원전 산업계 도약 기반 마련의 시간...\n"
     ]
    },
    {
     "name": "stderr",
     "output_type": "stream",
     "text": [
      "📰 뉴스 본문 크롤링 진행:  22%|██▏       | 37/167 [01:37<03:07,  1.44s/it]"
     ]
    },
    {
     "name": "stdout",
     "output_type": "stream",
     "text": [
      "⚠ 본문을 가져오지 못해 Selenium으로 재시도: https://www.viva100.com/main/view.php?key=20240303010000278\n",
      "✅ 크롤링 완료: 위기의 건설사, 해외 더 힘준다...400억달러 '청신호'...\n"
     ]
    },
    {
     "name": "stderr",
     "output_type": "stream",
     "text": [
      "📰 뉴스 본문 크롤링 진행:  23%|██▎       | 38/167 [01:42<05:21,  2.49s/it]"
     ]
    },
    {
     "name": "stdout",
     "output_type": "stream",
     "text": [
      "⚠ 본문을 가져오지 못해 Selenium으로 재시도: https://www.theguru.co.kr/news/article.html?no=67383\n",
      "✅ 크롤링 완료: \"바쁘다 바빠\" 한수원 체코 안팎서 '30조원' 원전 수주 총력전...\n"
     ]
    },
    {
     "name": "stderr",
     "output_type": "stream",
     "text": [
      "📰 뉴스 본문 크롤링 진행:  23%|██▎       | 39/167 [01:46<06:25,  3.01s/it]"
     ]
    },
    {
     "name": "stdout",
     "output_type": "stream",
     "text": [
      "✅ 크롤링 완료: 수주 기대감 상승... K-원전에 유럽은 기회의 땅...\n"
     ]
    },
    {
     "name": "stderr",
     "output_type": "stream",
     "text": [
      "📰 뉴스 본문 크롤링 진행:  24%|██▍       | 40/167 [01:47<05:15,  2.48s/it]"
     ]
    },
    {
     "name": "stdout",
     "output_type": "stream",
     "text": [
      "⚠ 본문을 가져오지 못해 Selenium으로 재시도: https://www.nocutnews.co.kr/news/6096955\n",
      "✅ 크롤링 완료: 체코 원전 수주 우위에 SMR 개발까지…종횡무진 'K-원전'...\n"
     ]
    },
    {
     "name": "stderr",
     "output_type": "stream",
     "text": [
      "📰 뉴스 본문 크롤링 진행:  25%|██▍       | 41/167 [01:53<07:15,  3.45s/it]"
     ]
    },
    {
     "name": "stdout",
     "output_type": "stream",
     "text": [
      "⚠ 본문을 가져오지 못해 Selenium으로 재시도: http://www.g-enews.com/ko-kr/news/article/news_all/202402010535284148e8b8a793f7_1/article.html\n",
      "✅ 크롤링 완료: [모닝픽] 체코, 한수원에 최대 4개 원전 블록 입찰 요청...\n"
     ]
    },
    {
     "name": "stderr",
     "output_type": "stream",
     "text": [
      "📰 뉴스 본문 크롤링 진행:  25%|██▌       | 42/167 [01:57<07:46,  3.73s/it]"
     ]
    },
    {
     "name": "stdout",
     "output_type": "stream",
     "text": [
      "⚠ 본문을 가져오지 못해 Selenium으로 재시도: https://www.theguru.co.kr/news/article.html?no=65328\n",
      "✅ 크롤링 완료: 황주호 한수원 사장, 체코 원전 수주 위해 두산스코다파워와 '총력전'...\n"
     ]
    },
    {
     "name": "stderr",
     "output_type": "stream",
     "text": [
      "📰 뉴스 본문 크롤링 진행:  26%|██▌       | 43/167 [02:02<08:00,  3.87s/it]"
     ]
    },
    {
     "name": "stdout",
     "output_type": "stream",
     "text": [
      "✅ 크롤링 완료: (박근종 칼럼) 공장 등 건설 수주 반토막, 기업이 뛰어야 경기가 살아난......\n"
     ]
    },
    {
     "name": "stderr",
     "output_type": "stream",
     "text": [
      "📰 뉴스 본문 크롤링 진행:  26%|██▋       | 44/167 [02:03<06:20,  3.09s/it]"
     ]
    },
    {
     "name": "stdout",
     "output_type": "stream",
     "text": [
      "✅ 크롤링 완료: [칼럼] 건설 수주 반토막···기업이 뛰어야 경기가 살아난다...\n"
     ]
    },
    {
     "name": "stderr",
     "output_type": "stream",
     "text": [
      "📰 뉴스 본문 크롤링 진행:  27%|██▋       | 45/167 [02:04<05:08,  2.53s/it]"
     ]
    },
    {
     "name": "stdout",
     "output_type": "stream",
     "text": [
      "✅ 크롤링 완료: 믿었던 해외건설 수주도 쉽지 않다...\n"
     ]
    },
    {
     "name": "stderr",
     "output_type": "stream",
     "text": [
      "📰 뉴스 본문 크롤링 진행:  28%|██▊       | 46/167 [02:05<04:16,  2.12s/it]"
     ]
    },
    {
     "name": "stdout",
     "output_type": "stream",
     "text": [
      "⚠ 본문을 가져오지 못해 Selenium으로 재시도: https://www.dnews.co.kr/uhtml/view.jsp?idxno=202402081849290860245\n",
      "✅ 크롤링 완료: 연휴 끝 D-2...설 이후 에너지 업계 주요 현안은...\n"
     ]
    },
    {
     "name": "stderr",
     "output_type": "stream",
     "text": [
      "📰 뉴스 본문 크롤링 진행:  28%|██▊       | 47/167 [02:10<05:36,  2.81s/it]"
     ]
    },
    {
     "name": "stdout",
     "output_type": "stream",
     "text": [
      "✅ 크롤링 완료: 안덕근 산업부 장관 취임 한달…올해 3가지 숙제...\n"
     ]
    },
    {
     "name": "stderr",
     "output_type": "stream",
     "text": [
      "📰 뉴스 본문 크롤링 진행:  29%|██▊       | 48/167 [02:11<04:40,  2.35s/it]"
     ]
    },
    {
     "name": "stdout",
     "output_type": "stream",
     "text": [
      "✅ 크롤링 완료: 달라진 건설사 장바구니, 주택 비우고 토목·플랜트 담는다...\n"
     ]
    },
    {
     "name": "stderr",
     "output_type": "stream",
     "text": [
      "📰 뉴스 본문 크롤링 진행:  29%|██▉       | 49/167 [02:13<04:38,  2.36s/it]"
     ]
    },
    {
     "name": "stdout",
     "output_type": "stream",
     "text": [
      "✅ 크롤링 완료: [조간브리핑]모바일 기술 총출동 MWC···'통신 AI' 동맹 본격화...\n"
     ]
    },
    {
     "name": "stderr",
     "output_type": "stream",
     "text": [
      "📰 뉴스 본문 크롤링 진행:  30%|██▉       | 50/167 [02:15<04:08,  2.12s/it]"
     ]
    },
    {
     "name": "stdout",
     "output_type": "stream",
     "text": [
      "✅ 크롤링 완료: 믿었던 해외건설 수주도 쉽지 않다...\n"
     ]
    },
    {
     "name": "stderr",
     "output_type": "stream",
     "text": [
      "📰 뉴스 본문 크롤링 진행:  31%|███       | 51/167 [02:16<03:34,  1.85s/it]"
     ]
    },
    {
     "name": "stdout",
     "output_type": "stream",
     "text": [
      "⚠ 본문을 가져오지 못해 Selenium으로 재시도: https://www.dnews.co.kr/uhtml/view.jsp?idxno=202402081849290860245\n",
      "✅ 크롤링 완료: 연휴 끝 D-2...설 이후 에너지 업계 주요 현안은...\n"
     ]
    },
    {
     "name": "stderr",
     "output_type": "stream",
     "text": [
      "📰 뉴스 본문 크롤링 진행:  31%|███       | 52/167 [02:20<04:48,  2.51s/it]"
     ]
    },
    {
     "name": "stdout",
     "output_type": "stream",
     "text": [
      "✅ 크롤링 완료: 안덕근 산업부 장관 취임 한달…올해 3가지 숙제...\n"
     ]
    },
    {
     "name": "stderr",
     "output_type": "stream",
     "text": [
      "📰 뉴스 본문 크롤링 진행:  32%|███▏      | 53/167 [02:21<04:04,  2.15s/it]"
     ]
    },
    {
     "name": "stdout",
     "output_type": "stream",
     "text": [
      "✅ 크롤링 완료: 달라진 건설사 장바구니, 주택 비우고 토목·플랜트 담는다...\n"
     ]
    },
    {
     "name": "stderr",
     "output_type": "stream",
     "text": [
      "📰 뉴스 본문 크롤링 진행:  32%|███▏      | 54/167 [02:23<03:40,  1.96s/it]"
     ]
    },
    {
     "name": "stdout",
     "output_type": "stream",
     "text": [
      "✅ 크롤링 완료: 황주호 한수원 사장, 체코 신원전 수주 총력...\n"
     ]
    },
    {
     "name": "stderr",
     "output_type": "stream",
     "text": [
      "📰 뉴스 본문 크롤링 진행:  33%|███▎      | 55/167 [02:25<03:28,  1.86s/it]"
     ]
    },
    {
     "name": "stdout",
     "output_type": "stream",
     "text": [
      "✅ 크롤링 완료: [조간브리핑]모바일 기술 총출동 MWC···'통신 AI' 동맹 본격화...\n"
     ]
    },
    {
     "name": "stderr",
     "output_type": "stream",
     "text": [
      "📰 뉴스 본문 크롤링 진행:  34%|███▎      | 56/167 [02:26<03:05,  1.67s/it]"
     ]
    },
    {
     "name": "stdout",
     "output_type": "stream",
     "text": [
      "✅ 크롤링 완료: [해외서 뛰는 K건설] '빛바랜' 작년 해외수주 330억달러... K건설, 중동 ......\n"
     ]
    },
    {
     "name": "stderr",
     "output_type": "stream",
     "text": [
      "📰 뉴스 본문 크롤링 진행:  34%|███▍      | 57/167 [02:27<02:54,  1.59s/it]"
     ]
    },
    {
     "name": "stdout",
     "output_type": "stream",
     "text": [
      "✅ 크롤링 완료: 건설 '다크호스' 부상한 플랜트·인프라, 한파 딛고 '어닝 서프라이즈'...\n"
     ]
    },
    {
     "name": "stderr",
     "output_type": "stream",
     "text": [
      "📰 뉴스 본문 크롤링 진행:  35%|███▍      | 58/167 [02:28<02:40,  1.47s/it]"
     ]
    },
    {
     "name": "stdout",
     "output_type": "stream",
     "text": [
      "✅ 크롤링 완료: 현대·삼성·대우건설, 국내 시장 침체…해외서 답 찾는다...\n"
     ]
    },
    {
     "name": "stderr",
     "output_type": "stream",
     "text": [
      "📰 뉴스 본문 크롤링 진행:  35%|███▌      | 59/167 [02:30<02:32,  1.41s/it]"
     ]
    },
    {
     "name": "stdout",
     "output_type": "stream",
     "text": [
      "⚠ 본문을 가져오지 못해 Selenium으로 재시도: https://www.wowtv.co.kr/NewsCenter/News/Read?articleId=A202401040106&t=NNv\n",
      "✅ 크롤링 완료: 두산에너빌리티, 완벽한 부활...10년만에 최대 실적...\n"
     ]
    },
    {
     "name": "stderr",
     "output_type": "stream",
     "text": [
      "📰 뉴스 본문 크롤링 진행:  36%|███▌      | 60/167 [02:49<12:19,  6.91s/it]"
     ]
    },
    {
     "name": "stdout",
     "output_type": "stream",
     "text": [
      "✅ 크롤링 완료: 믿었던 해외건설 수주도 쉽지 않다...\n"
     ]
    },
    {
     "name": "stderr",
     "output_type": "stream",
     "text": [
      "📰 뉴스 본문 크롤링 진행:  37%|███▋      | 61/167 [02:51<09:07,  5.17s/it]"
     ]
    },
    {
     "name": "stdout",
     "output_type": "stream",
     "text": [
      "⚠ 본문을 가져오지 못해 Selenium으로 재시도: https://www.dnews.co.kr/uhtml/view.jsp?idxno=202402081849290860245\n",
      "✅ 크롤링 완료: 연휴 끝 D-2...설 이후 에너지 업계 주요 현안은...\n"
     ]
    },
    {
     "name": "stderr",
     "output_type": "stream",
     "text": [
      "📰 뉴스 본문 크롤링 진행:  37%|███▋      | 62/167 [02:55<08:34,  4.90s/it]"
     ]
    },
    {
     "name": "stdout",
     "output_type": "stream",
     "text": [
      "✅ 크롤링 완료: 안덕근 산업부 장관 취임 한달…올해 3가지 숙제...\n"
     ]
    },
    {
     "name": "stderr",
     "output_type": "stream",
     "text": [
      "📰 뉴스 본문 크롤링 진행:  38%|███▊      | 63/167 [02:56<06:36,  3.81s/it]"
     ]
    },
    {
     "name": "stdout",
     "output_type": "stream",
     "text": [
      "✅ 크롤링 완료: 달라진 건설사 장바구니, 주택 비우고 토목·플랜트 담는다...\n"
     ]
    },
    {
     "name": "stderr",
     "output_type": "stream",
     "text": [
      "📰 뉴스 본문 크롤링 진행:  38%|███▊      | 64/167 [02:57<05:18,  3.09s/it]"
     ]
    },
    {
     "name": "stdout",
     "output_type": "stream",
     "text": [
      "✅ 크롤링 완료: 황주호 한수원 사장, 체코 신원전 수주 총력...\n"
     ]
    },
    {
     "name": "stderr",
     "output_type": "stream",
     "text": [
      "📰 뉴스 본문 크롤링 진행:  39%|███▉      | 65/167 [02:59<04:34,  2.69s/it]"
     ]
    },
    {
     "name": "stdout",
     "output_type": "stream",
     "text": [
      "✅ 크롤링 완료: [조간브리핑]모바일 기술 총출동 MWC···'통신 AI' 동맹 본격화...\n"
     ]
    },
    {
     "name": "stderr",
     "output_type": "stream",
     "text": [
      "📰 뉴스 본문 크롤링 진행:  40%|███▉      | 66/167 [03:01<03:49,  2.27s/it]"
     ]
    },
    {
     "name": "stdout",
     "output_type": "stream",
     "text": [
      "✅ 크롤링 완료: [해외서 뛰는 K건설] '빛바랜' 작년 해외수주 330억달러... K건설, 중동 ......\n"
     ]
    },
    {
     "name": "stderr",
     "output_type": "stream",
     "text": [
      "📰 뉴스 본문 크롤링 진행:  40%|████      | 67/167 [03:02<03:18,  1.99s/it]"
     ]
    },
    {
     "name": "stdout",
     "output_type": "stream",
     "text": [
      "✅ 크롤링 완료: 건설 '다크호스' 부상한 플랜트·인프라, 한파 딛고 '어닝 서프라이즈'...\n"
     ]
    },
    {
     "name": "stderr",
     "output_type": "stream",
     "text": [
      "📰 뉴스 본문 크롤링 진행:  41%|████      | 68/167 [03:03<02:52,  1.74s/it]"
     ]
    },
    {
     "name": "stdout",
     "output_type": "stream",
     "text": [
      "✅ 크롤링 완료: 현대·삼성·대우건설, 국내 시장 침체…해외서 답 찾는다...\n"
     ]
    },
    {
     "name": "stderr",
     "output_type": "stream",
     "text": [
      "📰 뉴스 본문 크롤링 진행:  41%|████▏     | 69/167 [03:04<02:33,  1.57s/it]"
     ]
    },
    {
     "name": "stdout",
     "output_type": "stream",
     "text": [
      "⚠ 본문을 가져오지 못해 Selenium으로 재시도: https://www.wowtv.co.kr/NewsCenter/News/Read?articleId=A202401040106&t=NNv\n",
      "✅ 크롤링 완료: 두산에너빌리티, 완벽한 부활...10년만에 최대 실적...\n"
     ]
    },
    {
     "name": "stderr",
     "output_type": "stream",
     "text": [
      "📰 뉴스 본문 크롤링 진행:  42%|████▏     | 70/167 [03:18<08:38,  5.34s/it]"
     ]
    },
    {
     "name": "stdout",
     "output_type": "stream",
     "text": [
      "✅ 크롤링 완료: 믿었던 해외건설 수주도 쉽지 않다...\n"
     ]
    },
    {
     "name": "stderr",
     "output_type": "stream",
     "text": [
      "📰 뉴스 본문 크롤링 진행:  43%|████▎     | 71/167 [03:20<06:39,  4.16s/it]"
     ]
    },
    {
     "name": "stdout",
     "output_type": "stream",
     "text": [
      "⚠ 본문을 가져오지 못해 Selenium으로 재시도: https://www.dnews.co.kr/uhtml/view.jsp?idxno=202402081849290860245\n",
      "✅ 크롤링 완료: 연휴 끝 D-2...설 이후 에너지 업계 주요 현안은...\n"
     ]
    },
    {
     "name": "stderr",
     "output_type": "stream",
     "text": [
      "📰 뉴스 본문 크롤링 진행:  43%|████▎     | 72/167 [03:24<06:30,  4.11s/it]"
     ]
    },
    {
     "name": "stdout",
     "output_type": "stream",
     "text": [
      "✅ 크롤링 완료: 안덕근 산업부 장관 취임 한달…올해 3가지 숙제...\n"
     ]
    },
    {
     "name": "stderr",
     "output_type": "stream",
     "text": [
      "📰 뉴스 본문 크롤링 진행:  44%|████▎     | 73/167 [03:28<06:18,  4.03s/it]"
     ]
    },
    {
     "name": "stdout",
     "output_type": "stream",
     "text": [
      "✅ 크롤링 완료: 달라진 건설사 장바구니, 주택 비우고 토목·플랜트 담는다...\n"
     ]
    },
    {
     "name": "stderr",
     "output_type": "stream",
     "text": [
      "📰 뉴스 본문 크롤링 진행:  44%|████▍     | 74/167 [03:29<05:02,  3.25s/it]"
     ]
    },
    {
     "name": "stdout",
     "output_type": "stream",
     "text": [
      "✅ 크롤링 완료: 황주호 한수원 사장, 체코 신원전 수주 총력...\n"
     ]
    },
    {
     "name": "stderr",
     "output_type": "stream",
     "text": [
      "📰 뉴스 본문 크롤링 진행:  45%|████▍     | 75/167 [03:31<04:13,  2.76s/it]"
     ]
    },
    {
     "name": "stdout",
     "output_type": "stream",
     "text": [
      "✅ 크롤링 완료: [조간브리핑]모바일 기술 총출동 MWC···'통신 AI' 동맹 본격화...\n"
     ]
    },
    {
     "name": "stderr",
     "output_type": "stream",
     "text": [
      "📰 뉴스 본문 크롤링 진행:  46%|████▌     | 76/167 [03:32<03:29,  2.31s/it]"
     ]
    },
    {
     "name": "stdout",
     "output_type": "stream",
     "text": [
      "✅ 크롤링 완료: [해외서 뛰는 K건설] '빛바랜' 작년 해외수주 330억달러... K건설, 중동 ......\n"
     ]
    },
    {
     "name": "stderr",
     "output_type": "stream",
     "text": [
      "📰 뉴스 본문 크롤링 진행:  46%|████▌     | 77/167 [03:33<03:03,  2.03s/it]"
     ]
    },
    {
     "name": "stdout",
     "output_type": "stream",
     "text": [
      "✅ 크롤링 완료: 건설 '다크호스' 부상한 플랜트·인프라, 한파 딛고 '어닝 서프라이즈'...\n"
     ]
    },
    {
     "name": "stderr",
     "output_type": "stream",
     "text": [
      "📰 뉴스 본문 크롤링 진행:  47%|████▋     | 78/167 [03:35<02:39,  1.80s/it]"
     ]
    },
    {
     "name": "stdout",
     "output_type": "stream",
     "text": [
      "✅ 크롤링 완료: 현대·삼성·대우건설, 국내 시장 침체…해외서 답 찾는다...\n"
     ]
    },
    {
     "name": "stderr",
     "output_type": "stream",
     "text": [
      "📰 뉴스 본문 크롤링 진행:  47%|████▋     | 79/167 [03:36<02:21,  1.61s/it]"
     ]
    },
    {
     "name": "stdout",
     "output_type": "stream",
     "text": [
      "⚠ 본문을 가져오지 못해 Selenium으로 재시도: https://www.wowtv.co.kr/NewsCenter/News/Read?articleId=A202401040106&t=NNv\n",
      "✅ 크롤링 완료: 두산에너빌리티, 완벽한 부활...10년만에 최대 실적...\n"
     ]
    },
    {
     "name": "stderr",
     "output_type": "stream",
     "text": [
      "📰 뉴스 본문 크롤링 진행:  48%|████▊     | 80/167 [03:53<09:13,  6.36s/it]"
     ]
    },
    {
     "name": "stdout",
     "output_type": "stream",
     "text": [
      "✅ 크롤링 완료: 믿었던 해외건설 수주도 쉽지 않다...\n"
     ]
    },
    {
     "name": "stderr",
     "output_type": "stream",
     "text": [
      "📰 뉴스 본문 크롤링 진행:  49%|████▊     | 81/167 [03:54<06:52,  4.80s/it]"
     ]
    },
    {
     "name": "stdout",
     "output_type": "stream",
     "text": [
      "⚠ 본문을 가져오지 못해 Selenium으로 재시도: https://www.dnews.co.kr/uhtml/view.jsp?idxno=202402081849290860245\n",
      "✅ 크롤링 완료: 연휴 끝 D-2...설 이후 에너지 업계 주요 현안은...\n"
     ]
    },
    {
     "name": "stderr",
     "output_type": "stream",
     "text": [
      "📰 뉴스 본문 크롤링 진행:  49%|████▉     | 82/167 [03:59<06:38,  4.68s/it]"
     ]
    },
    {
     "name": "stdout",
     "output_type": "stream",
     "text": [
      "✅ 크롤링 완료: 안덕근 산업부 장관 취임 한달…올해 3가지 숙제...\n"
     ]
    },
    {
     "name": "stderr",
     "output_type": "stream",
     "text": [
      "📰 뉴스 본문 크롤링 진행:  50%|████▉     | 83/167 [04:00<05:09,  3.68s/it]"
     ]
    },
    {
     "name": "stdout",
     "output_type": "stream",
     "text": [
      "✅ 크롤링 완료: 달라진 건설사 장바구니, 주택 비우고 토목·플랜트 담는다...\n"
     ]
    },
    {
     "name": "stderr",
     "output_type": "stream",
     "text": [
      "📰 뉴스 본문 크롤링 진행:  50%|█████     | 84/167 [04:01<04:09,  3.00s/it]"
     ]
    },
    {
     "name": "stdout",
     "output_type": "stream",
     "text": [
      "✅ 크롤링 완료: 황주호 한수원 사장, 체코 신원전 수주 총력...\n"
     ]
    },
    {
     "name": "stderr",
     "output_type": "stream",
     "text": [
      "📰 뉴스 본문 크롤링 진행:  51%|█████     | 85/167 [04:03<03:29,  2.55s/it]"
     ]
    },
    {
     "name": "stdout",
     "output_type": "stream",
     "text": [
      "✅ 크롤링 완료: [조간브리핑]모바일 기술 총출동 MWC···'통신 AI' 동맹 본격화...\n"
     ]
    },
    {
     "name": "stderr",
     "output_type": "stream",
     "text": [
      "📰 뉴스 본문 크롤링 진행:  51%|█████▏    | 86/167 [04:04<02:58,  2.21s/it]"
     ]
    },
    {
     "name": "stdout",
     "output_type": "stream",
     "text": [
      "✅ 크롤링 완료: [해외서 뛰는 K건설] '빛바랜' 작년 해외수주 330억달러... K건설, 중동 ......\n"
     ]
    },
    {
     "name": "stderr",
     "output_type": "stream",
     "text": [
      "📰 뉴스 본문 크롤링 진행:  52%|█████▏    | 87/167 [04:06<02:35,  1.94s/it]"
     ]
    },
    {
     "name": "stdout",
     "output_type": "stream",
     "text": [
      "✅ 크롤링 완료: 건설 '다크호스' 부상한 플랜트·인프라, 한파 딛고 '어닝 서프라이즈'...\n"
     ]
    },
    {
     "name": "stderr",
     "output_type": "stream",
     "text": [
      "📰 뉴스 본문 크롤링 진행:  53%|█████▎    | 88/167 [04:07<02:13,  1.69s/it]"
     ]
    },
    {
     "name": "stdout",
     "output_type": "stream",
     "text": [
      "✅ 크롤링 완료: 현대·삼성·대우건설, 국내 시장 침체…해외서 답 찾는다...\n"
     ]
    },
    {
     "name": "stderr",
     "output_type": "stream",
     "text": [
      "📰 뉴스 본문 크롤링 진행:  53%|█████▎    | 89/167 [04:08<01:59,  1.54s/it]"
     ]
    },
    {
     "name": "stdout",
     "output_type": "stream",
     "text": [
      "⚠ 본문을 가져오지 못해 Selenium으로 재시도: https://www.wowtv.co.kr/NewsCenter/News/Read?articleId=A202401040106&t=NNv\n",
      "✅ 크롤링 완료: 두산에너빌리티, 완벽한 부활...10년만에 최대 실적...\n"
     ]
    },
    {
     "name": "stderr",
     "output_type": "stream",
     "text": [
      "📰 뉴스 본문 크롤링 진행:  54%|█████▍    | 90/167 [04:22<06:41,  5.21s/it]"
     ]
    },
    {
     "name": "stdout",
     "output_type": "stream",
     "text": [
      "✅ 크롤링 완료: 믿었던 해외건설 수주도 쉽지 않다...\n"
     ]
    },
    {
     "name": "stderr",
     "output_type": "stream",
     "text": [
      "📰 뉴스 본문 크롤링 진행:  54%|█████▍    | 91/167 [04:23<05:02,  3.98s/it]"
     ]
    },
    {
     "name": "stdout",
     "output_type": "stream",
     "text": [
      "⚠ 본문을 가져오지 못해 Selenium으로 재시도: https://www.dnews.co.kr/uhtml/view.jsp?idxno=202402081849290860245\n",
      "✅ 크롤링 완료: 연휴 끝 D-2...설 이후 에너지 업계 주요 현안은...\n"
     ]
    },
    {
     "name": "stderr",
     "output_type": "stream",
     "text": [
      "📰 뉴스 본문 크롤링 진행:  55%|█████▌    | 92/167 [04:27<05:04,  4.06s/it]"
     ]
    },
    {
     "name": "stdout",
     "output_type": "stream",
     "text": [
      "✅ 크롤링 완료: 안덕근 산업부 장관 취임 한달…올해 3가지 숙제...\n"
     ]
    },
    {
     "name": "stderr",
     "output_type": "stream",
     "text": [
      "📰 뉴스 본문 크롤링 진행:  56%|█████▌    | 93/167 [04:28<03:58,  3.23s/it]"
     ]
    },
    {
     "name": "stdout",
     "output_type": "stream",
     "text": [
      "✅ 크롤링 완료: 달라진 건설사 장바구니, 주택 비우고 토목·플랜트 담는다...\n"
     ]
    },
    {
     "name": "stderr",
     "output_type": "stream",
     "text": [
      "📰 뉴스 본문 크롤링 진행:  56%|█████▋    | 94/167 [04:30<03:15,  2.68s/it]"
     ]
    },
    {
     "name": "stdout",
     "output_type": "stream",
     "text": [
      "✅ 크롤링 완료: 황주호 한수원 사장, 체코 신원전 수주 총력...\n"
     ]
    },
    {
     "name": "stderr",
     "output_type": "stream",
     "text": [
      "📰 뉴스 본문 크롤링 진행:  57%|█████▋    | 95/167 [04:31<02:51,  2.38s/it]"
     ]
    },
    {
     "name": "stdout",
     "output_type": "stream",
     "text": [
      "✅ 크롤링 완료: [조간브리핑]모바일 기술 총출동 MWC···'통신 AI' 동맹 본격화...\n"
     ]
    },
    {
     "name": "stderr",
     "output_type": "stream",
     "text": [
      "📰 뉴스 본문 크롤링 진행:  57%|█████▋    | 96/167 [04:33<02:24,  2.04s/it]"
     ]
    },
    {
     "name": "stdout",
     "output_type": "stream",
     "text": [
      "✅ 크롤링 완료: [해외서 뛰는 K건설] '빛바랜' 작년 해외수주 330억달러... K건설, 중동 ......\n"
     ]
    },
    {
     "name": "stderr",
     "output_type": "stream",
     "text": [
      "📰 뉴스 본문 크롤링 진행:  58%|█████▊    | 97/167 [04:34<02:06,  1.81s/it]"
     ]
    },
    {
     "name": "stdout",
     "output_type": "stream",
     "text": [
      "✅ 크롤링 완료: 건설 '다크호스' 부상한 플랜트·인프라, 한파 딛고 '어닝 서프라이즈'...\n"
     ]
    },
    {
     "name": "stderr",
     "output_type": "stream",
     "text": [
      "📰 뉴스 본문 크롤링 진행:  59%|█████▊    | 98/167 [04:35<01:50,  1.60s/it]"
     ]
    },
    {
     "name": "stdout",
     "output_type": "stream",
     "text": [
      "✅ 크롤링 완료: 현대·삼성·대우건설, 국내 시장 침체…해외서 답 찾는다...\n"
     ]
    },
    {
     "name": "stderr",
     "output_type": "stream",
     "text": [
      "📰 뉴스 본문 크롤링 진행:  59%|█████▉    | 99/167 [04:36<01:39,  1.46s/it]"
     ]
    },
    {
     "name": "stdout",
     "output_type": "stream",
     "text": [
      "⚠ 본문을 가져오지 못해 Selenium으로 재시도: https://www.wowtv.co.kr/NewsCenter/News/Read?articleId=A202401040106&t=NNv\n",
      "✅ 크롤링 완료: 두산에너빌리티, 완벽한 부활...10년만에 최대 실적...\n"
     ]
    },
    {
     "name": "stderr",
     "output_type": "stream",
     "text": [
      "📰 뉴스 본문 크롤링 진행:  60%|█████▉    | 100/167 [04:53<06:53,  6.17s/it]"
     ]
    },
    {
     "name": "stdout",
     "output_type": "stream",
     "text": [
      "✅ 크롤링 완료: 한수원, 체코·폴란드 신규원전 수주 박차...\n"
     ]
    },
    {
     "name": "stderr",
     "output_type": "stream",
     "text": [
      "📰 뉴스 본문 크롤링 진행:  60%|██████    | 101/167 [04:55<05:10,  4.70s/it]"
     ]
    },
    {
     "name": "stdout",
     "output_type": "stream",
     "text": [
      "✅ 크롤링 완료: 황주호 한수원 사장, 체코 신규원전 세일즈 행보...\n"
     ]
    },
    {
     "name": "stderr",
     "output_type": "stream",
     "text": [
      "📰 뉴스 본문 크롤링 진행:  61%|██████    | 102/167 [04:56<04:01,  3.72s/it]"
     ]
    },
    {
     "name": "stdout",
     "output_type": "stream",
     "text": [
      "✅ 크롤링 완료: [시론]2024년은 원전 산업계 도약 기반 마련의 시간...\n"
     ]
    },
    {
     "name": "stderr",
     "output_type": "stream",
     "text": [
      "📰 뉴스 본문 크롤링 진행:  62%|██████▏   | 103/167 [04:57<03:08,  2.94s/it]"
     ]
    },
    {
     "name": "stdout",
     "output_type": "stream",
     "text": [
      "⚠ 본문을 가져오지 못해 Selenium으로 재시도: https://biz.sbs.co.kr/article_hub/20000155313?division=NAVER\n",
      "✅ 크롤링 완료: 한수원, '프라하의 봄' 맞나?...\n"
     ]
    },
    {
     "name": "stderr",
     "output_type": "stream",
     "text": [
      "📰 뉴스 본문 크롤링 진행:  62%|██████▏   | 104/167 [05:03<04:02,  3.84s/it]"
     ]
    },
    {
     "name": "stdout",
     "output_type": "stream",
     "text": [
      "⚠ 본문을 가져오지 못해 Selenium으로 재시도: https://www.viva100.com/main/view.php?key=20240303010000278\n",
      "✅ 크롤링 완료: 위기의 건설사, 해외 더 힘준다...400억달러 '청신호'...\n"
     ]
    },
    {
     "name": "stderr",
     "output_type": "stream",
     "text": [
      "📰 뉴스 본문 크롤링 진행:  63%|██████▎   | 105/167 [05:08<04:10,  4.04s/it]"
     ]
    },
    {
     "name": "stdout",
     "output_type": "stream",
     "text": [
      "✅ 크롤링 완료: 원전 르네상스의 환상에 암울해지는 한국 경제의 미래...\n"
     ]
    },
    {
     "name": "stderr",
     "output_type": "stream",
     "text": [
      "📰 뉴스 본문 크롤링 진행:  63%|██████▎   | 106/167 [05:09<03:16,  3.23s/it]"
     ]
    },
    {
     "name": "stdout",
     "output_type": "stream",
     "text": [
      "⚠ 본문을 가져오지 못해 Selenium으로 재시도: https://www.theguru.co.kr/news/article.html?no=67383\n",
      "✅ 크롤링 완료: \"바쁘다 바빠\" 한수원 체코 안팎서 '30조원' 원전 수주 총력전...\n"
     ]
    },
    {
     "name": "stderr",
     "output_type": "stream",
     "text": [
      "📰 뉴스 본문 크롤링 진행:  64%|██████▍   | 107/167 [05:13<03:31,  3.52s/it]"
     ]
    },
    {
     "name": "stdout",
     "output_type": "stream",
     "text": [
      "✅ 크롤링 완료: K-원전 이끈 현대건설, 벡텔·플루어 제치고 우선협상대상자 선정...\n"
     ]
    },
    {
     "name": "stderr",
     "output_type": "stream",
     "text": [
      "📰 뉴스 본문 크롤링 진행:  65%|██████▍   | 108/167 [05:15<02:53,  2.95s/it]"
     ]
    },
    {
     "name": "stdout",
     "output_type": "stream",
     "text": [
      "✅ 크롤링 완료: 수주 기대감 상승... K-원전에 유럽은 기회의 땅...\n"
     ]
    },
    {
     "name": "stderr",
     "output_type": "stream",
     "text": [
      "📰 뉴스 본문 크롤링 진행:  65%|██████▌   | 109/167 [05:16<02:19,  2.40s/it]"
     ]
    },
    {
     "name": "stdout",
     "output_type": "stream",
     "text": [
      "⚠ 본문을 가져오지 못해 Selenium으로 재시도: https://www.nocutnews.co.kr/news/6096955\n",
      "✅ 크롤링 완료: 체코 원전 수주 우위에 SMR 개발까지…종횡무진 'K-원전'...\n"
     ]
    },
    {
     "name": "stderr",
     "output_type": "stream",
     "text": [
      "📰 뉴스 본문 크롤링 진행:  66%|██████▌   | 110/167 [05:21<03:01,  3.18s/it]"
     ]
    },
    {
     "name": "stdout",
     "output_type": "stream",
     "text": [
      "✅ 크롤링 완료: 한수원 황주호 사장, 체코 신규원전 세일즈 나서...\n"
     ]
    },
    {
     "name": "stderr",
     "output_type": "stream",
     "text": [
      "📰 뉴스 본문 크롤링 진행:  66%|██████▋   | 111/167 [05:22<02:24,  2.58s/it]"
     ]
    },
    {
     "name": "stdout",
     "output_type": "stream",
     "text": [
      "✅ 크롤링 완료: 황주호 한수원 사장, 체코 신규원전 세일즈 행보...\n"
     ]
    },
    {
     "name": "stderr",
     "output_type": "stream",
     "text": [
      "📰 뉴스 본문 크롤링 진행:  67%|██████▋   | 112/167 [05:23<01:57,  2.14s/it]"
     ]
    },
    {
     "name": "stdout",
     "output_type": "stream",
     "text": [
      "✅ 크롤링 완료: [시론]2024년은 원전 산업계 도약 기반 마련의 시간...\n"
     ]
    },
    {
     "name": "stderr",
     "output_type": "stream",
     "text": [
      "📰 뉴스 본문 크롤링 진행:  68%|██████▊   | 113/167 [05:24<01:38,  1.83s/it]"
     ]
    },
    {
     "name": "stdout",
     "output_type": "stream",
     "text": [
      "⚠ 본문을 가져오지 못해 Selenium으로 재시도: https://biz.sbs.co.kr/article_hub/20000155313?division=NAVER\n",
      "✅ 크롤링 완료: 한수원, '프라하의 봄' 맞나?...\n"
     ]
    },
    {
     "name": "stderr",
     "output_type": "stream",
     "text": [
      "📰 뉴스 본문 크롤링 진행:  68%|██████▊   | 114/167 [05:29<02:24,  2.73s/it]"
     ]
    },
    {
     "name": "stdout",
     "output_type": "stream",
     "text": [
      "⚠ 본문을 가져오지 못해 Selenium으로 재시도: https://www.viva100.com/main/view.php?key=20240303010000278\n",
      "✅ 크롤링 완료: 위기의 건설사, 해외 더 힘준다...400억달러 '청신호'...\n"
     ]
    },
    {
     "name": "stderr",
     "output_type": "stream",
     "text": [
      "📰 뉴스 본문 크롤링 진행:  69%|██████▉   | 115/167 [05:33<02:46,  3.20s/it]"
     ]
    },
    {
     "name": "stdout",
     "output_type": "stream",
     "text": [
      "✅ 크롤링 완료: 원전 르네상스의 환상에 암울해지는 한국 경제의 미래...\n"
     ]
    },
    {
     "name": "stderr",
     "output_type": "stream",
     "text": [
      "📰 뉴스 본문 크롤링 진행:  69%|██████▉   | 116/167 [05:35<02:11,  2.58s/it]"
     ]
    },
    {
     "name": "stdout",
     "output_type": "stream",
     "text": [
      "⚠ 본문을 가져오지 못해 Selenium으로 재시도: https://www.theguru.co.kr/news/article.html?no=67383\n",
      "✅ 크롤링 완료: \"바쁘다 바빠\" 한수원 체코 안팎서 '30조원' 원전 수주 총력전...\n"
     ]
    },
    {
     "name": "stderr",
     "output_type": "stream",
     "text": [
      "📰 뉴스 본문 크롤링 진행:  70%|███████   | 117/167 [05:39<02:31,  3.03s/it]"
     ]
    },
    {
     "name": "stdout",
     "output_type": "stream",
     "text": [
      "⚠ 본문을 가져오지 못해 Selenium으로 재시도: http://news.mt.co.kr/mtview.php?no=2024022517131226181\n",
      "✅ 크롤링 완료: K-원전 이끈 현대건설, 벡텔·플루어 제치고 우선협상대상자 선정...\n"
     ]
    },
    {
     "name": "stderr",
     "output_type": "stream",
     "text": [
      "📰 뉴스 본문 크롤링 진행:  71%|███████   | 118/167 [06:14<10:28, 12.83s/it]"
     ]
    },
    {
     "name": "stdout",
     "output_type": "stream",
     "text": [
      "✅ 크롤링 완료: 수주 기대감 상승... K-원전에 유럽은 기회의 땅...\n"
     ]
    },
    {
     "name": "stderr",
     "output_type": "stream",
     "text": [
      "📰 뉴스 본문 크롤링 진행:  71%|███████▏  | 119/167 [06:16<07:27,  9.33s/it]"
     ]
    },
    {
     "name": "stdout",
     "output_type": "stream",
     "text": [
      "⚠ 본문을 가져오지 못해 Selenium으로 재시도: https://www.nocutnews.co.kr/news/6096955\n",
      "✅ 크롤링 완료: 체코 원전 수주 우위에 SMR 개발까지…종횡무진 'K-원전'...\n"
     ]
    },
    {
     "name": "stderr",
     "output_type": "stream",
     "text": [
      "📰 뉴스 본문 크롤링 진행:  72%|███████▏  | 120/167 [06:20<06:12,  7.92s/it]"
     ]
    },
    {
     "name": "stdout",
     "output_type": "stream",
     "text": [
      "✅ 크롤링 완료: 한국수력원자력 황주호 사장, 체코 신규원전 세일즈 나서...\n"
     ]
    },
    {
     "name": "stderr",
     "output_type": "stream",
     "text": [
      "📰 뉴스 본문 크롤링 진행:  72%|███████▏  | 121/167 [06:23<04:48,  6.28s/it]"
     ]
    },
    {
     "name": "stdout",
     "output_type": "stream",
     "text": [
      "✅ 크롤링 완료: 황주호 한수원 사장, 체코 신규원전 세일즈 나서...\n"
     ]
    },
    {
     "name": "stderr",
     "output_type": "stream",
     "text": [
      "📰 뉴스 본문 크롤링 진행:  73%|███████▎  | 122/167 [06:24<03:33,  4.75s/it]"
     ]
    },
    {
     "name": "stdout",
     "output_type": "stream",
     "text": [
      "✅ 크롤링 완료: [시론]2024년은 원전 산업계 도약 기반 마련의 시간...\n"
     ]
    },
    {
     "name": "stderr",
     "output_type": "stream",
     "text": [
      "📰 뉴스 본문 크롤링 진행:  74%|███████▎  | 123/167 [06:25<02:43,  3.71s/it]"
     ]
    },
    {
     "name": "stdout",
     "output_type": "stream",
     "text": [
      "⚠ 본문을 가져오지 못해 Selenium으로 재시도: https://biz.sbs.co.kr/article_hub/20000155313?division=NAVER\n"
     ]
    }
   ],
   "source": [
    "import time\n",
    "import json\n",
    "import datetime\n",
    "from bs4 import BeautifulSoup\n",
    "import requests\n",
    "from selenium import webdriver\n",
    "from selenium.webdriver.chrome.service import Service\n",
    "from selenium.webdriver.chrome.options import Options\n",
    "from selenium.webdriver.common.by import By\n",
    "from selenium.webdriver.common.keys import Keys\n",
    "from tqdm import tqdm\n",
    "from webdriver_manager.chrome import ChromeDriverManager\n",
    "\n",
    "# 🔍 검색어 리스트\n",
    "search_queries = [\"두코바니 원전\"]  \n",
    "\n",
    "# ✅ 크롤링할 기간 설정 (2022.01.01 ~ 2024.12.31)\n",
    "START_DATE = datetime.datetime(2022, 1, 1)\n",
    "END_DATE = datetime.datetime(2024, 12, 31)\n",
    "\n",
    "# ✅ User-Agent 설정\n",
    "HEADERS = {\n",
    "    \"User-Agent\": \"Mozilla/5.0 (Windows NT 10.0; Win64; x64) AppleWebKit/537.36 (KHTML, like Gecko) Chrome/98.0.4758.102 Safari/537.36\"\n",
    "}\n",
    "\n",
    "# ✅ Selenium 옵션 설정\n",
    "chrome_options = Options()\n",
    "chrome_options.add_argument(\"--headless\")  # GUI 없이 실행\n",
    "chrome_options.add_argument(\"--no-sandbox\")\n",
    "chrome_options.add_argument(\"--disable-dev-shm-usage\")\n",
    "chrome_options.add_argument(\"--disable-gpu\")\n",
    "\n",
    "# ✅ ChromeDriver 자동 설치\n",
    "service = Service(ChromeDriverManager().install())\n",
    "driver = webdriver.Chrome(service=service, options=chrome_options)\n",
    "\n",
    "# ✅ 네이버 뉴스 검색 URL 템플릿 (날짜별로 검색)\n",
    "NAVER_NEWS_URL_TEMPLATE = (\n",
    "    \"https://search.naver.com/search.naver?where=news&query={query}&sm=tab_opt&sort=0&photo=0\"\n",
    "    \"&field=0&pd=3&ds={start_date}&de={end_date}\"\n",
    ")\n",
    "\n",
    "def fetch_naver_news(query, start_date, end_date):\n",
    "    \"\"\"Selenium을 사용하여 네이버 뉴스 검색 페이지 크롤링 (무한 스크롤)\"\"\"\n",
    "    search_url = NAVER_NEWS_URL_TEMPLATE.format(query=query, start_date=start_date, end_date=end_date)\n",
    "    driver.get(search_url)\n",
    "    time.sleep(2)  # 페이지 로딩 대기\n",
    "\n",
    "    # ✅ 무한 스크롤을 통해 뉴스 목록 로드\n",
    "    print(f\"🔍 검색 중: {query} ({start_date} ~ {end_date})\")\n",
    "    last_height = driver.execute_script(\"return document.body.scrollHeight\")\n",
    "    while True:\n",
    "        driver.find_element(By.TAG_NAME, \"body\").send_keys(Keys.END)\n",
    "        time.sleep(2)\n",
    "        new_height = driver.execute_script(\"return document.body.scrollHeight\")\n",
    "        if new_height == last_height:\n",
    "            break  \n",
    "        last_height = new_height\n",
    "\n",
    "    # ✅ BeautifulSoup으로 페이지 파싱\n",
    "    soup = BeautifulSoup(driver.page_source, \"html.parser\")\n",
    "    articles = soup.select(\"div.group_news > ul.list_news > li\")\n",
    "\n",
    "    news_list = []\n",
    "    for article in articles:\n",
    "        try:\n",
    "            title_element = article.select_one(\"a.news_tit\")\n",
    "            title = title_element.text.strip() if title_element else \"N/A\"\n",
    "            link = title_element[\"href\"] if title_element else \"N/A\"\n",
    "\n",
    "            # ✅ 날짜 가져오기 (목록에서 크롤링)\n",
    "            date_element = article.select_one(\"span.info\")\n",
    "            date_text = date_element.text.strip() if date_element else \"N/A\"\n",
    "\n",
    "            news_list.append({\"title\": title, \"link\": link, \"date\": date_text})\n",
    "\n",
    "        except Exception as e:\n",
    "            print(f\"⚠ 오류 발생 (목록 크롤링 실패): {e}\")\n",
    "\n",
    "    print(f\"✅ {len(news_list)}개의 뉴스 기사 링크 및 날짜를 수집 완료! ({start_date} ~ {end_date})\")\n",
    "    return news_list\n",
    "\n",
    "def fetch_news_content(news_list):\n",
    "    \"\"\"뉴스 기사 본문 크롤링\"\"\"\n",
    "    news_data = []\n",
    "\n",
    "    for news in tqdm(news_list, desc=\"📰 뉴스 본문 크롤링 진행\"):\n",
    "        try:\n",
    "            response = requests.get(news[\"link\"], headers=HEADERS)\n",
    "            soup = BeautifulSoup(response.text, \"html.parser\")\n",
    "\n",
    "            # ✅ 본문 크롤링 (다양한 선택자 추가)\n",
    "            content_selectors = [\n",
    "                \"div#newsct_article\", \"div#articleBodyContents\", \"div.article_view\",\n",
    "                \"div.news_end\", \"div#articeBody\", \"div.content_area\",\n",
    "                \"div#newsEndContents\", \"article\"\n",
    "            ]\n",
    "            content = \"\"\n",
    "            for selector in content_selectors:\n",
    "                content_element = soup.select(selector)\n",
    "                if content_element:\n",
    "                    content = \" \".join([p.text.strip() for p in content_element])\n",
    "                    break\n",
    "\n",
    "            # ✅ Selenium을 사용한 백업 크롤링\n",
    "            if not content.strip():\n",
    "                print(f\"⚠ 본문을 가져오지 못해 Selenium으로 재시도: {news['link']}\")\n",
    "                driver.get(news[\"link\"])\n",
    "                time.sleep(2)\n",
    "                soup = BeautifulSoup(driver.page_source, \"html.parser\")\n",
    "                content_element = soup.select_one(\"div#newsct_article\") or soup.select_one(\"article\")\n",
    "                if content_element:\n",
    "                    content = \" \".join([p.text.strip() for p in content_element])\n",
    "\n",
    "            # ✅ 데이터 저장\n",
    "            news[\"content\"] = content.strip() if content else \"N/A\"\n",
    "            news_data.append(news)\n",
    "\n",
    "            print(f\"✅ 크롤링 완료: {news['title'][:50]}...\")\n",
    "\n",
    "            time.sleep(1)\n",
    "\n",
    "        except Exception as e:\n",
    "            print(f\"⚠ 오류 발생 (뉴스 크롤링 실패): {news['link']}, 오류: {e}\")\n",
    "\n",
    "    return news_data\n",
    "\n",
    "# ✅ 날짜 범위를 3개월씩 쪼개서 크롤링 (2000개 초과 방지)\n",
    "all_news = []\n",
    "date_ranges = [\n",
    "    (\"2022.01.01\", \"2022.03.31\"), (\"2022.04.01\", \"2022.06.30\"),\n",
    "    (\"2022.07.01\", \"2022.09.30\"), (\"2022.10.01\", \"2022.12.31\"),\n",
    "    (\"2023.01.01\", \"2023.03.31\"), (\"2023.04.01\", \"2023.06.30\"),\n",
    "    (\"2023.07.01\", \"2023.09.30\"), (\"2023.10.01\", \"2023.12.31\"),\n",
    "    (\"2024.01.01\", \"2024.03.31\"), (\"2024.04.01\", \"2024.06.30\"),\n",
    "    (\"2024.07.01\", \"2024.09.30\"), (\"2024.10.01\", \"2024.12.31\")\n",
    "]\n",
    "\n",
    "for query in search_queries:\n",
    "    for start_date, end_date in date_ranges:\n",
    "        news_list = fetch_naver_news(query, start_date, end_date)\n",
    "        news_data = fetch_news_content(news_list)\n",
    "        all_news.extend(news_data)\n",
    "\n",
    "# ✅ JSON 파일로 저장\n",
    "output_file = \"naver_news.json\"\n",
    "with open(output_file, \"w\", encoding=\"utf-8\") as f:\n",
    "    json.dump(all_news, f, ensure_ascii=False, indent=4)\n",
    "\n",
    "print(f\"✅ 총 {len(all_news)}개의 뉴스 기사를 저장했습니다. (파일명: {output_file})\")\n",
    "\n",
    "# ✅ Selenium 종료\n",
    "driver.quit()\n"
   ]
  }
 ],
 "metadata": {
  "colab": {
   "provenance": []
  },
  "kernelspec": {
   "display_name": "Python 3",
   "language": "python",
   "name": "python3"
  },
  "language_info": {
   "codemirror_mode": {
    "name": "ipython",
    "version": 3
   },
   "file_extension": ".py",
   "mimetype": "text/x-python",
   "name": "python",
   "nbconvert_exporter": "python",
   "pygments_lexer": "ipython3",
   "version": "3.12.3"
  }
 },
 "nbformat": 4,
 "nbformat_minor": 4
}
