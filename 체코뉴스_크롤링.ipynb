{
 "cells": [
  {
   "cell_type": "code",
   "execution_count": 3,
   "metadata": {},
   "outputs": [
    {
     "name": "stdout",
     "output_type": "stream",
     "text": [
      "📅 2022-01-01 ~ 2022-03-31 기간 크롤링 시작\n",
      "✅ 0개의 기사 링크 수집 완료 (페이지 1)\n"
     ]
    },
    {
     "name": "stderr",
     "output_type": "stream",
     "text": [
      "📰 뉴스 본문 크롤링 진행: 0it [00:00, ?it/s]"
     ]
    },
    {
     "name": "stdout",
     "output_type": "stream",
     "text": [
      "📅 2022-04-01 ~ 2022-06-30 기간 크롤링 시작\n"
     ]
    },
    {
     "name": "stderr",
     "output_type": "stream",
     "text": [
      "\n"
     ]
    },
    {
     "name": "stdout",
     "output_type": "stream",
     "text": [
      "✅ 0개의 기사 링크 수집 완료 (페이지 1)\n"
     ]
    },
    {
     "name": "stderr",
     "output_type": "stream",
     "text": [
      "📰 뉴스 본문 크롤링 진행: 0it [00:00, ?it/s]"
     ]
    },
    {
     "name": "stdout",
     "output_type": "stream",
     "text": [
      "📅 2022-07-01 ~ 2022-09-30 기간 크롤링 시작\n"
     ]
    },
    {
     "name": "stderr",
     "output_type": "stream",
     "text": [
      "\n"
     ]
    },
    {
     "name": "stdout",
     "output_type": "stream",
     "text": [
      "✅ 0개의 기사 링크 수집 완료 (페이지 1)\n"
     ]
    },
    {
     "name": "stderr",
     "output_type": "stream",
     "text": [
      "📰 뉴스 본문 크롤링 진행: 0it [00:00, ?it/s]"
     ]
    },
    {
     "name": "stdout",
     "output_type": "stream",
     "text": [
      "📅 2022-10-01 ~ 2022-12-31 기간 크롤링 시작\n"
     ]
    },
    {
     "name": "stderr",
     "output_type": "stream",
     "text": [
      "\n"
     ]
    },
    {
     "name": "stdout",
     "output_type": "stream",
     "text": [
      "✅ 0개의 기사 링크 수집 완료 (페이지 1)\n"
     ]
    },
    {
     "name": "stderr",
     "output_type": "stream",
     "text": [
      "📰 뉴스 본문 크롤링 진행: 0it [00:00, ?it/s]"
     ]
    },
    {
     "name": "stdout",
     "output_type": "stream",
     "text": [
      "📅 2023-01-01 ~ 2023-03-31 기간 크롤링 시작\n"
     ]
    },
    {
     "name": "stderr",
     "output_type": "stream",
     "text": [
      "\n"
     ]
    },
    {
     "name": "stdout",
     "output_type": "stream",
     "text": [
      "✅ 0개의 기사 링크 수집 완료 (페이지 1)\n"
     ]
    },
    {
     "name": "stderr",
     "output_type": "stream",
     "text": [
      "📰 뉴스 본문 크롤링 진행: 0it [00:00, ?it/s]"
     ]
    },
    {
     "name": "stdout",
     "output_type": "stream",
     "text": [
      "📅 2023-04-01 ~ 2023-06-30 기간 크롤링 시작\n"
     ]
    },
    {
     "name": "stderr",
     "output_type": "stream",
     "text": [
      "\n"
     ]
    },
    {
     "name": "stdout",
     "output_type": "stream",
     "text": [
      "✅ 0개의 기사 링크 수집 완료 (페이지 1)\n"
     ]
    },
    {
     "name": "stderr",
     "output_type": "stream",
     "text": [
      "📰 뉴스 본문 크롤링 진행: 0it [00:00, ?it/s]"
     ]
    },
    {
     "name": "stdout",
     "output_type": "stream",
     "text": [
      "📅 2023-07-01 ~ 2023-09-30 기간 크롤링 시작\n"
     ]
    },
    {
     "name": "stderr",
     "output_type": "stream",
     "text": [
      "\n"
     ]
    },
    {
     "name": "stdout",
     "output_type": "stream",
     "text": [
      "✅ 0개의 기사 링크 수집 완료 (페이지 1)\n"
     ]
    },
    {
     "name": "stderr",
     "output_type": "stream",
     "text": [
      "📰 뉴스 본문 크롤링 진행: 0it [00:00, ?it/s]"
     ]
    },
    {
     "name": "stdout",
     "output_type": "stream",
     "text": [
      "📅 2023-10-01 ~ 2023-12-31 기간 크롤링 시작\n"
     ]
    },
    {
     "name": "stderr",
     "output_type": "stream",
     "text": [
      "\n"
     ]
    },
    {
     "name": "stdout",
     "output_type": "stream",
     "text": [
      "✅ 0개의 기사 링크 수집 완료 (페이지 1)\n"
     ]
    },
    {
     "name": "stderr",
     "output_type": "stream",
     "text": [
      "📰 뉴스 본문 크롤링 진행: 0it [00:00, ?it/s]"
     ]
    },
    {
     "name": "stdout",
     "output_type": "stream",
     "text": [
      "📅 2024-01-01 ~ 2024-03-31 기간 크롤링 시작\n"
     ]
    },
    {
     "name": "stderr",
     "output_type": "stream",
     "text": [
      "\n"
     ]
    },
    {
     "name": "stdout",
     "output_type": "stream",
     "text": [
      "✅ 0개의 기사 링크 수집 완료 (페이지 1)\n"
     ]
    },
    {
     "name": "stderr",
     "output_type": "stream",
     "text": [
      "📰 뉴스 본문 크롤링 진행: 0it [00:00, ?it/s]"
     ]
    },
    {
     "name": "stdout",
     "output_type": "stream",
     "text": [
      "📅 2024-04-01 ~ 2024-06-30 기간 크롤링 시작\n"
     ]
    },
    {
     "name": "stderr",
     "output_type": "stream",
     "text": [
      "\n"
     ]
    },
    {
     "name": "stdout",
     "output_type": "stream",
     "text": [
      "✅ 0개의 기사 링크 수집 완료 (페이지 1)\n"
     ]
    },
    {
     "name": "stderr",
     "output_type": "stream",
     "text": [
      "📰 뉴스 본문 크롤링 진행: 0it [00:00, ?it/s]"
     ]
    },
    {
     "name": "stdout",
     "output_type": "stream",
     "text": [
      "📅 2024-07-01 ~ 2024-09-30 기간 크롤링 시작\n"
     ]
    },
    {
     "name": "stderr",
     "output_type": "stream",
     "text": [
      "\n"
     ]
    },
    {
     "name": "stdout",
     "output_type": "stream",
     "text": [
      "✅ 0개의 기사 링크 수집 완료 (페이지 1)\n"
     ]
    },
    {
     "name": "stderr",
     "output_type": "stream",
     "text": [
      "📰 뉴스 본문 크롤링 진행: 0it [00:00, ?it/s]"
     ]
    },
    {
     "name": "stdout",
     "output_type": "stream",
     "text": [
      "📅 2024-10-01 ~ 2024-12-31 기간 크롤링 시작\n"
     ]
    },
    {
     "name": "stderr",
     "output_type": "stream",
     "text": [
      "\n"
     ]
    },
    {
     "name": "stdout",
     "output_type": "stream",
     "text": [
      "✅ 0개의 기사 링크 수집 완료 (페이지 1)\n"
     ]
    },
    {
     "name": "stderr",
     "output_type": "stream",
     "text": [
      "📰 뉴스 본문 크롤링 진행: 0it [00:00, ?it/s]"
     ]
    },
    {
     "name": "stdout",
     "output_type": "stream",
     "text": [
      "✅ 총 0개의 뉴스 기사를 저장했습니다. (파일명: google_news_czech.json)\n"
     ]
    },
    {
     "name": "stderr",
     "output_type": "stream",
     "text": [
      "\n"
     ]
    }
   ],
   "source": [
    "import time\n",
    "import json\n",
    "import random\n",
    "import datetime\n",
    "from bs4 import BeautifulSoup\n",
    "import requests\n",
    "from tqdm import tqdm\n",
    "\n",
    "# 🔍 체코 주요 뉴스 사이트 목록\n",
    "czech_news_sites = [\n",
    "    \"site:idnes.cz\", \"site:novinky.cz\", \"site:aktualne.cz\", \"site:lidovky.cz\",\n",
    "    \"site:seznamzpravy.cz\", \"site:ct24.ceskatelevize.cz\", \"site:hn.cz\", \"site:blesk.cz\",\n",
    "    \"site:denik.cz\", \"site:respekt.cz\", \"site:reflex.cz\", \"site:euro.cz\", \"site:e15.cz\",\n",
    "    \"site:info.cz\", \"site:tyden.cz\", \"site:echo24.cz\", \"site:forum24.cz\"\n",
    "]\n",
    "\n",
    "# 🔍 검색어 설정 (체코 뉴스 검색)\n",
    "search_query = \"Jaderná elektrárna Dukovany\"\n",
    "\n",
    "# ✅ 3개월 단위로 검색할 날짜 범위 설정 (2022.01.01 ~ 2024.12.31)\n",
    "date_ranges = [\n",
    "    (\"2022-01-01\", \"2022-03-31\"), (\"2022-04-01\", \"2022-06-30\"),\n",
    "    (\"2022-07-01\", \"2022-09-30\"), (\"2022-10-01\", \"2022-12-31\"),\n",
    "    (\"2023-01-01\", \"2023-03-31\"), (\"2023-04-01\", \"2023-06-30\"),\n",
    "    (\"2023-07-01\", \"2023-09-30\"), (\"2023-10-01\", \"2023-12-31\"),\n",
    "    (\"2024-01-01\", \"2024-03-31\"), (\"2024-04-01\", \"2024-06-30\"),\n",
    "    (\"2024-07-01\", \"2024-09-30\"), (\"2024-10-01\", \"2024-12-31\")\n",
    "]\n",
    "\n",
    "# ✅ 구글 뉴스 검색 URL 템플릿 (3개월 단위 검색)\n",
    "GOOGLE_NEWS_URL_TEMPLATE = (\n",
    "    \"https://www.google.com/search?q={query}+{sites}&hl=cs&gl=CZ&tbm=nws&tbs=cdr:1,cd_min:{start_date},cd_max:{end_date},sbd:1&start={start}\"\n",
    ")\n",
    "\n",
    "# ✅ User-Agent 설정 (랜덤 선택)\n",
    "USER_AGENTS = [\n",
    "    \"Mozilla/5.0 (Windows NT 10.0; Win64; x64) AppleWebKit/537.36 (KHTML, like Gecko) Chrome/91.0.4472.124 Safari/537.36\",\n",
    "    \"Mozilla/5.0 (Macintosh; Intel Mac OS X 10_15_7) AppleWebKit/537.36 (KHTML, like Gecko) Chrome/91.0.4472.124 Safari/537.36\",\n",
    "    \"Mozilla/5.0 (X11; Ubuntu; Linux x86_64; rv:89.0) Gecko/20100101 Firefox/89.0\",\n",
    "    \"Mozilla/5.0 (Windows NT 10.0; Win64; x64) AppleWebKit/537.36 (KHTML, like Gecko) Chrome/90.0.4430.85 Safari/537.36\"\n",
    "]\n",
    "\n",
    "def fetch_google_news(start_date, end_date):\n",
    "    \"\"\"구글 뉴스에서 특정 기간 내 체코 뉴스 사이트 기사 링크 크롤링\"\"\"\n",
    "    news_list = []\n",
    "    search_sites = \" OR \".join(czech_news_sites)\n",
    "\n",
    "    for page in range(0, 1000, 10):  # 10개씩 로드, 최대 1000개 (100페이지)\n",
    "        headers = {\"User-Agent\": random.choice(USER_AGENTS)}  # User-Agent 랜덤 변경\n",
    "        search_url = GOOGLE_NEWS_URL_TEMPLATE.format(\n",
    "            query=search_query, sites=search_sites,\n",
    "            start_date=start_date, end_date=end_date, start=page\n",
    "        )\n",
    "        \n",
    "        response = requests.get(search_url, headers=headers)\n",
    "        soup = BeautifulSoup(response.text, \"html.parser\")\n",
    "        articles = soup.select(\"div.dbsr\")  # 구글 뉴스 기사 컨테이너\n",
    "\n",
    "        for article in articles:\n",
    "            try:\n",
    "                title = article.select_one(\"div.JheGif.nDgy9d\").text.strip()\n",
    "                link = article.a[\"href\"]\n",
    "                date = article.select_one(\"span.WG9SHc span\").text.strip()\n",
    "\n",
    "                news_list.append({\n",
    "                    \"title\": title,\n",
    "                    \"link\": link,\n",
    "                    \"date\": date\n",
    "                })\n",
    "            except Exception as e:\n",
    "                print(f\"⚠ 오류 발생 (기사 링크 크롤링 실패): {e}\")\n",
    "\n",
    "        print(f\"✅ {len(news_list)}개의 기사 링크 수집 완료 (페이지 {page//10+1})\")\n",
    "\n",
    "        # 페이지에 더 이상 기사가 없으면 중단\n",
    "        if len(articles) == 0:\n",
    "            break\n",
    "\n",
    "        # 요청 간격 랜덤 설정 (3~6초)\n",
    "        time.sleep(random.uniform(3, 6))\n",
    "\n",
    "    return news_list\n",
    "\n",
    "def fetch_news_content(news_list):\n",
    "    \"\"\"기사 본문 크롤링\"\"\"\n",
    "    news_data = []\n",
    "\n",
    "    for news in tqdm(news_list, desc=\"📰 뉴스 본문 크롤링 진행\"):\n",
    "        try:\n",
    "            headers = {\"User-Agent\": random.choice(USER_AGENTS)}\n",
    "            response = requests.get(news[\"link\"], headers=headers)\n",
    "            soup = BeautifulSoup(response.text, \"html.parser\")\n",
    "\n",
    "            # ✅ 본문 크롤링 (다양한 선택자 추가)\n",
    "            content_selectors = [\"article\", \"div#newsct_article\", \"div#articleBodyContents\", \"div.article_view\"]\n",
    "            content = \"\"\n",
    "            for selector in content_selectors:\n",
    "                content_element = soup.select(selector)\n",
    "                if content_element:\n",
    "                    content = \" \".join([p.text.strip() for p in content_element])\n",
    "                    break\n",
    "\n",
    "            # ✅ 데이터 저장\n",
    "            news[\"content\"] = content.strip() if content else \"N/A\"\n",
    "            news_data.append(news)\n",
    "\n",
    "            print(f\"✅ 크롤링 완료: {news['title'][:50]}...\")\n",
    "\n",
    "            # 요청 간격 랜덤 설정 (2~5초)\n",
    "            time.sleep(random.uniform(2, 5))\n",
    "\n",
    "        except Exception as e:\n",
    "            print(f\"⚠ 오류 발생 (뉴스 크롤링 실패): {news['link']}, 오류: {e}\")\n",
    "\n",
    "    return news_data\n",
    "\n",
    "# ✅ 구글 뉴스 크롤링 실행 (3개월 단위로 반복)\n",
    "all_news = []\n",
    "for start_date, end_date in date_ranges:\n",
    "    print(f\"📅 {start_date} ~ {end_date} 기간 크롤링 시작\")\n",
    "    news_list = fetch_google_news(start_date, end_date)\n",
    "    news_data = fetch_news_content(news_list)\n",
    "    all_news.extend(news_data)\n",
    "\n",
    "# ✅ JSON 파일로 저장\n",
    "output_file = \"google_news_czech.json\"\n",
    "with open(output_file, \"w\", encoding=\"utf-8\") as f:\n",
    "    json.dump(all_news, f, ensure_ascii=False, indent=4)\n",
    "\n",
    "print(f\"✅ 총 {len(all_news)}개의 뉴스 기사를 저장했습니다. (파일명: {output_file})\")\n"
   ]
  }
 ],
 "metadata": {
  "kernelspec": {
   "display_name": "Python 3",
   "language": "python",
   "name": "python3"
  },
  "language_info": {
   "codemirror_mode": {
    "name": "ipython",
    "version": 3
   },
   "file_extension": ".py",
   "mimetype": "text/x-python",
   "name": "python",
   "nbconvert_exporter": "python",
   "pygments_lexer": "ipython3",
   "version": "3.12.3"
  }
 },
 "nbformat": 4,
 "nbformat_minor": 2
}
